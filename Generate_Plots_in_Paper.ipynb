{
 "cells": [
  {
   "cell_type": "markdown",
   "metadata": {},
   "source": [
    "# Generate Plots\n",
    "\n",
    "The purpose of this notebook is to have a single script that can be run to generate all of the figures used in the paper. Exceptions to this would be those plots created in other software."
   ]
  },
  {
   "cell_type": "code",
   "execution_count": null,
   "metadata": {},
   "outputs": [],
   "source": [
    "using PorousMaterials\n",
    "using PyPlot\n",
    "using PyCall\n",
    "using JLD2\n",
    "using DataFrames"
   ]
  }
 ],
 "metadata": {
  "kernelspec": {
   "display_name": "Julia 1.5.1",
   "language": "julia",
   "name": "julia-1.5"
  },
  "language_info": {
   "file_extension": ".jl",
   "mimetype": "application/julia",
   "name": "julia",
   "version": "1.5.1"
  }
 },
 "nbformat": 4,
 "nbformat_minor": 4
}
