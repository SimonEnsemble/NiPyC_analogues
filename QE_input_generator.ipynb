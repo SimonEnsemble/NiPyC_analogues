{
 "cells": [
  {
   "cell_type": "markdown",
   "metadata": {},
   "source": [
    "# QE input script generator\n",
    "This will automate the process of writing input scripts for Quantum Espresso to do the structural optimization of functionalized mofs using the pw.x (plane wave) package and pseudopotential files. \n",
    "\n",
    "**NOTE:** many default arguements will be preset."
   ]
  },
  {
   "cell_type": "code",
   "execution_count": 1,
   "metadata": {},
   "outputs": [],
   "source": [
    "using PorousMaterials\n",
    "using Printf"
   ]
  },
  {
   "cell_type": "code",
   "execution_count": 2,
   "metadata": {},
   "outputs": [
    {
     "data": {
      "text/plain": [
       "\"/home/ng/Documents/Graduate_Research/Cory_Simon/DTRA/NiPyC2\""
      ]
     },
     "execution_count": 2,
     "metadata": {},
     "output_type": "execute_result"
    }
   ],
   "source": [
    "@eval PorousMaterials PATH_TO_CRYSTALS = joinpath(pwd(),\"NiPyC2_relax\") \n",
    "PATH_TO_PSEUDOPOTENTIALS = joinpath(pwd(),\"data\", \"pseudo\")"
   ]
  },
  {
   "cell_type": "code",
   "execution_count": null,
   "metadata": {},
   "outputs": [],
   "source": [
    "# The name of the fragment\n",
    "# file must be a .xyz file located in ./fragments/\n",
    "# The atom species that is bonded to the :C_aro_R atom on the ring segment of the Fragment\n",
    "fragment_list = [\"Br\", \"CH2-CH2-CH3\", \"CH2-CH3\", \"CH3\", \n",
    "                \"Cl\", \"C-N\", \"F\", \"NH2\", \"N-NH\", \n",
    "                \"O-CH2-CH2-CH3\", \"O-CH2-CH3\", \"O-CH3\", \"OH\"]\n",
    "\n",
    "# The type of Arene Substitution (\"ortho\", \"meta\", \"all\") \n",
    "# TODO: \"all\" not yet implimented\n",
    "substitution_types = [\"ortho\", \"meta\"]"
   ]
  },
  {
   "cell_type": "code",
   "execution_count": null,
   "metadata": {},
   "outputs": [],
   "source": [
    "base_name = \"NiPyC2_relax\"\n",
    "xtals = Dict{String, Crystal}()\n",
    "for frag in fragment_list\n",
    "    for sub_typ in substitution_type\n",
    "        xtal_name = base_name * \"_\" * sub_typ * \"_functionalized_\" * frag\n",
    "        xtals[xtal_name] = Crystal(xtal_name * \".cif\")\n",
    "    end\n",
    "end"
   ]
  },
  {
   "cell_type": "code",
   "execution_count": 3,
   "metadata": {},
   "outputs": [
    {
     "data": {
      "text/plain": [
       "Dict{Symbol,String} with 0 entries"
      ]
     },
     "execution_count": 3,
     "metadata": {},
     "output_type": "execute_result"
    }
   ],
   "source": [
    "# populate dictionary with names of pseudopotential files\n",
    "# note: may need to ignore case sensitivity?\n",
    "# ex: atomic_psp[:Ni] = [\"ni_pbesol_v1.4.uspp.F.UPF\"]\n",
    "\n",
    "ps_lib = Dict{Symbol, String}()\n",
    "ps_lib"
   ]
  },
  {
   "cell_type": "code",
   "execution_count": 4,
   "metadata": {},
   "outputs": [],
   "source": [
    "# create a dictionary consisting of input arguements\n",
    "# needed for the script and set default values\n",
    "# then populate with values specific to each material"
   ]
  },
  {
   "cell_type": "code",
   "execution_count": 5,
   "metadata": {},
   "outputs": [],
   "source": [
    "# import the functionalized mofs "
   ]
  },
  {
   "cell_type": "code",
   "execution_count": 6,
   "metadata": {},
   "outputs": [
    {
     "ename": "UndefVarError",
     "evalue": "UndefVarError: crystal not defined",
     "output_type": "error",
     "traceback": [
      "UndefVarError: crystal not defined",
      "",
      "Stacktrace:",
      " [1] top-level scope at In[6]:1"
     ]
    }
   ],
   "source": [
    "filename = \"pw.\" * crystal.name * \".in\""
   ]
  },
  {
   "cell_type": "code",
   "execution_count": 7,
   "metadata": {},
   "outputs": [
    {
     "ename": "UndefVarError",
     "evalue": "UndefVarError: filename not defined",
     "output_type": "error",
     "traceback": [
      "UndefVarError: filename not defined",
      "",
      "Stacktrace:",
      " [1] top-level scope at In[7]:1"
     ]
    }
   ],
   "source": [
    "f = open(filename, \"w\")\n",
    "# @printf(f, \"%s %f\\n\", xtal.atoms.species[s], xtal.atoms.x[s, 1])"
   ]
  },
  {
   "cell_type": "code",
   "execution_count": 8,
   "metadata": {},
   "outputs": [
    {
     "ename": "LoadError",
     "evalue": "ArgumentError: @printf: wrong number of arguments (1) should be (5)",
     "output_type": "error",
     "traceback": [
      "ArgumentError: @printf: wrong number of arguments (1) should be (5)",
      "",
      "Stacktrace:",
      " [1] _printf(::String, ::Expr, ::String, ::Tuple{Symbol}) at ./printf.jl:1202",
      " [2] @printf(::LineNumberNode, ::Module, ::Vararg{Any,N} where N) at /buildworker/worker/package_linux64/build/usr/share/julia/stdlib/v1.3/Printf/src/Printf.jl:43"
     ]
    }
   ],
   "source": [
    "# use %s for strings, \n",
    "\n",
    "@printf(f,\n",
    "    \"\"\"\n",
    "    &CONTROL\n",
    "    calculation = 'relax'\n",
    "    prefix = '%s'\n",
    "    pseudo_dir = 'pseudo/'\n",
    "    ! etot_conv_thr=1.0d-6,\n",
    "    ! \n",
    "    ! wf_collect=.false.\n",
    "    /\n",
    "    &SYSTEM\n",
    "    ibrav = 0,\n",
    "    nat = %.0f,\n",
    "    ntyp = %.0f,\n",
    "    tot_charge = %f,\n",
    "    ecutwfc = %f,\n",
    "    vdw_corr='grimme-d2'\n",
    "    /\n",
    "    &ELECTRONS\n",
    "    diagonalization='david',\n",
    "    /\n",
    "    &IONS\n",
    "    ion_dynamics='bfgs',\n",
    "    /\n",
    "    &CELL\n",
    "    cell_dynamics='bfgs'\n",
    "    cell_dofree='xyz'\n",
    "    /\n",
    "    ATOMIC_SPECIES\n",
    "    #symbol #atomic_mass #pseudo\n",
    "    CELL_PARAMETERS (angstrom)\n",
    "    # matrix\n",
    "    ATOMIC_POSITIONS\n",
    "    #symbol #x #y #z\n",
    "    K_POINTS {gamma}\n",
    "    \"\"\",\n",
    "    args)"
   ]
  },
  {
   "cell_type": "code",
   "execution_count": 9,
   "metadata": {},
   "outputs": [
    {
     "ename": "UndefVarError",
     "evalue": "UndefVarError: f not defined",
     "output_type": "error",
     "traceback": [
      "UndefVarError: f not defined",
      "",
      "Stacktrace:",
      " [1] top-level scope at In[9]:1"
     ]
    }
   ],
   "source": [
    "close(f)"
   ]
  },
  {
   "cell_type": "code",
   "execution_count": 10,
   "metadata": {},
   "outputs": [],
   "source": [
    "# how do I write the cell parameters and\n",
    "# atomic positions as a formatted string?"
   ]
  },
  {
   "cell_type": "code",
   "execution_count": null,
   "metadata": {},
   "outputs": [],
   "source": []
  }
 ],
 "metadata": {
  "kernelspec": {
   "display_name": "Julia 1.3.1",
   "language": "julia",
   "name": "julia-1.3"
  },
  "language_info": {
   "file_extension": ".jl",
   "mimetype": "application/julia",
   "name": "julia",
   "version": "1.3.1"
  }
 },
 "nbformat": 4,
 "nbformat_minor": 4
}
