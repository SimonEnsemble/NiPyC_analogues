{
 "cells": [
  {
   "cell_type": "markdown",
   "metadata": {},
   "source": [
    "# QE input script generator\n",
    "This will automate the process of writing input scripts for Quantum Espresso to do the structural optimization of functionalized mofs using the pw.x (plane wave) package and pseudopotential files. \n",
    "\n",
    "**NOTE:** many default arguements will be preset."
   ]
  },
  {
   "cell_type": "code",
   "execution_count": 2,
   "metadata": {},
   "outputs": [],
   "source": [
    "using PorousMaterials\n",
    "using Printf"
   ]
  },
  {
   "cell_type": "code",
   "execution_count": 18,
   "metadata": {},
   "outputs": [
    {
     "data": {
      "text/plain": [
       "\"/home/cokes/DTRA/mof_construction/NiPyC2_relax\""
      ]
     },
     "execution_count": 18,
     "metadata": {},
     "output_type": "execute_result"
    }
   ],
   "source": [
    "@eval PorousMaterials PATH_TO_CRYSTALS = joinpath(pwd(), \"mof_construction\", \"NiPyC2_relax\") \n",
    "# PATH_TO_PSEUDOPOTENTIALS = joinpath(pwd(), \"data\", \"pseudo\")"
   ]
  },
  {
   "cell_type": "code",
   "execution_count": 19,
   "metadata": {},
   "outputs": [
    {
     "data": {
      "text/plain": [
       "2-element Array{String,1}:\n",
       " \"ortho\"\n",
       " \"meta\" "
      ]
     },
     "execution_count": 19,
     "metadata": {},
     "output_type": "execute_result"
    }
   ],
   "source": [
    "# The name of the fragment\n",
    "# file must be a .xyz file located in ./fragments/\n",
    "# The atom species that is bonded to the :C_aro_R atom on the ring segment of the Fragment\n",
    "fragment_list = [\"Br\", \"CH2-CH2-CH3\", \"CH2-CH3\", \"CH3\", \n",
    "                \"Cl\", \"C-N\", \"F\", \"NH2\", \"N-NH\", \n",
    "                \"O-CH2-CH2-CH3\", \"O-CH2-CH3\", \"O-CH3\", \"OH\"]\n",
    "\n",
    "# The type of Arene Substitution (\"ortho\", \"meta\", \"all\") \n",
    "# TODO: \"all\" not yet implimented\n",
    "substitution_types = [\"ortho\", \"meta\"]"
   ]
  },
  {
   "cell_type": "code",
   "execution_count": 20,
   "metadata": {},
   "outputs": [
    {
     "ename": "SystemError",
     "evalue": "SystemError: opening file \"/home/cokes/DTRA/mof_construction/NiPyC2_relax/NiPyC2_relax_ortho_functionalized_Br.cif\": No such file or directory",
     "output_type": "error",
     "traceback": [
      "SystemError: opening file \"/home/cokes/DTRA/mof_construction/NiPyC2_relax/NiPyC2_relax_ortho_functionalized_Br.cif\": No such file or directory",
      "",
      "Stacktrace:",
      " [1] #systemerror#44(::Nothing, ::typeof(systemerror), ::String, ::Bool) at ./error.jl:134",
      " [2] systemerror at ./error.jl:134 [inlined]",
      " [3] #open#512(::Bool, ::Nothing, ::Nothing, ::Nothing, ::Nothing, ::typeof(open), ::String) at ./iostream.jl:254",
      " [4] #open at ./none:0 [inlined]",
      " [5] open(::String, ::String) at ./iostream.jl:310",
      " [6] #Crystal#33(::Bool, ::Float64, ::Bool, ::Float64, ::Bool, ::Bool, ::Bool, ::Bool, ::Type{Crystal}, ::String) at /home/cokes/.julia/dev/PorousMaterials/src/crystal.jl:84",
      " [7] Crystal at /home/cokes/.julia/dev/PorousMaterials/src/crystal.jl:78 [inlined]",
      " [8] top-level scope at ./In[20]:6"
     ]
    }
   ],
   "source": [
    "base_name = \"NiPyC2_relax\"\n",
    "xtals = Dict{String, Crystal}()\n",
    "for frag in fragment_list\n",
    "    for sub_typ in substitution_types\n",
    "        xtal_name = base_name * \"_\" * sub_typ * \"_functionalized_\" * frag\n",
    "        xtals[xtal_name] = Crystal(xtal_name * \".cif\")\n",
    "    end\n",
    "end"
   ]
  },
  {
   "cell_type": "code",
   "execution_count": 6,
   "metadata": {},
   "outputs": [
    {
     "data": {
      "text/plain": [
       "Dict{Symbol,String} with 0 entries"
      ]
     },
     "execution_count": 6,
     "metadata": {},
     "output_type": "execute_result"
    }
   ],
   "source": [
    "# populate dictionary with names of pseudopotential files\n",
    "# note: may need to ignore case sensitivity?\n",
    "# ex: atomic_psp[:Ni] = [\"ni_pbesol_v1.4.uspp.F.UPF\"]\n",
    "\n",
    "ps_lib = Dict{Symbol, String}()\n",
    "ps_lib"
   ]
  },
  {
   "cell_type": "code",
   "execution_count": 7,
   "metadata": {},
   "outputs": [],
   "source": [
    "# create a dictionary consisting of input arguements\n",
    "# needed for the script and set default values\n",
    "# then populate with values specific to each material"
   ]
  },
  {
   "cell_type": "code",
   "execution_count": 29,
   "metadata": {},
   "outputs": [],
   "source": [
    "# import the functionalized mofs \n",
    "crystal = Crystal(\"NiPyC2_relax_meta_functonalized_NH2.cif\")\n",
    "strip_numbers_from_atom_labels!(crystal)"
   ]
  },
  {
   "cell_type": "code",
   "execution_count": 30,
   "metadata": {},
   "outputs": [
    {
     "data": {
      "text/plain": [
       "\"pw.NiPyC2_relax_meta_functonalized_NH2.cif.in\""
      ]
     },
     "execution_count": 30,
     "metadata": {},
     "output_type": "execute_result"
    }
   ],
   "source": [
    "filename = \"pw.\" * crystal.name * \".in\""
   ]
  },
  {
   "cell_type": "code",
   "execution_count": 32,
   "metadata": {},
   "outputs": [
    {
     "ename": "UndefVarError",
     "evalue": "UndefVarError: n_count not defined",
     "output_type": "error",
     "traceback": [
      "UndefVarError: n_count not defined",
      "",
      "Stacktrace:",
      " [1] top-level scope at ./In[32]:22"
     ]
    }
   ],
   "source": [
    "qe_input_file = open(filename, \"w\")\n",
    "\n",
    "# write &Control\n",
    "@printf(qe_input_file,\n",
    "    \"\"\"\n",
    "    &CONTROL\n",
    "    calculation = 'relax'\n",
    "    prefix = '%s'\n",
    "    pseudo_dir = 'pseudo/'\n",
    "    ! etot_conv_thr=1.0d-6,\n",
    "    ! \n",
    "    ! wf_collect=.false.\n",
    "    \"\"\",\n",
    "    crystal.name\n",
    ")\n",
    "\n",
    "# write ATOMIC_POSITIONS\n",
    "#symbol #x #y #z\n",
    "ni_count = 1\n",
    "for a = 1:crystal.atoms.n\n",
    "    if crystal.atoms.species[a] == :Ni\n",
    "        n_count += 1\n",
    "    end\n",
    "    @printf(\"%s    %f  %f  %f\\n\",\n",
    "        crystal.atoms.species[a], \n",
    "        crystal.atoms.coords.xf[1, a], \n",
    "        crystal.atoms.coords.xf[2, a], \n",
    "        crystal.atoms.coords.xf[3, a]\n",
    "    )\n",
    "end\n",
    "\n",
    "close(qe_input_file)\n",
    "\n",
    "run(`cat $filename`)"
   ]
  },
  {
   "cell_type": "code",
   "execution_count": 8,
   "metadata": {},
   "outputs": [
    {
     "ename": "LoadError",
     "evalue": "ArgumentError: @printf: wrong number of arguments (1) should be (5)",
     "output_type": "error",
     "traceback": [
      "ArgumentError: @printf: wrong number of arguments (1) should be (5)",
      "",
      "Stacktrace:",
      " [1] _printf(::String, ::Expr, ::String, ::Tuple{Symbol}) at ./printf.jl:1202",
      " [2] @printf(::LineNumberNode, ::Module, ::Vararg{Any,N} where N) at /buildworker/worker/package_linux64/build/usr/share/julia/stdlib/v1.3/Printf/src/Printf.jl:43"
     ]
    }
   ],
   "source": [
    "# use %s for strings, \n",
    "\n",
    "@printf(f,\n",
    "    \"\"\"\n",
    "    &CONTROL\n",
    "    calculation = 'relax'\n",
    "    prefix = '%s'\n",
    "    pseudo_dir = 'pseudo/'\n",
    "    ! etot_conv_thr=1.0d-6,\n",
    "    ! \n",
    "    ! wf_collect=.false.\n",
    "    /\n",
    "    &SYSTEM\n",
    "    ibrav = 0,\n",
    "    nat = %.0f,\n",
    "    ntyp = %.0f,\n",
    "    tot_charge = %f,\n",
    "    ecutwfc = %f,\n",
    "    vdw_corr='grimme-d2'\n",
    "    /\n",
    "    &ELECTRONS\n",
    "    diagonalization='david',\n",
    "    /\n",
    "    &IONS\n",
    "    ion_dynamics='bfgs',\n",
    "    /\n",
    "    &CELL\n",
    "    cell_dynamics='bfgs'\n",
    "    cell_dofree='xyz'\n",
    "    /\n",
    "    ATOMIC_SPECIES\n",
    "    #symbol #atomic_mass #pseudo\n",
    "    CELL_PARAMETERS (angstrom)\n",
    "    # matrix\n",
    "    ATOMIC_POSITIONS\n",
    "    #symbol #x #y #z\n",
    "    K_POINTS {gamma}\n",
    "    \"\"\",\n",
    "    \n",
    "    args)"
   ]
  },
  {
   "cell_type": "code",
   "execution_count": 9,
   "metadata": {},
   "outputs": [
    {
     "ename": "UndefVarError",
     "evalue": "UndefVarError: f not defined",
     "output_type": "error",
     "traceback": [
      "UndefVarError: f not defined",
      "",
      "Stacktrace:",
      " [1] top-level scope at In[9]:1"
     ]
    }
   ],
   "source": [
    "close(f)"
   ]
  },
  {
   "cell_type": "code",
   "execution_count": 10,
   "metadata": {},
   "outputs": [],
   "source": [
    "# how do I write the cell parameters and\n",
    "# atomic positions as a formatted string?"
   ]
  },
  {
   "cell_type": "code",
   "execution_count": null,
   "metadata": {},
   "outputs": [],
   "source": []
  }
 ],
 "metadata": {
  "kernelspec": {
   "display_name": "Julia 1.3.1",
   "language": "julia",
   "name": "julia-1.3"
  },
  "language_info": {
   "file_extension": ".jl",
   "mimetype": "application/julia",
   "name": "julia",
   "version": "1.3.1"
  }
 },
 "nbformat": 4,
 "nbformat_minor": 4
}
