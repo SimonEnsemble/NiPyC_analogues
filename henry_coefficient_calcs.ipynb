{
 "cells": [
  {
   "cell_type": "markdown",
   "metadata": {},
   "source": [
    "# Henry coefficient Calculations"
   ]
  },
  {
   "cell_type": "code",
   "execution_count": null,
   "metadata": {},
   "outputs": [],
   "source": [
    "using PorousMaterials\n",
    "# using JLD2"
   ]
  },
  {
   "cell_type": "code",
   "execution_count": null,
   "metadata": {},
   "outputs": [],
   "source": [
    "# ? henry_result_savename"
   ]
  },
  {
   "cell_type": "code",
   "execution_count": null,
   "metadata": {},
   "outputs": [],
   "source": [
    "@eval PorousMaterials PATH_TO_CRYSTALS=joinpath(pwd(), \"structural_relaxation\", \"post-relaxation_cifs\")"
   ]
  },
  {
   "cell_type": "code",
   "execution_count": null,
   "metadata": {},
   "outputs": [],
   "source": [
    "# # whtat properties do you want to put into the .csv?\n",
    "# props_we_want = [\"pressure (bar)\", \"fugacity (bar)\", \"⟨N⟩ (mmol/g)\"]\n",
    "\n",
    "# isotherm filename values\n",
    "adsorbate = [\"Ar\", \"Kr\", \"Xe\"] # : Xe, :Kr, :Ar\n",
    "\n",
    "temp = 298.0 # units: K\n",
    "\n",
    "ljff = LJForceField(\"UFF\"); # \"UFF\" or \"Dreiding\"\n",
    "\n",
    "functional = [\"pbesol\", \"vdw-df2\"]\n",
    "\n",
    "calculation = \"relax\"\n",
    "\n",
    "# initialize results dictionary\n",
    "henry_results = Dict{String, Dict{String, Any}}"
   ]
  },
  {
   "cell_type": "code",
   "execution_count": null,
   "metadata": {},
   "outputs": [],
   "source": [
    "xtal_names = [\n",
    "\"NiPyC2_relax_sc211_meta_functionalized_Br_pbesol_relax.cif\",\n",
    "\"NiPyC2_relax_sc211_meta_functionalized_Br_vdw-df2_relax.cif\",\n",
    "\"NiPyC2_relax_sc211_meta_functionalized_C-C_pbesol_relax.cif\",\n",
    "\"NiPyC2_relax_sc211_meta_functionalized_C-C_vdw-df2_relax.cif\",\n",
    "\"NiPyC2_relax_sc211_meta_functionalized_CH3_pbesol_relax.cif\",\n",
    "\"NiPyC2_relax_sc211_meta_functionalized_CH3_vdw-df2_relax.cif\",\n",
    "\"NiPyC2_relax_sc211_meta_functionalized_CH-O_pbesol_relax.cif\",\n",
    "\"NiPyC2_relax_sc211_meta_functionalized_CH-O_vdw-df2_relax.cif\",\n",
    "\"NiPyC2_relax_sc211_meta_functionalized_Cl_pbesol_relax.cif\",\n",
    "\"NiPyC2_relax_sc211_meta_functionalized_Cl_vdw-df2_relax.cif\",\n",
    "\"NiPyC2_relax_sc211_meta_functionalized_C-N_pbesol_relax.cif\",\n",
    "\"NiPyC2_relax_sc211_meta_functionalized_C-N_vdw-df2_relax.cif\",\n",
    "\"NiPyC2_relax_sc211_meta_functionalized_F_pbesol_relax.cif\",\n",
    "\"NiPyC2_relax_sc211_meta_functionalized_F_vdw-df2_relax.cif\",\n",
    "\"NiPyC2_relax_sc211_meta_functionalized_N-C-O_pbesol_relax.cif\",\n",
    "\"NiPyC2_relax_sc211_meta_functionalized_N-C-O_vdw-df2_relax.cif\",\n",
    "\"NiPyC2_relax_sc211_meta_functionalized_NH2_pbesol_relax.cif\",\n",
    "\"NiPyC2_relax_sc211_meta_functionalized_NH2_vdw-df2_relax.cif\",\n",
    "\"NiPyC2_relax_sc211_meta_functionalized_N-NH_pbesol_relax.cif\",\n",
    "\"NiPyC2_relax_sc211_meta_functionalized_N-NH_vdw-df2_relax.cif\",\n",
    "\"NiPyC2_relax_sc211_meta_functionalized_O-C-N_pbesol_relax.cif\",\n",
    "\"NiPyC2_relax_sc211_meta_functionalized_OH_pbesol_relax.cif\",\n",
    "\"NiPyC2_relax_sc211_meta_functionalized_OH_vdw-df2_relax.cif\",\n",
    "\"NiPyC2_relax_sc211_meta_functionalized_O-OH_pbesol_relax.cif\",\n",
    "\"NiPyC2_relax_sc211_ortho_functionalized_Br_pbesol_relax.cif\",\n",
    "\"NiPyC2_relax_sc211_ortho_functionalized_C-C_pbesol_relax.cif\",\n",
    "\"NiPyC2_relax_sc211_ortho_functionalized_C-C_vdw-df2_relax.cif\",\n",
    "\"NiPyC2_relax_sc211_ortho_functionalized_CH3_pbesol_relax.cif\",\n",
    "\"NiPyC2_relax_sc211_ortho_functionalized_CH3_vdw-df2_relax.cif\",\n",
    "\"NiPyC2_relax_sc211_ortho_functionalized_Cl_pbesol_relax.cif\",\n",
    "\"NiPyC2_relax_sc211_ortho_functionalized_C-N_vdw-df2_relax.cif\",\n",
    "\"NiPyC2_relax_sc211_ortho_functionalized_F_pbesol_relax.cif\",\n",
    "\"NiPyC2_relax_sc211_ortho_functionalized_N-C-O_pbesol_relax.cif\",\n",
    "\"NiPyC2_relax_sc211_ortho_functionalized_NH2_pbesol_relax.cif\",\n",
    "\"NiPyC2_relax_sc211_ortho_functionalized_NH2_vdw-df2_relax.cif\",\n",
    "\"NiPyC2_relax_sc211_ortho_functionalized_OH_pbesol_relax.cif\",\n",
    "\"NiPyC2_relax_sc211_ortho_functionalized_O-OH_pbesol_relax.cif\"\n",
    "]"
   ]
  },
  {
   "cell_type": "code",
   "execution_count": null,
   "metadata": {},
   "outputs": [],
   "source": [
    "# # The name of the fragment\n",
    "# # file must be a .xyz file located in ./fragments/\n",
    "# # The atom species that is bonded to the\n",
    "# # :C_aro_R atom on the ring segment of the Fragment\n",
    "# fragment_list = [\n",
    "#     \"Br\",\n",
    "# #     \"C-3CH3\",\n",
    "#     \"C-C\",\n",
    "# #     \"CH2-CH2-CH3\",\n",
    "# #     \"CH2-CH3\",\n",
    "# #     \"CH2-NH2\",\n",
    "#     \"CH3\",\n",
    "# #     \"CH-CH2\",\n",
    "#     \"CH-O\",\n",
    "# #     \"CH-S\",\n",
    "#     \"Cl\",\n",
    "#     \"C-N\",\n",
    "#     \"F\",\n",
    "# #     \"N-2CH3\",\n",
    "#     \"N-C-O\",\n",
    "#     \"NH2\",\n",
    "#     \"N-NH\",\n",
    "# #     \"O-CH2-CH2-CH3\",\n",
    "# #     \"O-CH2-CH3\",\n",
    "# #     \"O-CH3\",\n",
    "# #     \"O-C-N\",\n",
    "#     \"OH\"\n",
    "# #     \"O-OH\",\n",
    "# #     \"P-2CH3\",\n",
    "# #     \"PH2\",\n",
    "# #     \"S-CH3\",\n",
    "# #     \"SH\"\n",
    "# ]\n",
    "\n",
    "\n",
    "# fragments_with_overlap = [\"C-3CH3\", \"CH2-CH2-CH3\", \"CH2-CH3\",\"CH2-NH2\",\n",
    "#                           \"CH-CH2\", \"CH-S\", \"N-2CH3\", \"O-CH2-CH2-CH3\",\n",
    "#                           \"O-CH3\", \"O-CH2-CH3\", \"P-2CH3\", \"PH2\", \n",
    "#                           \"S-CH3\", \"SH\"]\n",
    "\n",
    "# # The type of Arene Substitution (\"ortho\", \"meta\", \"all\") \n",
    "# # TODO: \"all\" not yet implimented\n",
    "# substitution_types = [\"meta\", \"ortho\"]  "
   ]
  },
  {
   "cell_type": "code",
   "execution_count": null,
   "metadata": {},
   "outputs": [],
   "source": [
    "# #####\n",
    "# # flag to determine whether xtals are going though a second stage of relaxation\n",
    "# #####\n",
    "# second_round = false\n",
    "\n",
    "# for sub_type in substitution_types\n",
    "#     for fragment_name in fragment_list\n",
    "#         ####\n",
    "#         # set flag for overlaping atoms\n",
    "#         ####\n",
    "#         has_overlap = false\n",
    "#         if (fragment_name in fragments_with_overlap && !second_round)\n",
    "#             # pass flag for freezing parent atoms\n",
    "#             has_overlap=true \n",
    "#             # indicate special case in filename\n",
    "#             crystal_name = \"NiPyC2_relax_sc211_\" * sub_type * \"_functionalized_\" *\n",
    "#                             fragment_name * \"_\" * functional * \"_\" * \n",
    "#                             calculation * \"_frozen_parent_atoms_Round2.cif\"\n",
    "\n",
    "#         elseif (fragment_name in fragments_with_overlap && second_round)\n",
    "#             ####\n",
    "#             # Special Treatment for xtals going through 2nd round of relaxation ###\n",
    "#             ####\n",
    "#             crystal_name = \"NiPyC2_relax_sc211_\" * sub_type * \"_functionalized_\" *\n",
    "#                             fragment_name * \"_\" * functional * \"_\" * \n",
    "#                             calculation * \"_frozen_parent_atoms.cif\"             \n",
    "#         else\n",
    "#             # determine name of crystal using rules from MOFun.jl\n",
    "#             crystal_name = \"NiPyC2_relax_sc211_\" * sub_type * \"_functionalized_\" * \n",
    "#                                 fragment_name * \"_\" * functional * \"_\" * calculation * \".cif\"\n",
    "#         end\n",
    "#         # read in the crystal\n",
    "#         xtals[k] = Crystal(crystal_name)\n",
    "#         strip_numbers_from_atom_labels!(xtals[k])\n",
    "#         k += 1 # increase counter\n",
    "#     end\n",
    "# end"
   ]
  },
  {
   "cell_type": "code",
   "execution_count": null,
   "metadata": {},
   "outputs": [],
   "source": [
    "# henry_result = henry_coefficient(xtal, mol, temp, ljff;\n",
    "#                                  insertions_per_volume=500)"
   ]
  },
  {
   "cell_type": "code",
   "execution_count": null,
   "metadata": {},
   "outputs": [],
   "source": [
    "for name in xtal_names\n",
    "    xtal = Crystal(name)\n",
    "    for gas in adsorbate\n",
    "        mol = Molecule(gas)\n",
    "        filename = henry_result_savename(xtal, mol, temp, ljff, insertions_per_volume=500)\n",
    "        henry_results[gas] = load(filename) \n",
    "    end\n",
    "end"
   ]
  },
  {
   "cell_type": "markdown",
   "metadata": {},
   "source": [
    "## Plot Results"
   ]
  },
  {
   "cell_type": "code",
   "execution_count": null,
   "metadata": {},
   "outputs": [],
   "source": []
  }
 ],
 "metadata": {
  "kernelspec": {
   "display_name": "Julia 1.4.2",
   "language": "julia",
   "name": "julia-1.4"
  },
  "language_info": {
   "file_extension": ".jl",
   "mimetype": "application/julia",
   "name": "julia",
   "version": "1.4.2"
  }
 },
 "nbformat": 4,
 "nbformat_minor": 4
}
