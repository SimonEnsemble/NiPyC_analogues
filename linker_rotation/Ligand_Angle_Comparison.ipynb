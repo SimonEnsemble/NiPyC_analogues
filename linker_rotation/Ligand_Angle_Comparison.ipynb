{
 "cells": [
  {
   "cell_type": "markdown",
   "metadata": {},
   "source": [
    "Compare the angle of the organin ligand on:\n",
    "1. Experimental Ni(PyC)$_2$ vs PBESol relaxed Ni(PyC)$_2$ (Parent MOFs)\n",
    "2. PBESol relaxed Ni(PyC)$_2$ parent vs functionalized Ni(PyC)$_2$ analogs"
   ]
  },
  {
   "cell_type": "code",
   "execution_count": 1,
   "metadata": {},
   "outputs": [
    {
     "data": {
      "text/plain": [
       "\"/home/ng/DTRA/linker_rotation\""
      ]
     },
     "execution_count": 1,
     "metadata": {},
     "output_type": "execute_result"
    }
   ],
   "source": [
    "using PorousMaterials\n",
    "@eval PorousMaterials PATH_TO_CRYSTALS=joinpath(pwd())"
   ]
  },
  {
   "cell_type": "code",
   "execution_count": 2,
   "metadata": {},
   "outputs": [
    {
     "data": {
      "text/plain": [
       "4-element Array{Tuple{Int64,Int64,Int64},1}:\n",
       " (2, 2, 2)\n",
       " (2, 2, 2)\n",
       " (1, 2, 2)\n",
       " (1, 2, 2)"
      ]
     },
     "execution_count": 2,
     "metadata": {},
     "output_type": "execute_result"
    }
   ],
   "source": [
    "xtal_names = [\"NiPyC2_experiment.cif\", \n",
    "              \"NiPyC2_relax.cif\",\n",
    "              \"NiPyC2_relax_sc211_meta_functionalized_CH3_pbesol_relax.cif\", \n",
    "              \"NiPyC2_relax_sc211_meta_functionalized_NH2_pbesol_relax.cif\"]\n",
    "\n",
    "reps = [(2,2,2), (2,2,2), (1,2,2), (1,2,2)]\n",
    "# reps = [(2,1,1), (2,1,1), (1,1,1), (1,1,1)]"
   ]
  },
  {
   "cell_type": "code",
   "execution_count": 3,
   "metadata": {},
   "outputs": [
    {
     "data": {
      "text/plain": [
       "7-element Array{BondingRule,1}:\n",
       " BondingRule(:H, :*, 0.4, 1.2)\n",
       " BondingRule(:N, :Ni, 0.4, 2.5)\n",
       " BondingRule(:O, :Ni, 0.4, 2.5)\n",
       " BondingRule(:Ca, :O, 0.4, 2.5)\n",
       " BondingRule(:Zn, :O, 0.4, 2.5)\n",
       " BondingRule(:Br, :*, 0.4, 2.5)\n",
       " BondingRule(:*, :*, 0.4, 1.9)"
      ]
     },
     "execution_count": 3,
     "metadata": {},
     "output_type": "execute_result"
    }
   ],
   "source": [
    "bonding_rules = [BondingRule(:H, :*, 0.4, 1.2),\n",
    "                 BondingRule(:N, :Ni, 0.4, 2.5),\n",
    "                 BondingRule(:O, :Ni, 0.4, 2.5),\n",
    "                 BondingRule(:Ca, :O, 0.4, 2.5),\n",
    "                 BondingRule(:Zn, :O, 0.4, 2.5),\n",
    "                 BondingRule(:Br, :*, 0.4, 2.5),\n",
    "                 BondingRule(:*, :*, 0.4, 1.9)]"
   ]
  },
  {
   "cell_type": "code",
   "execution_count": 4,
   "metadata": {},
   "outputs": [
    {
     "name": "stderr",
     "output_type": "stream",
     "text": [
      "┌ Info: Crystal NiPyC2_experiment.cif has Pn space group. I am converting it to P1 symmetry.\n",
      "│         To afrain from this, pass `convert_to_p1=false` to the `Crystal` constructor.\n",
      "└ @ PorousMaterials /home/ng/.julia/dev/PorousMaterials/src/crystal.jl:426\n"
     ]
    },
    {
     "name": "stdout",
     "output_type": "stream",
     "text": [
      "Saving bond information for crystal NiPyC2_experiment.cif to /home/ng/DTRA/linker_rotation/NiPyC2_experiment_bonds.vtk.\n",
      "See NiPyC2_experiment.vtk\n",
      "Saving bond information for crystal NiPyC2_relax.cif to /home/ng/DTRA/linker_rotation/NiPyC2_relax_bonds.vtk.\n",
      "See NiPyC2_relax.vtk\n",
      "Saving bond information for crystal NiPyC2_relax_sc211_meta_functionalized_CH3_pbesol_relax.cif to /home/ng/DTRA/linker_rotation/NiPyC2_relax_sc211_meta_functionalized_CH3_pbesol_relax_bonds.vtk.\n",
      "See NiPyC2_relax_sc211_meta_functionalized_CH3_pbesol_relax.vtk\n",
      "Saving bond information for crystal NiPyC2_relax_sc211_meta_functionalized_NH2_pbesol_relax.cif to /home/ng/DTRA/linker_rotation/NiPyC2_relax_sc211_meta_functionalized_NH2_pbesol_relax_bonds.vtk.\n",
      "See NiPyC2_relax_sc211_meta_functionalized_NH2_pbesol_relax.vtk\n"
     ]
    }
   ],
   "source": [
    "for (i, mof) in enumerate(xtal_names)\n",
    "    xtal = Crystal(mof)\n",
    "    rep_xtal = replicate(xtal, reps[i])\n",
    "    strip_numbers_from_atom_labels!(rep_xtal)\n",
    "    infer_bonds!(rep_xtal, false, bonding_rules)\n",
    "    \n",
    "#     println(rep_xtal.name)\n",
    "    filename = split(rep_xtal.name, \".\")[1]\n",
    "    write_xyz(rep_xtal)\n",
    "    write_bond_information(rep_xtal, filename * \"_bonds\")\n",
    "    write_vtk(rep_xtal)\n",
    "end"
   ]
  }
 ],
 "metadata": {
  "kernelspec": {
   "display_name": "Julia 1.5.1",
   "language": "julia",
   "name": "julia-1.5"
  },
  "language_info": {
   "file_extension": ".jl",
   "mimetype": "application/julia",
   "name": "julia",
   "version": "1.5.1"
  }
 },
 "nbformat": 4,
 "nbformat_minor": 4
}
