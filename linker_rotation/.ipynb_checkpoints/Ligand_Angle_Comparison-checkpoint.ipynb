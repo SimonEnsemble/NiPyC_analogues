{
 "cells": [
  {
   "cell_type": "markdown",
   "metadata": {},
   "source": [
    "Compare the angle of the organic ligand on:\n",
    "1. Experimental Ni(PyC)$_2$ vs PBESol relaxed Ni(PyC)$_2$ (Parent MOFs)\n",
    "2. PBESol relaxed Ni(PyC)$_2$ parent vs functionalized Ni(PyC)$_2$ analogs"
   ]
  },
  {
   "cell_type": "markdown",
   "metadata": {},
   "source": [
    "### Method\n",
    "\n",
    "- attach image... CHECK OUT IPYNB in depreciated folder\n",
    "\n",
    "1. Locate the Nitrogen atom coordinated to the Nickle \n",
    "2. Find it's neighboring Carbon atoms (i.e. the two ortho carbons)\n",
    "3. Translate these three atoms to such that the N is at the origin\n",
    "    - *O'* = *O_box* - *r_N*\n",
    "4. The N-C vectors (x_1, x_2) define the plane of the aromatic ring\n",
    "5. Take the Cross Product to get the vector normal to the plane of the ring\n",
    "  *n* = cross(*x_1*, *x_2*)\n",
    "6. Apply steps 1-5 to the corresponding functionalized ring\n",
    "    - n' = cross(x'_1, x'_2)\n",
    "note: both *n* and *n'* will be located at the origin *O'*  \n",
    "7. To find the angle of rotation between n and n' we use the dot product definition\n",
    "    - dot(n, n') = |n||n'|cos(theta) => theta = arccos(dot(n, n') / (|n||n'|))"
   ]
  },
  {
   "cell_type": "code",
   "execution_count": null,
   "metadata": {},
   "outputs": [],
   "source": [
    "using PorousMaterials # I can probably use Xtals.jl (and maybe MOFun.jl?)\n",
    "@eval PorousMaterials PATH_TO_CRYSTALS=joinpath(pwd())"
   ]
  },
  {
   "cell_type": "code",
   "execution_count": 5,
   "metadata": {},
   "outputs": [
    {
     "name": "stderr",
     "output_type": "stream",
     "text": [
      "┌ Info: Crystal NiPyC2_experiment.cif has Pn space group. I am converting it to P1 symmetry.\n",
      "│         To afrain from this, pass `convert_to_p1=false` to the `Crystal` constructor.\n",
      "└ @ PorousMaterials /home/ng/.julia/dev/PorousMaterials/src/crystal.jl:426\n"
     ]
    },
    {
     "data": {
      "text/plain": [
       "Name: NiPyC2_experiment.cif\n",
       "Bravais unit cell of a crystal.\n",
       "\tUnit cell angles α = 90.000000 deg. β = 91.269000 deg. γ = 90.000000 deg.\n",
       "\tUnit cell dimensions a = 6.252800 Å. b = 12.523400 Å, c = 10.276800 Å\n",
       "\tVolume of unit cell: 804.540972 Å³\n",
       "\n",
       "\t# atoms = 54\n",
       "\t# charges = 0\n",
       "\tchemical formula: Dict(:N => 2, :H => 8, :Ni => 1, :O => 4, :C => 12)\n",
       "\tspace Group: P1\n",
       "\tsymmetry Operations:\n",
       "\t\t'x, y, z'\n"
      ]
     },
     "execution_count": 5,
     "metadata": {},
     "output_type": "execute_result"
    }
   ],
   "source": [
    "xtal_names = [\"NiPyC2_experiment.cif\", \n",
    "              \"NiPyC2_relax.cif\",\n",
    "              \"NiPyC2_relax_sc211_ortho_functionalized_NH2_pbesol_relax.cif\", \n",
    "              \"NiPyC2_relax_sc211_meta_functionalized_NH2_pbesol_relax.cif\"]\n",
    "\n",
    "xtals = Crystal.(xtal_names)\n",
    "\n",
    "strip_numbers_from_atom_labels!.(xtals)\n",
    "\n",
    "# make xtals all the same size\n",
    "reps = [(2,1,1), (2,1,1), (1,1,1), (1,1,1)]\n",
    "\n",
    "# define the bonding rules (useful for printing bonding graph)\n",
    "bonding_rules = [BondingRule(:H, :*, 0.4, 1.2),\n",
    "                 BondingRule(:N, :Ni, 0.4, 2.5),\n",
    "                 BondingRule(:O, :Ni, 0.4, 2.5),\n",
    "                 BondingRule(:Ca, :O, 0.4, 2.5),\n",
    "                 BondingRule(:Zn, :O, 0.4, 2.5),\n",
    "                 BondingRule(:Br, :*, 0.4, 2.5),\n",
    "                 BondingRule(:*, :*, 0.4, 1.9)]"
   ]
  },
  {
   "cell_type": "markdown",
   "metadata": {},
   "source": [
    "### Visualization"
   ]
  },
  {
   "cell_type": "code",
   "execution_count": 2,
   "metadata": {},
   "outputs": [
    {
     "data": {
      "text/plain": [
       "4-element Array{Tuple{Int64,Int64,Int64},1}:\n",
       " (2, 1, 1)\n",
       " (2, 1, 1)\n",
       " (1, 1, 1)\n",
       " (1, 1, 1)"
      ]
     },
     "execution_count": 2,
     "metadata": {},
     "output_type": "execute_result"
    }
   ],
   "source": [
    "write_files = false # flag for printing files used in viz\n",
    "\n",
    "if write_files\n",
    "    for (i, mof) in enumerate(xtals)\n",
    "        rep_xtal = replicate(mof, reps[i])\n",
    "        strip_numbers_from_atom_labels!(rep_xtal)\n",
    "        infer_bonds!(rep_xtal, false, bonding_rules)\n",
    "\n",
    "        filename = split(rep_xtal.name, \".\")[1]\n",
    "        write_xyz(rep_xtal)\n",
    "        write_bond_information(rep_xtal, filename * \"_bonds\")\n",
    "        write_vtk(rep_xtal)\n",
    "    end\n",
    "end"
   ]
  },
  {
   "cell_type": "code",
   "execution_count": null,
   "metadata": {},
   "outputs": [],
   "source": []
  }
 ],
 "metadata": {
  "kernelspec": {
   "display_name": "Julia 1.6.0",
   "language": "julia",
   "name": "julia-1.6"
  },
  "language_info": {
   "file_extension": ".jl",
   "mimetype": "application/julia",
   "name": "julia",
   "version": "1.6.0"
  }
 },
 "nbformat": 4,
 "nbformat_minor": 4
}
