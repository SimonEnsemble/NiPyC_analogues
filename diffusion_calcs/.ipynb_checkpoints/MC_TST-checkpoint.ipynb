{
 "cells": [
  {
   "cell_type": "markdown",
   "id": "2822d9a3",
   "metadata": {},
   "source": [
    "# Calculate Diffusion Coefficient\n",
    "\n",
    "The Free Energy Profile F(q), for radsorbate hopping along the reaction coordinate can be calculated by the mean energy of insertion of the (spherical) adsorbate molecule using the FF parameters in the planes orthogonal to the reaction coordinate:\n",
    "$$ F(q) = -k_BT ln\\langle e^{-\\beta \\Delta U} \\rangle_q $$\n",
    "Here the brackets denote averaging the Boltzmann factor ocer the square grids of resolution dx Å resolution.\n",
    "\n",
    "The 1-dim cage-to-cage hopping rate is given by: \n",
    "$$ k_{C_1 \\rightarrow C_2} = \\kappa \\sqrt{\\frac{k_B T}{2 \\pi m}} \\frac{e^{-\\beta F(q^*)}}{\\int_{cage} e^{-\\beta F(q)} \\,dq} $$\n",
    "where m is the mass of the adsorbate, q is the reaction coordinate, F is the SOMETHING Free Energy as a function of the reaction coordinate, T is the temperature (T = 298 K), and $\\kappa$ is the Bennett-Chandler dynamic correction. $\\kappa$ = 1 is a good approximatin for infinite dilution. \n",
    "The space is partitioned such that the dividing surface is perpendicular to the reactin coordinate and passes through the location of the maximum free energy barrier along the path F(q*). \n",
    "\n",
    "\n",
    "To get the self-diffusion coefficient ($D_s$) \n",
    "$$ D_s = \\frac{\\kappa}{2d} \\lambda^2 k_{C_1 \\rightarrow C_2} $$\n",
    "\n",
    "$\\lambda$ is the cage-center to cage-center lattice distance."
   ]
  },
  {
   "cell_type": "code",
   "execution_count": 1,
   "id": "c67a3d58",
   "metadata": {
    "scrolled": false
   },
   "outputs": [
    {
     "name": "stderr",
     "output_type": "stream",
     "text": [
      "┌ Warning: Error requiring `OffsetArrays` from `ArrayInterface`\n",
      "│   exception = (UndefVarError(:IdOffsetRange), Union{Ptr{Nothing}, Base.InterpreterIP}[Ptr{Nothing} @0x00007f15f5911cef, Ptr{Nothing} @0x00007f15f59a4d24, Ptr{Nothing} @0x00007f15e772fda2, Ptr{Nothing} @0x00007f15f5987769, Ptr{Nothing} @0x00007f15f59a3f15, Ptr{Nothing} @0x00007f15f59a3bce, Ptr{Nothing} @0x00007f15f59a4811, Ptr{Nothing} @0x00007f15f59a5297, Base.InterpreterIP in top-level CodeInfo for ArrayInterface at statement 11, Ptr{Nothing} @0x00007f15f59c0b31, Ptr{Nothing} @0x00007f15f59c2949, Ptr{Nothing} @0x00007f159e65b2b1, Ptr{Nothing} @0x00007f159e65b2dc, Ptr{Nothing} @0x00007f15f5987769, Ptr{Nothing} @0x00007f15f59a3f15, Ptr{Nothing} @0x00007f15f59a3bce, Ptr{Nothing} @0x00007f15f59a4811, Ptr{Nothing} @0x00007f15f59a4b90, Ptr{Nothing} @0x00007f15f59a504a, Base.InterpreterIP in MethodInstance for err(::Any, ::Module, ::String) at statement 2, Ptr{Nothing} @0x00007f159e65b227, Ptr{Nothing} @0x00007f159e65b23c, Ptr{Nothing} @0x00007f15f5987769, Ptr{Nothing} @0x00007f15f59a3f15, Ptr{Nothing} @0x00007f15f59a3bce, Ptr{Nothing} @0x00007f15f59a48a5, Ptr{Nothing} @0x00007f15f59a4b90, Ptr{Nothing} @0x00007f15f59a504a, Base.InterpreterIP in MethodInstance for withpath(::Any, ::String) at statement 10, Ptr{Nothing} @0x00007f159e65b1a3, Ptr{Nothing} @0x00007f159e65b1cc, Ptr{Nothing} @0x00007f15f5987769, Ptr{Nothing} @0x00007f15f5998546, Ptr{Nothing} @0x00007f159e65b02c, Ptr{Nothing} @0x00007f15f5987769, Ptr{Nothing} @0x00007f15f59a3f15, Ptr{Nothing} @0x00007f15f59a3bce, Ptr{Nothing} @0x00007f15f59a4811, Ptr{Nothing} @0x00007f15f59a504a, Base.InterpreterIP in MethodInstance for loadpkg(::Base.PkgId) at statement 6, Ptr{Nothing} @0x00007f15f5987769, Ptr{Nothing} @0x00007f15f5998546, Ptr{Nothing} @0x00007f159e5ce05e, Ptr{Nothing} @0x00007f159e5ccd8a, Ptr{Nothing} @0x00007f159e5cf970, Ptr{Nothing} @0x00007f159e5d1ced, Ptr{Nothing} @0x00007f159e5d2a4c, Ptr{Nothing} @0x00007f15f5987769, Ptr{Nothing} @0x00007f15f59bfcd1, Ptr{Nothing} @0x00007f15f59c1d97, Ptr{Nothing} @0x00007f15f59c0d7c, Ptr{Nothing} @0x00007f15f59c2949, Ptr{Nothing} @0x00007f159e62c6ac, Ptr{Nothing} @0x00007f159e62ca49, Ptr{Nothing} @0x00007f15f5987769, Ptr{Nothing} @0x00007f159e6295a3, Ptr{Nothing} @0x00007f15f5987769, Ptr{Nothing} @0x00007f15f5998546, Ptr{Nothing} @0x00007f159e60731e, Ptr{Nothing} @0x00007f159e60754e, Ptr{Nothing} @0x00007f159e60756c, Ptr{Nothing} @0x00007f15f5987769, Ptr{Nothing} @0x00007f15f59a8c9a, Ptr{Nothing} @0x0000000000000000])\n",
      "└ @ Requires /home/ng/.julia/packages/Requires/7Ncym/src/require.jl:49\n"
     ]
    }
   ],
   "source": [
    "using PorousMaterials\n",
    "using Statistics\n",
    "using PyPlot\n",
    "using Cubature\n",
    "using Printf "
   ]
  },
  {
   "cell_type": "code",
   "execution_count": 2,
   "id": "6ff44e7b",
   "metadata": {},
   "outputs": [
    {
     "name": "stderr",
     "output_type": "stream",
     "text": [
      "┌ Info: Crystal NiPyC2_experiment.cif has Pn space group. I am converting it to P1 symmetry.\n",
      "│         To prevent this, pass `convert_to_p1=false` to the `Crystal` constructor.\n",
      "└ @ Xtals /home/ng/.julia/packages/Xtals/DSCSR/src/crystal.jl:433\n",
      "┌ Info: Crystal Pn_Ni-PyC-NH2.cif has Pn space group. I am converting it to P1 symmetry.\n",
      "│         To prevent this, pass `convert_to_p1=false` to the `Crystal` constructor.\n",
      "└ @ Xtals /home/ng/.julia/packages/Xtals/DSCSR/src/crystal.jl:433\n"
     ]
    },
    {
     "data": {
      "text/plain": [
       "Dict{Symbol, Crystal} with 2 entries:\n",
       "  :nipyc   => Name: NiPyC2_experiment.cif…\n",
       "  :nipycnh => Name: Pn_Ni-PyC-NH2.cif…"
      ]
     },
     "execution_count": 2,
     "metadata": {},
     "output_type": "execute_result"
    }
   ],
   "source": [
    "const R = 8.31446261815324 / 1000 # Ideal Gas Constant, units: kJ/(mol-K)\n",
    "temp = 298.0 # temperature, units: K\n",
    "ljff = LJForceField(\"UFF\") # r_cut = 14.0 \\AA, mixing_rule = Lorentz-Berthelo\n",
    "\n",
    "\n",
    "adsorbates = Dict(:Xe => Dict(:molecule => Molecule(\"Xe\"),\n",
    "                              :mol_mass => 131.293 / 1000), # kg/mol\n",
    "                  :Kr => Dict(:molecule => Molecule(\"Kr\"), \n",
    "                              :mol_mass => 83.798 / 1000))  # kg/mol\n",
    "#                   :Ar => Dict(:molecule => Molecule(\"Ar\"), \n",
    "#                               :mol_wgt  => 39.948 / 1000)   # kg/mol\n",
    "\n",
    "xtals = Dict(:nipyc   => Crystal(\"NiPyC2_experiment.cif\"),\n",
    "             :nipycnh => Crystal(\"Pn_Ni-PyC-NH2.cif\"))"
   ]
  },
  {
   "cell_type": "code",
   "execution_count": 3,
   "id": "277e3887",
   "metadata": {},
   "outputs": [],
   "source": [
    "# # # Turn segmented grid into a graph\n",
    "# # # tuple{directed simple Int64 graph, Dict{Int64, Union{Nothing, Tuple{Int64, Int64, Int64}}}}\n",
    "# grid_to_graph = PorousMaterials._translate_into_graph(segmented_grid, connections)\n",
    "# grid_to_graph[2]"
   ]
  },
  {
   "cell_type": "markdown",
   "id": "aab6ba1e",
   "metadata": {},
   "source": [
    "# Monte Carlo Integration TST Method \n",
    "1. Determine integration bounds: \n",
    "    We will integrate over the entire unit cell, but only points that are \n",
    "    accessible will contribute to the integral. Inaccessible points will be rejected. \n",
    "    1. calculate grid = energy_grid()\n",
    "    2. get seg_grid = PorousMaterials._segment_grid()\n",
    "    3. get acc_grid = calculate_accessibility_grid\n",
    "    4. get fractional coordinates of molecule (e.g. xf = rand(3))\n",
    "    5. check that we are in the channel that we want AND the gridpoint is accessible\n",
    "        - IF seg_grid.data(xf_to_id(xtal.box, xf) == channel_ID && accessible(acc_grid, xf)\n",
    "             THEN perform calculation vdw_energy(xf)\n",
    "          ELSE reject point (return exp() = 0? or just return nothing?)\n",
    "2. Calculate average Boltzmann Factor of the Free energy "
   ]
  },
  {
   "cell_type": "code",
   "execution_count": 4,
   "id": "cfcdfeee",
   "metadata": {},
   "outputs": [
    {
     "name": "stdout",
     "output_type": "stream",
     "text": [
      "Computing energy grid of Xe in NiPyC2_experiment.cif\n",
      "\tRegular grid (in fractional space) of 64 by 127 by 104 points superimposed over the unit cell.\n",
      "Found 2 segments\n"
     ]
    },
    {
     "data": {
      "text/plain": [
       "Regular grid of 64 by 127 by 104 points superimposed over a unit cell and associated data.\n",
       "\tunits of data attribute: Segment_No\n",
       "\torigin: [0.000000, 0.000000, 0.000000]\n"
      ]
     },
     "execution_count": 4,
     "metadata": {},
     "output_type": "execute_result"
    }
   ],
   "source": [
    "res = 0.1 # units: Å\n",
    "energy_cutoff = 50.0 # units: kJ/mol\n",
    "\n",
    "grid = energy_grid(xtals[:nipyc], adsorbates[:Xe][:molecule], ljff, resolution=res)\n",
    "\n",
    "segmented_grid = PorousMaterials._segment_grid(grid, energy_cutoff, true)"
   ]
  },
  {
   "cell_type": "code",
   "execution_count": 5,
   "id": "1dc26baa",
   "metadata": {},
   "outputs": [
    {
     "name": "stdout",
     "output_type": "stream",
     "text": [
      "\u001b[32mComputing accessibility grid of NiPyC2_experiment.cif using 50.000000 kJ_mol potential energy tol and Xe probe...\u001b[39m\n",
      "Computing energy grid of Xe in NiPyC2_experiment.cif\n",
      "\tRegular grid (in fractional space) of 64 by 127 by 104 points superimposed over the unit cell.\n",
      "Found 2 segments\n",
      "Noted seg. 1 --> 1 connection in (1, 0, 0) direction.\n",
      "Noted seg. 2 --> 2 connection in (1, 0, 0) direction.\n",
      "\tFound 4 simple cycles in segment connectivity graph.\n",
      "\t...found a cycle of accessible segments!\n",
      "\t...found a cycle of accessible segments!\n",
      "\t...found a cycle of accessible segments!\n",
      "\t...found a cycle of accessible segments!\n",
      "Segment 1 classified as accessible channel.\n",
      "Segment 2 classified as accessible channel.\n"
     ]
    },
    {
     "data": {
      "text/plain": [
       "(Regular grid of 64 by 127 by 104 points superimposed over a unit cell and associated data.\n",
       "\tunits of data attribute: accessibility\n",
       "\torigin: [0.000000, 0.000000, 0.000000]\n",
       ", 0, Dict(:b4_blocking => 0.07922991747425802, :after_blocking => 0.07922991747425802))"
      ]
     },
     "execution_count": 5,
     "metadata": {},
     "output_type": "execute_result"
    }
   ],
   "source": [
    "# so the fact that there is a connection between channels makes things somewhat more complecated\n",
    "#         Noted seg. 3 --> 1 connection in (1, 0, 0) direction\n",
    "# the nice thing is that it is in the (1, 0, 0) direction while \n",
    "# the other channels are in the (0, 0, 1) direction. \n",
    "# The reason this makes it easier is that Ds = (Dx + Dy + Dz) / 3  (see refs.)\n",
    "# meaning that I can do the calculations for each channel independently, \n",
    "# disregarding the channels that are not accessible to each other \n",
    "# (this is to say that a molecule in channel 1 cannot diffuse into channel 2)\n",
    "# note: channel 2 is essentially identical to channel 1, bit it is staggered (see Egrid figs in paper)\n",
    "# could be useful to compare the diffusion in channel 2 to channel 1 (maybe take the average of the two?)\n",
    "\n",
    "# Oh, wait, but Noted seg. 3 --> 3 connection in (0, 0, 1) direction.\n",
    "# so, I'm not sure what this channel is... maybe there is another partial channel \n",
    "# present in the unit cell of nipycnh..?\n",
    "\n",
    "acc_grid, nb_segs_blocked, porosity = compute_accessibility_grid(xtals[:nipyc], \n",
    "                                                                 adsorbates[:Xe][:molecule], \n",
    "                                                                 ljff;\n",
    "                                                                 resolution=res,\n",
    "                                                                 energy_tol=energy_cutoff,  \n",
    "                                                                 energy_units=:kJ_mol,\n",
    "                                                                 verbose=true, \n",
    "                                                                 write_b4_after_grids=false,\n",
    "                                                                 block_inaccessible_pockets=true)"
   ]
  },
  {
   "cell_type": "code",
   "execution_count": 6,
   "id": "1b5f8032",
   "metadata": {},
   "outputs": [
    {
     "name": "stdout",
     "output_type": "stream",
     "text": [
      "Noted seg. 1 --> 1 connection in (1, 0, 0) direction.\n",
      "Noted seg. 2 --> 2 connection in (1, 0, 0) direction.\n"
     ]
    },
    {
     "data": {
      "text/plain": [
       "4-element Vector{PorousMaterials.SegmentConnection}:\n",
       " PorousMaterials.SegmentConnection(1, 1, (1, 0, 0))\n",
       " PorousMaterials.SegmentConnection(1, 1, (-1, 0, 0))\n",
       " PorousMaterials.SegmentConnection(2, 2, (1, 0, 0))\n",
       " PorousMaterials.SegmentConnection(2, 2, (-1, 0, 0))"
      ]
     },
     "execution_count": 6,
     "metadata": {},
     "output_type": "execute_result"
    }
   ],
   "source": [
    "# # get list of connections present in segmented grid\n",
    "# # connections.str       start\n",
    "# # connections.dst       destination\n",
    "# # connections.direction direction\n",
    "connections = PorousMaterials._build_list_of_connections(segmented_grid)"
   ]
  },
  {
   "cell_type": "code",
   "execution_count": 15,
   "id": "4b6d4dea",
   "metadata": {},
   "outputs": [
    {
     "data": {
      "text/plain": [
       "integrand (generic function with 1 method)"
      ]
     },
     "execution_count": 15,
     "metadata": {},
     "output_type": "execute_result"
    }
   ],
   "source": [
    "# The integrand is the average free energy on a plane along the reaction coord. q\n",
    "# this average is obtained by MC integration \n",
    "function integrand(xf, xtal, seg_grid, acc_grid; seg_id=1, nb_insertions=50000)\n",
    "    sample_energy_on_slice = zeros(nb_insertions)\n",
    "    \n",
    "    for n in nb_insertions\n",
    "        # get random location on the slice\n",
    "        e2, e3 = rand(2) # fractional coords\n",
    "        xf_id = xf_to_id(seg_grid.n_pts, [xf, e2, e3])\n",
    "        if seg_grid.data[xf_id] == seg_id && accessible(acc_grid, xf)\n",
    "            # calculate energy\n",
    "            energy = grid.data[xf_id] #vdw_energy()\n",
    "            push!(sample_energy_on_slice, energy)\n",
    "        end\n",
    "    end\n",
    "    avg_boltzmann_factor_on_slice = mean(sample_energy_on_slice)\n",
    "    return avg_boltzmann_factor_on_slice\n",
    "end"
   ]
  },
  {
   "cell_type": "code",
   "execution_count": 16,
   "id": "503c4c81",
   "metadata": {},
   "outputs": [
    {
     "data": {
      "text/plain": [
       "(0.0, 0.0)"
      ]
     },
     "execution_count": 16,
     "metadata": {},
     "output_type": "execute_result"
    }
   ],
   "source": [
    "###\n",
    "#  perform 1-dim integration along channels\n",
    "###\n",
    "# bounds in fractional coordinates\n",
    "lower_bound = 0\n",
    "upper_bound = 1\n",
    "\n",
    "avg_fe, err = hquadrature(xf -> begin integrand(xf, xtals[:nipyc], segmented_grid, acc_grid,); end, \n",
    "                          lower_bound, upper_bound)"
   ]
  },
  {
   "cell_type": "code",
   "execution_count": 9,
   "id": "3c1f8e56",
   "metadata": {},
   "outputs": [],
   "source": [
    "# \"\"\"\n",
    "# # Arguments:\n",
    "# `x::Float64`: reaction coordinate\n",
    "# `xtal::Crystal`: the MOF\n",
    "# `temp::Float64`: temperature, units: K. default=298.0 K\n",
    "# `bounds::Union{Nothing, Vector{Vector{Float64}}}`: 2d integration bounds\n",
    "# `energy_tol::Float64`: energy tolerance used for determining integratin bounds if bounds are not passed, \n",
    "#                         units: kJ/mol\n",
    "# \"\"\"\n",
    "# function free_energy(x::Float64, xtal::Crystal, \n",
    "#                      molecule::Molecule, \n",
    "#                      ljff::LJForceField; \n",
    "#                      temp::Float64=298.0, \n",
    "#                      bounds::Union{Nothing, Vector{Vector{Float64}}}=nothing,\n",
    "#                      energy_tol::Float64=50.0)\n",
    "\n",
    "#     β = 1 / (R * temp) # units: (kJ / mol)^-1\n",
    "    \n",
    "#     # get integration bounds\n",
    "#     if isnothing(bounds)\n",
    "#         bounds = get_2d_integration_bounds(xtal, energy_tol) # [[lb_y, lb_z], [ub_y, ub_z]]\n",
    "#     end\n",
    "#     # calculate area to normalize integral\n",
    "#     area = (bounds[2][1] - bounds[1][1]) * (bounds[2][2] - bounds[1][2])\n",
    "    \n",
    "#     # integrate planar slices along the reaction coordinate\n",
    "#     function integrand(yz::Vector{Float64})\n",
    "#         xf = [x, yz[1], yz[2]] # position in MOF\n",
    "        \n",
    "#         # make sure molecule is in fractional coords\n",
    "#         if isa(molecule, Molecule{Cart})\n",
    "#             molecule = Frac(molecule, xtal.box)\n",
    "#         end\n",
    "        \n",
    "#         # make sure the coords are fractional\n",
    "#         xf = mod.(xf, 1.0)\n",
    "#         # move probe molecule\n",
    "#         translate_to!(molecule, Frac(xf))\n",
    "#         # calculate the guest-host VDW interaction\n",
    "#         # vdw_energy * 8.314 / 1000 gives units: kJ/mol\n",
    "#         boltzmann_factor = exp(-β * (vdw_energy(xtal, molecule, ljff) * 8.314 / 1000))\n",
    "#         return boltzmann_factor\n",
    "#     end # integrand\n",
    "\n",
    "#     # perform integration\n",
    "#     fdim = 3 # perform two (y and z dir) real-valued integrals simultaneously\n",
    "#     (val, err) = hcubature(yz -> begin integrand(yz); end, bounds[1], bounds[2])\n",
    "#     # return free energy\n",
    "#     return (-1.0 / β) * log(val / area), err\n",
    "# end # free_energy"
   ]
  }
 ],
 "metadata": {
  "kernelspec": {
   "display_name": "Julia 1.6.2",
   "language": "julia",
   "name": "julia-1.6"
  },
  "language_info": {
   "file_extension": ".jl",
   "mimetype": "application/julia",
   "name": "julia",
   "version": "1.6.2"
  }
 },
 "nbformat": 4,
 "nbformat_minor": 5
}
