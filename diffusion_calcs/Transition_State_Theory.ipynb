{
 "cells": [
  {
   "cell_type": "markdown",
   "id": "a670ef04",
   "metadata": {},
   "source": [
    "# Calculate Diffusion Coefficient\n",
    "\n",
    "Note: A priori knowledge about the axis parallel to the reaction coordinate will needed. We don't have a robust method for automating that process yet. \n",
    "\n",
    "\n",
    "The Free Energy Profile F(q), fo radsorbate hopping aling the reaction coordinate can be calculated by the mean energy of insertion of the (spherical) adsorbate molecule using the FF parameters in the planes orthogonal to the reaction coordinate:\n",
    "$$ F(q) = -k_BT ln\\langle e^{-\\beta \\Delta U} \\rangle_q $$\n",
    "Here the brackets denote averaging the Boltzmann factor ocer the square grids of resolution dx Å resolution.\n",
    "\n",
    "The 1-dim cage-to-cage hopping rate is given by: \n",
    "$$ k_{C_1 \\rightarrow C_2} = \\kappa \\sqrt{\\frac{k_B T}{2 \\pi m}} \\frac{e^{-\\beta F(q^*)}}{\\int_{cage} e^{-\\beta F(q)} \\,dq} $$\n",
    "where m is the mass of the adsorbate, q is the reaction coordinate, F is the SOMETHING Free Energy as a function of the reaction coordinate, T is the temperature (T = 298 K), and $\\kappa$ is the Bennett-Chandler dynamic correction. $\\kappa$ = 1 is a good approximatin for infinite dilution. \n",
    "The space is partitioned such that the dividing surface is perpendicular to the reactin coordinate and passes through the location of the maximum free energy barrier along the path F(q*). \n",
    "\n",
    "\n",
    "To get the self-diffusion coefficient ($D_s$) \n",
    "$$ D_s = \\frac{\\kappa}{2d} \\lambda^2 k_{C_1 \\rightarrow C_2} $$\n",
    "\n",
    "$\\lambda$ is the cage-center to cage-center lattice distance."
   ]
  },
  {
   "cell_type": "code",
   "execution_count": 1,
   "id": "b29111e0",
   "metadata": {
    "scrolled": false
   },
   "outputs": [
    {
     "name": "stderr",
     "output_type": "stream",
     "text": [
      "┌ Warning: Error requiring `OffsetArrays` from `ArrayInterface`\n",
      "│   exception = (UndefVarError(:IdOffsetRange), Union{Ptr{Nothing}, Base.InterpreterIP}[Ptr{Nothing} @0x00007f98a1084cef, Ptr{Nothing} @0x00007f98a1117d24, Ptr{Nothing} @0x00007f9892ea2da2, Ptr{Nothing} @0x00007f98a10fa769, Ptr{Nothing} @0x00007f98a1116f15, Ptr{Nothing} @0x00007f98a1116bce, Ptr{Nothing} @0x00007f98a1117811, Ptr{Nothing} @0x00007f98a1118297, Base.InterpreterIP in top-level CodeInfo for ArrayInterface at statement 11, Ptr{Nothing} @0x00007f98a1133b31, Ptr{Nothing} @0x00007f98a1135949, Ptr{Nothing} @0x00007f9841dce2c1, Ptr{Nothing} @0x00007f9841dce2ec, Ptr{Nothing} @0x00007f98a10fa769, Ptr{Nothing} @0x00007f98a1116f15, Ptr{Nothing} @0x00007f98a1116bce, Ptr{Nothing} @0x00007f98a1117811, Ptr{Nothing} @0x00007f98a1117b90, Ptr{Nothing} @0x00007f98a111804a, Base.InterpreterIP in MethodInstance for err(::Any, ::Module, ::String) at statement 2, Ptr{Nothing} @0x00007f9841dce237, Ptr{Nothing} @0x00007f9841dce24c, Ptr{Nothing} @0x00007f98a10fa769, Ptr{Nothing} @0x00007f98a1116f15, Ptr{Nothing} @0x00007f98a1116bce, Ptr{Nothing} @0x00007f98a11178a5, Ptr{Nothing} @0x00007f98a1117b90, Ptr{Nothing} @0x00007f98a111804a, Base.InterpreterIP in MethodInstance for withpath(::Any, ::String) at statement 10, Ptr{Nothing} @0x00007f9841dce1b3, Ptr{Nothing} @0x00007f9841dce1dc, Ptr{Nothing} @0x00007f98a10fa769, Ptr{Nothing} @0x00007f98a110b546, Ptr{Nothing} @0x00007f9841dce03c, Ptr{Nothing} @0x00007f98a10fa769, Ptr{Nothing} @0x00007f98a1116f15, Ptr{Nothing} @0x00007f98a1116bce, Ptr{Nothing} @0x00007f98a1117811, Ptr{Nothing} @0x00007f98a111804a, Base.InterpreterIP in MethodInstance for loadpkg(::Base.PkgId) at statement 6, Ptr{Nothing} @0x00007f98a10fa769, Ptr{Nothing} @0x00007f98a110b546, Ptr{Nothing} @0x00007f9841d4105e, Ptr{Nothing} @0x00007f9841d3fd8a, Ptr{Nothing} @0x00007f9841d42970, Ptr{Nothing} @0x00007f9841d44ced, Ptr{Nothing} @0x00007f9841d45a4c, Ptr{Nothing} @0x00007f98a10fa769, Ptr{Nothing} @0x00007f98a1132cd1, Ptr{Nothing} @0x00007f98a1134d97, Ptr{Nothing} @0x00007f98a1133d7c, Ptr{Nothing} @0x00007f98a1135949, Ptr{Nothing} @0x00007f9841d9f6ac, Ptr{Nothing} @0x00007f9841d9fa49, Ptr{Nothing} @0x00007f98a10fa769, Ptr{Nothing} @0x00007f9841d9c5a3, Ptr{Nothing} @0x00007f98a10fa769, Ptr{Nothing} @0x00007f98a110b546, Ptr{Nothing} @0x00007f9841d7a31e, Ptr{Nothing} @0x00007f9841d7a54e, Ptr{Nothing} @0x00007f9841d7a56c, Ptr{Nothing} @0x00007f98a10fa769, Ptr{Nothing} @0x00007f98a111bc9a, Ptr{Nothing} @0x0000000000000000])\n",
      "└ @ Requires /home/ng/.julia/packages/Requires/7Ncym/src/require.jl:49\n"
     ]
    }
   ],
   "source": [
    "using PorousMaterials\n",
    "using Statistics\n",
    "using PyPlot\n",
    "using Cubature\n",
    "using Printf "
   ]
  },
  {
   "cell_type": "code",
   "execution_count": 2,
   "id": "8c3021d6",
   "metadata": {},
   "outputs": [
    {
     "name": "stderr",
     "output_type": "stream",
     "text": [
      "┌ Info: Crystal NiPyC2_experiment.cif has Pn space group. I am converting it to P1 symmetry.\n",
      "│         To prevent this, pass `convert_to_p1=false` to the `Crystal` constructor.\n",
      "└ @ Xtals /home/ng/.julia/packages/Xtals/DSCSR/src/crystal.jl:433\n",
      "┌ Info: Crystal Pn_Ni-PyC-NH2.cif has Pn space group. I am converting it to P1 symmetry.\n",
      "│         To prevent this, pass `convert_to_p1=false` to the `Crystal` constructor.\n",
      "└ @ Xtals /home/ng/.julia/packages/Xtals/DSCSR/src/crystal.jl:433\n"
     ]
    }
   ],
   "source": [
    "const R = 8.31446261815324 / 1000 # Ideal Gas Constant, units: kJ/(mol-K)\n",
    "temp = 298.0 # temperature, units: K\n",
    "ljff = LJForceField(\"UFF\") # r_cut = 14.0 \\AA, mixing_rule = Lorentz-Berthelo\n",
    "\n",
    "\n",
    "adsorbates = Dict(:Xe => Dict(:molecule => Molecule(\"Xe\"),\n",
    "                              :mol_mass => 131.293 / 1000), # kg/mol\n",
    "                  :Kr => Dict(:molecule => Molecule(\"Kr\"), \n",
    "                              :mol_mass => 83.798 / 1000),  # kg/mol\n",
    "#                   :Ar => Dict(:molecule => Molecule(\"Ar\"), \n",
    "#                               :mol_wgt  => 39.948 / 1000)   # kg/mol\n",
    "                 )\n",
    "\n",
    "xtals = Dict(:original    => Dict(:nipyc   => Crystal(\"NiPyC2_experiment.cif\"),\n",
    "                                  :nipycnh => Crystal(\"Pn_Ni-PyC-NH2.cif\")), \n",
    "             :rep_factors => Dict(:nipyc   => (2, 1, 1), \n",
    "                                  :nipycnh => (1, 1, 2)),\n",
    "             :replicated  => Dict{Symbol, Crystal}()\n",
    "            )\n",
    "\n",
    "xtals[:replicated][:nipyc]   = replicate(xtals[:original][:nipyc], xtals[:rep_factors][:nipyc])\n",
    "xtals[:replicated][:nipycnh] = replicate(xtals[:original][:nipycnh], xtals[:rep_factors][:nipycnh]);"
   ]
  },
  {
   "cell_type": "code",
   "execution_count": 3,
   "id": "fa0f7bd9",
   "metadata": {},
   "outputs": [
    {
     "name": "stdout",
     "output_type": "stream",
     "text": [
      "Computing energy grid of Xe in NiPyC2_experiment.cif\n",
      "\tRegular grid (in fractional space) of 64 by 127 by 104 points superimposed over the unit cell.\n",
      "Found 2 segments\n"
     ]
    },
    {
     "data": {
      "text/plain": [
       "3-element Vector{Int64}:\n",
       " -1\n",
       "  2\n",
       "  1"
      ]
     },
     "execution_count": 3,
     "metadata": {},
     "output_type": "execute_result"
    }
   ],
   "source": [
    "# outline for how to simlify grid method by setting inaccessible poiints and disconnected channels to inf \n",
    "# so their contribution to the free energy calculation is zero allowing us to sum over the entire unit cell.\n",
    "\n",
    "\n",
    "# compute energy grid\n",
    "res      = 0.1\n",
    "grid     = energy_grid(xtals[:original][:nipyc], adsorbates[:Xe][:molecule], ljff, resolution=res)\n",
    "\n",
    "\n",
    "# get segmented grid\n",
    "energy_tol     = 50.0 # units: kJ/mol\n",
    "verbose        = true\n",
    "segmented_grid = PorousMaterials._segment_grid(grid, energy_tol, verbose)\n",
    "\n",
    "unique(segmented_grid.data) # -1 imples inaccessible according to energy_tol\n",
    "\n",
    "\n",
    "\n",
    "# get list of connections present in segmented grid\n",
    "# connections.str       start\n",
    "# connections.dst       destination\n",
    "# connections.direction direction\n",
    "connections = PorousMaterials._build_list_of_connections(segmented_grid)\n",
    "\n",
    "# Turn segmented grid into a graph\n",
    "# tuple{directed simple Int64 graph, Dict{Int64, Union{Nothing, Tuple{Int64, Int64, Int64}}}}\n",
    "grid_to_graph = PorousMaterials._translate_into_graph(segmented_grid, connections)\n",
    "\n",
    "classified_segments = PorousMaterials._classify_segments(segmented_grid, graph[1], graph[2], verbose)\n",
    "\n",
    "\n",
    "# set energy of inaccessible grid points to Inf so contributin so boltzman is zero\n",
    "# i.e. exp(-β * Inf) = 0\n",
    "grid.data[segmented_grid.data .== unique(segmented_grid.data)[1]] .= Inf\n",
    "\n",
    "# remove contribution of second, non-connected channel since diffusin from one chennel to another \n",
    "# is not possible due to energy barrier \n",
    "grid.data[segmented_grid.data .== unique(segmented_grid.data)[2]] .= Inf;"
   ]
  },
  {
   "cell_type": "code",
   "execution_count": null,
   "id": "dc824629",
   "metadata": {},
   "outputs": [],
   "source": []
  },
  {
   "cell_type": "code",
   "execution_count": null,
   "id": "40234b41",
   "metadata": {},
   "outputs": [],
   "source": []
  },
  {
   "cell_type": "markdown",
   "id": "c716025e",
   "metadata": {},
   "source": [
    "# Grid Method"
   ]
  },
  {
   "cell_type": "markdown",
   "id": "298dad3d",
   "metadata": {},
   "source": [
    "#### Helper Functions"
   ]
  },
  {
   "cell_type": "code",
   "execution_count": 10,
   "id": "49c2d58e",
   "metadata": {},
   "outputs": [
    {
     "data": {
      "text/plain": [
       "avg_free_energy_on_grid (generic function with 1 method)"
      ]
     },
     "execution_count": 10,
     "metadata": {},
     "output_type": "execute_result"
    }
   ],
   "source": [
    "function avg_free_energy_on_grid(q_id::Int, crystal::Crystal, grid::Grid,\n",
    "                                 bounds::Vector{Vector{Float64}}; \n",
    "                                 temperature::Float64=298.0, dim::Int=1)\n",
    "    @assert dim in [1, 2, 3] \n",
    "    β = 1 / (R * temperature) # units: (kJ / mol)⁻¹\n",
    "    \n",
    "    # area to normalize sum\n",
    "    # side_length = bounds_num_voxels * voxel_side_length\n",
    "    #    where voxel_side_length = xtal_box_side_length / num_voxel_on_side\n",
    "    lx = abs(bounds[2][1] - bounds[1][1]) * crystal.box.a / grid.n_pts[1]\n",
    "    ly = abs(bounds[2][2] - bounds[1][2]) * crystal.box.b / grid.n_pts[2]\n",
    "    lz = abs(bounds[2][3] - bounds[1][3]) * crystal.box.c / grid.n_pts[3]\n",
    "    \n",
    "    sides = [[ly, lz], [lx, lz], [lx, ly]] # possible combinations of sides to make rectangle\n",
    "    area = sides[dim][1] * sides[dim][2]\n",
    "    \n",
    "    # grid IDs of bounds for 2d sum\n",
    "    lower_bound_ids = xf_to_id(grid.n_pts, bounds[1])\n",
    "    upper_bound_ids = xf_to_id(grid.n_pts, bounds[2])\n",
    "    \n",
    "    # if reaction coord is along the lattice vector we just pass the single value\n",
    "    # otherwise we need to pass a range of values\n",
    "    a = [dim == 1 ? [q_id] : [i for i in lower_bound_ids[1]:upper_bound_ids[1]]]\n",
    "    b = [dim == 2 ? [q_id] : [i for i in lower_bound_ids[2]:upper_bound_ids[2]]]\n",
    "    c = [dim == 3 ? [q_id] : [i for i in lower_bound_ids[3]:upper_bound_ids[3]]]\n",
    "    \n",
    "    flatten_grid = Vector{Float64}()\n",
    "    for i in a[1]\n",
    "        for j in b[1]\n",
    "            for k in c[1]\n",
    "                push!(flatten_grid, grid.data[i, j, k])\n",
    "            end\n",
    "        end\n",
    "    end\n",
    "    @assert length(flatten_grid) == (length(a[1]) * length(b[1]) * length(c[1]))\n",
    "    \n",
    "    # calculate average Boltzmann factor for a given q\n",
    "    avg_btz_factor = mean(exp.(-β * flatten_grid))\n",
    "    \n",
    "    return (-1.0 / β) * log(avg_btz_factor / area) # free energy, F(q), units: kJ / mol\n",
    "end"
   ]
  },
  {
   "cell_type": "code",
   "execution_count": 11,
   "id": "91380a03",
   "metadata": {},
   "outputs": [
    {
     "data": {
      "text/plain": [
       "cal_self_diffusin_coeff (generic function with 1 method)"
      ]
     },
     "execution_count": 11,
     "metadata": {},
     "output_type": "execute_result"
    }
   ],
   "source": [
    "function cal_self_diffusin_coeff(xtal_key::Symbol, gas_key::Symbol, grid::Grid,\n",
    "                                 grid_free_E::Vector{Float64}; \n",
    "                                 temperature::Float64=298.0, \n",
    "                                 dim::Int=1, verbose::Bool=true)\n",
    "    ###\n",
    "    #  Get value and location of the maximum free energy\n",
    "    ###\n",
    "    fe_q_str = maximum(grid_free_E)\n",
    "    if verbose; println(\"\\tFree energy Maximum = $(fe_q_str) kJ/mol\"); end\n",
    "    q_str_id = findfirst(grid_free_E .== fe_q_str) \n",
    "    q_str_xf = q_str_id * getfield(xtals[:replicated][xtal_key].box, dim) / grid.n_pts[dim]\n",
    "    if verbose; println(\"\\tFractional Coord. of Free Energy Maxmum = $(q_str_xf)\"); end\n",
    "    # get the locations of the minima\n",
    "    grd_fe_min = sortperm(grid_free_E)[1:2]\n",
    "    if verbose \n",
    "        println(\"\\tSortperm of Free Energy indexs: $(grd_fe_min)\") \n",
    "        println(\"\\tMag. Free Energy Barrier = $(fe_q_str - grid_free_E[grd_fe_min[1]]) kJ mol⁻¹\")\n",
    "    end\n",
    "    \n",
    "    ###\n",
    "    #  Calculate hopping rate\n",
    "    ###\n",
    "    # dynamic update, correction, factor, is 1 at infinite dilution\n",
    "    κ = 1.0 # units: none\n",
    "    β = 1 / (R * temperature) # units: (kJ / mol)^-1\n",
    "    # average velocity given by Boltzman dist.\n",
    "    # conversion: 1 m/s = 10 Å/ns \n",
    "    avg_vel = 10 * sqrt((1000 * R * temperature) / (2 * π * adsorbates[gas_key][:mol_mass])) # units: Å / ns \n",
    "    # jummping frequency (hoping rate), units: (avg num successful hops) / unit time\n",
    "    # hop_rate [=] ns⁻¹\n",
    "    sum_over_cage = sum(exp.(-β * grid_free_E[1:q_str_id])) / q_str_xf # normalized sum, units: unitless\n",
    "    hop_rate = κ * avg_vel * exp(-β * fe_q_str) / sum_over_cage\n",
    "    \n",
    "    ###\n",
    "    #  Calculate Diffusion Coefficient\n",
    "    ###\n",
    "    x = [i for i in 1:grid.n_pts[dim]] * getfield(xtals[:replicated][xtal_key].box, dim) / grid.n_pts[dim]    \n",
    "    λ = abs(x[grd_fe_min[2]] - x[grd_fe_min[1]]) # distance between wells, units: Å\n",
    "    if verbose; println(\"\\tDistance between wells, λ = $(λ) Å\"); end\n",
    "    @assert λ < getfield(xtals[:replicated][xtal_key].box, dim) \"distance between wells > xtal axis\"\n",
    "    \n",
    "    time_scale = λ / avg_vel\n",
    "    if verbose; println(\"\\tTime scale, t = $(time_scale) ns\"); end\n",
    "    \n",
    "    diff_coeff = (κ / 6) * λ^2 * hop_rate # units: [Å²/ns]\n",
    "\n",
    "    ### Conversion:\n",
    "    # 1 Å  = 10⁻⁸ cm -> 1 Å² = 10⁻¹⁶cm²\n",
    "    # 1 ns = 10⁻⁹ s\n",
    "    #\n",
    "    # Then,\n",
    "    # 1 Å / ns = (10⁻¹⁶cm²) / (10⁻⁹ s) = 10⁻⁷ cm²/s\n",
    "    ###\n",
    "    conversion_factor = 1e-7\n",
    "    Dₛ = diff_coeff * conversion_factor\n",
    "    return Dₛ, hop_rate\n",
    "end"
   ]
  },
  {
   "cell_type": "markdown",
   "id": "dad6cc5f",
   "metadata": {},
   "source": [
    "#### Perform Calculations"
   ]
  },
  {
   "cell_type": "code",
   "execution_count": 12,
   "id": "2155e3ad",
   "metadata": {
    "scrolled": false
   },
   "outputs": [
    {
     "name": "stdout",
     "output_type": "stream",
     "text": [
      "Xtal - NiPyC2_experiment.cif\n",
      "\tAdsorbate - Kr\n",
      "Computing energy grid of Kr in NiPyC2_experiment.cif\n",
      "\tRegular grid (in fractional space) of 127 by 127 by 104 points superimposed over the unit cell.\n"
     ]
    },
    {
     "ename": "LoadError",
     "evalue": "InterruptException:",
     "output_type": "error",
     "traceback": [
      "InterruptException:",
      "",
      "Stacktrace:",
      " [1] energy_grid(crystal::Crystal, molecule::Molecule{Cart}, ljforcefield::LJForceField; resolution::Float64, n_rotations::Int64, temperature::Float64, units::Symbol, center::Bool, verbose::Bool)",
      "   @ PorousMaterials ~/.julia/packages/PorousMaterials/nwCUe/src/grid.jl:354",
      " [2] top-level scope",
      "   @ ./In[12]:33",
      " [3] eval",
      "   @ ./boot.jl:360 [inlined]",
      " [4] include_string(mapexpr::typeof(REPL.softscope), mod::Module, code::String, filename::String)",
      "   @ Base ./loading.jl:1116"
     ]
    }
   ],
   "source": [
    "# store calculations for analysis and plotting\n",
    "# gas_grid_free_E = [] \n",
    "results = Dict{Tuple{Symbol, Symbol}, Dict{Symbol, Any}}()\n",
    "\n",
    "# loop over xtals\n",
    "for xtal_key in [:nipyc, :nipycnh]\n",
    "    println(\"Xtal - \", xtals[:original][xtal_key].name)\n",
    "\n",
    "    # calculation bounds and axes are different for each xtal\n",
    "    if xtal_key == :nipyc\n",
    "        # axis of integration\n",
    "        dim = 1\n",
    "        # x-axis doesn't matter -> give dummy x bounds\n",
    "        # [fx, fy, fz] avoid periodic b.c. 0.0 = 1.0\n",
    "        bounds = [[0.0, 0.0, 0.5],  # lower\n",
    "                  [0.0, 0.6, 0.99]] # upper\n",
    "    elseif xtal_key == :nipycnh\n",
    "        # axis of integration\n",
    "        dim = 3\n",
    "        # z-axis doesn't matter -> give dummy z bounds\n",
    "        # [fx, fy, fz] avoid periodic b.c. 0.0 = 1.0\n",
    "        bounds = [[0.5, 0.0, 0.0],  # lower\n",
    "                  [0.99, 0.6, 0.0]] # upper\n",
    "    end\n",
    "    \n",
    "    # loop over adsorbates\n",
    "    for gas_key in keys(adsorbates)\n",
    "        println(\"\\tAdsorbate - $gas_key\")\n",
    "        results[(xtal_key, gas_key)] = Dict{Symbol, Any}()\n",
    "        push!(results[(xtal_key, gas_key)], :dim => dim)\n",
    "        # calculate vdW interaction energy on a grid \n",
    "        res  = 0.1 # maximum distance between grid points, units: Å\n",
    "        grid = energy_grid(xtals[:replicated][xtal_key], adsorbates[gas_key][:molecule], \n",
    "                           ljff, resolution=res, units=:kJ_mol)\n",
    "        \n",
    "        push!(results[(xtal_key, gas_key)], :grid => grid)\n",
    "        \n",
    "        ###\n",
    "        #  Calculate Average Free energy along reaction coordinate\n",
    "        ###\n",
    "        grid_free_E = Array{Float64, 1}()\n",
    "        for q_id in 1:grid.n_pts[dim]\n",
    "            # calculate average free energy\n",
    "            avg_fe = avg_free_energy_on_grid(q_id, xtals[:replicated][xtal_key], \n",
    "                                             grid, bounds, temperature=temp, dim=dim)\n",
    "            push!(grid_free_E, avg_fe)\n",
    "        end\n",
    "\n",
    "        push!(results[(xtal_key, gas_key)], :avg_free_energy => grid_free_E)\n",
    "        \n",
    "        ###\n",
    "        #  Calculate Hoping Rate and Self-Diffusion Coefficient\n",
    "        ###\n",
    "        Dₛ, k = cal_self_diffusin_coeff(xtal_key, gas_key, grid, grid_free_E, temperature=temp, dim=dim)\n",
    "        println(\"\\tHopping rate = $(k) [ns⁻¹]\")\n",
    "        println(\"\\tSelf-diffusion Coeff. = $(Dₛ) [cm² s⁻¹] \\n\")\n",
    "        \n",
    "        push!(results[(xtal_key, gas_key)], :hop_rate => k)\n",
    "        push!(results[(xtal_key, gas_key)], :self_diffusion => Dₛ)\n",
    "    end\n",
    "end"
   ]
  },
  {
   "cell_type": "markdown",
   "id": "f7326430",
   "metadata": {},
   "source": [
    "### Calculate Selectivities"
   ]
  },
  {
   "cell_type": "code",
   "execution_count": 13,
   "id": "e64427d6",
   "metadata": {},
   "outputs": [
    {
     "ename": "LoadError",
     "evalue": "KeyError: key (:nipyc, :Xe) not found",
     "output_type": "error",
     "traceback": [
      "KeyError: key (:nipyc, :Xe) not found",
      "",
      "Stacktrace:",
      " [1] getindex(h::Dict{Tuple{Symbol, Symbol}, Dict{Symbol, Any}}, key::Tuple{Symbol, Symbol})",
      "   @ Base ./dict.jl:482",
      " [2] top-level scope",
      "   @ In[13]:4",
      " [3] eval",
      "   @ ./boot.jl:360 [inlined]",
      " [4] include_string(mapexpr::typeof(REPL.softscope), mod::Module, code::String, filename::String)",
      "   @ Base ./loading.jl:1116"
     ]
    }
   ],
   "source": [
    "###\n",
    "#  add Henry Coefficients to the results dictionary for ease of use\n",
    "###\n",
    "push!(results[(:nipyc, :Xe)], :Henry => 53.78) # mmol/(g-bar)\n",
    "push!(results[(:nipyc, :Kr)], :Henry =>  3.14) # mmol/(g-bar)\n",
    "\n",
    "push!(results[(:nipycnh, :Xe)], :Henry => 98.25) # mmol/(g-bar)\n",
    "push!(results[(:nipycnh, :Kr)], :Henry =>  4.85) # mmol/(g-bar)\n",
    "\n",
    "\n",
    "###\n",
    "#  Calculate Diffusive Selectivity\n",
    "#  S_dif = Dₛ₁ / Dₛ₂\n",
    "###\n",
    "nipyc_dif_sel   = results[(:nipyc, :Xe)][:self_diffusion] / results[(:nipyc, :Kr)][:self_diffusion]\n",
    "nipycnh_dif_sel = results[(:nipycnh, :Xe)][:self_diffusion] / results[(:nipycnh, :Kr)][:self_diffusion]\n",
    "\n",
    "###\n",
    "#  Calculate Membrane Selectivity\n",
    "#  S_mem = (Dₛ₁ H₁) / (Dₛ₂ H₂)\n",
    "###\n",
    "nipyc_mem_sel   = (results[(:nipyc, :Xe)][:self_diffusion] * results[(:nipyc, :Xe)][:Henry]) / \n",
    "                    (results[(:nipyc, :Kr)][:self_diffusion] * results[(:nipyc, :Kr)][:Henry])\n",
    "\n",
    "nipycnh_mem_sel = (results[(:nipycnh, :Xe)][:self_diffusion] * results[(:nipycnh, :Xe)][:Henry]) / \n",
    "                    (results[(:nipycnh, :Kr)][:self_diffusion] * results[(:nipycnh, :Kr)][:Henry])\n",
    "\n",
    "\n",
    "println(\"Xtal - \", xtals[:original][:nipyc].name)\n",
    "println(\"\\tDiffusive Selectivity: S_{Xe/Kr} = $(nipyc_dif_sel)\")\n",
    "println(\"\\tMembrane Selectivity:  S_{Xe/Kr} = $(nipyc_mem_sel)\\n\")\n",
    "\n",
    "println(\"Xtal - \", xtals[:original][:nipycnh].name)\n",
    "println(\"\\tDiffusive Selectivity: S_{Xe/Kr} = $(nipycnh_dif_sel)\")\n",
    "println(\"\\tMembrane Selectivity:  S_{Xe/Kr} = $(nipycnh_mem_sel)\")"
   ]
  },
  {
   "cell_type": "markdown",
   "id": "e0f070e4",
   "metadata": {},
   "source": [
    "## Plots\n",
    "\n",
    "Plot the energy along a given crystal axis."
   ]
  },
  {
   "cell_type": "code",
   "execution_count": 14,
   "id": "c9bc089d",
   "metadata": {},
   "outputs": [
    {
     "data": {
      "text/plain": [
       "plot_free_energy (generic function with 1 method)"
      ]
     },
     "execution_count": 14,
     "metadata": {},
     "output_type": "execute_result"
    }
   ],
   "source": [
    "function plot_free_energy(results::Dict{Tuple{Symbol, Symbol}, Dict{Symbol, Any}}, \n",
    "                          xtal_key::Symbol, gas_key; dim::Int=1)\n",
    "    @assert dim in [1, 2, 3]\n",
    "    grid_free_E = results[(xtal_key, gas_key)][:avg_free_energy]\n",
    "    grid = results[(xtal_key, gas_key)][:grid]\n",
    "    \n",
    "    fig, axs = subplots()\n",
    "    \n",
    "    # plot free energy as a function of reactin coord\n",
    "    ind = [i for i in 1:length(grid_free_E)]\n",
    "    axs.plot(ind, grid_free_E, zorder=1)\n",
    "    \n",
    "    # plot location of separating membrane (max free energy)\n",
    "    q_str = maximum(grid_free_E)\n",
    "    q_str_id = findfirst(grid_free_E .== q_str) \n",
    "    q_str_xf = q_str_id * getfield(xtals[:replicated][xtal_key].box, dim) / grid.n_pts[dim]\n",
    "    axs.scatter(q_str_id, q_str, label=\"q*\", color=\"r\", marker=\"*\", zorder=2)\n",
    "    \n",
    "    axs.legend()\n",
    "    axs.set_title(\"$(gas_key) in \" * xtals[:original][xtal_key].name)\n",
    "    axs.set_ylabel(\"free energy [kJ/mol]\")\n",
    "    axs.set_xlabel(\"reaction coordinate [Å]\")\n",
    "    \n",
    "    fig.tight_layout()\n",
    "    fig.show()\n",
    "end"
   ]
  },
  {
   "cell_type": "code",
   "execution_count": 15,
   "id": "be602fbb",
   "metadata": {},
   "outputs": [
    {
     "ename": "LoadError",
     "evalue": "KeyError: key (:nipyc, :Xe) not found",
     "output_type": "error",
     "traceback": [
      "KeyError: key (:nipyc, :Xe) not found",
      "",
      "Stacktrace:",
      " [1] getindex(h::Dict{Tuple{Symbol, Symbol}, Dict{Symbol, Any}}, key::Tuple{Symbol, Symbol})",
      "   @ Base ./dict.jl:482",
      " [2] plot_free_energy(results::Dict{Tuple{Symbol, Symbol}, Dict{Symbol, Any}}, xtal_key::Symbol, gas_key::Symbol; dim::Int64)",
      "   @ Main ./In[14]:4",
      " [3] top-level scope",
      "   @ In[15]:1",
      " [4] eval",
      "   @ ./boot.jl:360 [inlined]",
      " [5] include_string(mapexpr::typeof(REPL.softscope), mod::Module, code::String, filename::String)",
      "   @ Base ./loading.jl:1116"
     ]
    }
   ],
   "source": [
    "plot_free_energy(results, :nipyc, :Xe, dim=1)"
   ]
  },
  {
   "cell_type": "code",
   "execution_count": 16,
   "id": "518dc1ee",
   "metadata": {
    "scrolled": false
   },
   "outputs": [
    {
     "ename": "LoadError",
     "evalue": "KeyError: key (:nipycnh, :Xe) not found",
     "output_type": "error",
     "traceback": [
      "KeyError: key (:nipycnh, :Xe) not found",
      "",
      "Stacktrace:",
      " [1] getindex(h::Dict{Tuple{Symbol, Symbol}, Dict{Symbol, Any}}, key::Tuple{Symbol, Symbol})",
      "   @ Base ./dict.jl:482",
      " [2] plot_free_energy(results::Dict{Tuple{Symbol, Symbol}, Dict{Symbol, Any}}, xtal_key::Symbol, gas_key::Symbol; dim::Int64)",
      "   @ Main ./In[14]:4",
      " [3] top-level scope",
      "   @ In[16]:1",
      " [4] eval",
      "   @ ./boot.jl:360 [inlined]",
      " [5] include_string(mapexpr::typeof(REPL.softscope), mod::Module, code::String, filename::String)",
      "   @ Base ./loading.jl:1116"
     ]
    }
   ],
   "source": [
    "plot_free_energy(results, :nipycnh, :Xe, dim=3)"
   ]
  },
  {
   "cell_type": "code",
   "execution_count": 17,
   "id": "6941f794",
   "metadata": {},
   "outputs": [
    {
     "ename": "LoadError",
     "evalue": "KeyError: key (:nipycnh, :Xe) not found",
     "output_type": "error",
     "traceback": [
      "KeyError: key (:nipycnh, :Xe) not found",
      "",
      "Stacktrace:",
      " [1] getindex(h::Dict{Tuple{Symbol, Symbol}, Dict{Symbol, Any}}, key::Tuple{Symbol, Symbol})",
      "   @ Base ./dict.jl:482",
      " [2] top-level scope",
      "   @ In[17]:1",
      " [3] eval",
      "   @ ./boot.jl:360 [inlined]",
      " [4] include_string(mapexpr::typeof(REPL.softscope), mod::Module, code::String, filename::String)",
      "   @ Base ./loading.jl:1116"
     ]
    }
   ],
   "source": [
    "mm = sortperm(results[(:nipycnh, :Xe)][:avg_free_energy], rev=true)"
   ]
  },
  {
   "cell_type": "code",
   "execution_count": null,
   "id": "e7a3a984",
   "metadata": {},
   "outputs": [],
   "source": []
  },
  {
   "cell_type": "code",
   "execution_count": 18,
   "id": "f3d6f369",
   "metadata": {
    "scrolled": true
   },
   "outputs": [
    {
     "ename": "LoadError",
     "evalue": "syntax: incomplete: \"function\" at In[18]:1 requires end",
     "output_type": "error",
     "traceback": [
      "syntax: incomplete: \"function\" at In[18]:1 requires end",
      "",
      "Stacktrace:",
      " [1] top-level scope",
      "   @ In[18]:1",
      " [2] eval",
      "   @ ./boot.jl:360 [inlined]",
      " [3] include_string(mapexpr::typeof(REPL.softscope), mod::Module, code::String, filename::String)",
      "   @ Base ./loading.jl:1116"
     ]
    }
   ],
   "source": [
    "function plot_2d_energygrid_slices(grid::Grid, xtal::Crystal, \n",
    "                                   adsorbate::Molecule{Cart}; \n",
    "                                   energy_cutoff::Int64=500,\n",
    "                                   dim::Int64=1)\n",
    "    # copy grid so we don't modify original\n",
    "    data = deepcopy(grid.data)\n",
    "    # values above a given energy cutoff will be set to inf for plotting purposes\n",
    "    for x in 1:grid.n_pts[1]\n",
    "        for y in 1:grid.n_pts[2]\n",
    "            for z in 1:grid.n_pts[3]\n",
    "                if data[x, y, z] > energy_cutoff\n",
    "                    data[x, y, z] = Inf\n",
    "                end\n",
    "            end\n",
    "        end\n",
    "\n",
    "    # make heatmap\n",
    "    fig, ax = subplots()\n",
    "    ax.scatter(vox_id[2], vox_id[3], label=\"reaction coordinate\", color=\"r\", marker=\"*\")\n",
    "    ax.set_title(\"$(String(adsorbate.species)) in $(xtal.name) - slice: $k\")\n",
    "    ax.legend()\n",
    "\n",
    "    im = ax.imshow(data[:, :], vmin=-100, vmax=energy_cutoff)\n",
    "    ax.set_xlabel(\"y [voxel ID]\")\n",
    "    ax.set_ylabel(\"z [voxel ID]\")\n",
    "\n",
    "    # Create colorbar\n",
    "    cbarlabel=\"[kJ/mol]\"\n",
    "    cbar = ax.figure.colorbar(im, ax=ax)\n",
    "    cbar.ax.set_ylabel(cbarlabel, rotation=-90, va=\"bottom\")\n",
    "    cbar.minorticks_on()\n",
    "\n",
    "    fig.tight_layout();\n",
    "    subdir_name = \"$(String(adsorbate.species))_in_$(split(xtal.name, '.')[1])\"\n",
    "    savefig(joinpath(pwd(), \"new_energygrid_slices\", \"$subdir_name/slice_$k.png\"), dpi=600, format=\"png\")\n",
    "    fig.show();    \n",
    "end\n",
    "\n",
    "###\n",
    "# plot_2d_energygrid_slices(grid, xtal, adsorbate, dim=3)"
   ]
  },
  {
   "cell_type": "markdown",
   "id": "0234226c",
   "metadata": {},
   "source": [
    "# Integral Method"
   ]
  },
  {
   "cell_type": "code",
   "execution_count": 19,
   "id": "1def37cf",
   "metadata": {},
   "outputs": [],
   "source": [
    "# \"\"\"\n",
    "# # Arguments:\n",
    "# `x::Float64`: reaction coordinate\n",
    "# `xtal::Crystal`: the MOF\n",
    "# `temp::Float64`: temperature, units: K. default=298.0 K\n",
    "# `bounds::Union{Nothing, Vector{Vector{Float64}}}`: 2d integration bounds\n",
    "# `energy_tol::Float64`: energy tolerance used for determining integratin bounds if bounds are not passed, \n",
    "#                         units: kJ/mol\n",
    "# \"\"\"\n",
    "# function free_energy(x::Float64, xtal::Crystal, molecule::Molecule, ljff::LJForceField; \n",
    "#                      temp::Float64=298.0, \n",
    "#                      bounds::Union{Nothing, Vector{Vector{Float64}}}=nothing,\n",
    "#                      energy_tol::Float64=50.0)\n",
    "\n",
    "#     β = 1 / (R * temp) # units: (kJ / mol)^-1\n",
    "    \n",
    "#     # get integration bounds\n",
    "#     if isnothing(bounds)\n",
    "#         bounds = get_2d_integration_bounds(xtal, energy_tol) # [[lb_y, lb_z], [ub_y, ub_z]]\n",
    "#     end\n",
    "#     # calculate area to normalize integral\n",
    "#     area = (bounds[2][1] - bounds[1][1]) * (bounds[2][2] - bounds[1][2])\n",
    "    \n",
    "#     # integrate planar slices along the reaction coordinate\n",
    "#     function integrand(yz::Vector{Float64})\n",
    "#         xf = [x, yz[1], yz[2]] # position in MOF\n",
    "        \n",
    "#         # make sure molecule is in fractional coords\n",
    "#         if isa(molecule, Molecule{Cart})\n",
    "#             molecule = Frac(molecule, xtal.box)\n",
    "#         end\n",
    "        \n",
    "#         # make sure the coords are fractional\n",
    "#         xf = mod.(xf, 1.0)\n",
    "#         # move probe molecule\n",
    "#         translate_to!(molecule, Frac(xf))\n",
    "#         # calculate the guest-host VDW interaction\n",
    "#         # vdw_energy * 8.314 / 1000 gives units: kJ/mol\n",
    "#         boltzmann_factor = exp(-β * (vdw_energy(xtal, molecule, ljff) * 8.314 / 1000))\n",
    "#         return boltzmann_factor\n",
    "#     end # integrand\n",
    "\n",
    "#     # perform integration\n",
    "#     fdim = 3 # perform two (y and z dir) real-valued integrals simultaneously\n",
    "#     (val, err) = hcubature(yz -> begin integrand(yz); end, bounds[1], bounds[2])\n",
    "#     # return free energy\n",
    "#     return (-1.0 / β) * log(val / area), err\n",
    "# end # free_energy\n",
    "\n",
    "\n",
    "# # I'm just guessing these values based on a .gif that I made of the energy heatmap\n",
    "# guess_bounds = [[0.0, 0.5], [0.6, 0.99]] ./ 3 # [[lb_y, lb_z], [ub_y, ub_z]]\n",
    "# # guess_bounds = [[0.0, 0.0], [1.0, 1.0]]\n",
    "\n",
    "# free_E = Array{Float64, 1}()\n",
    "# E_err  = Array{Float64, 1}()\n",
    "# nn = 100\n",
    "\n",
    "# for x in [0.0, 0.2] # range(0.0, stop=1.0/rep_factors[1][1], length=nn)\n",
    "#     f , err = free_energy(x, rep_xtals[1], adsorbates[1], ljff, bounds=guess_bounds)\n",
    "#     push!(free_E, f)\n",
    "#     push!(E_err, err)\n",
    "# end\n"
   ]
  }
 ],
 "metadata": {
  "kernelspec": {
   "display_name": "Julia 1.6.2",
   "language": "julia",
   "name": "julia-1.6"
  },
  "language_info": {
   "file_extension": ".jl",
   "mimetype": "application/julia",
   "name": "julia",
   "version": "1.6.2"
  }
 },
 "nbformat": 4,
 "nbformat_minor": 5
}
