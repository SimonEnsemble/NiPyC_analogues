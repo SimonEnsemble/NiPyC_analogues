{
 "cells": [
  {
   "cell_type": "markdown",
   "id": "2822d9a3",
   "metadata": {},
   "source": [
    "# Calculate Diffusion Coefficient\n",
    "\n",
    "The Free Energy Profile F(q), for radsorbate hopping along the reaction coordinate can be calculated by the mean energy of insertion of the (spherical) adsorbate molecule using the FF parameters in the planes orthogonal to the reaction coordinate:\n",
    "$$ F(q) = -k_BT ln\\langle e^{-\\beta \\Delta U} \\rangle_q $$\n",
    "Here the brackets denote averaging the Boltzmann factor ocer the square grids of resolution dx Å resolution.\n",
    "\n",
    "The 1-dim cage-to-cage hopping rate is given by: \n",
    "$$ k_{C_1 \\rightarrow C_2} = \\kappa \\sqrt{\\frac{k_B T}{2 \\pi m}} \\frac{e^{-\\beta F(q^*)}}{\\int_{cage} e^{-\\beta F(q)} \\,dq} $$\n",
    "where m is the mass of the adsorbate, q is the reaction coordinate, F is the Free Energy as a function of the reaction coordinate, T is the temperature (T = 298 K), and $\\kappa$ is the Bennett-Chandler dynamic correction. $\\kappa$ = 1 is a good approximatin for infinite dilution. \n",
    "The space is partitioned such that the dividing surface is perpendicular to the reactin coordinate and passes through the location of the maximum free energy barrier along the path F(q*). \n",
    "\n",
    "\n",
    "To get the self-diffusion coefficient ($D_s$) \n",
    "$$ D_s = \\frac{\\kappa}{2d} \\lambda^2 k_{C_1 \\rightarrow C_2} $$\n",
    "\n",
    "$\\lambda$ is the cage-center to cage-center lattice distance."
   ]
  },
  {
   "cell_type": "code",
   "execution_count": 1,
   "id": "c67a3d58",
   "metadata": {
    "scrolled": false
   },
   "outputs": [
    {
     "name": "stderr",
     "output_type": "stream",
     "text": [
      "┌ Warning: Error requiring `OffsetArrays` from `ArrayInterface`\n",
      "│   exception = (UndefVarError(:IdOffsetRange), Union{Ptr{Nothing}, Base.InterpreterIP}[Ptr{Nothing} @0x00007fbe00bdfcef, Ptr{Nothing} @0x00007fbe00c72d24, Ptr{Nothing} @0x00007fbdf29fdda2, Ptr{Nothing} @0x00007fbe00c55769, Ptr{Nothing} @0x00007fbe00c71f15, Ptr{Nothing} @0x00007fbe00c71bce, Ptr{Nothing} @0x00007fbe00c72811, Ptr{Nothing} @0x00007fbe00c73297, Base.InterpreterIP in top-level CodeInfo for ArrayInterface at statement 11, Ptr{Nothing} @0x00007fbe00c8eb31, Ptr{Nothing} @0x00007fbe00c90949, Ptr{Nothing} @0x00007fbda19292b1, Ptr{Nothing} @0x00007fbda19292dc, Ptr{Nothing} @0x00007fbe00c55769, Ptr{Nothing} @0x00007fbe00c71f15, Ptr{Nothing} @0x00007fbe00c71bce, Ptr{Nothing} @0x00007fbe00c72811, Ptr{Nothing} @0x00007fbe00c72b90, Ptr{Nothing} @0x00007fbe00c7304a, Base.InterpreterIP in MethodInstance for err(::Any, ::Module, ::String) at statement 2, Ptr{Nothing} @0x00007fbda1929227, Ptr{Nothing} @0x00007fbda192923c, Ptr{Nothing} @0x00007fbe00c55769, Ptr{Nothing} @0x00007fbe00c71f15, Ptr{Nothing} @0x00007fbe00c71bce, Ptr{Nothing} @0x00007fbe00c728a5, Ptr{Nothing} @0x00007fbe00c72b90, Ptr{Nothing} @0x00007fbe00c7304a, Base.InterpreterIP in MethodInstance for withpath(::Any, ::String) at statement 10, Ptr{Nothing} @0x00007fbda19291a3, Ptr{Nothing} @0x00007fbda19291cc, Ptr{Nothing} @0x00007fbe00c55769, Ptr{Nothing} @0x00007fbe00c66546, Ptr{Nothing} @0x00007fbda192902c, Ptr{Nothing} @0x00007fbe00c55769, Ptr{Nothing} @0x00007fbe00c71f15, Ptr{Nothing} @0x00007fbe00c71bce, Ptr{Nothing} @0x00007fbe00c72811, Ptr{Nothing} @0x00007fbe00c7304a, Base.InterpreterIP in MethodInstance for loadpkg(::Base.PkgId) at statement 6, Ptr{Nothing} @0x00007fbe00c55769, Ptr{Nothing} @0x00007fbe00c66546, Ptr{Nothing} @0x00007fbda189c05e, Ptr{Nothing} @0x00007fbda189ad8a, Ptr{Nothing} @0x00007fbda189d970, Ptr{Nothing} @0x00007fbda189fced, Ptr{Nothing} @0x00007fbda18a0a4c, Ptr{Nothing} @0x00007fbe00c55769, Ptr{Nothing} @0x00007fbe00c8dcd1, Ptr{Nothing} @0x00007fbe00c8fd97, Ptr{Nothing} @0x00007fbe00c8ed7c, Ptr{Nothing} @0x00007fbe00c90949, Ptr{Nothing} @0x00007fbda18fa6ac, Ptr{Nothing} @0x00007fbda18faa49, Ptr{Nothing} @0x00007fbe00c55769, Ptr{Nothing} @0x00007fbda18f75a3, Ptr{Nothing} @0x00007fbe00c55769, Ptr{Nothing} @0x00007fbe00c66546, Ptr{Nothing} @0x00007fbda18d531e, Ptr{Nothing} @0x00007fbda18d554e, Ptr{Nothing} @0x00007fbda18d556c, Ptr{Nothing} @0x00007fbe00c55769, Ptr{Nothing} @0x00007fbe00c76c9a, Ptr{Nothing} @0x0000000000000000])\n",
      "└ @ Requires /home/ng/.julia/packages/Requires/7Ncym/src/require.jl:49\n"
     ]
    }
   ],
   "source": [
    "using PorousMaterials\n",
    "using Statistics\n",
    "using PyPlot\n",
    "using Cubature\n",
    "using Printf "
   ]
  },
  {
   "cell_type": "code",
   "execution_count": 2,
   "id": "aaf20a14",
   "metadata": {},
   "outputs": [
    {
     "name": "stderr",
     "output_type": "stream",
     "text": [
      "┌ Info: Crystal NiPyC2_experiment.cif has Pn space group. I am converting it to P1 symmetry.\n",
      "│         To prevent this, pass `convert_to_p1=false` to the `Crystal` constructor.\n",
      "└ @ Xtals /home/ng/.julia/packages/Xtals/DSCSR/src/crystal.jl:433\n",
      "┌ Info: Crystal Pn_Ni-PyC-NH2.cif has Pn space group. I am converting it to P1 symmetry.\n",
      "│         To prevent this, pass `convert_to_p1=false` to the `Crystal` constructor.\n",
      "└ @ Xtals /home/ng/.julia/packages/Xtals/DSCSR/src/crystal.jl:433\n"
     ]
    }
   ],
   "source": [
    "# system setup\n",
    "const R = 8.31446261815324 / 1000 # Ideal Gas Constant, units: kJ/(mol-K)\n",
    "temp = 298.0 # units: K\n",
    "β = 1 / (R * temp) # units: (kJ/mol)⁻¹\n",
    "\n",
    "ljff = LJForceField(\"UFF\") # r_cut = 14.0 Å, mixing_rule = Lorentz-Berthelot\n",
    "\n",
    "\n",
    "adsorbates = Dict(:Xe => Dict(:molecule => Molecule(\"Xe\"),\n",
    "                              :mol_mass => 131.293 / 1000), # kg/mol\n",
    "                  :Kr => Dict(:molecule => Molecule(\"Kr\"), \n",
    "                              :mol_mass => 83.798 / 1000))  # kg/mol\n",
    "\n",
    "xtals = Dict(:nipyc   => Crystal(\"NiPyC2_experiment.cif\"),\n",
    "             :nipycnh => Crystal(\"Pn_Ni-PyC-NH2.cif\"));"
   ]
  },
  {
   "cell_type": "markdown",
   "id": "aab6ba1e",
   "metadata": {},
   "source": [
    "# Monte Carlo Integration TST Method \n",
    "1. Determine integration bounds: \n",
    "    We will integrate over the entire unit cell, but only points that are \n",
    "    accessible will contribute to the integral. Inaccessible points will be rejected. \n",
    "    1. calculate grid = energy_grid()\n",
    "    2. get seg_grid = PorousMaterials._segment_grid()\n",
    "    3. get acc_grid = calculate_accessibility_grid\n",
    "    4. get fractional coordinates of molecule (e.g. xf = rand(3))\n",
    "    5. check that we are in the channel that we want AND the gridpoint is accessible\n",
    "        - IF seg_grid.data(xf_to_id(xtal.box, xf) == channel_ID && accessible(acc_grid, xf)\n",
    "             THEN perform calculation vdw_energy(xf)\n",
    "          ELSE reject point (return exp() = 0? or just return nothing?)\n",
    "2. Calculate average Boltzmann Factor of the Free energy \n",
    "\n",
    "\n",
    "**Note:** for MC integration, the cross-sectional area of the channel at the slice we are evaluating is given as the area of the integrating domain multiplied by the ratio points inside the channel to the total number of MC samples on that domain, i.e. $$ A_{xc} = A_{domain} *\\left ( \\frac{N_{inside}}{N_{total}} \\right ) $$"
   ]
  },
  {
   "cell_type": "code",
   "execution_count": 20,
   "id": "0c857fcc",
   "metadata": {},
   "outputs": [
    {
     "name": "stdout",
     "output_type": "stream",
     "text": [
      "Computing energy grid of Xe in Pn_Ni-PyC-NH2.cif\n",
      "\tRegular grid (in fractional space) of 108 by 120 by 72 points superimposed over the unit cell.\n",
      "Found 3 segments\n"
     ]
    },
    {
     "data": {
      "text/plain": [
       "Regular grid of 108 by 120 by 72 points superimposed over a unit cell and associated data.\n",
       "\tunits of data attribute: Segment_No\n",
       "\torigin: [0.000000, 0.000000, 0.000000]\n"
      ]
     },
     "execution_count": 20,
     "metadata": {},
     "output_type": "execute_result"
    }
   ],
   "source": [
    "grid_resolution = 0.1 # units: Å\n",
    "energy_cutoff = 10.0 # units: kJ/mol\n",
    "\n",
    "grid = energy_grid(xtals[:nipycnh], adsorbates[:Xe][:molecule], ljff, resolution=grid_resolution)\n",
    "\n",
    "segmented_grid = PorousMaterials._segment_grid(grid, energy_cutoff, true)"
   ]
  },
  {
   "cell_type": "code",
   "execution_count": 23,
   "id": "e4f65159",
   "metadata": {},
   "outputs": [
    {
     "name": "stdout",
     "output_type": "stream",
     "text": [
      "\u001b[32mComputing accessibility grid of Pn_Ni-PyC-NH2.cif using 3.000000 kJ_mol potential energy tol and Xe probe...\u001b[39m\n",
      "Computing energy grid of Xe in Pn_Ni-PyC-NH2.cif\n",
      "\tRegular grid (in fractional space) of 108 by 120 by 72 points superimposed over the unit cell.\n",
      "Found 3 segments\n",
      "Noted seg. 1 --> 1 connection in (0, 0, 1) direction.\n",
      "Noted seg. 2 --> 2 connection in (0, 0, 1) direction.\n",
      "Noted seg. 3 --> 3 connection in (0, 0, 1) direction.\n",
      "Noted seg. 3 --> 1 connection in (1, 0, 0) direction.\n",
      "\tFound 7 simple cycles in segment connectivity graph.\n",
      "\t...found a cycle of accessible segments!\n",
      "\t...found a cycle of accessible segments!\n",
      "\t...found a cycle of accessible segments!\n",
      "\t...found a cycle of accessible segments!\n",
      "\t...found a cycle of accessible segments!\n",
      "\t...found a cycle of accessible segments!\n",
      "Segment 1 classified as accessible channel.\n",
      "Segment 2 classified as accessible channel.\n",
      "Segment 3 classified as accessible channel.\n"
     ]
    },
    {
     "data": {
      "text/plain": [
       "(Regular grid of 108 by 120 by 72 points superimposed over a unit cell and associated data.\n",
       "\tunits of data attribute: accessibility\n",
       "\torigin: [0.000000, 0.000000, 0.000000]\n",
       ", 0, Dict(:b4_blocking => 0.055514831961591224, :after_blocking => 0.055514831961591224))"
      ]
     },
     "execution_count": 23,
     "metadata": {},
     "output_type": "execute_result"
    }
   ],
   "source": [
    "# so the fact that there is a connection between channels makes things somewhat more complicated\n",
    "#         Noted seg. 3 --> 1 connection in (1, 0, 0) direction\n",
    "# the nice thing is that it is in the (1, 0, 0) direction while \n",
    "# the other channels are in the (0, 0, 1) direction. \n",
    "# The reason this makes it easier is that Ds = (Dx + Dy + Dz) / 3  (see refs.)\n",
    "# meaning that I can do the calculations for each channel independently, \n",
    "# disregarding the channels that are not accessible to each other \n",
    "# (this is to say that a molecule in channel 1 cannot diffuse into channel 2)\n",
    "# note: channel 2 is essentially identical to channel 1, bit it is staggered (see Egrid figs in paper)\n",
    "# could be useful to compare the diffusion in channel 2 to channel 1 (maybe take the average of the two?)\n",
    "\n",
    "# Oh, wait, but Noted seg. 3 --> 3 connection in (0, 0, 1) direction.\n",
    "# so, I'm not sure what this channel is... maybe there is another partial channel \n",
    "# present in the unit cell of nipycnh..?\n",
    "energy_cutoff = 3.0 # units: kJ/mol\n",
    "\n",
    "acc_grid, nb_segs_blocked, porosity = compute_accessibility_grid(xtals[:nipycnh], \n",
    "                                                                 adsorbates[:Xe][:molecule], \n",
    "                                                                 ljff;\n",
    "                                                                 resolution=grid_resolution,\n",
    "                                                                 energy_tol=energy_cutoff,  \n",
    "                                                                 energy_units=:kJ_mol,\n",
    "                                                                 verbose=true, \n",
    "                                                                 write_b4_after_grids=false,\n",
    "                                                                 block_inaccessible_pockets=true)"
   ]
  },
  {
   "cell_type": "code",
   "execution_count": 22,
   "id": "c0bbb2a9",
   "metadata": {},
   "outputs": [
    {
     "name": "stdout",
     "output_type": "stream",
     "text": [
      "Noted seg. 1 --> 1 connection in (0, 0, 1) direction.\n",
      "Noted seg. 2 --> 2 connection in (0, 0, 1) direction.\n",
      "Noted seg. 3 --> 3 connection in (0, 0, 1) direction.\n",
      "Noted seg. 3 --> 1 connection in (1, 0, 0) direction.\n"
     ]
    },
    {
     "data": {
      "text/plain": [
       "8-element Vector{PorousMaterials.SegmentConnection}:\n",
       " PorousMaterials.SegmentConnection(1, 1, (0, 0, 1))\n",
       " PorousMaterials.SegmentConnection(1, 1, (0, 0, -1))\n",
       " PorousMaterials.SegmentConnection(2, 2, (0, 0, 1))\n",
       " PorousMaterials.SegmentConnection(2, 2, (0, 0, -1))\n",
       " PorousMaterials.SegmentConnection(3, 3, (0, 0, 1))\n",
       " PorousMaterials.SegmentConnection(3, 3, (0, 0, -1))\n",
       " PorousMaterials.SegmentConnection(3, 1, (1, 0, 0))\n",
       " PorousMaterials.SegmentConnection(1, 3, (-1, 0, 0))"
      ]
     },
     "execution_count": 22,
     "metadata": {},
     "output_type": "execute_result"
    }
   ],
   "source": [
    "# get list of connections present in segmented grid\n",
    "# connections.str       start\n",
    "# connections.dst       destination\n",
    "# connections.direction direction\n",
    "connections = PorousMaterials._build_list_of_connections(segmented_grid)"
   ]
  },
  {
   "cell_type": "markdown",
   "id": "ce08544e",
   "metadata": {},
   "source": [
    "### Helper Functions"
   ]
  },
  {
   "cell_type": "code",
   "execution_count": 7,
   "id": "6a51287b",
   "metadata": {},
   "outputs": [
    {
     "data": {
      "text/plain": [
       "avg_free_energy_on_plane (generic function with 1 method)"
      ]
     },
     "execution_count": 7,
     "metadata": {},
     "output_type": "execute_result"
    }
   ],
   "source": [
    "# This is the average free energy on a plane along the reaction coord. q\n",
    "# this average is obtained by MC integration \n",
    "function avg_free_energy_on_plane(q::Float64, xtal::Crystal, adsorbate::Molecule,\n",
    "                   seg_grid::Grid{Int64}, acc_grid::Grid{Bool}; \n",
    "                   seg_id::Int=1, dim::Int=1, nb_insertions::Union{Float64, Int64}=1e6)\n",
    "    # initialize array to store energy values\n",
    "    if typeof(nb_insertions) != Int64 \n",
    "        nb_insertions = Int(nb_insertions)\n",
    "    end\n",
    "    sample_energy_on_slice = zeros(nb_insertions)\n",
    "    # initialize MC counter to calculate cross-sectional area\n",
    "    mc_inside = 0\n",
    "    \n",
    "    # make sure that xtal is replicated enough for vdW energy calculations\n",
    "    rep_factors = replication_factors(xtal, ljff)\n",
    "    crystal = replicate(xtal, rep_factors)\n",
    "        \n",
    "    # copy molecule so we don't manupulate original\n",
    "    molecule = deepcopy(adsorbate)\n",
    "    \n",
    "    ###\n",
    "    #  At this point {(0, 0, 0), (1, 1, 1)} define the bounds of the ORIGINAL crystal \n",
    "    #  in factional space\n",
    "    ###\n",
    "    \n",
    "    # perform MC integration on a plane\n",
    "    for n in 1:nb_insertions\n",
    "        # get random location, in fractional coords, on the plane\n",
    "        rxf_1, rxf_2 = rand(2)\n",
    "        \n",
    "        # NEED TO USE DIM TO FIGURE OUT WHICH POSITION IN THE ARRAY TO PLACE THE GIVEN INPUT COORDINATE\n",
    "        # DO IT MANUALLY FOR NOW\n",
    "        # inside ORIGINAL xtal.box\n",
    "        if dim == 1\n",
    "            xf = Frac([q, rxf_1, rxf_2]) \n",
    "        elseif dim == 2\n",
    "            xf = Frac([rxf_1, q, rxf_2])\n",
    "        elseif dim == 3\n",
    "            xf = Frac([rxf_1, rxf_2, q])\n",
    "        else\n",
    "            @error \"can only hande dim = 1, 2, or 3 currently\"\n",
    "        end\n",
    "        \n",
    "        # get voxel ID for molecule in original xtal\n",
    "        xf_id = xf_to_id(seg_grid.n_pts, [xf.xf...])\n",
    "        \n",
    "        # calculate energy IFF we are in the desired channel and the loc is accessible\n",
    "        if seg_grid.data[xf_id...] == seg_id && accessible(acc_grid, [xf.xf...])\n",
    "            # incrament mc counter\n",
    "            mc_inside += 1\n",
    "            \n",
    "            ###\n",
    "            #  At this point {(0, 0, 0), (1, 1, 1)} define the bounds of the REPLICATED crystal \n",
    "            #  in factional space\n",
    "            ###\n",
    "            \n",
    "            # redefine molecule in fractional coords w.r.t. replicated crystal\n",
    "            if isa(molecule, Molecule{Cart})\n",
    "                molecule = Frac(molecule, crystal.box)\n",
    "            else\n",
    "                translate_to!(molecule, Frac(molecule.com.xf ./ rep_factors)) # rescale Frac coords\n",
    "            end\n",
    "            \n",
    "            # translate the probe molecule to sampling location \n",
    "            translate_to!(molecule, Frac(xf.xf ./ rep_factors))\n",
    "\n",
    "            energy = vdw_energy(crystal, molecule, ljff) * R # units: kJ/mol\n",
    "            \n",
    "            push!(sample_energy_on_slice, energy)\n",
    "        end\n",
    "    end # MC integration\n",
    "    \n",
    "    ###\n",
    "    #  Area from MC is just the ration of accepted samples over the total number of samples,\n",
    "    #  multiplied by the area of the integrated domain\n",
    "    # TODO: I know we multiply by the ratio of samples, but do we include te box side lengths?\n",
    "    #       maybe check henry.jl to see how it is done there. Check Berend's book too. \n",
    "    ###\n",
    "    sides = [[2, 3], [1, 3], [1, 2]]\n",
    "    area_xc = getfield(xtal.box, sides[dim][1]) * getfield(xtal.box, sides[dim][2])\n",
    "    area = area_xc * (mc_inside / nb_insertions)\n",
    "    \n",
    "    boltzmann_factors = exp.(-β * sample_energy_on_slice)\n",
    "    \n",
    "    avg_boltzmann_factor_on_slice = sum(boltzmann_factors) / area\n",
    "    \n",
    "    avg_free_energy_at_q = -log(avg_boltzmann_factor_on_slice) / β\n",
    "    \n",
    "    return avg_free_energy_at_q\n",
    "end"
   ]
  },
  {
   "cell_type": "code",
   "execution_count": 8,
   "id": "838e8605",
   "metadata": {},
   "outputs": [
    {
     "data": {
      "text/plain": [
       "cal_self_diffusin_coeff (generic function with 1 method)"
      ]
     },
     "execution_count": 8,
     "metadata": {},
     "output_type": "execute_result"
    }
   ],
   "source": [
    "function cal_self_diffusin_coeff(xtal_key::Symbol, gas_key::Symbol, \n",
    "                                 q_str::Tuple{Any, Any},\n",
    "                                 free_E::Vector{Float64}; \n",
    "                                 dim::Int=1, verbose::Bool=true)\n",
    "\n",
    "    \n",
    "    \n",
    "    ###\n",
    "    #  Calculate hopping rate\n",
    "    ###\n",
    "    # dynamic update, correction, factor, is 1 at infinite dilution\n",
    "    κ = 1.0 # units: none\n",
    "    \n",
    "    # average velocity given by Boltzman dist.\n",
    "    # conversion: 1 m/s = 10 Å/ns \n",
    "    avg_vel = 10 * sqrt((1000 * R * temperature) / (2 * π * adsorbates[gas_key][:mol_mass])) # units: Å / ns \n",
    "    # jummping frequency (hoping rate), units: (avg num successful hops) / unit time\n",
    "    # hop_rate [=] ns⁻¹\n",
    "    sum_over_cage = sum(exp.(-β * grid_free_E[1:q_str_id])) / q_str_xf # normalized sum, units: unitless\n",
    "    \n",
    "    \n",
    "    hop_rate = κ * avg_vel * exp(-β * fe_q_str) / sum_over_cage\n",
    "    \n",
    "    ###\n",
    "    #  Calculate Diffusion Coefficient\n",
    "    ###\n",
    "    x = [i for i in 1:grid.n_pts[dim]] * getfield(xtals[:replicated][xtal_key].box, dim) / grid.n_pts[dim]    \n",
    "    λ = abs(x[grd_fe_min[2]] - x[grd_fe_min[1]]) # distance between wells, units: Å\n",
    "    if verbose; println(\"\\tDistance between wells, λ = $(λ) Å\"); end\n",
    "    @assert λ < getfield(xtals[:replicated][xtal_key].box, dim) \"distance between wells > xtal axis\"\n",
    "    \n",
    "    time_scale = λ / avg_vel\n",
    "    if verbose; println(\"\\tTime scale, t = $(time_scale) ns\"); end\n",
    "    \n",
    "    diff_coeff = (κ / 6) * λ^2 * hop_rate # units: [Å²/ns]\n",
    "\n",
    "    ### Conversion:\n",
    "    # 1 Å  = 10⁻⁸ cm -> 1 Å² = 10⁻¹⁶cm²\n",
    "    # 1 ns = 10⁻⁹ s\n",
    "    #\n",
    "    # Then,\n",
    "    # 1 Å / ns = (10⁻¹⁶cm²) / (10⁻⁹ s) = 10⁻⁷ cm²/s\n",
    "    ###\n",
    "    conversion_factor = 1e-7\n",
    "    Dₛ = diff_coeff * conversion_factor\n",
    "    return Dₛ, hop_rate\n",
    "end"
   ]
  },
  {
   "cell_type": "markdown",
   "id": "780fa79e",
   "metadata": {},
   "source": [
    "## Perform Calculations"
   ]
  },
  {
   "cell_type": "code",
   "execution_count": null,
   "id": "e1c904a0",
   "metadata": {},
   "outputs": [],
   "source": [
    "grid_resolution = 0.1 # units: Å\n",
    "energy_cutoff = 50.0 # units: kJ/mol\n",
    "\n",
    "for xtal_key in keys(xtals)\n",
    "    for gas in keys(adsorbates)\n",
    "        # track runtime\n",
    "        start_time = time()\n",
    "        \n",
    "        ###\n",
    "        #  Grid calculations\n",
    "        ###\n",
    "        # need grid to calculate segmented grid\n",
    "        grid = energy_grid(xtals[xtal_key], adsorbates[gas][:molecule], ljff, resolution=grid_resolution)\n",
    "        \n",
    "        # get segmented grid so we can constrain our calculation to a single channel\n",
    "        segmented_grid = PorousMaterials._segment_grid(grid, energy_cutoff, true)\n",
    "        \n",
    "        # get accessibility grid so we know is the sample location is valid given the energy cutoff\n",
    "        acc_grid, nb_segs_blocked, porosity = compute_accessibility_grid(xtal_key, \n",
    "                                                                 adsorbates[gas][:molecule], \n",
    "                                                                 ljff;\n",
    "                                                                 resolution=grid_resolution,\n",
    "                                                                 energy_tol=energy_cutoff,  \n",
    "                                                                 energy_units=:kJ_mol,\n",
    "                                                                 verbose=true, \n",
    "                                                                 write_b4_after_grids=false,\n",
    "                                                                 block_inaccessible_pockets=true)\n",
    "        \n",
    "        \n",
    "        # DETERMINE WHICH AXIS TO INTEGRATE ALONG\n",
    "        q_axis = 1\n",
    "        \n",
    "        ###\n",
    "        #  Calculate Average Free energy along reaction coordinate using MC integration\n",
    "        ###\n",
    "        # used for max free energy (xf, free energy)\n",
    "        q_str = (nothing, nothing) \n",
    "        \n",
    "        nn = 2 # increase density of slices by this factor\n",
    "        step_sz = grid_resolution / (nn * getfield(xtals[:nipyc].box, q_axis))\n",
    "        len = Int(ceil(1.0 / step_sz)) + 1\n",
    "        x_pts = range(0.0, stop=1.0, length=len) # will be fractional coords\n",
    "        \n",
    "        \n",
    "        avg_free_energy = Array{Float64, 1}()\n",
    "        for q in x_pts \n",
    "            @assert 0.0 <= q && q <= 1.0 \"invalid input, q = $(q) is outside of fractional bounds\"\n",
    "            # This is F(q) i.e. the average free energy as a function of the reaction coorfinate\n",
    "            result = avg_free_energy_on_plane(q, xtals[:nipyc], adsorbates[:Xe][:molecule], \n",
    "                                                       segmented_grid, acc_grid,\n",
    "                                                       seg_id=1, dim=q_axis, nb_insertions=1e3)\n",
    "            \n",
    "            push!(avg_free_energy, result)\n",
    "            \n",
    "            ###\n",
    "            #  Track value and location (Frac) of the maximum free energy\n",
    "            ###\n",
    "            \n",
    "            if any(isnothing.(q_str)) # not yet assigned\n",
    "                q_str = (q, result)\n",
    "            elseif result > q_str[2]\n",
    "                q_str = (q, result)\n",
    "            end\n",
    "        end\n",
    "        \n",
    "        # runtime\n",
    "        stop_time = time()\n",
    "        ellapsed_time = (stop_time - start_time) / 60 # miutes\n",
    "        println(\"runtime = $(ellapsed_time) [min]\")\n",
    "        \n",
    "        ###\n",
    "        #  Calculate Hoping Rate and Self-Diffusion Coefficient\n",
    "        ###\n",
    "        Dₛ, k = cal_self_diffusin_coeff(xtal_key, gas_key, q_str, free_E; \n",
    "                                 temperature::Float64=298.0, \n",
    "                                 dim::Int=1, verbose::Bool=true)\n",
    "        println(\"\\tHopping rate = $(k) [ns⁻¹]\")\n",
    "        println(\"\\tSelf-diffusion Coeff. = $(Dₛ) [cm² s⁻¹] \\n\")\n",
    "    end\n",
    "end"
   ]
  },
  {
   "cell_type": "code",
   "execution_count": 11,
   "id": "dda819bf",
   "metadata": {},
   "outputs": [],
   "source": [
    "### Xe in Ni(PyC)2 \n",
    "# nn = 1\n",
    "# 1e3 -> runtime = 0.005787030855814616 [min]\n",
    "# 1e4 -> runtime = 0.03901063203811646 [min]\n",
    "# 1e5 -> runtime = 0.3610572814941406 [min]\n",
    "# 1e6 -> runtime = 3.740756181875865 [min]\n",
    "\n",
    "# seem like time increases proportional to the log power increase\n",
    "\n",
    "# nn = 2, interested to see if time doubles correspondingly\n",
    "# 1e3 -> runtime = 0.013776783148447673 [min]\n",
    "# 1e4 -> runtime = 0.08588219881057739 [min]\n",
    "# 1e5 -> runtime = 0.8203191677729289 [min]\n",
    "# 1e6 -> runtime = 7.158331453800201 [min]\n",
    "###"
   ]
  },
  {
   "cell_type": "markdown",
   "id": "00b7a3b2",
   "metadata": {},
   "source": [
    "# Integral Method"
   ]
  },
  {
   "cell_type": "code",
   "execution_count": 12,
   "id": "b4ede2da",
   "metadata": {},
   "outputs": [],
   "source": [
    "# function integrand(xf, xtal, adsorbate, seg_grid, acc_grid, seg_id, dim, nb_insertions)\n",
    "#     avg_free_energy = avg_free_energy_on_plane(xf, xtals[:nipyc], \n",
    "#                                                adsorbates[:Xe][:molecule], \n",
    "#                                                segmented_grid, acc_grid, seg_id=1, dim=q_axis, \n",
    "#                                                nb_insertions=1e4)\n",
    "    \n",
    "#     result = exp(-β * avg_free_energy)\n",
    "#     return result\n",
    "# end\n",
    "\n",
    "\n",
    "\n",
    "\n",
    "\n",
    "\n",
    "# start_time = time()\n",
    "\n",
    "# ###\n",
    "# #  perform 1-dim integration along channels\n",
    "# ###\n",
    "# q_axis = 1\n",
    "\n",
    "# # bounds in fractional coordinates\n",
    "# lower_bound = 0.0\n",
    "# upper_bound = 1.0\n",
    "\n",
    "# relative_tolerance = 1e-1\n",
    "# absolute_tolerance = 0\n",
    "\n",
    "# (val, err) = hquadrature(xf -> begin integrand(xf, xtals[:nipyc], \n",
    "#                                                  adsorbates[:Xe][:molecule], \n",
    "#                                                  segmented_grid, acc_grid, seg_id=1, dim=q_axis, \n",
    "#                                                  nb_insertions=1e4); end,\n",
    "#                          lower_bound, upper_bound, \n",
    "#                          reltol=relative_tolerance, abstol=0, maxevals=0)\n",
    "\n",
    "# # calc runtime\n",
    "# stop_time = time()\n",
    "# ellapsed_time = (stop_time - start_time) / 60 # miutes\n",
    "# println(\"Integration Results - \")\n",
    "# println(\"\\tval = $(val)\")\n",
    "# println(\"\\terr = $(err)\")\n",
    "# println(\"\\tTolerances: rel_tol = $(relative_tolerance), abs_tol=$(absolute_tolerance)\")\n",
    "# println(\"runtime = $(ellapsed_time) [min]\")"
   ]
  }
 ],
 "metadata": {
  "kernelspec": {
   "display_name": "Julia 1.6.2",
   "language": "julia",
   "name": "julia-1.6"
  },
  "language_info": {
   "file_extension": ".jl",
   "mimetype": "application/julia",
   "name": "julia",
   "version": "1.6.2"
  }
 },
 "nbformat": 4,
 "nbformat_minor": 5
}
