{
 "cells": [
  {
   "cell_type": "markdown",
   "id": "2822d9a3",
   "metadata": {},
   "source": [
    "# Calculate Diffusion Coefficient\n",
    "\n",
    "The Free Energy Profile F(q), for radsorbate hopping along the reaction coordinate can be calculated by the mean energy of insertion of the (spherical) adsorbate molecule using the FF parameters in the planes orthogonal to the reaction coordinate:\n",
    "$$ F(q) = -k_BT ln\\langle e^{-\\beta \\Delta U} \\rangle_q $$\n",
    "Here the brackets denote averaging the Boltzmann factor ocer the square grids of resolution dx Å resolution.\n",
    "\n",
    "The 1-dim cage-to-cage hopping rate is given by: \n",
    "$$ k_{C_1 \\rightarrow C_2} = \\kappa \\sqrt{\\frac{k_B T}{2 \\pi m}} \\frac{e^{-\\beta F(q^*)}}{\\int_{cage} e^{-\\beta F(q)} \\,dq} $$\n",
    "where m is the mass of the adsorbate, q is the reaction coordinate, F is the SOMETHING Free Energy as a function of the reaction coordinate, T is the temperature (T = 298 K), and $\\kappa$ is the Bennett-Chandler dynamic correction. $\\kappa$ = 1 is a good approximatin for infinite dilution. \n",
    "The space is partitioned such that the dividing surface is perpendicular to the reactin coordinate and passes through the location of the maximum free energy barrier along the path F(q*). \n",
    "\n",
    "\n",
    "To get the self-diffusion coefficient ($D_s$) \n",
    "$$ D_s = \\frac{\\kappa}{2d} \\lambda^2 k_{C_1 \\rightarrow C_2} $$\n",
    "\n",
    "$\\lambda$ is the cage-center to cage-center lattice distance."
   ]
  },
  {
   "cell_type": "code",
   "execution_count": 1,
   "id": "c67a3d58",
   "metadata": {
    "scrolled": false
   },
   "outputs": [
    {
     "name": "stderr",
     "output_type": "stream",
     "text": [
      "┌ Warning: Error requiring `OffsetArrays` from `ArrayInterface`\n",
      "│   exception = (UndefVarError(:IdOffsetRange), Union{Ptr{Nothing}, Base.InterpreterIP}[Ptr{Nothing} @0x00007f123cf99cef, Ptr{Nothing} @0x00007f123d02cd24, Ptr{Nothing} @0x00007f122edb7da2, Ptr{Nothing} @0x00007f123d00f769, Ptr{Nothing} @0x00007f123d02bf15, Ptr{Nothing} @0x00007f123d02bbce, Ptr{Nothing} @0x00007f123d02c811, Ptr{Nothing} @0x00007f123d02d297, Base.InterpreterIP in top-level CodeInfo for ArrayInterface at statement 11, Ptr{Nothing} @0x00007f123d048b31, Ptr{Nothing} @0x00007f123d04a949, Ptr{Nothing} @0x00007f11ddce32a1, Ptr{Nothing} @0x00007f11ddce32cc, Ptr{Nothing} @0x00007f123d00f769, Ptr{Nothing} @0x00007f123d02bf15, Ptr{Nothing} @0x00007f123d02bbce, Ptr{Nothing} @0x00007f123d02c811, Ptr{Nothing} @0x00007f123d02cb90, Ptr{Nothing} @0x00007f123d02d04a, Base.InterpreterIP in MethodInstance for err(::Any, ::Module, ::String) at statement 2, Ptr{Nothing} @0x00007f11ddce3217, Ptr{Nothing} @0x00007f11ddce322c, Ptr{Nothing} @0x00007f123d00f769, Ptr{Nothing} @0x00007f123d02bf15, Ptr{Nothing} @0x00007f123d02bbce, Ptr{Nothing} @0x00007f123d02c8a5, Ptr{Nothing} @0x00007f123d02cb90, Ptr{Nothing} @0x00007f123d02d04a, Base.InterpreterIP in MethodInstance for withpath(::Any, ::String) at statement 10, Ptr{Nothing} @0x00007f11ddce3193, Ptr{Nothing} @0x00007f11ddce31bc, Ptr{Nothing} @0x00007f123d00f769, Ptr{Nothing} @0x00007f123d020546, Ptr{Nothing} @0x00007f11ddce301c, Ptr{Nothing} @0x00007f123d00f769, Ptr{Nothing} @0x00007f123d02bf15, Ptr{Nothing} @0x00007f123d02bbce, Ptr{Nothing} @0x00007f123d02c811, Ptr{Nothing} @0x00007f123d02d04a, Base.InterpreterIP in MethodInstance for loadpkg(::Base.PkgId) at statement 6, Ptr{Nothing} @0x00007f123d00f769, Ptr{Nothing} @0x00007f123d020546, Ptr{Nothing} @0x00007f11ddc5605e, Ptr{Nothing} @0x00007f11ddc54d8a, Ptr{Nothing} @0x00007f11ddc57960, Ptr{Nothing} @0x00007f11ddc59cdd, Ptr{Nothing} @0x00007f11ddc5aa3c, Ptr{Nothing} @0x00007f123d00f769, Ptr{Nothing} @0x00007f123d047cd1, Ptr{Nothing} @0x00007f123d049d97, Ptr{Nothing} @0x00007f123d048d7c, Ptr{Nothing} @0x00007f123d04a949, Ptr{Nothing} @0x00007f11ddcb469c, Ptr{Nothing} @0x00007f11ddcb4a39, Ptr{Nothing} @0x00007f123d00f769, Ptr{Nothing} @0x00007f11ddcb1593, Ptr{Nothing} @0x00007f123d00f769, Ptr{Nothing} @0x00007f123d020546, Ptr{Nothing} @0x00007f11ddc8f30e, Ptr{Nothing} @0x00007f11ddc8f53e, Ptr{Nothing} @0x00007f11ddc8f55c, Ptr{Nothing} @0x00007f123d00f769, Ptr{Nothing} @0x00007f123d030c9a, Ptr{Nothing} @0x0000000000000000])\n",
      "└ @ Requires /home/ng/.julia/packages/Requires/7Ncym/src/require.jl:49\n"
     ]
    }
   ],
   "source": [
    "using PorousMaterials\n",
    "using Statistics\n",
    "using PyPlot\n",
    "using Cubature\n",
    "using Printf "
   ]
  },
  {
   "cell_type": "code",
   "execution_count": 2,
   "id": "6ff44e7b",
   "metadata": {},
   "outputs": [
    {
     "name": "stderr",
     "output_type": "stream",
     "text": [
      "┌ Info: Crystal NiPyC2_experiment.cif has Pn space group. I am converting it to P1 symmetry.\n",
      "│         To prevent this, pass `convert_to_p1=false` to the `Crystal` constructor.\n",
      "└ @ Xtals /home/ng/.julia/packages/Xtals/DSCSR/src/crystal.jl:433\n",
      "┌ Info: Crystal Pn_Ni-PyC-NH2.cif has Pn space group. I am converting it to P1 symmetry.\n",
      "│         To prevent this, pass `convert_to_p1=false` to the `Crystal` constructor.\n",
      "└ @ Xtals /home/ng/.julia/packages/Xtals/DSCSR/src/crystal.jl:433\n"
     ]
    },
    {
     "data": {
      "text/plain": [
       "Dict{Symbol, Crystal} with 2 entries:\n",
       "  :nipyc   => Name: NiPyC2_experiment.cif…\n",
       "  :nipycnh => Name: Pn_Ni-PyC-NH2.cif…"
      ]
     },
     "execution_count": 2,
     "metadata": {},
     "output_type": "execute_result"
    }
   ],
   "source": [
    "const R = 8.31446261815324 / 1000 # Ideal Gas Constant, units: kJ/(mol-K)\n",
    "temp = 298.0 # units: K\n",
    "β = 1 / (R * temp) # units: (kJ/mol)⁻¹\n",
    "\n",
    "ljff = LJForceField(\"UFF\") # r_cut = 14.0 Å, mixing_rule = Lorentz-Berthelot\n",
    "\n",
    "\n",
    "adsorbates = Dict(:Xe => Dict(:molecule => Molecule(\"Xe\"),\n",
    "                              :mol_mass => 131.293 / 1000), # kg/mol\n",
    "                  :Kr => Dict(:molecule => Molecule(\"Kr\"), \n",
    "                              :mol_mass => 83.798 / 1000))  # kg/mol\n",
    "\n",
    "xtals = Dict(:nipyc   => Crystal(\"NiPyC2_experiment.cif\"),\n",
    "             :nipycnh => Crystal(\"Pn_Ni-PyC-NH2.cif\"))"
   ]
  },
  {
   "cell_type": "markdown",
   "id": "aab6ba1e",
   "metadata": {},
   "source": [
    "# Monte Carlo Integration TST Method \n",
    "1. Determine integration bounds: \n",
    "    We will integrate over the entire unit cell, but only points that are \n",
    "    accessible will contribute to the integral. Inaccessible points will be rejected. \n",
    "    1. calculate grid = energy_grid()\n",
    "    2. get seg_grid = PorousMaterials._segment_grid()\n",
    "    3. get acc_grid = calculate_accessibility_grid\n",
    "    4. get fractional coordinates of molecule (e.g. xf = rand(3))\n",
    "    5. check that we are in the channel that we want AND the gridpoint is accessible\n",
    "        - IF seg_grid.data(xf_to_id(xtal.box, xf) == channel_ID && accessible(acc_grid, xf)\n",
    "             THEN perform calculation vdw_energy(xf)\n",
    "          ELSE reject point (return exp() = 0? or just return nothing?)\n",
    "2. Calculate average Boltzmann Factor of the Free energy \n",
    "\n",
    "\n",
    "**Note:** for MC integration, the cross-sectional area of the channel at the slice we are evaluating is given as the area of the integrating domain multiplied by the ratio points inside the channel to the total number of MC samples on that domain, i.e. $$ A_{xc} = A_{domain} *\\left ( \\frac{N_{inside}}{N_{total}} \\right ) $$"
   ]
  },
  {
   "cell_type": "code",
   "execution_count": 3,
   "id": "1d024ff5",
   "metadata": {},
   "outputs": [
    {
     "name": "stdout",
     "output_type": "stream",
     "text": [
      "Computing energy grid of Xe in NiPyC2_experiment.cif\n",
      "\tRegular grid (in fractional space) of 64 by 127 by 104 points superimposed over the unit cell.\n"
     ]
    },
    {
     "data": {
      "text/plain": [
       "Regular grid of 64 by 127 by 104 points superimposed over a unit cell and associated data.\n",
       "\tunits of data attribute: kJ_mol\n",
       "\torigin: [0.000000, 0.000000, 0.000000]\n"
      ]
     },
     "execution_count": 3,
     "metadata": {},
     "output_type": "execute_result"
    }
   ],
   "source": [
    "grid_resolution = 0.1 # units: Å\n",
    "energy_cutoff = 50.0 # units: kJ/mol\n",
    "\n",
    "grid = energy_grid(xtals[:nipyc], adsorbates[:Xe][:molecule], ljff, resolution=grid_resolution)"
   ]
  },
  {
   "cell_type": "code",
   "execution_count": 4,
   "id": "cfcdfeee",
   "metadata": {},
   "outputs": [
    {
     "name": "stdout",
     "output_type": "stream",
     "text": [
      "Found 2 segments\n"
     ]
    },
    {
     "data": {
      "text/plain": [
       "Regular grid of 64 by 127 by 104 points superimposed over a unit cell and associated data.\n",
       "\tunits of data attribute: Segment_No\n",
       "\torigin: [0.000000, 0.000000, 0.000000]\n"
      ]
     },
     "execution_count": 4,
     "metadata": {},
     "output_type": "execute_result"
    }
   ],
   "source": [
    "segmented_grid = PorousMaterials._segment_grid(grid, energy_cutoff, true)"
   ]
  },
  {
   "cell_type": "code",
   "execution_count": 5,
   "id": "1dc26baa",
   "metadata": {},
   "outputs": [
    {
     "name": "stdout",
     "output_type": "stream",
     "text": [
      "\u001b[32mComputing accessibility grid of NiPyC2_experiment.cif using 50.000000 kJ_mol potential energy tol and Xe probe...\u001b[39m\n",
      "Computing energy grid of Xe in NiPyC2_experiment.cif\n",
      "\tRegular grid (in fractional space) of 64 by 127 by 104 points superimposed over the unit cell.\n",
      "Found 2 segments\n",
      "Noted seg. 1 --> 1 connection in (1, 0, 0) direction.\n",
      "Noted seg. 2 --> 2 connection in (1, 0, 0) direction.\n",
      "\tFound 4 simple cycles in segment connectivity graph.\n",
      "\t...found a cycle of accessible segments!\n",
      "\t...found a cycle of accessible segments!\n",
      "\t...found a cycle of accessible segments!\n",
      "\t...found a cycle of accessible segments!\n",
      "Segment 1 classified as accessible channel.\n",
      "Segment 2 classified as accessible channel.\n"
     ]
    },
    {
     "data": {
      "text/plain": [
       "(Regular grid of 64 by 127 by 104 points superimposed over a unit cell and associated data.\n",
       "\tunits of data attribute: accessibility\n",
       "\torigin: [0.000000, 0.000000, 0.000000]\n",
       ", 0, Dict(:b4_blocking => 0.07922991747425802, :after_blocking => 0.07922991747425802))"
      ]
     },
     "execution_count": 5,
     "metadata": {},
     "output_type": "execute_result"
    }
   ],
   "source": [
    "# so the fact that there is a connection between channels makes things somewhat more complicated\n",
    "#         Noted seg. 3 --> 1 connection in (1, 0, 0) direction\n",
    "# the nice thing is that it is in the (1, 0, 0) direction while \n",
    "# the other channels are in the (0, 0, 1) direction. \n",
    "# The reason this makes it easier is that Ds = (Dx + Dy + Dz) / 3  (see refs.)\n",
    "# meaning that I can do the calculations for each channel independently, \n",
    "# disregarding the channels that are not accessible to each other \n",
    "# (this is to say that a molecule in channel 1 cannot diffuse into channel 2)\n",
    "# note: channel 2 is essentially identical to channel 1, bit it is staggered (see Egrid figs in paper)\n",
    "# could be useful to compare the diffusion in channel 2 to channel 1 (maybe take the average of the two?)\n",
    "\n",
    "# Oh, wait, but Noted seg. 3 --> 3 connection in (0, 0, 1) direction.\n",
    "# so, I'm not sure what this channel is... maybe there is another partial channel \n",
    "# present in the unit cell of nipycnh..?\n",
    "\n",
    "acc_grid, nb_segs_blocked, porosity = compute_accessibility_grid(xtals[:nipyc], \n",
    "                                                                 adsorbates[:Xe][:molecule], \n",
    "                                                                 ljff;\n",
    "                                                                 resolution=grid_resolution,\n",
    "                                                                 energy_tol=energy_cutoff,  \n",
    "                                                                 energy_units=:kJ_mol,\n",
    "                                                                 verbose=true, \n",
    "                                                                 write_b4_after_grids=false,\n",
    "                                                                 block_inaccessible_pockets=true)"
   ]
  },
  {
   "cell_type": "code",
   "execution_count": 6,
   "id": "1b5f8032",
   "metadata": {},
   "outputs": [
    {
     "name": "stdout",
     "output_type": "stream",
     "text": [
      "Noted seg. 1 --> 1 connection in (1, 0, 0) direction.\n",
      "Noted seg. 2 --> 2 connection in (1, 0, 0) direction.\n"
     ]
    },
    {
     "data": {
      "text/plain": [
       "4-element Vector{PorousMaterials.SegmentConnection}:\n",
       " PorousMaterials.SegmentConnection(1, 1, (1, 0, 0))\n",
       " PorousMaterials.SegmentConnection(1, 1, (-1, 0, 0))\n",
       " PorousMaterials.SegmentConnection(2, 2, (1, 0, 0))\n",
       " PorousMaterials.SegmentConnection(2, 2, (-1, 0, 0))"
      ]
     },
     "execution_count": 6,
     "metadata": {},
     "output_type": "execute_result"
    }
   ],
   "source": [
    "# get list of connections present in segmented grid\n",
    "# connections.str       start\n",
    "# connections.dst       destination\n",
    "# connections.direction direction\n",
    "connections = PorousMaterials._build_list_of_connections(segmented_grid)"
   ]
  },
  {
   "cell_type": "code",
   "execution_count": 8,
   "id": "4b6d4dea",
   "metadata": {},
   "outputs": [
    {
     "data": {
      "text/plain": [
       "integrand (generic function with 1 method)"
      ]
     },
     "execution_count": 8,
     "metadata": {},
     "output_type": "execute_result"
    }
   ],
   "source": [
    "# The integrand is the average free energy on a plane along the reaction coord. q\n",
    "# this average is obtained by MC integration \n",
    "function integrand(q::Float64, xtal::Crystal, adsorbate::Molecule,\n",
    "                   seg_grid::Grid{Int64}, acc_grid::Grid{Bool}; \n",
    "                   seg_id::Int=1, dim::Int=1, nb_insertions::Union{Float64, Int64}=1e6)\n",
    "    # initialize array to store energy values\n",
    "    if typeof(nb_insertions) != Int64 \n",
    "        nb_insertions = Int(nb_insertions)\n",
    "    end\n",
    "    sample_energy_on_slice = zeros(nb_insertions)\n",
    "    # initialize MC counter to calculate cross-sectional area\n",
    "    mc_inside = 0\n",
    "    \n",
    "    # make sure that xtal is replicated enough for vdW energy calculations\n",
    "    rep_factors = replication_factors(xtal, ljff)\n",
    "    crystal = replicate(xtal, rep_factors)\n",
    "        \n",
    "    # copy molecule so we don't manupulate original\n",
    "    molecule = deepcopy(adsorbate)\n",
    "    \n",
    "    ###\n",
    "    #  At this point {(0, 0, 0), (1, 1, 1)} define the bounds of the ORIGINAL crystal \n",
    "    #  in factional space\n",
    "    ###\n",
    "    \n",
    "    # perform MC integration on a plane\n",
    "    for n in 1:nb_insertions\n",
    "        # get random location, in fractional coords, on the plane\n",
    "        rxf_1, rxf_2 = rand(2)\n",
    "        \n",
    "        # NEED TO USE DIM TO FIGURE OUT WHICH POSITION IN THE ARRAY TO PLACE THE GIVEN INPUT COORDINATE\n",
    "        # DO IT MANUALLY FOR NOW\n",
    "        # inside ORIGINAL xtal.box\n",
    "        if dim == 1\n",
    "            xf = Frac([q, rxf_1, rxf_2]) \n",
    "        elseif dim == 2\n",
    "            xf = Frac([rxf_1, q, rxf_2])\n",
    "        elseif dim == 3\n",
    "            xf = Frac([rxf_1, rxf_2, q])\n",
    "        else\n",
    "            @error \"can only hande dim = 1, 2, or 3 currently\"\n",
    "        end\n",
    "        \n",
    "        # get voxel ID for molecule in original xtal\n",
    "        xf_id = xf_to_id(seg_grid.n_pts, [xf.xf...])\n",
    "        \n",
    "        # calculate energy IFF we are in the desired channel and the loc is accessible\n",
    "        if seg_grid.data[xf_id...] == seg_id && accessible(acc_grid, [xf.xf...])\n",
    "            # incrament mc counter\n",
    "            mc_inside += 1\n",
    "            \n",
    "            ###\n",
    "            #  At this point {(0, 0, 0), (1, 1, 1)} define the bounds of the REPLICATED crystal \n",
    "            #  in factional space\n",
    "            ###\n",
    "            \n",
    "            # redefine molecule in fractional coords w.r.t. replicated crystal\n",
    "            if isa(molecule, Molecule{Cart})\n",
    "                molecule = Frac(molecule, crystal.box)\n",
    "            else\n",
    "                translate_to!(molecule, Frac(molecule.com.xf ./ rep_factors)) # rescale Frac coords\n",
    "            end\n",
    "            \n",
    "            # translate the probe molecule to sampling location \n",
    "            translate_to!(molecule, Frac(xf.xf ./ rep_factors))\n",
    "\n",
    "            energy = vdw_energy(crystal, molecule, ljff) * R # units: kJ/mol\n",
    "            \n",
    "            push!(sample_energy_on_slice, energy)\n",
    "        end\n",
    "    end # MC integration\n",
    "    \n",
    "    ###\n",
    "    #  Area from MC is just the ration of accepted samples over the total number of samples,\n",
    "    #  multiplied by the area of the integrated domain\n",
    "    ###\n",
    "    sides = [[2, 3], [1, 3], [1, 2]]\n",
    "    area_xc = getfield(xtal.box, sides[dim][1]) * getfield(xtal.box, sides[dim][2])\n",
    "    area = area_xc * (mc_inside / nb_insertions)\n",
    "    \n",
    "    boltzmann_factors = exp.(-β * sample_energy_on_slice)\n",
    "    \n",
    "    avg_boltzmann_factor_on_slice = sum(boltzmann_factors) / area\n",
    "    \n",
    "    return -log(avg_boltzmann_factor_on_slice) / β\n",
    "end"
   ]
  },
  {
   "cell_type": "code",
   "execution_count": 36,
   "id": "9bc8c058",
   "metadata": {},
   "outputs": [],
   "source": [
    "###\n",
    "#  TEST: check if the integrand function is even producing a result\n",
    "###\n",
    "q_axis = 1\n",
    "\n",
    "avg_fe = Array{Float64, 1}()\n",
    "\n",
    "for i in 1:grid.n_pts[q_axis]\n",
    "    q = id_to_xf((i, 1, 1), grid.n_pts)[1]\n",
    "    \n",
    "    result = integrand(q, xtals[:nipyc], adsorbates[:Xe][:molecule], segmented_grid, acc_grid,\n",
    "                       seg_id=1, dim=q_axis, nb_insertions=1e4)\n",
    "    \n",
    "    push!(avg_fe, result)\n",
    "end\n",
    "\n",
    "# plot test results\n",
    "figure()\n",
    "\n",
    "x = [(grid_resolution * i) for i in 1:grid.n_pts[q_axis]] ./ getfield(xtals[:nipyc].box, q_axis)\n",
    "\n",
    "q_str_id = sortperm(avg_fe, rev=true)[1]\n",
    "\n",
    "plot(x, avg_fe)\n",
    "scatter(x[q_str_id], avg_fe[q_str_id], color=\"r\", marker=\"*\")\n",
    "\n",
    "tight_layout()"
   ]
  },
  {
   "cell_type": "code",
   "execution_count": 37,
   "id": "ee6102ab",
   "metadata": {
    "scrolled": false
   },
   "outputs": [
    {
     "data": {
      "image/png": "[encoded data removed]",
      "text/plain": [
       "Figure(PyObject <Figure size 640x480 with 1 Axes>)"
      ]
     },
     "metadata": {},
     "output_type": "display_data"
    }
   ],
   "source": []
  },
  {
   "cell_type": "code",
   "execution_count": null,
   "id": "9a2202f1",
   "metadata": {},
   "outputs": [],
   "source": [
    "### TODO:\n",
    "#  1. find a way to track the maxmum value and it's location while using the integral method\n",
    "#  2. Calculate the self-Diffusion Coefficient\n",
    "###"
   ]
  },
  {
   "cell_type": "code",
   "execution_count": null,
   "id": "3cab289a",
   "metadata": {},
   "outputs": [],
   "source": [
    "time = time()"
   ]
  },
  {
   "cell_type": "code",
   "execution_count": 39,
   "id": "503c4c81",
   "metadata": {},
   "outputs": [
    {
     "ename": "LoadError",
     "evalue": "InterruptException:",
     "output_type": "error",
     "traceback": [
      "InterruptException:",
      "",
      "Stacktrace:",
      " [1] (::Cubature.var\"#17#18\"{Bool, Bool, Int64, Float64, Int64, Int64, Int32, Ptr{Nothing}, Cubature.IntegrandData{var\"#30#31\"}, Vector{Float64}, Vector{Float64}, Vector{Float64}, Vector{Float64}, Int64})()",
      "   @ Cubature ~/.julia/packages/Cubature/5zwuu/src/Cubature.jl:215",
      " [2] disable_sigint",
      "   @ ./c.jl:458 [inlined]",
      " [3] cubature(xscalar::Bool, fscalar::Bool, vectorized::Bool, padaptive::Bool, fdim::Int64, f::var\"#30#31\", xmin_::Float64, xmax_::Float64, reqRelError::Float64, reqAbsError::Int64, maxEval::Int64, error_norm::Int32)",
      "   @ Cubature ~/.julia/packages/Cubature/5zwuu/src/Cubature.jl:169",
      " [4] hquadrature(f::Function, xmin::Float64, xmax::Float64; reltol::Float64, abstol::Int64, maxevals::Int64)",
      "   @ Cubature ~/.julia/packages/Cubature/5zwuu/src/Cubature.jl:230",
      " [5] top-level scope",
      "   @ In[39]:10",
      " [6] eval",
      "   @ ./boot.jl:360 [inlined]",
      " [7] include_string(mapexpr::typeof(REPL.softscope), mod::Module, code::String, filename::String)",
      "   @ Base ./loading.jl:1116"
     ]
    }
   ],
   "source": [
    "###\n",
    "#  perform 1-dim integration along channels\n",
    "###\n",
    "\n",
    "# bounds in fractional coordinates\n",
    "lower_bound = 0.0\n",
    "upper_bound = 1.0\n",
    "\n",
    "\n",
    "(val, err) = hquadrature(xf -> integrand(xf, xtals[:nipyc], adsorbates[:Xe][:molecule], \n",
    "                                         segmented_grid, acc_grid, seg_id=1, dim=q_axis, nb_insertions=1e3),\n",
    "                         lower_bound, upper_bound, reltol=1e-3, abstol=0, maxevals=0)"
   ]
  },
  {
   "cell_type": "code",
   "execution_count": null,
   "id": "93462728",
   "metadata": {},
   "outputs": [],
   "source": [
    "ellapsed_time = (time() - time) / 60 # miutes"
   ]
  },
  {
   "cell_type": "code",
   "execution_count": null,
   "id": "cdb48106",
   "metadata": {},
   "outputs": [],
   "source": []
  }
 ],
 "metadata": {
  "kernelspec": {
   "display_name": "Julia 1.6.2",
   "language": "julia",
   "name": "julia-1.6"
  },
  "language_info": {
   "file_extension": ".jl",
   "mimetype": "application/julia",
   "name": "julia",
   "version": "1.6.2"
  }
 },
 "nbformat": 4,
 "nbformat_minor": 5
}
