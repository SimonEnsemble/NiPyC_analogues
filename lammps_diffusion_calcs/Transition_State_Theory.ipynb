{
 "cells": [
  {
   "cell_type": "markdown",
   "id": "a670ef04",
   "metadata": {},
   "source": [
    "# Calculate Diffusion Coefficient\n",
    "\n",
    "Note: A priori knowledge about the axis parallel to the reaction coordinate will needed. We don't have a robust method for automating that process yet. \n",
    "\n",
    "\n",
    "The Free Energy Profile F(q), fo radsorbate hopping aling the reaction coordinate can be calculated by the mean energy of insertion of the (spherical) adsorbate molecule using the FF parameters in the planes orthogonal to the reaction coordinate:\n",
    "$$ F(q) = -k_BT ln\\langle e^{-\\beta \\Delta U} \\rangle_q $$\n",
    "Here the brackets denote averaging the Boltzmann factor ocer the square grids of resolution dx Å resolution.\n",
    "\n",
    "The 1-dim cage-to-cage hopping rate is given by: \n",
    "$$ k_{C_1 \\rightarrow C_2} = \\kappa \\sqrt{\\frac{k_B T}{2 \\pi m}} \\frac{e^{-\\beta F(q^*)}}{\\int_{cage} e^{-\\beta F(q)} \\,dq} $$\n",
    "where m is the mass of the adsorbate, q is the reaction coordinate, F is the SOMETHING Free Energy as a function of the reaction coordinate, T is the temperature (T = 298 K), and $\\kappa$ is the Bennett-Chandler dynamic correction. $\\kappa$ = 1 is a good approximatin for infinite dilution. \n",
    "The space is partitioned such that the dividing surface is perpendicular to the reactin coordinate and passes through the location of the maximum free energy barrier along the path F(q*). \n",
    "\n",
    "\n",
    "To get the self-diffusion coefficient ($D_s$) \n",
    "$$ D_s = \\frac{\\kappa}{2d} \\lambda^2 k_{C_1 \\rightarrow C_2} $$\n",
    "\n",
    "$\\lambda$ is the cage-center to cage-center lattice distance."
   ]
  },
  {
   "cell_type": "markdown",
   "id": "766f700f",
   "metadata": {},
   "source": [
    "### Outline\n",
    "In this notebook, I am going to try to implement Transition State Theory (TST) to calculate the Self-Diffusion Coefficient of Xe and Kr in Ni(PyC)2 and Ni(PyC-m-NH2)2.\n",
    "\n",
    "Helpful references include:\n",
    "   1. [J. Phys. Chem. C 2016, 120, 2, 1110–1120](https://doi.org/10.1021/acs.jpcc.5b11111)\n",
    "   2. [J. Chem. Phys. 122, 224712 (2005)](https://doi.org/10.1063/1.1924548)\n",
    "   \n",
    "Strategy:\n",
    "   1. Load crystal, molecules, forcefield, ... \n",
    "   2. Perform `energy_grid()` calculation on each scructure for each adsorbate\n",
    "   3. Define the reaction coordinate \n",
    "       a) find the location of the minimum free energy\n",
    "       b) find the location of the minimum free energy in an adjacent pocket.\n",
    "   4. Take \"slices\" of the free energy profile along the reaction coordinate.\n",
    "   5. Perform integration using julia package [Cubature.jl](https://github.com/JuliaMath/Cubature.jl)\n",
    "   6. Calculate cage-to-cage hopping rate $k_{C_1 \\rightarrow C_2}$\n",
    "   7. Calculate sel-difusion coefficient $D_s$"
   ]
  },
  {
   "cell_type": "code",
   "execution_count": 1,
   "id": "b29111e0",
   "metadata": {
    "scrolled": false
   },
   "outputs": [
    {
     "name": "stderr",
     "output_type": "stream",
     "text": [
      "┌ Warning: Error requiring `OffsetArrays` from `ArrayInterface`\n",
      "│   exception = (UndefVarError(:IdOffsetRange), Union{Ptr{Nothing}, Base.InterpreterIP}[Ptr{Nothing} @0x00007f8428903cef, Ptr{Nothing} @0x00007f8428996d24, Ptr{Nothing} @0x00007f841a721da2, Ptr{Nothing} @0x00007f8428979769, Ptr{Nothing} @0x00007f8428995f15, Ptr{Nothing} @0x00007f8428995bce, Ptr{Nothing} @0x00007f8428996811, Ptr{Nothing} @0x00007f8428997297, Base.InterpreterIP in top-level CodeInfo for ArrayInterface at statement 11, Ptr{Nothing} @0x00007f84289b2b31, Ptr{Nothing} @0x00007f84289b4949, Ptr{Nothing} @0x00007f83c964d2a1, Ptr{Nothing} @0x00007f83c964d2cc, Ptr{Nothing} @0x00007f8428979769, Ptr{Nothing} @0x00007f8428995f15, Ptr{Nothing} @0x00007f8428995bce, Ptr{Nothing} @0x00007f8428996811, Ptr{Nothing} @0x00007f8428996b90, Ptr{Nothing} @0x00007f842899704a, Base.InterpreterIP in MethodInstance for err(::Any, ::Module, ::String) at statement 2, Ptr{Nothing} @0x00007f83c964d217, Ptr{Nothing} @0x00007f83c964d22c, Ptr{Nothing} @0x00007f8428979769, Ptr{Nothing} @0x00007f8428995f15, Ptr{Nothing} @0x00007f8428995bce, Ptr{Nothing} @0x00007f84289968a5, Ptr{Nothing} @0x00007f8428996b90, Ptr{Nothing} @0x00007f842899704a, Base.InterpreterIP in MethodInstance for withpath(::Any, ::String) at statement 10, Ptr{Nothing} @0x00007f83c964d193, Ptr{Nothing} @0x00007f83c964d1bc, Ptr{Nothing} @0x00007f8428979769, Ptr{Nothing} @0x00007f842898a546, Ptr{Nothing} @0x00007f83c964d01c, Ptr{Nothing} @0x00007f8428979769, Ptr{Nothing} @0x00007f8428995f15, Ptr{Nothing} @0x00007f8428995bce, Ptr{Nothing} @0x00007f8428996811, Ptr{Nothing} @0x00007f842899704a, Base.InterpreterIP in MethodInstance for loadpkg(::Base.PkgId) at statement 6, Ptr{Nothing} @0x00007f8428979769, Ptr{Nothing} @0x00007f842898a546, Ptr{Nothing} @0x00007f83c95c005e, Ptr{Nothing} @0x00007f83c95bed8a, Ptr{Nothing} @0x00007f83c95c1960, Ptr{Nothing} @0x00007f83c95c3cdd, Ptr{Nothing} @0x00007f83c95c4a3c, Ptr{Nothing} @0x00007f8428979769, Ptr{Nothing} @0x00007f84289b1cd1, Ptr{Nothing} @0x00007f84289b3d97, Ptr{Nothing} @0x00007f84289b2d7c, Ptr{Nothing} @0x00007f84289b4949, Ptr{Nothing} @0x00007f83c961e68c, Ptr{Nothing} @0x00007f83c961ea29, Ptr{Nothing} @0x00007f8428979769, Ptr{Nothing} @0x00007f83c961b583, Ptr{Nothing} @0x00007f8428979769, Ptr{Nothing} @0x00007f842898a546, Ptr{Nothing} @0x00007f83c95f930e, Ptr{Nothing} @0x00007f83c95f953e, Ptr{Nothing} @0x00007f83c95f955c, Ptr{Nothing} @0x00007f8428979769, Ptr{Nothing} @0x00007f842899ac9a, Ptr{Nothing} @0x0000000000000000])\n",
      "└ @ Requires /home/ng/.julia/packages/Requires/7Ncym/src/require.jl:49\n"
     ]
    }
   ],
   "source": [
    "using PorousMaterials\n",
    "using Statistics\n",
    "using PyPlot\n",
    "using Cubature\n",
    "using Printf "
   ]
  },
  {
   "cell_type": "code",
   "execution_count": 2,
   "id": "e567dd76",
   "metadata": {},
   "outputs": [
    {
     "name": "stderr",
     "output_type": "stream",
     "text": [
      "┌ Info: Crystal NiPyC2_experiment.cif has Pn space group. I am converting it to P1 symmetry.\n",
      "│         To prevent this, pass `convert_to_p1=false` to the `Crystal` constructor.\n",
      "└ @ Xtals /home/ng/.julia/packages/Xtals/DSCSR/src/crystal.jl:433\n",
      "┌ Info: Crystal Pn_Ni-PyC-NH2.cif has Pn space group. I am converting it to P1 symmetry.\n",
      "│         To prevent this, pass `convert_to_p1=false` to the `Crystal` constructor.\n",
      "└ @ Xtals /home/ng/.julia/packages/Xtals/DSCSR/src/crystal.jl:433\n"
     ]
    },
    {
     "data": {
      "text/plain": [
       "Name: Pn_Ni-PyC-NH2.cif\n",
       "Bravais unit cell of a crystal.\n",
       "\tUnit cell angles α = 90.000000 deg. β = 89.972000 deg. γ = 90.000000 deg.\n",
       "\tUnit cell dimensions a = 10.618000 Å. b = 11.878600 Å, c = 14.183600 Å\n",
       "\tVolume of unit cell: 1788.934346 Å³\n",
       "\n",
       "\t# atoms = 124\n",
       "\t# charges = 0\n",
       "\tchemical formula: Dict(:N => 4, :H => 10, :Ni => 1, :O => 4, :C => 12)\n",
       "\tspace Group: P1\n",
       "\tsymmetry Operations:\n",
       "\t\t'x, y, z'\n"
      ]
     },
     "execution_count": 2,
     "metadata": {},
     "output_type": "execute_result"
    }
   ],
   "source": [
    "const R  = 8.31446261815324 / 1000 # Ideal Gas Constant, units: kJ/(mol-K)\n",
    "# const Nₐ = 6.022140 * 10^23 # Avogadro's Constant, units: mol⁻¹\n",
    "temp = 298.0 # temperature, units: K\n",
    "ljff = LJForceField(\"UFF\")\n",
    "\n",
    "\n",
    "adsorbates = Dict(:Xe => Dict(:molecule => Molecule(\"Xe\"),\n",
    "                              :mol_mass => 131.293 / 1000), # kg/mol\n",
    "                  :Kr => Dict(:molecule => Molecule(\"Kr\"), \n",
    "                              :mol_mass => 83.798 / 1000),  # kg/mol\n",
    "#                   :Ar => Dict(:molecule => Molecule(\"Ar\"), \n",
    "#                               :mol_wgt  => 39.948 / 1000)   # kg/mol\n",
    "                 )\n",
    "\n",
    "xtals = Dict(:original    => Dict(:nipyc   => Crystal(\"NiPyC2_experiment.cif\"),\n",
    "                                  :nipycnh => Crystal(\"Pn_Ni-PyC-NH2.cif\")), \n",
    "             :rep_factors => Dict(:nipyc   => (2, 1, 1), \n",
    "                                  :nipycnh => (1, 1, 2)),\n",
    "             :replicated  => Dict{Symbol, Crystal}()\n",
    "            )\n",
    "\n",
    "xtals[:replicated][:nipyc]   = replicate(xtals[:original][:nipyc], xtals[:rep_factors][:nipyc])\n",
    "xtals[:replicated][:nipycnh] = replicate(xtals[:original][:nipycnh], xtals[:rep_factors][:nipycnh])"
   ]
  },
  {
   "cell_type": "code",
   "execution_count": 3,
   "id": "7f5ad313",
   "metadata": {
    "scrolled": true
   },
   "outputs": [
    {
     "data": {
      "text/plain": [
       "Name: NiPyC2_experiment.cif\n",
       "Bravais unit cell of a crystal.\n",
       "\tUnit cell angles α = 90.000000 deg. β = 91.269000 deg. γ = 90.000000 deg.\n",
       "\tUnit cell dimensions a = 12.505600 Å. b = 12.523400 Å, c = 10.276800 Å\n",
       "\tVolume of unit cell: 1609.081943 Å³\n",
       "\n",
       "\t# atoms = 108\n",
       "\t# charges = 0\n",
       "\tchemical formula: Dict(:N => 2, :H => 8, :Ni => 1, :O => 4, :C => 12)\n",
       "\tspace Group: P1\n",
       "\tsymmetry Operations:\n",
       "\t\t'x, y, z'\n"
      ]
     },
     "execution_count": 3,
     "metadata": {},
     "output_type": "execute_result"
    }
   ],
   "source": [
    "xtals[:replicated][:nipyc]"
   ]
  },
  {
   "cell_type": "markdown",
   "id": "c716025e",
   "metadata": {},
   "source": [
    "# Grid Method"
   ]
  },
  {
   "cell_type": "code",
   "execution_count": 4,
   "id": "49c2d58e",
   "metadata": {},
   "outputs": [
    {
     "data": {
      "text/plain": [
       "avg_free_energy_on_grid (generic function with 1 method)"
      ]
     },
     "execution_count": 4,
     "metadata": {},
     "output_type": "execute_result"
    }
   ],
   "source": [
    "function avg_free_energy_on_grid(q_id::Int, crystal::Crystal, grid::Grid,\n",
    "                                 bounds::Vector{Vector{Float64}}; \n",
    "                                 temperature::Float64=298.0, dim::Int=1)\n",
    "    @assert dim in [1, 2, 3] \n",
    "    β = 1 / (R * temperature) # units: (kJ / mol)⁻¹\n",
    "    \n",
    "    # area to normalize sum\n",
    "    # side_length = bounds_num_voxels * voxel_side_length\n",
    "    #    where voxel_side_length = xtal_box_side_length / num_voxel_on_side\n",
    "    lx = abs(bounds[2][1] - bounds[1][1]) * crystal.box.a / grid.n_pts[1]\n",
    "    ly = abs(bounds[2][2] - bounds[1][2]) * crystal.box.b / grid.n_pts[2]\n",
    "    lz = abs(bounds[2][3] - bounds[1][3]) * crystal.box.c / grid.n_pts[3]\n",
    "    \n",
    "    sides = [[ly, lz], [lx, lz], [lx, ly]] # possible combinations of sides to make rectangle\n",
    "    area = sides[dim][1] * sides[dim][2]\n",
    "    \n",
    "    # grid IDs of bounds for 2d sum\n",
    "    lower_bound_ids = xf_to_id(grid.n_pts, bounds[1])\n",
    "    upper_bound_ids = xf_to_id(grid.n_pts, bounds[2])\n",
    "    \n",
    "    # if reaction coord is along the lattice vector we just pass the single value\n",
    "    # otherwise we need to pass a range of values\n",
    "    a = [dim == 1 ? [q_id] : [i for i in lower_bound_ids[1]:upper_bound_ids[1]]]\n",
    "    b = [dim == 2 ? [q_id] : [i for i in lower_bound_ids[2]:upper_bound_ids[2]]]\n",
    "    c = [dim == 3 ? [q_id] : [i for i in lower_bound_ids[3]:upper_bound_ids[3]]]\n",
    "    \n",
    "    flatten_grid = Vector{Float64}()\n",
    "    for i in a[1]\n",
    "        for j in b[1]\n",
    "            for k in c[1]\n",
    "                push!(flatten_grid, grid.data[i, j, k])\n",
    "            end\n",
    "        end\n",
    "    end\n",
    "    @assert length(flatten_grid) == (length(a[1]) * length(b[1]) * length(c[1]))\n",
    "\n",
    "    # calculate average Boltzmann factor for a given q\n",
    "    avg_btz_factor = mean(exp.(-β * flatten_grid))\n",
    "    \n",
    "    return (-1.0 / β) * log(avg_btz_factor / area) # free energy, F(q), units: kJ / mol\n",
    "end"
   ]
  },
  {
   "cell_type": "code",
   "execution_count": 5,
   "id": "91380a03",
   "metadata": {},
   "outputs": [
    {
     "data": {
      "text/plain": [
       "cal_self_diffusin_coeff (generic function with 1 method)"
      ]
     },
     "execution_count": 5,
     "metadata": {},
     "output_type": "execute_result"
    }
   ],
   "source": [
    "function cal_self_diffusin_coeff(xtal_key::Symbol, gas_key::Symbol, grid::Grid,\n",
    "                                 grid_free_E::Vector{Float64}; \n",
    "                                 temperature::Float64=298.0, \n",
    "                                 dim::Int=1)\n",
    "    # get value and location of the maximum free energy\n",
    "    fe_q_str = maximum(grid_free_E)\n",
    "    println(\"\\tFree energy Maximum = $(fe_q_str) kJ/mol\")\n",
    "    q_str_id = findfirst(grid_free_E .== fe_q_str) \n",
    "    q_str_xf = q_str_id * getfield(xtals[:replicated][xtal_key].box, dim) / grid.n_pts[dim]\n",
    "    println(\"\\tFractional Coord. of Free Energy Maxmum = $(q_str_xf)\")\n",
    "\n",
    "    # get the locations of the minima\n",
    "    grd_fe_min = sortperm(grid_free_E)[1:2]\n",
    "    println(\"\\tSortperm of Free Energy indexs: $(grd_fe_min)\")\n",
    "    # check if indexes are on oposite sides of q_str_id\n",
    "#     @assert grd_fe_min[1] < q_str_id \"First free energy minimum not found before maximum.\"\n",
    "#     @assert grd_fe_min[2] > q_str_id \"Second free energy minimum not found after maximum.\"\n",
    "\n",
    "    println(\"\\tMag. Free Energy Barrier = $(fe_q_str - grid_free_E[grd_fe_min[1]]) kJ mol⁻¹\")\n",
    "\n",
    "    ###\n",
    "    #  Calculate hopping rate\n",
    "    ###\n",
    "    # dynamic update, correction, factor, is 1 at infinite dilution\n",
    "    κ = 1.0 # units: none\n",
    "    β = 1 / (R * temperature) # units: (kJ / mol)^-1\n",
    "    \n",
    "    # average velocity given by Boltzman dist.\n",
    "    # conversion: 1 m/s = 10 Å/ns \n",
    "    avg_vel = 10 * sqrt((1000 * R * temperature) / (2 * π * adsorbates[gas_key][:mol_mass])) # units: Å / ns \n",
    "    # jummping frequency (hoping rate), units: (avg num successful hops) / unit time\n",
    "    # hop_rate [=] ns⁻¹\n",
    "    sum_over_cage = sum(exp.(-β * grid_free_E[1:q_str_id])) / q_str_xf # normalized sum, units: unitless\n",
    "    hop_rate = κ * avg_vel * exp(-β * fe_q_str) / sum_over_cage\n",
    "\n",
    "    ###\n",
    "    #  Calculate Diffusion Coefficient\n",
    "    ###\n",
    "    x = [i for i in 1:grid.n_pts[dim]] * getfield(xtals[:replicated][xtal_key].box, dim) / grid.n_pts[dim]\n",
    "    println(\"\\tgrid loc minima: $(grd_fe_min[1]) and $(grd_fe_min[2])\")\n",
    "    \n",
    "    λ = abs(x[grd_fe_min[2]] - x[grd_fe_min[1]]) # distance between wells, units: Å\n",
    "    println(\"\\tdistance between wells, λ = $(λ) Å\")\n",
    "    @assert λ < getfield(xtals[:replicated][xtal_key].box, dim) \"distance between wells > xtal axis\"\n",
    "    \n",
    "    time_scale = λ / avg_vel\n",
    "    println(\"\\ttime scale, t = $(time_scale) ns\")\n",
    "    \n",
    "    diff_coeff = (κ / 2) * λ^2 * hop_rate # units: [Å²/ns]\n",
    "\n",
    "    ### Conversion:\n",
    "    # 1 Å  = 10⁻⁸ cm -> 1 Å² = 10⁻¹⁶cm²\n",
    "    # 1 ns = 10⁻⁹ s\n",
    "    #\n",
    "    # Then,\n",
    "    # 1 Å / ns = (10⁻¹⁶cm²) / (10⁻⁹ s) = 10⁻⁷ cm²/s\n",
    "    ###\n",
    "    conversion_factor = 1e-7\n",
    "    Dₛ = diff_coeff * conversion_factor\n",
    "    return Dₛ, hop_rate\n",
    "end"
   ]
  },
  {
   "cell_type": "code",
   "execution_count": 6,
   "id": "2155e3ad",
   "metadata": {
    "scrolled": false
   },
   "outputs": [
    {
     "name": "stdout",
     "output_type": "stream",
     "text": [
      "Xtal - NiPyC2_experiment.cif\n",
      "Adsorbate - Kr\n",
      "Computing energy grid of Kr in NiPyC2_experiment.cif\n",
      "\tRegular grid (in fractional space) of 127 by 127 by 104 points superimposed over the unit cell.\n",
      "\tFree energy Maximum = -19.771005491843958 kJ/mol\n",
      "\tFractional Coord. of Free Energy Maxmum = 6.400503937007874\n",
      "\tSortperm of Free Energy indexs: [96, 33]\n",
      "\tMag. Free Energy Barrier = 10.680847813569521 kJ mol⁻¹\n",
      "\tgrid loc minima: 96 and 33\n",
      "\tdistance between wells, λ = 6.203565354330708 Å\n",
      "\ttime scale, t = 0.009043215874907785 ns\n",
      "\tHopping rate = 2.892221455776859 [ns⁻¹]\n",
      "\tSelf-diffusion Coeff. = 5.565244788724632e-6 [cm² s⁻¹]\n",
      "Adsorbate - Xe\n",
      "Computing energy grid of Xe in NiPyC2_experiment.cif\n",
      "\tRegular grid (in fractional space) of 127 by 127 by 104 points superimposed over the unit cell.\n"
     ]
    },
    {
     "ename": "LoadError",
     "evalue": "InterruptException:",
     "output_type": "error",
     "traceback": [
      "InterruptException:",
      "",
      "Stacktrace:",
      " [1] energy_grid(crystal::Crystal, molecule::Molecule{Cart}, ljforcefield::LJForceField; resolution::Float64, n_rotations::Int64, temperature::Float64, units::Symbol, center::Bool, verbose::Bool)",
      "   @ PorousMaterials ~/.julia/packages/PorousMaterials/nwCUe/src/grid.jl:354",
      " [2] top-level scope",
      "   @ ./In[6]:28",
      " [3] eval",
      "   @ ./boot.jl:360 [inlined]",
      " [4] include_string(mapexpr::typeof(REPL.softscope), mod::Module, code::String, filename::String)",
      "   @ Base ./loading.jl:1116"
     ]
    }
   ],
   "source": [
    "gas_grid_free_E = [] # store free energy calculation for plotting\n",
    "\n",
    "# loop over xtals\n",
    "for xtal_key in [:nipyc, :nipycnh]\n",
    "    println(\"Xtal - \", xtals[:original][xtal_key].name)\n",
    "    \n",
    "    # axis of integration if different for each xtal\n",
    "    xtal_key == :nipyc ? dim = 1 : dim = 3\n",
    "    \n",
    "    # calculation bounds are different for each xtal\n",
    "    if xtal_key == :nipyc\n",
    "        # x-axis doesn't matter -> give dummy x bounds\n",
    "        # [fx, fy, fz] avoid periodic b.c. 0.0 = 1.0\n",
    "        bounds = [[0.0, 0.0, 0.5],  # lower\n",
    "                  [0.0, 0.6, 0.99]] # upper\n",
    "    elseif xtal_key == :nipycnh\n",
    "        # z-axis doesn't matter -> give dummy z bounds\n",
    "        # [fx, fy, fz] avoid periodic b.c. 0.0 = 1.0\n",
    "        bounds = [[0.5, 0.0, 0.0],  # lower\n",
    "                  [0.99, 0.6, 0.0]] # upper\n",
    "    end\n",
    "    \n",
    "    # loop over adsorbates\n",
    "    for gas_key in keys(adsorbates)\n",
    "        println(\"Adsorbate - $gas_key\")\n",
    "        # calculate vdW interaction energy on a grid \n",
    "        res  = 0.1 # maximum distance between grid points, units: Å\n",
    "        grid = energy_grid(xtals[:replicated][xtal_key], adsorbates[gas_key][:molecule], \n",
    "                           ljff, resolution=res, units=:kJ_mol) \n",
    "        ###\n",
    "        #  Calculate Average Free energy along reaction coordinate\n",
    "        ###\n",
    "        grid_free_E = Array{Float64, 1}()\n",
    "\n",
    "        for q_id in 1:grid.n_pts[dim]\n",
    "            # calculate average free energy\n",
    "            avg_fe = avg_free_energy_on_grid(q_id, xtals[:replicated][xtal_key], \n",
    "                                             grid, bounds, temperature=temp, dim=dim)\n",
    "            push!(grid_free_E, avg_fe)\n",
    "        end\n",
    "        \n",
    "        # store values for plotting\n",
    "        if gas_key == :Xe\n",
    "            push!(gas_grid_free_E, Dict(:avg_fe => grid_free_E, :grid => grid))\n",
    "        end\n",
    "        \n",
    "        ###\n",
    "        #  Calculate Hoping Rate and Self-Diffusion Coefficient\n",
    "        Dₛ, k = cal_self_diffusin_coeff(xtal_key, gas_key, grid, grid_free_E, temperature=temp, dim=dim)\n",
    "        println(\"\\tHopping rate = $(k) [ns⁻¹]\")\n",
    "        println(\"\\tSelf-diffusion Coeff. = $(Dₛ) [cm² s⁻¹]\")\n",
    "    end\n",
    "end"
   ]
  },
  {
   "cell_type": "markdown",
   "id": "e0f070e4",
   "metadata": {},
   "source": [
    "# Plots\n",
    "\n",
    "Plot the energy along a given crystal axis."
   ]
  },
  {
   "cell_type": "code",
   "execution_count": 7,
   "id": "0565d75e",
   "metadata": {},
   "outputs": [],
   "source": [
    "# TODO\n",
    "# plot the grid_free_E as a function of the reaction coord\n",
    "# I think that this could be an issue with the bounds.\n",
    "# make 2d heatmaps of vdw interaction energy "
   ]
  },
  {
   "cell_type": "code",
   "execution_count": 8,
   "id": "a4743daf",
   "metadata": {},
   "outputs": [],
   "source": [
    "# figure()\n",
    "\n",
    "# scatter([q_str_xf], [fe_q_str], label=\"q*\", marker=\"*\", color=\"r\")\n",
    "# plot(x, grid_free_E, zorder=0)\n",
    "# legend()\n",
    "# ylabel(\"free energy [kJ/mol]\")\n",
    "# xlabel(\"rxn coord \" * L\"[\\AA]\")\n",
    "# tight_layout()A"
   ]
  },
  {
   "cell_type": "code",
   "execution_count": 9,
   "id": "f3d6f369",
   "metadata": {
    "scrolled": true
   },
   "outputs": [],
   "source": [
    "# function plot_2d_energygrid_slices(grid::Grid, xtal::Crystal, \n",
    "#                                    adsorbate::Molecule{Cart}; \n",
    "#                                    energy_cutoff::Int64=500,\n",
    "#                                    dim::Int64=1)\n",
    "#     # copy grid so we don't modify original\n",
    "#     data = deepcopy(grid.data)\n",
    "#     # values above a given energy cutoff will be set to inf for plotting purposes\n",
    "#     for x in 1:grid.n_pts[1]\n",
    "#         for y in 1:grid.n_pts[2]\n",
    "#             for z in 1:grid.n_pts[3]\n",
    "#                 if data[x, y, z] > energy_cutoff\n",
    "#                     data[x, y, z] = Inf\n",
    "#                 end\n",
    "#             end\n",
    "#         end\n",
    "\n",
    "#     # make heatmap\n",
    "#     fig, ax = subplots()\n",
    "#     ax.scatter(vox_id[2], vox_id[3], label=\"reaction coordinate\", color=\"r\", marker=\"*\")\n",
    "#     ax.set_title(\"$(String(adsorbate.species)) in $(xtal.name) - slice: $k\")\n",
    "#     ax.legend()\n",
    "\n",
    "#     im = ax.imshow(data[:, :], vmin=-100, vmax=energy_cutoff)\n",
    "#     ax.set_xlabel(\"y [voxel ID]\")\n",
    "#     ax.set_ylabel(\"z [voxel ID]\")\n",
    "\n",
    "#     # Create colorbar\n",
    "#     cbarlabel=\"[kJ/mol]\"\n",
    "#     cbar = ax.figure.colorbar(im, ax=ax)\n",
    "#     cbar.ax.set_ylabel(cbarlabel, rotation=-90, va=\"bottom\")\n",
    "#     cbar.minorticks_on()\n",
    "\n",
    "#     fig.tight_layout();\n",
    "#     subdir_name = \"$(String(adsorbate.species))_in_$(split(xtal.name, '.')[1])\"\n",
    "#     savefig(joinpath(pwd(), \"new_energygrid_slices\", \"$subdir_name/slice_$k.png\"), dpi=600, format=\"png\")\n",
    "#     fig.show();    \n",
    "# end\n",
    "\n",
    "# ###\n",
    "# # plot_2d_energygrid_slices(grid, xtal, adsorbate, dim=3)"
   ]
  },
  {
   "cell_type": "markdown",
   "id": "674c2f11",
   "metadata": {},
   "source": [
    "#### Plot Average Free Energy Along Reaction Coordinate "
   ]
  },
  {
   "cell_type": "code",
   "execution_count": 10,
   "id": "bcbe1a72",
   "metadata": {},
   "outputs": [],
   "source": [
    "# grd_min_mol, grd_min_E = find_energy_minimum_gridsearch(rep_xtals[1], adsorbates[1], ljff, resolution=res)\n",
    "\n",
    "# minimized_molecule, min_E = find_energy_minimum(rep_xtals[1], grd_min_mol, ljff)\n",
    "\n",
    "\n",
    "\n",
    "# energy_tol = 50.0 # kJ/mol\n",
    "\n",
    "# accessibility_grid, nb_segments_blocked, porosity = compute_accessibility_grid(rep_xtals[1], \n",
    "#                                                                         adsorbates[1], ljff; \n",
    "#                                                                         resolution=res, \n",
    "#                                                                         energy_tol=energy_tol, \n",
    "#                                                                         energy_units=:kJ_mol, \n",
    "#                                                                         verbose=true, \n",
    "#                                                                         write_b4_after_grids=false, \n",
    "#                                                                         block_inaccessible_pockets=true)\n",
    "\n",
    "\n",
    "\n",
    "# function get_2d_integration_bounds(xtal::Crystal, energy_tol::Float64)\n",
    "#     # maybe try to use the accessibility grid with a high resolution\n",
    "#     # lb_y = 0.0\n",
    "#     # lb_z = 0.0\n",
    "#     # ub_y = 1.0\n",
    "#     # ub_z = 1.0\n",
    "\n",
    "#     # # accessible(accessibility_grid::Grid{Bool}, xf::Array{Float64, 1})\n",
    "#     # # id_to_xf(id::Tuple{Int, Int, Int}, n_pts::Tuple{Int, Int, Int})\n",
    "\n",
    "#     # for i in 1:accessibility_grid.n_pts[1] # sweep over x values (define the plane)\n",
    "#     #     for k in 1:accessibility_grid.n_pts[3] # sweep over z values (columns)\n",
    "#     #         for j in 1:accessibility_grid.n_pts[2] # sweep over y values (rows)\n",
    "#     #             # get fractional coords of voxel ID\n",
    "#     #             id_xf = id_to_xf((i, j, k), accessibility_grid.n_pts)\n",
    "#     #             # determine if voxel is accessible to molecule\n",
    "#     #             if accessible(accessibility_grid, id_xf)\n",
    "#     #                 # how to determine if it is an uperbound of a lowerbound?\n",
    "#     #                 # I think that we would check if the bound has already been reasigned \n",
    "#     #                 # AND if the value is lower than the current lower bound, keep it\n",
    "#     #                 # OR  if the value is higher than the current value compare to upper bound\n",
    "#     #                 # ... maybe\n",
    "#     #             end\n",
    "#     #         end\n",
    "#     #     end\n",
    "#     # end\n",
    "#     return bounds\n",
    "# end # get_integration_bounds\n",
    "\n",
    "# bb = get_2d_integration_bounds(rep_xtals[1], 50.0)"
   ]
  },
  {
   "cell_type": "markdown",
   "id": "0234226c",
   "metadata": {},
   "source": [
    "# Integral Method"
   ]
  },
  {
   "cell_type": "code",
   "execution_count": 11,
   "id": "1def37cf",
   "metadata": {},
   "outputs": [],
   "source": [
    "# \"\"\"\n",
    "# # Arguments:\n",
    "# `x::Float64`: reaction coordinate\n",
    "# `xtal::Crystal`: the MOF\n",
    "# `temp::Float64`: temperature, units: K. default=298.0 K\n",
    "# `bounds::Union{Nothing, Vector{Vector{Float64}}}`: 2d integration bounds\n",
    "# `energy_tol::Float64`: energy tolerance used for determining integratin bounds if bounds are not passed, \n",
    "#                         units: kJ/mol\n",
    "# \"\"\"\n",
    "# function free_energy(x::Float64, xtal::Crystal, molecule::Molecule, ljff::LJForceField; \n",
    "#                      temp::Float64=298.0, \n",
    "#                      bounds::Union{Nothing, Vector{Vector{Float64}}}=nothing,\n",
    "#                      energy_tol::Float64=50.0)\n",
    "\n",
    "#     β = 1 / (R * temp) # units: (kJ / mol)^-1\n",
    "    \n",
    "#     # get integration bounds\n",
    "#     if isnothing(bounds)\n",
    "#         bounds = get_2d_integration_bounds(xtal, energy_tol) # [[lb_y, lb_z], [ub_y, ub_z]]\n",
    "#     end\n",
    "#     # calculate area to normalize integral\n",
    "#     area = (bounds[2][1] - bounds[1][1]) * (bounds[2][2] - bounds[1][2])\n",
    "    \n",
    "#     # integrate planar slices along the reaction coordinate\n",
    "#     function integrand(yz::Vector{Float64})\n",
    "#         xf = [x, yz[1], yz[2]] # position in MOF\n",
    "        \n",
    "#         # make sure molecule is in fractional coords\n",
    "#         if isa(molecule, Molecule{Cart})\n",
    "#             molecule = Frac(molecule, xtal.box)\n",
    "#         end\n",
    "        \n",
    "#         # make sure the coords are fractional\n",
    "#         xf = mod.(xf, 1.0)\n",
    "#         # move probe molecule\n",
    "#         translate_to!(molecule, Frac(xf))\n",
    "#         # calculate the guest-host VDW interaction\n",
    "#         # vdw_energy * 8.314 / 1000 gives units: kJ/mol\n",
    "#         boltzmann_factor = exp(-β * (vdw_energy(xtal, molecule, ljff) * 8.314 / 1000))\n",
    "#         return boltzmann_factor\n",
    "#     end # integrand\n",
    "\n",
    "#     # perform integration\n",
    "#     fdim = 3 # perform two (y and z dir) real-valued integrals simultaneously\n",
    "#     (val, err) = hcubature(yz -> begin integrand(yz); end, bounds[1], bounds[2])\n",
    "#     # return free energy\n",
    "#     return (-1.0 / β) * log(val / area), err\n",
    "# end # free_energy"
   ]
  },
  {
   "cell_type": "code",
   "execution_count": 12,
   "id": "af9283d9",
   "metadata": {},
   "outputs": [],
   "source": [
    "# # I'm just guessing these values based on a .gif that I made of the energy heatmap\n",
    "# guess_bounds = [[0.0, 0.5], [0.6, 0.99]] ./ 3 # [[lb_y, lb_z], [ub_y, ub_z]]\n",
    "# # guess_bounds = [[0.0, 0.0], [1.0, 1.0]]\n",
    "\n",
    "# free_E = Array{Float64, 1}()\n",
    "# E_err  = Array{Float64, 1}()\n",
    "# nn = 100\n",
    "\n",
    "# @time begin \n",
    "#     for x in [0.0, 0.2] # range(0.0, stop=1.0/rep_factors[1][1], length=nn)\n",
    "#         f , err = free_energy(x, rep_xtals[1], adsorbates[1], ljff, bounds=guess_bounds)\n",
    "#         push!(free_E, f)\n",
    "#         push!(E_err, err)\n",
    "#     end\n",
    "# end"
   ]
  },
  {
   "cell_type": "code",
   "execution_count": null,
   "id": "5c70ef99",
   "metadata": {},
   "outputs": [],
   "source": []
  }
 ],
 "metadata": {
  "kernelspec": {
   "display_name": "Julia 1.6.2",
   "language": "julia",
   "name": "julia-1.6"
  },
  "language_info": {
   "file_extension": ".jl",
   "mimetype": "application/julia",
   "name": "julia",
   "version": "1.6.2"
  }
 },
 "nbformat": 4,
 "nbformat_minor": 5
}
