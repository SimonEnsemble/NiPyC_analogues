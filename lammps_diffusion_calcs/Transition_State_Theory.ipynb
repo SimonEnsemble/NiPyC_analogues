{
 "cells": [
  {
   "cell_type": "markdown",
   "id": "766f700f",
   "metadata": {},
   "source": [
    "### Outline\n",
    "In this notebook, I am going to try to implement Transition State Theory (TST) to calculate the Self-Diffusion Coefficient of Xe and Kr in Ni(PyC)2 and Ni(PyC-m-NH2)2.\n",
    "\n",
    "Helpful references include:\n",
    "   1. [J. Phys. Chem. C 2016, 120, 2, 1110–1120](https://doi.org/10.1021/acs.jpcc.5b11111)\n",
    "   2. [J. Chem. Phys. 122, 224712 (2005)](https://doi.org/10.1063/1.1924548)\n",
    "   \n",
    "Strategy:\n",
    "   1. Load crystal, molecules, forcefield \n",
    "   2. perform `energy_grid()` calculation on each scructure for each adsorbate\n",
    "   3. define the reaction coordinate (not sure how to do this yet)\n",
    "       a) find the location of the minimum energy\n",
    "       b) find the location of the minimum energy in an adjacent pocket (something about the flood-fill algorithm being used here that is implemented in `PorousMaterials.jl`).\n",
    "       c) check that it is parallel to one of the crystal axes. If not, can we just define it to be that way?\n",
    "       d) define a vector that connects the two points -> this will define the 1D raction coordinate\n",
    "   4. take \"slices\" of the energy profile along the reaction coordinate\n",
    "   5. perform integration using julia package [Cubature.jl](https://github.com/JuliaMath/Cubature.jl)"
   ]
  },
  {
   "cell_type": "code",
   "execution_count": 1,
   "id": "95680982",
   "metadata": {},
   "outputs": [
    {
     "name": "stderr",
     "output_type": "stream",
     "text": [
      "┌ Warning: Error requiring `OffsetArrays` from `ArrayInterface`\n",
      "│   exception = (UndefVarError(:IdOffsetRange), Union{Ptr{Nothing}, Base.InterpreterIP}[Ptr{Nothing} @0x00007fe410071cef, Ptr{Nothing} @0x00007fe410104d24, Ptr{Nothing} @0x00007fe401e8fda2, Ptr{Nothing} @0x00007fe4100e7769, Ptr{Nothing} @0x00007fe410103f15, Ptr{Nothing} @0x00007fe410103bce, Ptr{Nothing} @0x00007fe410104811, Ptr{Nothing} @0x00007fe410105297, Base.InterpreterIP in top-level CodeInfo for ArrayInterface at statement 11, Ptr{Nothing} @0x00007fe410120b31, Ptr{Nothing} @0x00007fe410122949, Ptr{Nothing} @0x00007fe3b0d36291, Ptr{Nothing} @0x00007fe3b0d362bc, Ptr{Nothing} @0x00007fe4100e7769, Ptr{Nothing} @0x00007fe410103f15, Ptr{Nothing} @0x00007fe410103bce, Ptr{Nothing} @0x00007fe410104811, Ptr{Nothing} @0x00007fe410104b90, Ptr{Nothing} @0x00007fe41010504a, Base.InterpreterIP in MethodInstance for err(::Any, ::Module, ::String) at statement 2, Ptr{Nothing} @0x00007fe3b0d36207, Ptr{Nothing} @0x00007fe3b0d3621c, Ptr{Nothing} @0x00007fe4100e7769, Ptr{Nothing} @0x00007fe410103f15, Ptr{Nothing} @0x00007fe410103bce, Ptr{Nothing} @0x00007fe4101048a5, Ptr{Nothing} @0x00007fe410104b90, Ptr{Nothing} @0x00007fe41010504a, Base.InterpreterIP in MethodInstance for withpath(::Any, ::String) at statement 10, Ptr{Nothing} @0x00007fe3b0d36183, Ptr{Nothing} @0x00007fe3b0d361ac, Ptr{Nothing} @0x00007fe4100e7769, Ptr{Nothing} @0x00007fe4100f8546, Ptr{Nothing} @0x00007fe3b0d3600c, Ptr{Nothing} @0x00007fe4100e7769, Ptr{Nothing} @0x00007fe410103f15, Ptr{Nothing} @0x00007fe410103bce, Ptr{Nothing} @0x00007fe410104811, Ptr{Nothing} @0x00007fe41010504a, Base.InterpreterIP in MethodInstance for loadpkg(::Base.PkgId) at statement 6, Ptr{Nothing} @0x00007fe4100e7769, Ptr{Nothing} @0x00007fe4100f8546, Ptr{Nothing} @0x00007fe3b0ca905e, Ptr{Nothing} @0x00007fe3b0ca7d8a, Ptr{Nothing} @0x00007fe3b0caa960, Ptr{Nothing} @0x00007fe3b0caccdd, Ptr{Nothing} @0x00007fe3b0cada3c, Ptr{Nothing} @0x00007fe4100e7769, Ptr{Nothing} @0x00007fe41011fcd1, Ptr{Nothing} @0x00007fe410121d97, Ptr{Nothing} @0x00007fe410120d7c, Ptr{Nothing} @0x00007fe410122949, Ptr{Nothing} @0x00007fe3b0d0768c, Ptr{Nothing} @0x00007fe3b0d07a29, Ptr{Nothing} @0x00007fe4100e7769, Ptr{Nothing} @0x00007fe3b0d04583, Ptr{Nothing} @0x00007fe4100e7769, Ptr{Nothing} @0x00007fe4100f8546, Ptr{Nothing} @0x00007fe3b0ce230e, Ptr{Nothing} @0x00007fe3b0ce253e, Ptr{Nothing} @0x00007fe3b0ce255c, Ptr{Nothing} @0x00007fe4100e7769, Ptr{Nothing} @0x00007fe410108c9a, Ptr{Nothing} @0x0000000000000000])\n",
      "└ @ Requires /home/ng/.julia/packages/Requires/7Ncym/src/require.jl:49\n"
     ]
    }
   ],
   "source": [
    "using PorousMaterials\n",
    "using PyPlot\n",
    "using Cubature"
   ]
  },
  {
   "cell_type": "code",
   "execution_count": 2,
   "id": "d228a719",
   "metadata": {},
   "outputs": [
    {
     "name": "stderr",
     "output_type": "stream",
     "text": [
      "┌ Info: Crystal NiPyC2_experiment.cif has Pn space group. I am converting it to P1 symmetry.\n",
      "│         To prevent this, pass `convert_to_p1=false` to the `Crystal` constructor.\n",
      "└ @ Xtals /home/ng/.julia/packages/Xtals/DSCSR/src/crystal.jl:433\n"
     ]
    }
   ],
   "source": [
    "nipyc = Crystal(\"NiPyC2_experiment.cif\") # Crystal(\"Pn_Ni-PyC-NH2.cif\")\n",
    "\n",
    "reps = (1, 1, 1) #(2, 2, 2)\n",
    "xtal = replicate(nipyc, reps)\n",
    "\n",
    "adsorbates = [Molecule(\"Xe\"), Molecule(\"Kr\")]\n",
    "ljff = LJForceField(\"UFF\");"
   ]
  },
  {
   "cell_type": "code",
   "execution_count": null,
   "id": "512d016b",
   "metadata": {},
   "outputs": [],
   "source": []
  },
  {
   "cell_type": "code",
   "execution_count": 3,
   "id": "80d26133",
   "metadata": {},
   "outputs": [
    {
     "name": "stdout",
     "output_type": "stream",
     "text": [
      "Computing energy grid of Xe in NiPyC2_experiment.cif\n",
      "\tRegular grid (in fractional space) of 14 by 27 by 22 points superimposed over the unit cell.\n",
      "Computing energy grid of Xe in NiPyC2_experiment.cif\n",
      "\tRegular grid (in fractional space) of 14 by 27 by 22 points superimposed over the unit cell.\n"
     ]
    },
    {
     "data": {
      "text/plain": [
       "(Molecule species: Xe\n",
       "Center of mass (fractional coords): Frac([0.4592262071087086; 0.28605889869999174; 0.8545303006372009])\n",
       "Atoms:\n",
       "\n",
       "\tatom = Xe, xf = [0.459, 0.286, 0.855], -31.601839773939005)"
      ]
     },
     "execution_count": 3,
     "metadata": {},
     "output_type": "execute_result"
    }
   ],
   "source": [
    "# grid.box      # Bravais lattice over which a grid of points is superimposed\n",
    "# grid.data     # 3 dim array containing data for each point\n",
    "# grid.n_pts    # number of grid points in x, y, z\n",
    "# grid.origin   # the origin of the grid\n",
    "# grid.units    # units associated with each data point\n",
    "res  = 0.5 # maximum distance between grid points, in Å,\n",
    "grid = energy_grid(xtal, adsorbates[1], ljff, resolution=res, units=:kJ_mol) \n",
    "\n",
    "# get estimate for location of energy minimum on a grid to use as initial estimate \n",
    "grd_min_mol, grd_min_E = find_energy_minimum_gridsearch(xtal, adsorbates[1], ljff, resolution=res)\n",
    "# find location of the energy minimum \n",
    "# this will be used as the origin of the vector describing the reaction coordinate\n",
    "minimized_molecule, minimum_E = find_energy_minimum(xtal, grd_min_mol, ljff)"
   ]
  },
  {
   "cell_type": "code",
   "execution_count": 4,
   "id": "ac484930",
   "metadata": {},
   "outputs": [],
   "source": [
    "# write XYZ files to aid visualization\n",
    "# write xtal\n",
    "write_xyz(xtal)\n",
    "# write adsorbate\n",
    "file_name = joinpath(pwd(), \"Xe_at_Emin_in_NiPyC\")\n",
    "write_xyz([minimized_molecule], xtal.box, file_name)"
   ]
  },
  {
   "cell_type": "code",
   "execution_count": 5,
   "id": "5be3cf64",
   "metadata": {},
   "outputs": [
    {
     "data": {
      "text/plain": [
       "3-element Vector{Int64}:\n",
       "  7\n",
       "  8\n",
       " 19"
      ]
     },
     "execution_count": 5,
     "metadata": {},
     "output_type": "execute_result"
    }
   ],
   "source": [
    "# get the voxel ID for the location of the energy minimum\n",
    "xf = [minimized_molecule.com.xf[i] for i in 1:3]\n",
    "vox_id = xf_to_id(grid.n_pts, xf)"
   ]
  },
  {
   "cell_type": "code",
   "execution_count": 6,
   "id": "d05a8e98",
   "metadata": {},
   "outputs": [
    {
     "data": {
      "text/plain": [
       "21.871336064356765"
      ]
     },
     "execution_count": 6,
     "metadata": {},
     "output_type": "execute_result"
    }
   ],
   "source": [
    "maximum(grid.data[:, vox_id[2], vox_id[3]])"
   ]
  },
  {
   "cell_type": "code",
   "execution_count": 7,
   "id": "fd2a794e",
   "metadata": {},
   "outputs": [
    {
     "data": {
      "text/plain": [
       "-31.32274029530313"
      ]
     },
     "execution_count": 7,
     "metadata": {},
     "output_type": "execute_result"
    }
   ],
   "source": [
    "minimum(grid.data[:, vox_id[2], vox_id[3]])"
   ]
  },
  {
   "cell_type": "markdown",
   "id": "e0f070e4",
   "metadata": {},
   "source": [
    "## Plots\n",
    "\n",
    "Plot the energy along a given crystal axis."
   ]
  },
  {
   "cell_type": "code",
   "execution_count": 8,
   "id": "15430e7e",
   "metadata": {
    "scrolled": false
   },
   "outputs": [
    {
     "data": {
      "image/png": "[encoded data removed]",
      "text/plain": [
       "Figure(PyObject <Figure size 640x480 with 3 Axes>)"
      ]
     },
     "metadata": {},
     "output_type": "display_data"
    }
   ],
   "source": [
    "fig, axs = subplots(3)\n",
    "\n",
    "x = [i for i in 1:grid.n_pts[1]]\n",
    "y = [i for i in 1:grid.n_pts[2]]\n",
    "z = [i for i in 1:grid.n_pts[3]]\n",
    "\n",
    "# plot along x-axis\n",
    "axs[1].plot(x, grid.data[:, vox_id[2], vox_id[3]])\n",
    "\n",
    "# plot along y-axis\n",
    "axs[2].plot(y, grid.data[vox_id[1], :, vox_id[3]])\n",
    "axs[2].set_ylabel(\"Energy [kJ/mol]\")\n",
    "\n",
    "# plot along z-axis\n",
    "axs[3].plot(z, grid.data[vox_id[1], vox_id[2], :])\n",
    "\n",
    "axs[3].set_xlabel(\"voxel ID\")\n",
    "\n",
    "\n",
    "tight_layout()"
   ]
  },
  {
   "cell_type": "code",
   "execution_count": 9,
   "id": "444701e6",
   "metadata": {},
   "outputs": [
    {
     "data": {
      "text/plain": [
       "27×22 Matrix{Float64}:\n",
       "      5.98918e6       1.5494e7    …      2.02499e6        5.98918e6\n",
       "      2.3286e6        3.73837e7          2.99981e5        2.3286e6\n",
       "      3.86074e5       1.39673e7      55011.3              3.86074e5\n",
       "  56636.0             9.1107e5        8598.09         56636.0\n",
       "   7610.13        52470.8             1465.45          7610.13\n",
       "   1174.03         5778.4         …    261.223         1174.03\n",
       "    217.062        1027.45              31.8133         217.062\n",
       "     59.1752        312.95             -10.6803          59.1752\n",
       "    128.278         591.323              5.58134        128.278\n",
       "    540.201        2558.04              99.3561         540.201\n",
       "   2363.44        15658.0         …    448.246         2363.44\n",
       "   9526.76            1.01613e5       1697.04          9526.76\n",
       "  29211.5             3.69204e5       6176.36         29211.5\n",
       "      ⋮                           ⋱      ⋮           \n",
       "      3.46866e7       6.36947e6   …      1.13217e7        3.46866e7\n",
       "      1.89223e11      1.00529e9          1.96927e9        1.89223e11\n",
       "     Inf              1.34346e10         3.88943e10      Inf\n",
       "      6.01946e9       1.86148e8          3.06274e8        6.01946e9\n",
       "      4.73509e6       1.31524e6          1.77449e6        4.73509e6\n",
       " 105840.0         44171.7         …      2.58802e5   105840.0\n",
       "      1.72764e6       2.55e5             2.19349e6        1.72764e6\n",
       "      8.82425e7       3.35818e6          1.37269e8        8.82425e7\n",
       "      9.64624e8       1.20931e7          6.97537e9        9.64624e8\n",
       "      1.25523e9       8.97478e6          2.71931e10       1.25523e9\n",
       "      4.30508e7       4.53529e6   …      1.94867e8        4.30508e7\n",
       "      5.98918e6       1.5494e7           2.02499e6        5.98918e6"
      ]
     },
     "execution_count": 9,
     "metadata": {},
     "output_type": "execute_result"
    }
   ],
   "source": [
    "grid.data[vox_id[1], :, :]"
   ]
  },
  {
   "cell_type": "code",
   "execution_count": 10,
   "id": "f3d6f369",
   "metadata": {},
   "outputs": [
    {
     "data": {
      "image/png": "[encoded data removed]",
      "text/plain": [
       "Figure(PyObject <Figure size 640x480 with 1 Axes>)"
      ]
     },
     "metadata": {},
     "output_type": "display_data"
    }
   ],
   "source": [
    "# TODO: Cap max vals and add colorbar... loop over the indecies to make a movie?\n",
    "# helpful link: https://matplotlib.org/3.5.0/gallery/images_contours_and_fields/image_annotated_heatmap.html\n",
    "\n",
    "# make heatmap\n",
    "fig, ax = plt.subplots()\n",
    "im = ax.imshow(grid.data[vox_id[1], :, :])\n",
    "\n",
    "fig.tight_layout()\n",
    "plt.show()"
   ]
  },
  {
   "cell_type": "code",
   "execution_count": null,
   "id": "716cdfda",
   "metadata": {},
   "outputs": [],
   "source": []
  }
 ],
 "metadata": {
  "kernelspec": {
   "display_name": "Julia 1.6.2",
   "language": "julia",
   "name": "julia-1.6"
  },
  "language_info": {
   "file_extension": ".jl",
   "mimetype": "application/julia",
   "name": "julia",
   "version": "1.6.2"
  }
 },
 "nbformat": 4,
 "nbformat_minor": 5
}
