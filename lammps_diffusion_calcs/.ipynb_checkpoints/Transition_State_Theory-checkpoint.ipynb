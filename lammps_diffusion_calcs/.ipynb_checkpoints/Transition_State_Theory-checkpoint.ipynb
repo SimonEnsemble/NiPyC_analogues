{
 "cells": [
  {
   "cell_type": "markdown",
   "id": "a670ef04",
   "metadata": {},
   "source": [
    "# Calculate Diffusion Coefficient\n",
    "\n",
    "The Free Energy Profile F(q), fo radsorbate hopping aling the reaction coordinate can be calculated by the mean energy of insertion of the (spherical) adsorbate molecule using the FF parameters in the planes orthogonal to the reaction coordinate:\n",
    "$$ F(q) = -k_BT ln\\langle e^{-\\beta \\Delta U} \\rangle_q $$\n",
    "Here the brackets denote averaging the Boltzmann factor ocer the square grids of resolution dx Å resolution.\n",
    "\n",
    "The 1-dim cage-to-cage hopping rate is given by: \n",
    "$$ k_{C_1 \\rightarrow C_2} = \\kappa \\sqrt{\\frac{k_B T}{2 \\pi m}} \\frac{e^{-\\beta F(q^*)}}{\\int_{cage} e^{-\\beta F(q)} \\,dq} $$\n",
    "where m is the mass of the adsorbate, q is the reaction coordinate, F is the SOMETHING Free Energy as a function of the reaction coordinate, T is the temperature (T = 298 K), and $\\kappa$ is the Bennett-Chandler dynamic correction. $\\kappa$ = 1 is a good approximatin for infinite dilution. \n",
    "The space is partitioned such that the dividing surface is perpendicular to the reactin coordinate and passes through the location of the maximum free energy barrier along the path F(q*). \n",
    "\n",
    "\n",
    "To get the self-diffusion coefficient ($D_s$) \n",
    "$$ D_s = \\frac{\\kappa}{2d} \\lambda^2 k_{C_1 \\rightarrow C_2} $$\n",
    "\n",
    "$\\lambda$ is the cage-center to cage-center lattice distance."
   ]
  },
  {
   "cell_type": "markdown",
   "id": "766f700f",
   "metadata": {},
   "source": [
    "### Outline\n",
    "In this notebook, I am going to try to implement Transition State Theory (TST) to calculate the Self-Diffusion Coefficient of Xe and Kr in Ni(PyC)2 and Ni(PyC-m-NH2)2.\n",
    "\n",
    "Helpful references include:\n",
    "   1. [J. Phys. Chem. C 2016, 120, 2, 1110–1120](https://doi.org/10.1021/acs.jpcc.5b11111)\n",
    "   2. [J. Chem. Phys. 122, 224712 (2005)](https://doi.org/10.1063/1.1924548)\n",
    "   \n",
    "Strategy:\n",
    "   1. Load crystal, molecules, forcefield, ... \n",
    "   2. Perform `energy_grid()` calculation on each scructure for each adsorbate\n",
    "   3. Define the reaction coordinate \n",
    "       a) find the location of the minimum free energy\n",
    "       b) find the location of the minimum free energy in an adjacent pocket.\n",
    "   4. Take \"slices\" of the free energy profile along the reaction coordinate.\n",
    "   5. Perform integration using julia package [Cubature.jl](https://github.com/JuliaMath/Cubature.jl)\n",
    "   6. Calculate cage-to-cage hopping rate $k_{C_1 \\rightarrow C_2}$\n",
    "   7. Calculate sel-difusion coefficient $D_s$"
   ]
  },
  {
   "cell_type": "code",
   "execution_count": 1,
   "id": "b29111e0",
   "metadata": {
    "scrolled": false
   },
   "outputs": [
    {
     "name": "stderr",
     "output_type": "stream",
     "text": [
      "┌ Warning: Error requiring `OffsetArrays` from `ArrayInterface`\n",
      "│   exception = (UndefVarError(:IdOffsetRange), Union{Ptr{Nothing}, Base.InterpreterIP}[Ptr{Nothing} @0x00007f6771fa6cef, Ptr{Nothing} @0x00007f6772039d24, Ptr{Nothing} @0x00007f6763dc4da2, Ptr{Nothing} @0x00007f677201c769, Ptr{Nothing} @0x00007f6772038f15, Ptr{Nothing} @0x00007f6772038bce, Ptr{Nothing} @0x00007f6772039811, Ptr{Nothing} @0x00007f677203a297, Base.InterpreterIP in top-level CodeInfo for ArrayInterface at statement 11, Ptr{Nothing} @0x00007f6772055b31, Ptr{Nothing} @0x00007f6772057949, Ptr{Nothing} @0x00007f671acf02b1, Ptr{Nothing} @0x00007f671acf02dc, Ptr{Nothing} @0x00007f677201c769, Ptr{Nothing} @0x00007f6772038f15, Ptr{Nothing} @0x00007f6772038bce, Ptr{Nothing} @0x00007f6772039811, Ptr{Nothing} @0x00007f6772039b90, Ptr{Nothing} @0x00007f677203a04a, Base.InterpreterIP in MethodInstance for err(::Any, ::Module, ::String) at statement 2, Ptr{Nothing} @0x00007f671acf0227, Ptr{Nothing} @0x00007f671acf023c, Ptr{Nothing} @0x00007f677201c769, Ptr{Nothing} @0x00007f6772038f15, Ptr{Nothing} @0x00007f6772038bce, Ptr{Nothing} @0x00007f67720398a5, Ptr{Nothing} @0x00007f6772039b90, Ptr{Nothing} @0x00007f677203a04a, Base.InterpreterIP in MethodInstance for withpath(::Any, ::String) at statement 10, Ptr{Nothing} @0x00007f671acf01a3, Ptr{Nothing} @0x00007f671acf01cc, Ptr{Nothing} @0x00007f677201c769, Ptr{Nothing} @0x00007f677202d546, Ptr{Nothing} @0x00007f671acf002c, Ptr{Nothing} @0x00007f677201c769, Ptr{Nothing} @0x00007f6772038f15, Ptr{Nothing} @0x00007f6772038bce, Ptr{Nothing} @0x00007f6772039811, Ptr{Nothing} @0x00007f677203a04a, Base.InterpreterIP in MethodInstance for loadpkg(::Base.PkgId) at statement 6, Ptr{Nothing} @0x00007f677201c769, Ptr{Nothing} @0x00007f677202d546, Ptr{Nothing} @0x00007f671ac6305e, Ptr{Nothing} @0x00007f671ac61d8a, Ptr{Nothing} @0x00007f671ac64960, Ptr{Nothing} @0x00007f671ac66cdd, Ptr{Nothing} @0x00007f671ac67a3c, Ptr{Nothing} @0x00007f677201c769, Ptr{Nothing} @0x00007f6772054cd1, Ptr{Nothing} @0x00007f6772056d97, Ptr{Nothing} @0x00007f6772055d7c, Ptr{Nothing} @0x00007f6772057949, Ptr{Nothing} @0x00007f671acc169c, Ptr{Nothing} @0x00007f671acc1a39, Ptr{Nothing} @0x00007f677201c769, Ptr{Nothing} @0x00007f671acbe593, Ptr{Nothing} @0x00007f677201c769, Ptr{Nothing} @0x00007f677202d546, Ptr{Nothing} @0x00007f671ac9c30e, Ptr{Nothing} @0x00007f671ac9c53e, Ptr{Nothing} @0x00007f671ac9c55c, Ptr{Nothing} @0x00007f677201c769, Ptr{Nothing} @0x00007f677203dc9a, Ptr{Nothing} @0x0000000000000000])\n",
      "└ @ Requires /home/ng/.julia/packages/Requires/7Ncym/src/require.jl:49\n"
     ]
    }
   ],
   "source": [
    "using PorousMaterials\n",
    "using Statistics\n",
    "using PyPlot\n",
    "using Cubature\n",
    "using Printf "
   ]
  },
  {
   "cell_type": "code",
   "execution_count": 2,
   "id": "e567dd76",
   "metadata": {},
   "outputs": [
    {
     "name": "stderr",
     "output_type": "stream",
     "text": [
      "┌ Info: Crystal NiPyC2_experiment.cif has Pn space group. I am converting it to P1 symmetry.\n",
      "│         To prevent this, pass `convert_to_p1=false` to the `Crystal` constructor.\n",
      "└ @ Xtals /home/ng/.julia/packages/Xtals/DSCSR/src/crystal.jl:433\n",
      "┌ Info: Crystal Pn_Ni-PyC-NH2.cif has Pn space group. I am converting it to P1 symmetry.\n",
      "│         To prevent this, pass `convert_to_p1=false` to the `Crystal` constructor.\n",
      "└ @ Xtals /home/ng/.julia/packages/Xtals/DSCSR/src/crystal.jl:433\n"
     ]
    },
    {
     "data": {
      "text/plain": [
       "Name: Pn_Ni-PyC-NH2.cif\n",
       "Bravais unit cell of a crystal.\n",
       "\tUnit cell angles α = 90.000000 deg. β = 89.972000 deg. γ = 90.000000 deg.\n",
       "\tUnit cell dimensions a = 10.618000 Å. b = 11.878600 Å, c = 14.183600 Å\n",
       "\tVolume of unit cell: 1788.934346 Å³\n",
       "\n",
       "\t# atoms = 124\n",
       "\t# charges = 0\n",
       "\tchemical formula: Dict(:N => 4, :H => 10, :Ni => 1, :O => 4, :C => 12)\n",
       "\tspace Group: P1\n",
       "\tsymmetry Operations:\n",
       "\t\t'x, y, z'\n"
      ]
     },
     "execution_count": 2,
     "metadata": {},
     "output_type": "execute_result"
    }
   ],
   "source": [
    "const R = 8.31446261815324 / 1000 # ideal gas constant, units: kJ/(mol-K)\n",
    "temp = 298.0 # temperature, units: K\n",
    "ljff = LJForceField(\"UFF\")\n",
    "\n",
    "adsorbates = Dict(:Xe => Dict(:molecule => Molecule(\"Xe\"),\n",
    "                               :mol_wgt => 131.293),\n",
    "                  :Kr => Dict(:molecule => Molecule(\"Kr\"), \n",
    "                              :mol_wgt  => 83.798),\n",
    "                  :Ar => Dict(:molecule => Molecule(\"Ar\"), \n",
    "                              :mol_wgt  => 39.948)\n",
    "                 )\n",
    "\n",
    "xtals = Dict(:original    => Dict(:nipyc   => Crystal(\"NiPyC2_experiment.cif\"),\n",
    "                                  :nipycnh => Crystal(\"Pn_Ni-PyC-NH2.cif\")), \n",
    "             :rep_factors => Dict(:nipyc   => (2, 1, 1), \n",
    "                                  :nipycnh => (1, 1, 2)),\n",
    "             :replicated  => Dict{Symbol, Crystal}()\n",
    "            )\n",
    "\n",
    "xtals[:replicated][:nipyc]   = replicate(xtals[:original][:nipyc], xtals[:rep_factors][:nipyc])\n",
    "xtals[:replicated][:nipycnh] = replicate(xtals[:original][:nipycnh], xtals[:rep_factors][:nipycnh])"
   ]
  },
  {
   "cell_type": "markdown",
   "id": "c716025e",
   "metadata": {},
   "source": [
    "# Grid Method"
   ]
  },
  {
   "cell_type": "code",
   "execution_count": 3,
   "id": "65663c33",
   "metadata": {},
   "outputs": [
    {
     "data": {
      "text/plain": [
       "free_energy_grid (generic function with 1 method)"
      ]
     },
     "execution_count": 3,
     "metadata": {},
     "output_type": "execute_result"
    }
   ],
   "source": [
    "function free_energy_grid(x_id::Int, crystal::Crystal, \n",
    "                          temperature::Float64, bounds::Vector{Vector{Float64}})\n",
    "    β = 1 / (R * temperature) # units: (kJ / mol)^-1\n",
    "    \n",
    "    # area to normalize sum\n",
    "    # side_length = bounds_num_voxels * voxel_side_length\n",
    "    #    where voxel_side_length = xtal_box_side_length / num_voxel_on_side\n",
    "    ly = (bounds[2][2] - bounds[1][2]) * crystal.box.b / grid.n_pts[2]\n",
    "    lz = (bounds[2][3] - bounds[1][3]) * crystal.box.c / grid.n_pts[3]\n",
    "    area = ly * lz\n",
    "    \n",
    "    # grid id bounds of 2d sum\n",
    "    lower_bounds_ids = xf_to_id(grid.n_pts, bounds[1])\n",
    "    upper_bounds_ids = xf_to_id(grid.n_pts, bounds[2])\n",
    "    bound_ids = [lower_bounds_ids, upper_bounds_ids]\n",
    "    lb_y_id = bound_ids[1][2]\n",
    "    lb_z_id = bound_ids[1][3]\n",
    "    ub_y_id = bound_ids[2][2]\n",
    "    ub_z_id = bound_ids[2][3]\n",
    "    d1 = ub_y_id - lb_y_id \n",
    "    d2 = ub_z_id - lb_z_id\n",
    "    \n",
    "    # calculate average Boltzmann factor for a given q\n",
    "    avg_btz_factor = mean(exp.(-β * grid.data[x_id, lb_y_id:ub_y_id, lb_z_id:ub_z_id]))\n",
    "    \n",
    "    return -1.0 / β * log(avg_btz_factor / area) # free energy F(q)\n",
    "end"
   ]
  },
  {
   "cell_type": "code",
   "execution_count": 4,
   "id": "fe945851",
   "metadata": {
    "scrolled": false
   },
   "outputs": [
    {
     "name": "stdout",
     "output_type": "stream",
     "text": [
      "Computing energy grid of Xe in NiPyC2_experiment.cif\n",
      "\tRegular grid (in fractional space) of 127 by 127 by 104 points superimposed over the unit cell.\n"
     ]
    },
    {
     "ename": "LoadError",
     "evalue": "InterruptException:",
     "output_type": "error",
     "traceback": [
      "InterruptException:",
      "",
      "Stacktrace:",
      " [1] energy_grid(crystal::Crystal, molecule::Molecule{Cart}, ljforcefield::LJForceField; resolution::Float64, n_rotations::Int64, temperature::Float64, units::Symbol, center::Bool, verbose::Bool)",
      "   @ PorousMaterials ~/.julia/packages/PorousMaterials/nwCUe/src/grid.jl:354",
      " [2] top-level scope",
      "   @ In[4]:7",
      " [3] eval",
      "   @ ./boot.jl:360 [inlined]",
      " [4] include_string(mapexpr::typeof(REPL.softscope), mod::Module, code::String, filename::String)",
      "   @ Base ./loading.jl:1116"
     ]
    }
   ],
   "source": [
    "# grid.box      # Bravais lattice over which a grid of points is superimposed\n",
    "# grid.data     # 3 dim array containing data for each point\n",
    "# grid.n_pts    # number of grid points in x, y, z\n",
    "# grid.origin   # the origin of the grid\n",
    "# grid.units    # units associated with each data point\n",
    "res  = 0.1 # maximum distance between grid points, units: Å\n",
    "grid = energy_grid(xtals[:replicated][:nipyc], adsorbates[:Xe][:molecule], \n",
    "                   ljff, resolution=res, units=:kJ_mol) "
   ]
  },
  {
   "cell_type": "code",
   "execution_count": 5,
   "id": "fc3a92a5",
   "metadata": {
    "scrolled": true
   },
   "outputs": [
    {
     "ename": "LoadError",
     "evalue": "type #grid has no field n_pts",
     "output_type": "error",
     "traceback": [
      "type #grid has no field n_pts",
      "",
      "Stacktrace:",
      " [1] getproperty(x::Function, f::Symbol)",
      "   @ Base ./Base.jl:33",
      " [2] top-level scope",
      "   @ ./In[5]:3",
      " [3] eval",
      "   @ ./boot.jl:360 [inlined]",
      " [4] include_string(mapexpr::typeof(REPL.softscope), mod::Module, code::String, filename::String)",
      "   @ Base ./loading.jl:1116"
     ]
    }
   ],
   "source": [
    "grid_free_E = Array{Float64, 1}()\n",
    "\n",
    "for q_id in 1:grid.n_pts[1]\n",
    "    # x-axis doesn't matter right now -> give dummy x bounds\n",
    "    lower_bound = [0.0, 0.0, 0.5] # [fx, fy, fz]\n",
    "    upper_bound = [0.0, 0.6, 0.99] # [fx, fy, fz] avoid periodic b.c. 0.0 = 1.0\n",
    "    bounds = [lower_bound, upper_bound] \n",
    "    # store free energy calculation\n",
    "    push!(grid_free_E, free_energy_grid(q_id, xtals[:replicated][:nipyc], temp, bounds))\n",
    "end"
   ]
  },
  {
   "cell_type": "code",
   "execution_count": 6,
   "id": "e6aeda9a",
   "metadata": {
    "scrolled": true
   },
   "outputs": [],
   "source": [
    "# [println(grid_free_E[i]) for i in 1:length(grid_free_E)];"
   ]
  },
  {
   "cell_type": "markdown",
   "id": "1d1002ea",
   "metadata": {},
   "source": [
    "### Calculate the Diffusin Coefficient"
   ]
  },
  {
   "cell_type": "code",
   "execution_count": 7,
   "id": "c5890475",
   "metadata": {},
   "outputs": [
    {
     "ename": "LoadError",
     "evalue": "type #grid has no field n_pts",
     "output_type": "error",
     "traceback": [
      "type #grid has no field n_pts",
      "",
      "Stacktrace:",
      " [1] getproperty(x::Function, f::Symbol)",
      "   @ Base ./Base.jl:33",
      " [2] top-level scope",
      "   @ In[7]:1",
      " [3] eval",
      "   @ ./boot.jl:360 [inlined]",
      " [4] include_string(mapexpr::typeof(REPL.softscope), mod::Module, code::String, filename::String)",
      "   @ Base ./loading.jl:1116"
     ]
    }
   ],
   "source": [
    "x = [i for i in 1:grid.n_pts[1]] * xtals[:replicated][:nipyc].box.a / grid.n_pts[1]\n",
    "q_str = maximum(grid_free_E)\n",
    "q_str_id = findfirst(grid_free_E .== maximum(grid_free_E)) \n",
    "q_str_xf = q_str_id * xtals[:replicated][:nipyc].box.a / grid.n_pts[1]\n",
    "\n",
    "grd_fe_min = sortperm(grid_free_E)[1:2]\n",
    "# check if indexes are on oposite sides of q_str_id\n",
    "@assert grd_fe_min[1] < q_str_id \"First free energy minimum not found before maximum.\"\n",
    "@assert grd_fe_min[2] > q_str_id \"Second free energy minimum not found after maximum.\""
   ]
  },
  {
   "cell_type": "code",
   "execution_count": null,
   "id": "4559264c",
   "metadata": {},
   "outputs": [],
   "source": []
  },
  {
   "cell_type": "markdown",
   "id": "674c2f11",
   "metadata": {},
   "source": [
    "### Plot Average Free Energy Along reaction Coordinate "
   ]
  },
  {
   "cell_type": "code",
   "execution_count": 8,
   "id": "a4743daf",
   "metadata": {},
   "outputs": [
    {
     "ename": "LoadError",
     "evalue": "UndefVarError: q_str_xf not defined",
     "output_type": "error",
     "traceback": [
      "UndefVarError: q_str_xf not defined",
      "",
      "Stacktrace:",
      " [1] top-level scope",
      "   @ In[8]:3",
      " [2] eval",
      "   @ ./boot.jl:360 [inlined]",
      " [3] include_string(mapexpr::typeof(REPL.softscope), mod::Module, code::String, filename::String)",
      "   @ Base ./loading.jl:1116"
     ]
    }
   ],
   "source": [
    "figure()\n",
    "\n",
    "scatter([q_str_xf], [q_str], label=\"q*\", marker=\"*\", color=\"r\")\n",
    "plot(x, grid_free_E, zorder=0)\n",
    "legend()\n",
    "ylabel(\"free energy [kJ/mol]\")\n",
    "xlabel(\"rxn coord \" * L\"[\\AA]\")\n",
    "tight_layout()"
   ]
  },
  {
   "cell_type": "markdown",
   "id": "1751f0c6",
   "metadata": {},
   "source": [
    "**Use info from accessibility grid to determine reaction coordinate**"
   ]
  },
  {
   "cell_type": "code",
   "execution_count": 9,
   "id": "bcbe1a72",
   "metadata": {},
   "outputs": [],
   "source": [
    "# grd_min_mol, grd_min_E = find_energy_minimum_gridsearch(rep_xtals[1], adsorbates[1], ljff, resolution=res)\n",
    "\n",
    "# minimized_molecule, min_E = find_energy_minimum(rep_xtals[1], grd_min_mol, ljff)\n",
    "\n",
    "\n",
    "\n",
    "# energy_tol = 50.0 # kJ/mol\n",
    "\n",
    "# accessibility_grid, nb_segments_blocked, porosity = compute_accessibility_grid(rep_xtals[1], \n",
    "#                                                                         adsorbates[1], ljff; \n",
    "#                                                                         resolution=res, \n",
    "#                                                                         energy_tol=energy_tol, \n",
    "#                                                                         energy_units=:kJ_mol, \n",
    "#                                                                         verbose=true, \n",
    "#                                                                         write_b4_after_grids=false, \n",
    "#                                                                         block_inaccessible_pockets=true)\n",
    "\n",
    "\n",
    "\n",
    "# function get_2d_integration_bounds(xtal::Crystal, energy_tol::Float64)\n",
    "#     # maybe try to use the accessibility grid with a high resolution\n",
    "#     # lb_y = 0.0\n",
    "#     # lb_z = 0.0\n",
    "#     # ub_y = 1.0\n",
    "#     # ub_z = 1.0\n",
    "\n",
    "#     # # accessible(accessibility_grid::Grid{Bool}, xf::Array{Float64, 1})\n",
    "#     # # id_to_xf(id::Tuple{Int, Int, Int}, n_pts::Tuple{Int, Int, Int})\n",
    "\n",
    "#     # for i in 1:accessibility_grid.n_pts[1] # sweep over x values (define the plane)\n",
    "#     #     for k in 1:accessibility_grid.n_pts[3] # sweep over z values (columns)\n",
    "#     #         for j in 1:accessibility_grid.n_pts[2] # sweep over y values (rows)\n",
    "#     #             # get fractional coords of voxel ID\n",
    "#     #             id_xf = id_to_xf((i, j, k), accessibility_grid.n_pts)\n",
    "#     #             # determine if voxel is accessible to molecule\n",
    "#     #             if accessible(accessibility_grid, id_xf)\n",
    "#     #                 # how to determine if it is an uperbound of a lowerbound?\n",
    "#     #                 # I think that we would check if the bound has already been reasigned \n",
    "#     #                 # AND if the value is lower than the current lower bound, keep it\n",
    "#     #                 # OR  if the value is higher than the current value compare to upper bound\n",
    "#     #                 # ... maybe\n",
    "#     #             end\n",
    "#     #         end\n",
    "#     #     end\n",
    "#     # end\n",
    "#     return bounds\n",
    "# end # get_integration_bounds\n",
    "\n",
    "# bb = get_2d_integration_bounds(rep_xtals[1], 50.0)"
   ]
  },
  {
   "cell_type": "markdown",
   "id": "0234226c",
   "metadata": {},
   "source": [
    "# Integral Method"
   ]
  },
  {
   "cell_type": "code",
   "execution_count": 10,
   "id": "1def37cf",
   "metadata": {},
   "outputs": [
    {
     "data": {
      "text/plain": [
       "free_energy"
      ]
     },
     "execution_count": 10,
     "metadata": {},
     "output_type": "execute_result"
    }
   ],
   "source": [
    "\"\"\"\n",
    "# Arguments:\n",
    "`x::Float64`: reaction coordinate\n",
    "`xtal::Crystal`: the MOF\n",
    "`temp::Float64`: temperature, units: K. default=298.0 K\n",
    "`bounds::Union{Nothing, Vector{Vector{Float64}}}`: 2d integration bounds\n",
    "`energy_tol::Float64`: energy tolerance used for determining integratin bounds if bounds are not passed, \n",
    "                        units: kJ/mol\n",
    "\"\"\"\n",
    "function free_energy(x::Float64, xtal::Crystal, molecule::Molecule, ljff::LJForceField; \n",
    "                     temp::Float64=298.0, \n",
    "                     bounds::Union{Nothing, Vector{Vector{Float64}}}=nothing,\n",
    "                     energy_tol::Float64=50.0)\n",
    "\n",
    "    β = 1 / (R * temp) # units: (kJ / mol)^-1\n",
    "    \n",
    "    # get integration bounds\n",
    "    if isnothing(bounds)\n",
    "        bounds = get_2d_integration_bounds(xtal, energy_tol) # [[lb_y, lb_z], [ub_y, ub_z]]\n",
    "    end\n",
    "    # calculate area to normalize integral\n",
    "    area = (bounds[2][1] - bounds[1][1]) * (bounds[2][2] - bounds[1][2])\n",
    "    \n",
    "    # integrate planar slices along the reaction coordinate\n",
    "    function integrand(yz::Vector{Float64})\n",
    "        xf = [x, yz[1], yz[2]] # position in MOF\n",
    "        \n",
    "        # make sure molecule is in fractional coords\n",
    "        if isa(molecule, Molecule{Cart})\n",
    "            molecule = Frac(molecule, xtal.box)\n",
    "        end\n",
    "        \n",
    "        # make sure the coords are fractional\n",
    "        xf = mod.(xf, 1.0)\n",
    "        # move probe molecule\n",
    "        translate_to!(molecule, Frac(xf))\n",
    "        # calculate the guest-host VDW interaction\n",
    "        # vdw_energy * 8.314 / 1000 gives units: kJ/mol\n",
    "        boltzmann_factor = exp(-β * (vdw_energy(xtal, molecule, ljff) * 8.314 / 1000))\n",
    "        return boltzmann_factor\n",
    "    end # integrand\n",
    "\n",
    "    # perform integration\n",
    "    fdim = 3 # perform two (y and z dir) real-valued integrals simultaneously\n",
    "    (val, err) = hcubature(yz -> begin integrand(yz); end, bounds[1], bounds[2])\n",
    "    # return free energy\n",
    "    return (-1.0 / β) * log(val / area), err\n",
    "end # free_energy"
   ]
  },
  {
   "cell_type": "code",
   "execution_count": 11,
   "id": "af9283d9",
   "metadata": {},
   "outputs": [
    {
     "ename": "LoadError",
     "evalue": "UndefVarError: rep_xtals not defined",
     "output_type": "error",
     "traceback": [
      "UndefVarError: rep_xtals not defined",
      "",
      "Stacktrace:",
      " [1] macro expansion",
      "   @ ./In[11]:11 [inlined]",
      " [2] top-level scope",
      "   @ ./timing.jl:210 [inlined]",
      " [3] top-level scope",
      "   @ ./In[11]:0",
      " [4] eval",
      "   @ ./boot.jl:360 [inlined]",
      " [5] include_string(mapexpr::typeof(REPL.softscope), mod::Module, code::String, filename::String)",
      "   @ Base ./loading.jl:1116"
     ]
    }
   ],
   "source": [
    "# I'm just guessing these values based on a .gif that I made of the energy heatmap\n",
    "guess_bounds = [[0.0, 0.5], [0.6, 0.99]] ./ 3 # [[lb_y, lb_z], [ub_y, ub_z]]\n",
    "# guess_bounds = [[0.0, 0.0], [1.0, 1.0]]\n",
    "\n",
    "free_E = Array{Float64, 1}()\n",
    "E_err  = Array{Float64, 1}()\n",
    "nn = 100\n",
    "\n",
    "@time begin \n",
    "    for x in [0.0, 0.2] # range(0.0, stop=1.0/rep_factors[1][1], length=nn)\n",
    "        f , err = free_energy(x, rep_xtals[1], adsorbates[1], ljff, bounds=guess_bounds)\n",
    "        push!(free_E, f)\n",
    "        push!(E_err, err)\n",
    "    end\n",
    "end"
   ]
  },
  {
   "cell_type": "code",
   "execution_count": 12,
   "id": "9bf18d37",
   "metadata": {
    "scrolled": false
   },
   "outputs": [
    {
     "data": {
      "text/plain": [
       "Float64[]"
      ]
     },
     "execution_count": 12,
     "metadata": {},
     "output_type": "execute_result"
    }
   ],
   "source": [
    "free_E"
   ]
  },
  {
   "cell_type": "code",
   "execution_count": 13,
   "id": "33a81fea",
   "metadata": {},
   "outputs": [
    {
     "ename": "LoadError",
     "evalue": "PyError ($(Expr(:escape, :(ccall(#= /home/ng/.julia/packages/PyCall/3fwVL/src/pyfncall.jl:43 =# @pysym(:PyObject_Call), PyPtr, (PyPtr, PyPtr, PyPtr), o, pyargsptr, kw))))) <class 'ValueError'>\nValueError('x and y must have same first dimension, but have shapes (100,) and (0,)')\n  File \"/home/ng/.local/lib/python3.8/site-packages/matplotlib/pyplot.py\", line 3019, in plot\n    return gca().plot(\n  File \"/home/ng/.local/lib/python3.8/site-packages/matplotlib/axes/_axes.py\", line 1605, in plot\n    lines = [*self._get_lines(*args, data=data, **kwargs)]\n  File \"/home/ng/.local/lib/python3.8/site-packages/matplotlib/axes/_base.py\", line 315, in __call__\n    yield from self._plot_args(this, kwargs)\n  File \"/home/ng/.local/lib/python3.8/site-packages/matplotlib/axes/_base.py\", line 501, in _plot_args\n    raise ValueError(f\"x and y must have same first dimension, but \"\n",
     "output_type": "error",
     "traceback": [
      "PyError ($(Expr(:escape, :(ccall(#= /home/ng/.julia/packages/PyCall/3fwVL/src/pyfncall.jl:43 =# @pysym(:PyObject_Call), PyPtr, (PyPtr, PyPtr, PyPtr), o, pyargsptr, kw))))) <class 'ValueError'>\nValueError('x and y must have same first dimension, but have shapes (100,) and (0,)')\n  File \"/home/ng/.local/lib/python3.8/site-packages/matplotlib/pyplot.py\", line 3019, in plot\n    return gca().plot(\n  File \"/home/ng/.local/lib/python3.8/site-packages/matplotlib/axes/_axes.py\", line 1605, in plot\n    lines = [*self._get_lines(*args, data=data, **kwargs)]\n  File \"/home/ng/.local/lib/python3.8/site-packages/matplotlib/axes/_base.py\", line 315, in __call__\n    yield from self._plot_args(this, kwargs)\n  File \"/home/ng/.local/lib/python3.8/site-packages/matplotlib/axes/_base.py\", line 501, in _plot_args\n    raise ValueError(f\"x and y must have same first dimension, but \"\n",
      "",
      "Stacktrace:",
      "  [1] pyerr_check",
      "    @ ~/.julia/packages/PyCall/3fwVL/src/exception.jl:62 [inlined]",
      "  [2] pyerr_check",
      "    @ ~/.julia/packages/PyCall/3fwVL/src/exception.jl:66 [inlined]",
      "  [3] _handle_error(msg::String)",
      "    @ PyCall ~/.julia/packages/PyCall/3fwVL/src/exception.jl:83",
      "  [4] macro expansion",
      "    @ ~/.julia/packages/PyCall/3fwVL/src/exception.jl:97 [inlined]",
      "  [5] #107",
      "    @ ~/.julia/packages/PyCall/3fwVL/src/pyfncall.jl:43 [inlined]",
      "  [6] disable_sigint",
      "    @ ./c.jl:458 [inlined]",
      "  [7] __pycall!",
      "    @ ~/.julia/packages/PyCall/3fwVL/src/pyfncall.jl:42 [inlined]",
      "  [8] _pycall!(ret::PyCall.PyObject, o::PyCall.PyObject, args::Tuple{Vector{Float64}, Vector{Float64}}, nargs::Int64, kw::Ptr{Nothing})",
      "    @ PyCall ~/.julia/packages/PyCall/3fwVL/src/pyfncall.jl:29",
      "  [9] _pycall!(ret::PyCall.PyObject, o::PyCall.PyObject, args::Tuple{Vector{Float64}, Vector{Float64}}, kwargs::Base.Iterators.Pairs{Union{}, Union{}, Tuple{}, NamedTuple{(), Tuple{}}})",
      "    @ PyCall ~/.julia/packages/PyCall/3fwVL/src/pyfncall.jl:11",
      " [10] pycall(::PyCall.PyObject, ::Type{PyCall.PyAny}, ::Vector{Float64}, ::Vararg{Vector{Float64}, N} where N; kwargs::Base.Iterators.Pairs{Union{}, Union{}, Tuple{}, NamedTuple{(), Tuple{}}})",
      "    @ PyCall ~/.julia/packages/PyCall/3fwVL/src/pyfncall.jl:83",
      " [11] pycall(::PyCall.PyObject, ::Type{PyCall.PyAny}, ::Vector{Float64}, ::Vararg{Vector{Float64}, N} where N)",
      "    @ PyCall ~/.julia/packages/PyCall/3fwVL/src/pyfncall.jl:83",
      " [12] plot(::Vector{Float64}, ::Vararg{Vector{Float64}, N} where N; kws::Base.Iterators.Pairs{Union{}, Union{}, Tuple{}, NamedTuple{(), Tuple{}}})",
      "    @ PyPlot ~/.julia/packages/PyPlot/XaELc/src/PyPlot.jl:177",
      " [13] plot(::Vector{Float64}, ::Vararg{Vector{Float64}, N} where N)",
      "    @ PyPlot ~/.julia/packages/PyPlot/XaELc/src/PyPlot.jl:174",
      " [14] top-level scope",
      "    @ In[13]:2",
      " [15] eval",
      "    @ ./boot.jl:360 [inlined]",
      " [16] include_string(mapexpr::typeof(REPL.softscope), mod::Module, code::String, filename::String)",
      "    @ Base ./loading.jl:1116"
     ]
    }
   ],
   "source": [
    "xx = [i for i in range(0.0, stop=1.0, length=nn)]\n",
    "plot(xx, free_E)"
   ]
  },
  {
   "cell_type": "markdown",
   "id": "e0f070e4",
   "metadata": {},
   "source": [
    "# Plots\n",
    "\n",
    "Plot the energy along a given crystal axis."
   ]
  },
  {
   "cell_type": "code",
   "execution_count": 14,
   "id": "81a7bada",
   "metadata": {
    "scrolled": false
   },
   "outputs": [
    {
     "ename": "LoadError",
     "evalue": "type #grid has no field n_pts",
     "output_type": "error",
     "traceback": [
      "type #grid has no field n_pts",
      "",
      "Stacktrace:",
      " [1] getproperty(x::Function, f::Symbol)",
      "   @ Base ./Base.jl:33",
      " [2] top-level scope",
      "   @ In[14]:2",
      " [3] eval",
      "   @ ./boot.jl:360 [inlined]",
      " [4] include_string(mapexpr::typeof(REPL.softscope), mod::Module, code::String, filename::String)",
      "   @ Base ./loading.jl:1116"
     ]
    }
   ],
   "source": [
    "figure()\n",
    "x = [i for i in 1:grid.n_pts[1]]\n",
    "plot(rep_xtals[1].box.a * x / grid.n_pts[1], free_energy_grid)\n",
    "ylabel(\"free energy [kJ/mol]\")\n",
    "xlabel(\"rxn coord [ang]\")\n",
    "tight_layout()"
   ]
  },
  {
   "cell_type": "code",
   "execution_count": 15,
   "id": "15430e7e",
   "metadata": {
    "scrolled": false
   },
   "outputs": [
    {
     "ename": "LoadError",
     "evalue": "UndefVarError: rep_xtals not defined",
     "output_type": "error",
     "traceback": [
      "UndefVarError: rep_xtals not defined",
      "",
      "Stacktrace:",
      " [1] top-level scope",
      "   @ In[15]:32",
      " [2] eval",
      "   @ ./boot.jl:360 [inlined]",
      " [3] include_string(mapexpr::typeof(REPL.softscope), mod::Module, code::String, filename::String)",
      "   @ Base ./loading.jl:1116"
     ]
    }
   ],
   "source": [
    "function plot_energy_on_reaction_coord(xtal::Crystal, adsorbate::Molecule{Cart})\n",
    "    fig, axs = subplots(3)\n",
    "\n",
    "    x = [i for i in 1:grid.n_pts[1]]\n",
    "    y = [i for i in 1:grid.n_pts[2]]\n",
    "    z = [i for i in 1:grid.n_pts[3]]\n",
    "\n",
    "    # plot along x-axis\n",
    "    axs[1].plot(x, grid.data[:, vox_id[2], vox_id[3]])\n",
    "    axs[1].set_xlabel(\"x-axis [voxel ID]\")\n",
    "    axs[1].set_ylabel(\"Energy [kJ/mol]\")\n",
    "    axs[1].set_title(\"$(String(adsorbate.species)) in $(xtal.name)\")\n",
    "\n",
    "    # plot along y-axis\n",
    "    axs[2].plot(y, grid.data[vox_id[1], :, vox_id[3]])\n",
    "    axs[2].set_ylabel(\"Energy [kJ/mol]\")\n",
    "    axs[2].set_xlabel(\"y-axis [voxel ID]\")\n",
    "    # axs[2].set_ylim(ymax=5000)\n",
    "\n",
    "    # plot along z-axis\n",
    "    axs[3].plot(z, grid.data[vox_id[1], vox_id[2], :]) # max ~70000\n",
    "    axs[3].set_ylabel(\"Energy [kJ/mol]\")\n",
    "    axs[3].set_xlabel(\"z-axis [voxel ID]\")\n",
    "\n",
    "    fig.tight_layout()\n",
    "#     savefig(joinpath(pwd(), \"energygrid_slices\", \n",
    "#             \"energy_contour_$(String(adsorbate.species))_in_$(split(xtal.name, '.')[1]).png\"), \n",
    "#             dpi=600, format=\"png\")\n",
    "    fig.show()\n",
    "end\n",
    "\n",
    "plot_energy_on_reaction_coord(rep_xtals[1], adsorbates[1])"
   ]
  },
  {
   "cell_type": "code",
   "execution_count": 16,
   "id": "f3d6f369",
   "metadata": {
    "scrolled": true
   },
   "outputs": [
    {
     "ename": "LoadError",
     "evalue": "UndefVarError: xtal not defined",
     "output_type": "error",
     "traceback": [
      "UndefVarError: xtal not defined",
      "",
      "Stacktrace:",
      " [1] top-level scope",
      "   @ In[16]:40",
      " [2] eval",
      "   @ ./boot.jl:360 [inlined]",
      " [3] include_string(mapexpr::typeof(REPL.softscope), mod::Module, code::String, filename::String)",
      "   @ Base ./loading.jl:1116"
     ]
    }
   ],
   "source": [
    "function plot_2d_energygrid_slices(grid::Grid, xtal::Crystal, \n",
    "                                   adsorbate::Molecule{Cart}; \n",
    "                                   energy_cutoff::Int64=500)\n",
    "    for k in 1:grid.n_pts[1]\n",
    "        data = deepcopy(grid.data[k, :, :])\n",
    "\n",
    "        for i in 1:grid.n_pts[2]\n",
    "            for j in 1:grid.n_pts[3]\n",
    "                if data[i, j] > energy_cutoff\n",
    "                    data[i, j] = Inf\n",
    "                end\n",
    "            end\n",
    "        end\n",
    "\n",
    "        # make heatmap\n",
    "        fig, ax = subplots()\n",
    "        ax.scatter(vox_id[2], vox_id[3], label=\"reaction coordinate\", color=\"r\", marker=\"*\")\n",
    "        ax.set_title(\"$(String(adsorbate.species)) in $(xtal.name) - slice: $k\")\n",
    "        ax.legend()\n",
    "\n",
    "        im = ax.imshow(data[:, :], vmin=-100, vmax=energy_cutoff)\n",
    "        ax.set_xlabel(\"y [voxel ID]\")\n",
    "        ax.set_ylabel(\"z [voxel ID]\")\n",
    "\n",
    "        # Create colorbar\n",
    "        cbarlabel=\"[kJ/mol]\"\n",
    "        cbar = ax.figure.colorbar(im, ax=ax)\n",
    "        cbar.ax.set_ylabel(cbarlabel, rotation=-90, va=\"bottom\")\n",
    "        cbar.minorticks_on()\n",
    "\n",
    "        fig.tight_layout();\n",
    "        subdir_name = \"$(String(adsorbate.species))_in_$(split(xtal.name, '.')[1])\"\n",
    "        savefig(joinpath(pwd(), \"energygrid_slices\", \"$subdir_name/slice_$k.png\"), dpi=600, format=\"png\")\n",
    "        fig.show();\n",
    "    end\n",
    "end\n",
    "\n",
    "\n",
    "energy_cutoff = 500 # units: kJ/mol\n",
    "plot_2d_energygrid_slices(grid, xtal, adsorbate; energy_cutoff=500)"
   ]
  },
  {
   "cell_type": "code",
   "execution_count": null,
   "id": "5c70ef99",
   "metadata": {},
   "outputs": [],
   "source": []
  }
 ],
 "metadata": {
  "kernelspec": {
   "display_name": "Julia 1.6.2",
   "language": "julia",
   "name": "julia-1.6"
  },
  "language_info": {
   "file_extension": ".jl",
   "mimetype": "application/julia",
   "name": "julia",
   "version": "1.6.2"
  }
 },
 "nbformat": 4,
 "nbformat_minor": 5
}
