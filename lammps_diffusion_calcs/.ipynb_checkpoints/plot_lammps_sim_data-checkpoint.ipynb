{
 "cells": [
  {
   "cell_type": "code",
   "execution_count": 1,
   "id": "e07267ce",
   "metadata": {},
   "outputs": [],
   "source": [
    "using PyCall\n",
    "using PyPlot"
   ]
  },
  {
   "cell_type": "code",
   "execution_count": 2,
   "id": "e50ea924",
   "metadata": {},
   "outputs": [
    {
     "data": {
      "text/plain": [
       "read_lammps_output_file (generic function with 1 method)"
      ]
     },
     "execution_count": 2,
     "metadata": {},
     "output_type": "execute_result"
    }
   ],
   "source": [
    "function read_lammps_output_file(lammps_output_filename::String)\n",
    "    # read in lines of QE output file\n",
    "    lammps_file = open(lammps_output_filename)\n",
    "    lines = readlines(lammps_file)\n",
    "    close(lammps_file)\n",
    "    return lines\n",
    "end"
   ]
  },
  {
   "cell_type": "code",
   "execution_count": 3,
   "id": "17c7e9ab",
   "metadata": {},
   "outputs": [
    {
     "data": {
      "text/plain": [
       "get_thermo_data (generic function with 1 method)"
      ]
     },
     "execution_count": 3,
     "metadata": {},
     "output_type": "execute_result"
    }
   ],
   "source": [
    "function get_thermo_data(lines::Array{String, 1})\n",
    "    data_start = 0\n",
    "    data_stop  = 0\n",
    "    for (i, line) in enumerate(lines)\n",
    "        if occursin(\"Step\", line)\n",
    "            data_start = i\n",
    "        elseif occursin(\"Loop\", line)\n",
    "            data_stop  = i\n",
    "        end\n",
    "    end\n",
    "    \n",
    "    println(\"data_start = \", data_start)\n",
    "    println(\"data_stop  = \", data_stop)\n",
    "    \n",
    "    num_data = data_stop - data_start - 1\n",
    "    data = Dict{String, Array{Any, 1}}(\"Step\"       => zeros(Int64, num_data),\n",
    "                                       \"v_eqtemp\"   => zeros(Int64, num_data),\n",
    "                                       \"c_msd\"      => zeros(Float64, num_data),\n",
    "                                       \"v_fitslope\" => zeros(Float64, num_data)\n",
    "                                      )\n",
    "    \n",
    "    for (i, line) in enumerate(lines[data_start+1:data_stop-1])\n",
    "        data[\"Step\"][i]       = parse(Int64, split(line)[1])\n",
    "        data[\"v_eqtemp\"][i]   = parse(Int64, split(line)[2])\n",
    "        data[\"c_msd\"][i]      = parse(Float64, split(line)[3])\n",
    "        data[\"v_fitslope\"][i] = parse(Float64, split(line)[4])\n",
    "    end\n",
    "    return data\n",
    "end"
   ]
  },
  {
   "cell_type": "code",
   "execution_count": 4,
   "id": "4ca1d300",
   "metadata": {},
   "outputs": [
    {
     "name": "stdout",
     "output_type": "stream",
     "text": [
      "data_start = 1226\n",
      "data_stop  = 2228\n"
     ]
    },
    {
     "data": {
      "text/plain": [
       "Dict{String, Vector{Any}} with 4 entries:\n",
       "  \"c_msd\"      => [7.74615e-30, 0.000425847, 0.00134546, 0.001008, 0.000352252,…\n",
       "  \"v_fitslope\" => [3.33333e16, 7.09745e-8, 1.20997e-7, 7.82925e-8, 2.74741e-8, …\n",
       "  \"Step\"       => [0, 1000, 2000, 3000, 4000, 5000, 6000, 7000, 8000, 9000  …  …\n",
       "  \"v_eqtemp\"   => [298, 298, 298, 298, 298, 298, 298, 298, 298, 298  …  298, 29…"
      ]
     },
     "execution_count": 4,
     "metadata": {},
     "output_type": "execute_result"
    }
   ],
   "source": [
    "filename = joinpath(pwd(), \"log.NiPyC2_experiment_with_Xe\")\n",
    "\n",
    "lines = read_lammps_output_file(filename)\n",
    "\n",
    "sim_data = get_thermo_data(lines)"
   ]
  },
  {
   "cell_type": "code",
   "execution_count": 6,
   "id": "9fc93987",
   "metadata": {},
   "outputs": [
    {
     "data": {
      "text/plain": [
       "1001"
      ]
     },
     "execution_count": 6,
     "metadata": {},
     "output_type": "execute_result"
    }
   ],
   "source": [
    "length(sim_data[\"c_msd\"])"
   ]
  },
  {
   "cell_type": "markdown",
   "id": "fb17cb34",
   "metadata": {},
   "source": [
    "## PLOTS\n",
    "\n",
    "Plot the MSD vs time and compare with the fitted slope vs time"
   ]
  },
  {
   "cell_type": "code",
   "execution_count": null,
   "id": "ba408dcb",
   "metadata": {},
   "outputs": [],
   "source": []
  }
 ],
 "metadata": {
  "kernelspec": {
   "display_name": "Julia 1.6.2",
   "language": "julia",
   "name": "julia-1.6"
  },
  "language_info": {
   "file_extension": ".jl",
   "mimetype": "application/julia",
   "name": "julia",
   "version": "1.6.2"
  }
 },
 "nbformat": 4,
 "nbformat_minor": 5
}
