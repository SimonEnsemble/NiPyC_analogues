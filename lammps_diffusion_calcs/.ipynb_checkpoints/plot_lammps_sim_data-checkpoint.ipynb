{
 "cells": [
  {
   "cell_type": "code",
   "execution_count": 1,
   "id": "e07267ce",
   "metadata": {},
   "outputs": [],
   "source": [
    "using PyCall\n",
    "using PyPlot"
   ]
  },
  {
   "cell_type": "code",
   "execution_count": 2,
   "id": "e50ea924",
   "metadata": {},
   "outputs": [
    {
     "data": {
      "text/plain": [
       "read_lammps_output_file (generic function with 1 method)"
      ]
     },
     "execution_count": 2,
     "metadata": {},
     "output_type": "execute_result"
    }
   ],
   "source": [
    "function read_lammps_output_file(lammps_output_filename::String)\n",
    "    # read in lines of QE output file\n",
    "    lammps_file = open(lammps_output_filename)\n",
    "    lines = readlines(lammps_file)\n",
    "    close(lammps_file)\n",
    "    return lines\n",
    "end"
   ]
  },
  {
   "cell_type": "code",
   "execution_count": 3,
   "id": "17c7e9ab",
   "metadata": {},
   "outputs": [
    {
     "data": {
      "text/plain": [
       "get_thermo_data (generic function with 1 method)"
      ]
     },
     "execution_count": 3,
     "metadata": {},
     "output_type": "execute_result"
    }
   ],
   "source": [
    "function get_thermo_data(lines::Array{String, 1})\n",
    "    data_start = 0\n",
    "    data_stop  = 0\n",
    "    for (i, line) in enumerate(lines)\n",
    "        if occursin(\"Step\", line)\n",
    "            data_start = i\n",
    "        elseif occursin(\"Loop\", line)\n",
    "            data_stop  = i\n",
    "        end\n",
    "    end\n",
    "    \n",
    "    println(\"data_start = \", data_start)\n",
    "    println(\"data_stop  = \", data_stop)\n",
    "    \n",
    "    num_data = data_stop - data_start - 1\n",
    "    data = Dict{String, Array{Any, 1}}(\"Step\"       => zeros(Int64, num_data),\n",
    "                                       \"v_eqtemp\"   => zeros(Int64, num_data),\n",
    "                                       \"c_msd\"      => zeros(Float64, num_data),\n",
    "                                       \"v_fitslope\" => zeros(Float64, num_data)\n",
    "                                      )\n",
    "    \n",
    "    for (i, line) in enumerate(lines[data_start+1:data_stop-1])\n",
    "        data[\"Step\"][i]       = parse(Int64, split(line)[1])\n",
    "        data[\"v_eqtemp\"][i]   = parse(Int64, split(line)[2])\n",
    "        data[\"c_msd\"][i]      = parse(Float64, split(line)[3])\n",
    "        data[\"v_fitslope\"][i] = parse(Float64, split(line)[4])\n",
    "    end\n",
    "    return data\n",
    "end"
   ]
  },
  {
   "cell_type": "code",
   "execution_count": 4,
   "id": "4ca1d300",
   "metadata": {},
   "outputs": [],
   "source": [
    "# filename = joinpath(pwd(), \"log.NiPyC2_experiment_with_Xe\")\n",
    "\n",
    "# lines = read_lammps_output_file(filename)\n",
    "\n",
    "# sim_data = get_thermo_data(lines)\n",
    "\n",
    "# length(sim_data[\"c_msd\"])"
   ]
  },
  {
   "cell_type": "code",
   "execution_count": 5,
   "id": "2f66e064",
   "metadata": {
    "scrolled": true
   },
   "outputs": [
    {
     "name": "stdout",
     "output_type": "stream",
     "text": [
      "/home/ng/NiPyC_analogues/lammps_diffusion_calcs/log.NiPyC2_experiment_with_Ar\n",
      "data_start = 135\n",
      "data_stop  = 1137\n",
      "/home/ng/NiPyC_analogues/lammps_diffusion_calcs/log.NiPyC2_experiment_with_Kr\n",
      "data_start = 135\n",
      "data_stop  = 1137\n",
      "/home/ng/NiPyC_analogues/lammps_diffusion_calcs/log.NiPyC2_experiment_with_Xe\n",
      "data_start = 143\n",
      "data_stop  = 1145\n",
      "/home/ng/NiPyC_analogues/lammps_diffusion_calcs/log.Pn_Ni-PyC-NH2_with_Ar\n",
      "data_start = 149\n",
      "data_stop  = 1151\n",
      "/home/ng/NiPyC_analogues/lammps_diffusion_calcs/log.Pn_Ni-PyC-NH2_with_Kr\n",
      "data_start = 149\n",
      "data_stop  = 1151\n",
      "/home/ng/NiPyC_analogues/lammps_diffusion_calcs/log.Pn_Ni-PyC-NH2_with_Xe\n",
      "data_start = 149\n",
      "data_stop  = 1151\n"
     ]
    }
   ],
   "source": [
    "# which xtals are we looking at\n",
    "xtals = [\"NiPyC2_experiment\", \"Pn_Ni-PyC-NH2\"]\n",
    "# which adsorbated are we condidering\n",
    "adsorbates = [\"Ar\", \"Kr\", \"Xe\"]\n",
    "# initialize Dict to store data\n",
    "# Tuple is (xtal, gas)\n",
    "sim_data = Dict{Tuple{String, String}, Dict{String, Array{Any, 1}}}()\n",
    "\n",
    "# loop over xtals\n",
    "for xtal in xtals\n",
    "    # loop over adsorbates\n",
    "    for gas in adsorbates\n",
    "        # define filemane\n",
    "        filename = joinpath(pwd(), \"log.\" * xtal * \"_with_\" * gas)\n",
    "        println(filename)\n",
    "        # read file\n",
    "        lines = read_lammps_output_file(filename)\n",
    "        # get desired data and store in a Dict\n",
    "        sim_data[(xtal, gas)] = get_thermo_data(lines)\n",
    "        \n",
    "        ###\n",
    "        # Simulation output is in Å²/fs and we want to convert that to cm²/s\n",
    "        # 1 Å  = 10⁻⁸cm\n",
    "        # 1 fs = 10⁻¹⁵ s\n",
    "        # 1 Å²/fs * (10¹⁵ fs/s)*(10⁻¹⁶ cm²/Å²) = 0.1 cm²/s\n",
    "        # So, 1 cm²/s = 10 Å²/fs\n",
    "        ###\n",
    "        conversion_factor = 10 \n",
    "        # apply conversion \n",
    "        sim_data[(xtal, gas)][\"diffusion coeff. [cm²/s]\"] = sim_data[(xtal, gas)][\"v_fitslope\"] * conversion_factor\n",
    "    end\n",
    "end"
   ]
  },
  {
   "cell_type": "code",
   "execution_count": 15,
   "id": "7cfaa7ee",
   "metadata": {},
   "outputs": [
    {
     "name": "stdout",
     "output_type": "stream",
     "text": [
      "NiPyC2_experiment with Ar:\t2.1027169000000002e-10\n",
      "NiPyC2_experiment with Kr:\t1.1590332e-10\n",
      "NiPyC2_experiment with Xe:\t2.3038841e-12\n",
      "Pn_Ni-PyC-NH2 with Ar:\t3.6778606000000004e-7\n",
      "Pn_Ni-PyC-NH2 with Kr:\t3.3345147000000006e-10\n",
      "Pn_Ni-PyC-NH2 with Xe:\t1.4369766e-11\n"
     ]
    }
   ],
   "source": [
    "for xtal in xtals\n",
    "    # loop over adsorbates\n",
    "    for gas in adsorbates\n",
    "        println(xtal, \" with \", gas, \":\\t\", \n",
    "            last(sim_data[xtal, gas][\"diffusion coeff. [cm²/s]\"]))\n",
    "    end\n",
    "end"
   ]
  },
  {
   "cell_type": "markdown",
   "id": "e271891a",
   "metadata": {},
   "source": [
    "### Diffusive Selectivity"
   ]
  },
  {
   "cell_type": "code",
   "execution_count": 16,
   "id": "ba408dcb",
   "metadata": {},
   "outputs": [
    {
     "data": {
      "text/plain": [
       "Dict{Tuple{String, String}, Float64} with 6 entries:\n",
       "  (\"Pn_Ni-PyC-NH2\", \"Ar\")     => 0.55\n",
       "  (\"NiPyC2_experiment\", \"Kr\") => 3.14\n",
       "  (\"NiPyC2_experiment\", \"Ar\") => 0.45\n",
       "  (\"Pn_Ni-PyC-NH2\", \"Xe\")     => 98.25\n",
       "  (\"NiPyC2_experiment\", \"Xe\") => 53.78\n",
       "  (\"Pn_Ni-PyC-NH2\", \"Kr\")     => 4.85"
      ]
     },
     "execution_count": 16,
     "metadata": {},
     "output_type": "execute_result"
    }
   ],
   "source": [
    "# Henry Coefficients needed for calculation\n",
    "henry_coeffs = Dict((\"NiPyC2_experiment\", \"Xe\") => 53.78,\n",
    "                    (\"NiPyC2_experiment\", \"Kr\") => 3.14,\n",
    "                    (\"NiPyC2_experiment\", \"Ar\") => 0.45,\n",
    "                    (\"Pn_Ni-PyC-NH2\", \"Xe\") => 98.25,\n",
    "                    (\"Pn_Ni-PyC-NH2\", \"Kr\") => 4.85,\n",
    "                    (\"Pn_Ni-PyC-NH2\", \"Ar\") => 0.55\n",
    "                   )"
   ]
  },
  {
   "cell_type": "code",
   "execution_count": 21,
   "id": "67eb0cae",
   "metadata": {},
   "outputs": [
    {
     "name": "stdout",
     "output_type": "stream",
     "text": [
      "Ideal Membrane Selectivity - \n",
      "\tNiPyC2_experiment:\n",
      "\t\tKr/Ar = 3.8462030274577934\n",
      "\t\tXe/Ar = 1.3094475469437763\n",
      "\t\tXe/Kr = 0.3404520087982136\n",
      "\tPn_Ni-PyC-NH2:\n",
      "\t\tKr/Ar = 0.00799496231586374\n",
      "\t\tXe/Ar = 0.006979499833532175\n",
      "\t\tXe/Kr = 0.8729872084178976\n"
     ]
    }
   ],
   "source": [
    "println(\"Ideal Membrane Selectivity - \")\n",
    "for xtal in xtals\n",
    "    println(\"\\t\", xtal, \":\")\n",
    "    for (i, gas1) in enumerate(adsorbates)\n",
    "        for (j, gas2) in enumerate(adsorbates)\n",
    "            if i <= j\n",
    "                continue\n",
    "            else\n",
    "                d1 = sim_data[xtal, gas1][\"diffusion coeff. [cm²/s]\"][end]\n",
    "                h1 = henry_coeffs[(xtal, gas1)]\n",
    "                \n",
    "                d2 = sim_data[xtal, gas2][\"diffusion coeff. [cm²/s]\"][end]\n",
    "                h2 = henry_coeffs[(xtal, gas2)]\n",
    "                \n",
    "                mem_selectivity = (h1 * d1) / (h2 * d2)\n",
    "                \n",
    "                println(\"\\t\\t\", gas1, \"/\", gas2, \" = \", mem_selectivity)\n",
    "            end\n",
    "        end\n",
    "    end\n",
    "end"
   ]
  },
  {
   "cell_type": "code",
   "execution_count": null,
   "id": "5cf35d0c",
   "metadata": {},
   "outputs": [],
   "source": []
  }
 ],
 "metadata": {
  "kernelspec": {
   "display_name": "Julia 1.6.2",
   "language": "julia",
   "name": "julia-1.6"
  },
  "language_info": {
   "file_extension": ".jl",
   "mimetype": "application/julia",
   "name": "julia",
   "version": "1.6.2"
  }
 },
 "nbformat": 4,
 "nbformat_minor": 5
}
