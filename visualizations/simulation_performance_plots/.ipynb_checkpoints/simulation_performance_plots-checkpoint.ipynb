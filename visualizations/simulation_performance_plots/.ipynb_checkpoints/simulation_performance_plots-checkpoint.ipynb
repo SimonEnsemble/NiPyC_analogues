{
 "cells": [
  {
   "cell_type": "markdown",
   "metadata": {},
   "source": [
    "# Henry coefficient Calculations"
   ]
  },
  {
   "cell_type": "code",
   "execution_count": 1,
   "metadata": {},
   "outputs": [
    {
     "name": "stderr",
     "output_type": "stream",
     "text": [
      "┌ Warning: crystals path directory not found\n",
      "│   path = /home/ng/NiPyC_analogues/visualizations/simulation_performance_plots/data/crystals\n",
      "└ @ Xtals /home/ng/.julia/packages/Xtals/DSCSR/src/misc.jl:181\n",
      "┌ Warning: data path directory not found\n",
      "│   path = /home/ng/NiPyC_analogues/visualizations/simulation_performance_plots/data\n",
      "└ @ Xtals /home/ng/.julia/packages/Xtals/DSCSR/src/misc.jl:181\n",
      "┌ Warning: Error requiring `OffsetArrays` from `ArrayInterface`\n",
      "│   exception = (UndefVarError(:IdOffsetRange), Union{Ptr{Nothing}, Base.InterpreterIP}[Ptr{Nothing} @0x00007f2b525c5cef, Ptr{Nothing} @0x00007f2b52658d24, Ptr{Nothing} @0x00007f2b43b74da2, Ptr{Nothing} @0x00007f2b5263b769, Ptr{Nothing} @0x00007f2b52657f15, Ptr{Nothing} @0x00007f2b52657bce, Ptr{Nothing} @0x00007f2b52658811, Ptr{Nothing} @0x00007f2b52659297, Base.InterpreterIP in top-level CodeInfo for ArrayInterface at statement 11, Ptr{Nothing} @0x00007f2b52674b31, Ptr{Nothing} @0x00007f2b52676949, Ptr{Nothing} @0x00007f2b02a1d071, Ptr{Nothing} @0x00007f2b02a1d09c, Ptr{Nothing} @0x00007f2b5263b769, Ptr{Nothing} @0x00007f2b52657f15, Ptr{Nothing} @0x00007f2b52657bce, Ptr{Nothing} @0x00007f2b52658811, Ptr{Nothing} @0x00007f2b52658b90, Ptr{Nothing} @0x00007f2b5265904a, Base.InterpreterIP in MethodInstance for err(::Any, ::Module, ::String) at statement 2, Ptr{Nothing} @0x00007f2b02a1cfe7, Ptr{Nothing} @0x00007f2b02a1cffc, Ptr{Nothing} @0x00007f2b5263b769, Ptr{Nothing} @0x00007f2b52657f15, Ptr{Nothing} @0x00007f2b52657bce, Ptr{Nothing} @0x00007f2b526588a5, Ptr{Nothing} @0x00007f2b52658b90, Ptr{Nothing} @0x00007f2b5265904a, Base.InterpreterIP in MethodInstance for withpath(::Any, ::String) at statement 10, Ptr{Nothing} @0x00007f2b02a1cf63, Ptr{Nothing} @0x00007f2b02a1cf8c, Ptr{Nothing} @0x00007f2b5263b769, Ptr{Nothing} @0x00007f2b5264c546, Ptr{Nothing} @0x00007f2b02a1cdec, Ptr{Nothing} @0x00007f2b5263b769, Ptr{Nothing} @0x00007f2b52657f15, Ptr{Nothing} @0x00007f2b52657bce, Ptr{Nothing} @0x00007f2b52658811, Ptr{Nothing} @0x00007f2b5265904a, Base.InterpreterIP in MethodInstance for loadpkg(::Base.PkgId) at statement 6, Ptr{Nothing} @0x00007f2b5263b769, Ptr{Nothing} @0x00007f2b5264c546, Ptr{Nothing} @0x00007f2b0298e05e, Ptr{Nothing} @0x00007f2b0298cd8a, Ptr{Nothing} @0x00007f2b0298f960, Ptr{Nothing} @0x00007f2b02991cdd, Ptr{Nothing} @0x00007f2b02992a3c, Ptr{Nothing} @0x00007f2b5263b769, Ptr{Nothing} @0x00007f2b52673cd1, Ptr{Nothing} @0x00007f2b52675d97, Ptr{Nothing} @0x00007f2b52674d7c, Ptr{Nothing} @0x00007f2b52676949, Ptr{Nothing} @0x00007f2b029ec69c, Ptr{Nothing} @0x00007f2b029eca39, Ptr{Nothing} @0x00007f2b5263b769, Ptr{Nothing} @0x00007f2b029e9593, Ptr{Nothing} @0x00007f2b5263b769, Ptr{Nothing} @0x00007f2b5264c546, Ptr{Nothing} @0x00007f2b029c730e, Ptr{Nothing} @0x00007f2b029c753e, Ptr{Nothing} @0x00007f2b029c755c, Ptr{Nothing} @0x00007f2b5263b769, Ptr{Nothing} @0x00007f2b5265cc9a, Ptr{Nothing} @0x0000000000000000])\n",
      "└ @ Requires /home/ng/.julia/packages/Requires/7Ncym/src/require.jl:49\n",
      "┌ Warning: forcefields path directory not found\n",
      "│   path = /home/ng/NiPyC_analogues/visualizations/simulation_performance_plots/data/forcefields\n",
      "└ @ Xtals /home/ng/.julia/packages/Xtals/DSCSR/src/misc.jl:181\n",
      "┌ Warning: grids path directory not found\n",
      "│   path = /home/ng/NiPyC_analogues/visualizations/simulation_performance_plots/data/grids\n",
      "└ @ Xtals /home/ng/.julia/packages/Xtals/DSCSR/src/misc.jl:181\n",
      "┌ Warning: molecules path directory not found\n",
      "│   path = /home/ng/NiPyC_analogues/visualizations/simulation_performance_plots/data/molecules\n",
      "└ @ Xtals /home/ng/.julia/packages/Xtals/DSCSR/src/misc.jl:181\n",
      "┌ Warning: crystals path directory not found\n",
      "│   path = /home/ng/NiPyC_analogues/visualizations/simulation_performance_plots/data/crystals\n",
      "└ @ Xtals /home/ng/.julia/packages/Xtals/DSCSR/src/misc.jl:181\n",
      "┌ Warning: data path directory not found\n",
      "│   path = /home/ng/NiPyC_analogues/visualizations/simulation_performance_plots/data\n",
      "└ @ Xtals /home/ng/.julia/packages/Xtals/DSCSR/src/misc.jl:181\n",
      "┌ Warning: simulations path directory not found\n",
      "│   path = /home/ng/NiPyC_analogues/visualizations/simulation_performance_plots/data/simulations\n",
      "└ @ Xtals /home/ng/.julia/packages/Xtals/DSCSR/src/misc.jl:181\n"
     ]
    }
   ],
   "source": [
    "using PorousMaterials\n",
    "using JLD2\n",
    "using PyPlot\n",
    "using PyCall\n",
    "using LaTeXStrings\n",
    "using Printf\n",
    "using FileIO\n",
    "using CSV\n",
    "using DataFrames\n",
    "\n",
    "@pyimport adjustText\n",
    "@pyimport seaborn\n",
    "\n",
    "# PyPlot.matplotlib.style.use(\"Solarize_Light2\")\n",
    "PyPlot.matplotlib.style.use(\"ggplot\")\n",
    "\n",
    "rcParams = PyPlot.PyDict(PyPlot.matplotlib.\"rcParams\")\n",
    "rcParams[\"font.size\"] = 16;"
   ]
  },
  {
   "cell_type": "code",
   "execution_count": 2,
   "metadata": {},
   "outputs": [],
   "source": [
    "# @eval PorousMaterials PATH_TO_DATA=joinpath(pwd(), \"../../data\")\n",
    "# @eval PorousMaterials PATH_TO_FORCEFIELDS=joinpath(\"../../data/forcefields/\")\n",
    "# @eval PorousMaterials PATH_TO_CRYSTALS=joinpath(pwd(), \"../../structure_optimization/post-relaxation_cifs\")"
   ]
  },
  {
   "cell_type": "code",
   "execution_count": 3,
   "metadata": {},
   "outputs": [
    {
     "data": {
      "text/plain": [
       "\"/home/ng/NiPyC_analogues/visualizations/simulation_performance_plots/../../structure_optimization/post-relaxation_cifs\""
      ]
     },
     "execution_count": 3,
     "metadata": {},
     "output_type": "execute_result"
    }
   ],
   "source": [
    "set_paths(\"../../data\")\n",
    "PorousMaterials.rc[:paths][:crystals] = joinpath(pwd(), \"../../structure_optimization/post-relaxation_cifs\")"
   ]
  },
  {
   "cell_type": "code",
   "execution_count": 4,
   "metadata": {},
   "outputs": [
    {
     "data": {
      "text/plain": [
       "3-element Vector{String}:\n",
       " \"pressure (bar)\"\n",
       " \"fugacity (bar)\"\n",
       " \"⟨N⟩ (mmol/g)\""
      ]
     },
     "execution_count": 4,
     "metadata": {},
     "output_type": "execute_result"
    }
   ],
   "source": [
    "# # what properties do you want to put into the .csv?\n",
    "# props_we_want = [\"pressure (bar)\", \"fugacity (bar)\", \"⟨N⟩ (mmol/g)\"]\n",
    "\n",
    "# isotherm filename values\n",
    "adsorbate = [\"Ar\", \"Kr\", \"Xe\"] \n",
    "\n",
    "temp = 298.0 # units: K\n",
    "\n",
    "pmin  = -2  # minimum pessure in log10, units: bar\n",
    "pmax  = 1.1 # maximum pressure (actual value), units: bar\n",
    "nstep = 25  # number of intervals in pressure range\n",
    "pressures = 10 .^ range(pmin, stop=log10(pmax), length=nstep)\n",
    "\n",
    "ljff = LJForceField(\"UFF\") # \"UFF\" or \"Dreiding\"\n",
    "\n",
    "nburn   = 50000 # number of burn cycles\n",
    "nsample = 50000 # number of sample cycles\n",
    "\n",
    "insertions_per_volume = 500\n",
    "\n",
    "functional = [\"pbesol\", \"vdw-df2\"]\n",
    "\n",
    "calculation = \"relax\"\n",
    "\n",
    "props_we_want = [\"pressure (bar)\", \"fugacity (bar)\", \"⟨N⟩ (mmol/g)\"]"
   ]
  },
  {
   "cell_type": "code",
   "execution_count": 5,
   "metadata": {},
   "outputs": [],
   "source": [
    "# MOFs that successfully relaxed and were simulated\n",
    "xtal_names = [\n",
    "#     \"NiPyC2_vdw-df2-relax.cif\",\n",
    "#     \"NiPyC2_pbesol-angle-vc-relax.cif\",    \n",
    "    \"NiPyC2_relax_sc211_meta_functionalized_Br_pbesol_relax.cif\",\n",
    "    \"NiPyC2_relax_sc211_meta_functionalized_C-C_pbesol_relax.cif\", # <--> C#CH\n",
    "    \"NiPyC2_relax_sc211_meta_functionalized_CH2-CH3_lammps_pbesol_relax.cif\",\n",
    "    \"NiPyC2_relax_sc211_meta_functionalized_CH3_pbesol_relax.cif\",\n",
    "    \"NiPyC2_relax_sc211_meta_functionalized_Cl_pbesol_relax.cif\",\n",
    "    \"NiPyC2_relax_sc211_meta_functionalized_C-N_pbesol_relax.cif\",\n",
    "    \"NiPyC2_relax_sc211_meta_functionalized_F_pbesol_relax.cif\",\n",
    "    \"NiPyC2_relax_sc211_meta_functionalized_N-C-O_pbesol_relax.cif\",\n",
    "    \"NiPyC2_relax_sc211_meta_functionalized_NH2_pbesol_relax.cif\",\n",
    "    \"NiPyC2_relax_sc211_meta_functionalized_O-CH3_lammps_pbesol_relax.cif\",\n",
    "    \"NiPyC2_relax_sc211_meta_functionalized_O-C-N_pbesol_relax.cif\",\n",
    "    \"NiPyC2_relax_sc211_meta_functionalized_OH_pbesol_relax.cif\",\n",
    "#     \"NiPyC2_relax_sc211_meta_functionalized_O-OH_pbesol_relax.cif\",\n",
    "    \"NiPyC2_relax_sc211_ortho_functionalized_Br_pbesol_relax.cif\",\n",
    "    \"NiPyC2_relax_sc211_ortho_functionalized_C-C_pbesol_relax.cif\",\n",
    "    \"NiPyC2_relax_sc211_ortho_functionalized_CH3_pbesol_relax.cif\",\n",
    "    \"NiPyC2_relax_sc211_ortho_functionalized_Cl_pbesol_relax.cif\",\n",
    "    \"NiPyC2_relax_sc211_ortho_functionalized_C-N_pbesol_relax.cif\",\n",
    "    \"NiPyC2_relax_sc211_ortho_functionalized_F_pbesol_relax.cif\",\n",
    "    \"NiPyC2_relax_sc211_ortho_functionalized_N-C-O_pbesol_relax.cif\",\n",
    "    \"NiPyC2_relax_sc211_ortho_functionalized_NH2_pbesol_relax.cif\",\n",
    "    \"NiPyC2_relax_sc211_ortho_functionalized_OH_pbesol_relax.cif\"\n",
    "];"
   ]
  },
  {
   "cell_type": "code",
   "execution_count": 6,
   "metadata": {},
   "outputs": [
    {
     "data": {
      "text/plain": [
       "results_to_dataframe (generic function with 1 method)"
      ]
     },
     "execution_count": 6,
     "metadata": {},
     "output_type": "execute_result"
    }
   ],
   "source": [
    "# muVT_xtal_Pn_Ni-PyC-NH2.cif_T_298.000K_Kr_P_6.812921bar_UFF_50000burn_50000sample.jld2\n",
    "\n",
    "function results_to_dataframe(desired_props::Array{String, 1},\n",
    "                               xtal::Crystal, \n",
    "                               molecule::Molecule,\n",
    "                               temperature::Float64,\n",
    "                               pressures::Array{Float64, 1},\n",
    "                               ljff::LJForceField,\n",
    "                               n_burn_cycles::Int64, \n",
    "                               n_sample_cycles::Int64;\n",
    "                               comment::String=\"\",\n",
    "                               where_are_jld_files::Union{String, Nothing}=nothing)\n",
    "    # determine the location of the data files\n",
    "    if isnothing(where_are_jld_files)\n",
    "        where_are_jld_files = PorousMaterials.rc[:paths][:simulations]\n",
    "    end\n",
    "    # prepare dataframe to populate\n",
    "    df = DataFrame()\n",
    "    # loop over pressures and populate dataframe\n",
    "    for (i, pressure) in enumerate(pressures)\n",
    "#         jld2_filename = μVT_output_filename(xtal, molecule, temperature, \n",
    "#                                             pressure, ljff, n_burn_cycles, \n",
    "#                                             n_sample_cycles, comment=comment)\n",
    "        \n",
    "        jld2_filename = @sprintf(\"muVT_xtal_%s_T_%.3fK_%s_P_%.7fbar_%s_%dburn_%dsample\",\n",
    "                                xtal.name,\n",
    "                                temperature,\n",
    "                                molecule.species,\n",
    "                                pressure,\n",
    "                                ljff.name,\n",
    "                                n_burn_cycles,\n",
    "                                n_sample_cycles\n",
    "                                ) * comment *\".jld2\"\n",
    "        \n",
    "        # load in the results as a dictionary\n",
    "        @load joinpath(where_are_jld_files, jld2_filename) results\n",
    "        \n",
    "        # population column names, taking into account types\n",
    "        if i == 1\n",
    "            for col in desired_props\n",
    "                insertcols!(df, length(names(df)) + 1, Symbol(col) => typeof(results[col])[])\n",
    "            end\n",
    "        end\n",
    "        push!(df, [results[prop] for prop in desired_props])\n",
    "    end\n",
    "    return df\n",
    "end"
   ]
  },
  {
   "cell_type": "code",
   "execution_count": 7,
   "metadata": {},
   "outputs": [
    {
     "data": {
      "text/plain": [
       "Dict{Symbol, String} with 6 entries:\n",
       "  :forcefields => \"../../data/forcefields\"\n",
       "  :grids       => \"../../data/grids\"\n",
       "  :molecules   => \"../../data/molecules\"\n",
       "  :crystals    => \"/home/ng/NiPyC_analogues/visualizations/simulation_performan…\n",
       "  :data        => \"../../data\"\n",
       "  :simulations => \"../../data/simulations\""
      ]
     },
     "execution_count": 7,
     "metadata": {},
     "output_type": "execute_result"
    }
   ],
   "source": [
    "PorousMaterials.rc[:paths]"
   ]
  },
  {
   "cell_type": "code",
   "execution_count": 8,
   "metadata": {
    "scrolled": false
   },
   "outputs": [
    {
     "name": "stdout",
     "output_type": "stream",
     "text": [
      "m-Br\n"
     ]
    },
    {
     "name": "stderr",
     "output_type": "stream",
     "text": [
      "┌ Warning: Opening file with JLD2.MmapIO failed, falling back to IOStream\n",
      "└ @ JLD2 /home/ng/.julia/packages/JLD2/DcnTD/src/JLD2.jl:230\n"
     ]
    },
    {
     "ename": "LoadError",
     "evalue": "SystemError: opening file \"../../data/simulations/muVT_xtal_NiPyC2_relax_sc211_meta_functionalized_Br_pbesol_relax.cif_T_298.000K_Ar_P_0.0100000bar_UFF_50000burn_50000sample.jld2\": No such file or directory",
     "output_type": "error",
     "traceback": [
      "SystemError: opening file \"../../data/simulations/muVT_xtal_NiPyC2_relax_sc211_meta_functionalized_Br_pbesol_relax.cif_T_298.000K_Ar_P_0.0100000bar_UFF_50000burn_50000sample.jld2\": No such file or directory",
      "",
      "Stacktrace:",
      "  [1] systemerror(p::String, errno::Int32; extrainfo::Nothing)",
      "    @ Base ./error.jl:168",
      "  [2] #systemerror#62",
      "    @ ./error.jl:167 [inlined]",
      "  [3] systemerror",
      "    @ ./error.jl:167 [inlined]",
      "  [4] open(fname::String; lock::Bool, read::Bool, write::Bool, create::Bool, truncate::Bool, append::Bool)",
      "    @ Base ./iostream.jl:293",
      "  [5] openfile",
      "    @ ~/.julia/packages/JLD2/DcnTD/src/JLD2.jl:220 [inlined]",
      "  [6] openfile(T::Type, fname::String, wr::Bool, create::Bool, truncate::Bool, fallback::Type)",
      "    @ JLD2 ~/.julia/packages/JLD2/DcnTD/src/JLD2.jl:231",
      "  [7] jldopen(fname::String, wr::Bool, create::Bool, truncate::Bool, iotype::Type{JLD2.MmapIO}; fallback::Type{IOStream}, compress::Bool, mmaparrays::Bool)",
      "    @ JLD2 ~/.julia/packages/JLD2/DcnTD/src/JLD2.jl:286",
      "  [8] jldopen(fname::String, wr::Bool, create::Bool, truncate::Bool, iotype::Type{JLD2.MmapIO})",
      "    @ JLD2 ~/.julia/packages/JLD2/DcnTD/src/JLD2.jl:249",
      "  [9] jldopen(fname::String, mode::String; iotype::Type, kwargs::Base.Iterators.Pairs{Union{}, Union{}, Tuple{}, NamedTuple{(), Tuple{}}})",
      "    @ JLD2 ~/.julia/packages/JLD2/DcnTD/src/JLD2.jl:342",
      " [10] jldopen (repeats 2 times)",
      "    @ ~/.julia/packages/JLD2/DcnTD/src/JLD2.jl:337 [inlined]",
      " [11] jldopen(f::var\"#2#4\", args::String; kws::Base.Iterators.Pairs{Union{}, Union{}, Tuple{}, NamedTuple{(), Tuple{}}})",
      "    @ JLD2 ~/.julia/packages/JLD2/DcnTD/src/loadsave.jl:2",
      " [12] jldopen",
      "    @ ~/.julia/packages/JLD2/DcnTD/src/loadsave.jl:2 [inlined]",
      " [13] macro expansion",
      "    @ ~/.julia/packages/JLD2/DcnTD/src/loadsave.jl:144 [inlined]",
      " [14] results_to_dataframe(desired_props::Vector{String}, xtal::Crystal, molecule::Molecule{Cart}, temperature::Float64, pressures::Vector{Float64}, ljff::LJForceField, n_burn_cycles::Int64, n_sample_cycles::Int64; comment::String, where_are_jld_files::Nothing)",
      "    @ Main ./In[6]:36",
      " [15] results_to_dataframe(desired_props::Vector{String}, xtal::Crystal, molecule::Molecule{Cart}, temperature::Float64, pressures::Vector{Float64}, ljff::LJForceField, n_burn_cycles::Int64, n_sample_cycles::Int64)",
      "    @ Main ./In[6]:14",
      " [16] top-level scope",
      "    @ In[8]:66",
      " [17] eval",
      "    @ ./boot.jl:360 [inlined]",
      " [18] include_string(mapexpr::typeof(REPL.softscope), mod::Module, code::String, filename::String)",
      "    @ Base ./loading.jl:1116"
     ]
    }
   ],
   "source": [
    "PorousMaterials.rc[:paths][:crystals] = joinpath(pwd(), \"../../structure_optimization/post-relaxation_cifs\")\n",
    "\n",
    "# initialize results dictionary\n",
    "dict_gas = Dict{String, Any}()\n",
    "henry_results = Dict{String, Dict{String, Any}}() # store henry results\n",
    "isotherm_results = Dict{String, Dict{String, Any}}() # store isotherm results\n",
    "# sorted_names = Array{String}(undef, length(xtal_names))\n",
    "\n",
    "for (i, name) in enumerate(xtal_names)     \n",
    "    # load in crystal structure\n",
    "    xtal = Crystal(name)\n",
    "    \n",
    "    # make a short-hand name for convenience\n",
    "    if name in [\"NiPyC2_vdw-df2-relax.cif\", \"NiPyC2_pbesol-angle-vc-relax.cif\"]\n",
    "        s_name = split(name, ('_', '.'))[2]\n",
    "    else\n",
    "        if occursin(\"meta\", name)\n",
    "            s_name = \"m-\" * split(name, ('_', '.'))[6]\n",
    "        elseif occursin(\"ortho\", name)\n",
    "            s_name = \"o-\" * split(name, ('_', '.'))[6]\n",
    "        else\n",
    "            @warn \"No convention defined for shorthand name for: \" name\n",
    "        end\n",
    "    end\n",
    "    \n",
    "    # correct bad names\n",
    "    if split(s_name, \"-\")[2] == \"CH3\"\n",
    "        s_name = split(s_name, \"-\")[1] * \"-\" * \"CH\" * L\"_3\"\n",
    "    elseif split(s_name, \"-\")[2] == \"O\" && split(s_name, \"-\")[3] == \"CH3\"\n",
    "        s_name = split(s_name, \"-\")[1] * \"-\" * \"O-CH\" * L\"_3\"\n",
    "    elseif split(s_name, \"-\")[2] == \"CH2\"\n",
    "        if split(s_name, \"-\")[3] == \"CH3\"\n",
    "            s_name = split(s_name, \"-\")[1] * \"-\" * \"CH\" * L\"_2\" * \"-CH\" * L\"_3\"\n",
    "        else\n",
    "            s_name = split(s_name, \"-\")[1] * \"-\" * \"CH\" * L\"_2\"\n",
    "        end        \n",
    "    elseif split(s_name, \"-\")[2] == \"NH2\"\n",
    "        s_name = split(s_name, \"-\")[1] * \"-\" * \"NH\" * L\"_2\"\n",
    "    elseif (s_name == \"o-C-C\" || s_name == \"m-C-C\")\n",
    "        s_name = split(s_name, \"-\")[1] * \"-\" * \"C≡CH\"\n",
    "    elseif (s_name == \"o-N-C-O\" || s_name == \"m-N-C-O\")\n",
    "        s_name = split(s_name, \"-\")[1] * \"-\" * \"N=C=O\"\n",
    "    elseif (s_name == \"o-O-C-N\" || s_name == \"m-O-C-N\")\n",
    "        s_name = split(s_name, \"-\")[1] * \"-\" * \"O-C≡N\"\n",
    "    elseif (s_name == \"o-C-N\" || s_name == \"m-C-N\")\n",
    "        s_name = split(s_name, \"-\")[1] * \"-\" * \"C≡N\"\n",
    "    end\n",
    "    \n",
    "    println(s_name)\n",
    "    \n",
    "    # initialize dictionaries\n",
    "    henry_results[s_name] = Dict{String, Any}()\n",
    "    isotherm_results[s_name] = Dict{String, Any}()\n",
    "    \n",
    "    for gas in adsorbate\n",
    "        mol = Molecule(gas)\n",
    "        filename = henry_result_savename(xtal, mol, temp, ljff, insertions_per_volume)\n",
    "        @debug println(filename*\"\\n\")\n",
    "        \n",
    "        # load in the results dictionary\n",
    "        @load joinpath(PorousMaterials.rc[:paths][:simulations], filename) results\n",
    "#         henry_results[s_name][gas] = results[\"henry coefficient [mmol/(g-bar)]\"]\n",
    "        henry_results[s_name][gas] = results\n",
    "        \n",
    "        # load isotherm results and store as a DataFrame\n",
    "        df_sim = results_to_dataframe(props_we_want, xtal, mol, temp, \n",
    "                                                   pressures, ljff, nburn, nsample)\n",
    "        push!(df_sim, [[0.0], [0.0], [0.0]]) ### add point at origin ###\n",
    "        sort(df_sim, Symbol(\"pressure (bar)\"))\n",
    "        isotherm_results[s_name][gas] = df_sim\n",
    "    end\n",
    "end"
   ]
  },
  {
   "cell_type": "code",
   "execution_count": 9,
   "metadata": {},
   "outputs": [
    {
     "name": "stderr",
     "output_type": "stream",
     "text": [
      "┌ Info: Crystal NiPyC2_experiment.cif has Pn space group. I am converting it to P1 symmetry.\n",
      "│         To prevent this, pass `convert_to_p1=false` to the `Crystal` constructor.\n",
      "└ @ Xtals /home/ng/.julia/packages/Xtals/DSCSR/src/crystal.jl:433\n",
      "┌ Warning: Opening file with JLD2.MmapIO failed, falling back to IOStream\n",
      "└ @ JLD2 /home/ng/.julia/packages/JLD2/DcnTD/src/JLD2.jl:230\n"
     ]
    },
    {
     "ename": "LoadError",
     "evalue": "SystemError: opening file \"../../data/simulations/muVT_Ar_in_NiPyC2_experiment.cif_298.000K_0.0100000bar_UFF_50000burn_50000sample.jld2\": No such file or directory",
     "output_type": "error",
     "traceback": [
      "SystemError: opening file \"../../data/simulations/muVT_Ar_in_NiPyC2_experiment.cif_298.000K_0.0100000bar_UFF_50000burn_50000sample.jld2\": No such file or directory",
      "",
      "Stacktrace:",
      "  [1] systemerror(p::String, errno::Int32; extrainfo::Nothing)",
      "    @ Base ./error.jl:168",
      "  [2] #systemerror#62",
      "    @ ./error.jl:167 [inlined]",
      "  [3] systemerror",
      "    @ ./error.jl:167 [inlined]",
      "  [4] open(fname::String; lock::Bool, read::Bool, write::Bool, create::Bool, truncate::Bool, append::Bool)",
      "    @ Base ./iostream.jl:293",
      "  [5] openfile",
      "    @ ~/.julia/packages/JLD2/DcnTD/src/JLD2.jl:220 [inlined]",
      "  [6] openfile(T::Type, fname::String, wr::Bool, create::Bool, truncate::Bool, fallback::Type)",
      "    @ JLD2 ~/.julia/packages/JLD2/DcnTD/src/JLD2.jl:231",
      "  [7] jldopen(fname::String, wr::Bool, create::Bool, truncate::Bool, iotype::Type{JLD2.MmapIO}; fallback::Type{IOStream}, compress::Bool, mmaparrays::Bool)",
      "    @ JLD2 ~/.julia/packages/JLD2/DcnTD/src/JLD2.jl:286",
      "  [8] jldopen(fname::String, wr::Bool, create::Bool, truncate::Bool, iotype::Type{JLD2.MmapIO})",
      "    @ JLD2 ~/.julia/packages/JLD2/DcnTD/src/JLD2.jl:249",
      "  [9] jldopen(fname::String, mode::String; iotype::Type, kwargs::Base.Iterators.Pairs{Union{}, Union{}, Tuple{}, NamedTuple{(), Tuple{}}})",
      "    @ JLD2 ~/.julia/packages/JLD2/DcnTD/src/JLD2.jl:342",
      " [10] jldopen (repeats 2 times)",
      "    @ ~/.julia/packages/JLD2/DcnTD/src/JLD2.jl:337 [inlined]",
      " [11] jldopen(f::PorousMaterials.var\"#90#92\", args::String; kws::Base.Iterators.Pairs{Union{}, Union{}, Tuple{}, NamedTuple{(), Tuple{}}})",
      "    @ JLD2 ~/.julia/packages/JLD2/DcnTD/src/loadsave.jl:2",
      " [12] jldopen",
      "    @ ~/.julia/packages/JLD2/DcnTD/src/loadsave.jl:2 [inlined]",
      " [13] macro expansion",
      "    @ ~/.julia/packages/JLD2/DcnTD/src/loadsave.jl:144 [inlined]",
      " [14] isotherm_sim_results_to_dataframe(desired_props::Vector{String}, xtal::Crystal, molecule::Molecule{Cart}, temperature::Float64, pressures::Vector{Float64}, ljff::LJForceField, n_burn_cycles::Int64, n_sample_cycles::Int64; comment::String, where_are_jld_files::Nothing)",
      "    @ PorousMaterials ~/.julia/packages/PorousMaterials/2eC7v/src/gcmc.jl:987",
      " [15] isotherm_sim_results_to_dataframe(desired_props::Vector{String}, xtal::Crystal, molecule::Molecule{Cart}, temperature::Float64, pressures::Vector{Float64}, ljff::LJForceField, n_burn_cycles::Int64, n_sample_cycles::Int64)",
      "    @ PorousMaterials ~/.julia/packages/PorousMaterials/2eC7v/src/gcmc.jl:976",
      " [16] top-level scope",
      "    @ In[9]:15",
      " [17] eval",
      "    @ ./boot.jl:360 [inlined]",
      " [18] include_string(mapexpr::typeof(REPL.softscope), mod::Module, code::String, filename::String)",
      "    @ Base ./loading.jl:1116"
     ]
    }
   ],
   "source": [
    "# load in the parent mof results\n",
    "# the crystal file is in a different location than the others\n",
    "henry_results[\"Parent MOF\"] = Dict{String, Any}()\n",
    "isotherm_results[\"Parent MOF\"] = Dict{String, Any}()\n",
    "for gas in adsorbate\n",
    "    @eval PorousMaterials.rc[:paths][:crystals] =joinpath(PorousMaterials.rc[:paths][:data], \"crystals\")\n",
    "    xtal = Crystal(\"NiPyC2_experiment.cif\")\n",
    "    mol = Molecule(gas)\n",
    "    filename = henry_result_savename(xtal, mol, temp, ljff, insertions_per_volume)\n",
    "    @debug println(filename*\"\\n\")\n",
    "    @load joinpath(PorousMaterials.rc[:paths][:simulations], filename) results\n",
    "    henry_results[\"Parent MOF\"][gas] = results\n",
    "    \n",
    "    # load isotherm results and store as a DataFrame\n",
    "    df_sim = isotherm_sim_results_to_dataframe(props_we_want, xtal, mol, temp, \n",
    "                                               pressures, ljff, nburn, nsample)\n",
    "    push!(df_sim, [[0.0], [0.0], [0.0]]) ### add point at origin ###\n",
    "    sort!(df_sim, Symbol(\"pressure (bar)\"))\n",
    "    isotherm_results[\"Parent MOF\"][gas] = df_sim    \n",
    "end"
   ]
  },
  {
   "cell_type": "code",
   "execution_count": 10,
   "metadata": {},
   "outputs": [
    {
     "ename": "LoadError",
     "evalue": "KeyError: key \"Xe\" not found",
     "output_type": "error",
     "traceback": [
      "KeyError: key \"Xe\" not found",
      "",
      "Stacktrace:",
      " [1] getindex(h::Dict{String, Any}, key::String)",
      "   @ Base ./dict.jl:482",
      " [2] top-level scope",
      "   @ In[10]:1",
      " [3] eval",
      "   @ ./boot.jl:360 [inlined]",
      " [4] include_string(mapexpr::typeof(REPL.softscope), mod::Module, code::String, filename::String)",
      "   @ Base ./loading.jl:1116"
     ]
    }
   ],
   "source": [
    "println(henry_results[\"Parent MOF\"][\"Xe\"][\"henry coefficient [mmol/(g-bar)]\"], \" +/- \",\n",
    "henry_results[\"Parent MOF\"][\"Xe\"][\"err henry coefficient [mmol/(g-bar)]\"])"
   ]
  },
  {
   "cell_type": "markdown",
   "metadata": {},
   "source": [
    "## Calculating errors in selectivity:\n",
    "We have the Henry coefficients $ H_{Xe} = h_{Xe} \\pm \\delta h_{Xe} $, $ H_{Kr} = h_{Kr} \\pm \\delta h_{Kr}$,  where $h_j$ is the \"measured\" value and $\\delta h_j$ is the associated uncertainty. The Selectivity is calculated as $ S_{Xe/Kr} = s_i \\pm \\delta s_i$ where $s_i = \\frac{h_{Xe}}{h_{Kr}}$. \n",
    "\n",
    "To determine the uncertainty of the selectivity $\\delta s_i$, we use the fact that the relative errors add in quaderature:\n",
    "$$ \\left(\\frac{\\delta s_i}{s_i}\\right)^2 = \\left( \\frac{\\delta h_{Xe}}{h_{Xe}} \\right)^2 + \\left( \\frac{\\delta h_{Kr}}{h_{Kr}} \\right)^2  $$\n",
    "\n",
    "So, \n",
    "$$ \\delta s_i = s_i\\sqrt{ {\\left( \\frac{\\delta h_{Xe}}{h_{Xe}} \\right)}^2 + {\\left(\\frac{\\delta h_{Kr}}{h_{Kr}}\\right)}^2 } $$\n",
    "\n",
    "Substituting in the expression for $s_i$, we get:\n",
    "$$ S_{Xe/Kr} = \\frac{h_{Xe}}{h_{Kr}} \\pm \\frac{h_{Xe}}{h_{Kr}}\\sqrt{ {\\left( \\frac{\\delta h_{Xe}}{h_{Xe}} \\right)}^2 + {\\left(\\frac{ \\delta h_{Kr}}{h_{Kr}}\\right)}^2 }$$"
   ]
  },
  {
   "cell_type": "code",
   "execution_count": 11,
   "metadata": {},
   "outputs": [
    {
     "data": {
      "text/plain": [
       "selectivity_calc (generic function with 1 method)"
      ]
     },
     "execution_count": 11,
     "metadata": {},
     "output_type": "execute_result"
    }
   ],
   "source": [
    "function selectivity_calc(results_dict::Dict{String, Dict{String, Any}}, gas1::String, gas2::String)\n",
    "    # initialize dictionary to hold calculated selectivity and error\n",
    "    selectivity = Dict{String, Dict{String, Float64}}()\n",
    "    for key in keys(results_dict) \n",
    "        sel = Dict{String, Any}()\n",
    "        \n",
    "        # calculate the selectivity from ration of Henry Coefficients\n",
    "        h1 = results_dict[key][gas1][\"henry coefficient [mmol/(g-bar)]\"]\n",
    "        h2 = results_dict[key][gas2][\"henry coefficient [mmol/(g-bar)]\"]\n",
    "        sel[gas1 * \"/\" * gas2] = h1 / h2\n",
    "        \n",
    "        # calculate the uncertainty in selectivity\n",
    "        h1_err = results_dict[key][gas1][\"err henry coefficient [mmol/(g-bar)]\"]\n",
    "        h2_err = results_dict[key][gas2][\"err henry coefficient [mmol/(g-bar)]\"]\n",
    "        sel[\"err \" * gas1 * \"/\" * gas2] = sel[gas1 * \"/\" * gas2] * sqrt((h1_err/h1)^2 + (h2_err/h2)^2)\n",
    "        \n",
    "        # populate dictionary with calculated selectivity and error\n",
    "        selectivity[key] = sel\n",
    "    end\n",
    "    return selectivity\n",
    "end"
   ]
  },
  {
   "cell_type": "markdown",
   "metadata": {},
   "source": [
    "### Handy functions for plots"
   ]
  },
  {
   "cell_type": "code",
   "execution_count": 12,
   "metadata": {},
   "outputs": [
    {
     "data": {
      "text/plain": [
       "heat_of_ads_err_array (generic function with 1 method)"
      ]
     },
     "execution_count": 12,
     "metadata": {},
     "output_type": "execute_result"
    }
   ],
   "source": [
    "###\n",
    "# function to automate color assignment for plots\n",
    "###\n",
    "function pick_a_color(results_dict::Dict{String, Dict{String, Any}}, ind::Int64)\n",
    "    sorted_names = sort(collect(keys(results_dict)))\n",
    "    color_array = Array{String}(undef, length(sorted_names))\n",
    "    for (i, key) in enumerate(sorted_names)\n",
    "        if key==\"Parent MOF\" \n",
    "            color_array[i] = \"C$ind\"\n",
    "        else \n",
    "            color_array[i] = \"C$ind\"\n",
    "        end\n",
    "    end\n",
    "    return color_array\n",
    "end\n",
    "\n",
    "function pick_an_edgecolor(results_dict::Dict{String, Dict{String, Any}}, ind::Int64)\n",
    "    sorted_names = sort(collect(keys(results_dict)))\n",
    "    edgecolor_array = Array{String}(undef, length(sorted_names))\n",
    "    for (i, key) in enumerate(sorted_names)\n",
    "        if key==\"Parent MOF\" \n",
    "            edgecolor_array[i] = \"k\"\n",
    "        else \n",
    "            edgecolor_array[i] = \"C$ind\"\n",
    "        end\n",
    "    end\n",
    "    return edgecolor_array\n",
    "end\n",
    "\n",
    "\n",
    "###\n",
    "# henry coefficients\n",
    "###\n",
    "function henry_coeff_array(results_dict::Dict{String, Dict{String, Any}}, gas::String; sorted::Bool=true)\n",
    "    if sorted \n",
    "        names = sort(collect(keys(results_dict)))\n",
    "    else\n",
    "        names = keys(results_dict)\n",
    "    end\n",
    "    hk_array = [results_dict[key][gas][\"henry coefficient [mmol/(g-bar)]\"] for key in names]\n",
    "    return hk_array\n",
    "end\n",
    "\n",
    "function henry_err_array(results_dict::Dict{String, Dict{String, Any}}, gas::String; sorted::Bool=true)\n",
    "    if sorted \n",
    "        names = sort(collect(keys(results_dict)))\n",
    "    else\n",
    "        names = keys(results_dict)\n",
    "    end\n",
    "    err_array = [results_dict[key][gas][\"err henry coefficient [mmol/(g-bar)]\"] for key in names]\n",
    "    return err_array\n",
    "end\n",
    "\n",
    "###\n",
    "# isosteric heat of adsorption\n",
    "###\n",
    "function heat_of_ads_array(results_dict::Dict{String, Dict{String, Any}}, gas::String; sorted::Bool=true)\n",
    "    if sorted \n",
    "        names = sort(collect(keys(results_dict)))\n",
    "    else\n",
    "        names = keys(results_dict)\n",
    "    end\n",
    "    qst_array = [results_dict[key][gas][\"Qst (kJ/mol)\"] for key in names]\n",
    "    return qst_array\n",
    "end\n",
    "\n",
    "function heat_of_ads_err_array(results_dict::Dict{String, Dict{String, Any}}, gas::String; sorted::Bool=true)\n",
    "    if sorted \n",
    "        names = sort(collect(keys(results_dict)))\n",
    "    else\n",
    "        names = keys(results_dict)\n",
    "    end\n",
    "    qst_err = [results_dict[key][gas][\"err Qst (kJ/mol)\"] for key in names]\n",
    "    return qst_err\n",
    "end"
   ]
  },
  {
   "cell_type": "code",
   "execution_count": 13,
   "metadata": {},
   "outputs": [
    {
     "ename": "LoadError",
     "evalue": "KeyError: key \"Xe\" not found",
     "output_type": "error",
     "traceback": [
      "KeyError: key \"Xe\" not found",
      "",
      "Stacktrace:",
      " [1] getindex",
      "   @ ./dict.jl:482 [inlined]",
      " [2] selectivity_calc(results_dict::Dict{String, Dict{String, Any}}, gas1::String, gas2::String)",
      "   @ Main ./In[11]:8",
      " [3] top-level scope",
      "   @ In[13]:1",
      " [4] eval",
      "   @ ./boot.jl:360 [inlined]",
      " [5] include_string(mapexpr::typeof(REPL.softscope), mod::Module, code::String, filename::String)",
      "   @ Base ./loading.jl:1116"
     ]
    }
   ],
   "source": [
    "s_xekr  = selectivity_calc(henry_results, \"Xe\", \"Kr\");\n",
    "s_xear  = selectivity_calc(henry_results, \"Xe\", \"Ar\");\n",
    "s_krar  = selectivity_calc(henry_results, \"Kr\", \"Ar\");"
   ]
  },
  {
   "cell_type": "markdown",
   "metadata": {},
   "source": [
    "## Plot Results:\n",
    "1. Multi-panel plot:\n",
    "    - row 1:\n",
    "        - y-axis: Henry coefficient for Xe, Kr, and Ar\n",
    "        - x-axis: functional group\n",
    "    - row 2:\n",
    "        - y-axis: S$_{Xe/Kr}$, S$_{Xe/Ar}$, an S$_{Ar/Kr}$\n",
    "        - x-axis: functional group\n",
    "    - row 3:\n",
    "        - y-axis: Isosteric Heat of adsorption\n",
    "        - x-axis: functional group\n",
    "2. Henry Coefficients vs Selectivity \n",
    "3. Isosteric Heat of Adsorption Correlation Plots"
   ]
  },
  {
   "cell_type": "code",
   "execution_count": 14,
   "metadata": {},
   "outputs": [
    {
     "data": {
      "text/plain": [
       "2-element Vector{String}:\n",
       " \"Parent MOF\"\n",
       " \"m-Br\""
      ]
     },
     "execution_count": 14,
     "metadata": {},
     "output_type": "execute_result"
    }
   ],
   "source": [
    "pretty_names = Dict{String, String}()\n",
    "for key in keys(henry_results)\n",
    "    if key == \"Parent MOF\"\n",
    "        pretty_names[key] = key\n",
    "    else\n",
    "        pretty_names[key] = latexstring(key)\n",
    "    end\n",
    "end\n",
    "sorted_names = sort(collect(keys(pretty_names)))"
   ]
  },
  {
   "cell_type": "code",
   "execution_count": 15,
   "metadata": {},
   "outputs": [
    {
     "data": {
      "text/plain": [
       "Dict{String, String} with 2 entries:\n",
       "  \"Parent MOF\" => \".\"\n",
       "  \"m-Br\"       => \"o\""
      ]
     },
     "execution_count": 15,
     "metadata": {},
     "output_type": "execute_result"
    }
   ],
   "source": [
    "# color and marker assignments for scatter plots\n",
    "xtal_to_color = Dict(zip([key for (i,key) in enumerate(sorted_names)],\n",
    "                          seaborn.color_palette(\"hls\", length(sorted_names))))\n",
    "\n",
    "markers = [\".\", \"o\", \"v\", \"^\", \">\", \"<\", \"1\", \"2\", \"3\", \"4\", \"8\", \"s\", \"p\", \"P\", \n",
    "            \"*\", \"h\", \"H\", \"+\", \"x\", \"X\", \"D\", \"d\"]\n",
    "xtal_to_marker = Dict(zip([key for key in sorted_names], markers))"
   ]
  },
  {
   "cell_type": "code",
   "execution_count": 16,
   "metadata": {},
   "outputs": [
    {
     "data": {
      "text/plain": [
       "Dict{String, Tuple{Float64, Float64, Float64}} with 2 entries:\n",
       "  \"Parent MOF\" => (0.86, 0.3712, 0.34)\n",
       "  \"m-Br\"       => (0.34, 0.8288, 0.86)"
      ]
     },
     "execution_count": 16,
     "metadata": {},
     "output_type": "execute_result"
    }
   ],
   "source": [
    "xtal_to_color"
   ]
  },
  {
   "cell_type": "markdown",
   "metadata": {},
   "source": [
    "### Henry Coefficient vs. Selectivity\n"
   ]
  },
  {
   "cell_type": "code",
   "execution_count": 17,
   "metadata": {},
   "outputs": [],
   "source": [
    "name_to_label = copy(sorted_names)\n",
    "arene_to_marker = [] # pair: \"ortho\" -> \"o\", \"meta\" -> \"^\", and \"Patent MOF\" -> \"d\" \n",
    "\n",
    "for i in 1:length(name_to_label)\n",
    "    # special case: Parent MOF\n",
    "    if name_to_label[i] == \"Parent MOF\"\n",
    "        push!(arene_to_marker, \"d\")\n",
    "        @debug println(name_to_label[i], \" =>\", arene_to_marker[i])\n",
    "        continue\n",
    "    end\n",
    "    \n",
    "    # determine arene sub before splitting\n",
    "    if occursin(\"m-\", name_to_label[i])\n",
    "        push!(arene_to_marker, \"^\")\n",
    "        name_to_label[i] = replace(name_to_label[i], \"m-\" => \"-\")\n",
    "    elseif occursin(\"o-\", name_to_label[i])\n",
    "        push!(arene_to_marker, \"o\")\n",
    "        name_to_label[i] = replace(name_to_label[i], \"o-\" => \"-\")\n",
    "    else\n",
    "        @warn println(\"cannot determine arene sub for \", sorted_names[i])\n",
    "    end\n",
    "    @debug println(name_to_label[i], \" =>\", arene_to_marker[i])\n",
    "end\n",
    "\n",
    "\n",
    "# different color for each mof\n",
    "colorful_array = seaborn.color_palette(\"gist_rainbow\", length(unique(name_to_label))) \n",
    "\n",
    "for (i, name) in enumerate(unique(name_to_label))\n",
    "    if name == \"Parent MOF\"\n",
    "        xtal_to_color[name] = (0.0, 0.0, 0.0)\n",
    "        continue\n",
    "    end\n",
    "    xtal_to_color[\"o-\" * name] = colorful_array[i]\n",
    "    xtal_to_color[\"m-\" * name] = colorful_array[i]\n",
    "end"
   ]
  },
  {
   "cell_type": "code",
   "execution_count": 18,
   "metadata": {},
   "outputs": [
    {
     "ename": "LoadError",
     "evalue": "KeyError: key \"Xe\" not found",
     "output_type": "error",
     "traceback": [
      "KeyError: key \"Xe\" not found",
      "",
      "Stacktrace:",
      " [1] getindex",
      "   @ ./dict.jl:482 [inlined]",
      " [2] (::var\"#11#12\"{Dict{String, Dict{String, Any}}, String})(key::String)",
      "   @ Main ./none:0",
      " [3] iterate",
      "   @ ./generator.jl:47 [inlined]",
      " [4] collect(itr::Base.Generator{Vector{String}, var\"#11#12\"{Dict{String, Dict{String, Any}}, String}})",
      "   @ Base ./array.jl:678",
      " [5] henry_coeff_array(results_dict::Dict{String, Dict{String, Any}}, gas::String; sorted::Bool)",
      "   @ Main ./In[12]:40",
      " [6] henry_coeff_array",
      "   @ ./In[12]:35 [inlined]",
      " [7] top-level scope",
      "   @ ./In[18]:12",
      " [8] eval",
      "   @ ./boot.jl:360 [inlined]",
      " [9] include_string(mapexpr::typeof(REPL.softscope), mod::Module, code::String, filename::String)",
      "   @ Base ./loading.jl:1116"
     ]
    }
   ],
   "source": [
    "fig, axs = plt.subplots(figsize=(12, 12)) # figsize=(10, 10)\n",
    "\n",
    "s1 = axs.scatter([], [], marker=\"o\", s=100, label=\"ortho\", color=\"w\", edgecolor=\"k\")\n",
    "s2 = axs.scatter([], [], marker=\"^\", s=100, label=\"meta\", color=\"w\", edgecolor=\"k\")\n",
    "\n",
    "\n",
    "# # error bars\n",
    "# xe_err = henry_err_array(henry_results, \"Xe\")\n",
    "# sel_err = [s_xekr[key][\"err Xe/Kr\"] for key in sorted_names]\n",
    "\n",
    "for (i, key) in enumerate(sorted_names)\n",
    "    axs.scatter(henry_coeff_array(henry_results, \"Xe\")[i],\n",
    "                s_xekr[key][\"Xe/Kr\"],\n",
    "                s=100,\n",
    "                marker=arene_to_marker[i], \n",
    "                linewidths=0.75,\n",
    "                edgecolors=\"k\",\n",
    "                color=xtal_to_color[key],\n",
    "                zorder=2.5)\n",
    "end\n",
    "\n",
    "texts = [axs.text(henry_coeff_array(henry_results, \"Xe\")[i],\n",
    "                    s_xekr[key][\"Xe/Kr\"], \n",
    "                    name_to_label[i],\n",
    "                    fontsize=20,\n",
    "                    zorder=2.5) \n",
    "                  for (i, key) in enumerate(sorted_names)]\n",
    "\n",
    "# highlight upper right corner of plot\n",
    "xmin = 0.01; xmax = 1000\n",
    "ymin = 0.0;  ymax = 35\n",
    "\n",
    "x_range = range(henry_results[\"Parent MOF\"][\"Xe\"][\"henry coefficient [mmol/(g-bar)]\"], stop=xmax, length=25)\n",
    "y_range = range(s_xekr[\"Parent MOF\"][\"Xe/Kr\"], stop=ymax, length=25)\n",
    "y_vals = [s_xekr[\"Parent MOF\"][\"Xe/Kr\"] for n in y_range] \n",
    "\n",
    "axs.fill_between(x_range, y_vals, [ymax for n in 1:25], hatch=\"/\", alpha=0.1, color=\"green\")\n",
    "\n",
    "# set axis \n",
    "axs.set_xscale(\"log\")\n",
    "axs.set_xlim(xmin, xmax)\n",
    "axs.set_ylim(ymin, ymax)\n",
    "\n",
    "# arrowprops = Dict(:arrowstyle => \"->\", :color => \"k\", :lw => 0.5)\n",
    "adjustText.adjust_text(texts, \n",
    "                    expand_text=(1.05, 1.2),\n",
    "                    expand_points=(1.05, 1.2),\n",
    "                    expand_objects=(1.05, 1.2),\n",
    "                    expand_align=(1.05, 1.2),\n",
    "                    autoalign=\"x\",\n",
    "                    force_text=(0.1, 0.25),\n",
    "                    force_points=(0.2, 0.5),\n",
    "                    force_objects=(0.1, 0.25),\n",
    "                    lim=2500,\n",
    "                    precision=0.01,\n",
    "                    avoid_text=true,\n",
    "                    avoid_points=true,\n",
    "                    avoid_self=true)\n",
    "\n",
    "\n",
    "\n",
    "legend([s1, s2], [\"ortho\", \"meta\"], loc=\"lower right\", title=\"T = 298 K\")\n",
    "\n",
    "axs.grid(\"on\")\n",
    "# axs.set_facecolor(\"C3\")\n",
    "\n",
    "# axs.set_title(L\"H$_{Xe}$ vs S$_{Xe/Kr}$\")\n",
    "axs.set_xlabel(\"Xe Henry Coefficient [mmol/(g-bar)]\")\n",
    "axs.set_ylabel(\"Xe/Kr Selectivity\")\n",
    "\n",
    "tight_layout()\n",
    "savefig(\"H_Xe_vs_Sel_XeKr.pdf\", dpi=600, format=\"pdf\")\n",
    "# savefig(\"H_Xe_vs_Sel_XeKr.png\", dpi=600, format=\"png\")"
   ]
  },
  {
   "cell_type": "code",
   "execution_count": 19,
   "metadata": {},
   "outputs": [
    {
     "ename": "LoadError",
     "evalue": "KeyError: key \"Xe\" not found",
     "output_type": "error",
     "traceback": [
      "KeyError: key \"Xe\" not found",
      "",
      "Stacktrace:",
      " [1] getindex",
      "   @ ./dict.jl:482 [inlined]",
      " [2] (::var\"#11#12\"{Dict{String, Dict{String, Any}}, String})(key::String)",
      "   @ Main ./none:0",
      " [3] iterate",
      "   @ ./generator.jl:47 [inlined]",
      " [4] collect(itr::Base.Generator{Vector{String}, var\"#11#12\"{Dict{String, Dict{String, Any}}, String}})",
      "   @ Base ./array.jl:678",
      " [5] henry_coeff_array(results_dict::Dict{String, Dict{String, Any}}, gas::String; sorted::Bool)",
      "   @ Main ./In[12]:40",
      " [6] henry_coeff_array",
      "   @ ./In[12]:35 [inlined]",
      " [7] top-level scope",
      "   @ ./In[19]:12",
      " [8] eval",
      "   @ ./boot.jl:360 [inlined]",
      " [9] include_string(mapexpr::typeof(REPL.softscope), mod::Module, code::String, filename::String)",
      "   @ Base ./loading.jl:1116"
     ]
    }
   ],
   "source": [
    "fig, axs = plt.subplots(figsize=(12, 12)) # figsize=(10, 10)\n",
    "\n",
    "s1 = axs.scatter([], [], marker=\"o\", s=100, label=\"ortho\", color=\"w\", edgecolor=\"k\")\n",
    "s2 = axs.scatter([], [], marker=\"^\", s=100, label=\"meta\", color=\"w\", edgecolor=\"k\")\n",
    "\n",
    "\n",
    "# # error bars\n",
    "# xe_err = henry_err_array(henry_results, \"Xe\")\n",
    "# sel_err = [s_xekr[key][\"err Xe/Kr\"] for key in sorted_names]\n",
    "\n",
    "for (i, key) in enumerate(sorted_names)\n",
    "    axs.scatter(henry_coeff_array(henry_results, \"Xe\")[i],\n",
    "                s_xear[key][\"Xe/Ar\"],\n",
    "                s=100,\n",
    "                marker=arene_to_marker[i], \n",
    "                linewidths=0.75,\n",
    "                edgecolors=\"k\",\n",
    "                color=xtal_to_color[key],\n",
    "                zorder=2.5)\n",
    "end\n",
    "\n",
    "texts = [axs.text(henry_coeff_array(henry_results, \"Xe\")[i],\n",
    "                    s_xear[key][\"Xe/Ar\"], \n",
    "                    name_to_label[i],\n",
    "                    fontsize=20,\n",
    "                    zorder=2.5) \n",
    "                  for (i, key) in enumerate(sorted_names)]\n",
    "\n",
    "# highlight upper right corner of plot\n",
    "xmin = 0.01; xmax = 1100\n",
    "ymin = 0.0;  ymax = 150\n",
    "\n",
    "x_range = range(henry_results[\"Parent MOF\"][\"Xe\"][\"henry coefficient [mmol/(g-bar)]\"], stop=xmax, length=25)\n",
    "y_range = range(s_xear[\"Parent MOF\"][\"Xe/Ar\"], stop=ymax, length=25)\n",
    "y_vals = [s_xear[\"Parent MOF\"][\"Xe/Ar\"] for n in y_range] \n",
    "\n",
    "axs.fill_between(x_range, y_vals, [ymax for n in 1:25], hatch=\"/\", alpha=0.1, color=\"green\")\n",
    "\n",
    "# set axis \n",
    "axs.set_xscale(\"log\")\n",
    "axs.set_xlim(xmin, xmax)\n",
    "axs.set_ylim(ymin, ymax)\n",
    "\n",
    "# arrowprops = Dict(:arrowstyle => \"->\", :color => \"k\", :lw => 0.5)\n",
    "adjustText.adjust_text(texts, \n",
    "                    expand_text=(1.05, 1.2),\n",
    "                    expand_points=(1.05, 1.2),\n",
    "                    expand_objects=(1.05, 1.2),\n",
    "                    expand_align=(1.05, 1.2),\n",
    "                    autoalign=\"xy\",\n",
    "                    force_text=(0.1, 0.25),\n",
    "                    force_points=(0.2, 0.5),\n",
    "                    force_objects=(0.1, 0.25),\n",
    "                    lim=2500,\n",
    "                    precision=0.01,\n",
    "                    avoid_text=true,\n",
    "                    avoid_points=true,\n",
    "                    avoid_self=true)\n",
    "\n",
    "\n",
    "\n",
    "legend([s1, s2], [\"ortho\", \"meta\"], loc=\"lower right\", title=\"T = 298 K\")\n",
    "\n",
    "axs.grid(\"on\")\n",
    "# axs.set_facecolor(\"C3\")\n",
    "\n",
    "# axs.set_title(L\"H$_{Xe}$ vs S$_{Xe/Kr}$\")\n",
    "axs.set_xlabel(\"Xe Henry Coefficient [mmol/(g-bar)]\")\n",
    "axs.set_ylabel(\"Xe/Ar Selectivity\")\n",
    "\n",
    "tight_layout()\n",
    "savefig(\"H_Xe_vs_Sel_XeAr.pdf\", dpi=600, format=\"pdf\")"
   ]
  },
  {
   "cell_type": "code",
   "execution_count": 20,
   "metadata": {},
   "outputs": [
    {
     "ename": "LoadError",
     "evalue": "KeyError: key \"Kr\" not found",
     "output_type": "error",
     "traceback": [
      "KeyError: key \"Kr\" not found",
      "",
      "Stacktrace:",
      " [1] getindex",
      "   @ ./dict.jl:482 [inlined]",
      " [2] (::var\"#11#12\"{Dict{String, Dict{String, Any}}, String})(key::String)",
      "   @ Main ./none:0",
      " [3] iterate",
      "   @ ./generator.jl:47 [inlined]",
      " [4] collect(itr::Base.Generator{Vector{String}, var\"#11#12\"{Dict{String, Dict{String, Any}}, String}})",
      "   @ Base ./array.jl:678",
      " [5] henry_coeff_array(results_dict::Dict{String, Dict{String, Any}}, gas::String; sorted::Bool)",
      "   @ Main ./In[12]:40",
      " [6] henry_coeff_array",
      "   @ ./In[12]:35 [inlined]",
      " [7] top-level scope",
      "   @ ./In[20]:12",
      " [8] eval",
      "   @ ./boot.jl:360 [inlined]",
      " [9] include_string(mapexpr::typeof(REPL.softscope), mod::Module, code::String, filename::String)",
      "   @ Base ./loading.jl:1116"
     ]
    }
   ],
   "source": [
    "fig, axs = plt.subplots(figsize=(12, 12)) # figsize=(10, 10)\n",
    "\n",
    "s1 = axs.scatter([], [], marker=\"o\", s=90, label=\"ortho\", color=\"w\", edgecolor=\"k\")\n",
    "s2 = axs.scatter([], [], marker=\"^\", s=90, label=\"meta\", color=\"w\", edgecolor=\"k\")\n",
    "\n",
    "\n",
    "# # error bars\n",
    "# xe_err = henry_err_array(henry_results, \"Xe\")\n",
    "# sel_err = [s_xekr[key][\"err Xe/Kr\"] for key in sorted_names]\n",
    "\n",
    "for (i, key) in enumerate(sorted_names)\n",
    "    axs.scatter(henry_coeff_array(henry_results, \"Kr\")[i],\n",
    "                s_krar[key][\"Kr/Ar\"],\n",
    "                s=100,\n",
    "                marker=arene_to_marker[i], \n",
    "                linewidths=0.75,\n",
    "                edgecolors=\"k\",\n",
    "                color=xtal_to_color[key],\n",
    "                zorder=2.5)\n",
    "end\n",
    "\n",
    "texts = [axs.text(henry_coeff_array(henry_results, \"Kr\")[i],\n",
    "                    s_krar[key][\"Kr/Ar\"], \n",
    "                    name_to_label[i],\n",
    "                    fontsize=16,\n",
    "                    zorder=2.5) \n",
    "                  for (i, key) in enumerate(sorted_names)]\n",
    "\n",
    "# highlight upper right corner of plot\n",
    "xmin = 0.01; xmax = 12\n",
    "ymin = 0.0;  ymax = 5.2\n",
    "\n",
    "x_range = range(henry_results[\"Parent MOF\"][\"Kr\"][\"henry coefficient [mmol/(g-bar)]\"], stop=xmax, length=25)\n",
    "y_range = range(s_krar[\"Parent MOF\"][\"Kr/Ar\"], stop=ymax, length=25)\n",
    "y_vals = [s_krar[\"Parent MOF\"][\"Kr/Ar\"] for n in y_range] \n",
    "\n",
    "axs.fill_between(x_range, y_vals, [ymax for n in 1:25], hatch=\"/\", alpha=0.1, color=\"green\")\n",
    "\n",
    "# set axis \n",
    "axs.set_xscale(\"log\")\n",
    "axs.set_xlim(xmin, xmax)\n",
    "axs.set_ylim(ymin, ymax)\n",
    "\n",
    "# arrowprops = Dict(:arrowstyle => \"->\", :color => \"k\", :lw => 0.5)\n",
    "adjustText.adjust_text(texts, \n",
    "                    expand_text=(1.05, 1.2),\n",
    "                    expand_points=(1.05, 1.2),\n",
    "                    expand_objects=(1.05, 1.2),\n",
    "                    expand_align=(1.05, 1.2),\n",
    "                    autoalign=\"xy\",\n",
    "                    force_text=(0.1, 0.25),\n",
    "                    force_points=(0.2, 0.5),\n",
    "                    force_objects=(0.1, 0.25),\n",
    "                    lim=2500,\n",
    "                    precision=0.01,\n",
    "                    avoid_text=true,\n",
    "                    avoid_points=true,\n",
    "                    avoid_self=true)\n",
    "\n",
    "\n",
    "\n",
    "legend([s1, s2], [\"ortho\", \"meta\"], loc=\"lower right\", title=\"T = 298 K\")\n",
    "\n",
    "axs.grid(\"on\")\n",
    "# axs.set_facecolor(\"C3\")\n",
    "\n",
    "# axs.set_title(L\"H$_{Xe}$ vs S$_{Xe/Kr}$\")\n",
    "axs.set_xlabel(\"Kr Henry Coefficient [mmol/(g-bar)]\")\n",
    "axs.set_ylabel(\"Kr/Ar Selectivity\")\n",
    "\n",
    "tight_layout()\n",
    "savefig(\"H_Kr_vs_Sel_KrAr.pdf\", dpi=600, format=\"pdf\")"
   ]
  },
  {
   "cell_type": "code",
   "execution_count": null,
   "metadata": {},
   "outputs": [],
   "source": []
  }
 ],
 "metadata": {
  "kernelspec": {
   "display_name": "Julia 1.6.2",
   "language": "julia",
   "name": "julia-1.6"
  },
  "language_info": {
   "file_extension": ".jl",
   "mimetype": "application/julia",
   "name": "julia",
   "version": "1.6.2"
  }
 },
 "nbformat": 4,
 "nbformat_minor": 4
}
