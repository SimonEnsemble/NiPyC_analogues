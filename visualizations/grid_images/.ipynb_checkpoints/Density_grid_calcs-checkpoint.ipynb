{
 "cells": [
  {
   "cell_type": "markdown",
   "metadata": {},
   "source": [
    "Note: To display the density grid calculations, in VisIt, load in the .cube file (must select file type and deselect default option), and deselect options to apply options to all plots/windows. When making density grid plots, use the minimum and maximum energy values displayed inthe legend (don't turn off annotations in VisIt immediately) to *normalize* the color gradient. Make a low quality plot and find a good viewing angle; then, increase the resolution and print screen as png. \n",
    "\n",
    "TODO: try making density grid plots using alternative software posted in slack."
   ]
  },
  {
   "cell_type": "code",
   "execution_count": 1,
   "metadata": {},
   "outputs": [
    {
     "name": "stderr",
     "output_type": "stream",
     "text": [
      "┌ Info: Precompiling PorousMaterials [68953c7c-a3c7-538e-83d3-73516288599e]\n",
      "└ @ Base loading.jl:1317\n",
      "\u001b[33m\u001b[1m┌ \u001b[22m\u001b[39m\u001b[33m\u001b[1mWarning: \u001b[22m\u001b[39mPackage Xtals does not have LightGraphs in its dependencies:\n",
      "\u001b[33m\u001b[1m│ \u001b[22m\u001b[39m- If you have Xtals checked out for development and have\n",
      "\u001b[33m\u001b[1m│ \u001b[22m\u001b[39m  added LightGraphs as a dependency but haven't updated your primary\n",
      "\u001b[33m\u001b[1m│ \u001b[22m\u001b[39m  environment's manifest file, try `Pkg.resolve()`.\n",
      "\u001b[33m\u001b[1m│ \u001b[22m\u001b[39m- Otherwise you may need to report an issue with Xtals\n",
      "\u001b[33m\u001b[1m└ \u001b[22m\u001b[39mLoading LightGraphs into Xtals from project dependency, future warnings for Xtals are suppressed.\n",
      "\u001b[33m\u001b[1m┌ \u001b[22m\u001b[39m\u001b[33m\u001b[1mWarning: \u001b[22m\u001b[39mPackage MetaGraphs does not have LightGraphs in its dependencies:\n",
      "\u001b[33m\u001b[1m│ \u001b[22m\u001b[39m- If you have MetaGraphs checked out for development and have\n",
      "\u001b[33m\u001b[1m│ \u001b[22m\u001b[39m  added LightGraphs as a dependency but haven't updated your primary\n",
      "\u001b[33m\u001b[1m│ \u001b[22m\u001b[39m  environment's manifest file, try `Pkg.resolve()`.\n",
      "\u001b[33m\u001b[1m│ \u001b[22m\u001b[39m- Otherwise you may need to report an issue with MetaGraphs\n",
      "\u001b[33m\u001b[1m└ \u001b[22m\u001b[39mLoading LightGraphs into MetaGraphs from project dependency, future warnings for MetaGraphs are suppressed.\n",
      "\u001b[33m\u001b[1m┌ \u001b[22m\u001b[39m\u001b[33m\u001b[1mWarning: \u001b[22m\u001b[39mThe call to compilecache failed to create a usable precompiled cache file for Xtals [ede5f01d-793e-4c47-9885-c447d1f18d6d]\n",
      "\u001b[33m\u001b[1m│ \u001b[22m\u001b[39m  exception = Required dependency MetaGraphs [626554b9-1ddb-594c-aa3c-2596fe9399a5] failed to load from a cache file.\n",
      "\u001b[33m\u001b[1m└ \u001b[22m\u001b[39m\u001b[90m@ Base loading.jl:1033\u001b[39m\n",
      "\u001b[33m\u001b[1m┌ \u001b[22m\u001b[39m\u001b[33m\u001b[1mWarning: \u001b[22m\u001b[39mPackage Xtals does not have LightGraphs in its dependencies:\n",
      "\u001b[33m\u001b[1m│ \u001b[22m\u001b[39m- If you have Xtals checked out for development and have\n",
      "\u001b[33m\u001b[1m│ \u001b[22m\u001b[39m  added LightGraphs as a dependency but haven't updated your primary\n",
      "\u001b[33m\u001b[1m│ \u001b[22m\u001b[39m  environment's manifest file, try `Pkg.resolve()`.\n",
      "\u001b[33m\u001b[1m│ \u001b[22m\u001b[39m- Otherwise you may need to report an issue with Xtals\n",
      "\u001b[33m\u001b[1m└ \u001b[22m\u001b[39mLoading LightGraphs into Xtals from project dependency, future warnings for Xtals are suppressed.\n",
      "\u001b[33m\u001b[1m┌ \u001b[22m\u001b[39m\u001b[33m\u001b[1mWarning: \u001b[22m\u001b[39mPackage MetaGraphs does not have LightGraphs in its dependencies:\n",
      "\u001b[33m\u001b[1m│ \u001b[22m\u001b[39m- If you have MetaGraphs checked out for development and have\n",
      "\u001b[33m\u001b[1m│ \u001b[22m\u001b[39m  added LightGraphs as a dependency but haven't updated your primary\n",
      "\u001b[33m\u001b[1m│ \u001b[22m\u001b[39m  environment's manifest file, try `Pkg.resolve()`.\n",
      "\u001b[33m\u001b[1m│ \u001b[22m\u001b[39m- Otherwise you may need to report an issue with MetaGraphs\n",
      "\u001b[33m\u001b[1m└ \u001b[22m\u001b[39mLoading LightGraphs into MetaGraphs from project dependency, future warnings for MetaGraphs are suppressed.\n",
      "┌ Warning: The call to compilecache failed to create a usable precompiled cache file for PorousMaterials [68953c7c-a3c7-538e-83d3-73516288599e]\n",
      "│   exception = ErrorException(\"Required dependency MetaGraphs [626554b9-1ddb-594c-aa3c-2596fe9399a5] failed to load from a cache file.\")\n",
      "└ @ Base loading.jl:1033\n",
      "┌ Info: Precompiling Xtals [ede5f01d-793e-4c47-9885-c447d1f18d6d]\n",
      "└ @ Base loading.jl:1317\n",
      "\u001b[33m\u001b[1m┌ \u001b[22m\u001b[39m\u001b[33m\u001b[1mWarning: \u001b[22m\u001b[39mPackage Xtals does not have LightGraphs in its dependencies:\n",
      "\u001b[33m\u001b[1m│ \u001b[22m\u001b[39m- If you have Xtals checked out for development and have\n",
      "\u001b[33m\u001b[1m│ \u001b[22m\u001b[39m  added LightGraphs as a dependency but haven't updated your primary\n",
      "\u001b[33m\u001b[1m│ \u001b[22m\u001b[39m  environment's manifest file, try `Pkg.resolve()`.\n",
      "\u001b[33m\u001b[1m│ \u001b[22m\u001b[39m- Otherwise you may need to report an issue with Xtals\n",
      "\u001b[33m\u001b[1m└ \u001b[22m\u001b[39mLoading LightGraphs into Xtals from project dependency, future warnings for Xtals are suppressed.\n",
      "\u001b[33m\u001b[1m┌ \u001b[22m\u001b[39m\u001b[33m\u001b[1mWarning: \u001b[22m\u001b[39mPackage MetaGraphs does not have LightGraphs in its dependencies:\n",
      "\u001b[33m\u001b[1m│ \u001b[22m\u001b[39m- If you have MetaGraphs checked out for development and have\n",
      "\u001b[33m\u001b[1m│ \u001b[22m\u001b[39m  added LightGraphs as a dependency but haven't updated your primary\n",
      "\u001b[33m\u001b[1m│ \u001b[22m\u001b[39m  environment's manifest file, try `Pkg.resolve()`.\n",
      "\u001b[33m\u001b[1m│ \u001b[22m\u001b[39m- Otherwise you may need to report an issue with MetaGraphs\n",
      "\u001b[33m\u001b[1m└ \u001b[22m\u001b[39mLoading LightGraphs into MetaGraphs from project dependency, future warnings for MetaGraphs are suppressed.\n",
      "┌ Warning: The call to compilecache failed to create a usable precompiled cache file for Xtals [ede5f01d-793e-4c47-9885-c447d1f18d6d]\n",
      "│   exception = ErrorException(\"Required dependency MetaGraphs [626554b9-1ddb-594c-aa3c-2596fe9399a5] failed to load from a cache file.\")\n",
      "└ @ Base loading.jl:1033\n",
      "┌ Warning: Package Xtals does not have LightGraphs in its dependencies:\n",
      "│ - If you have Xtals checked out for development and have\n",
      "│   added LightGraphs as a dependency but haven't updated your primary\n",
      "│   environment's manifest file, try `Pkg.resolve()`.\n",
      "│ - Otherwise you may need to report an issue with Xtals\n",
      "│ Loading LightGraphs into Xtals from project dependency, future warnings for Xtals are suppressed.\n",
      "└ @ nothing nothing:888\n",
      "┌ Info: Precompiling MetaGraphs [626554b9-1ddb-594c-aa3c-2596fe9399a5]\n",
      "└ @ Base loading.jl:1317\n",
      "\u001b[33m\u001b[1m┌ \u001b[22m\u001b[39m\u001b[33m\u001b[1mWarning: \u001b[22m\u001b[39mPackage MetaGraphs does not have LightGraphs in its dependencies:\n",
      "\u001b[33m\u001b[1m│ \u001b[22m\u001b[39m- If you have MetaGraphs checked out for development and have\n",
      "\u001b[33m\u001b[1m│ \u001b[22m\u001b[39m  added LightGraphs as a dependency but haven't updated your primary\n",
      "\u001b[33m\u001b[1m│ \u001b[22m\u001b[39m  environment's manifest file, try `Pkg.resolve()`.\n",
      "\u001b[33m\u001b[1m│ \u001b[22m\u001b[39m- Otherwise you may need to report an issue with MetaGraphs\n",
      "\u001b[33m\u001b[1m└ \u001b[22m\u001b[39mLoading LightGraphs into MetaGraphs from project dependency, future warnings for MetaGraphs are suppressed.\n",
      "┌ Warning: crystals path directory not found\n",
      "│   path = /home/ng/DTRA/visualizations/grid_images/data/crystals\n",
      "└ @ Xtals /home/ng/.julia/dev/Xtals/src/misc.jl:181\n",
      "┌ Warning: data path directory not found\n",
      "│   path = /home/ng/DTRA/visualizations/grid_images/data\n",
      "└ @ Xtals /home/ng/.julia/dev/Xtals/src/misc.jl:181\n",
      "┌ Warning: forcefields path directory not found\n",
      "│   path = /home/ng/DTRA/visualizations/grid_images/data/forcefields\n",
      "└ @ Xtals /home/ng/.julia/dev/Xtals/src/misc.jl:181\n",
      "┌ Warning: grids path directory not found\n",
      "│   path = /home/ng/DTRA/visualizations/grid_images/data/grids\n",
      "└ @ Xtals /home/ng/.julia/dev/Xtals/src/misc.jl:181\n",
      "┌ Warning: molecules path directory not found\n",
      "│   path = /home/ng/DTRA/visualizations/grid_images/data/molecules\n",
      "└ @ Xtals /home/ng/.julia/dev/Xtals/src/misc.jl:181\n",
      "┌ Warning: crystals path directory not found\n",
      "│   path = /home/ng/DTRA/visualizations/grid_images/data/crystals\n",
      "└ @ Xtals /home/ng/.julia/dev/Xtals/src/misc.jl:181\n",
      "┌ Warning: data path directory not found\n",
      "│   path = /home/ng/DTRA/visualizations/grid_images/data\n",
      "└ @ Xtals /home/ng/.julia/dev/Xtals/src/misc.jl:181\n",
      "┌ Warning: simulations path directory not found\n",
      "│   path = /home/ng/DTRA/visualizations/grid_images/data/simulations\n",
      "└ @ Xtals /home/ng/.julia/dev/Xtals/src/misc.jl:181\n"
     ]
    }
   ],
   "source": [
    "using PorousMaterials\n",
    "using JLD2"
   ]
  },
  {
   "cell_type": "code",
   "execution_count": 2,
   "metadata": {},
   "outputs": [],
   "source": [
    "set_paths(joinpath(pwd(), \"../../data\"))\n",
    "# @eval PorousMaterials PATH_TO_CRYSTALS=joinpath(pwd(),\"structural_relaxation\",\"post-relaxation_cifs\")\n",
    "# @eval PorousMaterials PATH_TO_CRYSTALS=joinpath(pwd(), \"images/grid_images/replicated_xtals/\")"
   ]
  },
  {
   "cell_type": "code",
   "execution_count": 3,
   "metadata": {},
   "outputs": [
    {
     "data": {
      "text/plain": [
       "false"
      ]
     },
     "execution_count": 3,
     "metadata": {},
     "output_type": "execute_result"
    }
   ],
   "source": [
    "###\n",
    "#  Set flag for desired calculation\n",
    "###\n",
    "calc_energy_grid   = false # flag for energy grid calculations\n",
    "write_density_grid = false  # flag for extracting density grid from *.jld2 sim files "
   ]
  },
  {
   "cell_type": "code",
   "execution_count": 4,
   "metadata": {},
   "outputs": [
    {
     "data": {
      "text/plain": [
       "Dict{Symbol, Any} with 9 entries:\n",
       "  :ljff        => \"UFF\"\n",
       "  :adsorbate   => \"Xe\"\n",
       "  :grid_points => (100, 100, 100)\n",
       "  :temperature => 298.0\n",
       "  :energy_min  => Tuple{Float64, CartesianIndex{3}}\n",
       "  :xyz_file    => false\n",
       "  :vtk_file    => false\n",
       "  :repfactors  => (1, 1, 1)\n",
       "  :n_rotations => 750"
      ]
     },
     "execution_count": 4,
     "metadata": {},
     "output_type": "execute_result"
    }
   ],
   "source": [
    "# preset dictionary vlues\n",
    "params = Dict(:adsorbate   => \"Xe\", #Kr\n",
    "              :ljff        => \"UFF\",\n",
    "              :grid_points => (100, 100, 100), \n",
    "              :repfactors  => (1, 1, 1),\n",
    "              :temperature => 298.0, \n",
    "              :n_rotations => 750,\n",
    "              :energy_min  => Tuple{Float64, CartesianIndex{3}},\n",
    "              :xyz_file    => false,\n",
    "              :vtk_file    => false)"
   ]
  },
  {
   "cell_type": "code",
   "execution_count": 5,
   "metadata": {},
   "outputs": [
    {
     "data": {
      "text/plain": [
       "adsorbate_in_mof (generic function with 1 method)"
      ]
     },
     "execution_count": 5,
     "metadata": {},
     "output_type": "execute_result"
    }
   ],
   "source": [
    "# I need to put place the adsorbate at the location of the minimum energy\n",
    "function adsorbate_in_mof(energy_grid_params::Dict{String,Dict{Symbol,Any}}, xtal::Crystal, grid::Grid)\n",
    "    filename = energy_grid_params[xtal.name][:adsorbate] * \"_in_\" * xtal.name\n",
    "    \n",
    "    molecule = Molecule(energy_grid_params[xtal.name][:adsorbate])\n",
    "    xyz = Tuple([energy_grid_params[xtal.name][:energy_min][2][i] for i in 1:3])\n",
    "    \n",
    "    xf_minE = id_to_xf(xyz, grid.n_pts) # fractional coords of min\n",
    "    x_minE  = Cart(Frac(xf_minE), xtal.box) # Cartesian coords of min\n",
    "    # make struct\n",
    "    xe_atom_c = Atoms(1, [molecule.species], x_minE) \n",
    "\n",
    "    return write_xyz(xe_atom_c, filename)\n",
    "end"
   ]
  },
  {
   "cell_type": "code",
   "execution_count": 6,
   "metadata": {
    "scrolled": true
   },
   "outputs": [
    {
     "data": {
      "text/plain": [
       "Dict{String, Dict{Symbol, Any}} with 1 entry:\n",
       "  \"Pn_Ni-PyC-NH2_sc222.cif\" => Dict(:ljff=>\"UFF\", :adsorbate=>\"Xe\", :grid_point…"
      ]
     },
     "execution_count": 6,
     "metadata": {},
     "output_type": "execute_result"
    }
   ],
   "source": [
    "xtal_names = [\"NiPyC2_experiment.cif\", \n",
    "              \"Pn_Ni-PyC-NH2_sc222.cif\",\n",
    "              \"NiPyC2_relax_sc211_meta_functionalized_NH2_pbesol_relax.cif\",\n",
    "              \"NiPyC2_relax_sc211_meta_functionalized_CH3_pbesol_relax.cif\",\n",
    "              \"NiPyC2_relax_sc211_meta_functionalized_N-C-O_pbesol_relax.cif\"]\n",
    "\n",
    "energy_grid_params = Dict(zip(xtal_names, [params for i in 1:length(xtal_names)]))"
   ]
  },
  {
   "cell_type": "code",
   "execution_count": 7,
   "metadata": {},
   "outputs": [
    {
     "ename": "LoadError",
     "evalue": "KeyError: key \"NiPyC2_experiment.cif\" not found",
     "output_type": "error",
     "traceback": [
      "KeyError: key \"NiPyC2_experiment.cif\" not found",
      "",
      "Stacktrace:",
      " [1] getindex(h::Dict{String, Dict{Symbol, Any}}, key::String)",
      "   @ Base ./dict.jl:482",
      " [2] top-level scope",
      "   @ In[7]:2",
      " [3] eval",
      "   @ ./boot.jl:360 [inlined]",
      " [4] include_string(mapexpr::typeof(REPL.softscope), mod::Module, code::String, filename::String)",
      "   @ Base ./loading.jl:1094"
     ]
    }
   ],
   "source": [
    "# special case\n",
    "energy_grid_params[\"NiPyC2_experiment.cif\"][:repfactors] = (2, 2, 2)"
   ]
  },
  {
   "cell_type": "markdown",
   "metadata": {},
   "source": [
    "## Density Grid from `.jld2` File"
   ]
  },
  {
   "cell_type": "code",
   "execution_count": 8,
   "metadata": {},
   "outputs": [],
   "source": [
    "if write_density_grid\n",
    "    for xtal_name in xtal_names\n",
    "        # load crystal and replicate \n",
    "        crystal = Crystal(xtal_name)\n",
    "\n",
    "        # assign energy calculation parameters\n",
    "        mol    = Molecule(energy_grid_params[xtal_name][:adsorbate])\n",
    "        ljff   = LJForceField(energy_grid_params[xtal_name][:ljff])\n",
    "        temp   = energy_grid_params[xtal_name][:temperature]      \n",
    "        pressures = [0.01, 0.1, 1.0]\n",
    "        nburn     = 50000\n",
    "        nsample   = 50000\n",
    "\n",
    "        # loop over pressures\n",
    "        for p in pressures\n",
    "            filename = μVT_output_filename(crystal, [mol], temp, [p], ljff, nburn, nsample)\n",
    "            println(filename)\n",
    "\n",
    "            @load joinpath(PorousMaterials.rc[:paths][:simulations], filename) results\n",
    "\n",
    "            grid = results[\"density grid\"]\n",
    "\n",
    "            # find the value and location of the minimum energy (useful when plotting) \n",
    "            energy_grid_params[xtal_name][:energy_min] = findmin(grid.data)\n",
    "            println(xtal_name, \" energy min = \", energy_grid_params[xtal_name][:energy_min])\n",
    "\n",
    "            # write cube file using crystal name for filename\n",
    "            write_cube(grid, filename)\n",
    "        end\n",
    "\n",
    "        # write xyz file\n",
    "        if energy_grid_params[xtal_name][:xyz_file]\n",
    "            atoms_c = Cart(crystal.atoms, crystal.box)\n",
    "            write_xyz(crystal)\n",
    "        end\n",
    "        # write vtk file\n",
    "        if energy_grid_params[xtal_name][:vtk_file]\n",
    "            write_vtk(crystal.box, crystal.name)\n",
    "        end\n",
    "    end\n",
    "end"
   ]
  },
  {
   "cell_type": "markdown",
   "metadata": {},
   "source": [
    "## Energy Grid Calculations"
   ]
  },
  {
   "cell_type": "code",
   "execution_count": 14,
   "metadata": {
    "scrolled": false
   },
   "outputs": [
    {
     "name": "stdout",
     "output_type": "stream",
     "text": [
      "Computing energy grid of Xe in Pn_Ni-PyC-NH2_sc222.cif\n",
      "\tRegular grid (in fractional space) of 100 by 100 by 100 points superimposed over the unit cell.\n",
      "Pn_Ni-PyC-NH2_sc222.cif energy min = (-31.79297784086987, CartesianIndex(76, 90, 94))\n",
      "\tSee /home/ng/DTRA/visualizations/grid_images/../../data/grids/Egrid_Pn_Ni-PyC-NH2_sc222.cif.cube\n"
     ]
    }
   ],
   "source": [
    "if calc_energy_grid\n",
    "    for xtal_name in xtal_names\n",
    "        # load crystal and replicat (if needed)\n",
    "        crystal = replicate(Crystal(xtal_name), energy_grid_params[xtal_name][:repfactors])\n",
    "        strip_numbers_from_atom_labels!(crystal)\n",
    "\n",
    "        # assign energy calculation parameters\n",
    "        mol    = Molecule(energy_grid_params[xtal_name][:adsorbate])\n",
    "        ljff   = LJForceField(energy_grid_params[xtal_name][:ljff])\n",
    "        points = energy_grid_params[xtal_name][:grid_points]\n",
    "        temp   = energy_grid_params[xtal_name][:temperature]\n",
    "        rot    = energy_grid_params[xtal_name][:n_rotations]\n",
    "\n",
    "        # perform energy grid calculation\n",
    "        grid = energy_grid(crystal, mol, ljff; resolution=points, temperature=temp, n_rotations=rot)\n",
    "\n",
    "        # find the value and location of the minimum energy \n",
    "        energy_grid_params[xtal_name][:energy_min] = findmin(grid.data)\n",
    "        println(xtal_name, \" energy min = \", energy_grid_params[xtal_name][:energy_min])\n",
    "\n",
    "        # write cube file using crystal name for filename\n",
    "        write_cube(grid, \"Egrid_\" * crystal.name)\n",
    "\n",
    "        # write xyz file\n",
    "        if energy_grid_params[xtal_name][:xyz_file]\n",
    "            atoms_c = Cart(crystal.atoms, crystal.box)\n",
    "            write_xyz(crystal)\n",
    "        end\n",
    "\n",
    "        # write vtk file\n",
    "        if energy_grid_params[xtal_name][:vtk_file]\n",
    "            write_vtk(crystal)\n",
    "        end\n",
    "\n",
    "    #     adsorbate_in_mof(energy_grid_params, crystal, grid)\n",
    "    end\n",
    "end"
   ]
  },
  {
   "cell_type": "code",
   "execution_count": null,
   "metadata": {},
   "outputs": [],
   "source": []
  }
 ],
 "metadata": {
  "kernelspec": {
   "display_name": "Julia 1.6.0",
   "language": "julia",
   "name": "julia-1.6"
  },
  "language_info": {
   "file_extension": ".jl",
   "mimetype": "application/julia",
   "name": "julia",
   "version": "1.6.0"
  }
 },
 "nbformat": 4,
 "nbformat_minor": 4
}
