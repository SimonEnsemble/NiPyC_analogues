{
 "cells": [
  {
   "cell_type": "markdown",
   "metadata": {},
   "source": [
    "Note: To display the density grid calculations, in VisIt, load in the .cube file (must select file type and deselect default option), and deselect options to apply options to all plots/windows. When making density grid plots, use the minimum and maximum energy values displayed inthe legend (don't turn off annotations in VisIt immediately) to *normalize* the color gradient. Make a low quality plot and find a good viewing angle; then, increase the resolution and print screen as png. \n",
    "\n",
    "TODO: try making density grid plots using alternative software posted in slack."
   ]
  },
  {
   "cell_type": "code",
   "execution_count": 1,
   "metadata": {},
   "outputs": [],
   "source": [
    "using PorousMaterials\n",
    "using JLD2"
   ]
  },
  {
   "cell_type": "code",
   "execution_count": 2,
   "metadata": {},
   "outputs": [
    {
     "name": "stdout",
     "output_type": "stream",
     "text": [
      "general data folder: /home/ng/DTRA/figures/grid_images/../../data\n",
      "\tcrystal structures (.cif, .cssr): /home/ng/DTRA/figures/grid_images/../../data/crystals\n",
      "\tforce field files (.csv): /home/ng/DTRA/figures/grid_images/../../data/forcefields\n",
      "\tmolecule input files: /home/ng/DTRA/figures/grid_images/../../data/molecules\n",
      "\tsimulation output files: /home/ng/DTRA/figures/grid_images/../../data/simulations\n",
      "\tgrids (.cube): /home/ng/DTRA/figures/grid_images/../../data/grids\n"
     ]
    }
   ],
   "source": [
    "set_path_to_data(joinpath(pwd(), \"../../data\"))\n",
    "# @eval PorousMaterials PATH_TO_CRYSTALS=joinpath(pwd(),\"structural_relaxation\",\"post-relaxation_cifs\")\n",
    "# @eval PorousMaterials PATH_TO_CRYSTALS=joinpath(pwd(), \"images/grid_images/replicated_xtals/\")"
   ]
  },
  {
   "cell_type": "code",
   "execution_count": 3,
   "metadata": {},
   "outputs": [
    {
     "data": {
      "text/plain": [
       "true"
      ]
     },
     "execution_count": 3,
     "metadata": {},
     "output_type": "execute_result"
    }
   ],
   "source": [
    "###\n",
    "#  Set flag for desired calculation\n",
    "###\n",
    "calc_energy_grid   = false # flag for energy grid calculations\n",
    "write_density_grid = true  # flag for extracting density grid from *.jld2 sim files "
   ]
  },
  {
   "cell_type": "code",
   "execution_count": 4,
   "metadata": {},
   "outputs": [
    {
     "data": {
      "text/plain": [
       "Dict{Symbol, Any} with 9 entries:\n",
       "  :ljff        => \"UFF\"\n",
       "  :adsorbate   => \"Xe\"\n",
       "  :grid_points => (100, 100, 100)\n",
       "  :temperature => 298.0\n",
       "  :energy_min  => Tuple{Float64, CartesianIndex{3}}\n",
       "  :xyz_file    => false\n",
       "  :vtk_file    => false\n",
       "  :repfactors  => (1, 1, 1)\n",
       "  :n_rotations => 750"
      ]
     },
     "execution_count": 4,
     "metadata": {},
     "output_type": "execute_result"
    }
   ],
   "source": [
    "# preset dictionary vlues\n",
    "params = Dict(:adsorbate   => \"Xe\",\n",
    "              :ljff        => \"UFF\",\n",
    "              :grid_points => (100, 100, 100), \n",
    "              :repfactors  => (1, 1, 1),\n",
    "              :temperature => 298.0, \n",
    "              :n_rotations => 750,\n",
    "              :energy_min  => Tuple{Float64, CartesianIndex{3}},\n",
    "              :xyz_file    => false,\n",
    "              :vtk_file    => false)"
   ]
  },
  {
   "cell_type": "code",
   "execution_count": 5,
   "metadata": {},
   "outputs": [
    {
     "data": {
      "text/plain": [
       "adsorbate_in_mof (generic function with 1 method)"
      ]
     },
     "execution_count": 5,
     "metadata": {},
     "output_type": "execute_result"
    }
   ],
   "source": [
    "# I need to put place the adsorbate at the location of the minimum energy\n",
    "function adsorbate_in_mof(energy_grid_params::Dict{String,Dict{Symbol,Any}}, xtal::Crystal, grid::Grid)\n",
    "    filename = energy_grid_params[xtal.name][:adsorbate] * \"_in_\" * xtal.name\n",
    "    \n",
    "    molecule = Molecule(energy_grid_params[xtal.name][:adsorbate])\n",
    "    xyz = Tuple([energy_grid_params[xtal.name][:energy_min][2][i] for i in 1:3])\n",
    "    \n",
    "    xf_minE = id_to_xf(xyz, grid.n_pts) # fractional coords of min\n",
    "    x_minE  = Cart(Frac(xf_minE), xtal.box) # Cartesian coords of min\n",
    "    # make struct\n",
    "    xe_atom_c = Atoms(1, [molecule.species], x_minE) \n",
    "\n",
    "    return write_xyz(xe_atom_c, filename)\n",
    "end"
   ]
  },
  {
   "cell_type": "code",
   "execution_count": 7,
   "metadata": {
    "scrolled": true
   },
   "outputs": [
    {
     "data": {
      "text/plain": [
       "Dict{String, Dict{Symbol, Any}} with 4 entries:\n",
       "  \"NiPyC2_relax_sc211_meta… => Dict(:ljff=>\"UFF\", :adsorbate=>\"Xe\", :grid_point…\n",
       "  \"NiPyC2_experiment.cif\"   => Dict(:ljff=>\"UFF\", :adsorbate=>\"Xe\", :grid_point…\n",
       "  \"NiPyC2_relax_sc211_meta… => Dict(:ljff=>\"UFF\", :adsorbate=>\"Xe\", :grid_point…\n",
       "  \"NiPyC2_relax_sc211_meta… => Dict(:ljff=>\"UFF\", :adsorbate=>\"Xe\", :grid_point…"
      ]
     },
     "execution_count": 7,
     "metadata": {},
     "output_type": "execute_result"
    }
   ],
   "source": [
    "xtal_names = [\"NiPyC2_experiment.cif\", \n",
    "              \"NiPyC2_relax_sc211_meta_functionalized_NH2_pbesol_relax.cif\",\n",
    "              \"NiPyC2_relax_sc211_meta_functionalized_CH3_pbesol_relax.cif\",\n",
    "              \"NiPyC2_relax_sc211_meta_functionalized_N-C-O_pbesol_relax.cif\"]\n",
    "\n",
    "energy_grid_params = Dict(zip(xtal_names, [params for i in 1:length(xtal_names)]))"
   ]
  },
  {
   "cell_type": "code",
   "execution_count": 8,
   "metadata": {},
   "outputs": [
    {
     "data": {
      "text/plain": [
       "(2, 2, 2)"
      ]
     },
     "execution_count": 8,
     "metadata": {},
     "output_type": "execute_result"
    }
   ],
   "source": [
    "# special case\n",
    "energy_grid_params[\"NiPyC2_experiment.cif\"][:repfactors] = (2, 2, 2)"
   ]
  },
  {
   "cell_type": "markdown",
   "metadata": {},
   "source": [
    "## Density Grid from `.jld2` File"
   ]
  },
  {
   "cell_type": "code",
   "execution_count": 11,
   "metadata": {},
   "outputs": [
    {
     "name": "stderr",
     "output_type": "stream",
     "text": [
      "┌ Info: Crystal NiPyC2_experiment.cif has Pn space group. I am converting it to P1 symmetry.\n",
      "│         To afrain from this, pass `convert_to_p1=false` to the `Crystal` constructor.\n",
      "└ @ PorousMaterials /home/ng/.julia/dev/PorousMaterials/src/crystal.jl:426\n"
     ]
    },
    {
     "name": "stdout",
     "output_type": "stream",
     "text": [
      "muVT_xtal_NiPyC2_experiment.cif_T_298.000K_Xe_P_0.010000bar_UFF_50000burn_50000sample.jld2\n",
      "NiPyC2_experiment.cif energy min = (0.0, CartesianIndex(1, 1, 1))\n",
      "\tSee /home/ng/DTRA/figures/grid_images/../../data/grids/muVT_xtal_NiPyC2_experiment.cif_T_298.000K_Xe_P_0.010000bar_UFF_50000burn_50000sample.jld2.cube\n",
      "muVT_xtal_NiPyC2_experiment.cif_T_298.000K_Xe_P_0.100000bar_UFF_50000burn_50000sample.jld2\n",
      "NiPyC2_experiment.cif energy min = (0.0, CartesianIndex(1, 1, 1))\n",
      "\tSee /home/ng/DTRA/figures/grid_images/../../data/grids/muVT_xtal_NiPyC2_experiment.cif_T_298.000K_Xe_P_0.100000bar_UFF_50000burn_50000sample.jld2.cube\n",
      "muVT_xtal_NiPyC2_experiment.cif_T_298.000K_Xe_P_1.000000bar_UFF_50000burn_50000sample.jld2\n",
      "NiPyC2_experiment.cif energy min = (0.0, CartesianIndex(1, 1, 1))\n",
      "\tSee /home/ng/DTRA/figures/grid_images/../../data/grids/muVT_xtal_NiPyC2_experiment.cif_T_298.000K_Xe_P_1.000000bar_UFF_50000burn_50000sample.jld2.cube\n",
      "muVT_xtal_NiPyC2_relax_sc211_meta_functionalized_NH2_pbesol_relax.cif_T_298.000K_Xe_P_0.010000bar_UFF_50000burn_50000sample.jld2\n",
      "NiPyC2_relax_sc211_meta_functionalized_NH2_pbesol_relax.cif energy min = (0.0, CartesianIndex(1, 1, 1))\n",
      "\tSee /home/ng/DTRA/figures/grid_images/../../data/grids/muVT_xtal_NiPyC2_relax_sc211_meta_functionalized_NH2_pbesol_relax.cif_T_298.000K_Xe_P_0.010000bar_UFF_50000burn_50000sample.jld2.cube\n",
      "muVT_xtal_NiPyC2_relax_sc211_meta_functionalized_NH2_pbesol_relax.cif_T_298.000K_Xe_P_0.100000bar_UFF_50000burn_50000sample.jld2\n",
      "NiPyC2_relax_sc211_meta_functionalized_NH2_pbesol_relax.cif energy min = (0.0, CartesianIndex(1, 1, 1))\n",
      "\tSee /home/ng/DTRA/figures/grid_images/../../data/grids/muVT_xtal_NiPyC2_relax_sc211_meta_functionalized_NH2_pbesol_relax.cif_T_298.000K_Xe_P_0.100000bar_UFF_50000burn_50000sample.jld2.cube\n",
      "muVT_xtal_NiPyC2_relax_sc211_meta_functionalized_NH2_pbesol_relax.cif_T_298.000K_Xe_P_1.000000bar_UFF_50000burn_50000sample.jld2\n",
      "NiPyC2_relax_sc211_meta_functionalized_NH2_pbesol_relax.cif energy min = (0.0, CartesianIndex(1, 1, 1))\n",
      "\tSee /home/ng/DTRA/figures/grid_images/../../data/grids/muVT_xtal_NiPyC2_relax_sc211_meta_functionalized_NH2_pbesol_relax.cif_T_298.000K_Xe_P_1.000000bar_UFF_50000burn_50000sample.jld2.cube\n",
      "muVT_xtal_NiPyC2_relax_sc211_meta_functionalized_CH3_pbesol_relax.cif_T_298.000K_Xe_P_0.010000bar_UFF_50000burn_50000sample.jld2\n",
      "NiPyC2_relax_sc211_meta_functionalized_CH3_pbesol_relax.cif energy min = (0.0, CartesianIndex(1, 1, 1))\n",
      "\tSee /home/ng/DTRA/figures/grid_images/../../data/grids/muVT_xtal_NiPyC2_relax_sc211_meta_functionalized_CH3_pbesol_relax.cif_T_298.000K_Xe_P_0.010000bar_UFF_50000burn_50000sample.jld2.cube\n",
      "muVT_xtal_NiPyC2_relax_sc211_meta_functionalized_CH3_pbesol_relax.cif_T_298.000K_Xe_P_0.100000bar_UFF_50000burn_50000sample.jld2\n",
      "NiPyC2_relax_sc211_meta_functionalized_CH3_pbesol_relax.cif energy min = (0.0, CartesianIndex(1, 1, 1))\n",
      "\tSee /home/ng/DTRA/figures/grid_images/../../data/grids/muVT_xtal_NiPyC2_relax_sc211_meta_functionalized_CH3_pbesol_relax.cif_T_298.000K_Xe_P_0.100000bar_UFF_50000burn_50000sample.jld2.cube\n",
      "muVT_xtal_NiPyC2_relax_sc211_meta_functionalized_CH3_pbesol_relax.cif_T_298.000K_Xe_P_1.000000bar_UFF_50000burn_50000sample.jld2\n",
      "NiPyC2_relax_sc211_meta_functionalized_CH3_pbesol_relax.cif energy min = (0.0, CartesianIndex(1, 1, 1))\n",
      "\tSee /home/ng/DTRA/figures/grid_images/../../data/grids/muVT_xtal_NiPyC2_relax_sc211_meta_functionalized_CH3_pbesol_relax.cif_T_298.000K_Xe_P_1.000000bar_UFF_50000burn_50000sample.jld2.cube\n",
      "muVT_xtal_NiPyC2_relax_sc211_meta_functionalized_N-C-O_pbesol_relax.cif_T_298.000K_Xe_P_0.010000bar_UFF_50000burn_50000sample.jld2\n",
      "NiPyC2_relax_sc211_meta_functionalized_N-C-O_pbesol_relax.cif energy min = (0.0, CartesianIndex(1, 1, 1))\n",
      "\tSee /home/ng/DTRA/figures/grid_images/../../data/grids/muVT_xtal_NiPyC2_relax_sc211_meta_functionalized_N-C-O_pbesol_relax.cif_T_298.000K_Xe_P_0.010000bar_UFF_50000burn_50000sample.jld2.cube\n",
      "muVT_xtal_NiPyC2_relax_sc211_meta_functionalized_N-C-O_pbesol_relax.cif_T_298.000K_Xe_P_0.100000bar_UFF_50000burn_50000sample.jld2\n",
      "NiPyC2_relax_sc211_meta_functionalized_N-C-O_pbesol_relax.cif energy min = (0.0, CartesianIndex(1, 1, 1))\n",
      "\tSee /home/ng/DTRA/figures/grid_images/../../data/grids/muVT_xtal_NiPyC2_relax_sc211_meta_functionalized_N-C-O_pbesol_relax.cif_T_298.000K_Xe_P_0.100000bar_UFF_50000burn_50000sample.jld2.cube\n",
      "muVT_xtal_NiPyC2_relax_sc211_meta_functionalized_N-C-O_pbesol_relax.cif_T_298.000K_Xe_P_1.000000bar_UFF_50000burn_50000sample.jld2\n",
      "NiPyC2_relax_sc211_meta_functionalized_N-C-O_pbesol_relax.cif energy min = (0.0, CartesianIndex(1, 1, 1))\n",
      "\tSee /home/ng/DTRA/figures/grid_images/../../data/grids/muVT_xtal_NiPyC2_relax_sc211_meta_functionalized_N-C-O_pbesol_relax.cif_T_298.000K_Xe_P_1.000000bar_UFF_50000burn_50000sample.jld2.cube\n"
     ]
    }
   ],
   "source": [
    "if write_density_grid\n",
    "    for xtal_name in xtal_names\n",
    "        # load crystal and replicate \n",
    "        crystal = Crystal(xtal_name)\n",
    "#         crystal = replicate(crystal, energy_grid_params[xtal][:repfactors])\n",
    "#         strip_numbers_from_atom_labels!(crystal)\n",
    "\n",
    "        # assign energy calculation parameters\n",
    "        mol    = Molecule(energy_grid_params[xtal_name][:adsorbate])\n",
    "        ljff   = LJForceField(energy_grid_params[xtal_name][:ljff])\n",
    "        temp   = energy_grid_params[xtal_name][:temperature]      \n",
    "        \n",
    "        \n",
    "        pressures = [0.01, 0.1, 1.0]\n",
    "        nburn     = 50000\n",
    "        nsample   = 50000\n",
    "\n",
    "        # loop over pressures\n",
    "        for p in pressures\n",
    "            filename = μVT_output_filename(crystal, [mol], temp, [p], ljff, nburn, nsample)\n",
    "            println(filename)\n",
    "\n",
    "            @load joinpath(PorousMaterials.PATH_TO_SIMS, filename) results\n",
    "\n",
    "            grid = results[\"density grid\"]\n",
    "\n",
    "            # find the value and location of the minimum energy (useful when plotting) \n",
    "            energy_grid_params[xtal_name][:energy_min] = findmin(grid.data)\n",
    "            println(xtal_name, \" energy min = \", energy_grid_params[xtal_name][:energy_min])\n",
    "\n",
    "            # write cube file using crystal name for filename\n",
    "            write_cube(grid, filename)\n",
    "        end\n",
    "\n",
    "#         # write xyz file\n",
    "#         if energy_grid_params[xtal][:xyz_file]\n",
    "#             atoms_c = Cart(crystal.atoms, crystal.box)\n",
    "#             write_xyz(crystal)\n",
    "#         end\n",
    "#         # write vtk file\n",
    "#         if energy_grid_params[xtal][:vtk_file]\n",
    "#             write_vtk(crystal)\n",
    "#         end\n",
    "    end\n",
    "end"
   ]
  },
  {
   "cell_type": "markdown",
   "metadata": {},
   "source": [
    "## Energy Grid Calculations"
   ]
  },
  {
   "cell_type": "code",
   "execution_count": 10,
   "metadata": {
    "scrolled": false
   },
   "outputs": [],
   "source": [
    "if calc_energy_grid\n",
    "    for xtal in xtal_names\n",
    "        # load crystal and replicat (if needed)\n",
    "        crystal = replicate(Crystal(xtal), energy_grid_params[xtal][:repfactors])\n",
    "        strip_numbers_from_atom_labels!(crystal)\n",
    "\n",
    "        # assign energy calculation parameters\n",
    "        mol    = Molecule(energy_grid_params[xtal][:adsorbate])\n",
    "        ljff   = LJForceField(energy_grid_params[xtal][:ljff])\n",
    "        points = energy_grid_params[xtal][:grid_points]\n",
    "        temp   = energy_grid_params[xtal][:temperature]\n",
    "        rot    = energy_grid_params[xtal][:n_rotations]\n",
    "\n",
    "        # perform energy grid calculation\n",
    "        grid = energy_grid(crystal, mol, ljff; n_pts=points, temperature=temp, n_rotations=rot)\n",
    "\n",
    "        # find the value and location of the minimum energy \n",
    "        energy_grid_params[xtal][:energy_min] = findmin(grid.data)\n",
    "        println(xtal, \" energy min = \", energy_grid_params[xtal][:energy_min])\n",
    "\n",
    "        # write cube file using crystal name for filename\n",
    "        write_cube(grid, \"Egrid_\" * crystal.name)\n",
    "\n",
    "        # write xyz file\n",
    "        if energy_grid_params[xtal][:xyz_file]\n",
    "            atoms_c = Cart(crystal.atoms, crystal.box)\n",
    "            write_xyz(crystal)\n",
    "        end\n",
    "\n",
    "        # write vtk file\n",
    "        if energy_grid_params[xtal][:vtk_file]\n",
    "            write_vtk(crystal)\n",
    "        end\n",
    "\n",
    "    #     adsorbate_in_mof(energy_grid_params, crystal, grid)\n",
    "    end\n",
    "end"
   ]
  },
  {
   "cell_type": "code",
   "execution_count": null,
   "metadata": {},
   "outputs": [],
   "source": []
  }
 ],
 "metadata": {
  "kernelspec": {
   "display_name": "Julia 1.6.0",
   "language": "julia",
   "name": "julia-1.6"
  },
  "language_info": {
   "file_extension": ".jl",
   "mimetype": "application/julia",
   "name": "julia",
   "version": "1.6.0"
  }
 },
 "nbformat": 4,
 "nbformat_minor": 4
}
