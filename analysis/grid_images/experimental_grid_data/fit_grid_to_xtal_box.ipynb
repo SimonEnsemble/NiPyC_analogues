{
 "cells": [
  {
   "cell_type": "code",
   "execution_count": 1,
   "id": "42eb4547",
   "metadata": {
    "scrolled": false
   },
   "outputs": [
    {
     "name": "stderr",
     "output_type": "stream",
     "text": [
      "┌ Warning: forcefields path directory not found\n",
      "│   path = /home/ng/DTRA/analysis/grid_images/experimental_grid_data/data/forcefields\n",
      "└ @ Xtals /home/ng/.julia/dev/Xtals/src/misc.jl:181\n",
      "┌ Warning: molecules path directory not found\n",
      "│   path = /home/ng/DTRA/analysis/grid_images/experimental_grid_data/data/molecules\n",
      "└ @ Xtals /home/ng/.julia/dev/Xtals/src/misc.jl:181\n",
      "┌ Warning: simulations path directory not found\n",
      "│   path = /home/ng/DTRA/analysis/grid_images/experimental_grid_data/data/simulations\n",
      "└ @ Xtals /home/ng/.julia/dev/Xtals/src/misc.jl:181\n"
     ]
    }
   ],
   "source": [
    "using PorousMaterials"
   ]
  },
  {
   "cell_type": "code",
   "execution_count": 2,
   "id": "ccab812e",
   "metadata": {},
   "outputs": [
    {
     "data": {
      "text/plain": [
       "(2, 2, 2)"
      ]
     },
     "execution_count": 2,
     "metadata": {},
     "output_type": "execute_result"
    }
   ],
   "source": [
    "pressures  = [100, 500, 1000, 1700] # mbar\n",
    "adsorbates = [\"Kr\", \"Xe\"]\n",
    "fun_grp    = [\"\", \"-NH2\"]\n",
    "\n",
    "rep_factors = (2, 2, 2)"
   ]
  },
  {
   "cell_type": "code",
   "execution_count": 3,
   "id": "0a318b26",
   "metadata": {},
   "outputs": [
    {
     "name": "stdout",
     "output_type": "stream",
     "text": [
      "Ni-PYC_100mb_Kr_empty\n"
     ]
    },
    {
     "ename": "LoadError",
     "evalue": "SystemError: opening file \"/home/ng/DTRA/analysis/grid_images/experimental_grid_data/data/crystals/Ni-PYC_100mb_Kr_empty.cif\": No such file or directory",
     "output_type": "error",
     "traceback": [
      "SystemError: opening file \"/home/ng/DTRA/analysis/grid_images/experimental_grid_data/data/crystals/Ni-PYC_100mb_Kr_empty.cif\": No such file or directory",
      "",
      "Stacktrace:",
      "  [1] systemerror(p::String, errno::Int32; extrainfo::Nothing)",
      "    @ Base ./error.jl:168",
      "  [2] #systemerror#62",
      "    @ ./error.jl:167 [inlined]",
      "  [3] systemerror",
      "    @ ./error.jl:167 [inlined]",
      "  [4] open(fname::String; lock::Bool, read::Bool, write::Nothing, create::Nothing, truncate::Nothing, append::Nothing)",
      "    @ Base ./iostream.jl:293",
      "  [5] open(fname::String, mode::String; lock::Bool)",
      "    @ Base ./iostream.jl:355",
      "  [6] open",
      "    @ ./iostream.jl:355 [inlined]",
      "  [7] Crystal(filename::String; check_neutrality::Bool, net_charge_tol::Float64, check_overlap::Bool, convert_to_p1::Bool, read_bonds_from_file::Bool, wrap_coords::Bool, include_zero_charges::Bool, remove_duplicates::Bool, species_col::Vector{String}, infer_bonds::Missing, periodic_boundaries::Missing)",
      "    @ Xtals ~/.julia/dev/Xtals/src/crystal.jl:102",
      "  [8] top-level scope",
      "    @ ./In[3]:16",
      "  [9] eval",
      "    @ ./boot.jl:360 [inlined]",
      " [10] include_string(mapexpr::typeof(REPL.softscope), mod::Module, code::String, filename::String)",
      "    @ Base ./loading.jl:1094"
     ]
    }
   ],
   "source": [
    "for grp in fun_grp\n",
    "    for p in pressures\n",
    "        for gas in adsorbates\n",
    "            if grp == \"\" && (gas == \"Kr\"  || ! (p == 1000))\n",
    "                continue\n",
    "            end\n",
    "            \n",
    "            # file naming convention\n",
    "            system = \"Ni-PYC\" * grp * \"_$(p)mb_$(gas)_empty\"\n",
    "            println(system)\n",
    "            \n",
    "            ###\n",
    "            #  1. read in crystal structuer\n",
    "            ###\n",
    "            xtal_filename = system * \".cif\"\n",
    "            xtal = Crystal(xtal_filename, remove_duplicates=true)\n",
    "            \n",
    "            ###\n",
    "            #  2. read in associated cube file\n",
    "            ###\n",
    "            grid_filename = system * \".cube\"\n",
    "            grid = read_cube(grid_filename; has_units=false)\n",
    "            \n",
    "            ###\n",
    "            #  3. define a new grid that is fit to the crystal box\n",
    "            ###\n",
    "            box = Box(xtal.box.a, xtal.box.b, xtal.box.c, \n",
    "                      grid.box.α, grid.box.β, grid.box.γ)\n",
    "\n",
    "            new_grid = Grid(box, grid.n_pts, \n",
    "                            grid.data, grid.units, grid.origin)\n",
    "            \n",
    "            ###\n",
    "            #  4. write new grid as cube file\n",
    "            ###\n",
    "            write_cube(new_grid, \n",
    "                       split(grid_filename, \".\")[1] * \"_NewGrid.cube\")\n",
    "            \n",
    "            ###\n",
    "            #  5. replicate crystal and write xyz and vtk files\n",
    "            ###\n",
    "            rep_xtal = replicate(xtal, rep_factors)\n",
    "\n",
    "            write_xyz(Cart(rep_xtal.atoms, rep_xtal.box), \n",
    "                      joinpath(rc[:paths][:crystals], \n",
    "                      split(xtal.name, \".\")[1] * \"_atoms.xyz\"))\n",
    "\n",
    "            write_vtk(rep_xtal.box, \n",
    "                      joinpath(rc[:paths][:crystals], \n",
    "                      split(xtal.name, \".\")[1] * \"_box.vtk\"))\n",
    "        end\n",
    "    end\n",
    "end"
   ]
  }
 ],
 "metadata": {
  "kernelspec": {
   "display_name": "Julia 1.6.0",
   "language": "julia",
   "name": "julia-1.6"
  },
  "language_info": {
   "file_extension": ".jl",
   "mimetype": "application/julia",
   "name": "julia",
   "version": "1.6.0"
  }
 },
 "nbformat": 4,
 "nbformat_minor": 5
}
