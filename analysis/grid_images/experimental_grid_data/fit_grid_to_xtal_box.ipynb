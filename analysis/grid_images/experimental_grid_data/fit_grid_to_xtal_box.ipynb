{
 "cells": [
  {
   "cell_type": "code",
   "execution_count": 1,
   "id": "42eb4547",
   "metadata": {
    "scrolled": false
   },
   "outputs": [
    {
     "name": "stderr",
     "output_type": "stream",
     "text": [
      "┌ Warning: forcefields path directory not found\n",
      "│   path = /home/ng/NiPyC_analogues/analysis/grid_images/experimental_grid_data/data/forcefields\n",
      "└ @ Xtals /home/ng/.julia/dev/Xtals/src/misc.jl:181\n",
      "┌ Warning: molecules path directory not found\n",
      "│   path = /home/ng/NiPyC_analogues/analysis/grid_images/experimental_grid_data/data/molecules\n",
      "└ @ Xtals /home/ng/.julia/dev/Xtals/src/misc.jl:181\n",
      "┌ Warning: simulations path directory not found\n",
      "│   path = /home/ng/NiPyC_analogues/analysis/grid_images/experimental_grid_data/data/simulations\n",
      "└ @ Xtals /home/ng/.julia/dev/Xtals/src/misc.jl:181\n"
     ]
    }
   ],
   "source": [
    "using PorousMaterials"
   ]
  },
  {
   "cell_type": "code",
   "execution_count": 2,
   "id": "ccab812e",
   "metadata": {},
   "outputs": [
    {
     "data": {
      "text/plain": [
       "(2, 2, 2)"
      ]
     },
     "execution_count": 2,
     "metadata": {},
     "output_type": "execute_result"
    }
   ],
   "source": [
    "pressures  = [100, 500, 1000, 1700] # mbar\n",
    "adsorbates = [\"Kr\", \"Xe\"]\n",
    "fun_grp    = [\"\", \"-NH2\"]\n",
    "\n",
    "rep_factors = (2, 2, 2)"
   ]
  },
  {
   "cell_type": "code",
   "execution_count": 3,
   "id": "0a318b26",
   "metadata": {},
   "outputs": [
    {
     "name": "stdout",
     "output_type": "stream",
     "text": [
      "Ni-PYC_1000mb_Xe_empty\n"
     ]
    },
    {
     "name": "stderr",
     "output_type": "stream",
     "text": [
      "┌ Info: Crystal Ni-PYC_1000mb_Xe_empty.cif has Pnn2 space group. I am converting it to P1 symmetry.\n",
      "│         To prevent this, pass `convert_to_p1=false` to the `Crystal` constructor.\n",
      "└ @ Xtals /home/ng/.julia/dev/Xtals/src/crystal.jl:433\n"
     ]
    },
    {
     "name": "stdout",
     "output_type": "stream",
     "text": [
      "\tSee /home/ng/NiPyC_analogues/analysis/grid_images/experimental_grid_data/data/grids/Ni-PYC_1000mb_Xe_empty_NewGrid.cube\n",
      "See /home/ng/NiPyC_analogues/analysis/grid_images/experimental_grid_data/data/crystals/Ni-PYC_1000mb_Xe_empty_box.vtk\n",
      "Ni-PYC-NH2_100mb_Kr_empty\n"
     ]
    },
    {
     "name": "stderr",
     "output_type": "stream",
     "text": [
      "┌ Info: Crystal Ni-PYC-NH2_100mb_Kr_empty.cif has Pnn2 space group. I am converting it to P1 symmetry.\n",
      "│         To prevent this, pass `convert_to_p1=false` to the `Crystal` constructor.\n",
      "└ @ Xtals /home/ng/.julia/dev/Xtals/src/crystal.jl:433\n"
     ]
    },
    {
     "name": "stdout",
     "output_type": "stream",
     "text": [
      "\tSee /home/ng/NiPyC_analogues/analysis/grid_images/experimental_grid_data/data/grids/Ni-PYC-NH2_100mb_Kr_empty_NewGrid.cube\n",
      "See /home/ng/NiPyC_analogues/analysis/grid_images/experimental_grid_data/data/crystals/Ni-PYC-NH2_100mb_Kr_empty_box.vtk\n",
      "Ni-PYC-NH2_100mb_Xe_empty\n"
     ]
    },
    {
     "name": "stderr",
     "output_type": "stream",
     "text": [
      "┌ Info: Crystal Ni-PYC-NH2_100mb_Xe_empty.cif has Pnn2 space group. I am converting it to P1 symmetry.\n",
      "│         To prevent this, pass `convert_to_p1=false` to the `Crystal` constructor.\n",
      "└ @ Xtals /home/ng/.julia/dev/Xtals/src/crystal.jl:433\n"
     ]
    },
    {
     "name": "stdout",
     "output_type": "stream",
     "text": [
      "\tSee /home/ng/NiPyC_analogues/analysis/grid_images/experimental_grid_data/data/grids/Ni-PYC-NH2_100mb_Xe_empty_NewGrid.cube\n",
      "See /home/ng/NiPyC_analogues/analysis/grid_images/experimental_grid_data/data/crystals/Ni-PYC-NH2_100mb_Xe_empty_box.vtk\n",
      "Ni-PYC-NH2_500mb_Kr_empty\n"
     ]
    },
    {
     "name": "stderr",
     "output_type": "stream",
     "text": [
      "┌ Info: Crystal Ni-PYC-NH2_500mb_Kr_empty.cif has Pnn2 space group. I am converting it to P1 symmetry.\n",
      "│         To prevent this, pass `convert_to_p1=false` to the `Crystal` constructor.\n",
      "└ @ Xtals /home/ng/.julia/dev/Xtals/src/crystal.jl:433\n"
     ]
    },
    {
     "name": "stdout",
     "output_type": "stream",
     "text": [
      "\tSee /home/ng/NiPyC_analogues/analysis/grid_images/experimental_grid_data/data/grids/Ni-PYC-NH2_500mb_Kr_empty_NewGrid.cube\n",
      "See /home/ng/NiPyC_analogues/analysis/grid_images/experimental_grid_data/data/crystals/Ni-PYC-NH2_500mb_Kr_empty_box.vtk\n",
      "Ni-PYC-NH2_500mb_Xe_empty\n"
     ]
    },
    {
     "name": "stderr",
     "output_type": "stream",
     "text": [
      "┌ Info: Crystal Ni-PYC-NH2_500mb_Xe_empty.cif has Pnn2 space group. I am converting it to P1 symmetry.\n",
      "│         To prevent this, pass `convert_to_p1=false` to the `Crystal` constructor.\n",
      "└ @ Xtals /home/ng/.julia/dev/Xtals/src/crystal.jl:433\n"
     ]
    },
    {
     "name": "stdout",
     "output_type": "stream",
     "text": [
      "\tSee /home/ng/NiPyC_analogues/analysis/grid_images/experimental_grid_data/data/grids/Ni-PYC-NH2_500mb_Xe_empty_NewGrid.cube\n",
      "See /home/ng/NiPyC_analogues/analysis/grid_images/experimental_grid_data/data/crystals/Ni-PYC-NH2_500mb_Xe_empty_box.vtk\n",
      "Ni-PYC-NH2_1000mb_Kr_empty\n"
     ]
    },
    {
     "name": "stderr",
     "output_type": "stream",
     "text": [
      "┌ Info: Crystal Ni-PYC-NH2_1000mb_Kr_empty.cif has Pnn2 space group. I am converting it to P1 symmetry.\n",
      "│         To prevent this, pass `convert_to_p1=false` to the `Crystal` constructor.\n",
      "└ @ Xtals /home/ng/.julia/dev/Xtals/src/crystal.jl:433\n"
     ]
    },
    {
     "name": "stdout",
     "output_type": "stream",
     "text": [
      "\tSee /home/ng/NiPyC_analogues/analysis/grid_images/experimental_grid_data/data/grids/Ni-PYC-NH2_1000mb_Kr_empty_NewGrid.cube\n",
      "See /home/ng/NiPyC_analogues/analysis/grid_images/experimental_grid_data/data/crystals/Ni-PYC-NH2_1000mb_Kr_empty_box.vtk\n",
      "Ni-PYC-NH2_1000mb_Xe_empty\n"
     ]
    },
    {
     "name": "stderr",
     "output_type": "stream",
     "text": [
      "┌ Info: Crystal Ni-PYC-NH2_1000mb_Xe_empty.cif has Pnn2 space group. I am converting it to P1 symmetry.\n",
      "│         To prevent this, pass `convert_to_p1=false` to the `Crystal` constructor.\n",
      "└ @ Xtals /home/ng/.julia/dev/Xtals/src/crystal.jl:433\n"
     ]
    },
    {
     "name": "stdout",
     "output_type": "stream",
     "text": [
      "\tSee /home/ng/NiPyC_analogues/analysis/grid_images/experimental_grid_data/data/grids/Ni-PYC-NH2_1000mb_Xe_empty_NewGrid.cube\n",
      "See /home/ng/NiPyC_analogues/analysis/grid_images/experimental_grid_data/data/crystals/Ni-PYC-NH2_1000mb_Xe_empty_box.vtk\n",
      "Ni-PYC-NH2_1700mb_Kr_empty\n"
     ]
    },
    {
     "name": "stderr",
     "output_type": "stream",
     "text": [
      "┌ Info: Crystal Ni-PYC-NH2_1700mb_Kr_empty.cif has Pnn2 space group. I am converting it to P1 symmetry.\n",
      "│         To prevent this, pass `convert_to_p1=false` to the `Crystal` constructor.\n",
      "└ @ Xtals /home/ng/.julia/dev/Xtals/src/crystal.jl:433\n"
     ]
    },
    {
     "name": "stdout",
     "output_type": "stream",
     "text": [
      "\tSee /home/ng/NiPyC_analogues/analysis/grid_images/experimental_grid_data/data/grids/Ni-PYC-NH2_1700mb_Kr_empty_NewGrid.cube\n",
      "See /home/ng/NiPyC_analogues/analysis/grid_images/experimental_grid_data/data/crystals/Ni-PYC-NH2_1700mb_Kr_empty_box.vtk\n",
      "Ni-PYC-NH2_1700mb_Xe_empty\n"
     ]
    },
    {
     "name": "stderr",
     "output_type": "stream",
     "text": [
      "┌ Info: Crystal Ni-PYC-NH2_1700mb_Xe_empty.cif has Pnn2 space group. I am converting it to P1 symmetry.\n",
      "│         To prevent this, pass `convert_to_p1=false` to the `Crystal` constructor.\n",
      "└ @ Xtals /home/ng/.julia/dev/Xtals/src/crystal.jl:433\n"
     ]
    },
    {
     "name": "stdout",
     "output_type": "stream",
     "text": [
      "\tSee /home/ng/NiPyC_analogues/analysis/grid_images/experimental_grid_data/data/grids/Ni-PYC-NH2_1700mb_Xe_empty_NewGrid.cube\n",
      "See /home/ng/NiPyC_analogues/analysis/grid_images/experimental_grid_data/data/crystals/Ni-PYC-NH2_1700mb_Xe_empty_box.vtk\n"
     ]
    }
   ],
   "source": [
    "for grp in fun_grp\n",
    "    for p in pressures\n",
    "        for gas in adsorbates\n",
    "            if grp == \"\" && (gas == \"Kr\"  || ! (p == 1000))\n",
    "                # only have limited data for Ni-PYC\n",
    "                continue\n",
    "            end\n",
    "            \n",
    "            # file naming convention\n",
    "            system = \"Ni-PYC\" * grp * \"_$(p)mb_$(gas)_empty\"\n",
    "            println(system)\n",
    "            \n",
    "            ###\n",
    "            #  1. read in crystal structuer\n",
    "            ###\n",
    "            xtal_filename = system * \".cif\"\n",
    "            xtal = Crystal(xtal_filename, remove_duplicates=true)\n",
    "            \n",
    "            ###\n",
    "            #  2. read in associated cube file\n",
    "            ###\n",
    "            grid_filename = system * \".cube\"\n",
    "            grid = read_cube(grid_filename; has_units=false)\n",
    "            \n",
    "            ###\n",
    "            #  3. define a new grid that is fit to the crystal box\n",
    "            ###\n",
    "            box = Box(xtal.box.a, xtal.box.b, xtal.box.c, \n",
    "                      grid.box.α, grid.box.β, grid.box.γ)\n",
    "\n",
    "            new_grid = Grid(box, grid.n_pts, \n",
    "                            grid.data, grid.units, grid.origin)\n",
    "            \n",
    "            ###\n",
    "            #  4. write new grid as cube file\n",
    "            ###\n",
    "            write_cube(new_grid, \n",
    "                       split(grid_filename, \".\")[1] * \"_NewGrid.cube\")\n",
    "            \n",
    "            ###\n",
    "            #  5. replicate crystal and write xyz and vtk files\n",
    "            ###\n",
    "            rep_xtal = replicate(xtal, rep_factors)\n",
    "\n",
    "            write_xyz(Cart(rep_xtal.atoms, rep_xtal.box), \n",
    "                      joinpath(rc[:paths][:crystals], \n",
    "                      split(xtal.name, \".\")[1] * \"_atoms.xyz\"))\n",
    "\n",
    "            write_vtk(rep_xtal.box, \n",
    "                      joinpath(rc[:paths][:crystals], \n",
    "                      split(xtal.name, \".\")[1] * \"_box.vtk\"))\n",
    "        end\n",
    "    end\n",
    "end"
   ]
  }
 ],
 "metadata": {
  "kernelspec": {
   "display_name": "Julia 1.6.2",
   "language": "julia",
   "name": "julia-1.6"
  },
  "language_info": {
   "file_extension": ".jl",
   "mimetype": "application/julia",
   "name": "julia",
   "version": "1.6.2"
  }
 },
 "nbformat": 4,
 "nbformat_minor": 5
}
