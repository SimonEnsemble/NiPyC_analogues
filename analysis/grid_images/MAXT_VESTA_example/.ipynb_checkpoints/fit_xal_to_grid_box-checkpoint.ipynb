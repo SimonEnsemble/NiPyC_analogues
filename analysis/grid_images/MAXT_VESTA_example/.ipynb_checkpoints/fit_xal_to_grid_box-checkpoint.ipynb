{
 "cells": [
  {
   "cell_type": "code",
   "execution_count": 1,
   "id": "42eb4547",
   "metadata": {
    "scrolled": false
   },
   "outputs": [
    {
     "name": "stderr",
     "output_type": "stream",
     "text": [
      "┌ Warning: forcefields path directory not found\n",
      "│   path = /home/ng/NiPyC_analogues/analysis/grid_images/MAXT_VESTA_example/data/forcefields\n",
      "└ @ Xtals /home/ng/.julia/dev/Xtals/src/misc.jl:181\n",
      "┌ Warning: molecules path directory not found\n",
      "│   path = /home/ng/NiPyC_analogues/analysis/grid_images/MAXT_VESTA_example/data/molecules\n",
      "└ @ Xtals /home/ng/.julia/dev/Xtals/src/misc.jl:181\n",
      "┌ Warning: simulations path directory not found\n",
      "│   path = /home/ng/NiPyC_analogues/analysis/grid_images/MAXT_VESTA_example/data/simulations\n",
      "└ @ Xtals /home/ng/.julia/dev/Xtals/src/misc.jl:181\n"
     ]
    }
   ],
   "source": [
    "using PorousMaterials"
   ]
  },
  {
   "cell_type": "code",
   "execution_count": 2,
   "id": "a7af500b",
   "metadata": {},
   "outputs": [
    {
     "data": {
      "text/plain": [
       "(2, 2, 2)"
      ]
     },
     "execution_count": 2,
     "metadata": {},
     "output_type": "execute_result"
    }
   ],
   "source": [
    "system = \"Ni-PYC-NH2_1000mb_Xe_empty\"\n",
    "rep_factors = (2, 2, 2)"
   ]
  },
  {
   "cell_type": "code",
   "execution_count": 3,
   "id": "ee65d56d",
   "metadata": {
    "scrolled": false
   },
   "outputs": [
    {
     "name": "stderr",
     "output_type": "stream",
     "text": [
      "┌ Info: Crystal Ni-PYC-NH2_1000mb_Xe_empty.cif has Pnn2 space group. I am converting it to P1 symmetry.\n",
      "│         To prevent this, pass `convert_to_p1=false` to the `Crystal` constructor.\n",
      "└ @ Xtals /home/ng/.julia/dev/Xtals/src/crystal.jl:433\n"
     ]
    },
    {
     "data": {
      "text/plain": [
       "Name: Ni-PYC-NH2_1000mb_Xe_empty.cif\n",
       "Bravais unit cell of a crystal.\n",
       "\tUnit cell angles α = 90.000000 deg. β = 90.000000 deg. γ = 90.000000 deg.\n",
       "\tUnit cell dimensions a = 11.903900 Å. b = 7.075900 Å, c = 10.635900 Å\n",
       "\tVolume of unit cell: 895.870430 Å³\n",
       "\n",
       "\t# atoms = 62\n",
       "\t# charges = 0\n",
       "\tchemical formula: Dict(:N => 4, :H => 10, :Ni => 1, :O => 4, :C => 12)\n",
       "\tspace Group: P1\n",
       "\tsymmetry Operations:\n",
       "\t\t'x, y, z'\n"
      ]
     },
     "execution_count": 3,
     "metadata": {},
     "output_type": "execute_result"
    }
   ],
   "source": [
    "###\n",
    "#  1. read in crystal structuer\n",
    "###\n",
    "xtal_filename = system * \".cif\"\n",
    "xtal = Crystal(xtal_filename, remove_duplicates=true)"
   ]
  },
  {
   "cell_type": "code",
   "execution_count": 4,
   "id": "c6e6b69a",
   "metadata": {},
   "outputs": [
    {
     "data": {
      "text/plain": [
       "Regular grid of 120 by 70 by 106 points superimposed over a unit cell and associated data.\n",
       "\tunits of data attribute: missing\n",
       "\torigin: [0.000000, 0.000000, 0.000000]\n"
      ]
     },
     "execution_count": 4,
     "metadata": {},
     "output_type": "execute_result"
    }
   ],
   "source": [
    "###\n",
    "#  2. read in associated cube file\n",
    "###\n",
    "grid_filename = system * \".cube\"\n",
    "grid = read_cube(grid_filename; has_units=false)"
   ]
  },
  {
   "cell_type": "code",
   "execution_count": 5,
   "id": "749c48f1",
   "metadata": {
    "scrolled": true
   },
   "outputs": [
    {
     "data": {
      "text/plain": [
       "Regular grid of 120 by 70 by 106 points superimposed over a unit cell and associated data.\n",
       "\tunits of data attribute: missing\n",
       "\torigin: [0.000000, 0.000000, 0.000000]\n"
      ]
     },
     "execution_count": 5,
     "metadata": {},
     "output_type": "execute_result"
    }
   ],
   "source": [
    "###\n",
    "#  3. define a new grid that is fit to the crystal box\n",
    "###\n",
    "box = Box(xtal.box.a, xtal.box.b, xtal.box.c, \n",
    "          grid.box.α, grid.box.β, grid.box.γ)\n",
    "\n",
    "new_grid = Grid(box, grid.n_pts, \n",
    "                grid.data, grid.units, grid.origin)"
   ]
  },
  {
   "cell_type": "code",
   "execution_count": 6,
   "id": "5a5894f8",
   "metadata": {},
   "outputs": [
    {
     "name": "stdout",
     "output_type": "stream",
     "text": [
      "\tSee /home/ng/NiPyC_analogues/analysis/grid_images/MAXT_VESTA_example/data/grids/Ni-PYC-NH2_1000mb_Xe_empty_NewGrid.cube\n"
     ]
    }
   ],
   "source": [
    "###\n",
    "#  4. write new grid as cube file\n",
    "###\n",
    "write_cube(new_grid, \n",
    "           split(grid_filename, \".\")[1] * \"_NewGrid.cube\")"
   ]
  },
  {
   "cell_type": "code",
   "execution_count": 7,
   "id": "fa8eee72",
   "metadata": {},
   "outputs": [
    {
     "name": "stdout",
     "output_type": "stream",
     "text": [
      "See /home/ng/NiPyC_analogues/analysis/grid_images/MAXT_VESTA_example/data/crystals/Ni-PYC-NH2_1000mb_Xe_empty_box.vtk\n"
     ]
    }
   ],
   "source": [
    "###\n",
    "#  5. replicate crystal and write xyz and vtk files\n",
    "###\n",
    "rep_xtal = replicate(xtal, rep_factors)\n",
    "\n",
    "write_xyz(Cart(rep_xtal.atoms, rep_xtal.box), \n",
    "          joinpath(rc[:paths][:crystals], \n",
    "          split(xtal.name, \".\")[1] * \"_atoms.xyz\"))\n",
    "\n",
    "write_vtk(rep_xtal.box, \n",
    "          joinpath(rc[:paths][:crystals], \n",
    "          split(xtal.name, \".\")[1] * \"_box.vtk\"))"
   ]
  },
  {
   "cell_type": "code",
   "execution_count": 8,
   "id": "0cf6e683",
   "metadata": {
    "scrolled": false
   },
   "outputs": [],
   "source": [
    "# ids_keep = falses(xtal.atoms.n)\n",
    "\n",
    "# x  = Cart(xtal.atoms.coords, xtal.box)\n",
    "# xf = Frac(x, new_grid.box)\n",
    "\n",
    "# for i in 1:xtal.atoms.n\n",
    "#     if all(xf.xf[:, i] .< 1.0) && all(xf.xf[:, i] .> 0.0)\n",
    "#         ids_keep[i] = true\n",
    "#     end\n",
    "# end\n",
    "\n",
    "# atoms = xtal.atoms[ids_keep]"
   ]
  },
  {
   "cell_type": "code",
   "execution_count": 9,
   "id": "147302ef",
   "metadata": {},
   "outputs": [],
   "source": [
    "# write_xyz(Cart(atoms, new_grid.box), \n",
    "#           joinpath(rc[:paths][:crystals], \n",
    "#           split(xtal.name, \".\")[1] * \"_atoms.xyz\"))"
   ]
  },
  {
   "cell_type": "code",
   "execution_count": 10,
   "id": "a26139a0",
   "metadata": {},
   "outputs": [],
   "source": [
    "# write_vtk(new_grid.box, \n",
    "#           joinpath(rc[:paths][:crystals], \n",
    "#           xtal.name * \"_grid_box.vtk\"))"
   ]
  }
 ],
 "metadata": {
  "kernelspec": {
   "display_name": "Julia 1.6.2",
   "language": "julia",
   "name": "julia-1.6"
  },
  "language_info": {
   "file_extension": ".jl",
   "mimetype": "application/julia",
   "name": "julia",
   "version": "1.6.2"
  }
 },
 "nbformat": 4,
 "nbformat_minor": 5
}
