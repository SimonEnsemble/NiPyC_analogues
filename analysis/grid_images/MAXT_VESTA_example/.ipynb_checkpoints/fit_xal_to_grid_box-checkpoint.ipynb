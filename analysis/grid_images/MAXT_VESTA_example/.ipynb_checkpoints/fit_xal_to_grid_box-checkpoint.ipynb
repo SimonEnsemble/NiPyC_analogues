{
 "cells": [
  {
   "cell_type": "code",
   "execution_count": 1,
   "id": "42eb4547",
   "metadata": {
    "scrolled": true
   },
   "outputs": [
    {
     "name": "stderr",
     "output_type": "stream",
     "text": [
      "┌ Warning: forcefields path directory not found\n",
      "│   path = /home/ng/NiPyC_analogues/analysis/grid_images/MAXT_VESTA_example/data/forcefields\n",
      "└ @ Xtals /home/ng/.julia/dev/Xtals/src/misc.jl:181\n",
      "┌ Warning: molecules path directory not found\n",
      "│   path = /home/ng/NiPyC_analogues/analysis/grid_images/MAXT_VESTA_example/data/molecules\n",
      "└ @ Xtals /home/ng/.julia/dev/Xtals/src/misc.jl:181\n",
      "┌ Warning: simulations path directory not found\n",
      "│   path = /home/ng/NiPyC_analogues/analysis/grid_images/MAXT_VESTA_example/data/simulations\n",
      "└ @ Xtals /home/ng/.julia/dev/Xtals/src/misc.jl:181\n"
     ]
    }
   ],
   "source": [
    "using PorousMaterials"
   ]
  },
  {
   "cell_type": "code",
   "execution_count": 2,
   "id": "6fff16c8",
   "metadata": {},
   "outputs": [
    {
     "data": {
      "text/plain": [
       "get_box_from_cube_file (generic function with 1 method)"
      ]
     },
     "execution_count": 2,
     "metadata": {},
     "output_type": "execute_result"
    }
   ],
   "source": [
    "# The `.cube` file is formatted diferently than `PorousMaterials.jl` is designed to read, \n",
    "# I will have to construct the boxes manually by reading in the `f_to_c` from the cube file.\n",
    "function get_box_from_cube_file(filename::AbstractString)\n",
    "    if ! occursin(\".cube\", filename)\n",
    "        filename *= \".cube\"\n",
    "    end \n",
    "\n",
    "    cubefile = open(joinpath(rc[:paths][:grids], filename))\n",
    "\n",
    "    # waste two lines\n",
    "    line = readline(cubefile)\n",
    "    units = Symbol(split(line)[4])\n",
    "    readline(cubefile)\n",
    "\n",
    "    # read origin\n",
    "    line = readline(cubefile)\n",
    "    origin = [parse(Float64, split(line)[1 + i]) for i = 1:3]\n",
    "\n",
    "    # read box info\n",
    "    box_lines = [readline(cubefile) for _ ∈ 1:3]\n",
    "\n",
    "    # number of grid pts \n",
    "    n_pts = Tuple([parse(Int, split(box_lines[i])[1]) for i = 1:3])\n",
    "\n",
    "    # f_to_c matrix (given by voxel vectors)\n",
    "    f_to_c = zeros(Float64, 3, 3)\n",
    "    for i = 1:3, j=1:3\n",
    "        f_to_c[j, i] = parse(Float64, split(box_lines[i])[j + 1]) \n",
    "    end \n",
    "    for k = 1:3 \n",
    "        f_to_c[:, k] = f_to_c[:, k] * (n_pts[k] - 1.0)\n",
    "    end \n",
    "\n",
    "    # reconstruct box from f_to_c matrix\n",
    "    box = Box(f_to_c)\n",
    "    \n",
    "    return box\n",
    "end"
   ]
  },
  {
   "cell_type": "code",
   "execution_count": 3,
   "id": "ee65d56d",
   "metadata": {},
   "outputs": [
    {
     "name": "stderr",
     "output_type": "stream",
     "text": [
      "┌ Info: Crystal Ni-PYC_1000mb_Xe_empty.cif has Pnn2 space group. I am converting it to P1 symmetry.\n",
      "│         To prevent this, pass `convert_to_p1=false` to the `Crystal` constructor.\n",
      "└ @ Xtals /home/ng/.julia/dev/Xtals/src/crystal.jl:433\n"
     ]
    },
    {
     "data": {
      "text/plain": [
       "Name: Ni-PYC_1000mb_Xe_empty.cif\n",
       "Bravais unit cell of a crystal.\n",
       "\tUnit cell angles α = 90.000000 deg. β = 90.000000 deg. γ = 90.000000 deg.\n",
       "\tUnit cell dimensions a = 25.020000 Å. b = 12.797400 Å, c = 20.572000 Å\n",
       "\tVolume of unit cell: 6586.968182 Å³\n",
       "\n",
       "\t# atoms = 432\n",
       "\t# charges = 0\n",
       "\tchemical formula: Dict(:N => 2, :H => 8, :Ni => 1, :O => 4, :C => 12)\n",
       "\tspace Group: P1\n",
       "\tsymmetry Operations:\n",
       "\t\t'x, y, z'\n"
      ]
     },
     "execution_count": 3,
     "metadata": {},
     "output_type": "execute_result"
    }
   ],
   "source": [
    "xtal_filename = \"Ni-PYC_1000mb_Xe_empty.cif\" #ARGS[1]\n",
    "xtal = Crystal(xtal_filename, remove_duplicates=true)\n",
    "xtal = replicate(xtal, (2, 2, 2))"
   ]
  },
  {
   "cell_type": "code",
   "execution_count": 4,
   "id": "caeeffaf",
   "metadata": {},
   "outputs": [
    {
     "data": {
      "text/plain": [
       "Bravais unit cell of a crystal.\n",
       "\tUnit cell angles α = 90.000000 deg. β = 90.000000 deg. γ = 90.000000 deg.\n",
       "\tUnit cell dimensions a = 23.452875 Å. b = 11.902842 Å, c = 19.247166 Å\n",
       "\tVolume of unit cell: 5372.959285 Å³\n"
      ]
     },
     "execution_count": 4,
     "metadata": {},
     "output_type": "execute_result"
    }
   ],
   "source": [
    "grid_filename = \"Ni-PYC_1000mb_Xe_empty.cube\" #ARGS[2]\n",
    "box = get_box_from_cube_file(grid_filename)"
   ]
  },
  {
   "cell_type": "code",
   "execution_count": 5,
   "id": "0cf6e683",
   "metadata": {},
   "outputs": [
    {
     "data": {
      "text/plain": [
       "Atoms{Frac}(360, [:Ni, :N, :O, :O, :C, :C, :C, :H, :C, :H  …  :H, :N, :O, :C, :C, :H, :C, :H, :C, :H], Frac([0.25 0.3016325 … 0.5692765 0.620529; 0.0 0.4362805 … 0.9140185000000001 0.5243075; 0.478065 0.0438385 … 0.7847817500000001 0.8180700000000001]))"
      ]
     },
     "execution_count": 5,
     "metadata": {},
     "output_type": "execute_result"
    }
   ],
   "source": [
    "ids_keep = falses(xtal.atoms.n)\n",
    "\n",
    "x  = Cart(xtal.atoms.coords, xtal.box)\n",
    "xf = Frac(x, box)\n",
    "\n",
    "for i in 1:xtal.atoms.n\n",
    "    if all(xf.xf[:, i] .< 1.0) && all(xf.xf[:, i] .> 0.0)\n",
    "        ids_keep[i] = true\n",
    "    end\n",
    "end\n",
    "\n",
    "atoms = xtal.atoms[ids_keep]"
   ]
  },
  {
   "cell_type": "code",
   "execution_count": 6,
   "id": "a26139a0",
   "metadata": {},
   "outputs": [
    {
     "name": "stdout",
     "output_type": "stream",
     "text": [
      "See /home/ng/NiPyC_analogues/analysis/grid_images/MAXT_VESTA_example/Ni-PYC_1000mb_Xe_empty.cif_grid_box.vtk\n"
     ]
    }
   ],
   "source": [
    "write_xyz(Cart(atoms, xtal.box), joinpath(pwd(), split(xtal.name, \".\")[1] * \"_atoms.xyz\"))\n",
    "\n",
    "write_vtk(box, joinpath(pwd(), xtal.name * \"_grid_box.vtk\"))"
   ]
  }
 ],
 "metadata": {
  "kernelspec": {
   "display_name": "Julia 1.6.2",
   "language": "julia",
   "name": "julia-1.6"
  },
  "language_info": {
   "file_extension": ".jl",
   "mimetype": "application/julia",
   "name": "julia",
   "version": "1.6.2"
  }
 },
 "nbformat": 4,
 "nbformat_minor": 5
}
