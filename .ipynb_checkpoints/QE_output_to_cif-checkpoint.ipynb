{
 "cells": [
  {
   "cell_type": "markdown",
   "metadata": {},
   "source": [
    "# QE to cif"
   ]
  },
  {
   "cell_type": "code",
   "execution_count": 1,
   "metadata": {},
   "outputs": [],
   "source": [
    "using PorousMaterials"
   ]
  },
  {
   "cell_type": "code",
   "execution_count": 2,
   "metadata": {},
   "outputs": [
    {
     "data": {
      "text/plain": [
       "true"
      ]
     },
     "execution_count": 2,
     "metadata": {},
     "output_type": "execute_result"
    }
   ],
   "source": [
    "xtal_name = \"NiPyC2_relax.cif\"\n",
    "crystal = Crystal(xtal_name)\n",
    "n_atoms = crystal.atoms.n\n",
    "\n",
    "# determine if we need to extract lattice params from QE file\n",
    "if \"relax\" in split(xtal_name, \"_\") || ! (\"vc-relax\" in split(xtal_name, \"_\"))\n",
    "    same_vol = true\n",
    "elseif \"vc-relax\" in split(xtal_name, \"_\")\n",
    "    same_vol = false\n",
    "end"
   ]
  },
  {
   "cell_type": "code",
   "execution_count": 5,
   "metadata": {},
   "outputs": [],
   "source": [
    "# open file and read its contents\n",
    "fname = \"pw_NiPyC2_P1.relax.out\"\n",
    "PATH_TO_FILE = joinpath(pwd(), \"structural_relaxation\", fname)\n",
    "_f = open(PATH_TO_FILE)\n",
    "lines = readlines(_f)\n",
    "close(_f)"
   ]
  },
  {
   "cell_type": "code",
   "execution_count": 5,
   "metadata": {},
   "outputs": [
    {
     "data": {
      "text/plain": [
       "3×0 Array{Float64,2}"
      ]
     },
     "execution_count": 5,
     "metadata": {},
     "output_type": "execute_result"
    }
   ],
   "source": [
    "# Initialize arrays\n",
    "charge_values = Array{Float64, 1}()\n",
    "species = Array{Symbol, 1}()\n",
    "xf = Array{Float64, 1}()\n",
    "yf = Array{Float64, 1}()\n",
    "zf = Array{Float64, 1}()\n",
    "coords = Array{Float64, 2}(undef, 3, 0)"
   ]
  },
  {
   "cell_type": "code",
   "execution_count": 6,
   "metadata": {},
   "outputs": [
    {
     "data": {
      "text/plain": [
       "3-element Array{SubString{String},1}:\n",
       " \"End\"        \n",
       " \"final\"      \n",
       " \"coordinates\""
      ]
     },
     "execution_count": 6,
     "metadata": {},
     "output_type": "execute_result"
    }
   ],
   "source": [
    "start_coords = split(\"Begin final coordinates\")\n",
    "atom_pos = \"ATOMIC_POSITIONS\"\n",
    "end_corods = split(\"End final coordinates\")"
   ]
  },
  {
   "cell_type": "code",
   "execution_count": 7,
   "metadata": {},
   "outputs": [
    {
     "ename": "InterruptException",
     "evalue": "InterruptException:",
     "output_type": "error",
     "traceback": [
      "InterruptException:",
      "",
      "Stacktrace:",
      " [1] top-level scope at ./In[7]:21"
     ]
    }
   ],
   "source": [
    "i = 1\n",
    "while i <= length(lines)\n",
    "    line = split(lines[i])\n",
    "#     # skip empty lines\n",
    "#     if length(line) == 0\n",
    "#         i += 1\n",
    "#         continue\n",
    "#     end\n",
    "    \n",
    "    # find the final coordinates\n",
    "    if line == start_coords \n",
    "        for j in 1:n_atoms\n",
    "            new_line = split(lines[i + 2 + j])\n",
    "            push!(species, Symbol(new_line[1]))\n",
    "            push!(xf, parse(Float64, new_line[2]))\n",
    "            push!(yf, parse(Float64, new_line[3]))\n",
    "            push!(zf, parse(Float64, new_line[4]))\n",
    "        end\n",
    "        \n",
    "        for j = 1:n_atoms\n",
    "            coords = [ coords [xf[j], yf[j], zf[j]] ]\n",
    "        end\n",
    "    else\n",
    "        i += 1\n",
    "#         continue\n",
    "    end\n",
    "end"
   ]
  },
  {
   "cell_type": "code",
   "execution_count": 8,
   "metadata": {},
   "outputs": [
    {
     "data": {
      "text/plain": [
       "3×1123262 Array{Float64,2}:\n",
       " 0.494005  0.999947  0.245553  0.74242   …  0.250199  0.946142  0.442276\n",
       " 0.751486  0.247999  0.347691  0.650977     0.852354  0.356155  0.641421\n",
       " 0.836326  0.339179  0.382872  0.881291     0.876259  0.482997  0.97988 "
      ]
     },
     "execution_count": 8,
     "metadata": {},
     "output_type": "execute_result"
    }
   ],
   "source": [
    "coords"
   ]
  },
  {
   "cell_type": "code",
   "execution_count": 9,
   "metadata": {},
   "outputs": [],
   "source": [
    "atoms_f = Atoms(species, Frac(coords))\n",
    "charges_f = Charges{Frac}(0) # create an empty charge struct\n",
    "\n",
    "qe_relaxed_xtal = Crystal(\"QE_\" * crystal.name, crystal.box,\n",
    "    atoms_f, charges_f)"
   ]
  },
  {
   "cell_type": "code",
   "execution_count": 10,
   "metadata": {},
   "outputs": [],
   "source": [
    "write_cif(qe_relaxed_xtal)"
   ]
  }
 ],
 "metadata": {
  "kernelspec": {
   "display_name": "Julia 1.3.1",
   "language": "julia",
   "name": "julia-1.3"
  },
  "language_info": {
   "file_extension": ".jl",
   "mimetype": "application/julia",
   "name": "julia",
   "version": "1.3.1"
  }
 },
 "nbformat": 4,
 "nbformat_minor": 4
}
