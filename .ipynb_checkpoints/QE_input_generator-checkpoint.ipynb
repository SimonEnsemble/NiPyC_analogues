{
 "cells": [
  {
   "cell_type": "markdown",
   "metadata": {},
   "source": [
    "# QE input script generator\n",
    "This will automate the process of writing input scripts for Quantum Espresso to do the structural optimization of functionalized mofs using the pw.x (plane wave) package and pseudopotential files. \n",
    "\n",
    "**NOTE:** many default arguements will be preset."
   ]
  },
  {
   "cell_type": "code",
   "execution_count": 8,
   "metadata": {},
   "outputs": [],
   "source": [
    "using PorousMaterials\n",
    "using Printf"
   ]
  },
  {
   "cell_type": "code",
   "execution_count": 17,
   "metadata": {},
   "outputs": [
    {
     "data": {
      "text/plain": [
       "\"/home/ng/Documents/Graduate_Research/Cory_Simon/DTRA/pseudo/SSSP_PBEsol_efficiency_pseudos\""
      ]
     },
     "execution_count": 17,
     "metadata": {},
     "output_type": "execute_result"
    }
   ],
   "source": [
    "PATH_TO_PSEUDOPOTENTIALS = joinpath(pwd(),\"QE_scripts\", \"pseudo\",\n",
    "    \"SSSP_PBEsol_efficiency_pseudos\")\n",
    "\n",
    "PATH_TO_MOFS = joinpath(pwd(), \"NiPyC2\")"
   ]
  },
  {
   "cell_type": "code",
   "execution_count": 12,
   "metadata": {},
   "outputs": [
    {
     "data": {
      "text/plain": [
       "Dict{Symbol,String} with 0 entries"
      ]
     },
     "execution_count": 12,
     "metadata": {},
     "output_type": "execute_result"
    }
   ],
   "source": [
    "# populate dictionary with names of pseudopotential files\n",
    "# note: may need to ignore case sensitivity?\n",
    "# ex: atomic_psp[:Ni] = [\"ni_pbesol_v1.4.uspp.F.UPF\"]\n",
    "\n",
    "psp_lib = Dict{Symbol, String}()"
   ]
  },
  {
   "cell_type": "code",
   "execution_count": null,
   "metadata": {},
   "outputs": [],
   "source": [
    "# create a dictionary consisting of input arguements\n",
    "# needed for the script and set default values\n",
    "# then populate with values specific to each material"
   ]
  },
  {
   "cell_type": "code",
   "execution_count": null,
   "metadata": {},
   "outputs": [],
   "source": [
    "# import the functionalized mofs "
   ]
  },
  {
   "cell_type": "code",
   "execution_count": null,
   "metadata": {},
   "outputs": [],
   "source": [
    "filename = \"pw.\" * crystal.name * \"vc-relax.in\""
   ]
  },
  {
   "cell_type": "code",
   "execution_count": null,
   "metadata": {},
   "outputs": [],
   "source": [
    "f = open(filename, \"w\")\n",
    "# @printf(f, \"%s %f\\n\", xtal.atoms.species[s], xtal.atoms.x[s, 1])"
   ]
  },
  {
   "cell_type": "code",
   "execution_count": null,
   "metadata": {},
   "outputs": [],
   "source": [
    "@printf(f,\n",
    "    \"\"\"\n",
    "    &CONTROL\n",
    "    calculation = 'vc-relax'\n",
    "    prefix = '%s'\n",
    "    pseudo_dir = 'pseudo/SSSP_PBEsol_efficiency_pseudos/'\n",
    "    wf_collect=.false.\n",
    "    /\n",
    "    &SYSTEM\n",
    "    ibrav = 0,\n",
    "    nat = %.0f,\n",
    "    ntyp = %.0f,\n",
    "    tot_charge = %f,\n",
    "    ecutwfc = %f,\n",
    "    vdw_corr='grimme-d2'\n",
    "    /\n",
    "    &ELECTRONS\n",
    "    diagonalization='david',\n",
    "    /\n",
    "    &IONS\n",
    "    ion_dynamics='bfgs',\n",
    "    /\n",
    "    &CELL\n",
    "    cell_dynamics='bfgs'\n",
    "    cell_dofree='xyz'\n",
    "    /\n",
    "    ATOMIC_SPECIES\n",
    "    #symbol #atomic_mass #pseudo\n",
    "    CELL_PARAMETERS (angstrom)\n",
    "    # matrix\n",
    "    ATOMIC_POSITIONS\n",
    "    #symbol #x #y #z\n",
    "    K_POINTS {gamma}\n",
    "    \"\"\",\n",
    "    args)"
   ]
  },
  {
   "cell_type": "code",
   "execution_count": 1,
   "metadata": {},
   "outputs": [
    {
     "ename": "UndefVarError",
     "evalue": "UndefVarError: f not defined",
     "output_type": "error",
     "traceback": [
      "UndefVarError: f not defined",
      "",
      "Stacktrace:",
      " [1] top-level scope at In[1]:1"
     ]
    }
   ],
   "source": [
    "close(f)"
   ]
  },
  {
   "cell_type": "code",
   "execution_count": null,
   "metadata": {},
   "outputs": [],
   "source": [
    "# how do I write the cell parameters and\n",
    "# atomic positions as a formatted string?"
   ]
  }
 ],
 "metadata": {
  "kernelspec": {
   "display_name": "Julia 1.3.1",
   "language": "julia",
   "name": "julia-1.3"
  },
  "language_info": {
   "file_extension": ".jl",
   "mimetype": "application/julia",
   "name": "julia",
   "version": "1.3.1"
  }
 },
 "nbformat": 4,
 "nbformat_minor": 4
}
