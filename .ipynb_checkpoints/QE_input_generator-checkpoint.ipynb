{
 "cells": [
  {
   "cell_type": "markdown",
   "metadata": {},
   "source": [
    "# QE input script generator\n",
    "This will automate the process of writing input scripts for Quantum Espresso to do the structural optimization of functionalized mofs using the pw.x (plane wave) package and pseudopotential files. \n",
    "\n",
    "**NOTE:** many default arguements will be preset."
   ]
  },
  {
   "cell_type": "code",
   "execution_count": 6,
   "metadata": {},
   "outputs": [],
   "source": [
    "using PorousMaterials\n",
    "using Printf"
   ]
  },
  {
   "cell_type": "code",
   "execution_count": 7,
   "metadata": {},
   "outputs": [
    {
     "data": {
      "text/plain": [
       "\"/home/ng/DTRA/mof_construction/NiPyC2_sc211_relax\""
      ]
     },
     "execution_count": 7,
     "metadata": {},
     "output_type": "execute_result"
    }
   ],
   "source": [
    "which_crystal = \"NiPyC2\"\n",
    "replication_id = \"sc211_\" # super cell 2x1x1\n",
    "qe_run_type = \"relax\"\n",
    "\n",
    "# name of the directory containing functionalixed structures\n",
    "mof_dir_name = which_crystal * \"_\" * replication_id * qe_run_type\n",
    "\n",
    "@eval PorousMaterials PATH_TO_CRYSTALS = joinpath(pwd(), \"mof_construction\",\n",
    "    \"NiPyC2_sc211_relax\") "
   ]
  },
  {
   "cell_type": "code",
   "execution_count": 8,
   "metadata": {},
   "outputs": [],
   "source": [
    "# # The name of the fragment\n",
    "# # file must be a .xyz file located in ./fragments/\n",
    "# # The atom species that is bonded to the :C_aro_R atom on the ring segment of the Fragment\n",
    "# fragment_list = [\"Br\", \"CH2-CH2-CH3\", \"CH2-CH3\", \"CH3\", \n",
    "#                 \"Cl\", \"C-N\", \"F\", \"NH2\", \"N-NH\", \n",
    "#                 \"O-CH2-CH2-CH3\", \"O-CH2-CH3\", \"O-CH3\", \"OH\"]\n",
    "\n",
    "# # The type of Arene Substitution (\"ortho\", \"meta\", \"all\") \n",
    "# # TODO: \"all\" not yet implimented\n",
    "# substitution_types = [\"ortho\", \"meta\"]"
   ]
  },
  {
   "cell_type": "code",
   "execution_count": 9,
   "metadata": {},
   "outputs": [],
   "source": [
    "# base_name = \"NiPyC2_relax\"\n",
    "# xtals = Dict{String, Crystal}()\n",
    "\n",
    "# for frag in fragment_list\n",
    "#     for sub_typ in substitution_types\n",
    "#         xtal_name = base_name * \"_\" * sub_typ * \"_functionalized_\" * frag\n",
    "#         xtals[xtal_name] = Crystal(xtal_name * \".cif\")\n",
    "#     end\n",
    "# end"
   ]
  },
  {
   "cell_type": "code",
   "execution_count": 11,
   "metadata": {},
   "outputs": [],
   "source": [
    "# import the functionalized mofs \n",
    "crystal = Crystal(\"NiPyC2_relax_meta_functionalized_NH2.cif\")\n",
    "strip_numbers_from_atom_labels!(crystal)"
   ]
  },
  {
   "cell_type": "code",
   "execution_count": 23,
   "metadata": {},
   "outputs": [
    {
     "data": {
      "text/plain": [
       "0"
      ]
     },
     "execution_count": 23,
     "metadata": {},
     "output_type": "execute_result"
    }
   ],
   "source": [
    "crystal"
   ]
  },
  {
   "cell_type": "code",
   "execution_count": 30,
   "metadata": {},
   "outputs": [
    {
     "data": {
      "text/plain": [
       "1-element Array{String,1}:\n",
       " \"{gamma}\""
      ]
     },
     "execution_count": 30,
     "metadata": {},
     "output_type": "execute_result"
    }
   ],
   "source": [
    "# create a dictionary consisting of input arguements\n",
    "# needed for the script and set default values\n",
    "# then populate with values specific to each material\n",
    "# link with full list and description of input params\n",
    "# https://www.quantum-espresso.org/Doc/INPUT_PW.html#__top__\n",
    "\n",
    "input_params = Dict{String, Any}()\n",
    "# &control params\n",
    "input_params[\"crystal\"] = crystal\n",
    "input_params[\"calculation\"] = \"relax\" \n",
    "input_params[\"prefix\"] = split(crystal.name,\".\")[1]\n",
    "input_params[\"pseudo_dir\"] = joinpath(pwd(), \"structural_relaxation\", \"pseudo\")\n",
    "input_params[\"outdir\"] = joinpath(pwd(), \"structural_relaxation\")\n",
    "input_params[\"nstep\"] = 200\n",
    "\n",
    "# &SYSTEM params\n",
    "input_params[\"ibrav\"] = 0\n",
    "input_params[\"nat\"] = crystal.atoms.n\n",
    "input_params[\"ntyp\"] = 6 # treat Ni specially\n",
    "input_params[\"tot_charge\"] = crystal.charges.n\n",
    "input_params[\"ecutwfc\"] = 100.0\n",
    "input_params[\"vdw_corr\"] = \"grimme-d2\"\n",
    "input_params[\"occupations\"] = \"smearing\"\n",
    "input_params[\"degauss\"] = 0.2\n",
    "input_params[\"smearing\"] = \"mv\"\n",
    "input_params[\"nspin\"] = 2\n",
    "input_params[\"sub_lat_species_index\"] = [\"1\", \"2\"]\n",
    "input_params[\"starting_magnetization\"] = [0.25, 0.25]\n",
    "input_params[\"tot_magnetization\"] = 8 # check calculation\n",
    "\n",
    "# &ELECTRON params\n",
    "input_params[\"electron_maxstep\"] = 90\n",
    "input_params[\"mixing_mode\"] = \"local-TF\"\n",
    "input_params[\"diagonalizatio\"] = \"david\"\n",
    "\n",
    "# &IONS params\n",
    "input_params[\"ion_dynamics\"] = \"bfgs\"\n",
    "\n",
    "# &CELL params\n",
    "input_params[\"cell_dynamics\"] = \"bfgs\"\n",
    "input_params[\"cell_dofree\"] = \"xyz\"\n",
    "\n",
    "# K_POINTS params\n",
    "input_params[\"k_points\"] = [\"{gamma}\"]"
   ]
  },
  {
   "cell_type": "code",
   "execution_count": 31,
   "metadata": {},
   "outputs": [
    {
     "data": {
      "text/plain": [
       "1"
      ]
     },
     "execution_count": 31,
     "metadata": {},
     "output_type": "execute_result"
    }
   ],
   "source": [
    "input_params[\"sub_lat_species_index\"][1]"
   ]
  },
  {
   "cell_type": "code",
   "execution_count": 5,
   "metadata": {},
   "outputs": [
    {
     "data": {
      "text/plain": [
       "Dict{Symbol,String} with 0 entries"
      ]
     },
     "execution_count": 5,
     "metadata": {},
     "output_type": "execute_result"
    }
   ],
   "source": [
    "# populate dictionary with names of pseudopotential files\n",
    "# note: may need to ignore case sensitivity?\n",
    "# ex: atomic_psp[:Ni] = [\"ni_pbesol_v1.4.uspp.F.UPF\"]\n",
    "\n",
    "ps_lib = Dict{Symbol, String}()\n",
    "ps_lib"
   ]
  },
  {
   "cell_type": "code",
   "execution_count": 30,
   "metadata": {},
   "outputs": [
    {
     "data": {
      "text/plain": [
       "\"pw.NiPyC2_relax_meta_functonalized_NH2.cif.in\""
      ]
     },
     "execution_count": 30,
     "metadata": {},
     "output_type": "execute_result"
    }
   ],
   "source": [
    "filename = \"pw.\" * crystal.name * \".in\""
   ]
  },
  {
   "cell_type": "code",
   "execution_count": 32,
   "metadata": {},
   "outputs": [
    {
     "ename": "UndefVarError",
     "evalue": "UndefVarError: n_count not defined",
     "output_type": "error",
     "traceback": [
      "UndefVarError: n_count not defined",
      "",
      "Stacktrace:",
      " [1] top-level scope at ./In[32]:22"
     ]
    }
   ],
   "source": [
    "qe_input_file = open(filename, \"w\")\n",
    "\n",
    "# write &Control\n",
    "@printf(qe_input_file,\n",
    "    \"\"\"\n",
    "    &CONTROL\n",
    "       calculation = '%s',\n",
    "       prefix = '%s',\n",
    "       pseudo_dir = '%s',\n",
    "       outdir = '%s'\n",
    "       nstep = %.0f,\n",
    "    /\n",
    "    \"\"\",\n",
    "    input_params[\"crystal\"].name, input_params[\"crystal\"].name,\n",
    "    input_params[\"prefix\"], input_params[\"pseudo_dir\"],\n",
    "    input_params[\"outdir\"], input_params[\"nstep\"]\n",
    ")\n",
    "\n",
    "# write &SYSTEM\n",
    "@printf(qe_input_file,\n",
    "    \"\"\"\n",
    "    &SYSTEM\n",
    "       ibrav = %.0f,\n",
    "       nat = %.0f,\n",
    "       ntyp = %0.f,\n",
    "       tot_charge = %f,\n",
    "       ecutwfc = %f,\n",
    "       vdw_corr = '%s',\n",
    "       occupations = '%s',\n",
    "       degauss = %f,\n",
    "       smearing = '%s',\n",
    "       nspin = %.0f ,\n",
    "       starting_magnetization(%s) = %f,\n",
    "       starting_magnetization(%s) = %f,\n",
    "       tot_magnetization = %f\n",
    "    /\n",
    "    \"\"\", \n",
    "    input_params[\"ibrav\"], input_params[\"nat\"],\n",
    "    input_params[\"ntyp\"], input_params[\"tot_charge\"],\n",
    "    input_params[\"ecutwfc\"], input_params[\"vdw_corr\"],\n",
    "    input_params[\"occupations\"], input_params[\"degauss\"],\n",
    "    input_params[\"smearing\"], \n",
    "    input_params[\"sub_lat_species_index\"][1],\n",
    "    input_params[\"starting_magnetization\"][1],\n",
    "    input_params[\"sub_lat_species_index\"][2],\n",
    "    input_params[\"starting_magnetization\"][2],\n",
    "    input_params[\"tot_magnetization\"]\n",
    ")\n",
    "\n",
    "# write &ELECTRONS\n",
    "@printf(qe_input_file,\n",
    "    \"\"\"\n",
    "    &ELECTRONS\n",
    "    electron_maxstep = %0.f,\n",
    "    mixing_mode = '%s',\n",
    "    diagonalization = '%s',\n",
    "    /\n",
    "    \"\"\",\n",
    "    90, \"local-TF\", \"david\"\n",
    ")\n",
    "\n",
    "# write &IONS\n",
    "printf(qe_input_file,\n",
    "    \"\"\"\n",
    "    &IONS\n",
    "    ion_dynamics = '%s',\n",
    "    /\n",
    "    \"\"\",\n",
    "    \"bfgs\"\n",
    ")\n",
    "\n",
    "\n",
    "# write &CELL\n",
    "printf(qe_input_file,\n",
    "    \"\"\"\n",
    "    &CELL\n",
    "    cell_dynamics = '%s'\n",
    "    cell_dofree = '%s'\n",
    "    /\n",
    "    \"\"\",\n",
    "    \"bfgs\", \"xyz\"\n",
    ")\n",
    "\n",
    "# write ATOMIC_SPECIES\n",
    "printf(qe_input_file,\n",
    "    \"\"\"\n",
    "    ATOMIC_SPECIES\n",
    "    %s    %f    %s\n",
    "    \"\"\",\n",
    "    variables\n",
    ")\n",
    "\n",
    "# write K_POINTS\n",
    "printf(qe_input_file,\n",
    "    \"\"\"\n",
    "    K_POINTS %s\n",
    "    \"\"\",\n",
    "    \"{gamma}\"\n",
    ")\n",
    "\n",
    "\n",
    "# write CELL_PARAMETERS\n",
    "printf(qe_input_file,\n",
    "    \"\"\"\n",
    "    CELL_PARAMETERS %s\n",
    "       %f   %f   %f\n",
    "       %f   %f   %f\n",
    "       %f   %f   %f\n",
    "    \"\"\",\n",
    "    \"{angstrom}\",\n",
    ")\n",
    "\n",
    "# write ATOMIC_POSITIONS\n",
    "#symbol #x #y #z\n",
    "ni_count = 1\n",
    "for a = 1:crystal.atoms.n\n",
    "    if crystal.atoms.species[a] == :Ni\n",
    "        ni_count += 1\n",
    "    end\n",
    "    @printf(\"%s    %f  %f  %f\\n\",\n",
    "        crystal.atoms.species[a], \n",
    "        crystal.atoms.coords.xf[1, a], \n",
    "        crystal.atoms.coords.xf[2, a], \n",
    "        crystal.atoms.coords.xf[3, a]\n",
    "    )\n",
    "end\n"
   ]
  },
  {
   "cell_type": "code",
   "execution_count": null,
   "metadata": {},
   "outputs": [],
   "source": [
    "close(qe_input_file)\n",
    "\n",
    "run(`cat $filename`)"
   ]
  },
  {
   "cell_type": "code",
   "execution_count": 8,
   "metadata": {},
   "outputs": [
    {
     "ename": "LoadError",
     "evalue": "ArgumentError: @printf: wrong number of arguments (1) should be (5)",
     "output_type": "error",
     "traceback": [
      "ArgumentError: @printf: wrong number of arguments (1) should be (5)",
      "",
      "Stacktrace:",
      " [1] _printf(::String, ::Expr, ::String, ::Tuple{Symbol}) at ./printf.jl:1202",
      " [2] @printf(::LineNumberNode, ::Module, ::Vararg{Any,N} where N) at /buildworker/worker/package_linux64/build/usr/share/julia/stdlib/v1.3/Printf/src/Printf.jl:43"
     ]
    }
   ],
   "source": [
    "# # use %s for strings, \n",
    "\n",
    "# @printf(f,\n",
    "#     \"\"\"\n",
    "#     &CONTROL\n",
    "#     calculation = 'relax'\n",
    "#     prefix = '%s'\n",
    "#     pseudo_dir = 'pseudo/'\n",
    "#     ! etot_conv_thr=1.0d-6,\n",
    "#     ! \n",
    "#     ! wf_collect=.false.\n",
    "#     /\n",
    "#     &SYSTEM\n",
    "#     ibrav = 0,\n",
    "#     nat = %.0f,\n",
    "#     ntyp = %.0f,\n",
    "#     tot_charge = %f,\n",
    "#     ecutwfc = %f,\n",
    "#     vdw_corr='grimme-d2'\n",
    "#     /\n",
    "#     &ELECTRONS\n",
    "#     diagonalization='david',\n",
    "#     /\n",
    "#     &IONS\n",
    "#     ion_dynamics='bfgs',\n",
    "#     /\n",
    "#     &CELL\n",
    "#     cell_dynamics='bfgs'\n",
    "#     cell_dofree='xyz'\n",
    "#     /\n",
    "#     ATOMIC_SPECIES\n",
    "#     #symbol #atomic_mass #pseudo\n",
    "#     CELL_PARAMETERS (angstrom)\n",
    "#     # matrix\n",
    "#     ATOMIC_POSITIONS\n",
    "#     #symbol #x #y #z\n",
    "#     K_POINTS {gamma}\n",
    "#     \"\"\",\n",
    "    \n",
    "#     args)"
   ]
  },
  {
   "cell_type": "code",
   "execution_count": 9,
   "metadata": {},
   "outputs": [
    {
     "ename": "UndefVarError",
     "evalue": "UndefVarError: f not defined",
     "output_type": "error",
     "traceback": [
      "UndefVarError: f not defined",
      "",
      "Stacktrace:",
      " [1] top-level scope at In[9]:1"
     ]
    }
   ],
   "source": [
    "close(f)"
   ]
  },
  {
   "cell_type": "code",
   "execution_count": 10,
   "metadata": {},
   "outputs": [],
   "source": [
    "# how do I write the cell parameters and\n",
    "# atomic positions as a formatted string?"
   ]
  },
  {
   "cell_type": "code",
   "execution_count": null,
   "metadata": {},
   "outputs": [],
   "source": []
  }
 ],
 "metadata": {
  "kernelspec": {
   "display_name": "Julia 1.3.1",
   "language": "julia",
   "name": "julia-1.3"
  },
  "language_info": {
   "file_extension": ".jl",
   "mimetype": "application/julia",
   "name": "julia",
   "version": "1.3.1"
  }
 },
 "nbformat": 4,
 "nbformat_minor": 4
}
