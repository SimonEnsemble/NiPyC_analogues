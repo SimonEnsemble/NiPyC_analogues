{
 "cells": [
  {
   "cell_type": "markdown",
   "metadata": {},
   "source": [
    "# JLD2 to CSV\n",
    "This script convets `.jld2` files output from `PorousMaterials.jl`'s `gcmc_simulation` function and compiles them into a `.csv` file which can then be imported into a DataFrame.\n",
    "\n",
    "**currently this has to be run on PorousMaterials.jl/master**"
   ]
  },
  {
   "cell_type": "code",
   "execution_count": 1,
   "metadata": {},
   "outputs": [],
   "source": [
    "using PorousMaterials\n",
    "using FileIO\n",
    "# using JLD2\n",
    "using CSV\n",
    "using DataFrames\n",
    "using PyPlot\n",
    "\n",
    "PyPlot.matplotlib.style.use(\"Solarize_Light2\")\n",
    "\n",
    "rcParams = PyPlot.PyDict(PyPlot.matplotlib.\"rcParams\")\n",
    "rcParams[\"font.size\"] = 16;"
   ]
  },
  {
   "cell_type": "code",
   "execution_count": 2,
   "metadata": {},
   "outputs": [
    {
     "data": {
      "text/plain": [
       "3-element Array{String,1}:\n",
       " \"pressure (bar)\"\n",
       " \"fugacity (bar)\"\n",
       " \"⟨N⟩ (mmol/g)\"  "
      ]
     },
     "execution_count": 2,
     "metadata": {},
     "output_type": "execute_result"
    }
   ],
   "source": [
    "# whtat properties do you want to put into the .csv?\n",
    "props_we_want = [\"pressure (bar)\", \"fugacity (bar)\", \"⟨N⟩ (mmol/g)\"]"
   ]
  },
  {
   "cell_type": "code",
   "execution_count": 3,
   "metadata": {},
   "outputs": [
    {
     "data": {
      "text/plain": [
       "50000"
      ]
     },
     "execution_count": 3,
     "metadata": {},
     "output_type": "execute_result"
    }
   ],
   "source": [
    "# isotherm filename values\n",
    "adsorbate = :Kr # : Xe or :Kr\n",
    "\n",
    "temp = Float64(298) # units: K\n",
    "\n",
    "pmin = -2 # minimum pessure in log10, units: bar\n",
    "pmax = 1.2 # maximum pressure (actual value), units: bar\n",
    "nstep = 5 #15 # number of intervals in pressure range\n",
    "\n",
    "ffield = \"UFF\" # \"UFF\" or \"Dreiding\"\n",
    "\n",
    "nburn = 50000 # number of burn cycles\n",
    "nsample = 50000 # number of sample cycles"
   ]
  },
  {
   "cell_type": "code",
   "execution_count": 4,
   "metadata": {},
   "outputs": [
    {
     "data": {
      "text/plain": [
       "Dict{String,String} with 4 entries:\n",
       "  \"NiPyC2_relax_meta_functionalized_OH.cif\"  => \"C3\"\n",
       "  \"NiPyC2_relax_meta_functionalized_NH2.cif\" => \"C4\"\n",
       "  \"NiPyC2_experiment.cif\"                    => \"C1\"\n",
       "  \"NiPyC2_relax.cif\"                         => \"C2\""
      ]
     },
     "execution_count": 4,
     "metadata": {},
     "output_type": "execute_result"
    }
   ],
   "source": [
    "pressures = 10 .^ range(pmin, stop=log10(pmax), length=nstep)\n",
    "\n",
    "frameworks = [\"NiPyC2_experiment.cif\",\n",
    "    \"NiPyC2_relax.cif\", \n",
    "    \"NiPyC2_relax_meta_functionalized_OH.cif\", \n",
    "    \"NiPyC2_relax_meta_functionalized_NH2.cif\"]\n",
    "\n",
    "cof_to_marker = Dict(zip(frameworks, [\"P\", \"x\", \"2\", \"*\", \">\"]))\n",
    "cof_to_color = Dict(zip(frameworks, [\"C$i\" for i = 1:length(frameworks)]))"
   ]
  },
  {
   "cell_type": "code",
   "execution_count": 5,
   "metadata": {},
   "outputs": [
    {
     "data": {
      "text/plain": [
       "\"NiMOF2_Kr_298K.csv\""
      ]
     },
     "execution_count": 5,
     "metadata": {},
     "output_type": "execute_result"
    }
   ],
   "source": [
    "# experimental isotherm data\n",
    "if adsorbate == :Xe\n",
    "    filename = \"NiMOF-2_Xe_298K.csv\"\n",
    "elseif adsorbate == :Kr\n",
    "    filename = \"NiMOF2_Kr_298K.csv\"\n",
    "else\n",
    "    error(\"define experimental data file to use\")\n",
    "end"
   ]
  },
  {
   "cell_type": "code",
   "execution_count": 6,
   "metadata": {},
   "outputs": [
    {
     "data": {
      "text/html": [
       "<table class=\"data-frame\"><thead><tr><th></th><th>p</th><th>P0</th><th>p/p0</th><th>Volume @ STP</th><th>cc/g</th><th>⟨N⟩ (mmol/g)</th><th>pressure (bar)</th></tr><tr><th></th><th>Float64</th><th>Int64</th><th>Float64</th><th>Float64</th><th>Float64</th><th>Float64</th><th>Float64</th></tr></thead><tbody><p>5 rows × 7 columns</p><tr><th>1</th><td>21.6242</td><td>760</td><td>0.0284529</td><td>1.21701</td><td>2.28246</td><td>0.101896</td><td>0.0288299</td></tr><tr><th>2</th><td>36.6543</td><td>760</td><td>0.0482293</td><td>2.04416</td><td>3.83376</td><td>0.17115</td><td>0.0488684</td></tr><tr><th>3</th><td>51.9726</td><td>760</td><td>0.068385</td><td>2.8587</td><td>5.3614</td><td>0.239348</td><td>0.0692911</td></tr><tr><th>4</th><td>74.9403</td><td>760</td><td>0.0986057</td><td>4.0318</td><td>7.56152</td><td>0.337568</td><td>0.0999122</td></tr><tr><th>5</th><td>112.534</td><td>760</td><td>0.148071</td><td>5.83461</td><td>10.9426</td><td>0.48851</td><td>0.150033</td></tr></tbody></table>"
      ],
      "text/latex": [
       "\\begin{tabular}{r|ccccccc}\n",
       "\t& p & P0 & p/p0 & Volume @ STP & cc/g & ⟨N⟩ (mmol/g) & pressure (bar)\\\\\n",
       "\t\\hline\n",
       "\t& Float64 & Int64 & Float64 & Float64 & Float64 & Float64 & Float64\\\\\n",
       "\t\\hline\n",
       "\t1 & 21.6242 & 760 & 0.0284529 & 1.21701 & 2.28246 & 0.101896 & 0.0288299 \\\\\n",
       "\t2 & 36.6543 & 760 & 0.0482293 & 2.04416 & 3.83376 & 0.17115 & 0.0488684 \\\\\n",
       "\t3 & 51.9726 & 760 & 0.068385 & 2.8587 & 5.3614 & 0.239348 & 0.0692911 \\\\\n",
       "\t4 & 74.9403 & 760 & 0.0986057 & 4.0318 & 7.56152 & 0.337568 & 0.0999122 \\\\\n",
       "\t5 & 112.534 & 760 & 0.148071 & 5.83461 & 10.9426 & 0.48851 & 0.150033 \\\\\n",
       "\\end{tabular}\n"
      ],
      "text/plain": [
       "5×7 DataFrame. Omitted printing of 1 columns\n",
       "│ Row │ p       │ P0    │ p/p0      │ Volume @ STP │ cc/g    │ ⟨N⟩ (mmol/g) │\n",
       "│     │ \u001b[90mFloat64\u001b[39m │ \u001b[90mInt64\u001b[39m │ \u001b[90mFloat64\u001b[39m   │ \u001b[90mFloat64\u001b[39m      │ \u001b[90mFloat64\u001b[39m │ \u001b[90mFloat64\u001b[39m      │\n",
       "├─────┼─────────┼───────┼───────────┼──────────────┼─────────┼──────────────┤\n",
       "│ 1   │ 21.6242 │ 760   │ 0.0284529 │ 1.21701      │ 2.28246 │ 0.101896     │\n",
       "│ 2   │ 36.6543 │ 760   │ 0.0482293 │ 2.04416      │ 3.83376 │ 0.17115      │\n",
       "│ 3   │ 51.9726 │ 760   │ 0.068385  │ 2.8587       │ 5.3614  │ 0.239348     │\n",
       "│ 4   │ 74.9403 │ 760   │ 0.0986057 │ 4.0318       │ 7.56152 │ 0.337568     │\n",
       "│ 5   │ 112.534 │ 760   │ 0.148071  │ 5.83461      │ 10.9426 │ 0.48851      │"
      ]
     },
     "execution_count": 6,
     "metadata": {},
     "output_type": "execute_result"
    }
   ],
   "source": [
    "wheres_xenon_data = joinpath(PorousMaterials.PATH_TO_DATA,\n",
    "    \"experimental_isotherm_data\", filename)\n",
    "\n",
    "df_xe_data = CSV.read(wheres_xenon_data)\n",
    "\n",
    "# 1 bar = 0.986923 atm\n",
    "convert = 1/0.986923; # bar/atm\n",
    "df_xe_data[!, Symbol(\"pressure (bar)\")] = vcat(df_xe_data[!, Symbol(\"p/p0\")] * convert)\n",
    "rename!(df_xe_data, Symbol(\"mmol/g\") => Symbol(\"⟨N⟩ (mmol/g)\"))\n",
    "desorp_onset = argmax(df_xe_data[!, :p]) # onset of desorption\n",
    "first(df_xe_data, 5)"
   ]
  },
  {
   "cell_type": "markdown",
   "metadata": {},
   "source": [
    "**TODO:**\n",
    "* consider renaming to \"gcmc_results_to_dataframe\" \n",
    "* should we have this write the dataframe file directly to the gcmc_sims directory?\n",
    "* make input arguements iinto a dictionary (possibly accept as commandline arguments)"
   ]
  },
  {
   "cell_type": "code",
   "execution_count": 7,
   "metadata": {},
   "outputs": [
    {
     "data": {
      "text/plain": [
       "isotherm_sim_results_to_dataframe (generic function with 1 method)"
      ]
     },
     "execution_count": 7,
     "metadata": {},
     "output_type": "execute_result"
    }
   ],
   "source": [
    "function isotherm_sim_results_to_dataframe(props_we_want::Array{String},\n",
    "        frameworkname::String, gas::Symbol, forcefieldname::String, temperature::Float64, \n",
    "        pressures::Array{Float64}, n_burn_cycles::Int, n_sample_cycles::Int; \n",
    "        where_are_jld_files::Union{String, Nothing}=nothing)\n",
    "    \n",
    "    if isnothing(where_are_jld_files)\n",
    "        where_are_jld_files = joinpath(PorousMaterials.PATH_TO_DATA, \"gcmc_sims\")\n",
    "    end\n",
    "    \n",
    "    # prepare dataframe to populate\n",
    "    df = DataFrame()\n",
    "    for col in props_we_want\n",
    "        insertcols!(df, length(names(df)) + 1, Symbol(col) => Float64[])\n",
    "    end\n",
    "\n",
    "    for (i, pressure) in enumerate(pressures)\n",
    "        sim_result = load(\n",
    "            joinpath(where_are_jld_files, \n",
    "                gcmc_result_savename(frameworkname, gas, forcefieldname, \n",
    "                    temperature, pressure, n_burn_cycles, n_sample_cycles) * \".jld2\"\n",
    "            ), \"results\"\n",
    "        )\n",
    "        push!(df, [sim_result[prop] for prop in props_we_want])\n",
    "    end\n",
    "    return df\n",
    "    \n",
    "end"
   ]
  },
  {
   "cell_type": "code",
   "execution_count": 8,
   "metadata": {},
   "outputs": [
    {
     "data": {
      "text/plain": [
       "Dict{String,DataFrame} with 4 entries:\n",
       "  \"NiPyC2_relax_meta_funct… => 5×3 DataFrame…\n",
       "  \"NiPyC2_relax_meta_funct… => 5×3 DataFrame…\n",
       "  \"NiPyC2_experiment.cif\"   => 5×3 DataFrame…\n",
       "  \"NiPyC2_relax.cif\"        => 5×3 DataFrame…"
      ]
     },
     "execution_count": 8,
     "metadata": {},
     "output_type": "execute_result"
    }
   ],
   "source": [
    "cof_to_isotherm = Dict{String, DataFrame}() # must be defined outside of the function if you want to plot\n",
    "\n",
    "for frameworkname in frameworks\n",
    "    cof_to_isotherm[frameworkname] = isotherm_sim_results_to_dataframe(props_we_want, frameworkname,\n",
    "        adsorbate, ffield, temp, pressures, nburn, nsample)\n",
    "    CSV.write(joinpath(\"simulated_isotherm_data\", \"sim_isotherms\", frameworkname * \".csv\"), cof_to_isotherm[frameworkname])\n",
    "end\n",
    "cof_to_isotherm"
   ]
  },
  {
   "cell_type": "code",
   "execution_count": 9,
   "metadata": {},
   "outputs": [
    {
     "data": {
      "text/html": [
       "<table class=\"data-frame\"><thead><tr><th></th><th>pressure (bar)</th><th>fugacity (bar)</th><th>⟨N⟩ (mmol/g)</th></tr><tr><th></th><th>Float64</th><th>Float64</th><th>Float64</th></tr></thead><tbody><p>5 rows × 3 columns</p><tr><th>1</th><td>0.01</td><td>0.01</td><td>0.063779</td></tr><tr><th>2</th><td>0.0330975</td><td>0.0330975</td><td>0.20065</td></tr><tr><th>3</th><td>0.109545</td><td>0.109545</td><td>0.58987</td></tr><tr><th>4</th><td>0.362565</td><td>0.362565</td><td>1.41758</td></tr><tr><th>5</th><td>1.2</td><td>1.2</td><td>2.30862</td></tr></tbody></table>"
      ],
      "text/latex": [
       "\\begin{tabular}{r|ccc}\n",
       "\t& pressure (bar) & fugacity (bar) & ⟨N⟩ (mmol/g)\\\\\n",
       "\t\\hline\n",
       "\t& Float64 & Float64 & Float64\\\\\n",
       "\t\\hline\n",
       "\t1 & 0.01 & 0.01 & 0.063779 \\\\\n",
       "\t2 & 0.0330975 & 0.0330975 & 0.20065 \\\\\n",
       "\t3 & 0.109545 & 0.109545 & 0.58987 \\\\\n",
       "\t4 & 0.362565 & 0.362565 & 1.41758 \\\\\n",
       "\t5 & 1.2 & 1.2 & 2.30862 \\\\\n",
       "\\end{tabular}\n"
      ],
      "text/plain": [
       "5×3 DataFrame\n",
       "│ Row │ pressure (bar) │ fugacity (bar) │ ⟨N⟩ (mmol/g) │\n",
       "│     │ \u001b[90mFloat64\u001b[39m        │ \u001b[90mFloat64\u001b[39m        │ \u001b[90mFloat64\u001b[39m      │\n",
       "├─────┼────────────────┼────────────────┼──────────────┤\n",
       "│ 1   │ 0.01           │ 0.01           │ 0.063779     │\n",
       "│ 2   │ 0.0330975      │ 0.0330975      │ 0.20065      │\n",
       "│ 3   │ 0.109545       │ 0.109545       │ 0.58987      │\n",
       "│ 4   │ 0.362565       │ 0.362565       │ 1.41758      │\n",
       "│ 5   │ 1.2            │ 1.2            │ 2.30862      │"
      ]
     },
     "execution_count": 9,
     "metadata": {},
     "output_type": "execute_result"
    }
   ],
   "source": [
    "first(cof_to_isotherm[\"NiPyC2_relax_meta_functionalized_NH2.cif\"], 5)"
   ]
  },
  {
   "cell_type": "code",
   "execution_count": 10,
   "metadata": {},
   "outputs": [
    {
     "data": {
      "image/png": "[encoded data removed]",
      "text/plain": [
       "Figure(PyObject <Figure size 640x480 with 1 Axes>)"
      ]
     },
     "metadata": {},
     "output_type": "display_data"
    }
   ],
   "source": [
    "figure()\n",
    "for cof in keys(cof_to_isotherm)\n",
    "    scatter(cof_to_isotherm[cof][:, Symbol(\"pressure (bar)\")], \n",
    "         cof_to_isotherm[cof][:, Symbol(\"⟨N⟩ (mmol/g)\")], \n",
    "        label=cof, marker=cof_to_marker[cof],\n",
    "        color=cof_to_color[cof])\n",
    "end\n",
    "scatter(df_xe_data[1:desorp_onset, Symbol(\"pressure (bar)\")], \n",
    "         df_xe_data[1:desorp_onset, Symbol(\"⟨N⟩ (mmol/g)\")], \n",
    "        label=\"exptl_data\", marker=\"v\", color=\"k\")\n",
    "legend(loc=\"best\", fontsize=\"xx-small\", facecolor=\"none\", edgecolor=\"none\")\n",
    "xlabel(\"pressure [bar]\")\n",
    "ylabel(\"$adsorbate uptake [mmol/g]\")\n",
    "title(\"$adsorbate isotherms with $ffield\")\n",
    "xlim(xmin=0)\n",
    "ylim(ymin=0, ymax=4.5)\n",
    "savefig(\"$adsorbate _isotherms_with_ $ffield.png\", format=\"png\")"
   ]
  },
  {
   "cell_type": "code",
   "execution_count": 11,
   "metadata": {},
   "outputs": [],
   "source": [
    "# figure()\n",
    "# plot(cof_to_isotherm[\"NiPyC2_experiment.cif\"][:, Symbol(\"pressure (bar)\")], cof_to_isotherm[\"NiPyC2_experiment.cif\"][:, Symbol(\"fugacity (bar)\")], marker=\"o\")\n",
    "# plot([0, 1.2], [0, 1.2], color=\"k\", linestyle=\"--\")\n",
    "# xlabel(\"pressure (bar)\")\n",
    "# ylabel(\"fugacity (bar)\")\n",
    "# title(\"fugacity versus pressure\")"
   ]
  },
  {
   "cell_type": "code",
   "execution_count": 12,
   "metadata": {},
   "outputs": [],
   "source": [
    "# const xe_critical_pressure = 58.420 # bar\n",
    "# wheres_nist_xenon_data = joinpath(\"data\", \"NIST_data\", \"xenon_NIST_data.txt\")\n",
    "\n",
    "# df_xe_data = CSV.read(wheres_nist_xenon_data)\n",
    "# p_plot = range(0.0, 350.0, length=100)\n",
    "# xe_vdw = VdWFluid(:Xe)\n",
    "# xe_pr = PengRobinsonFluid(:Xe)\n",
    "# ρ_vdw = [1.0 / calculate_properties(xe_vdw, 298.0, p, verbose=false)[\"molar volume (L/mol)\"] for p in p_plot]\n",
    "# ρ_pr = [1.0 / calculate_properties(xe_pr, 298.0, p, verbose=false)[\"molar volume (L/mol)\"] for p in p_plot]\n",
    "\n",
    "# figure()\n",
    "# plot(p_plot, ρ_vdw, label=\"vdw EOS\")\n",
    "# plot(p_plot, ρ_pr, label=\"Peng-Robinson EOS\")\n",
    "# plot(df_xe_data[!, Symbol(\"Pressure (bar)\")], df_xe_data[!, Symbol(\"Density (mol/l)\")], label=\"NIST\")\n",
    "# axvline(x=xe_critical_pressure, linestyle=\"--\", color=\"k\", label=\"crit. pressure\", lw=1)\n",
    "# xlabel(\"pressure [bar]\")\n",
    "# ylabel(\"density [mol/L]\")\n",
    "# title(\"EOS Comparison\")\n",
    "# legend()\n",
    "\n",
    "# # savefig(\"xenon_gas_density.png\", format=\"png\")"
   ]
  },
  {
   "cell_type": "code",
   "execution_count": null,
   "metadata": {},
   "outputs": [],
   "source": []
  }
 ],
 "metadata": {
  "@webio": {
   "lastCommId": "21b70fe7d19542b9a163f282208dc9ca",
   "lastKernelId": "14ad8d31-c8e7-4331-acf7-e6b6fff6293a"
  },
  "kernelspec": {
   "display_name": "Julia 1.3.1",
   "language": "julia",
   "name": "julia-1.3"
  },
  "language_info": {
   "file_extension": ".jl",
   "mimetype": "application/julia",
   "name": "julia",
   "version": "1.3.1"
  }
 },
 "nbformat": 4,
 "nbformat_minor": 2
}
