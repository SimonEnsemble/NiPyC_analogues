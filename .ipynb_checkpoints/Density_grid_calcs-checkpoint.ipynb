{
 "cells": [
  {
   "cell_type": "markdown",
   "metadata": {},
   "source": [
    "Note: To display the density grid calculations, in VisIt, load in the .cube file (must select file type and deselect default option), and deselect options to apply options to all plots/windows. When making density grid plots, use the minimum and maximum energy values displayed inthe legend (don't turn off annotations in VisIt immediately) to *normalize* the color gradient. Make a low quality plot and find a good viewing angle; then, increase the resolution and print screen as png. \n",
    "\n",
    "TODO: try making density grid plots using alternative software posted in slack."
   ]
  },
  {
   "cell_type": "code",
   "execution_count": 1,
   "metadata": {},
   "outputs": [],
   "source": [
    "using PorousMaterials\n",
    "using JLD2"
   ]
  },
  {
   "cell_type": "code",
   "execution_count": 2,
   "metadata": {},
   "outputs": [
    {
     "data": {
      "text/plain": [
       "\"/home/ng/DTRA/structural_relaxation/post-relaxation_cifs\""
      ]
     },
     "execution_count": 2,
     "metadata": {},
     "output_type": "execute_result"
    }
   ],
   "source": [
    "@eval PorousMaterials PATH_TO_CRYSTALS=joinpath(pwd(),\"structural_relaxation\",\"post-relaxation_cifs\")"
   ]
  },
  {
   "cell_type": "code",
   "execution_count": 3,
   "metadata": {},
   "outputs": [
    {
     "data": {
      "text/plain": [
       "Dict{Symbol,Any} with 9 entries:\n",
       "  :ljff        => \"UFF\"\n",
       "  :adsorbate   => \"Xe\"\n",
       "  :grid_points => (100, 100, 100)\n",
       "  :temperature => 298.0\n",
       "  :energy_min  => Tuple{Float64,CartesianIndex{3}}\n",
       "  :xyz_file    => true\n",
       "  :vtk_file    => true\n",
       "  :repfactors  => (1, 1, 1)\n",
       "  :n_rotations => 750"
      ]
     },
     "execution_count": 3,
     "metadata": {},
     "output_type": "execute_result"
    }
   ],
   "source": [
    "params = Dict(:adsorbate   => \"Xe\",\n",
    "              :ljff        => \"UFF\",\n",
    "              :grid_points => (100, 100, 100), # (100, 100, 100)\n",
    "              :repfactors  => (1,1,1),\n",
    "              :temperature => 298.0, \n",
    "              :n_rotations => 750,\n",
    "              :energy_min  => Tuple{Float64,CartesianIndex{3}},\n",
    "              :xyz_file    => true,\n",
    "              :vtk_file    => true)"
   ]
  },
  {
   "cell_type": "code",
   "execution_count": 4,
   "metadata": {},
   "outputs": [
    {
     "data": {
      "text/plain": [
       "adsorbate_in_mof (generic function with 1 method)"
      ]
     },
     "execution_count": 4,
     "metadata": {},
     "output_type": "execute_result"
    }
   ],
   "source": [
    "# I need to put place the adsorbate at the location of the minimum energy\n",
    "function adsorbate_in_mof(energy_grid_params::Dict{String,Dict{Symbol,Any}}, xtal::Crystal, grid::Grid)\n",
    "    filename = energy_grid_params[xtal.name][:adsorbate] * \"_in_\" * xtal.name\n",
    "    \n",
    "    molecule = Molecule(energy_grid_params[xtal.name][:adsorbate])\n",
    "    xyz = Tuple([energy_grid_params[xtal.name][:energy_min][2][i] for i in 1:3])\n",
    "    \n",
    "    xf_minE = id_to_xf(xyz, grid.n_pts) # fractional coords of min\n",
    "    x_minE  = Cart(Frac(xf_minE), xtal.box) # Cartesian coords of min\n",
    "    # make struct\n",
    "    xe_atom_c = Atoms(1, [molecule.species], x_minE) \n",
    "\n",
    "    return write_xyz(xe_atom_c, filename)\n",
    "end"
   ]
  },
  {
   "cell_type": "code",
   "execution_count": 5,
   "metadata": {},
   "outputs": [],
   "source": [
    "# min_E, argmin_E = findmin(grid.data)\n",
    "# xyz = Tuple([argmin_E[i] for i in 1:3])\n",
    "# xf_minE = id_to_xf(xyz, grid.n_pts)\n",
    "# x_minE  = Cart(Frac(xf_minE), crystal.box) \n",
    "# xe_atom_c = Atoms(1, [:Xe], x_minE) \n",
    "# write_xyz(xe_atom_c, \"blah.xyz\")"
   ]
  },
  {
   "cell_type": "code",
   "execution_count": 6,
   "metadata": {
    "scrolled": true
   },
   "outputs": [
    {
     "data": {
      "text/plain": [
       "Dict{String,Dict{Symbol,Any}} with 2 entries:\n",
       "  \"NiPyC2_experiment.cif\"   => Dict{Symbol,Any}(:ljff=>\"UFF\",:adsorbate=>\"Xe\",:…\n",
       "  \"NiPyC2_relax_sc211_meta… => Dict{Symbol,Any}(:ljff=>\"UFF\",:adsorbate=>\"Xe\",:…"
      ]
     },
     "execution_count": 6,
     "metadata": {},
     "output_type": "execute_result"
    }
   ],
   "source": [
    "xtal_names = [\"NiPyC2_experiment.cif\", \n",
    "              \"NiPyC2_relax_sc211_meta_functionalized_NH2_pbesol_relax.cif\"]\n",
    "\n",
    "energy_grid_params = Dict(zip(xtal_names, [params for i in 1:length(xtal_names)]))"
   ]
  },
  {
   "cell_type": "code",
   "execution_count": 7,
   "metadata": {
    "scrolled": false
   },
   "outputs": [],
   "source": [
    "# for xtal in xtal_names\n",
    "#     # load crystal and replicat (if needed)\n",
    "#     crystal = replicate(Crystal(xtal), energy_grid_params[xtal][:repfactors])\n",
    "#     strip_numbers_from_atom_labels!(crystal)\n",
    "    \n",
    "#     # assign energy calculation parameters\n",
    "#     mol    = Molecule(energy_grid_params[xtal][:adsorbate])\n",
    "#     ljff   = LJForceField(energy_grid_params[xtal][:ljff])\n",
    "#     points = energy_grid_params[xtal][:grid_points]\n",
    "#     temp   = energy_grid_params[xtal][:temperature]\n",
    "#     rot    = energy_grid_params[xtal][:n_rotations]\n",
    "    \n",
    "#     # perform energy grid calculation\n",
    "#     grid = energy_grid(crystal, mol, ljff; n_pts=points, temperature=temp, n_rotations=rot)\n",
    "    \n",
    "#     # find the value and location of the minimum energy \n",
    "#     energy_grid_params[xtal][:energy_min] = findmin(grid.data)\n",
    "#     println(xtal, \" energy min = \", energy_grid_params[xtal][:energy_min])\n",
    "    \n",
    "#     # write cube file using crystal name for filename\n",
    "#     write_cube(grid, crystal.name)\n",
    "    \n",
    "#     # write xyz file\n",
    "#     if energy_grid_params[xtal][:xyz_file]\n",
    "#         atoms_c = Cart(crystal.atoms, crystal.box)\n",
    "#         write_xyz(crystal)\n",
    "#     end\n",
    "    \n",
    "#     # write vtk file\n",
    "#     if energy_grid_params[xtal][:vtk_file]\n",
    "#         write_vtk(crystal)\n",
    "#     end\n",
    "    \n",
    "#     adsorbate_in_mof(energy_grid_params, crystal, grid)\n",
    "# end"
   ]
  },
  {
   "cell_type": "code",
   "execution_count": 8,
   "metadata": {},
   "outputs": [
    {
     "name": "stderr",
     "output_type": "stream",
     "text": [
      "┌ Info: Crystal NiPyC2_experiment.cif has Pn space group. I am converting it to P1 symmetry.\n",
      "│         To afrain from this, pass `convert_to_p1=false` to the `Crystal` constructor.\n",
      "└ @ PorousMaterials /home/ng/.julia/dev/PorousMaterials/src/crystal.jl:426\n"
     ]
    },
    {
     "name": "stdout",
     "output_type": "stream",
     "text": [
      "muVT_Xe_in_NiPyC2_experiment.cif_298.000K_0.0100000bar_UFF_50000burn_50000sample.jld2\n",
      "NiPyC2_experiment.cif energy min = (0.0, CartesianIndex(1, 1, 1))\n",
      "\tSee /home/ng/DTRA/data/grids/muVT_Xe_in_NiPyC2_experiment.cif_298.000K_0.0100000bar_UFF_50000burn_50000sample.jld2.cube\n",
      "muVT_Xe_in_NiPyC2_experiment.cif_298.000K_0.0139899bar_UFF_50000burn_50000sample.jld2\n",
      "NiPyC2_experiment.cif energy min = (0.0, CartesianIndex(1, 1, 1))\n",
      "\tSee /home/ng/DTRA/data/grids/muVT_Xe_in_NiPyC2_experiment.cif_298.000K_0.0139899bar_UFF_50000burn_50000sample.jld2.cube\n",
      "muVT_Xe_in_NiPyC2_experiment.cif_298.000K_0.0195717bar_UFF_50000burn_50000sample.jld2\n",
      "NiPyC2_experiment.cif energy min = (0.0, CartesianIndex(1, 1, 1))\n",
      "\tSee /home/ng/DTRA/data/grids/muVT_Xe_in_NiPyC2_experiment.cif_298.000K_0.0195717bar_UFF_50000burn_50000sample.jld2.cube\n",
      "muVT_Xe_in_NiPyC2_experiment.cif_298.000K_0.0273805bar_UFF_50000burn_50000sample.jld2\n",
      "NiPyC2_experiment.cif energy min = (0.0, CartesianIndex(1, 1, 1))\n",
      "\tSee /home/ng/DTRA/data/grids/muVT_Xe_in_NiPyC2_experiment.cif_298.000K_0.0273805bar_UFF_50000burn_50000sample.jld2.cube\n",
      "muVT_Xe_in_NiPyC2_experiment.cif_298.000K_0.0383050bar_UFF_50000burn_50000sample.jld2\n",
      "NiPyC2_experiment.cif energy min = (0.0, CartesianIndex(1, 1, 1))\n",
      "\tSee /home/ng/DTRA/data/grids/muVT_Xe_in_NiPyC2_experiment.cif_298.000K_0.0383050bar_UFF_50000burn_50000sample.jld2.cube\n",
      "muVT_Xe_in_NiPyC2_experiment.cif_298.000K_0.0535882bar_UFF_50000burn_50000sample.jld2\n",
      "NiPyC2_experiment.cif energy min = (0.0, CartesianIndex(1, 1, 1))\n",
      "\tSee /home/ng/DTRA/data/grids/muVT_Xe_in_NiPyC2_experiment.cif_298.000K_0.0535882bar_UFF_50000burn_50000sample.jld2.cube\n",
      "muVT_Xe_in_NiPyC2_experiment.cif_298.000K_0.0749691bar_UFF_50000burn_50000sample.jld2\n",
      "NiPyC2_experiment.cif energy min = (0.0, CartesianIndex(1, 1, 1))\n",
      "\tSee /home/ng/DTRA/data/grids/muVT_Xe_in_NiPyC2_experiment.cif_298.000K_0.0749691bar_UFF_50000burn_50000sample.jld2.cube\n",
      "muVT_Xe_in_NiPyC2_experiment.cif_298.000K_0.1048809bar_UFF_50000burn_50000sample.jld2\n",
      "NiPyC2_experiment.cif energy min = (0.0, CartesianIndex(1, 1, 1))\n",
      "\tSee /home/ng/DTRA/data/grids/muVT_Xe_in_NiPyC2_experiment.cif_298.000K_0.1048809bar_UFF_50000burn_50000sample.jld2.cube\n",
      "muVT_Xe_in_NiPyC2_experiment.cif_298.000K_0.1467270bar_UFF_50000burn_50000sample.jld2\n",
      "NiPyC2_experiment.cif energy min = (0.0, CartesianIndex(1, 1, 1))\n",
      "\tSee /home/ng/DTRA/data/grids/muVT_Xe_in_NiPyC2_experiment.cif_298.000K_0.1467270bar_UFF_50000burn_50000sample.jld2.cube\n",
      "muVT_Xe_in_NiPyC2_experiment.cif_298.000K_0.2052692bar_UFF_50000burn_50000sample.jld2\n",
      "NiPyC2_experiment.cif energy min = (0.0, CartesianIndex(1, 1, 1))\n",
      "\tSee /home/ng/DTRA/data/grids/muVT_Xe_in_NiPyC2_experiment.cif_298.000K_0.2052692bar_UFF_50000burn_50000sample.jld2.cube\n",
      "muVT_Xe_in_NiPyC2_experiment.cif_298.000K_0.2871691bar_UFF_50000burn_50000sample.jld2\n",
      "NiPyC2_experiment.cif energy min = (0.0, CartesianIndex(1, 1, 1))\n",
      "\tSee /home/ng/DTRA/data/grids/muVT_Xe_in_NiPyC2_experiment.cif_298.000K_0.2871691bar_UFF_50000burn_50000sample.jld2.cube\n",
      "muVT_Xe_in_NiPyC2_experiment.cif_298.000K_0.4017458bar_UFF_50000burn_50000sample.jld2\n",
      "NiPyC2_experiment.cif energy min = (0.0, CartesianIndex(1, 1, 1))\n",
      "\tSee /home/ng/DTRA/data/grids/muVT_Xe_in_NiPyC2_experiment.cif_298.000K_0.4017458bar_UFF_50000burn_50000sample.jld2.cube\n",
      "muVT_Xe_in_NiPyC2_experiment.cif_298.000K_0.5620373bar_UFF_50000burn_50000sample.jld2\n",
      "NiPyC2_experiment.cif energy min = (0.0, CartesianIndex(1, 1, 1))\n",
      "\tSee /home/ng/DTRA/data/grids/muVT_Xe_in_NiPyC2_experiment.cif_298.000K_0.5620373bar_UFF_50000burn_50000sample.jld2.cube\n",
      "muVT_Xe_in_NiPyC2_experiment.cif_298.000K_0.7862831bar_UFF_50000burn_50000sample.jld2\n",
      "NiPyC2_experiment.cif energy min = (0.0, CartesianIndex(1, 1, 1))\n",
      "\tSee /home/ng/DTRA/data/grids/muVT_Xe_in_NiPyC2_experiment.cif_298.000K_0.7862831bar_UFF_50000burn_50000sample.jld2.cube\n",
      "muVT_Xe_in_NiPyC2_experiment.cif_298.000K_1.1000000bar_UFF_50000burn_50000sample.jld2\n",
      "NiPyC2_experiment.cif energy min = (0.0, CartesianIndex(1, 1, 1))\n",
      "\tSee /home/ng/DTRA/data/grids/muVT_Xe_in_NiPyC2_experiment.cif_298.000K_1.1000000bar_UFF_50000burn_50000sample.jld2.cube\n",
      "See NiPyC2_experiment.vtk\n",
      "muVT_Xe_in_NiPyC2_relax_sc211_meta_functionalized_NH2_pbesol_relax.cif_298.000K_0.0100000bar_UFF_50000burn_50000sample.jld2\n",
      "NiPyC2_relax_sc211_meta_functionalized_NH2_pbesol_relax.cif energy min = (0.0, CartesianIndex(1, 1, 1))\n",
      "\tSee /home/ng/DTRA/data/grids/muVT_Xe_in_NiPyC2_relax_sc211_meta_functionalized_NH2_pbesol_relax.cif_298.000K_0.0100000bar_UFF_50000burn_50000sample.jld2.cube\n",
      "muVT_Xe_in_NiPyC2_relax_sc211_meta_functionalized_NH2_pbesol_relax.cif_298.000K_0.0139899bar_UFF_50000burn_50000sample.jld2\n",
      "NiPyC2_relax_sc211_meta_functionalized_NH2_pbesol_relax.cif energy min = (0.0, CartesianIndex(1, 1, 1))\n",
      "\tSee /home/ng/DTRA/data/grids/muVT_Xe_in_NiPyC2_relax_sc211_meta_functionalized_NH2_pbesol_relax.cif_298.000K_0.0139899bar_UFF_50000burn_50000sample.jld2.cube\n",
      "muVT_Xe_in_NiPyC2_relax_sc211_meta_functionalized_NH2_pbesol_relax.cif_298.000K_0.0195717bar_UFF_50000burn_50000sample.jld2\n",
      "NiPyC2_relax_sc211_meta_functionalized_NH2_pbesol_relax.cif energy min = (0.0, CartesianIndex(1, 1, 1))\n",
      "\tSee /home/ng/DTRA/data/grids/muVT_Xe_in_NiPyC2_relax_sc211_meta_functionalized_NH2_pbesol_relax.cif_298.000K_0.0195717bar_UFF_50000burn_50000sample.jld2.cube\n",
      "muVT_Xe_in_NiPyC2_relax_sc211_meta_functionalized_NH2_pbesol_relax.cif_298.000K_0.0273805bar_UFF_50000burn_50000sample.jld2\n",
      "NiPyC2_relax_sc211_meta_functionalized_NH2_pbesol_relax.cif energy min = (0.0, CartesianIndex(1, 1, 1))\n",
      "\tSee /home/ng/DTRA/data/grids/muVT_Xe_in_NiPyC2_relax_sc211_meta_functionalized_NH2_pbesol_relax.cif_298.000K_0.0273805bar_UFF_50000burn_50000sample.jld2.cube\n",
      "muVT_Xe_in_NiPyC2_relax_sc211_meta_functionalized_NH2_pbesol_relax.cif_298.000K_0.0383050bar_UFF_50000burn_50000sample.jld2\n",
      "NiPyC2_relax_sc211_meta_functionalized_NH2_pbesol_relax.cif energy min = (0.0, CartesianIndex(1, 1, 1))\n",
      "\tSee /home/ng/DTRA/data/grids/muVT_Xe_in_NiPyC2_relax_sc211_meta_functionalized_NH2_pbesol_relax.cif_298.000K_0.0383050bar_UFF_50000burn_50000sample.jld2.cube\n",
      "muVT_Xe_in_NiPyC2_relax_sc211_meta_functionalized_NH2_pbesol_relax.cif_298.000K_0.0535882bar_UFF_50000burn_50000sample.jld2\n",
      "NiPyC2_relax_sc211_meta_functionalized_NH2_pbesol_relax.cif energy min = (0.0, CartesianIndex(1, 1, 1))\n",
      "\tSee /home/ng/DTRA/data/grids/muVT_Xe_in_NiPyC2_relax_sc211_meta_functionalized_NH2_pbesol_relax.cif_298.000K_0.0535882bar_UFF_50000burn_50000sample.jld2.cube\n",
      "muVT_Xe_in_NiPyC2_relax_sc211_meta_functionalized_NH2_pbesol_relax.cif_298.000K_0.0749691bar_UFF_50000burn_50000sample.jld2\n",
      "NiPyC2_relax_sc211_meta_functionalized_NH2_pbesol_relax.cif energy min = (0.0, CartesianIndex(1, 1, 1))\n",
      "\tSee /home/ng/DTRA/data/grids/muVT_Xe_in_NiPyC2_relax_sc211_meta_functionalized_NH2_pbesol_relax.cif_298.000K_0.0749691bar_UFF_50000burn_50000sample.jld2.cube\n",
      "muVT_Xe_in_NiPyC2_relax_sc211_meta_functionalized_NH2_pbesol_relax.cif_298.000K_0.1048809bar_UFF_50000burn_50000sample.jld2\n",
      "NiPyC2_relax_sc211_meta_functionalized_NH2_pbesol_relax.cif energy min = (0.0, CartesianIndex(1, 1, 1))\n",
      "\tSee /home/ng/DTRA/data/grids/muVT_Xe_in_NiPyC2_relax_sc211_meta_functionalized_NH2_pbesol_relax.cif_298.000K_0.1048809bar_UFF_50000burn_50000sample.jld2.cube\n",
      "muVT_Xe_in_NiPyC2_relax_sc211_meta_functionalized_NH2_pbesol_relax.cif_298.000K_0.1467270bar_UFF_50000burn_50000sample.jld2\n",
      "NiPyC2_relax_sc211_meta_functionalized_NH2_pbesol_relax.cif energy min = (0.0, CartesianIndex(1, 1, 1))\n",
      "\tSee /home/ng/DTRA/data/grids/muVT_Xe_in_NiPyC2_relax_sc211_meta_functionalized_NH2_pbesol_relax.cif_298.000K_0.1467270bar_UFF_50000burn_50000sample.jld2.cube\n",
      "muVT_Xe_in_NiPyC2_relax_sc211_meta_functionalized_NH2_pbesol_relax.cif_298.000K_0.2052692bar_UFF_50000burn_50000sample.jld2\n",
      "NiPyC2_relax_sc211_meta_functionalized_NH2_pbesol_relax.cif energy min = (0.0, CartesianIndex(1, 1, 1))\n",
      "\tSee /home/ng/DTRA/data/grids/muVT_Xe_in_NiPyC2_relax_sc211_meta_functionalized_NH2_pbesol_relax.cif_298.000K_0.2052692bar_UFF_50000burn_50000sample.jld2.cube\n",
      "muVT_Xe_in_NiPyC2_relax_sc211_meta_functionalized_NH2_pbesol_relax.cif_298.000K_0.2871691bar_UFF_50000burn_50000sample.jld2\n",
      "NiPyC2_relax_sc211_meta_functionalized_NH2_pbesol_relax.cif energy min = (0.0, CartesianIndex(1, 1, 1))\n",
      "\tSee /home/ng/DTRA/data/grids/muVT_Xe_in_NiPyC2_relax_sc211_meta_functionalized_NH2_pbesol_relax.cif_298.000K_0.2871691bar_UFF_50000burn_50000sample.jld2.cube\n",
      "muVT_Xe_in_NiPyC2_relax_sc211_meta_functionalized_NH2_pbesol_relax.cif_298.000K_0.4017458bar_UFF_50000burn_50000sample.jld2\n"
     ]
    },
    {
     "name": "stdout",
     "output_type": "stream",
     "text": [
      "NiPyC2_relax_sc211_meta_functionalized_NH2_pbesol_relax.cif energy min = (0.0, CartesianIndex(1, 1, 1))\n",
      "\tSee /home/ng/DTRA/data/grids/muVT_Xe_in_NiPyC2_relax_sc211_meta_functionalized_NH2_pbesol_relax.cif_298.000K_0.4017458bar_UFF_50000burn_50000sample.jld2.cube\n",
      "muVT_Xe_in_NiPyC2_relax_sc211_meta_functionalized_NH2_pbesol_relax.cif_298.000K_0.5620373bar_UFF_50000burn_50000sample.jld2\n",
      "NiPyC2_relax_sc211_meta_functionalized_NH2_pbesol_relax.cif energy min = (0.0, CartesianIndex(1, 1, 1))\n",
      "\tSee /home/ng/DTRA/data/grids/muVT_Xe_in_NiPyC2_relax_sc211_meta_functionalized_NH2_pbesol_relax.cif_298.000K_0.5620373bar_UFF_50000burn_50000sample.jld2.cube\n",
      "muVT_Xe_in_NiPyC2_relax_sc211_meta_functionalized_NH2_pbesol_relax.cif_298.000K_0.7862831bar_UFF_50000burn_50000sample.jld2\n",
      "NiPyC2_relax_sc211_meta_functionalized_NH2_pbesol_relax.cif energy min = (0.0, CartesianIndex(1, 1, 1))\n",
      "\tSee /home/ng/DTRA/data/grids/muVT_Xe_in_NiPyC2_relax_sc211_meta_functionalized_NH2_pbesol_relax.cif_298.000K_0.7862831bar_UFF_50000burn_50000sample.jld2.cube\n",
      "muVT_Xe_in_NiPyC2_relax_sc211_meta_functionalized_NH2_pbesol_relax.cif_298.000K_1.1000000bar_UFF_50000burn_50000sample.jld2\n",
      "NiPyC2_relax_sc211_meta_functionalized_NH2_pbesol_relax.cif energy min = (0.0, CartesianIndex(1, 1, 1))\n",
      "\tSee /home/ng/DTRA/data/grids/muVT_Xe_in_NiPyC2_relax_sc211_meta_functionalized_NH2_pbesol_relax.cif_298.000K_1.1000000bar_UFF_50000burn_50000sample.jld2.cube\n",
      "See NiPyC2_relax_sc211_meta_functionalized_NH2_pbesol_relax.vtk\n"
     ]
    }
   ],
   "source": [
    "for xtal in xtal_names\n",
    "    # load crystal and replicate \n",
    "    crystal = Crystal(xtal)\n",
    "    energy_grid_params[xtal][:repfactors] = replication_factors(crystal, 14.0)\n",
    "    crystal = replicate(crystal, energy_grid_params[xtal][:repfactors])\n",
    "    strip_numbers_from_atom_labels!(crystal)\n",
    "    \n",
    "    \n",
    "    \n",
    "    # assign energy calculation parameters\n",
    "    mol    = Molecule(energy_grid_params[xtal][:adsorbate])\n",
    "    ljff   = LJForceField(energy_grid_params[xtal][:ljff])\n",
    "    points = energy_grid_params[xtal][:grid_points]\n",
    "    temp   = energy_grid_params[xtal][:temperature]\n",
    "    rot    = energy_grid_params[xtal][:n_rotations]\n",
    "    \n",
    "    pmin      = -2 # minimum pessure in log10, units: bar\n",
    "    pmax      = 1.1 # maximum pressure (actual value), units: bar\n",
    "    nstep     = 15 # number of intervals in pressure range\n",
    "    pressures = 10 .^ range(pmin, stop=log10(pmax), length=nstep)\n",
    "    nburn     = 50000\n",
    "    nsample   = 50000\n",
    "    \n",
    "    # loop over pressures\n",
    "    for p in 1:length(pressures)\n",
    "        filename = μVT_output_filename(crystal, mol, temp, pressures[p], ljff, nburn, nsample)\n",
    "        println(filename)\n",
    "\n",
    "        @load joinpath(PorousMaterials.PATH_TO_SIMS, filename) results\n",
    "\n",
    "        grid = results[\"density grid\"]\n",
    "\n",
    "        # find the value and location of the minimum energy \n",
    "        energy_grid_params[xtal][:energy_min] = findmin(grid.data)\n",
    "        println(xtal, \" energy min = \", energy_grid_params[xtal][:energy_min])\n",
    "\n",
    "        # write cube file using crystal name for filename\n",
    "        write_cube(grid, filename)\n",
    "    end\n",
    "    \n",
    "    # write xyz file\n",
    "    if energy_grid_params[xtal][:xyz_file]\n",
    "        atoms_c = Cart(crystal.atoms, crystal.box)\n",
    "        write_xyz(crystal)\n",
    "    end\n",
    "    \n",
    "    # write vtk file\n",
    "    if energy_grid_params[xtal][:vtk_file]\n",
    "        write_vtk(crystal)\n",
    "    end\n",
    "    \n",
    "#     adsorbate_in_mof(energy_grid_params, crystal, grid)\n",
    "end"
   ]
  }
 ],
 "metadata": {
  "kernelspec": {
   "display_name": "Julia 1.5.1",
   "language": "julia",
   "name": "julia-1.5"
  },
  "language_info": {
   "file_extension": ".jl",
   "mimetype": "application/julia",
   "name": "julia",
   "version": "1.5.1"
  }
 },
 "nbformat": 4,
 "nbformat_minor": 4
}
