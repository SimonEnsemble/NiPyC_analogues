{
 "cells": [
  {
   "cell_type": "code",
   "execution_count": 2,
   "metadata": {},
   "outputs": [],
   "source": [
    "import matplotlib.pyplot as plt\n",
    "%matplotlib inline\n",
    "plt.style.use('ggplot')\n",
    "import numpy as np"
   ]
  },
  {
   "cell_type": "code",
   "execution_count": 8,
   "metadata": {},
   "outputs": [
    {
     "data": {
      "image/png": "[encoded data removed]",
      "text/plain": [
       "<Figure size 432x288 with 1 Axes>"
      ]
     },
     "metadata": {},
     "output_type": "display_data"
    }
   ],
   "source": [
    "N = 3\n",
    "# experimental\n",
    "a1 = 6.25280\n",
    "b1 = 12.52340\n",
    "c1 = 10.27680\n",
    "experimental = (a1, b1, c1)\n",
    "\n",
    "# vc-relax (Å)\n",
    "a2 = 6.79846\n",
    "b2 = 10.76141\n",
    "c2 = 11.18834\n",
    "cell_relaxed = (a2, b2, c2)\n",
    "\n",
    "# N = 5\n",
    "# men_means = (20, 35, 30, 35, 27)\n",
    "# women_means = (25, 32, 34, 20, 25)\n",
    "\n",
    "ind = np.arange(N) \n",
    "width = 0.35       \n",
    "plt.bar(ind, experimental, width, label='experimental')\n",
    "plt.bar(ind + width, cell_relaxed, width,\n",
    "    label='vc-relax')\n",
    "\n",
    "plt.ylabel('length (Å)')\n",
    "plt.xlabel('cell parameter')\n",
    "plt.title('NiPyC2 cell paramters')\n",
    "\n",
    "plt.xticks(ind + width / 2, ('a', 'b', 'c'))\n",
    "plt.legend(loc='best')\n",
    "plt.show()"
   ]
  },
  {
   "cell_type": "code",
   "execution_count": null,
   "metadata": {},
   "outputs": [],
   "source": [
    "# 34544 CELL_PARAMETERS (angstrom)\n",
    "# 34545    6.798447484   0.000000000  -0.012279787\n",
    "# 34546    0.000000000  10.761407086   0.000000000\n",
    "# 34547   -0.247454664   0.000000000  11.185601308\n",
    "\n",
    "\n",
    "\n",
    "# lattice parameter (alat)  =      11.8161  a.u.\n",
    "\n",
    "# 34645      crystal axes: (cart. coord. in units of alat)\n",
    "# 34646                a(1) = (   1.087265   0.000000  -0.001964 )\n",
    "# 34647                a(2) = (   0.000000   1.721054   0.000000 )\n",
    "# 34648                a(3) = (  -0.039575   0.000000   1.788895 )\n"
   ]
  },
  {
   "cell_type": "code",
   "execution_count": 4,
   "metadata": {},
   "outputs": [
    {
     "data": {
      "text/plain": [
       "6.7984596703365705"
      ]
     },
     "execution_count": 4,
     "metadata": {},
     "output_type": "execute_result"
    }
   ],
   "source": [
    "# 1.087265 * 11.8161 * 0.529177"
   ]
  }
 ],
 "metadata": {
  "kernelspec": {
   "display_name": "Python 3",
   "language": "python",
   "name": "python3"
  },
  "language_info": {
   "codemirror_mode": {
    "name": "ipython",
    "version": 3
   },
   "file_extension": ".py",
   "mimetype": "text/x-python",
   "name": "python",
   "nbconvert_exporter": "python",
   "pygments_lexer": "ipython3",
   "version": "3.7.6"
  }
 },
 "nbformat": 4,
 "nbformat_minor": 4
}
