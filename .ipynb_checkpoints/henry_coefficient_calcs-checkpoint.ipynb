{
 "cells": [
  {
   "cell_type": "markdown",
   "metadata": {},
   "source": [
    "# Henry coefficient Calculations"
   ]
  },
  {
   "cell_type": "code",
   "execution_count": 1,
   "metadata": {},
   "outputs": [],
   "source": [
    "using PorousMaterials"
   ]
  },
  {
   "cell_type": "code",
   "execution_count": 2,
   "metadata": {},
   "outputs": [
    {
     "data": {
      "text/plain": [
       "\"/home/ng/DTRA/structural_relaxation/post-relaxation_cifs\""
      ]
     },
     "execution_count": 2,
     "metadata": {},
     "output_type": "execute_result"
    }
   ],
   "source": [
    "@eval PorousMaterials PATH_TO_CRYSTALS=joinpath(pwd(), \"structural_relaxation\", \"post-relaxation_cifs\")"
   ]
  },
  {
   "cell_type": "code",
   "execution_count": null,
   "metadata": {},
   "outputs": [],
   "source": [
    "# # whtat properties do you want to put into the .csv?\n",
    "# props_we_want = [\"pressure (bar)\", \"fugacity (bar)\", \"⟨N⟩ (mmol/g)\"]\n",
    "\n",
    "# isotherm filename values\n",
    "adsorbate = [\"Kr\", \"Xe\"] # : Xe, :Kr, :Ar\n",
    "\n",
    "temp = 298.0 # units: K\n",
    "\n",
    "pmin = -2 # minimum pessure in log10, units: bar\n",
    "pmax = 1.1 # maximum pressure (actual value), units: bar\n",
    "nstep = 15 # number of intervals in pressure range\n",
    "pressures = 10 .^ range(pmin, stop=log10(pmax), length=nstep)\n",
    "\n",
    "ffield = \"UFF\" # \"UFF\" or \"Dreiding\"\n",
    "\n",
    "nburn = 50000 # number of burn cycles\n",
    "nsample = 50000 # number of sample cycles"
   ]
  },
  {
   "cell_type": "code",
   "execution_count": null,
   "metadata": {},
   "outputs": [],
   "source": [
    "# The name of the fragment\n",
    "# file must be a .xyz file located in ./fragments/\n",
    "# The atom species that is bonded to the\n",
    "# :C_aro_R atom on the ring segment of the Fragment\n",
    "fragment_list = [\n",
    "#     \"Br\",\n",
    "#     \"C-3CH3\",\n",
    "#     \"C-C\",\n",
    "#     \"CH2-CH2-CH3\",\n",
    "#     \"CH2-CH3\",\n",
    "#     \"CH2-NH2\",\n",
    "#     \"CH3\",\n",
    "#     \"CH-CH2\",\n",
    "#     \"CH-O\",\n",
    "#     \"CH-S\",\n",
    "#     \"Cl\",\n",
    "#     \"C-N\",\n",
    "#     \"F\",\n",
    "#     \"N-2CH3\",\n",
    "#     \"N-C-O\",\n",
    "#     \"NH2\",\n",
    "#     \"N-NH\",\n",
    "#     \"O-CH2-CH2-CH3\",\n",
    "#     \"O-CH2-CH3\",\n",
    "#     \"O-CH3\",\n",
    "#     \"O-C-N\",\n",
    "#     \"OH\",\n",
    "#     \"O-OH\",\n",
    "#     \"P-2CH3\",\n",
    "#     \"PH2\",\n",
    "#     \"S-CH3\",\n",
    "#     \"SH\"\n",
    "]\n",
    "\n",
    "\n",
    "fragments_with_overlap = [\"C-3CH3\", \"CH2-CH2-CH3\", \"CH2-CH3\",\"CH2-NH2\",\n",
    "                          \"CH-CH2\", \"CH-S\", \"N-2CH3\", \"O-CH2-CH2-CH3\",\n",
    "                          \"O-CH3\", \"O-CH2-CH3\", \"P-2CH3\", \"PH2\", \n",
    "                          \"S-CH3\", \"SH\"]\n",
    "\n",
    "# The type of Arene Substitution (\"ortho\", \"meta\", \"all\") \n",
    "# TODO: \"all\" not yet implimented\n",
    "# substitution_types = [\"meta\", \"ortho\"] \n",
    "substitution_types = [\"meta\"] "
   ]
  },
  {
   "cell_type": "code",
   "execution_count": null,
   "metadata": {},
   "outputs": [],
   "source": [
    "functional = \"pbesol\"\n",
    "calculation = \"relax\"\n",
    "n = length(fragment_list) * length(substitution_types)\n",
    "xtals = Array{Crystal, 1} \n",
    "#####\n",
    "# flag to determine whether xtals are going though a second stage of relaxation\n",
    "#####\n",
    "second_round = false\n",
    "\n",
    "k = 1\n",
    "for sub_type in substitution_types\n",
    "    for fragment_name in fragment_list\n",
    "        ####\n",
    "        # set flag for overlaping atoms\n",
    "        ####\n",
    "        has_overlap = false\n",
    "        if (fragment_name in fragments_with_overlap && !second_round)\n",
    "            # pass flag for freezing parent atoms\n",
    "            has_overlap=true \n",
    "            # indicate special case in filename\n",
    "            crystal_name = \"NiPyC2_relax_sc211_\" * sub_type * \"_functionalized_\" *\n",
    "                            fragment_name * \"_\" * functional * \"_\" * \n",
    "                            calculation * \"_frozen_parent_atoms_Round2.cif\"\n",
    "\n",
    "        elseif (fragment_name in fragments_with_overlap && second_round)\n",
    "            ####\n",
    "            # Special Treatment for xtals going through 2nd round of relaxation ###\n",
    "            ####\n",
    "            crystal_name = \"NiPyC2_relax_sc211_\" * sub_type * \"_functionalized_\" *\n",
    "                            fragment_name * \"_\" * functional * \"_\" * \n",
    "                            calculation * \"_frozen_parent_atoms.cif\"             \n",
    "        else\n",
    "            # determine name of crystal using rules from MOFun.jl\n",
    "            crystal_name = \"NiPyC2_relax_sc211_\" * sub_type * \"_functionalized_\" * \n",
    "                                fragment_name * \"_\" * functional * \"_\" * calculation * \".cif\"\n",
    "        end\n",
    "        # read in the crystal\n",
    "        xtals[k] = Crystal(crystal_name)\n",
    "        strip_numbers_from_atom_labels!(xtals[k])\n",
    "        k += 1 # increase counter\n",
    "    end\n",
    "end"
   ]
  },
  {
   "cell_type": "code",
   "execution_count": null,
   "metadata": {},
   "outputs": [],
   "source": [
    "# Calculate the Henry Coefficients for \n",
    "# the materials so that I can plot them\n",
    "\n",
    "# henry_coefficient(crystal::Crystal, molecule::Molecule, temperature::Float64,\n",
    "#                            ljforcefield::LJForceField; insertions_per_volume::Union{Int, Float64}=200,\n",
    "#                            verbose::Bool=true, ewald_precision::Float64=1e-6,\n",
    "#                            autosave::Bool=true, filename_comment::AbstractString=\"\",\n",
    "#                            accessibility_grid::Union{Nothing, Grid{Bool}}=nothing)\n",
    "\n",
    "\n",
    "# save_name = henry_result_savename(crystal, molecule, temperature,\n",
    "#                                    ljforcefield, insertions_per_volume;\n",
    "#                                    comment=\"\")\n"
   ]
  }
 ],
 "metadata": {
  "kernelspec": {
   "display_name": "Julia 1.3.1",
   "language": "julia",
   "name": "julia-1.3"
  },
  "language_info": {
   "file_extension": ".jl",
   "mimetype": "application/julia",
   "name": "julia",
   "version": "1.3.1"
  }
 },
 "nbformat": 4,
 "nbformat_minor": 4
}
