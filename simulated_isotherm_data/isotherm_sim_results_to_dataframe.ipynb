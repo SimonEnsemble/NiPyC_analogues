{
 "cells": [
  {
   "cell_type": "markdown",
   "metadata": {},
   "source": [
    "**TODO:**\n",
    "* consider renaming to \"gcmc_results_to_dataframe\" \n",
    "* should we have this write the dataframe file directly to the gcmc_sims directory?\n",
    "* make input arguements into a dictionary (possibly accept as commandline arguments)"
   ]
  },
  {
   "cell_type": "markdown",
   "metadata": {},
   "source": [
    "# JLD2 to CSV\n",
    "This script convets `.jld2` files output from `PorousMaterials.jl`'s `gcmc_simulation` function and compiles them into a `.csv` file which can then be imported into a DataFrame.\n",
    "\n",
    "**currently this has to be run on PorousMaterials.jl/master**"
   ]
  },
  {
   "cell_type": "code",
   "execution_count": 1,
   "metadata": {},
   "outputs": [],
   "source": [
    "cd(\"..\") # move to main directory "
   ]
  },
  {
   "cell_type": "code",
   "execution_count": 2,
   "metadata": {},
   "outputs": [],
   "source": [
    "using PorousMaterials\n",
    "using FileIO\n",
    "# using JLD2\n",
    "using CSV\n",
    "using DataFrames\n",
    "using PyPlot\n",
    "\n",
    "# PyPlot.matplotlib.style.use(\"Solarize_Light2\")\n",
    "PyPlot.matplotlib.style.use(\"ggplot\")\n",
    "\n",
    "rcParams = PyPlot.PyDict(PyPlot.matplotlib.\"rcParams\")\n",
    "rcParams[\"font.size\"] = 14; #16;"
   ]
  },
  {
   "cell_type": "code",
   "execution_count": 3,
   "metadata": {},
   "outputs": [],
   "source": [
    "cd(\"simulated_isotherm_data\")"
   ]
  },
  {
   "cell_type": "code",
   "execution_count": 4,
   "metadata": {},
   "outputs": [
    {
     "data": {
      "text/plain": [
       "3-element Array{String,1}:\n",
       " \"pressure (bar)\"\n",
       " \"fugacity (bar)\"\n",
       " \"⟨N⟩ (mmol/g)\"  "
      ]
     },
     "execution_count": 4,
     "metadata": {},
     "output_type": "execute_result"
    }
   ],
   "source": [
    "# whtat properties do you want to put into the .csv?\n",
    "props_we_want = [\"pressure (bar)\", \"fugacity (bar)\", \"⟨N⟩ (mmol/g)\"]"
   ]
  },
  {
   "cell_type": "code",
   "execution_count": 5,
   "metadata": {},
   "outputs": [
    {
     "data": {
      "text/plain": [
       "50000"
      ]
     },
     "execution_count": 5,
     "metadata": {},
     "output_type": "execute_result"
    }
   ],
   "source": [
    "# isotherm filename values\n",
    "adsorbate = [:Xe, :Kr] # : Xe, :Kr, :Ar\n",
    "\n",
    "temp = 298.0 # units: K\n",
    "\n",
    "pmin = -2 # minimum pessure in log10, units: bar\n",
    "pmax = 1.1 # maximum pressure (actual value), units: bar\n",
    "nstep = 15 # number of intervals in pressure range\n",
    "pressures = 10 .^ range(pmin, stop=log10(pmax), length=nstep)\n",
    "\n",
    "ffield = \"UFF\" # \"UFF\" or \"Dreiding\"\n",
    "\n",
    "nburn = 50000 # number of burn cycles\n",
    "nsample = 50000 # number of sample cycles"
   ]
  },
  {
   "cell_type": "code",
   "execution_count": 6,
   "metadata": {},
   "outputs": [
    {
     "data": {
      "text/plain": [
       "Dict{Symbol,String} with 2 entries:\n",
       "  :Kr => \"b\"\n",
       "  :Xe => \"r\""
      ]
     },
     "execution_count": 6,
     "metadata": {},
     "output_type": "execute_result"
    }
   ],
   "source": [
    "frameworks = [\"NiPyC2_relax.cif\", \"NiPyC2_P1_pbesol_vc-relax.cif\"]\n",
    "\n",
    "# we want to assign a specific marker to each crystal\n",
    "# NOTE: marker=\"v\" is reserved for experimental data\n",
    "cof_to_marker = Dict(zip(frameworks, [\"P\", \"o\", \"x\", \"2\", \"*\", \">\"]))\n",
    "# cof_to_color = Dict(zip(frameworks, [\"C$i\" for i = 1:length(frameworks)]))\n",
    "\n",
    "# we want to assign a specific adsorbate to a color\n",
    "adsorbate_to_color = Dict(zip(adsorbate, [\"r\", \"b\"]))"
   ]
  },
  {
   "cell_type": "markdown",
   "metadata": {},
   "source": [
    "## import experimental and simulated data"
   ]
  },
  {
   "cell_type": "code",
   "execution_count": 7,
   "metadata": {},
   "outputs": [
    {
     "data": {
      "text/plain": [
       "experimental_isotherm_data (generic function with 1 method)"
      ]
     },
     "execution_count": 7,
     "metadata": {},
     "output_type": "execute_result"
    }
   ],
   "source": [
    "function experimental_isotherm_data(adsorbate::Symbol)\n",
    "    # which adsorbate to consider \n",
    "    if adsorbate == :Xe\n",
    "        filename = \"NiMOF-2_Xe_298K.csv\"\n",
    "    elseif adsorbate == :Kr\n",
    "        filename = \"NiMOF2_Kr_298K.csv\"\n",
    "    else\n",
    "        error(\"define experimental data file to use\")\n",
    "    end\n",
    "    # find and read the experimental data file\n",
    "    wheres_exptl_data = joinpath(PorousMaterials.PATH_TO_DATA,\n",
    "        \"experimental_isotherm_data\", filename)\n",
    "\n",
    "    df_exptl_data = CSV.read(wheres_exptl_data)\n",
    "    # apply necessary unit conversions\n",
    "    # 1 bar = 0.986923 atm\n",
    "    bar_per_atm = 1/0.986923; # bar/atm\n",
    "    df_exptl_data[!, Symbol(\"pressure (bar)\")] = vcat(df_exptl_data[!, Symbol(\"p/p0\")] * bar_per_atm)\n",
    "    rename!(df_exptl_data, Symbol(\"mmol/g\") => Symbol(\"⟨N⟩ (mmol/g)\"))\n",
    "    \n",
    "    desorp_onset = argmax(df_exptl_data[!, :p]) # onset of desorption\n",
    "    \n",
    "    return df_exptl_data, desorp_onset\n",
    "end"
   ]
  },
  {
   "cell_type": "code",
   "execution_count": 8,
   "metadata": {},
   "outputs": [
    {
     "data": {
      "text/plain": [
       "isotherm_sim_results_to_dataframe (generic function with 1 method)"
      ]
     },
     "execution_count": 8,
     "metadata": {},
     "output_type": "execute_result"
    }
   ],
   "source": [
    "function isotherm_sim_results_to_dataframe(props_we_want::Array{String},\n",
    "        frameworkname::String, gas::Symbol, forcefieldname::String, temperature::Float64, \n",
    "        pressures::Array{Float64}, n_burn_cycles::Int, n_sample_cycles::Int; \n",
    "        where_are_jld_files::Union{String, Nothing}=nothing)\n",
    "    \n",
    "    if isnothing(where_are_jld_files)\n",
    "        where_are_jld_files = joinpath(PorousMaterials.PATH_TO_DATA, \"gcmc_sims\")\n",
    "    end\n",
    "    \n",
    "    # prepare dataframe to populate\n",
    "    df = DataFrame()\n",
    "    for col in props_we_want\n",
    "        insertcols!(df, length(names(df)) + 1, Symbol(col) => Float64[])\n",
    "    end\n",
    "\n",
    "    for (i, pressure) in enumerate(pressures)\n",
    "        sim_result = load(\n",
    "            joinpath(where_are_jld_files, \n",
    "                gcmc_result_savename(frameworkname, gas, forcefieldname, \n",
    "                    temperature, pressure, n_burn_cycles, n_sample_cycles) * \".jld2\"\n",
    "            ), \"results\"\n",
    "        )\n",
    "        push!(df, [sim_result[prop] for prop in props_we_want])\n",
    "    end\n",
    "    return df\n",
    "    \n",
    "end"
   ]
  },
  {
   "cell_type": "markdown",
   "metadata": {},
   "source": [
    "### Create a dictionary mapping the material and a DataFrame of its properties. "
   ]
  },
  {
   "cell_type": "code",
   "execution_count": 9,
   "metadata": {},
   "outputs": [],
   "source": [
    "df_exptl_data = Dict{Symbol, DataFrame}() \n",
    "desorp_onset = Dict{Symbol, Int64}()\n",
    "cof_to_isotherm = Dict{Symbol, Dict{String, DataFrame}}()\n",
    "\n",
    "for gas in adsorbate\n",
    "    df_exptl_data[gas], desorp_onset[gas] = experimental_isotherm_data(gas)\n",
    "    cof_to_isotherm[gas] = Dict{String, DataFrame}()\n",
    "    for frameworkname in frameworks\n",
    "        cof_to_isotherm[gas][frameworkname] = isotherm_sim_results_to_dataframe(props_we_want, frameworkname,\n",
    "            gas, ffield, temp, pressures, nburn, nsample)\n",
    "        CSV.write(joinpath(\"sim_isotherms\", split(frameworkname, \".\")[1] * \"_\" * String(gas) * \".csv\"),\n",
    "            cof_to_isotherm[gas][frameworkname])\n",
    "    end\n",
    "end\n",
    "# first(df_exptl_data[:Xe], 5)\n",
    "# desorp_onset[:Xe]\n",
    "# cof_to_isotherm"
   ]
  },
  {
   "cell_type": "markdown",
   "metadata": {},
   "source": [
    "### Plot data"
   ]
  },
  {
   "cell_type": "code",
   "execution_count": 10,
   "metadata": {},
   "outputs": [
    {
     "data": {
      "image/png": "[encoded data removed]",
      "text/plain": [
       "Figure(PyObject <Figure size 640x480 with 1 Axes>)"
      ]
     },
     "metadata": {},
     "output_type": "display_data"
    },
    {
     "data": {
      "text/plain": [
       "(0, 4.0)"
      ]
     },
     "execution_count": 10,
     "metadata": {},
     "output_type": "execute_result"
    }
   ],
   "source": [
    "figure()\n",
    "for gas in adsorbate\n",
    "    for cof in frameworks\n",
    "        scatter(cof_to_isotherm[gas][cof][:, Symbol(\"pressure (bar)\")], \n",
    "             cof_to_isotherm[gas][cof][:, Symbol(\"⟨N⟩ (mmol/g)\")], \n",
    "            label=split(cof,\".\")[1], marker=cof_to_marker[cof],\n",
    "            color=adsorbate_to_color[gas])\n",
    "    end\n",
    "    scatter(df_exptl_data[gas][1:desorp_onset[gas], Symbol(\"pressure (bar)\")], \n",
    "         df_exptl_data[gas][1:desorp_onset[gas], Symbol(\"⟨N⟩ (mmol/g)\")], \n",
    "        label=\"experimental\", marker=\"v\",\n",
    "        color=adsorbate_to_color[gas])\n",
    "end\n",
    "\n",
    "\n",
    "legend(loc=\"best\", fontsize=\"xx-small\", \n",
    "    facecolor=\"none\") #edgecolor=\"none\"\n",
    "xlabel(\"pressure [bar]\")\n",
    "ylabel(\"uptake [mmol/g]\")\n",
    "title(\"NiPyC2 isotherms with $ffield\")\n",
    "xlim(xmin=0, xmax=1.2)\n",
    "ylim(ymin=0, ymax=4.0)\n",
    "# savefig(\"NiPyC2_isotherms_with_$ffield.png\", format=\"png\")"
   ]
  },
  {
   "cell_type": "code",
   "execution_count": 11,
   "metadata": {},
   "outputs": [],
   "source": [
    "# figure()\n",
    "# plot(cof_to_isotherm[\"NiPyC2_experiment.cif\"][:, Symbol(\"pressure (bar)\")], cof_to_isotherm[\"NiPyC2_experiment.cif\"][:, Symbol(\"fugacity (bar)\")], marker=\"o\")\n",
    "# plot([0, pmax], [0, pmax], color=\"k\", linestyle=\"--\")\n",
    "# xlabel(\"pressure (bar)\")\n",
    "# ylabel(\"fugacity (bar)\")\n",
    "# title(\"fugacity versus pressure\")"
   ]
  },
  {
   "cell_type": "code",
   "execution_count": 12,
   "metadata": {},
   "outputs": [],
   "source": [
    "# const xe_critical_pressure = 58.420 # bar\n",
    "# wheres_nist_xenon_data = joinpath(\"data\", \"NIST_data\", \"xenon_NIST_data.txt\")\n",
    "\n",
    "# df_xe_data = CSV.read(wheres_nist_xenon_data)\n",
    "# p_plot = range(0.0, 350.0, length=100)\n",
    "# xe_vdw = VdWFluid(:Xe)\n",
    "# xe_pr = PengRobinsonFluid(:Xe)\n",
    "# ρ_vdw = [1.0 / calculate_properties(xe_vdw, 298.0, p, verbose=false)[\"molar volume (L/mol)\"] for p in p_plot]\n",
    "# ρ_pr = [1.0 / calculate_properties(xe_pr, 298.0, p, verbose=false)[\"molar volume (L/mol)\"] for p in p_plot]\n",
    "\n",
    "# figure()\n",
    "# plot(p_plot, ρ_vdw, label=\"vdw EOS\")\n",
    "# plot(p_plot, ρ_pr, label=\"Peng-Robinson EOS\")\n",
    "# plot(df_xe_data[!, Symbol(\"Pressure (bar)\")], df_xe_data[!, Symbol(\"Density (mol/l)\")], label=\"NIST\")\n",
    "# axvline(x=xe_critical_pressure, linestyle=\"--\", color=\"k\", label=\"crit. pressure\", lw=1)\n",
    "# xlabel(\"pressure [bar]\")\n",
    "# ylabel(\"density [mol/L]\")\n",
    "# title(\"EOS Comparison\")\n",
    "# legend()\n",
    "\n",
    "# # savefig(\"xenon_gas_density.png\", format=\"png\")"
   ]
  },
  {
   "cell_type": "code",
   "execution_count": null,
   "metadata": {},
   "outputs": [],
   "source": []
  }
 ],
 "metadata": {
  "@webio": {
   "lastCommId": "21b70fe7d19542b9a163f282208dc9ca",
   "lastKernelId": "14ad8d31-c8e7-4331-acf7-e6b6fff6293a"
  },
  "kernelspec": {
   "display_name": "Julia 1.3.1",
   "language": "julia",
   "name": "julia-1.3"
  },
  "language_info": {
   "file_extension": ".jl",
   "mimetype": "application/julia",
   "name": "julia",
   "version": "1.3.1"
  }
 },
 "nbformat": 4,
 "nbformat_minor": 2
}
