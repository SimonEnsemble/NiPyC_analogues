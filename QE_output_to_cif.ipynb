{
 "cells": [
  {
   "cell_type": "markdown",
   "metadata": {},
   "source": [
    "# QE to cif"
   ]
  },
  {
   "cell_type": "code",
   "execution_count": 1,
   "metadata": {},
   "outputs": [],
   "source": [
    "using PorousMaterials, LinearAlgebra"
   ]
  },
  {
   "cell_type": "code",
   "execution_count": 2,
   "metadata": {},
   "outputs": [
    {
     "data": {
      "text/plain": [
       "3×3 Array{Float64,2}:\n",
       " 6.2528   7.66837e-16  -0.227594   \n",
       " 0.0     12.5234        6.43209e-16\n",
       " 0.0      0.0          10.2743     "
      ]
     },
     "execution_count": 2,
     "metadata": {},
     "output_type": "execute_result"
    }
   ],
   "source": [
    "xtal_name = \"NiPyC2_relax.cif\"\n",
    "crystal = Crystal(xtal_name)\n",
    "crystal.box.f_to_c"
   ]
  },
  {
   "cell_type": "code",
   "execution_count": 3,
   "metadata": {},
   "outputs": [
    {
     "data": {
      "text/plain": [
       "Bravais unit cell of a crystal.\n",
       "\tUnit cell angles α = 90.000000 deg. β = 91.269007 deg. γ = 90.000000 deg.\n",
       "\tUnit cell dimensions a = 6.252808 Å. b = 12.523418 Å, c = 10.276816 Å\n",
       "\tVolume of unit cell: 804.544507 Å³\n"
      ]
     },
     "execution_count": 3,
     "metadata": {},
     "output_type": "execute_result"
    }
   ],
   "source": [
    "function find_start_coords(lines::Array{String,1})\n",
    "    start_coords = 0\n",
    "    for line in lines\n",
    "        start_coords += 1\n",
    "        if occursin(\"Begin final coordinates\", line)\n",
    "            return start_coords + 2\n",
    "        end\n",
    "    end\n",
    "end\n",
    "\n",
    "function find_no_atoms(lines::Array{String,1})\n",
    "    for line in lines\n",
    "        if occursin(\"number of atoms/cell\", line)\n",
    "            return parse(Int64, split(line)[5])\n",
    "        end\n",
    "    end\n",
    "end\n",
    "\n",
    "function read_coords(lines::Array{String,1})\n",
    "    n_atoms = find_no_atoms(lines)\n",
    "    xf = zeros(3, n_atoms)\n",
    "    species = [:blah for i = 1:n_atoms]\n",
    "    start_coords = find_start_coords(lines)\n",
    "    for a = 1:n_atoms\n",
    "        line = split(lines[start_coords+a])\n",
    "        species[a] = Symbol(line[1])\n",
    "        for c = 1:3\n",
    "            xf[c, a] = parse(Float64, line[1+c])\n",
    "        end\n",
    "    end\n",
    "    return species, xf\n",
    "end\n",
    "\n",
    "function read_lattice_parameter(lines::Array{String,1})\n",
    "    for line in lines\n",
    "        if occursin(\"lattice parameter\", line)\n",
    "            # Bohr to Angstrom\n",
    "            return parse(Float64, split(line)[5]) * 0.529177\n",
    "        end\n",
    "    end\n",
    "end\n",
    "\n",
    "function read_box(lines::Array{String,1})\n",
    "    # find start of box info\n",
    "    box_start = 0\n",
    "    for line in lines\n",
    "        box_start += 1\n",
    "        if occursin(\"crystal axes\", line)\n",
    "            break\n",
    "        end\n",
    "    end\n",
    "    f_to_c = zeros(3, 3)\n",
    "    for i = 1:3\n",
    "        for j = 1:3\n",
    "            f_to_c[i, j] = parse(Float64, split(lines[box_start+j])[3+i])\n",
    "        end\n",
    "    end\n",
    "    \n",
    "    # scale by lattice params\n",
    "    return f_to_c * read_lattice_parameter(lines)\n",
    "end\n",
    "\n",
    "function read_unitcell_volume(lines::Array{String,1})\n",
    "    for line in lines\n",
    "        if occursin(\"unit-cell volume\", line)\n",
    "            return parse(Float64, split(line)[4]) * 0.529177 ^ 3 # Bohr to Angstrom\n",
    "        end\n",
    "    end\n",
    "end\n",
    "\n",
    "function qe_output_to_cif(qe_output_filename::String)\n",
    "    # read in lines of QE output file\n",
    "    qe_file = open(qe_output_filename)\n",
    "    lines = readlines(qe_file)\n",
    "    close(qe_file)\n",
    "    \n",
    "    # read species and coords\n",
    "    species, xf = read_coords(lines)\n",
    "    atoms = Atoms(species, Frac(xf))\n",
    "\n",
    "    # read unit cell info\n",
    "    f_to_c = read_box(lines)\n",
    "    box = Box(f_to_c)\n",
    "    \n",
    "    # assert unit cell volume same as determinant of f to c matrix\n",
    "    @assert isapprox(read_unitcell_volume(lines), det(f_to_c), atol=0.2)\n",
    "\n",
    "    return Crystal(qe_output_filename, box, atoms, Charges{Frac}(0))\n",
    "end\n",
    "\n",
    "qe_output_filename = joinpath(\"structural_relaxation\", \"pw_NiPyC2_P1.relax.out\")\n",
    "xtal = qe_output_to_cif(qe_output_filename)\n",
    "\n",
    "write_cif(crystal, \"Nick.cif\")\n",
    "xtal.box"
   ]
  },
  {
   "cell_type": "code",
   "execution_count": 4,
   "metadata": {},
   "outputs": [
    {
     "data": {
      "text/plain": [
       "Bravais unit cell of a crystal.\n",
       "\tUnit cell angles α = 90.000000 deg. β = 91.269000 deg. γ = 90.000000 deg.\n",
       "\tUnit cell dimensions a = 6.252800 Å. b = 12.523400 Å, c = 10.276800 Å\n",
       "\tVolume of unit cell: 804.540972 Å³\n"
      ]
     },
     "execution_count": 4,
     "metadata": {},
     "output_type": "execute_result"
    }
   ],
   "source": [
    "crystal.box"
   ]
  }
 ],
 "metadata": {
  "@webio": {
   "lastCommId": null,
   "lastKernelId": null
  },
  "kernelspec": {
   "display_name": "Julia 1.3.1",
   "language": "julia",
   "name": "julia-1.3"
  },
  "language_info": {
   "file_extension": ".jl",
   "mimetype": "application/julia",
   "name": "julia",
   "version": "1.3.1"
  }
 },
 "nbformat": 4,
 "nbformat_minor": 4
}
