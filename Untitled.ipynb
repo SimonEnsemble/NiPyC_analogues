{
 "cells": [
  {
   "cell_type": "code",
   "execution_count": 3,
   "metadata": {},
   "outputs": [
    {
     "name": "stderr",
     "output_type": "stream",
     "text": [
      "┌ Info: Precompiling MOFun [top-level]\n",
      "└ @ Base loading.jl:1273\n",
      "ERROR: LoadError: syntax: missing comma or ) in argument list\n",
      "Stacktrace:\n",
      " [1] top-level scope at /home/ng/Documents/Graduate_Research/Cory_Simon/DTRA/MOFun/MOFun.jl:36\n",
      " [2] include at ./boot.jl:328 [inlined]\n",
      " [3] include_relative(::Module, ::String) at ./loading.jl:1105\n",
      " [4] include(::Module, ::String) at ./Base.jl:31\n",
      " [5] top-level scope at none:2\n",
      " [6] eval at ./boot.jl:330 [inlined]\n",
      " [7] eval(::Expr) at ./client.jl:425\n",
      " [8] top-level scope at ./none:3\n",
      "in expression starting at /home/ng/Documents/Graduate_Research/Cory_Simon/DTRA/MOFun/MOFun.jl:36\n"
     ]
    },
    {
     "ename": "ErrorException",
     "evalue": "Failed to precompile MOFun [top-level] to /home/ng/.julia/compiled/v1.3/MOFun.ji.",
     "output_type": "error",
     "traceback": [
      "Failed to precompile MOFun [top-level] to /home/ng/.julia/compiled/v1.3/MOFun.ji.",
      "",
      "Stacktrace:",
      " [1] error(::String) at ./error.jl:33",
      " [2] compilecache(::Base.PkgId, ::String) at ./loading.jl:1283",
      " [3] _require(::Base.PkgId) at ./loading.jl:1024",
      " [4] require(::Base.PkgId) at ./loading.jl:922",
      " [5] require(::Module, ::Symbol) at ./loading.jl:917",
      " [6] top-level scope at In[3]:1"
     ]
    }
   ],
   "source": [
    "using MOFun"
   ]
  },
  {
   "cell_type": "code",
   "execution_count": 2,
   "metadata": {},
   "outputs": [
    {
     "data": {
      "text/plain": [
       "4-element Array{String,1}:\n",
       " \"@\"                                                         \n",
       " \"@v#.#\"                                                     \n",
       " \"@stdlib\"                                                   \n",
       " \"/home/ng/Documents/Graduate_Research/Cory_Simon/DTRA/MOFun\""
      ]
     },
     "execution_count": 2,
     "metadata": {},
     "output_type": "execute_result"
    }
   ],
   "source": [
    "push!(LOAD_PATH, joinpath(pwd(), \"MOFun\"))"
   ]
  },
  {
   "cell_type": "code",
   "execution_count": null,
   "metadata": {},
   "outputs": [],
   "source": []
  }
 ],
 "metadata": {
  "kernelspec": {
   "display_name": "Julia 1.3.1",
   "language": "julia",
   "name": "julia-1.3"
  },
  "language_info": {
   "file_extension": ".jl",
   "mimetype": "application/julia",
   "name": "julia",
   "version": "1.3.1"
  }
 },
 "nbformat": 4,
 "nbformat_minor": 4
}
