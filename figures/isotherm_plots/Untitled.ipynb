{
 "cells": [
  {
   "cell_type": "markdown",
   "id": "9f83b5d3",
   "metadata": {},
   "source": [
    "# Plot Adsorption Isotherms\n",
    "\n",
    "In this notebook:\n",
    "1. Henry coefficient fits to experimental isotherm data\n",
    "2. Experimental and Simulated adsorption isotherms for:\n",
    "\n",
    "    (i)  Ni(PyC)2 \n",
    "        (a) Xe, Kr, Ar @ T = 298 K\n",
    "    (ii) Ni(PyC-m-NH2)2 \n",
    "        (a) Xe, Kr, Ar @ T = 298 K \n",
    "        (b) Xe in different topologies: \n",
    "            - single-net v.s. double-net \n",
    "            - Pn v.s. P2_1/n (cis v.s. trans PyC)\n",
    "3. Experimental (only) isotherms:\n",
    "\n",
    "    (i)  Ni(PyC)2\n",
    "         (a) Xe, Kr, and Ar @ T = 278 K, 288 K, 298 K \n",
    "         (b)Nitrogen adsorption and desorption @ T = 77 K\n",
    "    (ii) Ni(PyC-m-NH2)2\n",
    "         (a) Xe, Kr, and Ar @ T = 278 K, 288 K, and 298 K \n",
    "         (b) Nitrogen adsorption and desorption @ T = 77 K\n",
    "4. DFT relaxation methods comparison plot (Xe adsorption @ T = 298 K)"
   ]
  },
  {
   "cell_type": "code",
   "execution_count": null,
   "id": "82cc0722",
   "metadata": {},
   "outputs": [],
   "source": [
    "using PorousMaterials\n",
    "using JLD2\n",
    "using CSV\n",
    "using DataFrames\n",
    "using LinearAlgebra\n",
    "using PyPlot\n",
    "using PyCall\n",
    "using Printf\n",
    "\n",
    "# set plot params\n",
    "PyPlot.matplotlib.style.use(\"ggplot\")\n",
    "rcParams = PyPlot.PyDict(PyPlot.matplotlib.\"rcParams\")\n",
    "rcParams[\"font.size\"] = 16;"
   ]
  },
  {
   "cell_type": "code",
   "execution_count": null,
   "id": "90763970",
   "metadata": {},
   "outputs": [],
   "source": [
    "# set path to data\n",
    "set_path_to_data(joinpath(pwd(), \"../../data\"));"
   ]
  },
  {
   "cell_type": "markdown",
   "id": "01b8556a",
   "metadata": {},
   "source": [
    "**Define parameters used for locating data**"
   ]
  },
  {
   "cell_type": "code",
   "execution_count": null,
   "id": "d92f324e",
   "metadata": {},
   "outputs": [],
   "source": [
    "###\n",
    "#  properties we want to pull from simulation results dictionary\n",
    "###\n",
    "props_we_want = [\"pressure (bar)\", \"fugacity (bar)\", \"⟨N⟩ (mmol/g)\"]\n",
    "\n",
    "###\n",
    "#  Gas (adsorbate) molecules\n",
    "###\n",
    "adsorbates = [\"Xe\", \"Kr\", \"Ar\"]\n",
    "molar_mass  = Dict(\"Xe\" => 131.293, \"Kr\" => 83.798, \"Ar\" => 39.948) # [g / mol], used for unit conversions\n",
    "\n",
    "###\n",
    "#  simulation parameters\n",
    "#   used to locate desired simulation files\n",
    "###\n",
    "pmin  = -3  # minimum pessure in log10, units: bar\n",
    "pmax  = 1.0 # maximum pressure (actual value), units: bar\n",
    "nstep = 25  # number of intervals in pressure range\n",
    "\n",
    "sim_params = Dict(\"adsorbates\"  => adsorbates,\n",
    "                  \"temperature\" => 298.0, # units: K\n",
    "                  \"molecules\"   => Dict(zip(adsorbates, Molecule.(adsorbates))),\n",
    "                  \"pressures\"   => 10 .^ range(pmin, stop=log10(pmax), length=nstep),\n",
    "                  \"ljff\"        => LJForceField(\"UFF\"), # molecular force field model\n",
    "                  \"n_burn\"      => 50000, # number of burn cycles in simulation\n",
    "                  \"n_sample\"    => 50000  # number of production cycles \n",
    "                  )\n",
    "\n"
   ]
  },
  {
   "cell_type": "code",
   "execution_count": null,
   "id": "526ebfb0",
   "metadata": {},
   "outputs": [],
   "source": [
    "thing_name = \n",
    "# (\"NiPyC2\", \"\") => Dict(:marker => )"
   ]
  },
  {
   "cell_type": "code",
   "execution_count": null,
   "id": "bcaac592",
   "metadata": {},
   "outputs": [],
   "source": [
    "adsorbate_to_color = Dict(zip(adsorbates, [\"C0\", \"C1\", \"C2\"]))\n",
    "\n",
    "# adsorbate_to_marker = Dict(zip([\"Xe\", \"Kr\", \"Ar\"], [\"v\", \"D\", \"h\"]))\n",
    "\n",
    "\n",
    "markers = [\"o\", \"v\", \"^\", \">\", \"<\", \"1\", \"2\", \"3\", \"4\", \"8\", \"s\", \"p\", \"P\", \n",
    "            \"*\", \"h\", \"H\", \"+\", \"x\", \"X\", \"D\", \"d\", \".\"]\n",
    "\n",
    "\n",
    "###\n",
    "#  IDEA!! Make THIS A TUPLE: (Xe, sim) => \"X\", (Xe, exp) => \"v\"\n",
    "data_marker = Dict(zip([1, 2, 3, 4, 5, 6],[\"X\", \"v\", \"P\", \"D\", \"*\", \"h\"]))\n",
    "\n",
    "# labels for each MOF\n",
    "# mof_to_marker = Dict(zip(frameworks, [\"x\", \"s\", \"P\", \"o\", \"*\", \">\"]))\n",
    "# mof_to_color = Dict(zip(frameworks, [\"C$i\" for i = 1:length(frameworks)]))\n",
    "\n",
    "# labels for each experimental data set\n",
    "labels_exp = Dict(\"Xe\" => \"Xe experiment\", \n",
    "                  \"Kr\" => \"Kr experiment\", \n",
    "                  \"Ar\" => \"Ar experiment\")\n",
    "\n",
    "exp_data_to_marker = Dict(zip([\"\", \"NH2\"], [\"v\", \"D\"]))\n",
    "exp_data_to_color  = Dict(zip([\"\", \"NH2\"], [\"g\", \"b\"]))\n",
    "\n",
    "# labels for adsorbate used\n",
    "labels_gas = Dict(\"Xe\" => \"Xe simulation\",\n",
    "                  \"Kr\" => \"Kr simulation\",\n",
    "                  \"Ar\" => \"Ar simulation\")\n",
    "\n",
    "pretty_names = Dict((\"NiPyC2\", \"\") => \"Ni(PyC)\" * L\"_2\", \n",
    "                    (\"NiPyC2\", \"mNH2\") => \"Ni(PyC-\" * L\"m\" * \"-NH\" * L\"_2\" * \")\" * L\"_2\")"
   ]
  }
 ],
 "metadata": {
  "kernelspec": {
   "display_name": "Julia 1.6.0",
   "language": "julia",
   "name": "julia-1.6"
  },
  "language_info": {
   "file_extension": ".jl",
   "mimetype": "application/julia",
   "name": "julia",
   "version": "1.6.0"
  }
 },
 "nbformat": 4,
 "nbformat_minor": 5
}
