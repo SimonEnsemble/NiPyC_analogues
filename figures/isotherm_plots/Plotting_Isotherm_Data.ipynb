{
 "cells": [
  {
   "cell_type": "code",
   "execution_count": 1,
   "metadata": {},
   "outputs": [],
   "source": [
    "using PorousMaterials\n",
    "using FileIO\n",
    "using JLD2\n",
    "using CSV\n",
    "using DataFrames\n",
    "using PyPlot\n",
    "using PyCall\n",
    "\n",
    "# PyPlot.matplotlib.style.use(\"Solarize_Light2\")\n",
    "PyPlot.matplotlib.style.use(\"ggplot\")\n",
    "\n",
    "rcParams = PyPlot.PyDict(PyPlot.matplotlib.\"rcParams\")\n",
    "rcParams[\"font.size\"] = 16; #16;"
   ]
  },
  {
   "cell_type": "code",
   "execution_count": 2,
   "metadata": {},
   "outputs": [
    {
     "name": "stdout",
     "output_type": "stream",
     "text": [
      "general data folder: /home/ng/DTRA/figures/isotherm_plots/../../data\n",
      "\tcrystal structures (.cif, .cssr): /home/ng/DTRA/figures/isotherm_plots/../../data/crystals\n",
      "\tforce field files (.csv): /home/ng/DTRA/figures/isotherm_plots/../../data/forcefields\n",
      "\tmolecule input files: /home/ng/DTRA/figures/isotherm_plots/../../data/molecules\n",
      "\tsimulation output files: /home/ng/DTRA/figures/isotherm_plots/../../data/simulations\n",
      "\tgrids (.cube): /home/ng/DTRA/figures/isotherm_plots/../../data/grids\n"
     ]
    }
   ],
   "source": [
    "set_path_to_data(joinpath(pwd(), \"../../data\"))"
   ]
  },
  {
   "cell_type": "code",
   "execution_count": 3,
   "metadata": {},
   "outputs": [
    {
     "ename": "LoadError",
     "evalue": "InterruptException:",
     "output_type": "error",
     "traceback": [
      "InterruptException:",
      "",
      "Stacktrace:",
      "  [1] CSV.File(h::CSV.Header{false, Parsers.Options{false, true, true, false, Missing, UInt8, Nothing}, Vector{UInt8}}; finalizebuffer::Bool, startingbyteposition::Nothing, endingbyteposition::Nothing, limit::Nothing, threaded::Nothing, typemap::Dict{Type, Type}, tasks::Int64, lines_to_check::Int64, maxwarnings::Int64, debug::Bool)",
      "    @ CSV ~/.julia/packages/CSV/CJfFO/src/file.jl:303",
      "  [2] CSV.File(source::String; header::Int64, normalizenames::Bool, datarow::Int64, skipto::Nothing, footerskip::Int64, transpose::Bool, comment::Nothing, use_mmap::Nothing, ignoreemptylines::Bool, select::Nothing, drop::Nothing, missingstrings::Vector{String}, missingstring::String, delim::Nothing, ignorerepeated::Bool, quotechar::Char, openquotechar::Nothing, closequotechar::Nothing, escapechar::Char, dateformat::Nothing, dateformats::Nothing, decimal::UInt8, truestrings::Vector{String}, falsestrings::Vector{String}, type::Nothing, types::Nothing, typemap::Dict{Type, Type}, pool::Float64, lazystrings::Bool, strict::Bool, silencewarnings::Bool, debug::Bool, parsingdebug::Bool, kw::Base.Iterators.Pairs{Union{}, Union{}, Tuple{}, NamedTuple{(), Tuple{}}})",
      "    @ CSV ~/.julia/packages/CSV/CJfFO/src/file.jl:218",
      "  [3] CSV.File(source::String)",
      "    @ CSV ~/.julia/packages/CSV/CJfFO/src/file.jl:217",
      "  [4] read(source::String, sink::Type; copycols::Bool, kwargs::Base.Iterators.Pairs{Union{}, Union{}, Tuple{}, NamedTuple{(), Tuple{}}})",
      "    @ CSV ~/.julia/packages/CSV/CJfFO/src/CSV.jl:45",
      "  [5] read",
      "    @ ~/.julia/packages/CSV/CJfFO/src/CSV.jl:42 [inlined]",
      "  [6] Molecule(species::String; check_neutrality::Bool)",
      "    @ PorousMaterials ~/.julia/dev/PorousMaterials/src/molecule.jl:58",
      "  [7] Molecule",
      "    @ ~/.julia/dev/PorousMaterials/src/molecule.jl:58 [inlined]",
      "  [8] _broadcast_getindex_evalf",
      "    @ ./broadcast.jl:648 [inlined]",
      "  [9] _broadcast_getindex",
      "    @ ./broadcast.jl:621 [inlined]",
      " [10] getindex",
      "    @ ./broadcast.jl:575 [inlined]",
      " [11] macro expansion",
      "    @ ./broadcast.jl:984 [inlined]",
      " [12] macro expansion",
      "    @ ./simdloop.jl:77 [inlined]",
      " [13] copyto!",
      "    @ ./broadcast.jl:983 [inlined]",
      " [14] copyto!",
      "    @ ./broadcast.jl:936 [inlined]",
      " [15] copy",
      "    @ ./broadcast.jl:908 [inlined]",
      " [16] materialize(bc::Base.Broadcast.Broadcasted{Base.Broadcast.DefaultArrayStyle{1}, Nothing, Type{Molecule}, Tuple{Vector{String}}})",
      "    @ Base.Broadcast ./broadcast.jl:883",
      " [17] top-level scope",
      "    @ In[3]:10",
      " [18] eval",
      "    @ ./boot.jl:360 [inlined]",
      " [19] include_string(mapexpr::typeof(REPL.softscope), mod::Module, code::String, filename::String)",
      "    @ Base ./loading.jl:1094"
     ]
    }
   ],
   "source": [
    "# whtat properties do you want to put into the .csv?\n",
    "props_we_want = [\"pressure (bar)\", \"fugacity (bar)\", \"⟨N⟩ (mmol/g)\"]\n",
    "\n",
    "adsorbates = [\"Xe\", \"Kr\", \"Ar\"]\n",
    "\n",
    "pmin  = -3 # minimum pessure in log10, units: bar\n",
    "pmax  = 1.0 # maximum pressure (actual value), units: bar\n",
    "nstep = 25 # number of intervals in pressure range\n",
    "\n",
    "sim_params = Dict(\"adsorbates\" => adsorbates,\n",
    "                  \"temp\"       => 298.0, # units: K\n",
    "                  \"molecules\"  => Dict(zip(adsorbates, Molecule.(adsorbates))),\n",
    "                  \"pressures\"  => 10 .^ range(pmin, stop=log10(pmax), length=nstep),\n",
    "                  \"ljff\"       => LJForceField(\"UFF\"),\n",
    "                  \"n_burn\"     => 50000,\n",
    "                  \"n_sample\"   => 50000\n",
    "                  )"
   ]
  },
  {
   "cell_type": "markdown",
   "metadata": {},
   "source": [
    "## Data Retrieval Functions\n",
    "\n",
    "#### Experimental"
   ]
  },
  {
   "cell_type": "code",
   "execution_count": 4,
   "metadata": {},
   "outputs": [
    {
     "data": {
      "text/plain": [
       "experimental_isotherm_data (generic function with 2 methods)"
      ]
     },
     "execution_count": 4,
     "metadata": {},
     "output_type": "execute_result"
    }
   ],
   "source": [
    "function experimental_isotherm_data(adsorbate::String, fgroup::String=\"\")\n",
    "    # define data file name\n",
    "    filename = \"NiPyC2\" \n",
    "    if ! isempty(fgroup)\n",
    "        filename *= \"-\" * fgroup\n",
    "    end\n",
    "    filename *= \"_\" * adsorbate * \"_T_298.csv\"\n",
    "    @info filename\n",
    "    # define path to data file\n",
    "    wheres_exptl_data = joinpath(PorousMaterials.PATH_TO_DATA,\n",
    "        \"experimental_isotherm_data\", filename)\n",
    "    \n",
    "    # read data file into a DataFrame\n",
    "    df_exptl_data = CSV.read(wheres_exptl_data, DataFrame)\n",
    "    # rename to adsorption column for consistency \n",
    "    rename!(df_exptl_data, Symbol(\"loading (mmol/g)\") => Symbol(\"⟨N⟩ (mmol/g)\"))\n",
    "    \n",
    "    # ignore desortion\n",
    "    desorp_onset = argmax(df_exptl_data[!, Symbol(\"pressure (bar)\")]) # onset of desorption\n",
    "    df_exptl_data = df_exptl_data[1:desorp_onset, [Symbol(\"pressure (bar)\"), Symbol(\"⟨N⟩ (mmol/g)\")]]\n",
    "    \n",
    "    # add a point at the origin\n",
    "    push!(df_exptl_data, [0.0, 0.0])\n",
    "    \n",
    "    # sort in order of increasing pressure\n",
    "    sort!(df_exptl_data, Symbol(\"pressure (bar)\"))\n",
    "    return df_exptl_data\n",
    "end"
   ]
  },
  {
   "cell_type": "code",
   "execution_count": 5,
   "metadata": {},
   "outputs": [],
   "source": [
    "# experimental_isotherm_data(\"Xe\")"
   ]
  },
  {
   "cell_type": "markdown",
   "metadata": {},
   "source": [
    "#### Simulation"
   ]
  },
  {
   "cell_type": "code",
   "execution_count": 6,
   "metadata": {},
   "outputs": [
    {
     "data": {
      "text/plain": [
       "adsorption_scale_factor (generic function with 1 method)"
      ]
     },
     "execution_count": 6,
     "metadata": {},
     "output_type": "execute_result"
    }
   ],
   "source": [
    "function read_sim_data(props::Array{String, 1}, xtal::Crystal, \n",
    "                        gas::Molecule{Cart}, temp::Float64, ljff::LJForceField, \n",
    "                        pressures::Array{Float64}, nburn::Int64, nsample::Int64)\n",
    "    press = [[p] for p in pressures]\n",
    "    df_sim = isotherm_sim_results_to_dataframe(props, xtal, [gas], temp, press, ljff, nburn, nsample)\n",
    "    push!(df_sim, [[0.0], [0.0], [0.0]]) ### add point at origin ###\n",
    "    sort!(df_sim, Symbol(\"pressure (bar)\"))\n",
    "    return df_sim\n",
    "end\n",
    "\n",
    "# create a second method that is easier to implement\n",
    "function read_sim_data(props::Array{String, 1}, gas::String, params::Dict{String, Any})\n",
    "    @assert (gas in params[\"adsorbates\"])\n",
    "    gas = Molecule(gas)\n",
    "    return read_sim_data(props, params[\"xtal\"], gas, params[\"temp\"],\n",
    "                         params[\"ljff\"], params[\"pressures\"], params[\"n_burn\"], params[\"n_sample\"])\n",
    "end\n",
    "\n",
    "###\n",
    "#  account for change in unit cell volume when plotting adsorbates/unit_cell comparison\n",
    "###\n",
    "function adsorption_scale_factor(mof::String)\n",
    "    xtal = Crystal(mof)\n",
    "    strip_numbers_from_atom_labels!(xtal)\n",
    "#         @assert length(frameworks) == 1\n",
    "    adsorption_scale_factor = 6.02214 * crystal_density(xtal) * xtal.box.Ω * 10^(-7)\n",
    "    return adsorption_scale_factor\n",
    "end"
   ]
  },
  {
   "cell_type": "markdown",
   "metadata": {},
   "source": [
    "### Ni(PyC)2 adsorption isotherm plot"
   ]
  },
  {
   "cell_type": "code",
   "execution_count": 7,
   "metadata": {},
   "outputs": [
    {
     "data": {
      "text/plain": [
       "Dict{String, String} with 3 entries:\n",
       "  \"Kr\" => \"Kr simulation\"\n",
       "  \"Ar\" => \"Ar simulation\"\n",
       "  \"Xe\" => \"Xe simulation\""
      ]
     },
     "execution_count": 7,
     "metadata": {},
     "output_type": "execute_result"
    }
   ],
   "source": [
    "adsorbate_to_color = Dict(zip(adsorbates, [\"C0\", \"C1\", \"C2\"]))\n",
    "\n",
    "# adsorbate_to_marker = Dict(zip([\"Xe\", \"Kr\", \"Ar\"], [\"v\", \"D\", \"h\"]))\n",
    "\n",
    "data_marker = Dict(zip([1, 2, 3, 4, 5, 6],[\"X\", \"v\", \"P\", \"D\", \"*\", \"h\"]))\n",
    "\n",
    "# labels for each MOF\n",
    "# mof_to_marker = Dict(zip(frameworks, [\"x\", \"s\", \"P\", \"o\", \"*\", \">\"]))\n",
    "# mof_to_color = Dict(zip(frameworks, [\"C$i\" for i = 1:length(frameworks)]))\n",
    "\n",
    "# labels for each experimental data set\n",
    "labels_exp = Dict(\"Xe\" => \"Xe experiment\", \n",
    "                  \"Kr\" => \"Kr experiment\", \n",
    "                  \"Ar\" => \"Ar experiment\")\n",
    "\n",
    "exp_data_to_marker = Dict(zip([\"\", \"NH2\"], [\"v\", \"D\"]))\n",
    "exp_data_to_color = Dict(zip([\"\", \"NH2\"], [\"g\", \"b\"]))\n",
    "\n",
    "# labels for adsorbate used\n",
    "labels_gas = Dict(\"Xe\" => \"Xe simulation\",\n",
    "                  \"Kr\" => \"Kr simulation\",\n",
    "                  \"Ar\" => \"Ar simulation\")"
   ]
  },
  {
   "cell_type": "code",
   "execution_count": 8,
   "metadata": {},
   "outputs": [
    {
     "name": "stderr",
     "output_type": "stream",
     "text": [
      "┌ Info: Crystal NiPyC2_experiment.cif has Pn space group. I am converting it to P1 symmetry.\n",
      "│         To afrain from this, pass `convert_to_p1=false` to the `Crystal` constructor.\n",
      "└ @ PorousMaterials /home/ng/.julia/dev/PorousMaterials/src/crystal.jl:426\n"
     ]
    },
    {
     "ename": "LoadError",
     "evalue": "UndefVarError: sim_params not defined",
     "output_type": "error",
     "traceback": [
      "UndefVarError: sim_params not defined",
      "",
      "Stacktrace:",
      " [1] top-level scope",
      "   @ In[8]:19",
      " [2] eval",
      "   @ ./boot.jl:360 [inlined]",
      " [3] include_string(mapexpr::typeof(REPL.softscope), mod::Module, code::String, filename::String)",
      "   @ Base ./loading.jl:1094"
     ]
    }
   ],
   "source": [
    "# frameworks to plot\n",
    "frameworks = [\"NiPyC2_experiment.cif\"]\n",
    "labels_mof = Dict(zip(frameworks, [\"Ni(PyC)\"*L\"_2\"]))\n",
    "\n",
    "###\n",
    "# Create Figure\n",
    "###\n",
    "fig, ax1 = plt.subplots() # create the figure as a subplot\n",
    "\n",
    "# create an array for plot handles\n",
    "plts = Array{Any, 1}(undef, 6)\n",
    "nn = 0 # plot index\n",
    "\n",
    "# create an empty plot object to place T=298 K in legend\n",
    "# plts[nn] = ax1.scatter([], [], label=\"T = 298 K\", marker=data_marker[nn], color=\"\")\n",
    "\n",
    "\n",
    "########\n",
    "sim_params[\"xtal\"] = Crystal(frameworks[1])\n",
    "\n",
    "for gas in adsorbates\n",
    "    for mof in frameworks\n",
    "        # increment plot index\n",
    "        nn += 1 \n",
    "\n",
    "        # load in simulation data\n",
    "        df_sim = read_sim_data(props_we_want, gas, sim_params)\n",
    "        \n",
    "        # plot uptake mmol/g \n",
    "        plts[nn] = ax1.plot(df_sim[:, Symbol(\"pressure (bar)\")], \n",
    "                            df_sim[:, Symbol(\"⟨N⟩ (mmol/g)\")], \n",
    "                            label=labels_gas[gas],\n",
    "                            marker=data_marker[nn],\n",
    "                            markersize=8,\n",
    "                            markeredgecolor=\"black\",\n",
    "                            markeredgewidth=0.1,\n",
    "                            color=adsorbate_to_color[gas],\n",
    "                            clip_on=false)\n",
    "    end\n",
    "    # increment plot index\n",
    "    nn += 1 \n",
    "    \n",
    "    # reset ads_scale_factor\n",
    "    ads_scale_factor = 1.0 \n",
    "    \n",
    "    # load exptl data\n",
    "    df_exp = experimental_isotherm_data(gas) # default fgroup=\"\"\n",
    "    # plot exptl data\n",
    "    plts[nn] = ax1.scatter(df_exp[:, Symbol(\"pressure (bar)\")], \n",
    "                            df_exp[:, Symbol(\"⟨N⟩ (mmol/g)\")], \n",
    "                            label=labels_exp[gas],\n",
    "                            marker=data_marker[nn],\n",
    "                            color=adsorbate_to_color[gas],\n",
    "                            clip_on=false)\n",
    "end\n",
    "\n",
    "ads_scale_factor = adsorption_scale_factor(frameworks[1])\n",
    "\n",
    "# title(\"Ni(PyC)\" * L\"$_2$\" * \" simulation vs. experiment\")\n",
    "legend(loc=\"upper right\", fontsize=\"xx-small\",\n",
    "       title=\"Ni(PyC)\" * L\"$_2$\" * \"  @  T = 298 K\", \n",
    "       title_fontsize=\"xx-small\", ncol=2)\n",
    "\n",
    "ax1.grid(\"on\")\n",
    "ax1.set_xlabel(\"pressure [bar]\")\n",
    "ax1.set_ylabel(\"uptake [mmol/g]\")\n",
    "\n",
    "ymin = -0.04\n",
    "ymax = 4.5\n",
    "ax1.set_ylim(ymin, ymax)\n",
    "\n",
    "\n",
    "xmin = -0.01\n",
    "xmax = sim_params[\"pressures\"][end] + 0.02\n",
    "ax1.set_xlim(xmin, xmax)\n",
    "\n",
    "ax1.axhline(y=2/ads_scale_factor, linestyle=\"--\", color=\"0.4\")\n",
    "ax1.text(0.02, 2/ads_scale_factor+0.04, \"2 adsorbates/unit cell\", color=\"0.4\", fontsize=9)\n",
    "\n",
    "tight_layout()\n",
    "# savefig(\"NiPyC2_isotherms_sim_vs_exp_UFF.png\", dpi=300, format=\"png\")\n",
    "# savefig(\"NiPyC2_isotherms_sim_vs_exp_UFF.pdf\", dpi=300, format=\"pdf\")"
   ]
  },
  {
   "cell_type": "markdown",
   "metadata": {},
   "source": [
    "### Ni(PyC-m-NH2)2 Adsorption Isotherm Plot"
   ]
  },
  {
   "cell_type": "code",
   "execution_count": 9,
   "metadata": {},
   "outputs": [
    {
     "ename": "LoadError",
     "evalue": "UndefVarError: sim_params not defined",
     "output_type": "error",
     "traceback": [
      "UndefVarError: sim_params not defined",
      "",
      "Stacktrace:",
      " [1] top-level scope",
      "   @ In[9]:4",
      " [2] eval",
      "   @ ./boot.jl:360 [inlined]",
      " [3] include_string(mapexpr::typeof(REPL.softscope), mod::Module, code::String, filename::String)",
      "   @ Base ./loading.jl:1094"
     ]
    }
   ],
   "source": [
    "# frameworks to plot\n",
    "frameworks = [\"NiPyC2_relax_sc211_meta_functionalized_NH2_pbesol_relax.cif\"]\n",
    "\n",
    "sim_params[\"xtal\"] = Crystal(frameworks[1])\n",
    "\n",
    "labels_mof = Dict(zip(frameworks, [\"Ni(PyC-\" * L\"m\" * \"-NH\" * L\"_2\" * \")\" * L\"_2\"]))\n",
    "\n",
    "###\n",
    "# Create Figure\n",
    "###\n",
    "fig, ax1 = plt.subplots() # create the figure as a subplot\n",
    "\n",
    "# create an array for plot handles\n",
    "plts = Array{Any, 1}(undef, 6)\n",
    "nn   = 0 # plot index\n",
    "\n",
    "sim_params\n",
    "\n",
    "for gas in adsorbates\n",
    "    for mof in frameworks\n",
    "        # increment plot index\n",
    "        nn += 1 \n",
    "\n",
    "        # load in simulation data\n",
    "        df_sim = read_sim_data(props_we_want, gas, sim_params)\n",
    "        \n",
    "        # plot uptake mmol/g \n",
    "        plts[nn] = ax1.plot(df_sim[:, Symbol(\"pressure (bar)\")], \n",
    "                            df_sim[:, Symbol(\"⟨N⟩ (mmol/g)\")], \n",
    "                            label=labels_gas[gas],\n",
    "                            marker=data_marker[nn],\n",
    "                            markersize=8,\n",
    "                            markeredgecolor=\"black\",\n",
    "                            markeredgewidth=0.1,\n",
    "                            color=adsorbate_to_color[gas],\n",
    "                            clip_on=false)\n",
    "    end\n",
    "    # increment plot index\n",
    "    nn += 1 \n",
    "    \n",
    "    # load exptl data\n",
    "    df_exp = experimental_isotherm_data(gas, \"mNH2\") # default fgroup=\"\"\n",
    "    # plot exptl data\n",
    "    plts[nn] = ax1.scatter(df_exp[:, Symbol(\"pressure (bar)\")], \n",
    "                            df_exp[:, Symbol(\"⟨N⟩ (mmol/g)\")], \n",
    "                            label=labels_exp[gas],\n",
    "                            marker=data_marker[nn],\n",
    "                            color=adsorbate_to_color[gas],\n",
    "                            clip_on=false)\n",
    "end\n",
    "\n",
    "# divided by two to account for 2x1x1 cell replication before DFT relaxation\n",
    "ads_scale_factor = adsorption_scale_factor(frameworks[1])/2\n",
    "\n",
    "# title(\"Ni(PyC-\" * L\"m\" * \"-NH\" * L\"_2\" * \")\" * L\"_2\", fontsize=\"xx-small\")\n",
    "legend(loc=\"best\", fontsize=\"xx-small\",\n",
    "       title=\"Ni(PyC-\" * L\"m\" * \"-NH\" * L\"_2\" * \")\" * L\"_2\" *\"  @  T = 298 K\",\n",
    "       title_fontsize=\"xx-small\", ncol=2, edgecolor=\"none\")\n",
    "\n",
    "ax1.grid(\"on\")\n",
    "ax1.set_xlabel(\"pressure [bar]\")\n",
    "ax1.set_ylabel(\"uptake [mmol/g]\")\n",
    "\n",
    "ymin = -0.04\n",
    "ymax = 4.5\n",
    "ax1.set_ylim(ymin, ymax)\n",
    "\n",
    "\n",
    "xmin = -0.01\n",
    "xmax = sim_params[\"pressures\"][end] + 0.02\n",
    "ax1.set_xlim(xmin, xmax)\n",
    "\n",
    "ax1.axhline(y=2/ads_scale_factor, linestyle=\"--\", color=\"0.4\")\n",
    "ax1.text(0.02, 2/ads_scale_factor+0.04, \"2 adsorbates/unit cell\", color=\"0.4\", fontsize=9)\n",
    "\n",
    "tight_layout()\n",
    "# savefig(\"mNH2-NiPyC2_isotherms_sim_vs_exp_UFF.png\", dpi=300, format=\"png\")\n",
    "# savefig(\"mNH2-NiPyC2_isotherms_sim_vs_exp_UFF.pdf\", dpi=300, format=\"pdf\")"
   ]
  },
  {
   "cell_type": "markdown",
   "metadata": {},
   "source": [
    "#### Single Net Ni(PyC-m-NH2)2 Adsorption Isotherm Plot"
   ]
  },
  {
   "cell_type": "code",
   "execution_count": 10,
   "metadata": {},
   "outputs": [
    {
     "name": "stderr",
     "output_type": "stream",
     "text": [
      "┌ Info: NiPyC2-mNH2_Xe_T_298.csv\n",
      "└ @ Main In[4]:8\n"
     ]
    },
    {
     "ename": "LoadError",
     "evalue": "UndefVarError: sim_params not defined",
     "output_type": "error",
     "traceback": [
      "UndefVarError: sim_params not defined",
      "",
      "Stacktrace:",
      " [1] top-level scope",
      "   @ ./In[10]:45",
      " [2] eval",
      "   @ ./boot.jl:360 [inlined]",
      " [3] include_string(mapexpr::typeof(REPL.softscope), mod::Module, code::String, filename::String)",
      "   @ Base ./loading.jl:1094"
     ]
    }
   ],
   "source": [
    "data_marker = Dict(zip([1, 2, 3], [\"v\", \"X\", \"p\"]))\n",
    "\n",
    "net_type = [\"doubble net\", \"single net\"]\n",
    "# net_type = [\"Pn\", \"P21\"]\n",
    "\n",
    "# frameworks to plot\n",
    "frameworks = [\"NiPyC2_relax_sc211_meta_functionalized_NH2_pbesol_relax.cif\",\n",
    "              \"NiPyC2_relax_sc211_meta_functionalized_NH2_pbesol_relax_comp1.cif\"]\n",
    "# frameworks = [\"Pn_Ni-PyC-NH2.cif\", \"P21-n_Ni-PyC-NH2.cif\"]\n",
    "\n",
    "crystals = Crystal.(frameworks, remove_duplicates=true)\n",
    "\n",
    "labels_mof = Dict(zip(frameworks, \n",
    "                  [\"Ni(PyC-\" * L\"m\" * \"-NH\" * L\"_2\" * \")\" * L\"_2\", \n",
    "                   \"Ni(PyC-\" * L\"m\" * \"-NH\" * L\"_2\" * \")\" * L\"_2\"]))\n",
    "\n",
    "###\n",
    "# Create Figure\n",
    "###\n",
    "fig, ax1 = plt.subplots() # create the figure as a subplot\n",
    "\n",
    "# create an array for plot handles\n",
    "plts = Array{Any, 1}(undef, 6)\n",
    "nn   = 0 # plot index\n",
    "\n",
    "for gas in [\"Xe\"]\n",
    "    # increment plot index\n",
    "    nn += 1 \n",
    "    \n",
    "    # load exptl data\n",
    "    df_exp = experimental_isotherm_data(gas, \"mNH2\") # default fgroup=\"\"\n",
    "    # plot exptl data\n",
    "    plts[nn] = ax1.scatter(df_exp[:, Symbol(\"pressure (bar)\")], \n",
    "                            df_exp[:, Symbol(\"⟨N⟩ (mmol/g)\")], \n",
    "                            label=labels_exp[gas],\n",
    "                            marker=data_marker[nn],\n",
    "                            color=\"k\",\n",
    "                            clip_on=false)\n",
    "    \n",
    "    for (i, mof) in enumerate(crystals)\n",
    "        # increment plot index\n",
    "        nn += 1\n",
    "        \n",
    "        # needed to get isothem data\n",
    "        sim_params[\"xtal\"] = mof\n",
    "        \n",
    "        # load in simulation data\n",
    "        df_sim = read_sim_data(props_we_want, gas, sim_params)\n",
    "        \n",
    "        # plot uptake mmol/g \n",
    "        plts[nn] = ax1.plot(df_sim[:, Symbol(\"pressure (bar)\")], \n",
    "                            df_sim[:, Symbol(\"⟨N⟩ (mmol/g)\")], \n",
    "                            label=labels_gas[gas] * net_type[i],\n",
    "                            marker=data_marker[nn],\n",
    "                            markersize=8,\n",
    "                            markeredgecolor=\"black\",\n",
    "                            markeredgewidth=0.2,\n",
    "                            color=adsorbate_to_color[gas],\n",
    "                            clip_on=false)\n",
    "    end\n",
    "end\n",
    "\n",
    "# title(\"Single Net Ni(PyC-\" * L\"m\" * \"-NH\" * L\"_2\" * \")\" * L\"_2\", fontsize=\"xx-small\")\n",
    "\n",
    "\n",
    "legend(title=\"T = 298 K\", title_fontsize=\"xx-small\",\n",
    "        (plts[1], plts[2][1], plts[3][1]),\n",
    "        [\"experiment\", \"simulation, double-net\", \"simulation, single-net\"],\n",
    "        loc=\"lower right\", fontsize=\"xx-small\")\n",
    "\n",
    "ax1.grid(\"on\")\n",
    "ax1.set_xlabel(\"pressure [bar]\")\n",
    "ax1.set_ylabel(\"Xe uptake [mmol/g]\")\n",
    "\n",
    "ymin = -0.04\n",
    "ymax = 3.5\n",
    "ax1.set_ylim(ymin, ymax)\n",
    "\n",
    "\n",
    "xmin = -0.01\n",
    "xmax = sim_params[\"pressures\"][end] + 0.01\n",
    "ax1.set_xlim(xmin, xmax)\n",
    "\n",
    "tight_layout()\n",
    "# savefig(\"Single_Net_mNH2-NiPyC2_isotherms_sim_vs_exp_UFF.png\", dpi=300, format=\"png\")\n",
    "# savefig(\"Single_Net_mNH2-NiPyC2_isotherms_sim_vs_exp_UFF.pdf\", dpi=300, format=\"pdf\")"
   ]
  },
  {
   "cell_type": "markdown",
   "metadata": {},
   "source": [
    "## TODO: FIX THIS PLOT"
   ]
  },
  {
   "cell_type": "markdown",
   "metadata": {},
   "source": [
    "### Compare Ni(PyC)2 isotherms to DFT relaxed isotherms "
   ]
  },
  {
   "cell_type": "code",
   "execution_count": 11,
   "metadata": {},
   "outputs": [
    {
     "name": "stderr",
     "output_type": "stream",
     "text": [
      "┌ Info: Crystal NiPyC2_experiment.cif has Pn space group. I am converting it to P1 symmetry.\n",
      "│         To afrain from this, pass `convert_to_p1=false` to the `Crystal` constructor.\n",
      "└ @ PorousMaterials /home/ng/.julia/dev/PorousMaterials/src/crystal.jl:426\n"
     ]
    },
    {
     "ename": "LoadError",
     "evalue": "UndefVarError: sim_params not defined",
     "output_type": "error",
     "traceback": [
      "UndefVarError: sim_params not defined",
      "",
      "Stacktrace:",
      " [1] top-level scope",
      "   @ ./In[11]:34",
      " [2] eval",
      "   @ ./boot.jl:360 [inlined]",
      " [3] include_string(mapexpr::typeof(REPL.softscope), mod::Module, code::String, filename::String)",
      "   @ Base ./loading.jl:1094"
     ]
    }
   ],
   "source": [
    "frameworks = [\"NiPyC2_experiment.cif\", \n",
    "              \"NiPyC2_relax.cif\",\n",
    "              \"NiPyC2_vc-relax.cif\", \n",
    "              \"NiPyC2_pbesol-angle-vc-relax.cif\",\n",
    "              \"NiPyC2_vdw-df2_relax.cif\",\n",
    "              \"NiPyC2_vdw-df2_vc-relax.cif\"]\n",
    "\n",
    "crystals = Crystal.(frameworks)\n",
    "\n",
    "labels_mof = Dict(zip(frameworks, [L\"NiPyC$_2$\", \n",
    "                                   L\"NiPyC$_2$, pbesol relax\",\n",
    "                                   L\"NiPyC$_2$, pbesol vc-relax\", \n",
    "                                   L\"NiPyC$_2$, pbesol angle-vc-relax\",\n",
    "                                   L\"NiPyC$_2$, vdw relax\",\n",
    "                                   L\"NiPyC$_2$, vdw vc-relax\"]))\n",
    "\n",
    "adsorption_per_unit_cell = false\n",
    "ads_scale_factor = 1.0\n",
    "\n",
    "if adsorption_per_unit_cell\n",
    "    ads_scale_factor = adsorption_scale_factor(frameworks[1])\n",
    "    xtal = Crystal(frameworks[1])\n",
    "    strip_numbers_from_atom_labels!(xtal)\n",
    "#     @assert length(frameworks) == 1\n",
    "#     adsorption_scale_factor = 6.02214 * crystal_density(xtal) * xtal.box.Ω * 10^(-7)\n",
    "end\n",
    "\n",
    "###\n",
    "# make figure\n",
    "###\n",
    "figure()\n",
    "for gas in [\"Xe\"]\n",
    "    for mof in crystals\n",
    "        sim_params[\"xtal\"] = mof\n",
    "        df_sim = read_sim_data(props_we_want, gas, sim_params)\n",
    "        \n",
    "        plot(df_sim[:, Symbol(\"pressure (bar)\")], \n",
    "                df_sim[:, Symbol(\"⟨N⟩ (mmol/g)\")] * ads_scale_factor, \n",
    "                label=labels_gas[gas] * \", \" * labels_mof[mof], \n",
    "                marker=mof_to_marker[mof],\n",
    "                color=mof_to_color[mof])\n",
    "    end\n",
    "    \n",
    "    df_exp = experimental_isotherm_data(gas)\n",
    "    scatter(df_exp[:, Symbol(\"pressure (bar)\")], \n",
    "            df_exp[:, Symbol(\"⟨N⟩ (mmol/g)\")] * ads_scale_factor, \n",
    "            label=labels_exp[gas] * \", \" * L\"NiPyC$_2$\", \n",
    "            marker=exp_data_to_marker[gas], \n",
    "            color=adsorbate_to_color[gas])\n",
    "end\n",
    "\n",
    "legend(loc=\"best\", fontsize=\"xx-small\", title=\"T = 298 K\")\n",
    "xlabel(\"pressure [bar]\")\n",
    "\n",
    "if adsorption_per_unit_cell\n",
    "    ylabel(\"uptake [atoms/unit cell]\")\n",
    "else\n",
    "    ylabel(\"uptake [mmol/g]\")\n",
    "    \n",
    "end\n",
    "# title(L\"Ni(PyC)$_2$ experiment vs. simulation (UFF)\")\n",
    "# title(\"NiPyC2 isotherms with $ffield\")\n",
    "# xlim(xmin=0, xmax=1.2)\n",
    "# ylim(ymin=0, ymax=4.0)\n",
    "grid(\"on\")\n",
    "tight_layout()\n",
    "# savefig(\"NiPyC2_DFT_isotherms_with_$ffield.pdf\", dpi=300, format=\"pdf\")\n",
    "# savefig(\"NiPyC2_isotherms_uptake_per_unit_cell_with_$ffield.pdf\", dpi=300, format=\"pdf\")"
   ]
  },
  {
   "cell_type": "code",
   "execution_count": null,
   "metadata": {},
   "outputs": [],
   "source": []
  }
 ],
 "metadata": {
  "kernelspec": {
   "display_name": "Julia 1.6.0",
   "language": "julia",
   "name": "julia-1.6"
  },
  "language_info": {
   "file_extension": ".jl",
   "mimetype": "application/julia",
   "name": "julia",
   "version": "1.6.0"
  }
 },
 "nbformat": 4,
 "nbformat_minor": 4
}
