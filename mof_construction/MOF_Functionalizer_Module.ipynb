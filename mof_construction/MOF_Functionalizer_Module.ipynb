{
 "cells": [
  {
   "cell_type": "code",
   "execution_count": 1,
   "metadata": {},
   "outputs": [
    {
     "name": "stderr",
     "output_type": "stream",
     "text": [
      "┌ Info: Precompiling PorousMaterials [68953c7c-a3c7-538e-83d3-73516288599e]\n",
      "└ @ Base loading.jl:1273\n",
      "WARNING: Method definition dot(Any, Any, Any) in module Compat at /home/ng/.julia/packages/Compat/BmftR/src/Compat.jl:111 overwritten in module Optim at /home/ng/.julia/packages/Optim/cJRng/src/multivariate/precon.jl:24.\n",
      "  ** incremental compilation may be fatally broken for this module **\n",
      "\n",
      "┌ Warning: Package PorousMaterials does not have PyCall in its dependencies:\n",
      "│ - If you have PorousMaterials checked out for development and have\n",
      "│   added PyCall as a dependency but haven't updated your primary\n",
      "│   environment's manifest file, try `Pkg.resolve()`.\n",
      "│ - Otherwise you may need to report an issue with PorousMaterials\n",
      "└ Loading PyCall into PorousMaterials from project dependency, future warnings for PorousMaterials are suppressed.\n"
     ]
    }
   ],
   "source": [
    "using PorousMaterials\n",
    "## file paths for crystal files and fragment files\n",
    "# @eval PorousMaterials PATH_TO_CRYSTALS = pwd()\n",
    "# fragment_location = joinpath(pwd(),\"fragments\")"
   ]
  },
  {
   "cell_type": "code",
   "execution_count": 2,
   "metadata": {},
   "outputs": [
    {
     "data": {
      "text/plain": [
       "4-element Array{String,1}:\n",
       " \"@\"                      \n",
       " \"@v#.#\"                  \n",
       " \"@stdlib\"                \n",
       " \"/home/ng/MOFfun.jl/src/\""
      ]
     },
     "execution_count": 2,
     "metadata": {},
     "output_type": "execute_result"
    }
   ],
   "source": [
    "# # add MyModule to the path that Julia uses for modules \n",
    "push!(LOAD_PATH, joinpath(\"/home/ng/MOFfun.jl/src/\"))"
   ]
  },
  {
   "cell_type": "code",
   "execution_count": 3,
   "metadata": {
    "scrolled": false
   },
   "outputs": [
    {
     "name": "stderr",
     "output_type": "stream",
     "text": [
      "┌ Info: Precompiling MOFun [top-level]\n",
      "└ @ Base loading.jl:1273\n",
      "WARNING: Method definition dot(Any, Any, Any) in module Compat at /home/ng/.julia/packages/Compat/BmftR/src/Compat.jl:111 overwritten in module Optim at /home/ng/.julia/packages/Optim/cJRng/src/multivariate/precon.jl:24.\n",
      "  ** incremental compilation may be fatally broken for this module **\n",
      "\n"
     ]
    }
   ],
   "source": [
    "using MOFun"
   ]
  },
  {
   "cell_type": "code",
   "execution_count": 4,
   "metadata": {},
   "outputs": [
    {
     "data": {
      "text/plain": [
       "2-element Array{String,1}:\n",
       " \"ortho\"\n",
       " \"meta\" "
      ]
     },
     "execution_count": 4,
     "metadata": {},
     "output_type": "execute_result"
    }
   ],
   "source": [
    "# The name of the fragment\n",
    "# file must be a .xyz file located in ./fragments/\n",
    "# The atom species that is bonded to the :C_aro_R atom on the ring segment of the Fragment\n",
    "fragment_list = [\"Br\", \"CH2-CH2-CH3\", \"CH2-CH3\", \"CH3\", \n",
    "                \"Cl\", \"C-N\", \"F\", \"NH2\", \"N-NH\", \n",
    "                \"O-CH2-CH2-CH3\", \"O-CH2-CH3\", \"O-CH3\", \"OH\"]\n",
    "\n",
    "# The type of Arene Substitution (\"ortho\", \"meta\", \"all\") \n",
    "# TODO: \"all\" not yet implimented\n",
    "substitution_types = [\"ortho\", \"meta\"]"
   ]
  },
  {
   "cell_type": "code",
   "execution_count": 5,
   "metadata": {},
   "outputs": [
    {
     "name": "stderr",
     "output_type": "stream",
     "text": [
      "┌ Info: NiPyC2_relax.cif\n",
      "└ @ Main In[5]:4\n"
     ]
    },
    {
     "data": {
      "text/plain": [
       ":N"
      ]
     },
     "execution_count": 5,
     "metadata": {},
     "output_type": "execute_result"
    }
   ],
   "source": [
    "# which_crystal = \"NiPyC2_experiment.cif\" # experimental cif\n",
    "which_crystal = \"NiPyC2_relax.cif\" # DFT, fixed-vol relaxed cif\n",
    "# which_crystal = \"NiPyC2_vc-relax.cif\" # DFT, vc-relaxed cif\n",
    "@info which_crystal\n",
    "\n",
    "\n",
    "# open crystal in lower level symmetry\n",
    "# crystal = Crystal(which_crystal, convert_to_p1=true)\n",
    "crystal = replicate(Crystal(which_crystal, convert_to_p1=true), (2, 1, 1))\n",
    "\n",
    "strip_numbers_from_atom_labels!(crystal)\n",
    "@debug write_xyz(crystal, joinpath(\"mof_construction\", cryatal.name))\n",
    "bonding_rules = [BondingRule(:H, :*, 0.4, 1.2),\n",
    "                 BondingRule(:N, :Ni, 0.4, 2.5),\n",
    "                 BondingRule(:O, :Ni, 0.4, 2.5),\n",
    "                 BondingRule(:Ca, :O, 0.4, 2.5),\n",
    "                 BondingRule(:Zn, :O, 0.4, 2.5),\n",
    "                 BondingRule(:Br, :*, 0.4, 2.5),\n",
    "                 BondingRule(:*, :*, 0.4, 1.9)]\n",
    "\n",
    "infer_bonds!(crystal, true, bonding_rules) \n",
    "@debug write_bond_information(crystal,\n",
    "    joinpath(\"mof_construction\", remove_extension(crystal) * \"_bonds.vtk\"))\n",
    "@debug bond_sanity_check(crystal) \n",
    "\n",
    "# The species of the functional atom (R) and the ipso atom of the aromatic ring\n",
    "r_species = :blah\n",
    "ipso_species = :blah\n",
    "if which_crystal in [\"NiPyC2_experiment.cif\",\"NiPyC2_relax.cif\",\"NiPyC2_vc-relax.cif\"]\n",
    "    r_species = :Ni\n",
    "    ipso_species = :N\n",
    "elseif which_crystal == \"SBMOF-1.cif\"\n",
    "    r_species = :S\n",
    "    ipso_species = :C\n",
    "elseif which_crystal == \"IRMOF-1_clean.cssr\"\n",
    "    r_species = :C\n",
    "    ipso_species = :C\n",
    "else\n",
    "    error(\"don't know this crystal\")\n",
    "end"
   ]
  },
  {
   "cell_type": "code",
   "execution_count": 6,
   "metadata": {},
   "outputs": [],
   "source": [
    "# crystal.atoms.n\n",
    "# chemical_formula(crystal)\n",
    "# crystal.box.f_to_c"
   ]
  },
  {
   "cell_type": "code",
   "execution_count": 7,
   "metadata": {
    "scrolled": true
   },
   "outputs": [
    {
     "name": "stdout",
     "output_type": "stream",
     "text": [
      "Saving bond information for crystal NiPyC2_relax_NiPyC2_relax_aligned_Br_NiPyC2_relax_aligned_Br_NiPyC2_relax_aligned_Br_NiPyC2_relax_aligned_Br_NiPyC2_relax_aligned_Br_NiPyC2_relax_aligned_Br_NiPyC2_relax_aligned_Br_NiPyC2_relax_aligned_Br to /home/ng/DTRA/mof_construction/NiPyC2_relax/NiPyC2_relax_ortho_functionalized_Br_bonds.vtk.\n",
      "Saving bond information for crystal NiPyC2_relax_NiPyC2_relax_aligned_Br_NiPyC2_relax_aligned_Br_NiPyC2_relax_aligned_Br_NiPyC2_relax_aligned_Br_NiPyC2_relax_aligned_Br_NiPyC2_relax_aligned_Br_NiPyC2_relax_aligned_Br_NiPyC2_relax_aligned_Br to /home/ng/DTRA/mof_construction/NiPyC2_relax/NiPyC2_relax_meta_functionalized_Br_bonds.vtk.\n",
      "Saving bond information for crystal NiPyC2_relax_NiPyC2_relax_aligned_CH2-CH2-CH3_NiPyC2_relax_aligned_CH2-CH2-CH3_NiPyC2_relax_aligned_CH2-CH2-CH3_NiPyC2_relax_aligned_CH2-CH2-CH3_NiPyC2_relax_aligned_CH2-CH2-CH3_NiPyC2_relax_aligned_CH2-CH2-CH3_NiPyC2_relax_aligned_CH2-CH2-CH3_NiPyC2_relax_aligned_CH2-CH2-CH3 to /home/ng/DTRA/mof_construction/NiPyC2_relax/NiPyC2_relax_ortho_functionalized_CH2-CH2-CH3_bonds.vtk.\n",
      "Saving bond information for crystal NiPyC2_relax_NiPyC2_relax_aligned_CH2-CH2-CH3_NiPyC2_relax_aligned_CH2-CH2-CH3_NiPyC2_relax_aligned_CH2-CH2-CH3_NiPyC2_relax_aligned_CH2-CH2-CH3_NiPyC2_relax_aligned_CH2-CH2-CH3_NiPyC2_relax_aligned_CH2-CH2-CH3_NiPyC2_relax_aligned_CH2-CH2-CH3_NiPyC2_relax_aligned_CH2-CH2-CH3 to /home/ng/DTRA/mof_construction/NiPyC2_relax/NiPyC2_relax_meta_functionalized_CH2-CH2-CH3_bonds.vtk.\n",
      "Saving bond information for crystal NiPyC2_relax_NiPyC2_relax_aligned_CH2-CH3_NiPyC2_relax_aligned_CH2-CH3_NiPyC2_relax_aligned_CH2-CH3_NiPyC2_relax_aligned_CH2-CH3_NiPyC2_relax_aligned_CH2-CH3_NiPyC2_relax_aligned_CH2-CH3_NiPyC2_relax_aligned_CH2-CH3_NiPyC2_relax_aligned_CH2-CH3 to /home/ng/DTRA/mof_construction/NiPyC2_relax/NiPyC2_relax_ortho_functionalized_CH2-CH3_bonds.vtk.\n",
      "Saving bond information for crystal NiPyC2_relax_NiPyC2_relax_aligned_CH2-CH3_NiPyC2_relax_aligned_CH2-CH3_NiPyC2_relax_aligned_CH2-CH3_NiPyC2_relax_aligned_CH2-CH3_NiPyC2_relax_aligned_CH2-CH3_NiPyC2_relax_aligned_CH2-CH3_NiPyC2_relax_aligned_CH2-CH3_NiPyC2_relax_aligned_CH2-CH3 to /home/ng/DTRA/mof_construction/NiPyC2_relax/NiPyC2_relax_meta_functionalized_CH2-CH3_bonds.vtk.\n",
      "Saving bond information for crystal NiPyC2_relax_NiPyC2_relax_aligned_CH3_NiPyC2_relax_aligned_CH3_NiPyC2_relax_aligned_CH3_NiPyC2_relax_aligned_CH3_NiPyC2_relax_aligned_CH3_NiPyC2_relax_aligned_CH3_NiPyC2_relax_aligned_CH3_NiPyC2_relax_aligned_CH3 to /home/ng/DTRA/mof_construction/NiPyC2_relax/NiPyC2_relax_ortho_functionalized_CH3_bonds.vtk.\n",
      "Saving bond information for crystal NiPyC2_relax_NiPyC2_relax_aligned_CH3_NiPyC2_relax_aligned_CH3_NiPyC2_relax_aligned_CH3_NiPyC2_relax_aligned_CH3_NiPyC2_relax_aligned_CH3_NiPyC2_relax_aligned_CH3_NiPyC2_relax_aligned_CH3_NiPyC2_relax_aligned_CH3 to /home/ng/DTRA/mof_construction/NiPyC2_relax/NiPyC2_relax_meta_functionalized_CH3_bonds.vtk.\n",
      "Saving bond information for crystal NiPyC2_relax_NiPyC2_relax_aligned_Cl_NiPyC2_relax_aligned_Cl_NiPyC2_relax_aligned_Cl_NiPyC2_relax_aligned_Cl_NiPyC2_relax_aligned_Cl_NiPyC2_relax_aligned_Cl_NiPyC2_relax_aligned_Cl_NiPyC2_relax_aligned_Cl to /home/ng/DTRA/mof_construction/NiPyC2_relax/NiPyC2_relax_ortho_functionalized_Cl_bonds.vtk.\n",
      "Saving bond information for crystal NiPyC2_relax_NiPyC2_relax_aligned_Cl_NiPyC2_relax_aligned_Cl_NiPyC2_relax_aligned_Cl_NiPyC2_relax_aligned_Cl_NiPyC2_relax_aligned_Cl_NiPyC2_relax_aligned_Cl_NiPyC2_relax_aligned_Cl_NiPyC2_relax_aligned_Cl to /home/ng/DTRA/mof_construction/NiPyC2_relax/NiPyC2_relax_meta_functionalized_Cl_bonds.vtk.\n",
      "Saving bond information for crystal NiPyC2_relax_NiPyC2_relax_aligned_C-N_NiPyC2_relax_aligned_C-N_NiPyC2_relax_aligned_C-N_NiPyC2_relax_aligned_C-N_NiPyC2_relax_aligned_C-N_NiPyC2_relax_aligned_C-N_NiPyC2_relax_aligned_C-N_NiPyC2_relax_aligned_C-N to /home/ng/DTRA/mof_construction/NiPyC2_relax/NiPyC2_relax_ortho_functionalized_C-N_bonds.vtk.\n",
      "Saving bond information for crystal NiPyC2_relax_NiPyC2_relax_aligned_C-N_NiPyC2_relax_aligned_C-N_NiPyC2_relax_aligned_C-N_NiPyC2_relax_aligned_C-N_NiPyC2_relax_aligned_C-N_NiPyC2_relax_aligned_C-N_NiPyC2_relax_aligned_C-N_NiPyC2_relax_aligned_C-N to /home/ng/DTRA/mof_construction/NiPyC2_relax/NiPyC2_relax_meta_functionalized_C-N_bonds.vtk.\n",
      "Saving bond information for crystal NiPyC2_relax_NiPyC2_relax_aligned_F_NiPyC2_relax_aligned_F_NiPyC2_relax_aligned_F_NiPyC2_relax_aligned_F_NiPyC2_relax_aligned_F_NiPyC2_relax_aligned_F_NiPyC2_relax_aligned_F_NiPyC2_relax_aligned_F to /home/ng/DTRA/mof_construction/NiPyC2_relax/NiPyC2_relax_ortho_functionalized_F_bonds.vtk.\n",
      "Saving bond information for crystal NiPyC2_relax_NiPyC2_relax_aligned_F_NiPyC2_relax_aligned_F_NiPyC2_relax_aligned_F_NiPyC2_relax_aligned_F_NiPyC2_relax_aligned_F_NiPyC2_relax_aligned_F_NiPyC2_relax_aligned_F_NiPyC2_relax_aligned_F to /home/ng/DTRA/mof_construction/NiPyC2_relax/NiPyC2_relax_meta_functionalized_F_bonds.vtk.\n",
      "Saving bond information for crystal NiPyC2_relax_NiPyC2_relax_aligned_NH2_NiPyC2_relax_aligned_NH2_NiPyC2_relax_aligned_NH2_NiPyC2_relax_aligned_NH2_NiPyC2_relax_aligned_NH2_NiPyC2_relax_aligned_NH2_NiPyC2_relax_aligned_NH2_NiPyC2_relax_aligned_NH2 to /home/ng/DTRA/mof_construction/NiPyC2_relax/NiPyC2_relax_ortho_functionalized_NH2_bonds.vtk.\n",
      "Saving bond information for crystal NiPyC2_relax_NiPyC2_relax_aligned_NH2_NiPyC2_relax_aligned_NH2_NiPyC2_relax_aligned_NH2_NiPyC2_relax_aligned_NH2_NiPyC2_relax_aligned_NH2_NiPyC2_relax_aligned_NH2_NiPyC2_relax_aligned_NH2_NiPyC2_relax_aligned_NH2 to /home/ng/DTRA/mof_construction/NiPyC2_relax/NiPyC2_relax_meta_functionalized_NH2_bonds.vtk.\n",
      "Saving bond information for crystal NiPyC2_relax_NiPyC2_relax_aligned_N-NH_NiPyC2_relax_aligned_N-NH_NiPyC2_relax_aligned_N-NH_NiPyC2_relax_aligned_N-NH_NiPyC2_relax_aligned_N-NH_NiPyC2_relax_aligned_N-NH_NiPyC2_relax_aligned_N-NH_NiPyC2_relax_aligned_N-NH to /home/ng/DTRA/mof_construction/NiPyC2_relax/NiPyC2_relax_ortho_functionalized_N-NH_bonds.vtk.\n",
      "Saving bond information for crystal NiPyC2_relax_NiPyC2_relax_aligned_N-NH_NiPyC2_relax_aligned_N-NH_NiPyC2_relax_aligned_N-NH_NiPyC2_relax_aligned_N-NH_NiPyC2_relax_aligned_N-NH_NiPyC2_relax_aligned_N-NH_NiPyC2_relax_aligned_N-NH_NiPyC2_relax_aligned_N-NH to /home/ng/DTRA/mof_construction/NiPyC2_relax/NiPyC2_relax_meta_functionalized_N-NH_bonds.vtk.\n",
      "Saving bond information for crystal NiPyC2_relax_NiPyC2_relax_aligned_O-CH2-CH2-CH3_NiPyC2_relax_aligned_O-CH2-CH2-CH3_NiPyC2_relax_aligned_O-CH2-CH2-CH3_NiPyC2_relax_aligned_O-CH2-CH2-CH3_NiPyC2_relax_aligned_O-CH2-CH2-CH3_NiPyC2_relax_aligned_O-CH2-CH2-CH3_NiPyC2_relax_aligned_O-CH2-CH2-CH3_NiPyC2_relax_aligned_O-CH2-CH2-CH3 to /home/ng/DTRA/mof_construction/NiPyC2_relax/NiPyC2_relax_ortho_functionalized_O-CH2-CH2-CH3_bonds.vtk.\n",
      "Saving bond information for crystal NiPyC2_relax_NiPyC2_relax_aligned_O-CH2-CH2-CH3_NiPyC2_relax_aligned_O-CH2-CH2-CH3_NiPyC2_relax_aligned_O-CH2-CH2-CH3_NiPyC2_relax_aligned_O-CH2-CH2-CH3_NiPyC2_relax_aligned_O-CH2-CH2-CH3_NiPyC2_relax_aligned_O-CH2-CH2-CH3_NiPyC2_relax_aligned_O-CH2-CH2-CH3_NiPyC2_relax_aligned_O-CH2-CH2-CH3 to /home/ng/DTRA/mof_construction/NiPyC2_relax/NiPyC2_relax_meta_functionalized_O-CH2-CH2-CH3_bonds.vtk.\n",
      "Saving bond information for crystal NiPyC2_relax_NiPyC2_relax_aligned_O-CH2-CH3_NiPyC2_relax_aligned_O-CH2-CH3_NiPyC2_relax_aligned_O-CH2-CH3_NiPyC2_relax_aligned_O-CH2-CH3_NiPyC2_relax_aligned_O-CH2-CH3_NiPyC2_relax_aligned_O-CH2-CH3_NiPyC2_relax_aligned_O-CH2-CH3_NiPyC2_relax_aligned_O-CH2-CH3 to /home/ng/DTRA/mof_construction/NiPyC2_relax/NiPyC2_relax_ortho_functionalized_O-CH2-CH3_bonds.vtk.\n",
      "Saving bond information for crystal NiPyC2_relax_NiPyC2_relax_aligned_O-CH2-CH3_NiPyC2_relax_aligned_O-CH2-CH3_NiPyC2_relax_aligned_O-CH2-CH3_NiPyC2_relax_aligned_O-CH2-CH3_NiPyC2_relax_aligned_O-CH2-CH3_NiPyC2_relax_aligned_O-CH2-CH3_NiPyC2_relax_aligned_O-CH2-CH3_NiPyC2_relax_aligned_O-CH2-CH3 to /home/ng/DTRA/mof_construction/NiPyC2_relax/NiPyC2_relax_meta_functionalized_O-CH2-CH3_bonds.vtk.\n",
      "Saving bond information for crystal NiPyC2_relax_NiPyC2_relax_aligned_O-CH3_NiPyC2_relax_aligned_O-CH3_NiPyC2_relax_aligned_O-CH3_NiPyC2_relax_aligned_O-CH3_NiPyC2_relax_aligned_O-CH3_NiPyC2_relax_aligned_O-CH3_NiPyC2_relax_aligned_O-CH3_NiPyC2_relax_aligned_O-CH3 to /home/ng/DTRA/mof_construction/NiPyC2_relax/NiPyC2_relax_ortho_functionalized_O-CH3_bonds.vtk.\n",
      "Saving bond information for crystal NiPyC2_relax_NiPyC2_relax_aligned_O-CH3_NiPyC2_relax_aligned_O-CH3_NiPyC2_relax_aligned_O-CH3_NiPyC2_relax_aligned_O-CH3_NiPyC2_relax_aligned_O-CH3_NiPyC2_relax_aligned_O-CH3_NiPyC2_relax_aligned_O-CH3_NiPyC2_relax_aligned_O-CH3 to /home/ng/DTRA/mof_construction/NiPyC2_relax/NiPyC2_relax_meta_functionalized_O-CH3_bonds.vtk.\n",
      "Saving bond information for crystal NiPyC2_relax_NiPyC2_relax_aligned_OH_NiPyC2_relax_aligned_OH_NiPyC2_relax_aligned_OH_NiPyC2_relax_aligned_OH_NiPyC2_relax_aligned_OH_NiPyC2_relax_aligned_OH_NiPyC2_relax_aligned_OH_NiPyC2_relax_aligned_OH to /home/ng/DTRA/mof_construction/NiPyC2_relax/NiPyC2_relax_ortho_functionalized_OH_bonds.vtk.\n",
      "Saving bond information for crystal NiPyC2_relax_NiPyC2_relax_aligned_OH_NiPyC2_relax_aligned_OH_NiPyC2_relax_aligned_OH_NiPyC2_relax_aligned_OH_NiPyC2_relax_aligned_OH_NiPyC2_relax_aligned_OH_NiPyC2_relax_aligned_OH_NiPyC2_relax_aligned_OH to /home/ng/DTRA/mof_construction/NiPyC2_relax/NiPyC2_relax_meta_functionalized_OH_bonds.vtk.\n"
     ]
    }
   ],
   "source": [
    "for fragment_name in fragment_list\n",
    "    for sub_type in substitution_types\n",
    "        if sub_type != \"all\"\n",
    "            functionalize_mof(crystal, fragment_name, ipso_species, r_species,\n",
    "                                bonding_rules; n=6, randomize_side=true,\n",
    "                                arene_substitution_type=sub_type)\n",
    "        elseif sub_type ==\"all\"\n",
    "            # do something special\n",
    "            continue\n",
    "        else\n",
    "            error(\"substituation type not supported\")\n",
    "        end\n",
    "        \n",
    "    end\n",
    "end "
   ]
  },
  {
   "cell_type": "code",
   "execution_count": 8,
   "metadata": {},
   "outputs": [],
   "source": [
    "# functionalize_mof(xtal::Crystal, fragment_name::String, ipso_species::Symbol, r_species::Symbol,\n",
    "#                                 bonding_rules::Array{BondingRule,1}; n::Int=6,\n",
    "#                                 side_to_functionalize::Int=2, randomize_side::Bool=true,\n",
    "#                                 arene_substitution_type::String=\"para\")"
   ]
  }
 ],
 "metadata": {
  "kernelspec": {
   "display_name": "Julia 1.3.1",
   "language": "julia",
   "name": "julia-1.3"
  },
  "language_info": {
   "file_extension": ".jl",
   "mimetype": "application/julia",
   "name": "julia",
   "version": "1.3.1"
  }
 },
 "nbformat": 4,
 "nbformat_minor": 4
}
