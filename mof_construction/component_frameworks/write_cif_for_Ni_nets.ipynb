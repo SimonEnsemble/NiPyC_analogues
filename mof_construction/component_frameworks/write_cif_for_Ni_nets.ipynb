{
 "cells": [
  {
   "cell_type": "code",
   "execution_count": 1,
   "metadata": {},
   "outputs": [],
   "source": [
    "using PorousMaterials"
   ]
  },
  {
   "cell_type": "code",
   "execution_count": 2,
   "metadata": {},
   "outputs": [
    {
     "data": {
      "text/plain": [
       "\"/home/ng/DTRA/mof_construction/component_frameworks\""
      ]
     },
     "execution_count": 2,
     "metadata": {},
     "output_type": "execute_result"
    }
   ],
   "source": [
    "@eval PorousMaterials PATH_TO_CRYSTALS=pwd()"
   ]
  },
  {
   "cell_type": "code",
   "execution_count": 3,
   "metadata": {},
   "outputs": [],
   "source": [
    "xtal = Crystal(\"NiPyC2_comp2_findreplace.cif\")\n",
    "strip_numbers_from_atom_labels!(xtal)"
   ]
  },
  {
   "cell_type": "code",
   "execution_count": 4,
   "metadata": {},
   "outputs": [
    {
     "data": {
      "text/plain": [
       "Name: NiPyC2_comp2_findreplace.cif\n",
       "Bravais unit cell of a crystal.\n",
       "\tUnit cell angles α = 90.000000 deg. β = 91.269000 deg. γ = 90.000000 deg.\n",
       "\tUnit cell dimensions a = 25.011200 Å. b = 50.093600 Å, c = 41.107200 Å\n",
       "\tVolume of unit cell: 51490.622183 Å³\n",
       "\n",
       "\t# atoms = 576\n",
       "\t# charges = 0\n",
       "\tchemical formula: Dict(:N => 2,:Ni => 1,:O => 4,:C => 2)\n",
       "\tspace Group: P1\n",
       "\tsymmetry Operations:\n",
       "\t\t'x, y, z'\n"
      ]
     },
     "execution_count": 4,
     "metadata": {},
     "output_type": "execute_result"
    }
   ],
   "source": [
    "xtal"
   ]
  },
  {
   "cell_type": "code",
   "execution_count": 5,
   "metadata": {},
   "outputs": [
    {
     "data": {
      "text/plain": [
       "Charges{Frac}(0, Float64[], Frac(Array{Float64}(undef,3,0)))"
      ]
     },
     "execution_count": 5,
     "metadata": {},
     "output_type": "execute_result"
    }
   ],
   "source": [
    "xtal.charges"
   ]
  },
  {
   "cell_type": "code",
   "execution_count": 6,
   "metadata": {},
   "outputs": [
    {
     "data": {
      "text/plain": [
       "Atoms{Frac}(64, [:Ni, :Ni, :Ni, :Ni, :Ni, :Ni, :Ni, :Ni, :Ni, :Ni  …  :Ni, :Ni, :Ni, :Ni, :Ni, :Ni, :Ni, :Ni, :Ni, :Ni], Frac([0.2487 0.1237 … 0.9987 0.8737; 0.06151 0.18849 … 0.81151 0.93849; 0.084858 0.459858 … 0.584858 0.959858]))"
      ]
     },
     "execution_count": 6,
     "metadata": {},
     "output_type": "execute_result"
    }
   ],
   "source": [
    "atoms = xtal.atoms[xtal.atoms.species.==:Ni]"
   ]
  },
  {
   "cell_type": "code",
   "execution_count": 7,
   "metadata": {},
   "outputs": [
    {
     "data": {
      "text/plain": [
       "Name: NiPyC2_comp2_Ni_only\n",
       "Bravais unit cell of a crystal.\n",
       "\tUnit cell angles α = 90.000000 deg. β = 91.269000 deg. γ = 90.000000 deg.\n",
       "\tUnit cell dimensions a = 25.011200 Å. b = 50.093600 Å, c = 41.107200 Å\n",
       "\tVolume of unit cell: 51490.622183 Å³\n",
       "\n",
       "\t# atoms = 64\n",
       "\t# charges = 0\n",
       "\tchemical formula: Dict(:Ni => 1)\n",
       "\tspace Group: P1\n",
       "\tsymmetry Operations:\n",
       "\t\t'x, y, z'\n"
      ]
     },
     "execution_count": 7,
     "metadata": {},
     "output_type": "execute_result"
    }
   ],
   "source": [
    "new_xtal = Crystal(\"NiPyC2_comp2_Ni_only\", xtal.box, atoms, xtal.charges)"
   ]
  },
  {
   "cell_type": "code",
   "execution_count": null,
   "metadata": {},
   "outputs": [],
   "source": []
  },
  {
   "cell_type": "code",
   "execution_count": 8,
   "metadata": {},
   "outputs": [],
   "source": [
    "# for i in 1:atoms.n -1\n",
    "#     r = distance(atoms, xtal.box, i, i+1, true) # atoms i and j\n",
    "#     println(r)\n",
    "# end"
   ]
  },
  {
   "cell_type": "code",
   "execution_count": 9,
   "metadata": {},
   "outputs": [
    {
     "data": {
      "text/plain": [
       "3-element Array{BondingRule,1}:\n",
       " BondingRule(:Ni, :Ni, 0.4, 8.72)\n",
       " BondingRule(:H, :*, 0.4, 1.2)\n",
       " BondingRule(:*, :*, 0.4, 1.9)"
      ]
     },
     "execution_count": 9,
     "metadata": {},
     "output_type": "execute_result"
    }
   ],
   "source": [
    "bonding_rules = [BondingRule(:Ni, :Ni, 0.4, 8.72),\n",
    "                 BondingRule(:H, :*, 0.4, 1.2),\n",
    "                 BondingRule(:*, :*, 0.4, 1.9)]"
   ]
  },
  {
   "cell_type": "code",
   "execution_count": 10,
   "metadata": {},
   "outputs": [],
   "source": [
    "infer_bonds!(new_xtal, false, bonding_rules)"
   ]
  },
  {
   "cell_type": "code",
   "execution_count": 11,
   "metadata": {},
   "outputs": [
    {
     "name": "stdout",
     "output_type": "stream",
     "text": [
      "Saving bond information for crystal NiPyC2_comp2_Ni_only to /home/ng/DTRA/mof_construction/component_frameworks/NiPyC2_comp2_Ni_onlybonds.vtk.\n"
     ]
    }
   ],
   "source": [
    "write_bond_information(new_xtal, new_xtal.name * \"_bonds\")"
   ]
  },
  {
   "cell_type": "code",
   "execution_count": 12,
   "metadata": {},
   "outputs": [],
   "source": [
    "write_cif(new_xtal, new_xtal.name)"
   ]
  },
  {
   "cell_type": "code",
   "execution_count": 13,
   "metadata": {},
   "outputs": [],
   "source": [
    "write_xyz(new_xtal)"
   ]
  },
  {
   "cell_type": "code",
   "execution_count": 14,
   "metadata": {},
   "outputs": [
    {
     "name": "stdout",
     "output_type": "stream",
     "text": [
      "See NiPyC2_comp2_Ni_only.vtk\n"
     ]
    }
   ],
   "source": [
    "write_vtk(new_xtal)"
   ]
  }
 ],
 "metadata": {
  "kernelspec": {
   "display_name": "Julia 1.5.1",
   "language": "julia",
   "name": "julia-1.5"
  },
  "language_info": {
   "file_extension": ".jl",
   "mimetype": "application/julia",
   "name": "julia",
   "version": "1.5.1"
  }
 },
 "nbformat": 4,
 "nbformat_minor": 4
}
