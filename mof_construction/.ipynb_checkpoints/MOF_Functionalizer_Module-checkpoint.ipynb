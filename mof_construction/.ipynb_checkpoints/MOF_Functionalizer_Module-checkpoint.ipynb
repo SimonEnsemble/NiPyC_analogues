{
 "cells": [
  {
   "cell_type": "markdown",
   "metadata": {},
   "source": [
    "# MOF Functionalizer"
   ]
  },
  {
   "cell_type": "code",
   "execution_count": 1,
   "metadata": {},
   "outputs": [
    {
     "name": "stderr",
     "output_type": "stream",
     "text": [
      "┌ Info: Precompiling PorousMaterials [68953c7c-a3c7-538e-83d3-73516288599e]\n",
      "└ @ Base loading.jl:1273\n",
      "WARNING: Method definition dot(Any, Any, Any) in module Compat at /home/ng/.julia/packages/Compat/xLNCl/src/Compat.jl:125 overwritten in module Optim at /home/ng/.julia/packages/Optim/cJRng/src/multivariate/precon.jl:24.\n",
      "  ** incremental compilation may be fatally broken for this module **\n",
      "\n"
     ]
    }
   ],
   "source": [
    "# move up a directory so PorousMaterials can find the data folder\n",
    "cd(\"..\")\n",
    "\n",
    "using PorousMaterials"
   ]
  },
  {
   "cell_type": "code",
   "execution_count": 2,
   "metadata": {},
   "outputs": [],
   "source": [
    "# move into the directory with the fragments\n",
    "cd(\"mof_construction\")"
   ]
  },
  {
   "cell_type": "code",
   "execution_count": 3,
   "metadata": {},
   "outputs": [
    {
     "data": {
      "text/plain": [
       "4-element Array{String,1}:\n",
       " \"@\"                      \n",
       " \"@v#.#\"                  \n",
       " \"@stdlib\"                \n",
       " \"/home/ng/MOFfun.jl/src/\""
      ]
     },
     "execution_count": 3,
     "metadata": {},
     "output_type": "execute_result"
    }
   ],
   "source": [
    "# # add MyModule to the path that Julia uses for modules \n",
    "push!(LOAD_PATH, joinpath(\"/home/ng/MOFfun.jl/src/\"))"
   ]
  },
  {
   "cell_type": "code",
   "execution_count": 4,
   "metadata": {
    "scrolled": true
   },
   "outputs": [
    {
     "name": "stderr",
     "output_type": "stream",
     "text": [
      "┌ Info: Precompiling MOFun [top-level]\n",
      "└ @ Base loading.jl:1273\n",
      "WARNING: Method definition dot(Any, Any, Any) in module Compat at /home/ng/.julia/packages/Compat/xLNCl/src/Compat.jl:125 overwritten in module Optim at /home/ng/.julia/packages/Optim/cJRng/src/multivariate/precon.jl:24.\n",
      "  ** incremental compilation may be fatally broken for this module **\n",
      "\n"
     ]
    }
   ],
   "source": [
    "using MOFun"
   ]
  },
  {
   "cell_type": "code",
   "execution_count": 5,
   "metadata": {},
   "outputs": [
    {
     "data": {
      "text/plain": [
       "2-element Array{String,1}:\n",
       " \"ortho\"\n",
       " \"meta\" "
      ]
     },
     "execution_count": 5,
     "metadata": {},
     "output_type": "execute_result"
    }
   ],
   "source": [
    "# The name of the fragment\n",
    "# file must be a .xyz file located in ./fragments/\n",
    "# The atom species that is bonded to the\n",
    "# :C_aro_R atom on the ring segment of the Fragment\n",
    "fragment_list = [\n",
    "    \"Br\",\n",
    "    \"C-3CH3\",\n",
    "    \"C-C\",\n",
    "    \"CH2-CH2-CH3\",\n",
    "    \"CH2-CH3\",\n",
    "    \"CH2-NH2\",\n",
    "    \"CH3\",\n",
    "    \"CH-CH2\",\n",
    "    \"CH-O\",\n",
    "    \"CH-S\",\n",
    "    \"Cl\",\n",
    "    \"C-N\",\n",
    "    \"F\",\n",
    "    \"N-2CH3\",\n",
    "    \"N-C-O\",\n",
    "    \"NH2\",\n",
    "    \"N-NH\",\n",
    "    \"O-CH2-CH2-CH3\",\n",
    "    \"O-CH2-CH3\",\n",
    "    \"O-CH3\",\n",
    "    \"O-C-N\",\n",
    "    \"OH\",\n",
    "    \"O-OH\",\n",
    "    \"P-2CH3\",\n",
    "    \"PH2\",\n",
    "    \"S-CH3\",\n",
    "    \"SH\"\n",
    "]\n",
    "\n",
    "fragments_with_overlap = [\"C-3CH3\", \"CH2-CH2-CH3\", \"CH-S\", \n",
    "                     \"N-2CH3\", \"O-CH2-CH2-CH3\", \n",
    "                     \"O-CH2-CH3\", \"P-2CH3\", \"S-CH3\"]\n",
    "\n",
    "# The type of Arene Substitution (\"ortho\", \"meta\", \"all\") \n",
    "# TODO: \"all\" not yet implimented\n",
    "substitution_types = [\"ortho\", \"meta\"]"
   ]
  },
  {
   "cell_type": "code",
   "execution_count": 6,
   "metadata": {},
   "outputs": [],
   "source": [
    "# framework = Framework(\"NiPyC2_relax_meta_functionalized_NH2.cif\")\n",
    "# strip_numbers_from_atom_labels!(framework)\n",
    "# write_xyz(replicate(framework, (3,3,3)))\n",
    "# write_vtk(framework)"
   ]
  },
  {
   "cell_type": "code",
   "execution_count": 7,
   "metadata": {},
   "outputs": [
    {
     "name": "stderr",
     "output_type": "stream",
     "text": [
      "┌ Info: NiPyC2_relax_sc211.cif\n",
      "└ @ Main In[7]:6\n"
     ]
    },
    {
     "data": {
      "text/plain": [
       ":N"
      ]
     },
     "execution_count": 7,
     "metadata": {},
     "output_type": "execute_result"
    }
   ],
   "source": [
    "# which_crystal = \"NiPyC2_experiment.cif\" # experimental cif\n",
    "# which_crystal = \"NiPyC2_relax.cif\" # DFT, fixed-vol relaxed cif\n",
    "# which_crystal = \"NiPyC2_vc-relax.cif\" # DFT, vc-relaxed cif\n",
    "\n",
    "which_crystal = \"NiPyC2_relax_sc211.cif\"\n",
    "@info which_crystal\n",
    "\n",
    "\n",
    "# open crystal in lower level symmetry\n",
    "# crystal = Crystal(which_crystal, convert_to_p1=true)\n",
    "crystal = replicate(Crystal(which_crystal, \n",
    "        convert_to_p1=true), (1, 1, 1))\n",
    "\n",
    "\n",
    "strip_numbers_from_atom_labels!(crystal)\n",
    "@debug write_xyz(crystal, joinpath(\"mof_construction\",\n",
    "                cryatal.name))\n",
    "bonding_rules = [BondingRule(:H, :*, 0.4, 1.2),\n",
    "                 BondingRule(:N, :Ni, 0.4, 2.5),\n",
    "                 BondingRule(:O, :Ni, 0.4, 2.5),\n",
    "                 BondingRule(:Ca, :O, 0.4, 2.5),\n",
    "                 BondingRule(:Zn, :O, 0.4, 2.5),\n",
    "                 BondingRule(:Br, :*, 0.4, 2.5),\n",
    "                 BondingRule(:*, :*, 0.4, 1.9)]\n",
    "\n",
    "infer_bonds!(crystal, true, bonding_rules) \n",
    "@debug write_bond_information(crystal,\n",
    "    joinpath(\"mof_construction\", remove_extension(crystal) * \n",
    "             \"_bonds.vtk\"))\n",
    "@debug bond_sanity_check(crystal) \n",
    "\n",
    "# The species of the functional atom (R) \n",
    "# and the ipso atom of the aromatic ring\n",
    "r_species = :blah\n",
    "ipso_species = :blah\n",
    "if split(which_crystal, ('_', '.'))[1] == \"NiPyC2\"\n",
    "    r_species = :Ni\n",
    "    ipso_species = :N\n",
    "elseif which_crystal == \"SBMOF-1.cif\"\n",
    "    r_species = :S\n",
    "    ipso_species = :C\n",
    "elseif which_crystal == \"IRMOF-1_clean.cssr\"\n",
    "    r_species = :C\n",
    "    ipso_species = :C\n",
    "else\n",
    "    error(\"don't know this crystal\")\n",
    "end"
   ]
  },
  {
   "cell_type": "code",
   "execution_count": 8,
   "metadata": {},
   "outputs": [],
   "source": [
    "# crystal.atoms.n\n",
    "# chemical_formula(crystal)\n",
    "# crystal.box.f_to_c"
   ]
  },
  {
   "cell_type": "code",
   "execution_count": 9,
   "metadata": {
    "scrolled": true
   },
   "outputs": [
    {
     "name": "stdout",
     "output_type": "stream",
     "text": [
      "Saving bond information for crystal NiPyC2_relax_sc211_NiPyC2_relax_sc211_aligned_Br_NiPyC2_relax_sc211_aligned_Br_NiPyC2_relax_sc211_aligned_Br_NiPyC2_relax_sc211_aligned_Br_NiPyC2_relax_sc211_aligned_Br_NiPyC2_relax_sc211_aligned_Br_NiPyC2_relax_sc211_aligned_Br_NiPyC2_relax_sc211_aligned_Br to /home/ng/DTRA/mof_construction/NiPyC2_relax_sc211/NiPyC2_relax_sc211_ortho_functionalized_Br_bonds.vtk.\n",
      "Saving bond information for crystal NiPyC2_relax_sc211_NiPyC2_relax_sc211_aligned_Br_NiPyC2_relax_sc211_aligned_Br_NiPyC2_relax_sc211_aligned_Br_NiPyC2_relax_sc211_aligned_Br_NiPyC2_relax_sc211_aligned_Br_NiPyC2_relax_sc211_aligned_Br_NiPyC2_relax_sc211_aligned_Br_NiPyC2_relax_sc211_aligned_Br to /home/ng/DTRA/mof_construction/NiPyC2_relax_sc211/NiPyC2_relax_sc211_meta_functionalized_Br_bonds.vtk.\n",
      "Saving bond information for crystal NiPyC2_relax_sc211_NiPyC2_relax_sc211_aligned_C-3CH3_NiPyC2_relax_sc211_aligned_C-3CH3_NiPyC2_relax_sc211_aligned_C-3CH3_NiPyC2_relax_sc211_aligned_C-3CH3_NiPyC2_relax_sc211_aligned_C-3CH3_NiPyC2_relax_sc211_aligned_C-3CH3_NiPyC2_relax_sc211_aligned_C-3CH3_NiPyC2_relax_sc211_aligned_C-3CH3 to /home/ng/DTRA/mof_construction/NiPyC2_relax_sc211/NiPyC2_relax_sc211_ortho_functionalized_C-3CH3_bonds.vtk.\n",
      "Saving bond information for crystal NiPyC2_relax_sc211_NiPyC2_relax_sc211_aligned_C-3CH3_NiPyC2_relax_sc211_aligned_C-3CH3_NiPyC2_relax_sc211_aligned_C-3CH3_NiPyC2_relax_sc211_aligned_C-3CH3_NiPyC2_relax_sc211_aligned_C-3CH3_NiPyC2_relax_sc211_aligned_C-3CH3_NiPyC2_relax_sc211_aligned_C-3CH3_NiPyC2_relax_sc211_aligned_C-3CH3 to /home/ng/DTRA/mof_construction/NiPyC2_relax_sc211/NiPyC2_relax_sc211_meta_functionalized_C-3CH3_bonds.vtk.\n",
      "Saving bond information for crystal NiPyC2_relax_sc211_NiPyC2_relax_sc211_aligned_C-C_NiPyC2_relax_sc211_aligned_C-C_NiPyC2_relax_sc211_aligned_C-C_NiPyC2_relax_sc211_aligned_C-C_NiPyC2_relax_sc211_aligned_C-C_NiPyC2_relax_sc211_aligned_C-C_NiPyC2_relax_sc211_aligned_C-C_NiPyC2_relax_sc211_aligned_C-C to /home/ng/DTRA/mof_construction/NiPyC2_relax_sc211/NiPyC2_relax_sc211_ortho_functionalized_C-C_bonds.vtk.\n",
      "Saving bond information for crystal NiPyC2_relax_sc211_NiPyC2_relax_sc211_aligned_C-C_NiPyC2_relax_sc211_aligned_C-C_NiPyC2_relax_sc211_aligned_C-C_NiPyC2_relax_sc211_aligned_C-C_NiPyC2_relax_sc211_aligned_C-C_NiPyC2_relax_sc211_aligned_C-C_NiPyC2_relax_sc211_aligned_C-C_NiPyC2_relax_sc211_aligned_C-C to /home/ng/DTRA/mof_construction/NiPyC2_relax_sc211/NiPyC2_relax_sc211_meta_functionalized_C-C_bonds.vtk.\n",
      "Saving bond information for crystal NiPyC2_relax_sc211_NiPyC2_relax_sc211_aligned_CH2-CH2-CH3_NiPyC2_relax_sc211_aligned_CH2-CH2-CH3_NiPyC2_relax_sc211_aligned_CH2-CH2-CH3_NiPyC2_relax_sc211_aligned_CH2-CH2-CH3_NiPyC2_relax_sc211_aligned_CH2-CH2-CH3_NiPyC2_relax_sc211_aligned_CH2-CH2-CH3_NiPyC2_relax_sc211_aligned_CH2-CH2-CH3_NiPyC2_relax_sc211_aligned_CH2-CH2-CH3 to /home/ng/DTRA/mof_construction/NiPyC2_relax_sc211/NiPyC2_relax_sc211_ortho_functionalized_CH2-CH2-CH3_bonds.vtk.\n",
      "Saving bond information for crystal NiPyC2_relax_sc211_NiPyC2_relax_sc211_aligned_CH2-CH2-CH3_NiPyC2_relax_sc211_aligned_CH2-CH2-CH3_NiPyC2_relax_sc211_aligned_CH2-CH2-CH3_NiPyC2_relax_sc211_aligned_CH2-CH2-CH3_NiPyC2_relax_sc211_aligned_CH2-CH2-CH3_NiPyC2_relax_sc211_aligned_CH2-CH2-CH3_NiPyC2_relax_sc211_aligned_CH2-CH2-CH3_NiPyC2_relax_sc211_aligned_CH2-CH2-CH3 to /home/ng/DTRA/mof_construction/NiPyC2_relax_sc211/NiPyC2_relax_sc211_meta_functionalized_CH2-CH2-CH3_bonds.vtk.\n",
      "Saving bond information for crystal NiPyC2_relax_sc211_NiPyC2_relax_sc211_aligned_CH2-CH3_NiPyC2_relax_sc211_aligned_CH2-CH3_NiPyC2_relax_sc211_aligned_CH2-CH3_NiPyC2_relax_sc211_aligned_CH2-CH3_NiPyC2_relax_sc211_aligned_CH2-CH3_NiPyC2_relax_sc211_aligned_CH2-CH3_NiPyC2_relax_sc211_aligned_CH2-CH3_NiPyC2_relax_sc211_aligned_CH2-CH3 to /home/ng/DTRA/mof_construction/NiPyC2_relax_sc211/NiPyC2_relax_sc211_ortho_functionalized_CH2-CH3_bonds.vtk.\n",
      "Saving bond information for crystal NiPyC2_relax_sc211_NiPyC2_relax_sc211_aligned_CH2-CH3_NiPyC2_relax_sc211_aligned_CH2-CH3_NiPyC2_relax_sc211_aligned_CH2-CH3_NiPyC2_relax_sc211_aligned_CH2-CH3_NiPyC2_relax_sc211_aligned_CH2-CH3_NiPyC2_relax_sc211_aligned_CH2-CH3_NiPyC2_relax_sc211_aligned_CH2-CH3_NiPyC2_relax_sc211_aligned_CH2-CH3 to /home/ng/DTRA/mof_construction/NiPyC2_relax_sc211/NiPyC2_relax_sc211_meta_functionalized_CH2-CH3_bonds.vtk.\n",
      "Saving bond information for crystal NiPyC2_relax_sc211_NiPyC2_relax_sc211_aligned_CH2-NH2_NiPyC2_relax_sc211_aligned_CH2-NH2_NiPyC2_relax_sc211_aligned_CH2-NH2_NiPyC2_relax_sc211_aligned_CH2-NH2_NiPyC2_relax_sc211_aligned_CH2-NH2_NiPyC2_relax_sc211_aligned_CH2-NH2_NiPyC2_relax_sc211_aligned_CH2-NH2_NiPyC2_relax_sc211_aligned_CH2-NH2 to /home/ng/DTRA/mof_construction/NiPyC2_relax_sc211/NiPyC2_relax_sc211_ortho_functionalized_CH2-NH2_bonds.vtk.\n",
      "Saving bond information for crystal NiPyC2_relax_sc211_NiPyC2_relax_sc211_aligned_CH2-NH2_NiPyC2_relax_sc211_aligned_CH2-NH2_NiPyC2_relax_sc211_aligned_CH2-NH2_NiPyC2_relax_sc211_aligned_CH2-NH2_NiPyC2_relax_sc211_aligned_CH2-NH2_NiPyC2_relax_sc211_aligned_CH2-NH2_NiPyC2_relax_sc211_aligned_CH2-NH2_NiPyC2_relax_sc211_aligned_CH2-NH2 to /home/ng/DTRA/mof_construction/NiPyC2_relax_sc211/NiPyC2_relax_sc211_meta_functionalized_CH2-NH2_bonds.vtk.\n",
      "Saving bond information for crystal NiPyC2_relax_sc211_NiPyC2_relax_sc211_aligned_CH3_NiPyC2_relax_sc211_aligned_CH3_NiPyC2_relax_sc211_aligned_CH3_NiPyC2_relax_sc211_aligned_CH3_NiPyC2_relax_sc211_aligned_CH3_NiPyC2_relax_sc211_aligned_CH3_NiPyC2_relax_sc211_aligned_CH3_NiPyC2_relax_sc211_aligned_CH3 to /home/ng/DTRA/mof_construction/NiPyC2_relax_sc211/NiPyC2_relax_sc211_ortho_functionalized_CH3_bonds.vtk.\n",
      "Saving bond information for crystal NiPyC2_relax_sc211_NiPyC2_relax_sc211_aligned_CH3_NiPyC2_relax_sc211_aligned_CH3_NiPyC2_relax_sc211_aligned_CH3_NiPyC2_relax_sc211_aligned_CH3_NiPyC2_relax_sc211_aligned_CH3_NiPyC2_relax_sc211_aligned_CH3_NiPyC2_relax_sc211_aligned_CH3_NiPyC2_relax_sc211_aligned_CH3 to /home/ng/DTRA/mof_construction/NiPyC2_relax_sc211/NiPyC2_relax_sc211_meta_functionalized_CH3_bonds.vtk.\n",
      "Saving bond information for crystal NiPyC2_relax_sc211_NiPyC2_relax_sc211_aligned_CH-CH2_NiPyC2_relax_sc211_aligned_CH-CH2_NiPyC2_relax_sc211_aligned_CH-CH2_NiPyC2_relax_sc211_aligned_CH-CH2_NiPyC2_relax_sc211_aligned_CH-CH2_NiPyC2_relax_sc211_aligned_CH-CH2_NiPyC2_relax_sc211_aligned_CH-CH2_NiPyC2_relax_sc211_aligned_CH-CH2 to /home/ng/DTRA/mof_construction/NiPyC2_relax_sc211/NiPyC2_relax_sc211_ortho_functionalized_CH-CH2_bonds.vtk.\n",
      "Saving bond information for crystal NiPyC2_relax_sc211_NiPyC2_relax_sc211_aligned_CH-CH2_NiPyC2_relax_sc211_aligned_CH-CH2_NiPyC2_relax_sc211_aligned_CH-CH2_NiPyC2_relax_sc211_aligned_CH-CH2_NiPyC2_relax_sc211_aligned_CH-CH2_NiPyC2_relax_sc211_aligned_CH-CH2_NiPyC2_relax_sc211_aligned_CH-CH2_NiPyC2_relax_sc211_aligned_CH-CH2 to /home/ng/DTRA/mof_construction/NiPyC2_relax_sc211/NiPyC2_relax_sc211_meta_functionalized_CH-CH2_bonds.vtk.\n",
      "Saving bond information for crystal NiPyC2_relax_sc211_NiPyC2_relax_sc211_aligned_CH-O_NiPyC2_relax_sc211_aligned_CH-O_NiPyC2_relax_sc211_aligned_CH-O_NiPyC2_relax_sc211_aligned_CH-O_NiPyC2_relax_sc211_aligned_CH-O_NiPyC2_relax_sc211_aligned_CH-O_NiPyC2_relax_sc211_aligned_CH-O_NiPyC2_relax_sc211_aligned_CH-O to /home/ng/DTRA/mof_construction/NiPyC2_relax_sc211/NiPyC2_relax_sc211_ortho_functionalized_CH-O_bonds.vtk.\n",
      "Saving bond information for crystal NiPyC2_relax_sc211_NiPyC2_relax_sc211_aligned_CH-O_NiPyC2_relax_sc211_aligned_CH-O_NiPyC2_relax_sc211_aligned_CH-O_NiPyC2_relax_sc211_aligned_CH-O_NiPyC2_relax_sc211_aligned_CH-O_NiPyC2_relax_sc211_aligned_CH-O_NiPyC2_relax_sc211_aligned_CH-O_NiPyC2_relax_sc211_aligned_CH-O to /home/ng/DTRA/mof_construction/NiPyC2_relax_sc211/NiPyC2_relax_sc211_meta_functionalized_CH-O_bonds.vtk.\n",
      "Saving bond information for crystal NiPyC2_relax_sc211_NiPyC2_relax_sc211_aligned_CH-S_NiPyC2_relax_sc211_aligned_CH-S_NiPyC2_relax_sc211_aligned_CH-S_NiPyC2_relax_sc211_aligned_CH-S_NiPyC2_relax_sc211_aligned_CH-S_NiPyC2_relax_sc211_aligned_CH-S_NiPyC2_relax_sc211_aligned_CH-S_NiPyC2_relax_sc211_aligned_CH-S to /home/ng/DTRA/mof_construction/NiPyC2_relax_sc211/NiPyC2_relax_sc211_ortho_functionalized_CH-S_bonds.vtk.\n",
      "Saving bond information for crystal NiPyC2_relax_sc211_NiPyC2_relax_sc211_aligned_CH-S_NiPyC2_relax_sc211_aligned_CH-S_NiPyC2_relax_sc211_aligned_CH-S_NiPyC2_relax_sc211_aligned_CH-S_NiPyC2_relax_sc211_aligned_CH-S_NiPyC2_relax_sc211_aligned_CH-S_NiPyC2_relax_sc211_aligned_CH-S_NiPyC2_relax_sc211_aligned_CH-S to /home/ng/DTRA/mof_construction/NiPyC2_relax_sc211/NiPyC2_relax_sc211_meta_functionalized_CH-S_bonds.vtk.\n",
      "Saving bond information for crystal NiPyC2_relax_sc211_NiPyC2_relax_sc211_aligned_Cl_NiPyC2_relax_sc211_aligned_Cl_NiPyC2_relax_sc211_aligned_Cl_NiPyC2_relax_sc211_aligned_Cl_NiPyC2_relax_sc211_aligned_Cl_NiPyC2_relax_sc211_aligned_Cl_NiPyC2_relax_sc211_aligned_Cl_NiPyC2_relax_sc211_aligned_Cl to /home/ng/DTRA/mof_construction/NiPyC2_relax_sc211/NiPyC2_relax_sc211_ortho_functionalized_Cl_bonds.vtk.\n",
      "Saving bond information for crystal NiPyC2_relax_sc211_NiPyC2_relax_sc211_aligned_Cl_NiPyC2_relax_sc211_aligned_Cl_NiPyC2_relax_sc211_aligned_Cl_NiPyC2_relax_sc211_aligned_Cl_NiPyC2_relax_sc211_aligned_Cl_NiPyC2_relax_sc211_aligned_Cl_NiPyC2_relax_sc211_aligned_Cl_NiPyC2_relax_sc211_aligned_Cl to /home/ng/DTRA/mof_construction/NiPyC2_relax_sc211/NiPyC2_relax_sc211_meta_functionalized_Cl_bonds.vtk.\n",
      "Saving bond information for crystal NiPyC2_relax_sc211_NiPyC2_relax_sc211_aligned_C-N_NiPyC2_relax_sc211_aligned_C-N_NiPyC2_relax_sc211_aligned_C-N_NiPyC2_relax_sc211_aligned_C-N_NiPyC2_relax_sc211_aligned_C-N_NiPyC2_relax_sc211_aligned_C-N_NiPyC2_relax_sc211_aligned_C-N_NiPyC2_relax_sc211_aligned_C-N to /home/ng/DTRA/mof_construction/NiPyC2_relax_sc211/NiPyC2_relax_sc211_ortho_functionalized_C-N_bonds.vtk.\n",
      "Saving bond information for crystal NiPyC2_relax_sc211_NiPyC2_relax_sc211_aligned_C-N_NiPyC2_relax_sc211_aligned_C-N_NiPyC2_relax_sc211_aligned_C-N_NiPyC2_relax_sc211_aligned_C-N_NiPyC2_relax_sc211_aligned_C-N_NiPyC2_relax_sc211_aligned_C-N_NiPyC2_relax_sc211_aligned_C-N_NiPyC2_relax_sc211_aligned_C-N to /home/ng/DTRA/mof_construction/NiPyC2_relax_sc211/NiPyC2_relax_sc211_meta_functionalized_C-N_bonds.vtk.\n",
      "Saving bond information for crystal NiPyC2_relax_sc211_NiPyC2_relax_sc211_aligned_F_NiPyC2_relax_sc211_aligned_F_NiPyC2_relax_sc211_aligned_F_NiPyC2_relax_sc211_aligned_F_NiPyC2_relax_sc211_aligned_F_NiPyC2_relax_sc211_aligned_F_NiPyC2_relax_sc211_aligned_F_NiPyC2_relax_sc211_aligned_F to /home/ng/DTRA/mof_construction/NiPyC2_relax_sc211/NiPyC2_relax_sc211_ortho_functionalized_F_bonds.vtk.\n"
     ]
    },
    {
     "name": "stdout",
     "output_type": "stream",
     "text": [
      "Saving bond information for crystal NiPyC2_relax_sc211_NiPyC2_relax_sc211_aligned_F_NiPyC2_relax_sc211_aligned_F_NiPyC2_relax_sc211_aligned_F_NiPyC2_relax_sc211_aligned_F_NiPyC2_relax_sc211_aligned_F_NiPyC2_relax_sc211_aligned_F_NiPyC2_relax_sc211_aligned_F_NiPyC2_relax_sc211_aligned_F to /home/ng/DTRA/mof_construction/NiPyC2_relax_sc211/NiPyC2_relax_sc211_meta_functionalized_F_bonds.vtk.\n",
      "Saving bond information for crystal NiPyC2_relax_sc211_NiPyC2_relax_sc211_aligned_N-2CH3_NiPyC2_relax_sc211_aligned_N-2CH3_NiPyC2_relax_sc211_aligned_N-2CH3_NiPyC2_relax_sc211_aligned_N-2CH3_NiPyC2_relax_sc211_aligned_N-2CH3_NiPyC2_relax_sc211_aligned_N-2CH3_NiPyC2_relax_sc211_aligned_N-2CH3_NiPyC2_relax_sc211_aligned_N-2CH3 to /home/ng/DTRA/mof_construction/NiPyC2_relax_sc211/NiPyC2_relax_sc211_ortho_functionalized_N-2CH3_bonds.vtk.\n",
      "Saving bond information for crystal NiPyC2_relax_sc211_NiPyC2_relax_sc211_aligned_N-2CH3_NiPyC2_relax_sc211_aligned_N-2CH3_NiPyC2_relax_sc211_aligned_N-2CH3_NiPyC2_relax_sc211_aligned_N-2CH3_NiPyC2_relax_sc211_aligned_N-2CH3_NiPyC2_relax_sc211_aligned_N-2CH3_NiPyC2_relax_sc211_aligned_N-2CH3_NiPyC2_relax_sc211_aligned_N-2CH3 to /home/ng/DTRA/mof_construction/NiPyC2_relax_sc211/NiPyC2_relax_sc211_meta_functionalized_N-2CH3_bonds.vtk.\n",
      "Saving bond information for crystal NiPyC2_relax_sc211_NiPyC2_relax_sc211_aligned_N-C-O_NiPyC2_relax_sc211_aligned_N-C-O_NiPyC2_relax_sc211_aligned_N-C-O_NiPyC2_relax_sc211_aligned_N-C-O_NiPyC2_relax_sc211_aligned_N-C-O_NiPyC2_relax_sc211_aligned_N-C-O_NiPyC2_relax_sc211_aligned_N-C-O_NiPyC2_relax_sc211_aligned_N-C-O to /home/ng/DTRA/mof_construction/NiPyC2_relax_sc211/NiPyC2_relax_sc211_ortho_functionalized_N-C-O_bonds.vtk.\n",
      "Saving bond information for crystal NiPyC2_relax_sc211_NiPyC2_relax_sc211_aligned_N-C-O_NiPyC2_relax_sc211_aligned_N-C-O_NiPyC2_relax_sc211_aligned_N-C-O_NiPyC2_relax_sc211_aligned_N-C-O_NiPyC2_relax_sc211_aligned_N-C-O_NiPyC2_relax_sc211_aligned_N-C-O_NiPyC2_relax_sc211_aligned_N-C-O_NiPyC2_relax_sc211_aligned_N-C-O to /home/ng/DTRA/mof_construction/NiPyC2_relax_sc211/NiPyC2_relax_sc211_meta_functionalized_N-C-O_bonds.vtk.\n",
      "Saving bond information for crystal NiPyC2_relax_sc211_NiPyC2_relax_sc211_aligned_NH2_NiPyC2_relax_sc211_aligned_NH2_NiPyC2_relax_sc211_aligned_NH2_NiPyC2_relax_sc211_aligned_NH2_NiPyC2_relax_sc211_aligned_NH2_NiPyC2_relax_sc211_aligned_NH2_NiPyC2_relax_sc211_aligned_NH2_NiPyC2_relax_sc211_aligned_NH2 to /home/ng/DTRA/mof_construction/NiPyC2_relax_sc211/NiPyC2_relax_sc211_ortho_functionalized_NH2_bonds.vtk.\n",
      "Saving bond information for crystal NiPyC2_relax_sc211_NiPyC2_relax_sc211_aligned_NH2_NiPyC2_relax_sc211_aligned_NH2_NiPyC2_relax_sc211_aligned_NH2_NiPyC2_relax_sc211_aligned_NH2_NiPyC2_relax_sc211_aligned_NH2_NiPyC2_relax_sc211_aligned_NH2_NiPyC2_relax_sc211_aligned_NH2_NiPyC2_relax_sc211_aligned_NH2 to /home/ng/DTRA/mof_construction/NiPyC2_relax_sc211/NiPyC2_relax_sc211_meta_functionalized_NH2_bonds.vtk.\n",
      "Saving bond information for crystal NiPyC2_relax_sc211_NiPyC2_relax_sc211_aligned_N-NH_NiPyC2_relax_sc211_aligned_N-NH_NiPyC2_relax_sc211_aligned_N-NH_NiPyC2_relax_sc211_aligned_N-NH_NiPyC2_relax_sc211_aligned_N-NH_NiPyC2_relax_sc211_aligned_N-NH_NiPyC2_relax_sc211_aligned_N-NH_NiPyC2_relax_sc211_aligned_N-NH to /home/ng/DTRA/mof_construction/NiPyC2_relax_sc211/NiPyC2_relax_sc211_ortho_functionalized_N-NH_bonds.vtk.\n",
      "Saving bond information for crystal NiPyC2_relax_sc211_NiPyC2_relax_sc211_aligned_N-NH_NiPyC2_relax_sc211_aligned_N-NH_NiPyC2_relax_sc211_aligned_N-NH_NiPyC2_relax_sc211_aligned_N-NH_NiPyC2_relax_sc211_aligned_N-NH_NiPyC2_relax_sc211_aligned_N-NH_NiPyC2_relax_sc211_aligned_N-NH_NiPyC2_relax_sc211_aligned_N-NH to /home/ng/DTRA/mof_construction/NiPyC2_relax_sc211/NiPyC2_relax_sc211_meta_functionalized_N-NH_bonds.vtk.\n",
      "Saving bond information for crystal NiPyC2_relax_sc211_NiPyC2_relax_sc211_aligned_O-CH2-CH2-CH3_NiPyC2_relax_sc211_aligned_O-CH2-CH2-CH3_NiPyC2_relax_sc211_aligned_O-CH2-CH2-CH3_NiPyC2_relax_sc211_aligned_O-CH2-CH2-CH3_NiPyC2_relax_sc211_aligned_O-CH2-CH2-CH3_NiPyC2_relax_sc211_aligned_O-CH2-CH2-CH3_NiPyC2_relax_sc211_aligned_O-CH2-CH2-CH3_NiPyC2_relax_sc211_aligned_O-CH2-CH2-CH3 to /home/ng/DTRA/mof_construction/NiPyC2_relax_sc211/NiPyC2_relax_sc211_ortho_functionalized_O-CH2-CH2-CH3_bonds.vtk.\n",
      "Saving bond information for crystal NiPyC2_relax_sc211_NiPyC2_relax_sc211_aligned_O-CH2-CH2-CH3_NiPyC2_relax_sc211_aligned_O-CH2-CH2-CH3_NiPyC2_relax_sc211_aligned_O-CH2-CH2-CH3_NiPyC2_relax_sc211_aligned_O-CH2-CH2-CH3_NiPyC2_relax_sc211_aligned_O-CH2-CH2-CH3_NiPyC2_relax_sc211_aligned_O-CH2-CH2-CH3_NiPyC2_relax_sc211_aligned_O-CH2-CH2-CH3_NiPyC2_relax_sc211_aligned_O-CH2-CH2-CH3 to /home/ng/DTRA/mof_construction/NiPyC2_relax_sc211/NiPyC2_relax_sc211_meta_functionalized_O-CH2-CH2-CH3_bonds.vtk.\n",
      "Saving bond information for crystal NiPyC2_relax_sc211_NiPyC2_relax_sc211_aligned_O-CH2-CH3_NiPyC2_relax_sc211_aligned_O-CH2-CH3_NiPyC2_relax_sc211_aligned_O-CH2-CH3_NiPyC2_relax_sc211_aligned_O-CH2-CH3_NiPyC2_relax_sc211_aligned_O-CH2-CH3_NiPyC2_relax_sc211_aligned_O-CH2-CH3_NiPyC2_relax_sc211_aligned_O-CH2-CH3_NiPyC2_relax_sc211_aligned_O-CH2-CH3 to /home/ng/DTRA/mof_construction/NiPyC2_relax_sc211/NiPyC2_relax_sc211_ortho_functionalized_O-CH2-CH3_bonds.vtk.\n",
      "Saving bond information for crystal NiPyC2_relax_sc211_NiPyC2_relax_sc211_aligned_O-CH2-CH3_NiPyC2_relax_sc211_aligned_O-CH2-CH3_NiPyC2_relax_sc211_aligned_O-CH2-CH3_NiPyC2_relax_sc211_aligned_O-CH2-CH3_NiPyC2_relax_sc211_aligned_O-CH2-CH3_NiPyC2_relax_sc211_aligned_O-CH2-CH3_NiPyC2_relax_sc211_aligned_O-CH2-CH3_NiPyC2_relax_sc211_aligned_O-CH2-CH3 to /home/ng/DTRA/mof_construction/NiPyC2_relax_sc211/NiPyC2_relax_sc211_meta_functionalized_O-CH2-CH3_bonds.vtk.\n",
      "Saving bond information for crystal NiPyC2_relax_sc211_NiPyC2_relax_sc211_aligned_O-CH3_NiPyC2_relax_sc211_aligned_O-CH3_NiPyC2_relax_sc211_aligned_O-CH3_NiPyC2_relax_sc211_aligned_O-CH3_NiPyC2_relax_sc211_aligned_O-CH3_NiPyC2_relax_sc211_aligned_O-CH3_NiPyC2_relax_sc211_aligned_O-CH3_NiPyC2_relax_sc211_aligned_O-CH3 to /home/ng/DTRA/mof_construction/NiPyC2_relax_sc211/NiPyC2_relax_sc211_ortho_functionalized_O-CH3_bonds.vtk.\n",
      "Saving bond information for crystal NiPyC2_relax_sc211_NiPyC2_relax_sc211_aligned_O-CH3_NiPyC2_relax_sc211_aligned_O-CH3_NiPyC2_relax_sc211_aligned_O-CH3_NiPyC2_relax_sc211_aligned_O-CH3_NiPyC2_relax_sc211_aligned_O-CH3_NiPyC2_relax_sc211_aligned_O-CH3_NiPyC2_relax_sc211_aligned_O-CH3_NiPyC2_relax_sc211_aligned_O-CH3 to /home/ng/DTRA/mof_construction/NiPyC2_relax_sc211/NiPyC2_relax_sc211_meta_functionalized_O-CH3_bonds.vtk.\n",
      "Saving bond information for crystal NiPyC2_relax_sc211_NiPyC2_relax_sc211_aligned_O-C-N_NiPyC2_relax_sc211_aligned_O-C-N_NiPyC2_relax_sc211_aligned_O-C-N_NiPyC2_relax_sc211_aligned_O-C-N_NiPyC2_relax_sc211_aligned_O-C-N_NiPyC2_relax_sc211_aligned_O-C-N_NiPyC2_relax_sc211_aligned_O-C-N_NiPyC2_relax_sc211_aligned_O-C-N to /home/ng/DTRA/mof_construction/NiPyC2_relax_sc211/NiPyC2_relax_sc211_ortho_functionalized_O-C-N_bonds.vtk.\n",
      "Saving bond information for crystal NiPyC2_relax_sc211_NiPyC2_relax_sc211_aligned_O-C-N_NiPyC2_relax_sc211_aligned_O-C-N_NiPyC2_relax_sc211_aligned_O-C-N_NiPyC2_relax_sc211_aligned_O-C-N_NiPyC2_relax_sc211_aligned_O-C-N_NiPyC2_relax_sc211_aligned_O-C-N_NiPyC2_relax_sc211_aligned_O-C-N_NiPyC2_relax_sc211_aligned_O-C-N to /home/ng/DTRA/mof_construction/NiPyC2_relax_sc211/NiPyC2_relax_sc211_meta_functionalized_O-C-N_bonds.vtk.\n",
      "Saving bond information for crystal NiPyC2_relax_sc211_NiPyC2_relax_sc211_aligned_OH_NiPyC2_relax_sc211_aligned_OH_NiPyC2_relax_sc211_aligned_OH_NiPyC2_relax_sc211_aligned_OH_NiPyC2_relax_sc211_aligned_OH_NiPyC2_relax_sc211_aligned_OH_NiPyC2_relax_sc211_aligned_OH_NiPyC2_relax_sc211_aligned_OH to /home/ng/DTRA/mof_construction/NiPyC2_relax_sc211/NiPyC2_relax_sc211_ortho_functionalized_OH_bonds.vtk.\n",
      "Saving bond information for crystal NiPyC2_relax_sc211_NiPyC2_relax_sc211_aligned_OH_NiPyC2_relax_sc211_aligned_OH_NiPyC2_relax_sc211_aligned_OH_NiPyC2_relax_sc211_aligned_OH_NiPyC2_relax_sc211_aligned_OH_NiPyC2_relax_sc211_aligned_OH_NiPyC2_relax_sc211_aligned_OH_NiPyC2_relax_sc211_aligned_OH to /home/ng/DTRA/mof_construction/NiPyC2_relax_sc211/NiPyC2_relax_sc211_meta_functionalized_OH_bonds.vtk.\n",
      "Saving bond information for crystal NiPyC2_relax_sc211_NiPyC2_relax_sc211_aligned_O-OH_NiPyC2_relax_sc211_aligned_O-OH_NiPyC2_relax_sc211_aligned_O-OH_NiPyC2_relax_sc211_aligned_O-OH_NiPyC2_relax_sc211_aligned_O-OH_NiPyC2_relax_sc211_aligned_O-OH_NiPyC2_relax_sc211_aligned_O-OH_NiPyC2_relax_sc211_aligned_O-OH to /home/ng/DTRA/mof_construction/NiPyC2_relax_sc211/NiPyC2_relax_sc211_ortho_functionalized_O-OH_bonds.vtk.\n"
     ]
    },
    {
     "name": "stdout",
     "output_type": "stream",
     "text": [
      "Saving bond information for crystal NiPyC2_relax_sc211_NiPyC2_relax_sc211_aligned_O-OH_NiPyC2_relax_sc211_aligned_O-OH_NiPyC2_relax_sc211_aligned_O-OH_NiPyC2_relax_sc211_aligned_O-OH_NiPyC2_relax_sc211_aligned_O-OH_NiPyC2_relax_sc211_aligned_O-OH_NiPyC2_relax_sc211_aligned_O-OH_NiPyC2_relax_sc211_aligned_O-OH to /home/ng/DTRA/mof_construction/NiPyC2_relax_sc211/NiPyC2_relax_sc211_meta_functionalized_O-OH_bonds.vtk.\n",
      "Saving bond information for crystal NiPyC2_relax_sc211_NiPyC2_relax_sc211_aligned_P-2CH3_NiPyC2_relax_sc211_aligned_P-2CH3_NiPyC2_relax_sc211_aligned_P-2CH3_NiPyC2_relax_sc211_aligned_P-2CH3_NiPyC2_relax_sc211_aligned_P-2CH3_NiPyC2_relax_sc211_aligned_P-2CH3_NiPyC2_relax_sc211_aligned_P-2CH3_NiPyC2_relax_sc211_aligned_P-2CH3 to /home/ng/DTRA/mof_construction/NiPyC2_relax_sc211/NiPyC2_relax_sc211_ortho_functionalized_P-2CH3_bonds.vtk.\n",
      "Saving bond information for crystal NiPyC2_relax_sc211_NiPyC2_relax_sc211_aligned_P-2CH3_NiPyC2_relax_sc211_aligned_P-2CH3_NiPyC2_relax_sc211_aligned_P-2CH3_NiPyC2_relax_sc211_aligned_P-2CH3_NiPyC2_relax_sc211_aligned_P-2CH3_NiPyC2_relax_sc211_aligned_P-2CH3_NiPyC2_relax_sc211_aligned_P-2CH3_NiPyC2_relax_sc211_aligned_P-2CH3 to /home/ng/DTRA/mof_construction/NiPyC2_relax_sc211/NiPyC2_relax_sc211_meta_functionalized_P-2CH3_bonds.vtk.\n",
      "Saving bond information for crystal NiPyC2_relax_sc211_NiPyC2_relax_sc211_aligned_PH2_NiPyC2_relax_sc211_aligned_PH2_NiPyC2_relax_sc211_aligned_PH2_NiPyC2_relax_sc211_aligned_PH2_NiPyC2_relax_sc211_aligned_PH2_NiPyC2_relax_sc211_aligned_PH2_NiPyC2_relax_sc211_aligned_PH2_NiPyC2_relax_sc211_aligned_PH2 to /home/ng/DTRA/mof_construction/NiPyC2_relax_sc211/NiPyC2_relax_sc211_ortho_functionalized_PH2_bonds.vtk.\n",
      "Saving bond information for crystal NiPyC2_relax_sc211_NiPyC2_relax_sc211_aligned_PH2_NiPyC2_relax_sc211_aligned_PH2_NiPyC2_relax_sc211_aligned_PH2_NiPyC2_relax_sc211_aligned_PH2_NiPyC2_relax_sc211_aligned_PH2_NiPyC2_relax_sc211_aligned_PH2_NiPyC2_relax_sc211_aligned_PH2_NiPyC2_relax_sc211_aligned_PH2 to /home/ng/DTRA/mof_construction/NiPyC2_relax_sc211/NiPyC2_relax_sc211_meta_functionalized_PH2_bonds.vtk.\n",
      "Saving bond information for crystal NiPyC2_relax_sc211_NiPyC2_relax_sc211_aligned_S-CH3_NiPyC2_relax_sc211_aligned_S-CH3_NiPyC2_relax_sc211_aligned_S-CH3_NiPyC2_relax_sc211_aligned_S-CH3_NiPyC2_relax_sc211_aligned_S-CH3_NiPyC2_relax_sc211_aligned_S-CH3_NiPyC2_relax_sc211_aligned_S-CH3_NiPyC2_relax_sc211_aligned_S-CH3 to /home/ng/DTRA/mof_construction/NiPyC2_relax_sc211/NiPyC2_relax_sc211_ortho_functionalized_S-CH3_bonds.vtk.\n",
      "Saving bond information for crystal NiPyC2_relax_sc211_NiPyC2_relax_sc211_aligned_S-CH3_NiPyC2_relax_sc211_aligned_S-CH3_NiPyC2_relax_sc211_aligned_S-CH3_NiPyC2_relax_sc211_aligned_S-CH3_NiPyC2_relax_sc211_aligned_S-CH3_NiPyC2_relax_sc211_aligned_S-CH3_NiPyC2_relax_sc211_aligned_S-CH3_NiPyC2_relax_sc211_aligned_S-CH3 to /home/ng/DTRA/mof_construction/NiPyC2_relax_sc211/NiPyC2_relax_sc211_meta_functionalized_S-CH3_bonds.vtk.\n",
      "Saving bond information for crystal NiPyC2_relax_sc211_NiPyC2_relax_sc211_aligned_SH_NiPyC2_relax_sc211_aligned_SH_NiPyC2_relax_sc211_aligned_SH_NiPyC2_relax_sc211_aligned_SH_NiPyC2_relax_sc211_aligned_SH_NiPyC2_relax_sc211_aligned_SH_NiPyC2_relax_sc211_aligned_SH_NiPyC2_relax_sc211_aligned_SH to /home/ng/DTRA/mof_construction/NiPyC2_relax_sc211/NiPyC2_relax_sc211_ortho_functionalized_SH_bonds.vtk.\n",
      "Saving bond information for crystal NiPyC2_relax_sc211_NiPyC2_relax_sc211_aligned_SH_NiPyC2_relax_sc211_aligned_SH_NiPyC2_relax_sc211_aligned_SH_NiPyC2_relax_sc211_aligned_SH_NiPyC2_relax_sc211_aligned_SH_NiPyC2_relax_sc211_aligned_SH_NiPyC2_relax_sc211_aligned_SH_NiPyC2_relax_sc211_aligned_SH to /home/ng/DTRA/mof_construction/NiPyC2_relax_sc211/NiPyC2_relax_sc211_meta_functionalized_SH_bonds.vtk.\n"
     ]
    }
   ],
   "source": [
    "for fragment_name in fragment_list\n",
    "    # label functional groups that have overlapping atoms \n",
    "    # so that they can be identified in structural optimization\n",
    "    if fragment_name in fragments_with_overlap\n",
    "        has_overlap = true\n",
    "    else\n",
    "        has_overlap = false # default \n",
    "    end\n",
    "    \n",
    "    for sub_type in substitution_types\n",
    "        if sub_type != \"all\"\n",
    "            functionalize_mof(crystal, fragment_name, ipso_species, r_species,\n",
    "                                bonding_rules; n=6, randomize_side=true,\n",
    "                                arene_substitution_type=sub_type,\n",
    "                                label_functional_group=has_overlap)\n",
    "        elseif sub_type ==\"all\"\n",
    "            # do something special\n",
    "            continue\n",
    "        else\n",
    "            error(\"substituation type not supported\")\n",
    "        end\n",
    "        \n",
    "    end\n",
    "end "
   ]
  }
 ],
 "metadata": {
  "kernelspec": {
   "display_name": "Julia 1.3.1",
   "language": "julia",
   "name": "julia-1.3"
  },
  "language_info": {
   "file_extension": ".jl",
   "mimetype": "application/julia",
   "name": "julia",
   "version": "1.3.1"
  }
 },
 "nbformat": 4,
 "nbformat_minor": 4
}
