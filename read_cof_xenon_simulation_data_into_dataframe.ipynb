{
 "cells": [
  {
   "cell_type": "markdown",
   "metadata": {},
   "source": [
    "# JLD2 to CSV\n",
    "This script convets `.jld2` files output from `PorousMaterials.jl`'s `gcmc_simulation` function and compiles them into a `.csv` file which can then be imported into a DataFrame."
   ]
  },
  {
   "cell_type": "code",
   "execution_count": 1,
   "metadata": {},
   "outputs": [
    {
     "name": "stderr",
     "output_type": "stream",
     "text": [
      "┌ Info: Precompiling PorousMaterials [68953c7c-a3c7-538e-83d3-73516288599e]\n",
      "└ @ Base loading.jl:1273\n",
      "WARNING: Method definition dot(Any, Any, Any) in module Compat at /home/ng/.julia/packages/Compat/BmftR/src/Compat.jl:111 overwritten in module Optim at /home/ng/.julia/packages/Optim/cJRng/src/multivariate/precon.jl:24.\n",
      "  ** incremental compilation may be fatally broken for this module **\n",
      "\n"
     ]
    }
   ],
   "source": [
    "using PorousMaterials\n",
    "using FileIO\n",
    "# using JLD2\n",
    "using CSV\n",
    "using DataFrames\n",
    "using PyPlot\n",
    "\n",
    "PyPlot.matplotlib.style.use(\"Solarize_Light2\")\n",
    "\n",
    "rcParams = PyPlot.PyDict(PyPlot.matplotlib.\"rcParams\")\n",
    "rcParams[\"font.size\"] = 16;"
   ]
  },
  {
   "cell_type": "markdown",
   "metadata": {},
   "source": [
    "**TODO:**\n",
    "* consider renaming to \"gcmc_results_to_dataframe\" \n",
    "* should we have this write the dataframe file directly to the gcmc_sims directory?\n",
    "* make input arguements iinto a dictionary (possibly accept as commandline arguments)"
   ]
  },
  {
   "cell_type": "code",
   "execution_count": 2,
   "metadata": {},
   "outputs": [
    {
     "data": {
      "text/plain": [
       "\"/home/ng/DTRA/data\""
      ]
     },
     "execution_count": 2,
     "metadata": {},
     "output_type": "execute_result"
    }
   ],
   "source": [
    "pressures = 10 .^ range(-2, stop=log10(1.2), length=15)\n",
    "frameworks = [\"NiPyC2.cif\"]\n",
    "PorousMaterials.PATH_TO_DATA"
   ]
  },
  {
   "cell_type": "code",
   "execution_count": 3,
   "metadata": {},
   "outputs": [
    {
     "data": {
      "text/plain": [
       "isotherm_sim_results_to_dataframe (generic function with 1 method)"
      ]
     },
     "execution_count": 3,
     "metadata": {},
     "output_type": "execute_result"
    }
   ],
   "source": [
    "function isotherm_sim_results_to_dataframe(props_we_want::Array{String},\n",
    "        frameworkname::String, gas::Symbol, forcefieldname::String, temperature::Float64, \n",
    "        pressures::Array{Float64}, n_burn_cycles::Int, n_sample_cycles::Int; \n",
    "        where_are_jld_files::Union{String, Nothing}=nothing)\n",
    "    \n",
    "    if isnothing(where_are_jld_files)\n",
    "        where_are_jld_files = joinpath(PorousMaterials.PATH_TO_DATA, \"gcmc_sims\")\n",
    "    end\n",
    "    \n",
    "    # prepare dataframe to populate\n",
    "    df = DataFrame()\n",
    "    for col in props_we_want\n",
    "        insertcols!(df, length(names(df)) + 1, Symbol(col) => Float64[])\n",
    "    end\n",
    "\n",
    "    for (i, pressure) in enumerate(pressures)\n",
    "        sim_result = load(\n",
    "            joinpath(where_are_jld_files, \n",
    "                gcmc_result_savename(frameworkname, gas, forcefieldname, \n",
    "                    temperature, pressure, n_burn_cycles, n_sample_cycles) * \".jld2\"\n",
    "            ), \"results\"\n",
    "        )\n",
    "        push!(df, [sim_result[prop] for prop in props_we_want])\n",
    "    end\n",
    "    return df\n",
    "    \n",
    "end"
   ]
  },
  {
   "cell_type": "code",
   "execution_count": 4,
   "metadata": {},
   "outputs": [
    {
     "ename": "SystemError",
     "evalue": "SystemError: opening file \"data/sim_xe_isotherms/NiPyC2.cif.csv\": No such file or directory",
     "output_type": "error",
     "traceback": [
      "SystemError: opening file \"data/sim_xe_isotherms/NiPyC2.cif.csv\": No such file or directory",
      "",
      "Stacktrace:",
      " [1] #systemerror#44(::Nothing, ::typeof(systemerror), ::String, ::Bool) at ./error.jl:134",
      " [2] systemerror at ./error.jl:134 [inlined]",
      " [3] #open#512(::Nothing, ::Nothing, ::Nothing, ::Bool, ::Nothing, ::typeof(open), ::String) at ./iostream.jl:254",
      " [4] #open at ./none:0 [inlined]",
      " [5] open(::String, ::String) at ./iostream.jl:310",
      " [6] #open#271(::Base.Iterators.Pairs{Union{},Union{},Tuple{},NamedTuple{(),Tuple{}}}, ::typeof(open), ::CSV.var\"#66#67\"{CSV.var\"#59#60\"{Bool,Bool,Tables.Schema{(Symbol(\"pressure (bar)\"), Symbol(\"fugacity (bar)\"), Symbol(\"⟨N⟩ (mmol/g)\")),Tuple{Float64,Float64,Float64}},Tables.RowIterator{NamedTuple{(Symbol(\"pressure (bar)\"), Symbol(\"fugacity (bar)\"), Symbol(\"⟨N⟩ (mmol/g)\")),Tuple{Array{Float64,1},Array{Float64,1},Array{Float64,1}}}},CSV.Options{UInt8,UInt8,Nothing,Tuple{},CSV.var\"#54#56\"},Tuple{Symbol,Symbol,Symbol},Int64,Int64,Array{UInt8,1}}}, ::String, ::Vararg{String,N} where N) at ./io.jl:296",
      " [7] open(::Function, ::String, ::String) at ./io.jl:296",
      " [8] with at /home/ng/.julia/packages/CSV/76SRf/src/write.jl:148 [inlined]",
      " [9] #write#58 at /home/ng/.julia/packages/CSV/76SRf/src/write.jl:79 [inlined]",
      " [10] write(::Tables.Schema{(Symbol(\"pressure (bar)\"), Symbol(\"fugacity (bar)\"), Symbol(\"⟨N⟩ (mmol/g)\")),Tuple{Float64,Float64,Float64}}, ::Tables.RowIterator{NamedTuple{(Symbol(\"pressure (bar)\"), Symbol(\"fugacity (bar)\"), Symbol(\"⟨N⟩ (mmol/g)\")),Tuple{Array{Float64,1},Array{Float64,1},Array{Float64,1}}}}, ::String, ::CSV.Options{UInt8,UInt8,Nothing,Tuple{},CSV.var\"#54#56\"}) at /home/ng/.julia/packages/CSV/76SRf/src/write.jl:74",
      " [11] #write#53(::Char, ::Char, ::Nothing, ::Nothing, ::Char, ::Char, ::Char, ::Nothing, ::Bool, ::String, ::CSV.var\"#54#56\", ::Bool, ::Base.Iterators.Pairs{Union{},Union{},Tuple{},NamedTuple{(),Tuple{}}}, ::typeof(CSV.write), ::String, ::DataFrame) at /home/ng/.julia/packages/CSV/76SRf/src/write.jl:66",
      " [12] write(::String, ::DataFrame) at /home/ng/.julia/packages/CSV/76SRf/src/write.jl:59",
      " [13] top-level scope at ./In[4]:7"
     ]
    }
   ],
   "source": [
    "cof_to_isotherm = Dict{String, DataFrame}() # must be defined outside of the function if you want to plot\n",
    "\n",
    "props_we_want = [\"pressure (bar)\", \"fugacity (bar)\", \"⟨N⟩ (mmol/g)\"]\n",
    "for frameworkname in frameworks\n",
    "    cof_to_isotherm[frameworkname] = isotherm_sim_results_to_dataframe(props_we_want, frameworkname,\n",
    "        :Xe, \"UFF\", 298.0, pressures, 5000, 5000)\n",
    "    CSV.write(joinpath(\"data\", \"sim_xe_isotherms\", frameworkname * \".csv\"), cof_to_isotherm[frameworkname])\n",
    "end\n",
    "cof_to_isotherm"
   ]
  },
  {
   "cell_type": "code",
   "execution_count": 5,
   "metadata": {},
   "outputs": [
    {
     "ename": "KeyError",
     "evalue": "KeyError: key \"COF-102\" not found",
     "output_type": "error",
     "traceback": [
      "KeyError: key \"COF-102\" not found",
      "",
      "Stacktrace:",
      " [1] getindex(::Dict{String,DataFrame}, ::String) at ./dict.jl:477",
      " [2] top-level scope at In[5]:1"
     ]
    }
   ],
   "source": [
    "cof_to_isotherm[\"COF-102\"]"
   ]
  },
  {
   "cell_type": "code",
   "execution_count": 6,
   "metadata": {},
   "outputs": [
    {
     "data": {
      "image/png": "[encoded data removed]",
      "text/plain": [
       "Figure(PyObject <Figure size 640x480 with 1 Axes>)"
      ]
     },
     "metadata": {},
     "output_type": "display_data"
    },
    {
     "data": {
      "text/plain": [
       "PyObject Text(0.5, 1, 'simulated Xe isotherm')"
      ]
     },
     "execution_count": 6,
     "metadata": {},
     "output_type": "execute_result"
    }
   ],
   "source": [
    "figure()\n",
    "cof_to_marker = Dict(zip(frameworks, [\"o\", \"s\"]))\n",
    "for cof in frameworks\n",
    "    plot(cof_to_isotherm[cof][:, Symbol(\"pressure (bar)\")], \n",
    "         cof_to_isotherm[cof][:, Symbol(\"⟨N⟩ (mmol/g)\")], \n",
    "        label=cof, marker=cof_to_marker[cof])\n",
    "end\n",
    "legend()\n",
    "xlabel(\"pressure [bar]\")\n",
    "ylabel(\"Xe uptake [mmol/g]\")\n",
    "title(\"simulated Xe isotherm\")"
   ]
  },
  {
   "cell_type": "code",
   "execution_count": 7,
   "metadata": {},
   "outputs": [
    {
     "ename": "KeyError",
     "evalue": "KeyError: key \"COF-102\" not found",
     "output_type": "error",
     "traceback": [
      "KeyError: key \"COF-102\" not found",
      "",
      "Stacktrace:",
      " [1] getindex(::Dict{String,DataFrame}, ::String) at ./dict.jl:477",
      " [2] top-level scope at In[7]:2"
     ]
    }
   ],
   "source": [
    "figure()\n",
    "plot(cof_to_isotherm[\"COF-102\"][:, Symbol(\"pressure (bar)\")], cof_to_isotherm[\"COF-102\"][:, Symbol(\"fugacity (bar)\")], marker=\"o\")\n",
    "plot([0, 300], [0, 300], color=\"k\", linestyle=\"--\")\n",
    "xlabel(\"pressure (bar)\")\n",
    "ylabel(\"fugacity (bar)\")\n",
    "title(\"fugacity versus pressure\")"
   ]
  },
  {
   "cell_type": "code",
   "execution_count": 8,
   "metadata": {},
   "outputs": [
    {
     "ename": "ArgumentError",
     "evalue": "ArgumentError: \"data/NIST_data/xenon_NIST_data.txt\" is not a valid file",
     "output_type": "error",
     "traceback": [
      "ArgumentError: \"data/NIST_data/xenon_NIST_data.txt\" is not a valid file",
      "",
      "Stacktrace:",
      " [1] checkvalidsource at /home/ng/.julia/packages/CSV/76SRf/src/CSV.jl:140 [inlined]",
      " [2] file(::String, ::Int64, ::Bool, ::Int64, ::Nothing, ::Int64, ::Int64, ::Bool, ::Nothing, ::Bool, ::Bool, ::Nothing, ::Nothing, ::Nothing, ::Array{String,1}, ::String, ::Nothing, ::Bool, ::Char, ::Nothing, ::Nothing, ::Char, ::Nothing, ::UInt8, ::Nothing, ::Nothing, ::Nothing, ::Nothing, ::Dict{Int8,Int8}, ::Bool, ::Float64, ::Bool, ::Bool, ::Bool, ::Bool, ::Nothing) at /home/ng/.julia/packages/CSV/76SRf/src/CSV.jl:314",
      " [3] #File#15 at /home/ng/.julia/packages/CSV/76SRf/src/CSV.jl:262 [inlined]",
      " [4] File at /home/ng/.julia/packages/CSV/76SRf/src/CSV.jl:262 [inlined]",
      " [5] #read#70 at /home/ng/.julia/packages/CSV/76SRf/src/CSV.jl:1156 [inlined]",
      " [6] read(::String) at /home/ng/.julia/packages/CSV/76SRf/src/CSV.jl:1156",
      " [7] top-level scope at In[8]:3"
     ]
    }
   ],
   "source": [
    "const xe_critical_pressure = 58.420 # bar\n",
    "wheres_nist_xenon_data = joinpath(\"data\", \"NIST_data\", \"xenon_NIST_data.txt\")\n",
    "\n",
    "df_xe_data = CSV.read(wheres_nist_xenon_data)\n",
    "p_plot = range(0.0, 350.0, length=100)\n",
    "xe_vdw = VdWFluid(:Xe)\n",
    "xe_pr = PengRobinsonFluid(:Xe)\n",
    "ρ_vdw = [1.0 / calculate_properties(xe_vdw, 298.0, p, verbose=false)[\"molar volume (L/mol)\"] for p in p_plot]\n",
    "ρ_pr = [1.0 / calculate_properties(xe_pr, 298.0, p, verbose=false)[\"molar volume (L/mol)\"] for p in p_plot]\n",
    "\n",
    "figure()\n",
    "plot(p_plot, ρ_vdw, label=\"vdw EOS\")\n",
    "plot(p_plot, ρ_pr, label=\"Peng-Robinson EOS\")\n",
    "plot(df_xe_data[!, Symbol(\"Pressure (bar)\")], df_xe_data[!, Symbol(\"Density (mol/l)\")], label=\"NIST\")\n",
    "axvline(x=xe_critical_pressure, linestyle=\"--\", color=\"k\", label=\"crit. pressure\", lw=1)\n",
    "xlabel(\"pressure [bar]\")\n",
    "ylabel(\"density [mol/L]\")\n",
    "title(\"EOS Comparison\")\n",
    "legend()\n",
    "\n",
    "# savefig(\"xenon_gas_density.png\", format=\"png\")"
   ]
  },
  {
   "cell_type": "code",
   "execution_count": null,
   "metadata": {},
   "outputs": [],
   "source": []
  }
 ],
 "metadata": {
  "@webio": {
   "lastCommId": "21b70fe7d19542b9a163f282208dc9ca",
   "lastKernelId": "14ad8d31-c8e7-4331-acf7-e6b6fff6293a"
  },
  "kernelspec": {
   "display_name": "Julia 1.3.1",
   "language": "julia",
   "name": "julia-1.3"
  },
  "language_info": {
   "file_extension": ".jl",
   "mimetype": "application/julia",
   "name": "julia",
   "version": "1.3.1"
  }
 },
 "nbformat": 4,
 "nbformat_minor": 2
}
