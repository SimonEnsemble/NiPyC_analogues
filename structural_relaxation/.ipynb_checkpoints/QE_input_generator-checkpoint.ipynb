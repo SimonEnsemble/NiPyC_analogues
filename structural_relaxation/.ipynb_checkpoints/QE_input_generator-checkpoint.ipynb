{
 "cells": [
  {
   "cell_type": "markdown",
   "metadata": {},
   "source": [
    "# QE input script generator\n",
    "This will automate the process of writing input scripts for Quantum Espresso to do the structural optimization of functionalized mofs using the pw.x (plane wave) package and pseudopotential files. \n",
    "\n",
    "**NOTE:** many default arguements will be preset."
   ]
  },
  {
   "cell_type": "code",
   "execution_count": 1,
   "metadata": {},
   "outputs": [],
   "source": [
    "cd(\"..\")"
   ]
  },
  {
   "cell_type": "code",
   "execution_count": 2,
   "metadata": {},
   "outputs": [
    {
     "name": "stderr",
     "output_type": "stream",
     "text": [
      "┌ Info: Precompiling PorousMaterials [68953c7c-a3c7-538e-83d3-73516288599e]\n",
      "└ @ Base loading.jl:1273\n",
      "WARNING: Method definition dot(Any, Any, Any) in module Compat at /home/ng/.julia/packages/Compat/ElSO3/src/Compat.jl:116 overwritten in module Optim at /home/ng/.julia/packages/Optim/cJRng/src/multivariate/precon.jl:24.\n",
      "  ** incremental compilation may be fatally broken for this module **\n",
      "\n",
      "┌ Warning: Package PorousMaterials does not have PyCall in its dependencies:\n",
      "│ - If you have PorousMaterials checked out for development and have\n",
      "│   added PyCall as a dependency but haven't updated your primary\n",
      "│   environment's manifest file, try `Pkg.resolve()`.\n",
      "│ - Otherwise you may need to report an issue with PorousMaterials\n",
      "└ Loading PyCall into PorousMaterials from project dependency, future warnings for PorousMaterials are suppressed.\n"
     ]
    }
   ],
   "source": [
    "using PorousMaterials\n",
    "using Printf"
   ]
  },
  {
   "cell_type": "code",
   "execution_count": 3,
   "metadata": {},
   "outputs": [
    {
     "data": {
      "text/plain": [
       "\"/home/ng/DTRA/data\""
      ]
     },
     "execution_count": 3,
     "metadata": {},
     "output_type": "execute_result"
    }
   ],
   "source": [
    "PorousMaterials.PATH_TO_DATA"
   ]
  },
  {
   "cell_type": "code",
   "execution_count": 4,
   "metadata": {},
   "outputs": [],
   "source": [
    "cd(\"structural_relaxation\")"
   ]
  },
  {
   "cell_type": "markdown",
   "metadata": {},
   "source": [
    "**TODO:** \n",
    "* fix file paths to crystals and data\n",
    "* fix file output location\n",
    "* loop over all functionalized mofs"
   ]
  },
  {
   "cell_type": "code",
   "execution_count": 5,
   "metadata": {},
   "outputs": [
    {
     "data": {
      "text/plain": [
       "Dict{Symbol,Float64} with 100 entries:\n",
       "  :Xe__    => 131.293\n",
       "  :Cl      => 35.453\n",
       "  :Al      => 26.9815\n",
       "  :Be      => 9.01218\n",
       "  :Re      => 186.207\n",
       "  :O_RCOO  => 15.9994\n",
       "  :Cr      => 51.996\n",
       "  :Na      => 22.9898\n",
       "  :N_in_N2 => 14.0067\n",
       "  :VOID    => 0.0\n",
       "  :Sb      => 121.76\n",
       "  :Kr      => 83.798\n",
       "  :Ni      => 58.6934\n",
       "  :S       => 32.065\n",
       "  :CH4     => 16.04\n",
       "  :O_zeo   => 15.9994\n",
       "  :Ru      => 101.07\n",
       "  :Tm      => 168.934\n",
       "  :C_sp3   => 12.0107\n",
       "  :Xe_     => 131.293\n",
       "  :Nd      => 144.242\n",
       "  :O       => 15.9994\n",
       "  :Tb      => 158.925\n",
       "  :Th      => 232.038\n",
       "  :Zr      => 91.224\n",
       "  ⋮        => ⋮"
      ]
     },
     "execution_count": 5,
     "metadata": {},
     "output_type": "execute_result"
    }
   ],
   "source": [
    "atomic_masses = read_atomic_masses()"
   ]
  },
  {
   "cell_type": "code",
   "execution_count": 6,
   "metadata": {},
   "outputs": [],
   "source": [
    "# which_crystal = \"NiPyC2\"\n",
    "# replication_id = \"sc211_\" # super cell 2x1x1\n",
    "# qe_run_type = \"relax\"\n",
    "\n",
    "# # name of the directory containing functionalixed structures\n",
    "# mof_dir_name = which_crystal * \"_\" * replication_id * qe_run_type\n",
    "\n",
    "# @eval PorousMaterials PATH_TO_CRYSTALS = joinpath(pwd(), \"mof_construction\",\n",
    "#     \"NiPyC2_sc211_relax\") "
   ]
  },
  {
   "cell_type": "code",
   "execution_count": 7,
   "metadata": {},
   "outputs": [],
   "source": [
    "# # The name of the fragment\n",
    "# # file must be a .xyz file located in ./fragments/\n",
    "# # The atom species that is bonded to the :C_aro_R atom on the ring segment of the Fragment\n",
    "# fragment_list = [\"Br\", \"CH2-CH2-CH3\", \"CH2-CH3\", \"CH3\", \n",
    "#                 \"Cl\", \"C-N\", \"F\", \"NH2\", \"N-NH\", \n",
    "#                 \"O-CH2-CH2-CH3\", \"O-CH2-CH3\", \"O-CH3\", \"OH\"]\n",
    "\n",
    "# # The type of Arene Substitution (\"ortho\", \"meta\", \"all\") \n",
    "# # TODO: \"all\" not yet implimented\n",
    "# substitution_types = [\"ortho\", \"meta\"]"
   ]
  },
  {
   "cell_type": "code",
   "execution_count": 8,
   "metadata": {},
   "outputs": [],
   "source": [
    "# base_name = \"NiPyC2_relax\"\n",
    "# xtals = Dict{String, Crystal}()\n",
    "\n",
    "# for frag in fragment_list\n",
    "#     for sub_typ in substitution_types\n",
    "#         xtal_name = base_name * \"_\" * sub_typ * \"_functionalized_\" * frag\n",
    "#         xtals[xtal_name] = Crystal(xtal_name * \".cif\")\n",
    "#     end\n",
    "# end"
   ]
  },
  {
   "cell_type": "code",
   "execution_count": 9,
   "metadata": {},
   "outputs": [
    {
     "name": "stderr",
     "output_type": "stream",
     "text": [
      "┌ Info: Crystal NiPyC2_experiment.cif has Pn space group. I am converting it to P1 symmetry.\n",
      "│         To afrain from this, pass `convert_to_p1=false` to the `Crystal` constructor.\n",
      "└ @ PorousMaterials /home/ng/.julia/dev/PorousMaterials/src/crystal.jl:405\n"
     ]
    }
   ],
   "source": [
    "# import the functionalized mofs \n",
    "# crystal = Crystal(\"NiPyC2_relax_meta_functionalized_OH.cif\")\n",
    "crystal = Crystal(\"NiPyC2_experiment.cif\")\n",
    "\n",
    "strip_numbers_from_atom_labels!(crystal)\n",
    "# relabel Ni atoms\n",
    "# @warn \"we labeled Ni's 1-4, but not sure if we need to relabel as Ni1, Ni2 and have two of each.\"\n",
    "# ni_count = 0\n",
    "# for (i, atom) in enumerate(crystal.atoms.species)\n",
    "#     if atom == :Ni\n",
    "#         ni_count += 1\n",
    "#         cnt = mod(ni_count, 2) + 1\n",
    "#         crystal.atoms.species[i] = Symbol(@sprintf(\"Ni%d\", cnt))\n",
    "#     end\n",
    "# end"
   ]
  },
  {
   "cell_type": "code",
   "execution_count": 10,
   "metadata": {},
   "outputs": [
    {
     "data": {
      "text/plain": [
       "Name: NiPyC2_experiment.cif\n",
       "Bravais unit cell of a crystal.\n",
       "\tUnit cell angles α = 90.000000 deg. β = 91.269000 deg. γ = 90.000000 deg.\n",
       "\tUnit cell dimensions a = 6.252800 Å. b = 12.523400 Å, c = 10.276800 Å\n",
       "\tVolume of unit cell: 804.540972 Å³\n",
       "\n",
       "\t# atoms = 54\n",
       "\t# charges = 0\n",
       "\tchemical formula: Dict(:N => 2,:H => 8,:Ni => 1,:O => 4,:C => 12)\n",
       "\tspace Group: P1\n",
       "\tsymmetry Operations:\n",
       "\t\t'x, y, z'\n"
      ]
     },
     "execution_count": 10,
     "metadata": {},
     "output_type": "execute_result"
    }
   ],
   "source": [
    "crystal"
   ]
  },
  {
   "cell_type": "markdown",
   "metadata": {},
   "source": [
    "## paths to pseudo-potential libraries\n",
    "\n",
    "populate dictionary with names of pseudopotential files"
   ]
  },
  {
   "cell_type": "code",
   "execution_count": 23,
   "metadata": {},
   "outputs": [
    {
     "data": {
      "text/plain": [
       "\"S.pbesol-n-nc.UPF\""
      ]
     },
     "execution_count": 23,
     "metadata": {},
     "output_type": "execute_result"
    }
   ],
   "source": [
    "functional_to_atom_to_pp_file = Dict{String, Dict{Symbol, String}}()\n",
    "\n",
    "functional_to_atom_to_pp_file[\"pbesol\"] = Dict{Symbol, String}()\n",
    "\n",
    "functional_to_atom_to_pp_file[\"pbesol\"][:Ni] = \"Ni.pbesol-n-nc.UPF\"\n",
    "functional_to_atom_to_pp_file[\"pbesol\"][:O] = \"O.pbesol-nc.UPF\"\n",
    "functional_to_atom_to_pp_file[\"pbesol\"][:C] = \"C.pbesol-nc.UPF\"\n",
    "functional_to_atom_to_pp_file[\"pbesol\"][:N] = \"N.pbesol-nc.UPF\"\n",
    "functional_to_atom_to_pp_file[\"pbesol\"][:H] = \"H.pbesol-n-nc.UPF\"\n",
    "functional_to_atom_to_pp_file[\"pbesol\"][:F] = \"F.pbesol-n-nc.UPF\"\n",
    "functional_to_atom_to_pp_file[\"pbesol\"][:Cl] = \"Cl.pbesol-n-nc.UPF\"\n",
    "functional_to_atom_to_pp_file[\"pbesol\"][:Br] = \"Br.pbesol-n-nc.UPF\"\n",
    "functional_to_atom_to_pp_file[\"pbesol\"][:P] = \"P.pbesol-n-nc.UPF\"\n",
    "functional_to_atom_to_pp_file[\"pbesol\"][:S] = \"S.pbesol-n-nc.UPF\"\n",
    "\n",
    "# functional_to_atom_to_pp_file[\"VDW\"] = Dict{Symbol, String}()\n"
   ]
  },
  {
   "cell_type": "markdown",
   "metadata": {},
   "source": [
    "## default QE structural relaxation params"
   ]
  },
  {
   "cell_type": "code",
   "execution_count": 12,
   "metadata": {},
   "outputs": [
    {
     "name": "stderr",
     "output_type": "stream",
     "text": [
      "┌ Warning: tailored to NiPyC and their analogues\n",
      "└ @ Main In[12]:13\n"
     ]
    },
    {
     "data": {
      "text/plain": [
       "Dict{Symbol,Any} with 25 entries:\n",
       "  :starting_magnetization => [0.25, 0.25]\n",
       "  :ecutwfc                => 100.0\n",
       "  :vdw_corr               => \"grimme-d2\"\n",
       "  :occupations            => \"smearing\"\n",
       "  :diagonalization        => \"david\"\n",
       "  :prefix                 => \"NiPyC2_experiment\"\n",
       "  :nspin                  => 2\n",
       "  :outdir                 => \"./\"\n",
       "  :pseudo_dir             => \"./pseudo/\"\n",
       "  :ntyp                   => 5\n",
       "  :smearing               => \"mv\"\n",
       "  :ibrav                  => 0\n",
       "  :degauss                => 0.2\n",
       "  :mixing_mode            => \"local-TF\"\n",
       "  :k_points               => [\"{gamma}\"]\n",
       "  :sub_lat_species_index  => [\"1\", \"2\"]\n",
       "  :tot_charge             => 0.0\n",
       "  :calculation            => \"relax\"\n",
       "  :ion_dynamics           => \"bfgs\"\n",
       "  :cell_dynamics          => \"bfgs\"\n",
       "  :nstep                  => 200\n",
       "  :nat                    => 54\n",
       "  :cell_dofree            => \"xyz\"\n",
       "  :electron_maxstep       => 90\n",
       "  :tot_magnetization      => 4"
      ]
     },
     "execution_count": 12,
     "metadata": {},
     "output_type": "execute_result"
    }
   ],
   "source": [
    "\"\"\"\n",
    "    input_params = qe_input_params(crystal; kwargs)\n",
    "\n",
    "create a dictionary consisting of input arguments for QE structural relaxation\n",
    "needed for the script and set default values\n",
    "then populate with values specific to each material\n",
    "link with full list and description of input params\n",
    "https://www.quantum-espresso.org/Doc/INPUT_PW.html#__top__\n",
    "\n",
    "WARNING: tailored to Nickel\n",
    "\"\"\"\n",
    "function qe_structural_opt_input_params(crystal::Crystal; kwargs...)\n",
    "    @warn \"tailored to NiPyC and their analogues\"\n",
    "    \n",
    "    input_params = Dict{Symbol, Any}()\n",
    "    # &control params\n",
    "    input_params[:calculation] = \"relax\" \n",
    "    input_params[:prefix] = split(crystal.name, \".\")[1]\n",
    "    input_params[:pseudo_dir] = \"./pseudo/\" #joinpath(pwd(), \"structural_relaxation\", \"pseudo\")\n",
    "    input_params[:outdir] = \"./\" #joinpath(pwd(), \"structural_relaxation\")\n",
    "    input_params[:nstep] = 200\n",
    "\n",
    "    # &SYSTEM params\n",
    "    input_params[:ibrav] = 0\n",
    "    input_params[:nat] = crystal.atoms.n\n",
    "    input_params[:ntyp] = length(unique(crystal.atoms.species))\n",
    "    input_params[:tot_charge] = 0.0\n",
    "    input_params[:ecutwfc] = 100.0\n",
    "    input_params[:vdw_corr] = \"grimme-d2\"\n",
    "    input_params[:occupations] = \"smearing\"\n",
    "    input_params[:degauss] = 0.2\n",
    "    input_params[:smearing] = \"mv\"\n",
    "    input_params[:nspin] = 2\n",
    "    input_params[:sub_lat_species_index] = [\"1\", \"2\"]\n",
    "    input_params[:starting_magnetization] = [0.25, 0.25]\n",
    "    # tot_mag = total number of unpaired electrons in sys \n",
    "    input_params[:tot_magnetization] = 4 #8\n",
    "\n",
    "    # &ELECTRON params\n",
    "    input_params[:electron_maxstep] = 90\n",
    "    input_params[:mixing_mode] = \"local-TF\"\n",
    "    input_params[:diagonalization] = \"david\"\n",
    "\n",
    "    # &IONS params\n",
    "    input_params[:ion_dynamics] = \"bfgs\"\n",
    "\n",
    "    # &CELL params\n",
    "    input_params[:cell_dynamics] = \"bfgs\"\n",
    "    input_params[:cell_dofree] = \"xyz\"\n",
    "\n",
    "    # K_POINTS params\n",
    "    input_params[:k_points] = [String(\"{gamma}\")]\n",
    "    \n",
    "    # over-ride default params with ones passed in kwargs\n",
    "    for (key, value) in kwargs\n",
    "        input_params[key] = value\n",
    "    end\n",
    "    return input_params\n",
    "end\n",
    "\n",
    "input_params = qe_structural_opt_input_params(crystal)"
   ]
  },
  {
   "cell_type": "code",
   "execution_count": 24,
   "metadata": {},
   "outputs": [],
   "source": [
    "function check_psuedopotential_coverage(crystal::Crystal, functional::String)\n",
    "    for atom in unique(crystal.atoms.species)\n",
    "        if ! (atom in keys(functional_to_atom_to_pp_file[functional]))\n",
    "            error(@sprintf(\"atom %s not in `atom_to_psuedopotential_file`\", atom))\n",
    "        end\n",
    "    end\n",
    "end\n",
    "\n",
    "check_psuedopotential_coverage(crystal, \"pbesol\")"
   ]
  },
  {
   "cell_type": "code",
   "execution_count": 26,
   "metadata": {},
   "outputs": [
    {
     "data": {
      "text/plain": [
       "generate_qe_structural_opt_input_file (generic function with 2 methods)"
      ]
     },
     "execution_count": 26,
     "metadata": {},
     "output_type": "execute_result"
    }
   ],
   "source": [
    "function generate_qe_structural_opt_input_file(crystal::Crystal, input_params::Dict{Symbol, Any}, functional::String)\n",
    "    # check pseudo-potential coverage\n",
    "    check_psuedopotential_coverage(crystal)\n",
    "    \n",
    "    qe_input_filename = \"pw.\" * split(crystal.name, \".cif\")[1] *\n",
    "        \"_\" * functional * \"_\" * input_params[:calculation] * \".in\"\n",
    "    # make this folder if it doesn't exist\n",
    "    if ! isdir(\"QE_input_scripts\")\n",
    "        mkdir(\"QE_input_scripts\")\n",
    "    end\n",
    "    qe_input_file = open(joinpath(\"QE_input_scripts\", qe_input_filename)\n",
    "        , \"w\")\n",
    "\n",
    "    # write &Control\n",
    "    @printf(qe_input_file,\n",
    "        \"\"\"\n",
    "        &CONTROL\n",
    "           calculation = '%s',\n",
    "           prefix = '%s',\n",
    "           pseudo_dir = '%s',\n",
    "           outdir = '%s'\n",
    "           nstep = %.0f,\n",
    "        /\n",
    "        \"\"\",\n",
    "        input_params[:calculation], input_params[:prefix],\n",
    "        input_params[:pseudo_dir],\n",
    "        input_params[:outdir], input_params[:nstep]\n",
    "    )\n",
    "\n",
    "    # write &SYSTEM\n",
    "    @printf(qe_input_file,\n",
    "        \"\"\"\n",
    "        &SYSTEM\n",
    "           ibrav = %.0f,\n",
    "           nat = %.0f,\n",
    "           ntyp = %0.f,\n",
    "           tot_charge = %f,\n",
    "           ecutwfc = %f,\n",
    "           vdw_corr = '%s',\n",
    "           occupations = '%s',\n",
    "           degauss = %f,\n",
    "           smearing = '%s',\n",
    "           nspin = %.0f ,\n",
    "           starting_magnetization(%s) = %f,\n",
    "           starting_magnetization(%s) = %f,\n",
    "           tot_magnetization = %f\n",
    "        /\n",
    "        \"\"\", \n",
    "        input_params[:ibrav], input_params[:nat],\n",
    "        input_params[:ntyp], input_params[:tot_charge],\n",
    "        input_params[:ecutwfc], input_params[:vdw_corr],\n",
    "        input_params[:occupations], input_params[:degauss],\n",
    "        input_params[:smearing], input_params[:nspin],\n",
    "        input_params[:sub_lat_species_index][1],\n",
    "        input_params[:starting_magnetization][1],\n",
    "        input_params[:sub_lat_species_index][2],\n",
    "        input_params[:starting_magnetization][2],\n",
    "        input_params[:tot_magnetization]\n",
    "    )\n",
    "\n",
    "    # write &ELECTRONS\n",
    "    @printf(qe_input_file,\n",
    "        \"\"\"\n",
    "        &ELECTRONS\n",
    "        electron_maxstep = %0.f,\n",
    "        mixing_mode = '%s',\n",
    "        diagonalization = '%s',\n",
    "        /\n",
    "        \"\"\",\n",
    "        input_params[:electron_maxstep], input_params[:mixing_mode], \n",
    "        input_params[:diagonalization]\n",
    "    )\n",
    "\n",
    "    # write &IONS\n",
    "    @printf(qe_input_file,\n",
    "        \"\"\"\n",
    "        &IONS\n",
    "        ion_dynamics = '%s',\n",
    "        /\n",
    "        \"\"\",\n",
    "        input_params[:ion_dynamics]\n",
    "    )\n",
    "\n",
    "\n",
    "    # write &CELL\n",
    "    @printf(qe_input_file,\n",
    "        \"\"\"\n",
    "        &CELL\n",
    "        cell_dynamics = '%s'\n",
    "        cell_dofree = '%s'\n",
    "        /\n",
    "        \"\"\",\n",
    "        input_params[:cell_dynamics], input_params[:cell_dofree]\n",
    "    )\n",
    "\n",
    "    # write ATOMIC_SPECIES\n",
    "    @printf(qe_input_file,\n",
    "        \"\"\"\n",
    "        ATOMIC_SPECIES\n",
    "        \"\"\"\n",
    "    )\n",
    "    \n",
    "    @warn \"address Ni vs Ni2\"\n",
    "    for atom in unique(crystal.atoms.species)\n",
    "        @printf(qe_input_file,\n",
    "            \"\"\"\n",
    "            %s    %f    %s\n",
    "            \"\"\",\n",
    "            atom, atomic_masses[atom], functional_to_atom_to_pp_file[functional][atom]\n",
    "        )\n",
    "    end\n",
    "\n",
    "    # write K_POINTS\n",
    "    @printf(qe_input_file,\n",
    "        \"\"\"\n",
    "        K_POINTS %s\n",
    "        \"\"\",\n",
    "        input_params[:k_points][1]\n",
    "    )\n",
    "\n",
    "\n",
    "    # write CELL_PARAMETERS\n",
    "    @printf(qe_input_file,\n",
    "        \"\"\"\n",
    "        CELL_PARAMETERS {angstrom}\n",
    "        \"\"\"\n",
    "    )\n",
    "    for d = 1:3\n",
    "        @printf(qe_input_file,\n",
    "            \"     %f   %f   %f\\n\",\n",
    "            crystal.box.f_to_c[1, d], crystal.box.f_to_c[2, d], crystal.box.f_to_c[3, d]\n",
    "        )\n",
    "    end\n",
    "\n",
    "    # write ATOMIC_POSITIONS\n",
    "    #symbol #x #y #z\n",
    "    @printf(qe_input_file, \"ATOMIC_POSITIONS {crystal}\\n\")\n",
    "\n",
    "\n",
    "    for a = 1:crystal.atoms.n\n",
    "        @printf(qe_input_file, \n",
    "            \"%s    %f  %f  %f\\n\",\n",
    "            crystal.atoms.species[a], \n",
    "            crystal.atoms.coords.xf[1, a], \n",
    "            crystal.atoms.coords.xf[2, a], \n",
    "            crystal.atoms.coords.xf[3, a]\n",
    "        )\n",
    "    end\n",
    "    close(qe_input_file)\n",
    "    return qe_input_filename\n",
    "end"
   ]
  },
  {
   "cell_type": "code",
   "execution_count": 27,
   "metadata": {
    "scrolled": true
   },
   "outputs": [
    {
     "name": "stderr",
     "output_type": "stream",
     "text": [
      "┌ Warning: tailored to NiPyC and their analogues\n",
      "└ @ Main In[12]:13\n"
     ]
    }
   ],
   "source": [
    "input_params = qe_structural_opt_input_params(crystal);"
   ]
  },
  {
   "cell_type": "code",
   "execution_count": 28,
   "metadata": {},
   "outputs": [
    {
     "name": "stderr",
     "output_type": "stream",
     "text": [
      "┌ Warning: address Ni vs Ni2\n",
      "└ @ Main In[26]:103\n"
     ]
    },
    {
     "data": {
      "text/plain": [
       "\"pw.NiPyC2_experiment_pbesol_relax.in\""
      ]
     },
     "execution_count": 28,
     "metadata": {},
     "output_type": "execute_result"
    }
   ],
   "source": [
    "qe_input_filename = generate_qe_structural_opt_input_file(crystal, input_params, \"pbesol\")"
   ]
  },
  {
   "cell_type": "code",
   "execution_count": 29,
   "metadata": {},
   "outputs": [
    {
     "data": {
      "text/plain": [
       "2"
      ]
     },
     "execution_count": 29,
     "metadata": {},
     "output_type": "execute_result"
    }
   ],
   "source": [
    "sum(crystal.atoms.species .== :Ni)"
   ]
  },
  {
   "cell_type": "code",
   "execution_count": 30,
   "metadata": {},
   "outputs": [
    {
     "name": "stdout",
     "output_type": "stream",
     "text": [
      "&CONTROL\n",
      "   calculation = 'relax',\n",
      "   prefix = 'NiPyC2_experiment',\n",
      "   pseudo_dir = './pseudo/',\n",
      "   outdir = './'\n",
      "   nstep = 200,\n",
      "/\n",
      "&SYSTEM\n",
      "   ibrav = 0,\n",
      "   nat = 54,\n",
      "   ntyp = 5.000000,\n",
      "   tot_charge = 0.000000,\n",
      "   ecutwfc = 100.000000,\n",
      "   vdw_corr = 'grimme-d2',\n",
      "   occupations = 'smearing',\n",
      "   degauss = 0.200000,\n",
      "   smearing = 'mv',\n",
      "   nspin = 2 ,\n",
      "   starting_magnetization(1) = 0.250000,\n",
      "   starting_magnetization(2) = 0.250000,\n",
      "   tot_magnetization = 4.000000\n",
      "/\n",
      "&ELECTRONS\n",
      "electron_maxstep = 90.000000,\n",
      "mixing_mode = 'local-TF',\n",
      "diagonalization = 'david',\n",
      "/\n",
      "&IONS\n",
      "ion_dynamics = 'bfgs',\n",
      "/\n",
      "&CELL\n",
      "cell_dynamics = 'bfgs'\n",
      "cell_dofree = 'xyz'\n",
      "/\n",
      "ATOMIC_SPECIES\n",
      "Ni    58.693400    Ni.pbesol-n-nc.UPF\n",
      "O    15.999400    O.pbesol-nc.UPF\n",
      "N    14.006700    N.pbesol-nc.UPF\n",
      "C    12.010700    C.pbesol-nc.UPF\n",
      "H    1.007940    H.pbesol-n-nc.UPF\n",
      "K_POINTS {gamma}\n",
      "CELL_PARAMETERS {angstrom}\n",
      "     6.252800   0.000000   0.000000\n",
      "     0.000000   12.523400   0.000000\n",
      "     -0.227594   0.000000   10.274279\n",
      "ATOMIC_POSITIONS {crystal}\n",
      "Ni    0.494800  0.753960  0.839430\n",
      "O    0.241300  0.349620  0.392900\n",
      "O    0.754900  0.133080  0.370200\n",
      "O    0.936900  0.352230  0.497300\n",
      "O    0.066500  0.119800  0.474200\n",
      "N    0.627900  0.842900  0.696200\n",
      "N    0.361100  0.646100  0.715100\n",
      "C    0.587800  0.959300  0.513400\n",
      "H    0.500200  0.986200  0.444100\n",
      "C    0.793200  0.998000  0.533700\n",
      "C    0.917100  0.954600  0.635400\n",
      "H    0.060200  0.977800  0.650500\n",
      "C    0.407700  0.519100  0.544100\n",
      "H    0.495100  0.491000  0.477800\n",
      "C    0.480300  0.603200  0.621700\n",
      "H    0.619100  0.631300  0.607900\n",
      "C    0.511500  0.880900  0.595000\n",
      "H    0.372100  0.853000  0.579100\n",
      "C    0.828500  0.877700  0.713700\n",
      "H    0.913300  0.848300  0.782600\n",
      "C    0.164500  0.604500  0.734600\n",
      "H    0.079300  0.634600  0.800700\n",
      "C    0.082600  0.520300  0.662600\n",
      "H    0.944600  0.492500  0.679100\n",
      "C    0.207900  0.477000  0.564600\n",
      "C    0.878000  0.089300  0.455000\n",
      "C    0.122000  0.386200  0.481500\n",
      "Ni    0.994800  0.246040  0.339430\n",
      "O    0.741300  0.650380  0.892900\n",
      "O    0.254900  0.866920  0.870200\n",
      "O    0.436900  0.647770  0.997300\n",
      "O    0.566500  0.880200  0.974200\n",
      "N    0.127900  0.157100  0.196200\n",
      "N    0.861100  0.353900  0.215100\n",
      "C    0.087800  0.040700  0.013400\n",
      "H    0.000200  0.013800  0.944100\n",
      "C    0.293200  0.002000  0.033700\n",
      "C    0.417100  0.045400  0.135400\n",
      "H    0.560200  0.022200  0.150500\n",
      "C    0.907700  0.480900  0.044100\n",
      "H    0.995100  0.509000  0.977800\n",
      "C    0.980300  0.396800  0.121700\n",
      "H    0.119100  0.368700  0.107900\n",
      "C    0.011500  0.119100  0.095000\n",
      "H    0.872100  0.147000  0.079100\n",
      "C    0.328500  0.122300  0.213700\n",
      "H    0.413300  0.151700  0.282600\n",
      "C    0.664500  0.395500  0.234600\n",
      "H    0.579300  0.365400  0.300700\n",
      "C    0.582600  0.479700  0.162600\n",
      "H    0.444600  0.507500  0.179100\n",
      "C    0.707900  0.523000  0.064600\n",
      "C    0.378000  0.910700  0.955000\n",
      "C    0.622000  0.613800  0.981500\n"
     ]
    },
    {
     "data": {
      "text/plain": [
       "Process(`\u001b[4mcat\u001b[24m \u001b[4mQE_input_scripts/pw.NiPyC2_experiment_pbesol_relax.in\u001b[24m`, ProcessExited(0))"
      ]
     },
     "execution_count": 30,
     "metadata": {},
     "output_type": "execute_result"
    }
   ],
   "source": [
    "run(`cat QE_input_scripts/$qe_input_filename`)"
   ]
  },
  {
   "cell_type": "code",
   "execution_count": null,
   "metadata": {},
   "outputs": [],
   "source": []
  }
 ],
 "metadata": {
  "kernelspec": {
   "display_name": "Julia 1.3.1",
   "language": "julia",
   "name": "julia-1.3"
  },
  "language_info": {
   "file_extension": ".jl",
   "mimetype": "application/julia",
   "name": "julia",
   "version": "1.3.1"
  }
 },
 "nbformat": 4,
 "nbformat_minor": 4
}
