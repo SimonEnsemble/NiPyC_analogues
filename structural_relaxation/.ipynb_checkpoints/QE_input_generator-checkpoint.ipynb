{
 "cells": [
  {
   "cell_type": "markdown",
   "metadata": {},
   "source": [
    "# QE input script generator\n",
    "This will automate the process of writing input scripts for Quantum Espresso to do the structural optimization of functionalized mofs using the pw.x (plane wave) package and pseudopotential files. \n",
    "\n",
    "**NOTE:** many default arguements will be preset."
   ]
  },
  {
   "cell_type": "code",
   "execution_count": 1,
   "metadata": {},
   "outputs": [],
   "source": [
    "cd(\"..\")"
   ]
  },
  {
   "cell_type": "code",
   "execution_count": 2,
   "metadata": {},
   "outputs": [
    {
     "name": "stderr",
     "output_type": "stream",
     "text": [
      "┌ Info: Precompiling PorousMaterials [68953c7c-a3c7-538e-83d3-73516288599e]\n",
      "└ @ Base loading.jl:1273\n",
      "WARNING: Method definition dot(Any, Any, Any) in module Compat at /home/ng/.julia/packages/Compat/BmftR/src/Compat.jl:111 overwritten in module Optim at /home/ng/.julia/packages/Optim/cJRng/src/multivariate/precon.jl:24.\n",
      "  ** incremental compilation may be fatally broken for this module **\n",
      "\n",
      "┌ Warning: Package PorousMaterials does not have PyCall in its dependencies:\n",
      "│ - If you have PorousMaterials checked out for development and have\n",
      "│   added PyCall as a dependency but haven't updated your primary\n",
      "│   environment's manifest file, try `Pkg.resolve()`.\n",
      "│ - Otherwise you may need to report an issue with PorousMaterials\n",
      "└ Loading PyCall into PorousMaterials from project dependency, future warnings for PorousMaterials are suppressed.\n"
     ]
    }
   ],
   "source": [
    "using PorousMaterials\n",
    "using Printf"
   ]
  },
  {
   "cell_type": "code",
   "execution_count": 3,
   "metadata": {},
   "outputs": [
    {
     "data": {
      "text/plain": [
       "\"/home/ng/DTRA/data\""
      ]
     },
     "execution_count": 3,
     "metadata": {},
     "output_type": "execute_result"
    }
   ],
   "source": [
    "PorousMaterials.PATH_TO_DATA"
   ]
  },
  {
   "cell_type": "markdown",
   "metadata": {},
   "source": [
    "**TODO:** \n",
    "* fix file paths to crystals and data\n",
    "* fix file output location\n",
    "* loop over all functionalized mofs"
   ]
  },
  {
   "cell_type": "code",
   "execution_count": 4,
   "metadata": {},
   "outputs": [],
   "source": [
    "atomic_masses = read_atomic_masses()\n",
    "for a in [:Ni1, :Ni2, :Ni3, :Ni4]\n",
    "    atomic_masses[a] = atomic_masses[:Ni]\n",
    "end"
   ]
  },
  {
   "cell_type": "code",
   "execution_count": 5,
   "metadata": {},
   "outputs": [],
   "source": [
    "# which_crystal = \"NiPyC2\"\n",
    "# replication_id = \"sc211_\" # super cell 2x1x1\n",
    "# qe_run_type = \"relax\"\n",
    "\n",
    "# # name of the directory containing functionalixed structures\n",
    "# mof_dir_name = which_crystal * \"_\" * replication_id * qe_run_type\n",
    "\n",
    "# @eval PorousMaterials PATH_TO_CRYSTALS = joinpath(pwd(), \"mof_construction\",\n",
    "#     \"NiPyC2_sc211_relax\") "
   ]
  },
  {
   "cell_type": "code",
   "execution_count": 6,
   "metadata": {},
   "outputs": [],
   "source": [
    "# # The name of the fragment\n",
    "# # file must be a .xyz file located in ./fragments/\n",
    "# # The atom species that is bonded to the :C_aro_R atom on the ring segment of the Fragment\n",
    "# fragment_list = [\"Br\", \"CH2-CH2-CH3\", \"CH2-CH3\", \"CH3\", \n",
    "#                 \"Cl\", \"C-N\", \"F\", \"NH2\", \"N-NH\", \n",
    "#                 \"O-CH2-CH2-CH3\", \"O-CH2-CH3\", \"O-CH3\", \"OH\"]\n",
    "\n",
    "# # The type of Arene Substitution (\"ortho\", \"meta\", \"all\") \n",
    "# # TODO: \"all\" not yet implimented\n",
    "# substitution_types = [\"ortho\", \"meta\"]"
   ]
  },
  {
   "cell_type": "code",
   "execution_count": 7,
   "metadata": {},
   "outputs": [],
   "source": [
    "# base_name = \"NiPyC2_relax\"\n",
    "# xtals = Dict{String, Crystal}()\n",
    "\n",
    "# for frag in fragment_list\n",
    "#     for sub_typ in substitution_types\n",
    "#         xtal_name = base_name * \"_\" * sub_typ * \"_functionalized_\" * frag\n",
    "#         xtals[xtal_name] = Crystal(xtal_name * \".cif\")\n",
    "#     end\n",
    "# end"
   ]
  },
  {
   "cell_type": "code",
   "execution_count": 8,
   "metadata": {},
   "outputs": [
    {
     "name": "stderr",
     "output_type": "stream",
     "text": [
      "┌ Info: Crystal NiPyC2_experiment.cif has Pn space group. I am converting it to P1 symmetry.\n",
      "│         To afrain from this, pass `convert_to_p1=false` to the `Crystal` constructor.\n",
      "└ @ PorousMaterials /home/ng/.julia/dev/PorousMaterials/src/crystal.jl:405\n",
      "┌ Warning: we labeled Ni's 1-4, but not sure if we need to relabel as Ni1, Ni2 and have two of each.\n",
      "└ @ Main In[8]:7\n"
     ]
    }
   ],
   "source": [
    "# import the functionalized mofs \n",
    "# crystal = Crystal(\"NiPyC2_relax_meta_functionalized_OH.cif\")\n",
    "crystal = Crystal(\"NiPyC2_experiment.cif\")\n",
    "\n",
    "strip_numbers_from_atom_labels!(crystal)\n",
    "# relabel Ni atoms\n",
    "@warn \"we labeled Ni's 1-4, but not sure if we need to relabel as Ni1, Ni2 and have two of each.\"\n",
    "ni_count = 0\n",
    "for (i, atom) in enumerate(crystal.atoms.species)\n",
    "    if atom == :Ni\n",
    "        ni_count += 1\n",
    "        cnt = mod(ni_count, 2) + 1\n",
    "        crystal.atoms.species[i] = Symbol(@sprintf(\"Ni%d\", cnt))\n",
    "    end\n",
    "end"
   ]
  },
  {
   "cell_type": "code",
   "execution_count": 9,
   "metadata": {},
   "outputs": [
    {
     "data": {
      "text/plain": [
       "Name: NiPyC2_experiment.cif\n",
       "Bravais unit cell of a crystal.\n",
       "\tUnit cell angles α = 90.000000 deg. β = 91.269000 deg. γ = 90.000000 deg.\n",
       "\tUnit cell dimensions a = 6.252800 Å. b = 12.523400 Å, c = 10.276800 Å\n",
       "\tVolume of unit cell: 804.540972 Å³\n",
       "\n",
       "\t# atoms = 54\n",
       "\t# charges = 0\n",
       "\tchemical formula: Dict(:N => 4,:Ni1 => 1,:H => 16,:Ni2 => 1,:O => 8,:C => 24)\n",
       "\tspace Group: P1\n",
       "\tsymmetry Operations:\n",
       "\t\t'x, y, z'\n"
      ]
     },
     "execution_count": 9,
     "metadata": {},
     "output_type": "execute_result"
    }
   ],
   "source": [
    "crystal"
   ]
  },
  {
   "cell_type": "markdown",
   "metadata": {},
   "source": [
    "## paths to pseudo-potential libraries"
   ]
  },
  {
   "cell_type": "code",
   "execution_count": 10,
   "metadata": {},
   "outputs": [
    {
     "data": {
      "text/plain": [
       "\"S.pbesol-n-nc.UPF\""
      ]
     },
     "execution_count": 10,
     "metadata": {},
     "output_type": "execute_result"
    }
   ],
   "source": [
    "# populate dictionary with names of pseudopotential files\n",
    "atom_to_psuedopotential_file = Dict{Symbol, String}()\n",
    "for atom in [:Ni1, :Ni2, :Ni3, :Ni4]\n",
    "    atom_to_psuedopotential_file[atom] = \"Ni.pbesol-n-nc.UPF\"\n",
    "end\n",
    "atom_to_psuedopotential_file[:O] = \"O.pbesol-nc.UPF\"\n",
    "atom_to_psuedopotential_file[:C] = \"C.pbesol-nc.UPF\"\n",
    "atom_to_psuedopotential_file[:N] = \"N.pbesol-nc.UPF\"\n",
    "atom_to_psuedopotential_file[:H] = \"H.pbesol-n-nc.UPF\"\n",
    "atom_to_psuedopotential_file[:F] = \"F.pbesol-n-nc.UPF\"\n",
    "atom_to_psuedopotential_file[:Cl] = \"Cl.pbesol-n-nc.UPF\"\n",
    "atom_to_psuedopotential_file[:Br] = \"Br.pbesol-n-nc.UPF\"\n",
    "atom_to_psuedopotential_file[:P] = \"P.pbesol-n-nc.UPF\"\n",
    "atom_to_psuedopotential_file[:S] = \"S.pbesol-n-nc.UPF\""
   ]
  },
  {
   "cell_type": "markdown",
   "metadata": {},
   "source": [
    "## default QE structural relaxation params"
   ]
  },
  {
   "cell_type": "code",
   "execution_count": 11,
   "metadata": {},
   "outputs": [
    {
     "name": "stderr",
     "output_type": "stream",
     "text": [
      "┌ Warning: tailored to NiPyC and their analogues\n",
      "└ @ Main In[11]:13\n"
     ]
    },
    {
     "data": {
      "text/plain": [
       "Dict{Symbol,Any} with 25 entries:\n",
       "  :starting_magnetization => [0.25, 0.25]\n",
       "  :ecutwfc                => 100.0\n",
       "  :vdw_corr               => \"grimme-d2\"\n",
       "  :occupations            => \"smearing\"\n",
       "  :diagonalization        => \"david\"\n",
       "  :prefix                 => \"NiPyC2_experiment\"\n",
       "  :nspin                  => 2\n",
       "  :outdir                 => \"./\"\n",
       "  :pseudo_dir             => \"./pseudo/\"\n",
       "  :ntyp                   => 6\n",
       "  :smearing               => \"mv\"\n",
       "  :ibrav                  => 0\n",
       "  :degauss                => 0.2\n",
       "  :mixing_mode            => \"local-TF\"\n",
       "  :k_points               => [\"{gamma}\"]\n",
       "  :sub_lat_species_index  => [\"1\", \"2\"]\n",
       "  :tot_charge             => 0.0\n",
       "  :calculation            => \"relax\"\n",
       "  :ion_dynamics           => \"bfgs\"\n",
       "  :cell_dynamics          => \"bfgs\"\n",
       "  :nstep                  => 200\n",
       "  :nat                    => 54\n",
       "  :cell_dofree            => \"xyz\"\n",
       "  :electron_maxstep       => 90\n",
       "  :tot_magnetization      => 4"
      ]
     },
     "execution_count": 11,
     "metadata": {},
     "output_type": "execute_result"
    }
   ],
   "source": [
    "\"\"\"\n",
    "    input_params = qe_input_params(crystal; kwargs)\n",
    "\n",
    "create a dictionary consisting of input arguments for QE structural relaxation\n",
    "needed for the script and set default values\n",
    "then populate with values specific to each material\n",
    "link with full list and description of input params\n",
    "https://www.quantum-espresso.org/Doc/INPUT_PW.html#__top__\n",
    "\n",
    "WARNING: tailored to Nickel\n",
    "\"\"\"\n",
    "function qe_structural_opt_input_params(crystal::Crystal; kwargs...)\n",
    "    @warn \"tailored to NiPyC and their analogues\"\n",
    "    \n",
    "    input_params = Dict{Symbol, Any}()\n",
    "    # &control params\n",
    "    input_params[:calculation] = \"relax\" \n",
    "    input_params[:prefix] = split(crystal.name, \".\")[1]\n",
    "    input_params[:pseudo_dir] = \"./pseudo/\" #joinpath(pwd(), \"structural_relaxation\", \"pseudo\")\n",
    "    input_params[:outdir] = \"./\" #joinpath(pwd(), \"structural_relaxation\")\n",
    "    input_params[:nstep] = 200\n",
    "\n",
    "    # &SYSTEM params\n",
    "    input_params[:ibrav] = 0\n",
    "    input_params[:nat] = crystal.atoms.n\n",
    "    input_params[:ntyp] = length(unique(crystal.atoms.species))\n",
    "    input_params[:tot_charge] = 0.0\n",
    "    input_params[:ecutwfc] = 100.0\n",
    "    input_params[:vdw_corr] = \"grimme-d2\"\n",
    "    input_params[:occupations] = \"smearing\"\n",
    "    input_params[:degauss] = 0.2\n",
    "    input_params[:smearing] = \"mv\"\n",
    "    input_params[:nspin] = 2\n",
    "    input_params[:sub_lat_species_index] = [\"1\", \"2\"]\n",
    "    input_params[:starting_magnetization] = [0.25, 0.25]\n",
    "    # tot_mag = total number of unpaired electrons in sys \n",
    "    input_params[:tot_magnetization] = 4 #8\n",
    "\n",
    "    # &ELECTRON params\n",
    "    input_params[:electron_maxstep] = 90\n",
    "    input_params[:mixing_mode] = \"local-TF\"\n",
    "    input_params[:diagonalization] = \"david\"\n",
    "\n",
    "    # &IONS params\n",
    "    input_params[:ion_dynamics] = \"bfgs\"\n",
    "\n",
    "    # &CELL params\n",
    "    input_params[:cell_dynamics] = \"bfgs\"\n",
    "    input_params[:cell_dofree] = \"xyz\"\n",
    "\n",
    "    # K_POINTS params\n",
    "    input_params[:k_points] = [String(\"{gamma}\")]\n",
    "    \n",
    "    # over-ride default params with ones passed in kwargs\n",
    "    for (key, value) in kwargs\n",
    "        input_params[key] = value\n",
    "    end\n",
    "    return input_params\n",
    "end\n",
    "\n",
    "input_params = qe_structural_opt_input_params(crystal)"
   ]
  },
  {
   "cell_type": "code",
   "execution_count": 12,
   "metadata": {},
   "outputs": [],
   "source": [
    "function check_psuedopotential_coverage(crystal::Crystal)\n",
    "    for atom in unique(crystal.atoms.species)\n",
    "        if ! (atom in keys(atom_to_psuedopotential_file))\n",
    "            error(@sprintf(\"atom %s not in `atom_to_psuedopotential_file`\", atom))\n",
    "        end\n",
    "    end\n",
    "end\n",
    "\n",
    "check_psuedopotential_coverage(crystal)"
   ]
  },
  {
   "cell_type": "code",
   "execution_count": 13,
   "metadata": {},
   "outputs": [
    {
     "data": {
      "text/plain": [
       "generate_qe_structural_opt_input_file (generic function with 1 method)"
      ]
     },
     "execution_count": 13,
     "metadata": {},
     "output_type": "execute_result"
    }
   ],
   "source": [
    "function generate_qe_structural_opt_input_file(crystal::Crystal, input_params::Dict{Symbol, Any})\n",
    "    # check pseudo-potential coverage\n",
    "    check_psuedopotential_coverage(crystal)\n",
    "    \n",
    "    qe_input_filename = \"pw.\" * split(crystal.name, \".cif\")[1] * \".in\"\n",
    "    # make this file if it doesn't exist\n",
    "    if ! isfile(joinpath(\"structural_relaxation\", \"QE_input_scripts\", qe_input_filename))\n",
    "        touch(joinpath(\"structural_relaxation\", \"QE_input_scripts\", qe_input_filename))\n",
    "    end\n",
    "    qe_input_file = open(joinpath(\"structural_relaxation\", \"QE_input_scripts\", qe_input_filename)\n",
    "        , \"w\")\n",
    "\n",
    "    # write &Control\n",
    "    @printf(qe_input_file,\n",
    "        \"\"\"\n",
    "        &CONTROL\n",
    "           calculation = '%s',\n",
    "           prefix = '%s',\n",
    "           pseudo_dir = '%s',\n",
    "           outdir = '%s'\n",
    "           nstep = %.0f,\n",
    "        /\n",
    "        \"\"\",\n",
    "        input_params[:calculation], input_params[:prefix],\n",
    "        input_params[:pseudo_dir],\n",
    "        input_params[:outdir], input_params[:nstep]\n",
    "    )\n",
    "\n",
    "    # write &SYSTEM\n",
    "    @printf(qe_input_file,\n",
    "        \"\"\"\n",
    "        &SYSTEM\n",
    "           ibrav = %.0f,\n",
    "           nat = %.0f,\n",
    "           ntyp = %0.f,\n",
    "           tot_charge = %f,\n",
    "           ecutwfc = %f,\n",
    "           vdw_corr = '%s',\n",
    "           occupations = '%s',\n",
    "           degauss = %f,\n",
    "           smearing = '%s',\n",
    "           nspin = %.0f ,\n",
    "           starting_magnetization(%s) = %f,\n",
    "           starting_magnetization(%s) = %f,\n",
    "           tot_magnetization = %f\n",
    "        /\n",
    "        \"\"\", \n",
    "        input_params[:ibrav], input_params[:nat],\n",
    "        input_params[:ntyp], input_params[:tot_charge],\n",
    "        input_params[:ecutwfc], input_params[:vdw_corr],\n",
    "        input_params[:occupations], input_params[:degauss],\n",
    "        input_params[:smearing], input_params[:nspin],\n",
    "        input_params[:sub_lat_species_index][1],\n",
    "        input_params[:starting_magnetization][1],\n",
    "        input_params[:sub_lat_species_index][2],\n",
    "        input_params[:starting_magnetization][2],\n",
    "        input_params[:tot_magnetization]\n",
    "    )\n",
    "\n",
    "    # write &ELECTRONS\n",
    "    @printf(qe_input_file,\n",
    "        \"\"\"\n",
    "        &ELECTRONS\n",
    "        electron_maxstep = %0.f,\n",
    "        mixing_mode = '%s',\n",
    "        diagonalization = '%s',\n",
    "        /\n",
    "        \"\"\",\n",
    "        input_params[:electron_maxstep], input_params[:mixing_mode], \n",
    "        input_params[:diagonalization]\n",
    "    )\n",
    "\n",
    "    # write &IONS\n",
    "    @printf(qe_input_file,\n",
    "        \"\"\"\n",
    "        &IONS\n",
    "        ion_dynamics = '%s',\n",
    "        /\n",
    "        \"\"\",\n",
    "        input_params[:ion_dynamics]\n",
    "    )\n",
    "\n",
    "\n",
    "    # write &CELL\n",
    "    @printf(qe_input_file,\n",
    "        \"\"\"\n",
    "        &CELL\n",
    "        cell_dynamics = '%s'\n",
    "        cell_dofree = '%s'\n",
    "        /\n",
    "        \"\"\",\n",
    "        input_params[:cell_dynamics], input_params[:cell_dofree]\n",
    "    )\n",
    "\n",
    "    # write ATOMIC_SPECIES\n",
    "    @printf(qe_input_file,\n",
    "        \"\"\"\n",
    "        ATOMIC_SPECIES\n",
    "        \"\"\"\n",
    "    )\n",
    "    \n",
    "    @warn \"address Ni vs Ni2\"\n",
    "    for atom in unique(crystal.atoms.species)\n",
    "        @printf(qe_input_file,\n",
    "            \"\"\"\n",
    "            %s    %f    %s\n",
    "            \"\"\",\n",
    "            atom, atomic_masses[atom], atom_to_psuedopotential_file[atom]\n",
    "        )\n",
    "    end\n",
    "\n",
    "    # write K_POINTS\n",
    "    @printf(qe_input_file,\n",
    "        \"\"\"\n",
    "        K_POINTS %s\n",
    "        \"\"\",\n",
    "        input_params[:k_points][1]\n",
    "    )\n",
    "\n",
    "\n",
    "    # write CELL_PARAMETERS\n",
    "    @printf(qe_input_file,\n",
    "        \"\"\"\n",
    "        CELL_PARAMETERS {angstrom}\n",
    "        \"\"\"\n",
    "    )\n",
    "    for d = 1:3\n",
    "        @printf(qe_input_file,\n",
    "            \"     %f   %f   %f\\n\",\n",
    "            crystal.box.f_to_c[1, d], crystal.box.f_to_c[2, d], crystal.box.f_to_c[3, d]\n",
    "        )\n",
    "    end\n",
    "\n",
    "    # write ATOMIC_POSITIONS\n",
    "    #symbol #x #y #z\n",
    "    @printf(qe_input_file, \"ATOMIC_POSITIONS {crystal}\\n\")\n",
    "\n",
    "\n",
    "    for a = 1:crystal.atoms.n\n",
    "        @printf(qe_input_file, \n",
    "            \"%s    %f  %f  %f\\n\",\n",
    "            crystal.atoms.species[a], \n",
    "            crystal.atoms.coords.xf[1, a], \n",
    "            crystal.atoms.coords.xf[2, a], \n",
    "            crystal.atoms.coords.xf[3, a]\n",
    "        )\n",
    "    end\n",
    "    close(qe_input_file)\n",
    "    return qe_input_filename\n",
    "end"
   ]
  },
  {
   "cell_type": "code",
   "execution_count": 14,
   "metadata": {},
   "outputs": [
    {
     "name": "stderr",
     "output_type": "stream",
     "text": [
      "┌ Warning: tailored to NiPyC and their analogues\n",
      "└ @ Main In[11]:13\n"
     ]
    }
   ],
   "source": [
    "input_params = qe_structural_opt_input_params(crystal);"
   ]
  },
  {
   "cell_type": "code",
   "execution_count": 15,
   "metadata": {},
   "outputs": [
    {
     "name": "stderr",
     "output_type": "stream",
     "text": [
      "┌ Warning: address Ni vs Ni2\n",
      "└ @ Main In[13]:102\n"
     ]
    },
    {
     "data": {
      "text/plain": [
       "\"pw.NiPyC2_experiment.in\""
      ]
     },
     "execution_count": 15,
     "metadata": {},
     "output_type": "execute_result"
    }
   ],
   "source": [
    "qe_input_filename = generate_qe_structural_opt_input_file(crystal, input_params)"
   ]
  },
  {
   "cell_type": "code",
   "execution_count": 16,
   "metadata": {},
   "outputs": [
    {
     "data": {
      "text/plain": [
       "0"
      ]
     },
     "execution_count": 16,
     "metadata": {},
     "output_type": "execute_result"
    }
   ],
   "source": [
    "sum(crystal.atoms.species .== :Ni)"
   ]
  },
  {
   "cell_type": "code",
   "execution_count": 17,
   "metadata": {},
   "outputs": [
    {
     "name": "stderr",
     "output_type": "stream",
     "text": [
      "cat: pw.NiPyC2_experiment.in: No such file or directory\n"
     ]
    },
    {
     "ename": "ProcessFailedException",
     "evalue": "failed process: Process(`cat pw.NiPyC2_experiment.in`, ProcessExited(1)) [1]\n",
     "output_type": "error",
     "traceback": [
      "failed process: Process(`cat pw.NiPyC2_experiment.in`, ProcessExited(1)) [1]\n",
      "",
      "Stacktrace:",
      " [1] pipeline_error at ./process.jl:525 [inlined]",
      " [2] #run#565(::Bool, ::typeof(run), ::Cmd) at ./process.jl:440",
      " [3] run(::Cmd) at ./process.jl:438",
      " [4] top-level scope at In[17]:1"
     ]
    }
   ],
   "source": [
    "run(`cat $qe_input_filename`)"
   ]
  }
 ],
 "metadata": {
  "kernelspec": {
   "display_name": "Julia 1.3.1",
   "language": "julia",
   "name": "julia-1.3"
  },
  "language_info": {
   "file_extension": ".jl",
   "mimetype": "application/julia",
   "name": "julia",
   "version": "1.3.1"
  }
 },
 "nbformat": 4,
 "nbformat_minor": 4
}
