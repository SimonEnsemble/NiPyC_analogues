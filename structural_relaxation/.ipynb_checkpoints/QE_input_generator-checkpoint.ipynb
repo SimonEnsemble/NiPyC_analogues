{
 "cells": [
  {
   "cell_type": "markdown",
   "metadata": {},
   "source": [
    "# QE input script generator\n",
    "This will automate the process of writing input scripts for Quantum Espresso to do the structural optimization of functionalized mofs using the pw.x (plane wave) package and pseudopotential files. \n",
    "\n",
    "**NOTE:** many default arguements will be preset."
   ]
  },
  {
   "cell_type": "code",
   "execution_count": 1,
   "metadata": {},
   "outputs": [],
   "source": [
    "cd(\"..\")"
   ]
  },
  {
   "cell_type": "code",
   "execution_count": 2,
   "metadata": {},
   "outputs": [
    {
     "name": "stderr",
     "output_type": "stream",
     "text": [
      "┌ Info: Precompiling PorousMaterials [68953c7c-a3c7-538e-83d3-73516288599e]\n",
      "└ @ Base loading.jl:1273\n",
      "WARNING: Method definition dot(Any, Any, Any) in module Compat at /home/ng/.julia/packages/Compat/ElSO3/src/Compat.jl:116 overwritten in module Optim at /home/ng/.julia/packages/Optim/cJRng/src/multivariate/precon.jl:24.\n",
      "  ** incremental compilation may be fatally broken for this module **\n",
      "\n",
      "┌ Warning: Package PorousMaterials does not have PyCall in its dependencies:\n",
      "│ - If you have PorousMaterials checked out for development and have\n",
      "│   added PyCall as a dependency but haven't updated your primary\n",
      "│   environment's manifest file, try `Pkg.resolve()`.\n",
      "│ - Otherwise you may need to report an issue with PorousMaterials\n",
      "└ Loading PyCall into PorousMaterials from project dependency, future warnings for PorousMaterials are suppressed.\n"
     ]
    }
   ],
   "source": [
    "using PorousMaterials\n",
    "using Printf"
   ]
  },
  {
   "cell_type": "code",
   "execution_count": 3,
   "metadata": {},
   "outputs": [],
   "source": [
    "cd(\"structural_relaxation\")"
   ]
  },
  {
   "cell_type": "markdown",
   "metadata": {},
   "source": [
    "**TODO:**\n",
    "* fix file output location\n",
    "* loop over all functionalized mofs"
   ]
  },
  {
   "cell_type": "code",
   "execution_count": 4,
   "metadata": {},
   "outputs": [],
   "source": [
    "atomic_masses = read_atomic_masses();"
   ]
  },
  {
   "cell_type": "code",
   "execution_count": 5,
   "metadata": {},
   "outputs": [],
   "source": [
    "# relabel Ni atoms\n",
    "# @warn \"we labeled Ni's 1-4, but not sure if we need to relabel as Ni1, Ni2 and have two of each.\"\n",
    "# ni_count = 0\n",
    "# for (i, atom) in enumerate(crystal.atoms.species)\n",
    "#     if atom == :Ni\n",
    "#         ni_count += 1\n",
    "#         cnt = mod(ni_count, 2) + 1\n",
    "#         crystal.atoms.species[i] = Symbol(@sprintf(\"Ni%d\", cnt))\n",
    "#     end\n",
    "# end"
   ]
  },
  {
   "cell_type": "markdown",
   "metadata": {},
   "source": [
    "## paths to pseudo-potential libraries\n",
    "\n",
    "populate dictionary with names of pseudopotential files"
   ]
  },
  {
   "cell_type": "code",
   "execution_count": 6,
   "metadata": {},
   "outputs": [
    {
     "data": {
      "text/plain": [
       "\"S.pbesol-n-nc.UPF\""
      ]
     },
     "execution_count": 6,
     "metadata": {},
     "output_type": "execute_result"
    }
   ],
   "source": [
    "functional_to_atom_to_pp_file = Dict{String, Dict{Symbol, String}}()\n",
    "\n",
    "# dictionary for pbesol exchange correlation: pbesol\n",
    "functional_to_atom_to_pp_file[\"pbesol\"] = Dict{Symbol, String}()\n",
    " \n",
    "functional_to_atom_to_pp_file[\"pbesol\"][:Ni] = \"Ni.pbesol-n-nc.UPF\"\n",
    "functional_to_atom_to_pp_file[\"pbesol\"][:O]  = \"O.pbesol-nc.UPF\"\n",
    "functional_to_atom_to_pp_file[\"pbesol\"][:C]  = \"C.pbesol-nc.UPF\"\n",
    "functional_to_atom_to_pp_file[\"pbesol\"][:N]  = \"N.pbesol-nc.UPF\"\n",
    "functional_to_atom_to_pp_file[\"pbesol\"][:H]  = \"H.pbesol-n-nc.UPF\"\n",
    "functional_to_atom_to_pp_file[\"pbesol\"][:F]  = \"F.pbesol-n-nc.UPF\"\n",
    "functional_to_atom_to_pp_file[\"pbesol\"][:Cl] = \"Cl.pbesol-n-nc.UPF\"\n",
    "functional_to_atom_to_pp_file[\"pbesol\"][:Br] = \"Br.pbesol-n-nc.UPF\"\n",
    "functional_to_atom_to_pp_file[\"pbesol\"][:P]  = \"P.pbesol-n-nc.UPF\"\n",
    "functional_to_atom_to_pp_file[\"pbesol\"][:S]  = \"S.pbesol-n-nc.UPF\"\n",
    "\n",
    "# dictionary for VDW exchange correlation: vdw-df or vdw-df2?\n",
    "functional_to_atom_to_pp_file[\"vdw-df2\"] = Dict{Symbol, String}()\n",
    "\n",
    "functional_to_atom_to_pp_file[\"vdw-df2\"][:Ni] = \"Ni.pbesol-n-nc.UPF\"\n",
    "functional_to_atom_to_pp_file[\"vdw-df2\"][:O]  = \"O.pbesol-nc.UPF\"\n",
    "functional_to_atom_to_pp_file[\"vdw-df2\"][:C]  = \"C.pbesol-nc.UPF\"\n",
    "functional_to_atom_to_pp_file[\"vdw-df2\"][:N]  = \"N.pbesol-nc.UPF\"\n",
    "functional_to_atom_to_pp_file[\"vdw-df2\"][:H]  = \"H.pbesol-n-nc.UPF\"\n",
    "functional_to_atom_to_pp_file[\"vdw-df2\"][:F]  = \"F.pbesol-n-nc.UPF\"\n",
    "functional_to_atom_to_pp_file[\"vdw-df2\"][:Cl] = \"Cl.pbesol-n-nc.UPF\"\n",
    "functional_to_atom_to_pp_file[\"vdw-df2\"][:Br] = \"Br.pbesol-n-nc.UPF\"\n",
    "functional_to_atom_to_pp_file[\"vdw-df2\"][:P]  = \"P.pbesol-n-nc.UPF\"\n",
    "functional_to_atom_to_pp_file[\"vdw-df2\"][:S]  = \"S.pbesol-n-nc.UPF\""
   ]
  },
  {
   "cell_type": "markdown",
   "metadata": {},
   "source": [
    "## default QE structural relaxation params"
   ]
  },
  {
   "cell_type": "code",
   "execution_count": 7,
   "metadata": {},
   "outputs": [
    {
     "data": {
      "text/plain": [
       "qe_structural_opt_input_params"
      ]
     },
     "execution_count": 7,
     "metadata": {},
     "output_type": "execute_result"
    }
   ],
   "source": [
    "\"\"\"\n",
    "    input_params = qe_input_params(crystal; kwargs)\n",
    "\n",
    "create a dictionary consisting of input arguments for QE structural relaxation\n",
    "needed for the script and set default values\n",
    "then populate with values specific to each material\n",
    "link with full list and description of input params\n",
    "https://www.quantum-espresso.org/Doc/INPUT_PW.html#__top__\n",
    "\n",
    "WARNING: tailored to Nickel\n",
    "\"\"\"\n",
    "function qe_structural_opt_input_params(crystal::Crystal; kwargs...)\n",
    "    @warn \"tailored to NiPyC2 and their analogues\"\n",
    "    @assert :Ni in crystal.atoms.species\n",
    "    \n",
    "    input_params = Dict{Symbol, Any}()\n",
    "    \n",
    "    \n",
    "    \n",
    "    # &control params\n",
    "    input_params[:calculation] = \"relax\" # vc-relax\n",
    "    input_params[:functional] = \"pbesol\" # vdw-df2\n",
    "    \n",
    "    input_params[:prefix] = split(crystal.name, \".\")[1] * \"_\" *\n",
    "    input_params[:functional] * \"_\" * input_params[:calculation]\n",
    "    \n",
    "    input_params[:pseudo_dir] = \"./pseudo/\" \n",
    "    input_params[:outdir] = joinpath(\"./QE_relaxation_results/\",\n",
    "        input_params[:functional] * \"_\" * input_params[:calculation])\n",
    "    \n",
    "    input_params[:nstep] = 200\n",
    "\n",
    "    # &SYSTEM params\n",
    "    input_params[:ibrav] = 0\n",
    "    input_params[:nat] = crystal.atoms.n\n",
    "    input_params[:ntyp] = length(unique(crystal.atoms.species))\n",
    "    input_params[:tot_charge] = 0.0\n",
    "    input_params[:ecutwfc] = 100.0\n",
    "        # input_dft default: read from pseudo file\n",
    "    input_params[:input_dft] = \"! input_dft = 'vdw-df2'\" \n",
    "    input_params[:vdw_corr] = \"grimme-d2\"\n",
    "    input_params[:occupations] = \"smearing\"\n",
    "    input_params[:degauss] = 0.2\n",
    "    input_params[:smearing] = \"mv\"\n",
    "    input_params[:nspin] = 2\n",
    "    input_params[:sub_lat_species_index] = findall(sort(unique(crystal.atoms.species)) .== :Ni)[1]\n",
    "    input_params[:starting_magnetization] = 0.25\n",
    "    # tot_mag = total number of unpaired electrons in sys \n",
    "    input_params[:tot_magnetization] = \n",
    "        sum(crystal.atoms.species .== :Ni) * 2\n",
    "\n",
    "    # &ELECTRON params\n",
    "    input_params[:electron_maxstep] = 90\n",
    "    input_params[:mixing_mode] = \"local-TF\"\n",
    "    input_params[:diagonalization] = \"david\"\n",
    "\n",
    "    # &IONS params\n",
    "    input_params[:ion_dynamics] = \"bfgs\"\n",
    "\n",
    "    # &CELL params\n",
    "    input_params[:cell_dynamics] = \"bfgs\"\n",
    "    input_params[:cell_dofree] = \"xyz\"\n",
    "\n",
    "    # K_POINTS params\n",
    "    input_params[:k_points] = [String(\"{gamma}\")]\n",
    "    \n",
    "    # over-ride default params with ones passed in kwargs\n",
    "    for (key, value) in kwargs\n",
    "        input_params[key] = value\n",
    "    end\n",
    "    return input_params\n",
    "end\n",
    "# input_params = qe_structural_opt_input_params(crystal)"
   ]
  },
  {
   "cell_type": "code",
   "execution_count": 22,
   "metadata": {},
   "outputs": [
    {
     "data": {
      "text/plain": [
       "4"
      ]
     },
     "execution_count": 22,
     "metadata": {},
     "output_type": "execute_result"
    }
   ],
   "source": [
    "findall(sort(unique(crystal.atoms.species)) .== :Ni)[1]"
   ]
  },
  {
   "cell_type": "code",
   "execution_count": 8,
   "metadata": {},
   "outputs": [
    {
     "data": {
      "text/plain": [
       "check_psuedopotential_coverage (generic function with 1 method)"
      ]
     },
     "execution_count": 8,
     "metadata": {},
     "output_type": "execute_result"
    }
   ],
   "source": [
    "function check_psuedopotential_coverage(crystal::Crystal, functional::String)\n",
    "    for atom in unique(crystal.atoms.species)\n",
    "        if ! (atom in keys(functional_to_atom_to_pp_file[functional]))\n",
    "            error(@sprintf(\"atom %s not in `atom_to_psuedopotential_file`\", atom))\n",
    "        end\n",
    "    end\n",
    "end\n",
    "\n",
    "# check_psuedopotential_coverage(crystal, \"pbesol\") # vdw-df2"
   ]
  },
  {
   "cell_type": "code",
   "execution_count": 18,
   "metadata": {},
   "outputs": [
    {
     "data": {
      "text/plain": [
       "generate_qe_structural_opt_input_file (generic function with 1 method)"
      ]
     },
     "execution_count": 18,
     "metadata": {},
     "output_type": "execute_result"
    }
   ],
   "source": [
    "function generate_qe_structural_opt_input_file(crystal::Crystal, \n",
    "        input_params::Dict{Symbol, Any})\n",
    "    # check pseudo-potential coverage\n",
    "    check_psuedopotential_coverage(crystal, input_params[:functional])\n",
    "    # determine input file name\n",
    "    if input_params[:cell_dofree] == \"all\"\n",
    "        qe_input_filename = \"pw.\" * split(crystal.name, \".cif\")[1] * \n",
    "        \"_\" * input_params[:functional] * \"-angle-\" * input_params[:calculation] * \".in\"\n",
    "    else\n",
    "        qe_input_filename = \"pw.\" * split(crystal.name, \".cif\")[1] *\n",
    "        \"_\" * input_params[:functional] * \"-\" * input_params[:calculation] * \".in\"\n",
    "    end\n",
    "    \n",
    "    # make this folder if it doesn't exist\n",
    "    if ! isdir(\"QE_input_scripts\")\n",
    "        mkdir(\"QE_input_scripts\")\n",
    "    end\n",
    "    qe_input_file = open(joinpath(\"QE_input_scripts\", qe_input_filename)\n",
    "        , \"w\")\n",
    "\n",
    "    # write &Control\n",
    "    @printf(qe_input_file,\n",
    "        \"\"\"\n",
    "        &CONTROL\n",
    "           calculation = '%s',\n",
    "           prefix = '%s',\n",
    "           pseudo_dir = '%s',\n",
    "           outdir = '%s'\n",
    "           nstep = %.0f,\n",
    "        /\n",
    "        \"\"\",\n",
    "        input_params[:calculation], input_params[:prefix],\n",
    "        input_params[:pseudo_dir],\n",
    "        input_params[:outdir], input_params[:nstep]\n",
    "    )\n",
    "\n",
    "    # write &SYSTEM\n",
    "    @printf(qe_input_file,\n",
    "        \"\"\"\n",
    "        &SYSTEM\n",
    "           ibrav = %.0f,\n",
    "           nat = %.0f,\n",
    "           ntyp = %0.f,\n",
    "           tot_charge = %f,\n",
    "           ecutwfc = %f,\n",
    "           %s,\n",
    "           vdw_corr = '%s',\n",
    "           occupations = '%s',\n",
    "           degauss = %f,\n",
    "           smearing = '%s',\n",
    "           nspin = %.0f ,\n",
    "           starting_magnetization(%d) = %f,\n",
    "           tot_magnetization = %f\n",
    "        /\n",
    "        \"\"\", \n",
    "        input_params[:ibrav], input_params[:nat],\n",
    "        input_params[:ntyp], input_params[:tot_charge],\n",
    "        input_params[:ecutwfc],\n",
    "        input_params[:input_dft], input_params[:vdw_corr],\n",
    "        input_params[:occupations], input_params[:degauss],\n",
    "        input_params[:smearing], input_params[:nspin],\n",
    "        input_params[:sub_lat_species_index],\n",
    "        input_params[:starting_magnetization][1],\n",
    "        input_params[:tot_magnetization]\n",
    "    )\n",
    "\n",
    "    # write &ELECTRONS\n",
    "    @printf(qe_input_file,\n",
    "        \"\"\"\n",
    "        &ELECTRONS\n",
    "           electron_maxstep = %0.f,\n",
    "           mixing_mode = '%s',\n",
    "           diagonalization = '%s',\n",
    "        /\n",
    "        \"\"\",\n",
    "        input_params[:electron_maxstep], input_params[:mixing_mode], \n",
    "        input_params[:diagonalization]\n",
    "    )\n",
    "\n",
    "    # write &IONS\n",
    "    @printf(qe_input_file,\n",
    "        \"\"\"\n",
    "        &IONS\n",
    "           ion_dynamics = '%s',\n",
    "        /\n",
    "        \"\"\",\n",
    "        input_params[:ion_dynamics]\n",
    "    )\n",
    "\n",
    "\n",
    "    # write &CELL\n",
    "    @printf(qe_input_file,\n",
    "        \"\"\"\n",
    "        &CELL\n",
    "           cell_dynamics = '%s'\n",
    "           cell_dofree = '%s'\n",
    "        /\n",
    "        \"\"\",\n",
    "        input_params[:cell_dynamics], input_params[:cell_dofree]\n",
    "    )\n",
    "\n",
    "    # write ATOMIC_SPECIES\n",
    "    @printf(qe_input_file,\n",
    "        \"\"\"\n",
    "        ATOMIC_SPECIES\n",
    "        \"\"\"\n",
    "    )\n",
    "    \n",
    "    for atom in sort(unique(crystal.atoms.species))\n",
    "        @printf(qe_input_file,\n",
    "            \"\"\"\n",
    "            %s    %f    %s\n",
    "            \"\"\",\n",
    "            atom, atomic_masses[atom], \n",
    "            functional_to_atom_to_pp_file[input_params[:functional]][atom]\n",
    "        )\n",
    "    end\n",
    "\n",
    "    # write K_POINTS\n",
    "    @printf(qe_input_file,\n",
    "        \"\"\"\n",
    "        K_POINTS %s\n",
    "        \"\"\",\n",
    "        input_params[:k_points][1]\n",
    "    )\n",
    "\n",
    "\n",
    "    # write CELL_PARAMETERS\n",
    "    @printf(qe_input_file,\n",
    "        \"\"\"\n",
    "        CELL_PARAMETERS {angstrom}\n",
    "        \"\"\"\n",
    "    )\n",
    "    for d = 1:3\n",
    "        @printf(qe_input_file,\n",
    "            \"     %f   %f   %f\\n\",\n",
    "            crystal.box.f_to_c[1, d], \n",
    "            crystal.box.f_to_c[2, d],\n",
    "            crystal.box.f_to_c[3, d]\n",
    "        )\n",
    "    end\n",
    "\n",
    "    # write ATOMIC_POSITIONS\n",
    "    #symbol #x #y #z\n",
    "    @printf(qe_input_file, \"ATOMIC_POSITIONS {crystal}\\n\")\n",
    "\n",
    "    id_sorted = sortperm(crystal.atoms.species)\n",
    "    for a in id_sorted\n",
    "        @printf(qe_input_file, \n",
    "            \"%s    %f  %f  %f\\n\",\n",
    "            crystal.atoms.species[a], \n",
    "            crystal.atoms.coords.xf[1, a], \n",
    "            crystal.atoms.coords.xf[2, a], \n",
    "            crystal.atoms.coords.xf[3, a]\n",
    "        )\n",
    "    end\n",
    "    close(qe_input_file)\n",
    "    return qe_input_filename\n",
    "end"
   ]
  },
  {
   "cell_type": "markdown",
   "metadata": {},
   "source": [
    "## Generate Input File"
   ]
  },
  {
   "cell_type": "code",
   "execution_count": 19,
   "metadata": {},
   "outputs": [
    {
     "name": "stderr",
     "output_type": "stream",
     "text": [
      "┌ Info: Crystal NiPyC2.cif has Pn space group. I am converting it to P1 symmetry.\n",
      "│         To afrain from this, pass `convert_to_p1=false` to the `Crystal` constructor.\n",
      "└ @ PorousMaterials /home/ng/.julia/dev/PorousMaterials/src/crystal.jl:405\n"
     ]
    }
   ],
   "source": [
    "# import the functionalized mofs \n",
    "crystal = Crystal(\"NiPyC2.cif\")\n",
    "strip_numbers_from_atom_labels!(crystal)\n",
    "\n",
    "# # crystal used as a reference to determine\n",
    "# # which atoms belong to the origional crystal\n",
    "# ref_xtal_name = \"NiPyC2_relax.cif\"\n",
    "# ref_xtal = replicate(Crystal(ref_xtal_name, \n",
    "#         convert_to_p1=true), (2, 1, 1))\n",
    "# strip_numbers_from_atom_labels!(ref_xtal)"
   ]
  },
  {
   "cell_type": "code",
   "execution_count": 11,
   "metadata": {},
   "outputs": [],
   "source": [
    "# id_sorted = sortperm(crystal.atoms.species)\n",
    "# crystal.atoms .= crystal.atoms[id_sorted]"
   ]
  },
  {
   "cell_type": "code",
   "execution_count": 17,
   "metadata": {
    "scrolled": false
   },
   "outputs": [
    {
     "name": "stderr",
     "output_type": "stream",
     "text": [
      "┌ Warning: tailored to NiPyC2 and their analogues\n",
      "└ @ Main In[8]:13\n"
     ]
    },
    {
     "data": {
      "text/plain": [
       "Dict{Symbol,Any} with 27 entries:\n",
       "  :starting_magnetization => 0.25\n",
       "  :ecutwfc                => 100.0\n",
       "  :vdw_corr               => \"grimme-d2\"\n",
       "  :occupations            => \"smearing\"\n",
       "  :diagonalization        => \"david\"\n",
       "  :prefix                 => \"NiPyC2_vdw-df2_vc-relax\"\n",
       "  :nspin                  => 2\n",
       "  :input_dft              => \"input_dft = 'vdw-df2'\"\n",
       "  :outdir                 => \"./QE_relaxation_results/VDW_vc-relax\"\n",
       "  :pseudo_dir             => \"./pseudo/\"\n",
       "  :ntyp                   => 5\n",
       "  :smearing               => \"mv\"\n",
       "  :ibrav                  => 0\n",
       "  :degauss                => 0.2\n",
       "  :mixing_mode            => \"local-TF\"\n",
       "  :k_points               => [\"{gamma}\"]\n",
       "  :sub_lat_species_index  => [\"Ni\"]\n",
       "  :tot_charge             => 0.0\n",
       "  :calculation            => \"vc-relax\"\n",
       "  :ion_dynamics           => \"bfgs\"\n",
       "  :cell_dynamics          => \"bfgs\"\n",
       "  :nstep                  => 200\n",
       "  :nat                    => 54\n",
       "  :cell_dofree            => \"xyz\"\n",
       "  :electron_maxstep       => 90\n",
       "  ⋮                       => ⋮"
      ]
     },
     "execution_count": 17,
     "metadata": {},
     "output_type": "execute_result"
    }
   ],
   "source": [
    "# input_params = qe_structural_opt_input_params(crystal)\n",
    "\n",
    "calculation_type = \"vc-relax\"\n",
    "exchange_correlation = \"vdw-df2\"\n",
    "\n",
    "file_prefixes =  split(crystal.name, \".\")[1] * \"_\" *\n",
    "    exchange_correlation * \"_\" * calculation_type\n",
    "    \n",
    "output_directory = joinpath(\"./QE_relaxation_results/\",\n",
    "        \"VDW_\" * calculation_type)\n",
    "    \n",
    "\n",
    "input_params = qe_structural_opt_input_params(crystal;\n",
    "    calculation = calculation_type,\n",
    "    prefix = file_prefixes,\n",
    "    outdir = output_directory,\n",
    "    functional = exchange_correlation,\n",
    "    input_dft = \"input_dft = 'vdw-df2'\")"
   ]
  },
  {
   "cell_type": "code",
   "execution_count": 18,
   "metadata": {},
   "outputs": [
    {
     "data": {
      "text/plain": [
       "\"pw.NiPyC2_vdw-df2-vc-relax.in\""
      ]
     },
     "execution_count": 18,
     "metadata": {},
     "output_type": "execute_result"
    }
   ],
   "source": [
    "qe_input_filename = generate_qe_structural_opt_input_file(crystal, input_params)"
   ]
  },
  {
   "cell_type": "code",
   "execution_count": 20,
   "metadata": {
    "scrolled": false
   },
   "outputs": [
    {
     "name": "stdout",
     "output_type": "stream",
     "text": [
      "&CONTROL\n",
      "   calculation = 'vc-relax',\n",
      "   prefix = 'NiPyC2_vdw-df2_vc-relax',\n",
      "   pseudo_dir = './pseudo/',\n",
      "   outdir = './QE_relaxation_results/VDW_vc-relax'\n",
      "   nstep = 200,\n",
      "/\n",
      "&SYSTEM\n",
      "   ibrav = 0,\n",
      "   nat = 54,\n",
      "   ntyp = 5.000000,\n",
      "   tot_charge = 0.000000,\n",
      "   ecutwfc = 100.000000,\n",
      "   input_dft = 'vdw-df2',\n",
      "   vdw_corr = 'grimme-d2',\n",
      "   occupations = 'smearing',\n",
      "   degauss = 0.200000,\n",
      "   smearing = 'mv',\n",
      "   nspin = 2 ,\n",
      "   starting_magnetization(Ni) = 0.250000,\n",
      "   tot_magnetization = 4.000000\n",
      "/\n",
      "&ELECTRONS\n",
      "   electron_maxstep = 90.000000,\n",
      "   mixing_mode = 'local-TF',\n",
      "   diagonalization = 'david',\n",
      "/\n",
      "&IONS\n",
      "   ion_dynamics = 'bfgs',\n",
      "/\n",
      "&CELL\n",
      "   cell_dynamics = 'bfgs'\n",
      "   cell_dofree = 'xyz'\n",
      "/\n",
      "ATOMIC_SPECIES\n",
      "C    12.010700    C.pbesol-nc.UPF\n",
      "H    1.007940    H.pbesol-n-nc.UPF\n",
      "N    14.006700    N.pbesol-nc.UPF\n",
      "Ni    58.693400    Ni.pbesol-n-nc.UPF\n",
      "O    15.999400    O.pbesol-nc.UPF\n",
      "K_POINTS {gamma}\n",
      "CELL_PARAMETERS {angstrom}\n",
      "     6.252800   0.000000   0.000000\n",
      "     0.000000   12.523400   0.000000\n",
      "     -0.227594   0.000000   10.274279\n",
      "ATOMIC_POSITIONS {crystal}\n",
      "C    0.587800  0.959300  0.513400\n",
      "C    0.793200  0.998000  0.533700\n",
      "C    0.917100  0.954600  0.635400\n",
      "C    0.407700  0.519100  0.544100\n",
      "C    0.480300  0.603200  0.621700\n",
      "C    0.511500  0.880900  0.595000\n",
      "C    0.828500  0.877700  0.713700\n",
      "C    0.164500  0.604500  0.734600\n",
      "C    0.082600  0.520300  0.662600\n",
      "C    0.207900  0.477000  0.564600\n",
      "C    0.878000  0.089300  0.455000\n",
      "C    0.122000  0.386200  0.481500\n",
      "C    0.087800  0.040700  0.013400\n",
      "C    0.293200  0.002000  0.033700\n",
      "C    0.417100  0.045400  0.135400\n",
      "C    0.907700  0.480900  0.044100\n",
      "C    0.980300  0.396800  0.121700\n",
      "C    0.011500  0.119100  0.095000\n",
      "C    0.328500  0.122300  0.213700\n",
      "C    0.664500  0.395500  0.234600\n",
      "C    0.582600  0.479700  0.162600\n",
      "C    0.707900  0.523000  0.064600\n",
      "C    0.378000  0.910700  0.955000\n",
      "C    0.622000  0.613800  0.981500\n",
      "H    0.500200  0.986200  0.444100\n",
      "H    0.060200  0.977800  0.650500\n",
      "H    0.495100  0.491000  0.477800\n",
      "H    0.619100  0.631300  0.607900\n",
      "H    0.372100  0.853000  0.579100\n",
      "H    0.913300  0.848300  0.782600\n",
      "H    0.079300  0.634600  0.800700\n",
      "H    0.944600  0.492500  0.679100\n",
      "H    0.000200  0.013800  0.944100\n",
      "H    0.560200  0.022200  0.150500\n",
      "H    0.995100  0.509000  0.977800\n",
      "H    0.119100  0.368700  0.107900\n",
      "H    0.872100  0.147000  0.079100\n",
      "H    0.413300  0.151700  0.282600\n",
      "H    0.579300  0.365400  0.300700\n",
      "H    0.444600  0.507500  0.179100\n",
      "N    0.627900  0.842900  0.696200\n",
      "N    0.361100  0.646100  0.715100\n",
      "N    0.127900  0.157100  0.196200\n",
      "N    0.861100  0.353900  0.215100\n",
      "Ni    0.494800  0.753960  0.839430\n",
      "Ni    0.994800  0.246040  0.339430\n",
      "O    0.241300  0.349620  0.392900\n",
      "O    0.754900  0.133080  0.370200\n",
      "O    0.936900  0.352230  0.497300\n",
      "O    0.066500  0.119800  0.474200\n",
      "O    0.741300  0.650380  0.892900\n",
      "O    0.254900  0.866920  0.870200\n",
      "O    0.436900  0.647770  0.997300\n",
      "O    0.566500  0.880200  0.974200\n"
     ]
    },
    {
     "data": {
      "text/plain": [
       "Process(`\u001b[4mcat\u001b[24m \u001b[4mQE_input_scripts/pw.NiPyC2_vdw-df2-vc-relax.in\u001b[24m`, ProcessExited(0))"
      ]
     },
     "execution_count": 20,
     "metadata": {},
     "output_type": "execute_result"
    }
   ],
   "source": [
    "run(`cat QE_input_scripts/$qe_input_filename`)"
   ]
  },
  {
   "cell_type": "code",
   "execution_count": null,
   "metadata": {},
   "outputs": [],
   "source": []
  },
  {
   "cell_type": "code",
   "execution_count": null,
   "metadata": {},
   "outputs": [],
   "source": []
  }
 ],
 "metadata": {
  "kernelspec": {
   "display_name": "Julia 1.3.1",
   "language": "julia",
   "name": "julia-1.3"
  },
  "language_info": {
   "file_extension": ".jl",
   "mimetype": "application/julia",
   "name": "julia",
   "version": "1.3.1"
  }
 },
 "nbformat": 4,
 "nbformat_minor": 4
}
