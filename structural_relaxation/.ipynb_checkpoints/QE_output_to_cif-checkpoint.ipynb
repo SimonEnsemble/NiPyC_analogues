{
 "cells": [
  {
   "cell_type": "markdown",
   "metadata": {},
   "source": [
    "# QE to cif\n",
    "\n",
    "This takes the output file `.out` of a crystal that has gone through the structural optimization and generates a `.cif` file that can be used in gcmc calculations."
   ]
  },
  {
   "cell_type": "code",
   "execution_count": 1,
   "metadata": {},
   "outputs": [
    {
     "name": "stderr",
     "output_type": "stream",
     "text": [
      "┌ Info: Precompiling PorousMaterials [68953c7c-a3c7-538e-83d3-73516288599e]\n",
      "└ @ Base loading.jl:1273\n",
      "WARNING: Method definition dot(Any, Any, Any) in module Compat at /home/ng/.julia/packages/Compat/ElSO3/src/Compat.jl:116 overwritten in module Optim at /home/ng/.julia/packages/Optim/cJRng/src/multivariate/precon.jl:24.\n",
      "  ** incremental compilation may be fatally broken for this module **\n",
      "\n",
      "┌ Warning: Package PorousMaterials does not have PyCall in its dependencies:\n",
      "│ - If you have PorousMaterials checked out for development and have\n",
      "│   added PyCall as a dependency but haven't updated your primary\n",
      "│   environment's manifest file, try `Pkg.resolve()`.\n",
      "│ - Otherwise you may need to report an issue with PorousMaterials\n",
      "└ Loading PyCall into PorousMaterials from project dependency, future warnings for PorousMaterials are suppressed.\n"
     ]
    }
   ],
   "source": [
    "cd(\"..\")\n",
    "using PorousMaterials, LinearAlgebra\n",
    "cd(\"structural_relaxation\")"
   ]
  },
  {
   "cell_type": "code",
   "execution_count": 2,
   "metadata": {},
   "outputs": [],
   "source": [
    "# crystal_name = \"NiPyC2_vc-relax.cif\"\n",
    "# crystal = Crystal(crystal_name)\n",
    "# # crystal.box.f_to_c"
   ]
  },
  {
   "cell_type": "code",
   "execution_count": 3,
   "metadata": {},
   "outputs": [
    {
     "data": {
      "text/plain": [
       "qe_output_to_cif (generic function with 1 method)"
      ]
     },
     "execution_count": 3,
     "metadata": {},
     "output_type": "execute_result"
    }
   ],
   "source": [
    "function is_vcrelax(qe_output_filename::String)\n",
    "    if occursin(\"vc-relax\", qe_output_filename)\n",
    "        return true\n",
    "    else\n",
    "        return false\n",
    "    end\n",
    "end\n",
    "\n",
    "function find_calculation_end(lines::Array{String,1})\n",
    "    start_coords = 0\n",
    "    for line in lines\n",
    "        start_coords += 1\n",
    "        if occursin(\"Begin final coordinates\", line)\n",
    "            return start_coords \n",
    "        end\n",
    "    end\n",
    "end\n",
    "\n",
    "function find_atomic_positions(lines::Array{String,1})\n",
    "    start_ind = find_calculation_end(lines)\n",
    "    for line in lines[start_ind:end]\n",
    "        if occursin(\"ATOMIC_POSITIONS\", line)\n",
    "            return start_ind\n",
    "        else \n",
    "            start_ind += 1\n",
    "        end\n",
    "    end\n",
    "end\n",
    "\n",
    "function find_no_atoms(lines::Array{String,1})\n",
    "    for line in lines\n",
    "        if occursin(\"number of atoms/cell\", line)\n",
    "            return parse(Int64, split(line)[5])\n",
    "        end\n",
    "    end\n",
    "end\n",
    "\n",
    "function read_coords(lines::Array{String,1})\n",
    "    n_atoms = find_no_atoms(lines)\n",
    "    xf = zeros(3, n_atoms)\n",
    "    species = [:blah for i = 1:n_atoms]\n",
    "    start_coords = find_atomic_positions(lines)\n",
    "    for a = 1:n_atoms\n",
    "        line = split(lines[start_coords+a])\n",
    "        species[a] = Symbol(line[1])\n",
    "        for c = 1:3\n",
    "            xf[c, a] = parse(Float64, line[1+c])\n",
    "        end\n",
    "    end\n",
    "    return species, xf\n",
    "end\n",
    "\n",
    "function read_lattice_parameter(lines::Array{String,1}, start_ind::Int)\n",
    "    for line in lines[start_ind:end]\n",
    "        if occursin(\"lattice parameter\", line)\n",
    "            # Bohr to Angstrom\n",
    "            return parse(Float64, split(line)[5]) * 0.529177\n",
    "        end\n",
    "    end\n",
    "end\n",
    "\n",
    "function read_box(lines::Array{String,1}, start_ind::Int)\n",
    "    # find start of box info\n",
    "    box_start = start_ind - 1\n",
    "    for line in lines[start_ind:end]\n",
    "        box_start += 1\n",
    "        if occursin(\"crystal axes\", line)\n",
    "            break\n",
    "        end\n",
    "    end \n",
    "    f_to_c = zeros(3, 3)\n",
    "    for i = 1:3\n",
    "        for j = 1:3\n",
    "            f_to_c[i, j] = parse(Float64, split(lines[box_start+j])[3+i])\n",
    "        end\n",
    "    end\n",
    "    \n",
    "    # scale by lattice params\n",
    "    return f_to_c * read_lattice_parameter(lines, start_ind)\n",
    "end\n",
    "\n",
    "function read_unitcell_volume(lines::Array{String,1}, start_ind::Int)\n",
    "    for line in lines[start_ind:end]\n",
    "        if occursin(\"unit-cell volume\", line)\n",
    "            if occursin(\"new\", line)\n",
    "                return parse(Float64, split(line)[5]) * 0.529177 ^ 3 # Bohr to Angstro\n",
    "            else\n",
    "                return parse(Float64, split(line)[4]) * 0.529177 ^ 3 # Bohr to Angstrom\n",
    "            end\n",
    "        end\n",
    "    end\n",
    "end\n",
    "\n",
    "function qe_output_to_cif(qe_output_filename::String)\n",
    "    # read in lines of QE output file\n",
    "    qe_file = open(qe_output_filename)\n",
    "    lines = readlines(qe_file)\n",
    "    close(qe_file)\n",
    "    \n",
    "    # where to find data changes for different \n",
    "    # types of calculations\n",
    "    if is_vcrelax(qe_output_filename)\n",
    "        start_line = find_calculation_end(lines)\n",
    "    else\n",
    "        start_line = 1\n",
    "    end\n",
    "    \n",
    "    # read species and coords\n",
    "    species, xf = read_coords(lines)\n",
    "    atoms = Atoms(species, Frac(xf))\n",
    "\n",
    "    # read unit cell info\n",
    "    f_to_c = read_box(lines, start_line)\n",
    "    box = Box(f_to_c)\n",
    "    \n",
    "    # assert unit cell volume same as determinant of f to c matrix\n",
    "    @assert isapprox(read_unitcell_volume(lines, start_line), det(f_to_c), atol=0.2)\n",
    "    \n",
    "    crytal_name = split(qe_output_filename, \".\")[2] * \"_\" * split(qe_output_filename, \".\")[3] \n",
    "    \n",
    "    return Crystal(crytal_name, box, atoms, Charges{Frac}(0))\n",
    "end"
   ]
  },
  {
   "cell_type": "code",
   "execution_count": 4,
   "metadata": {},
   "outputs": [],
   "source": [
    "# qe_output_filename = joinpath(pwd(), \"pw.NiPyC2_P1.vc-relax.in.out\")    \n",
    "# qe_file = open(qe_output_filename)\n",
    "# lines = readlines(qe_file)\n",
    "# close(qe_file)"
   ]
  },
  {
   "cell_type": "code",
   "execution_count": 5,
   "metadata": {},
   "outputs": [
    {
     "data": {
      "text/plain": [
       "Bravais unit cell of a crystal.\n",
       "\tUnit cell angles α = 90.000000 deg. β = 91.268973 deg. γ = 90.000000 deg.\n",
       "\tUnit cell dimensions a = 12.505617 Å. b = 12.523412 Å, c = 10.276810 Å\n",
       "\tVolume of unit cell: 1609.087231 Å³\n"
      ]
     },
     "execution_count": 5,
     "metadata": {},
     "output_type": "execute_result"
    }
   ],
   "source": [
    "qe_output_filename = joinpath(pwd(), \"pw.NiPyC2_relax_meta_functionalized_OH.in.out\")\n",
    "xtal = qe_output_to_cif(qe_output_filename)\n",
    "strip_numbers_from_atom_labels!(xtal)\n",
    "write_cif(xtal, \"NiPyC2_meta_functionalized_OH_pbesol_relax.cif\")\n",
    "xtal"
   ]
  }
 ],
 "metadata": {
  "@webio": {
   "lastCommId": null,
   "lastKernelId": null
  },
  "kernelspec": {
   "display_name": "Julia 1.3.1",
   "language": "julia",
   "name": "julia-1.3"
  },
  "language_info": {
   "file_extension": ".jl",
   "mimetype": "application/julia",
   "name": "julia",
   "version": "1.3.1"
  }
 },
 "nbformat": 4,
 "nbformat_minor": 4
}
