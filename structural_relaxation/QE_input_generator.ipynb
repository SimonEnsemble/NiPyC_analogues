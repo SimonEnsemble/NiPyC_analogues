{
 "cells": [
  {
   "cell_type": "markdown",
   "metadata": {},
   "source": [
    "# QE input script generator\n",
    "This will automate the process of writing input scripts for Quantum Espresso to do the structural optimization of functionalized mofs using the pw.x (plane wave) package and pseudopotential files. \n",
    "\n",
    "**NOTE:** many default arguements will be preset."
   ]
  },
  {
   "cell_type": "code",
   "execution_count": 1,
   "metadata": {},
   "outputs": [],
   "source": [
    "cd(\"..\")"
   ]
  },
  {
   "cell_type": "code",
   "execution_count": 2,
   "metadata": {},
   "outputs": [
    {
     "name": "stderr",
     "output_type": "stream",
     "text": [
      "┌ Info: Precompiling PorousMaterials [68953c7c-a3c7-538e-83d3-73516288599e]\n",
      "└ @ Base loading.jl:1273\n",
      "WARNING: Method definition dot(Any, Any, Any) in module Compat at /home/ng/.julia/packages/Compat/ElSO3/src/Compat.jl:116 overwritten in module Optim at /home/ng/.julia/packages/Optim/cJRng/src/multivariate/precon.jl:24.\n",
      "  ** incremental compilation may be fatally broken for this module **\n",
      "\n",
      "┌ Warning: Package PorousMaterials does not have PyCall in its dependencies:\n",
      "│ - If you have PorousMaterials checked out for development and have\n",
      "│   added PyCall as a dependency but haven't updated your primary\n",
      "│   environment's manifest file, try `Pkg.resolve()`.\n",
      "│ - Otherwise you may need to report an issue with PorousMaterials\n",
      "└ Loading PyCall into PorousMaterials from project dependency, future warnings for PorousMaterials are suppressed.\n"
     ]
    }
   ],
   "source": [
    "using PorousMaterials\n",
    "using Printf"
   ]
  },
  {
   "cell_type": "code",
   "execution_count": 3,
   "metadata": {},
   "outputs": [
    {
     "data": {
      "text/plain": [
       "\"/home/ng/DTRA/data\""
      ]
     },
     "execution_count": 3,
     "metadata": {},
     "output_type": "execute_result"
    }
   ],
   "source": [
    "PorousMaterials.PATH_TO_DATA"
   ]
  },
  {
   "cell_type": "code",
   "execution_count": 4,
   "metadata": {},
   "outputs": [],
   "source": [
    "cd(\"structural_relaxation\")"
   ]
  },
  {
   "cell_type": "markdown",
   "metadata": {},
   "source": [
    "**TODO:**\n",
    "* fix file output location\n",
    "* loop over all functionalized mofs"
   ]
  },
  {
   "cell_type": "code",
   "execution_count": 5,
   "metadata": {},
   "outputs": [
    {
     "data": {
      "text/plain": [
       "Dict{Symbol,Float64} with 100 entries:\n",
       "  :Xe__    => 131.293\n",
       "  :Cl      => 35.453\n",
       "  :Al      => 26.9815\n",
       "  :Be      => 9.01218\n",
       "  :Re      => 186.207\n",
       "  :O_RCOO  => 15.9994\n",
       "  :Cr      => 51.996\n",
       "  :Na      => 22.9898\n",
       "  :N_in_N2 => 14.0067\n",
       "  :VOID    => 0.0\n",
       "  :Sb      => 121.76\n",
       "  :Kr      => 83.798\n",
       "  :Ni      => 58.6934\n",
       "  :S       => 32.065\n",
       "  :CH4     => 16.04\n",
       "  :O_zeo   => 15.9994\n",
       "  :Ru      => 101.07\n",
       "  :Tm      => 168.934\n",
       "  :C_sp3   => 12.0107\n",
       "  :Xe_     => 131.293\n",
       "  :Nd      => 144.242\n",
       "  :O       => 15.9994\n",
       "  :Tb      => 158.925\n",
       "  :Th      => 232.038\n",
       "  :Zr      => 91.224\n",
       "  ⋮        => ⋮"
      ]
     },
     "execution_count": 5,
     "metadata": {},
     "output_type": "execute_result"
    }
   ],
   "source": [
    "atomic_masses = read_atomic_masses()"
   ]
  },
  {
   "cell_type": "code",
   "execution_count": 6,
   "metadata": {},
   "outputs": [],
   "source": [
    "# which_crystal = \"NiPyC2\"\n",
    "# replication_id = \"sc211_\" # super cell 2x1x1\n",
    "# qe_run_type = \"relax\"\n",
    "\n",
    "# # name of the directory containing functionalixed structures\n",
    "# mof_dir_name = which_crystal * \"_\" * replication_id * qe_run_type\n",
    "\n",
    "# @eval PorousMaterials PATH_TO_CRYSTALS = joinpath(pwd(), \"mof_construction\",\n",
    "#     \"NiPyC2_sc211_relax\") "
   ]
  },
  {
   "cell_type": "code",
   "execution_count": 7,
   "metadata": {},
   "outputs": [],
   "source": [
    "# # The name of the fragment\n",
    "# # file must be a .xyz file located in ./fragments/\n",
    "# # The atom species that is bonded to the :C_aro_R atom on the ring segment of the Fragment\n",
    "# fragment_list = [\"Br\", \"CH2-CH2-CH3\", \"CH2-CH3\", \"CH3\", \n",
    "#                 \"Cl\", \"C-N\", \"F\", \"NH2\", \"N-NH\", \n",
    "#                 \"O-CH2-CH2-CH3\", \"O-CH2-CH3\", \"O-CH3\", \"OH\"]\n",
    "\n",
    "# # The type of Arene Substitution (\"ortho\", \"meta\", \"all\") \n",
    "# # TODO: \"all\" not yet implimented\n",
    "# substitution_types = [\"ortho\", \"meta\"]"
   ]
  },
  {
   "cell_type": "code",
   "execution_count": 8,
   "metadata": {},
   "outputs": [],
   "source": [
    "# base_name = \"NiPyC2_relax\"\n",
    "# xtals = Dict{String, Crystal}()\n",
    "\n",
    "# for frag in fragment_list\n",
    "#     for sub_typ in substitution_types\n",
    "#         xtal_name = base_name * \"_\" * sub_typ * \"_functionalized_\" * frag\n",
    "#         xtals[xtal_name] = Crystal(xtal_name * \".cif\")\n",
    "#     end\n",
    "# end"
   ]
  },
  {
   "cell_type": "code",
   "execution_count": 9,
   "metadata": {},
   "outputs": [
    {
     "name": "stderr",
     "output_type": "stream",
     "text": [
      "┌ Info: Crystal NiPyC2.cif has Pn space group. I am converting it to P1 symmetry.\n",
      "│         To afrain from this, pass `convert_to_p1=false` to the `Crystal` constructor.\n",
      "└ @ PorousMaterials /home/ng/.julia/dev/PorousMaterials/src/crystal.jl:405\n"
     ]
    }
   ],
   "source": [
    "# import the functionalized mofs \n",
    "# crystal = Crystal(\"NiPyC2_relax_meta_functionalized_OH.cif\")\n",
    "crystal = Crystal(\"NiPyC2.cif\")\n",
    "\n",
    "strip_numbers_from_atom_labels!(crystal)\n",
    "# relabel Ni atoms\n",
    "# @warn \"we labeled Ni's 1-4, but not sure if we need to relabel as Ni1, Ni2 and have two of each.\"\n",
    "# ni_count = 0\n",
    "# for (i, atom) in enumerate(crystal.atoms.species)\n",
    "#     if atom == :Ni\n",
    "#         ni_count += 1\n",
    "#         cnt = mod(ni_count, 2) + 1\n",
    "#         crystal.atoms.species[i] = Symbol(@sprintf(\"Ni%d\", cnt))\n",
    "#     end\n",
    "# end"
   ]
  },
  {
   "cell_type": "code",
   "execution_count": 10,
   "metadata": {},
   "outputs": [
    {
     "data": {
      "text/plain": [
       "3×3 Array{Float64,2}:\n",
       " 6.2528   7.66837e-16  -0.227594   \n",
       " 0.0     12.5234        6.43209e-16\n",
       " 0.0      0.0          10.2743     "
      ]
     },
     "execution_count": 10,
     "metadata": {},
     "output_type": "execute_result"
    }
   ],
   "source": [
    "crystal.box.f_to_c\n"
   ]
  },
  {
   "cell_type": "markdown",
   "metadata": {},
   "source": [
    "## paths to pseudo-potential libraries\n",
    "\n",
    "populate dictionary with names of pseudopotential files"
   ]
  },
  {
   "cell_type": "code",
   "execution_count": 11,
   "metadata": {},
   "outputs": [
    {
     "data": {
      "text/plain": [
       "\"S.pbesol-n-nc.UPF\""
      ]
     },
     "execution_count": 11,
     "metadata": {},
     "output_type": "execute_result"
    }
   ],
   "source": [
    "functional_to_atom_to_pp_file = Dict{String, Dict{Symbol, String}}()\n",
    "\n",
    "functional_to_atom_to_pp_file[\"pbesol\"] = Dict{Symbol, String}()\n",
    "\n",
    "functional_to_atom_to_pp_file[\"pbesol\"][:Ni] = \"Ni.pbesol-n-nc.UPF\"\n",
    "functional_to_atom_to_pp_file[\"pbesol\"][:O] = \"O.pbesol-nc.UPF\"\n",
    "functional_to_atom_to_pp_file[\"pbesol\"][:C] = \"C.pbesol-nc.UPF\"\n",
    "functional_to_atom_to_pp_file[\"pbesol\"][:N] = \"N.pbesol-nc.UPF\"\n",
    "functional_to_atom_to_pp_file[\"pbesol\"][:H] = \"H.pbesol-n-nc.UPF\"\n",
    "functional_to_atom_to_pp_file[\"pbesol\"][:F] = \"F.pbesol-n-nc.UPF\"\n",
    "functional_to_atom_to_pp_file[\"pbesol\"][:Cl] = \"Cl.pbesol-n-nc.UPF\"\n",
    "functional_to_atom_to_pp_file[\"pbesol\"][:Br] = \"Br.pbesol-n-nc.UPF\"\n",
    "functional_to_atom_to_pp_file[\"pbesol\"][:P] = \"P.pbesol-n-nc.UPF\"\n",
    "functional_to_atom_to_pp_file[\"pbesol\"][:S] = \"S.pbesol-n-nc.UPF\"\n",
    "\n",
    "# functional_to_atom_to_pp_file[\"VDW\"] = Dict{Symbol, String}()\n"
   ]
  },
  {
   "cell_type": "markdown",
   "metadata": {},
   "source": [
    "## default QE structural relaxation params"
   ]
  },
  {
   "cell_type": "code",
   "execution_count": 12,
   "metadata": {},
   "outputs": [
    {
     "name": "stderr",
     "output_type": "stream",
     "text": [
      "┌ Warning: tailored to NiPyC and their analogues\n",
      "└ @ Main In[12]:13\n"
     ]
    },
    {
     "data": {
      "text/plain": [
       "Dict{Symbol,Any} with 25 entries:\n",
       "  :starting_magnetization => [0.25, 0.25]\n",
       "  :ecutwfc                => 100.0\n",
       "  :vdw_corr               => \"grimme-d2\"\n",
       "  :occupations            => \"smearing\"\n",
       "  :diagonalization        => \"david\"\n",
       "  :prefix                 => \"NiPyC2\"\n",
       "  :nspin                  => 2\n",
       "  :outdir                 => \"./\"\n",
       "  :pseudo_dir             => \"./pseudo/\"\n",
       "  :ntyp                   => 5\n",
       "  :smearing               => \"mv\"\n",
       "  :ibrav                  => 0\n",
       "  :degauss                => 0.2\n",
       "  :mixing_mode            => \"local-TF\"\n",
       "  :k_points               => [\"{gamma}\"]\n",
       "  :sub_lat_species_index  => [\"1\", \"2\"]\n",
       "  :tot_charge             => 0.0\n",
       "  :calculation            => \"relax\"\n",
       "  :ion_dynamics           => \"bfgs\"\n",
       "  :cell_dynamics          => \"bfgs\"\n",
       "  :nstep                  => 200\n",
       "  :nat                    => 54\n",
       "  :cell_dofree            => \"xyz\"\n",
       "  :electron_maxstep       => 90\n",
       "  :tot_magnetization      => 4"
      ]
     },
     "execution_count": 12,
     "metadata": {},
     "output_type": "execute_result"
    }
   ],
   "source": [
    "\"\"\"\n",
    "    input_params = qe_input_params(crystal; kwargs)\n",
    "\n",
    "create a dictionary consisting of input arguments for QE structural relaxation\n",
    "needed for the script and set default values\n",
    "then populate with values specific to each material\n",
    "link with full list and description of input params\n",
    "https://www.quantum-espresso.org/Doc/INPUT_PW.html#__top__\n",
    "\n",
    "WARNING: tailored to Nickel\n",
    "\"\"\"\n",
    "function qe_structural_opt_input_params(crystal::Crystal; kwargs...)\n",
    "    @warn \"tailored to NiPyC and their analogues\"\n",
    "    \n",
    "    input_params = Dict{Symbol, Any}()\n",
    "    # &control params\n",
    "    input_params[:calculation] = \"relax\" \n",
    "    input_params[:prefix] = split(crystal.name, \".\")[1]\n",
    "    input_params[:pseudo_dir] = \"./pseudo/\" #joinpath(pwd(), \"structural_relaxation\", \"pseudo\")\n",
    "    input_params[:outdir] = \"./\" #joinpath(pwd(), \"structural_relaxation\")\n",
    "    input_params[:nstep] = 200\n",
    "\n",
    "    # &SYSTEM params\n",
    "    input_params[:ibrav] = 0\n",
    "    input_params[:nat] = crystal.atoms.n\n",
    "    input_params[:ntyp] = length(unique(crystal.atoms.species))\n",
    "    input_params[:tot_charge] = 0.0\n",
    "    input_params[:ecutwfc] = 100.0\n",
    "    input_params[:vdw_corr] = \"grimme-d2\"\n",
    "    input_params[:occupations] = \"smearing\"\n",
    "    input_params[:degauss] = 0.2\n",
    "    input_params[:smearing] = \"mv\"\n",
    "    input_params[:nspin] = 2\n",
    "    input_params[:sub_lat_species_index] = [\"1\", \"2\"]\n",
    "    input_params[:starting_magnetization] = [0.25, 0.25]\n",
    "    # tot_mag = total number of unpaired electrons in sys \n",
    "    input_params[:tot_magnetization] = \n",
    "        sum(crystal.atoms.species .== :Ni) * 2\n",
    "\n",
    "    # &ELECTRON params\n",
    "    input_params[:electron_maxstep] = 90\n",
    "    input_params[:mixing_mode] = \"local-TF\"\n",
    "    input_params[:diagonalization] = \"david\"\n",
    "\n",
    "    # &IONS params\n",
    "    input_params[:ion_dynamics] = \"bfgs\"\n",
    "\n",
    "    # &CELL params\n",
    "    input_params[:cell_dynamics] = \"bfgs\"\n",
    "    input_params[:cell_dofree] = \"xyz\"\n",
    "\n",
    "    # K_POINTS params\n",
    "    input_params[:k_points] = [String(\"{gamma}\")]\n",
    "    \n",
    "    # over-ride default params with ones passed in kwargs\n",
    "    for (key, value) in kwargs\n",
    "        input_params[key] = value\n",
    "    end\n",
    "    return input_params\n",
    "end\n",
    "\n",
    "input_params = qe_structural_opt_input_params(crystal)"
   ]
  },
  {
   "cell_type": "code",
   "execution_count": 13,
   "metadata": {},
   "outputs": [],
   "source": [
    "function check_psuedopotential_coverage(crystal::Crystal, functional::String)\n",
    "    for atom in unique(crystal.atoms.species)\n",
    "        if ! (atom in keys(functional_to_atom_to_pp_file[functional]))\n",
    "            error(@sprintf(\"atom %s not in `atom_to_psuedopotential_file`\", atom))\n",
    "        end\n",
    "    end\n",
    "end\n",
    "\n",
    "check_psuedopotential_coverage(crystal, \"pbesol\")"
   ]
  },
  {
   "cell_type": "code",
   "execution_count": 14,
   "metadata": {},
   "outputs": [
    {
     "data": {
      "text/plain": [
       "generate_qe_structural_opt_input_file (generic function with 1 method)"
      ]
     },
     "execution_count": 14,
     "metadata": {},
     "output_type": "execute_result"
    }
   ],
   "source": [
    "function generate_qe_structural_opt_input_file(crystal::Crystal, input_params::Dict{Symbol, Any}, functional::String)\n",
    "    # check pseudo-potential coverage\n",
    "    check_psuedopotential_coverage(crystal)\n",
    "    \n",
    "    qe_input_filename = \"pw.\" * split(crystal.name, \".cif\")[1] *\n",
    "        \"_\" * functional * \"_\" * input_params[:calculation] * \".in\"\n",
    "    # make this folder if it doesn't exist\n",
    "    if ! isdir(\"QE_input_scripts\")\n",
    "        mkdir(\"QE_input_scripts\")\n",
    "    end\n",
    "    qe_input_file = open(joinpath(\"QE_input_scripts\", qe_input_filename)\n",
    "        , \"w\")\n",
    "\n",
    "    # write &Control\n",
    "    @printf(qe_input_file,\n",
    "        \"\"\"\n",
    "        &CONTROL\n",
    "           calculation = '%s',\n",
    "           prefix = '%s',\n",
    "           pseudo_dir = '%s',\n",
    "           outdir = '%s'\n",
    "           nstep = %.0f,\n",
    "        /\n",
    "        \"\"\",\n",
    "        input_params[:calculation], input_params[:prefix],\n",
    "        input_params[:pseudo_dir],\n",
    "        input_params[:outdir], input_params[:nstep]\n",
    "    )\n",
    "\n",
    "    # write &SYSTEM\n",
    "    @printf(qe_input_file,\n",
    "        \"\"\"\n",
    "        &SYSTEM\n",
    "           ibrav = %.0f,\n",
    "           nat = %.0f,\n",
    "           ntyp = %0.f,\n",
    "           tot_charge = %f,\n",
    "           ecutwfc = %f,\n",
    "           vdw_corr = '%s',\n",
    "           occupations = '%s',\n",
    "           degauss = %f,\n",
    "           smearing = '%s',\n",
    "           nspin = %.0f ,\n",
    "           starting_magnetization(%s) = %f,\n",
    "           ! starting_magnetization(%s) = %f\n",
    "           tot_magnetization = %f\n",
    "        /\n",
    "        \"\"\", \n",
    "        input_params[:ibrav], input_params[:nat],\n",
    "        input_params[:ntyp], input_params[:tot_charge],\n",
    "        input_params[:ecutwfc], input_params[:vdw_corr],\n",
    "        input_params[:occupations], input_params[:degauss],\n",
    "        input_params[:smearing], input_params[:nspin],\n",
    "        input_params[:sub_lat_species_index][1],\n",
    "        input_params[:starting_magnetization][1],\n",
    "        input_params[:sub_lat_species_index][2],\n",
    "        input_params[:starting_magnetization][2],\n",
    "        input_params[:tot_magnetization]\n",
    "    )\n",
    "\n",
    "    # write &ELECTRONS\n",
    "    @printf(qe_input_file,\n",
    "        \"\"\"\n",
    "        &ELECTRONS\n",
    "        electron_maxstep = %0.f,\n",
    "        mixing_mode = '%s',\n",
    "        diagonalization = '%s',\n",
    "        /\n",
    "        \"\"\",\n",
    "        input_params[:electron_maxstep], input_params[:mixing_mode], \n",
    "        input_params[:diagonalization]\n",
    "    )\n",
    "\n",
    "    # write &IONS\n",
    "    @printf(qe_input_file,\n",
    "        \"\"\"\n",
    "        &IONS\n",
    "        ion_dynamics = '%s',\n",
    "        /\n",
    "        \"\"\",\n",
    "        input_params[:ion_dynamics]\n",
    "    )\n",
    "\n",
    "\n",
    "    # write &CELL\n",
    "    @printf(qe_input_file,\n",
    "        \"\"\"\n",
    "        &CELL\n",
    "        cell_dynamics = '%s'\n",
    "        cell_dofree = '%s'\n",
    "        /\n",
    "        \"\"\",\n",
    "        input_params[:cell_dynamics], input_params[:cell_dofree]\n",
    "    )\n",
    "\n",
    "    # write ATOMIC_SPECIES\n",
    "    @printf(qe_input_file,\n",
    "        \"\"\"\n",
    "        ATOMIC_SPECIES\n",
    "        \"\"\"\n",
    "    )\n",
    "    \n",
    "    @warn \"address Ni vs Ni2\"\n",
    "    for atom in unique(crystal.atoms.species)\n",
    "        @printf(qe_input_file,\n",
    "            \"\"\"\n",
    "            %s    %f    %s\n",
    "            \"\"\",\n",
    "            atom, atomic_masses[atom], functional_to_atom_to_pp_file[functional][atom]\n",
    "        )\n",
    "    end\n",
    "\n",
    "    # write K_POINTS\n",
    "    @printf(qe_input_file,\n",
    "        \"\"\"\n",
    "        K_POINTS %s\n",
    "        \"\"\",\n",
    "        input_params[:k_points][1]\n",
    "    )\n",
    "\n",
    "\n",
    "    # write CELL_PARAMETERS\n",
    "    @printf(qe_input_file,\n",
    "        \"\"\"\n",
    "        CELL_PARAMETERS {angstrom}\n",
    "        \"\"\"\n",
    "    )\n",
    "    for d = 1:3\n",
    "        @printf(qe_input_file,\n",
    "            \"     %f   %f   %f\\n\",\n",
    "            crystal.box.f_to_c[1, d], crystal.box.f_to_c[2, d], crystal.box.f_to_c[3, d]\n",
    "        )\n",
    "    end\n",
    "\n",
    "    # write ATOMIC_POSITIONS\n",
    "    #symbol #x #y #z\n",
    "    @printf(qe_input_file, \"ATOMIC_POSITIONS {crystal}\\n\")\n",
    "\n",
    "\n",
    "    for a = 1:crystal.atoms.n\n",
    "        @printf(qe_input_file, \n",
    "            \"%s    %f  %f  %f\\n\",\n",
    "            crystal.atoms.species[a], \n",
    "            crystal.atoms.coords.xf[1, a], \n",
    "            crystal.atoms.coords.xf[2, a], \n",
    "            crystal.atoms.coords.xf[3, a]\n",
    "        )\n",
    "    end\n",
    "    close(qe_input_file)\n",
    "    return qe_input_filename\n",
    "end"
   ]
  },
  {
   "cell_type": "code",
   "execution_count": 15,
   "metadata": {
    "scrolled": true
   },
   "outputs": [
    {
     "name": "stderr",
     "output_type": "stream",
     "text": [
      "┌ Warning: tailored to NiPyC and their analogues\n",
      "└ @ Main In[12]:13\n"
     ]
    }
   ],
   "source": [
    "input_params = qe_structural_opt_input_params(crystal);"
   ]
  },
  {
   "cell_type": "code",
   "execution_count": 16,
   "metadata": {},
   "outputs": [
    {
     "ename": "MethodError",
     "evalue": "MethodError: no method matching check_psuedopotential_coverage(::Crystal)\nClosest candidates are:\n  check_psuedopotential_coverage(::Crystal, !Matched::String) at In[13]:2",
     "output_type": "error",
     "traceback": [
      "MethodError: no method matching check_psuedopotential_coverage(::Crystal)\nClosest candidates are:\n  check_psuedopotential_coverage(::Crystal, !Matched::String) at In[13]:2",
      "",
      "Stacktrace:",
      " [1] generate_qe_structural_opt_input_file(::Crystal, ::Dict{Symbol,Any}, ::String) at ./In[14]:3",
      " [2] top-level scope at In[16]:1"
     ]
    }
   ],
   "source": [
    "qe_input_filename = generate_qe_structural_opt_input_file(crystal, input_params, \"pbesol\")"
   ]
  },
  {
   "cell_type": "code",
   "execution_count": 17,
   "metadata": {},
   "outputs": [
    {
     "data": {
      "text/plain": [
       "2"
      ]
     },
     "execution_count": 17,
     "metadata": {},
     "output_type": "execute_result"
    }
   ],
   "source": [
    "sum(crystal.atoms.species .== :Ni)"
   ]
  },
  {
   "cell_type": "code",
   "execution_count": 18,
   "metadata": {},
   "outputs": [
    {
     "ename": "UndefVarError",
     "evalue": "UndefVarError: qe_input_filename not defined",
     "output_type": "error",
     "traceback": [
      "UndefVarError: qe_input_filename not defined",
      "",
      "Stacktrace:",
      " [1] top-level scope at In[18]:1"
     ]
    }
   ],
   "source": [
    "run(`cat QE_input_scripts/$qe_input_filename`)"
   ]
  },
  {
   "cell_type": "code",
   "execution_count": null,
   "metadata": {},
   "outputs": [],
   "source": []
  }
 ],
 "metadata": {
  "kernelspec": {
   "display_name": "Julia 1.3.1",
   "language": "julia",
   "name": "julia-1.3"
  },
  "language_info": {
   "file_extension": ".jl",
   "mimetype": "application/julia",
   "name": "julia",
   "version": "1.3.1"
  }
 },
 "nbformat": 4,
 "nbformat_minor": 4
}
