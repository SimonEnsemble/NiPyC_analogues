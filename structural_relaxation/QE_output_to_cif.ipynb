{
 "cells": [
  {
   "cell_type": "markdown",
   "metadata": {},
   "source": [
    "# QE to cif\n",
    "\n",
    "This takes the output file `.out` of a crystal that has gone through the structural optimization and generates a `.cif` file that can be used in gcmc calculations.\n",
    "\n",
    "## TODO: \n",
    "- check output file to make sure that is converged\n",
    "    - if it didn't converge, flag the file and issue a warning\n",
    "    - possible check: occursin(\"bfgs converged in\", file.out)\n",
    "    - check for: \"scf_must_converge=.false.\" as well?"
   ]
  },
  {
   "cell_type": "code",
   "execution_count": 1,
   "metadata": {},
   "outputs": [],
   "source": [
    "using PorousMaterials, LinearAlgebra"
   ]
  },
  {
   "cell_type": "code",
   "execution_count": 2,
   "metadata": {},
   "outputs": [],
   "source": [
    "# crystal_name = \"NiPyC2_vc-relax.cif\"\n",
    "# crystal = Crystal(crystal_name)\n",
    "# # crystal.box.f_to_c"
   ]
  },
  {
   "cell_type": "code",
   "execution_count": 3,
   "metadata": {},
   "outputs": [
    {
     "data": {
      "text/plain": [
       "read_unitcell_volume (generic function with 1 method)"
      ]
     },
     "execution_count": 3,
     "metadata": {},
     "output_type": "execute_result"
    }
   ],
   "source": [
    "function is_vcrelax(qe_output_filename::String)\n",
    "    if occursin(\"vc-relax\", qe_output_filename)\n",
    "        return true\n",
    "    else\n",
    "        return false\n",
    "    end\n",
    "end\n",
    "\n",
    "function check_if_converged(lines::Array{String,1})\n",
    "    for line in lines\n",
    "        if occursin(\"bfgs converged in\", line)\n",
    "            return true\n",
    "        end\n",
    "    end\n",
    "    return false\n",
    "end\n",
    "\n",
    "function find_calculation_end(lines::Array{String,1})\n",
    "    start_coords = 0\n",
    "    # determine if the calculation converged\n",
    "    bfgs_conv = check_if_converged(lines) \n",
    "    for line in lines\n",
    "        start_coords += 1        \n",
    "        if bfgs_conv && occursin(\"Begin final coordinates\", line)\n",
    "            return start_coords \n",
    "        elseif !bfgs_conv && occursin(\"End of BFGS Geometry Optimization\", line)\n",
    "            return start_coords\n",
    "        end\n",
    "    end\n",
    "#     @error \"Could not locate the end of the BFGS calculation.\"\n",
    "end\n",
    "\n",
    "function exchange_correlation_type(lines::Array{String,1})\n",
    "    for line in lines\n",
    "        if occursin(\"Exchange-correlation\", line)\n",
    "            return split(line)[2]\n",
    "        end\n",
    "    end\n",
    "end\n",
    "\n",
    "function find_atomic_positions(lines::Array{String,1})\n",
    "    start_ind = find_calculation_end(lines)\n",
    "    for line in lines[start_ind:end]\n",
    "        if occursin(\"ATOMIC_POSITIONS\", line)\n",
    "            return start_ind\n",
    "        else \n",
    "            start_ind += 1\n",
    "        end\n",
    "    end\n",
    "end\n",
    "\n",
    "function find_no_atoms(lines::Array{String,1})\n",
    "    for line in lines\n",
    "        if occursin(\"number of atoms/cell\", line)\n",
    "            return parse(Int64, split(line)[5])\n",
    "        end\n",
    "    end\n",
    "end\n",
    "\n",
    "function read_coords(lines::Array{String,1})\n",
    "    n_atoms = find_no_atoms(lines)\n",
    "    xf = zeros(3, n_atoms)\n",
    "    species = [:blah for i = 1:n_atoms]\n",
    "    start_coords = find_atomic_positions(lines)\n",
    "    for a = 1:n_atoms\n",
    "        line = split(lines[start_coords+a])\n",
    "        species[a] = Symbol(line[1])\n",
    "        for c = 1:3\n",
    "            xf[c, a] = parse(Float64, line[1+c])\n",
    "        end\n",
    "    end\n",
    "    return species, xf\n",
    "end\n",
    "\n",
    "function read_lattice_parameter(lines::Array{String,1}, start_ind::Int)\n",
    "    for line in lines[start_ind:end]\n",
    "        if occursin(\"lattice parameter\", line)\n",
    "            # Bohr to Angstrom\n",
    "            return parse(Float64, split(line)[5]) * 0.529177\n",
    "        end\n",
    "    end\n",
    "end\n",
    "\n",
    "function read_box(lines::Array{String,1}, start_ind::Int)\n",
    "    # find start of box info\n",
    "    box_start = start_ind - 1\n",
    "    for line in lines[start_ind:end]\n",
    "        box_start += 1\n",
    "        if occursin(\"crystal axes\", line)\n",
    "            break\n",
    "        end\n",
    "    end \n",
    "    f_to_c = zeros(3, 3)\n",
    "    for i = 1:3\n",
    "        for j = 1:3\n",
    "            f_to_c[i, j] = parse(Float64, split(lines[box_start+j])[3+i])\n",
    "        end\n",
    "    end\n",
    "    \n",
    "    # scale by lattice params\n",
    "    return f_to_c * read_lattice_parameter(lines, start_ind)\n",
    "end\n",
    "\n",
    "function read_unitcell_volume(lines::Array{String,1}, start_ind::Int)\n",
    "    for line in lines[start_ind:end]\n",
    "        if occursin(\"unit-cell volume\", line)\n",
    "            if occursin(\"new\", line)\n",
    "                return parse(Float64, split(line)[5]) * 0.529177 ^ 3 # Bohr to Angstro\n",
    "            else\n",
    "                return parse(Float64, split(line)[4]) * 0.529177 ^ 3 # Bohr to Angstrom\n",
    "            end\n",
    "        end\n",
    "    end\n",
    "end"
   ]
  },
  {
   "cell_type": "code",
   "execution_count": 4,
   "metadata": {},
   "outputs": [
    {
     "data": {
      "text/plain": [
       "qe_output_to_cif (generic function with 1 method)"
      ]
     },
     "execution_count": 4,
     "metadata": {},
     "output_type": "execute_result"
    }
   ],
   "source": [
    "function qe_output_to_cif(qe_output_filename::String)\n",
    "    # read in lines of QE output file\n",
    "    qe_file = open(qe_output_filename)\n",
    "    lines = readlines(qe_file)\n",
    "    close(qe_file)\n",
    "    \n",
    "    # check to see if the simulation converged\n",
    "    if !check_if_converged(lines)\n",
    "        @warn qe_output_filename * \", BFGS did not fully converge!\"\n",
    "    end\n",
    "    \n",
    "    # where to find data changes for different \n",
    "    # types of calculations\n",
    "    if is_vcrelax(qe_output_filename)\n",
    "        start_line = find_calculation_end(lines)\n",
    "    else\n",
    "        start_line = 1\n",
    "    end\n",
    "    \n",
    "    # read species and coords\n",
    "    species, xf = read_coords(lines)\n",
    "    atoms = Atoms(species, Frac(xf))\n",
    "\n",
    "    # read unit cell info\n",
    "    f_to_c = read_box(lines, start_line)\n",
    "    box = Box(f_to_c)\n",
    "    \n",
    "    # assert unit cell volume same as determinant of f to c matrix\n",
    "    @assert isapprox(read_unitcell_volume(lines, start_line), det(f_to_c), atol=0.2)\n",
    "    \n",
    "    exchange_type = exchange_correlation_type(lines)\n",
    "    \n",
    "    crytal_name = String(split(qe_output_filename, ('/', '.'))[end - 1])  \n",
    "    \n",
    "    return Crystal(crytal_name, box, atoms, Charges{Frac}(0))\n",
    "end"
   ]
  },
  {
   "cell_type": "code",
   "execution_count": 5,
   "metadata": {},
   "outputs": [
    {
     "data": {
      "text/plain": [
       "14-element Array{String,1}:\n",
       " \"C-3CH3\"       \n",
       " \"CH2-CH2-CH3\"  \n",
       " \"CH2-CH3\"      \n",
       " \"CH2-NH2\"      \n",
       " \"CH-CH2\"       \n",
       " \"CH-S\"         \n",
       " \"N-2CH3\"       \n",
       " \"O-CH2-CH2-CH3\"\n",
       " \"O-CH3\"        \n",
       " \"O-CH2-CH3\"    \n",
       " \"P-2CH3\"       \n",
       " \"PH2\"          \n",
       " \"S-CH3\"        \n",
       " \"SH\"           "
      ]
     },
     "execution_count": 5,
     "metadata": {},
     "output_type": "execute_result"
    }
   ],
   "source": [
    "fragment_list = [\n",
    "#     \"Br\",\n",
    "    \"C-3CH3\",\n",
    "#     \"C-C\",\n",
    "    \"CH2-CH2-CH3\",\n",
    "#     \"CH2-CH3\",\n",
    "#     \"CH2-NH2\",\n",
    "#     \"CH3\",\n",
    "#     \"CH-CH2\",\n",
    "#     \"CH-O\",\n",
    "#     \"CH-S\",\n",
    "#     \"Cl\",\n",
    "#     \"C-N\",\n",
    "#     \"F\",\n",
    "    \"N-2CH3\",\n",
    "#     \"N-C-O\",\n",
    "#     \"NH2\",\n",
    "#     \"N-NH\",\n",
    "    \"O-CH2-CH2-CH3\",\n",
    "    \"O-CH2-CH3\"\n",
    "#     \"O-CH3\",\n",
    "#     \"O-C-N\",\n",
    "#     \"OH\",\n",
    "#     \"O-OH\",\n",
    "#     \"P-2CH3\",\n",
    "#     \"PH2\",\n",
    "#     \"S-CH3\",\n",
    "#     \"SH\"\n",
    "]\n",
    "\n",
    "fragments_with_overlap = [\"C-3CH3\", \"CH2-CH2-CH3\", \"CH2-CH3\",\"CH2-NH2\",\n",
    "                          \"CH-CH2\", \"CH-S\", \"N-2CH3\", \"O-CH2-CH2-CH3\",\n",
    "                          \"O-CH3\", \"O-CH2-CH3\", \"P-2CH3\", \"PH2\", \n",
    "                          \"S-CH3\", \"SH\"]\n",
    "\n",
    "# The type of Arene Substitution (\"ortho\", \"meta\", \"all\") \n",
    "# TODO: \"all\" not yet implimented\n",
    "# substitution_types = [\"meta\", \"ortho\"] #\"meta\""
   ]
  },
  {
   "cell_type": "code",
   "execution_count": 6,
   "metadata": {},
   "outputs": [
    {
     "name": "stdout",
     "output_type": "stream",
     "text": [
      "NiPyC2_relax_sc211_meta_functionalized_C-3CH3_pbesol_relax_frozen_parent_atoms\n",
      "NiPyC2_relax_sc211_meta_functionalized_CH2-CH2-CH3_pbesol_relax_frozen_parent_atoms\n"
     ]
    },
    {
     "name": "stderr",
     "output_type": "stream",
     "text": [
      "┌ Warning: /home/ng/DTRA/structural_relaxation/QE_relaxation_results/pbesol_relax/NiPyC2_relax_sc211_meta_functionalized_CH2-CH2-CH3_pbesol_relax_frozen_parent_atoms.out, BFGS did not fully converge!\n",
      "└ @ Main In[4]:9\n"
     ]
    },
    {
     "name": "stdout",
     "output_type": "stream",
     "text": [
      "NiPyC2_relax_sc211_meta_functionalized_N-2CH3_pbesol_relax_frozen_parent_atoms\n",
      "NiPyC2_relax_sc211_meta_functionalized_O-CH2-CH2-CH3_pbesol_relax_frozen_parent_atoms\n",
      "NiPyC2_relax_sc211_meta_functionalized_O-CH2-CH3_pbesol_relax_frozen_parent_atoms\n"
     ]
    }
   ],
   "source": [
    "substitution_type = [\"meta\"] # options: \"meta\", ortho\"\n",
    "\n",
    "parent_mof = \"NiPyC2_relax_sc211\"\n",
    "\n",
    "exchange_correlation = \"pbesol\"\n",
    "calc_type = \"relax\"\n",
    "#####\n",
    "# flag to determine whether xtals are going though a second stage of relaxation\n",
    "#####\n",
    "finished_second_round = false\n",
    "\n",
    "\n",
    "for fg in fragment_list\n",
    "    # if the fragment has overlapping atoms with the parent mof,\n",
    "    # the filenames were flagged with a comment \"_frozen_parent_atoms\"\n",
    "    if fg in fragments_with_overlap\n",
    "        comment = \"_frozen_parent_atoms\"\n",
    "        if finished_second_round\n",
    "            comment = comment * \"_Round2\"\n",
    "        end\n",
    "    else\n",
    "        comment = \"\"\n",
    "    end\n",
    "    # loop over the substitution types\n",
    "    for sub_type in substitution_type\n",
    "        qe_output_filename = joinpath(pwd(), \"QE_relaxation_results\", \n",
    "            exchange_correlation * \"_\" * calc_type,\n",
    "            parent_mof * \"_\" * sub_type * \"_functionalized_\" * fg *\n",
    "            \"_\" * exchange_correlation * \"_\" * calc_type * comment * \".out\")\n",
    "        \n",
    "        print(split(qe_output_filename, ('/', '.'))[end - 1], \"\\n\")\n",
    "\n",
    "        xtal = qe_output_to_cif(qe_output_filename)\n",
    "\n",
    "        strip_numbers_from_atom_labels!(xtal)\n",
    "\n",
    "        write_cif(xtal, joinpath(pwd(), \"post-relaxation_cifs\",\n",
    "                xtal.name))\n",
    "        \n",
    "        write_xyz(Cart(xtal.atoms, xtal.box), joinpath(pwd(), \"post-relaxation_cifs\",\n",
    "                xtal.name)) \n",
    "    end\n",
    "end"
   ]
  },
  {
   "cell_type": "code",
   "execution_count": 7,
   "metadata": {},
   "outputs": [],
   "source": [
    "# # check a file to varify output\n",
    "# @eval PorousMaterials PATH_TO_CRYSTALS = joinpath(pwd(), \"post-relaxation_cifs\")\n",
    "\n",
    "# crys = Crystal(\"NiPyC2_relax_sc211_meta_functionalized_NH2_pbesol_relax.cif\")\n",
    "# strip_numbers_from_atom_labels!(crys)\n",
    "# crys"
   ]
  }
 ],
 "metadata": {
  "@webio": {
   "lastCommId": null,
   "lastKernelId": null
  },
  "kernelspec": {
   "display_name": "Julia 1.3.1",
   "language": "julia",
   "name": "julia-1.3"
  },
  "language_info": {
   "file_extension": ".jl",
   "mimetype": "application/julia",
   "name": "julia",
   "version": "1.3.1"
  }
 },
 "nbformat": 4,
 "nbformat_minor": 4
}
