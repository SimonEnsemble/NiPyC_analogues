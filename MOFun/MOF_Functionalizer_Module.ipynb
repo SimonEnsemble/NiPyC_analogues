{
 "cells": [
  {
   "cell_type": "code",
   "execution_count": 3,
   "metadata": {},
   "outputs": [
    {
     "data": {
      "text/plain": [
       "5-element Array{String,1}:\n",
       " \"@\"                                                                  \n",
       " \"@v#.#\"                                                              \n",
       " \"@stdlib\"                                                            \n",
       " \"/home/ng/Documents/Graduate_Research/Cory_Simon/DTRA/MOFun/MOFun\"   \n",
       " \"/home/ng/Documents/Graduate_Research/Cory_Simon/DTRA/MOFun/MOFun.jl\""
      ]
     },
     "execution_count": 3,
     "metadata": {},
     "output_type": "execute_result"
    }
   ],
   "source": [
    "push!(LOAD_PATH, joinpath(pwd(), \"MOFun.jl\"))"
   ]
  },
  {
   "cell_type": "code",
   "execution_count": 4,
   "metadata": {},
   "outputs": [
    {
     "ename": "ArgumentError",
     "evalue": "ArgumentError: Package MOFun not found in current path:\n- Run `import Pkg; Pkg.add(\"MOFun\")` to install the MOFun package.\n",
     "output_type": "error",
     "traceback": [
      "ArgumentError: Package MOFun not found in current path:\n- Run `import Pkg; Pkg.add(\"MOFun\")` to install the MOFun package.\n",
      "",
      "Stacktrace:",
      " [1] require(::Module, ::Symbol) at ./loading.jl:887",
      " [2] top-level scope at In[4]:1"
     ]
    }
   ],
   "source": [
    "using MOFun"
   ]
  },
  {
   "cell_type": "code",
   "execution_count": null,
   "metadata": {},
   "outputs": [],
   "source": []
  }
 ],
 "metadata": {
  "kernelspec": {
   "display_name": "Julia 1.3.1",
   "language": "julia",
   "name": "julia-1.3"
  },
  "language_info": {
   "file_extension": ".jl",
   "mimetype": "application/julia",
   "name": "julia",
   "version": "1.3.1"
  }
 },
 "nbformat": 4,
 "nbformat_minor": 4
}
