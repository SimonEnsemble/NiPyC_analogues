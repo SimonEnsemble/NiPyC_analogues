{
 "cells": [
  {
   "cell_type": "code",
   "execution_count": 1,
   "metadata": {},
   "outputs": [
    {
     "name": "stderr",
     "output_type": "stream",
     "text": [
      "┌ Info: Precompiling PorousMaterials [68953c7c-a3c7-538e-83d3-73516288599e]\n",
      "└ @ Base loading.jl:1273\n",
      "WARNING: Method definition vec(Number) in module FiniteDiff at /home/ng/.julia/packages/FiniteDiff/zeWoZ/src/jacobians.jl:114 overwritten in module DiffEqDiffTools at /home/ng/.julia/packages/DiffEqDiffTools/3mm8U/src/jacobians.jl:114.\n",
      "  ** incremental compilation may be fatally broken for this module **\n",
      "\n",
      "┌ Warning: Package PorousMaterials does not have Test in its dependencies:\n",
      "│ - If you have PorousMaterials checked out for development and have\n",
      "│   added Test as a dependency but haven't updated your primary\n",
      "│   environment's manifest file, try `Pkg.resolve()`.\n",
      "│ - Otherwise you may need to report an issue with PorousMaterials\n",
      "└ Loading Test into PorousMaterials from project dependency, future warnings for PorousMaterials are suppressed.\n"
     ]
    }
   ],
   "source": [
    "using PorousMaterials\n",
    "using LightGraphs\n",
    "using GraphPlot\n",
    "using Printf"
   ]
  },
  {
   "cell_type": "code",
   "execution_count": 2,
   "metadata": {},
   "outputs": [
    {
     "data": {
      "text/plain": [
       "\"/home/ng/Documents/Graduate_Research/Cory_Simon/DTRA\""
      ]
     },
     "execution_count": 2,
     "metadata": {},
     "output_type": "execute_result"
    }
   ],
   "source": [
    "@eval PorousMaterials PATH_TO_CRYSTALS = pwd()"
   ]
  },
  {
   "cell_type": "code",
   "execution_count": 3,
   "metadata": {
    "scrolled": true
   },
   "outputs": [
    {
     "name": "stderr",
     "output_type": "stream",
     "text": [
      "┌ Warning: Framework NiPyC2.cif has Pn space group. We are converting it to P1 symmetry for use in molecular simulations.\n",
      "│         To afrain from this, pass `convert_to_p1=false` to the `Framework` constructor.\n",
      "└ @ PorousMaterials /home/ng/.julia/dev/PorousMaterials/src/Crystal.jl:438\n"
     ]
    }
   ],
   "source": [
    "# for viz\n",
    "f = Framework(\"NiPyC2.cif\")\n",
    "strip_numbers_from_atom_labels!(f)\n",
    "f = replicate(f, (3,3,3))\n",
    "write_xyz(f, \"NiPyC2_supercell.xyz\")"
   ]
  },
  {
   "cell_type": "code",
   "execution_count": 4,
   "metadata": {},
   "outputs": [
    {
     "name": "stderr",
     "output_type": "stream",
     "text": [
      "┌ Warning: Framework NiPyC2.cif has Pn space group. We are converting it to P1 symmetry for use in molecular simulations.\n",
      "│         To afrain from this, pass `convert_to_p1=false` to the `Framework` constructor.\n",
      "└ @ PorousMaterials /home/ng/.julia/dev/PorousMaterials/src/Crystal.jl:438\n"
     ]
    },
    {
     "name": "stdout",
     "output_type": "stream",
     "text": [
      "Saving bond information for framework NiPyC2.cif to /home/ng/Documents/Graduate_Research/Cory_Simon/DTRA/NiPyC2_bonds.vtk.\n"
     ]
    }
   ],
   "source": [
    "# for bonds\n",
    "f=Framework(\"NiPyC2.cif\")\n",
    "strip_numbers_from_atom_labels!(f)\n",
    "write_xyz(f)\n",
    "infer_bonds!(f, false)\n",
    "write_bond_information(f, \"NiPyC2_bonds.vtk\")"
   ]
  },
  {
   "cell_type": "code",
   "execution_count": 5,
   "metadata": {
    "scrolled": false
   },
   "outputs": [
    {
     "name": "stdout",
     "output_type": "stream",
     "text": [
      "bond between atom 2 (O) and atom 27 (C)\n",
      "bond between atom 3 (O) and atom 26 (C)\n",
      "bond between atom 6 (N) and atom 17 (C)\n",
      "bond between atom 6 (N) and atom 19 (C)\n",
      "bond between atom 7 (N) and atom 15 (C)\n",
      "bond between atom 7 (N) and atom 21 (C)\n",
      "bond between atom 8 (C) and atom 9 (H)\n",
      "bond between atom 8 (C) and atom 10 (C)\n",
      "bond between atom 8 (C) and atom 17 (C)\n",
      "bond between atom 10 (C) and atom 11 (C)\n",
      "bond between atom 11 (C) and atom 19 (C)\n",
      "bond between atom 13 (C) and atom 14 (H)\n",
      "bond between atom 13 (C) and atom 15 (C)\n",
      "bond between atom 13 (C) and atom 25 (C)\n",
      "bond between atom 15 (C) and atom 16 (H)\n",
      "bond between atom 17 (C) and atom 18 (H)\n",
      "bond between atom 19 (C) and atom 20 (H)\n",
      "bond between atom 21 (C) and atom 22 (H)\n",
      "bond between atom 21 (C) and atom 23 (C)\n",
      "bond between atom 23 (C) and atom 25 (C)\n",
      "bond between atom 25 (C) and atom 27 (C)\n",
      "bond between atom 29 (O) and atom 54 (C)\n",
      "bond between atom 30 (O) and atom 53 (C)\n",
      "bond between atom 33 (N) and atom 44 (C)\n",
      "bond between atom 33 (N) and atom 46 (C)\n",
      "bond between atom 34 (N) and atom 42 (C)\n",
      "bond between atom 34 (N) and atom 48 (C)\n",
      "bond between atom 35 (C) and atom 36 (H)\n",
      "bond between atom 35 (C) and atom 37 (C)\n",
      "bond between atom 35 (C) and atom 44 (C)\n",
      "bond between atom 37 (C) and atom 38 (C)\n",
      "bond between atom 38 (C) and atom 46 (C)\n",
      "bond between atom 40 (C) and atom 41 (H)\n",
      "bond between atom 40 (C) and atom 42 (C)\n",
      "bond between atom 40 (C) and atom 52 (C)\n",
      "bond between atom 42 (C) and atom 43 (H)\n",
      "bond between atom 44 (C) and atom 45 (H)\n",
      "bond between atom 46 (C) and atom 47 (H)\n",
      "bond between atom 48 (C) and atom 49 (H)\n",
      "bond between atom 48 (C) and atom 50 (C)\n",
      "bond between atom 50 (C) and atom 52 (C)\n",
      "bond between atom 52 (C) and atom 54 (C)\n"
     ]
    }
   ],
   "source": [
    "# iterate thru grpahs and print out all of the bonds\n",
    "for ed in edges(f.bonds)\n",
    "    @printf(\"bond between atom %d (%s) and atom %d (%s)\\n\",\n",
    "        ed.src,\n",
    "        f.atoms.species[ed.src],\n",
    "        ed.dst,\n",
    "        f.atoms.species[ed.dst])\n",
    "end"
   ]
  },
  {
   "cell_type": "code",
   "execution_count": 6,
   "metadata": {},
   "outputs": [
    {
     "data": {
      "text/plain": [
       "0-element Array{Any,1}"
      ]
     },
     "execution_count": 6,
     "metadata": {},
     "output_type": "execute_result"
    }
   ],
   "source": [
    "# get ids of N atoms\n",
    "ids_N = [i for i = 1:f.atoms.n_atoms][f.atoms.species .== :N]\n",
    "\n",
    "# find carbon's attached to the N's (these are the \"ortho\" carbons)\n",
    "ids_neighbors = []\n",
    "ids_C_aro_ortho = []\n",
    "ids_C_aro_meta = []"
   ]
  },
  {
   "cell_type": "code",
   "execution_count": 22,
   "metadata": {},
   "outputs": [
    {
     "name": "stdout",
     "output_type": "stream",
     "text": [
      "17 -> 8\n",
      "19 -> 11\n",
      "15 -> 13\n",
      "21 -> 23\n",
      "44 -> 35\n",
      "46 -> 38\n",
      "42 -> 40\n",
      "48 -> 50\n"
     ]
    }
   ],
   "source": [
    "# look at a particular N\n",
    "# look at each C in its neighbors\n",
    "# look at all of the bonds in the grapph\n",
    "# determine wich C's are bonded to which N's\n",
    "# store them as a pair\n",
    "for kk = 1:length(ids_N)\n",
    "    id_N = ids_N[kk]\n",
    "    # get the neighbors of these N's\n",
    "    ids_neighbors = neighbors(f.bonds, id_N)\n",
    "    for id in ids_neighbors\n",
    "        @assert f.atoms.species[id] == :C\n",
    "        ids_meta_n = neighbors(f.bonds, id)\n",
    "        for id_meta in ids_meta_n\n",
    "            if f.atoms.species[id_meta] == :C\n",
    "                print(id, \" -> \", id_meta, \"\\n\")\n",
    "            end\n",
    "        end\n",
    "    end\n",
    "    push!(ids_C_aro_ortho,[id_N, ids_neighbors])\n",
    "end"
   ]
  },
  {
   "cell_type": "code",
   "execution_count": 8,
   "metadata": {},
   "outputs": [
    {
     "data": {
      "text/plain": [
       "4-element Array{Any,1}:\n",
       " Any[6, [17, 19]] \n",
       " Any[7, [15, 21]] \n",
       " Any[33, [44, 46]]\n",
       " Any[34, [42, 48]]"
      ]
     },
     "execution_count": 8,
     "metadata": {},
     "output_type": "execute_result"
    }
   ],
   "source": [
    "ids_C_aro_ortho"
   ]
  },
  {
   "cell_type": "code",
   "execution_count": 9,
   "metadata": {},
   "outputs": [
    {
     "name": "stdout",
     "output_type": "stream",
     "text": [
      " 6 -> 17 and 19 \n",
      " 7 -> 15 and 21 \n",
      " 33 -> 44 and 46 \n",
      " 34 -> 42 and 48 \n"
     ]
    }
   ],
   "source": [
    "for kk = 1:length(ids_N)\n",
    "    id_N = ids_N[kk]\n",
    "    ids_neighbors = neighbors(f.bonds, id_N)\n",
    "    @printf(\" %d -> %d and %d \\n\",id_N, ids_neighbors[1], ids_neighbors[2])\n",
    "end"
   ]
  },
  {
   "cell_type": "code",
   "execution_count": 11,
   "metadata": {},
   "outputs": [],
   "source": [
    "# case for ortho-sub\n",
    "# case for meta-sub\n",
    "# case for all-sub\n",
    "# case error no-sub"
   ]
  },
  {
   "cell_type": "code",
   "execution_count": null,
   "metadata": {},
   "outputs": [],
   "source": []
  }
 ],
 "metadata": {
  "kernelspec": {
   "display_name": "Julia 1.3.0",
   "language": "julia",
   "name": "julia-1.3"
  },
  "language_info": {
   "file_extension": ".jl",
   "mimetype": "application/julia",
   "name": "julia",
   "version": "1.3.0"
  }
 },
 "nbformat": 4,
 "nbformat_minor": 2
}
