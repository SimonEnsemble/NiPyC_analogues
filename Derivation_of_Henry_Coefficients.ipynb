{
 "cells": [
  {
   "cell_type": "markdown",
   "metadata": {},
   "source": [
    "# Henry Coefficients: A quick derivation and a practical application\n"
   ]
  },
  {
   "cell_type": "markdown",
   "metadata": {},
   "source": [
    "## Grand Canonical Ensemble \n",
    "\n",
    "The Grand Canonical Enselble is often refered to as the $\\mu VT$ Ensemble since the chemical potential ($\\mu$), volume (V), and temperature (T) are the thermodynamic state variables that do not change. The quantities that are allowed to fluctuate in this system are the number of particles (N) and the internal energ of the system (E) which are governed by $\\beta \\mu$ and $\\beta$ respectively. Here $\\beta$ follows the standard definition of $\\beta= \\frac{1}{k_BT}$"
   ]
  },
  {
   "cell_type": "markdown",
   "metadata": {},
   "source": [
    "### Microstates and the Partition Function\n",
    "\n",
    "(why are we neglecting the momentum)\n",
    "\n",
    "We define a microstate by the number of particles, their positions, and their momentums: \n",
    "$$\\nu= (N, \\vec{x}_1, \\vec{x}_2, ..., \\vec{x}_N, \\vec{p}_1, \\vec{p}_2, ..., \\vec{p}_N) = (N, \\vec{x}^{(N)}, \\vec{p}^{(N)})$$ \n",
    "where $\\vec{x}_i$ and $\\vec{p}_i$ are Cartesian vectors of length 3. \n",
    "\n",
    "The partition function, which acts as a normalization factor and accounts for all of the possible microstates the system can take on, is:\n",
    "$$ \\Xi (\\mu, V, T) = \\sum_{\\nu} {e^{ \\beta [\\mu N_{\\nu} - E_{\\nu} ]}} $$\n",
    "\n",
    "Now, we can expand this expression as follows:\n",
    "$$ \\Xi (\\mu, V, T) = \\sum_{N=0}^{\\infty}{e^{\\beta \\mu N} \\prod_{i=0}^{N}{\\int_{\\Omega} x_i^2 \\,d\\vec{x}_i}} $$\n",
    "\n",
    "recall: $\\vec{p}=(\\frac{h}{\\Lambda})^3$ for a given temperature T, where h is Plank's Constant."
   ]
  },
  {
   "cell_type": "markdown",
   "metadata": {},
   "source": []
  },
  {
   "cell_type": "markdown",
   "metadata": {},
   "source": [
    "To get the Henry Coefficient, we must consider dilute conditions (i.e. $N = 0, 1$) which trucates our partition function\n",
    "$$ \\Xi = 1 + e^{\\beta \\mu} \\Omega^{-3} \\int_{\\Omega} e^{-\\beta E(\\vec{x})} \\,d\\vec{x} $$\n",
    "\n",
    "This turns our expectation value for N into:\n",
    "$$ \\langle N \\rangle = \\frac{e^{\\beta \\mu} \\Omega^{-3} \\int_{\\Omega} e^{-\\beta E(\\vec{x})} \\,d\\vec{x}}{1 + e^{\\beta \\mu} \\Omega^{-3} \\int_{\\Omega} e^{-\\beta E(\\vec{x})} \\,d\\vec{x}} $$\n",
    "\n",
    "Now, notice that, if we are clever about how we multiply by 1, we find the expression for the Pressure of an idea gas ($P_{id.gas} = \\frac{e^{\\beta \\mu}}{\\beta \\Lambda^3}$) in the numerator\n",
    "\n",
    "Leaving us with the $ \\langle N \\rangle \\approx HP $ "
   ]
  },
  {
   "cell_type": "markdown",
   "metadata": {},
   "source": [
    "## Calculating the Selectivity of a Two-component, Non-interacting Gaseous Mixture\n",
    "\n",
    "Assume you have a binary ideal gas mixture containing the partial pressures: $p_1$ of $g_1$ and $p_2$ of $g_2$ in a unit cell $\\Omega$ \n",
    "\n",
    "The selectivity turns out to be the ratio of the Henry coefficients. \n",
    "$$ S_{G_1/G_2} = \\frac{H_{G_1}}{H_{G_2}} $$"
   ]
  },
  {
   "cell_type": "markdown",
   "metadata": {},
   "source": [
    "## References \n",
    "1. Intro to Statistical Physics by Salinas\n",
    "2. Understanding Molecular Simulation "
   ]
  }
 ],
 "metadata": {
  "kernelspec": {
   "display_name": "Julia 1.6.0",
   "language": "julia",
   "name": "julia-1.6"
  },
  "language_info": {
   "file_extension": ".jl",
   "mimetype": "application/julia",
   "name": "julia",
   "version": "1.6.0"
  }
 },
 "nbformat": 4,
 "nbformat_minor": 4
}
