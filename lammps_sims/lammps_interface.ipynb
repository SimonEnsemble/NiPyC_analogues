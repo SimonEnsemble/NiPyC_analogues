{
 "cells": [
  {
   "cell_type": "code",
   "execution_count": 1,
   "metadata": {},
   "outputs": [],
   "source": [
    "from lammps_interface.lammps_main import LammpsSimulation\n",
    "from lammps_interface.structure_data import from_CIF, write_CIF"
   ]
  },
  {
   "cell_type": "code",
   "execution_count": 2,
   "metadata": {},
   "outputs": [],
   "source": [
    "class Parameters:\n",
    "    def __init__(self, cif):\n",
    "        # File options\n",
    "        self.cif_file = cif\n",
    "        self.output_cif = False\n",
    "        self.output_raspa = False\n",
    "\n",
    "        # Force field options\n",
    "        self.force_field = 'UFF'\n",
    "        self.mol_ff = None\n",
    "        self.h_bonding = False\n",
    "        self.dreid_bond_type = 'harmonic'\n",
    "        self.fix_metal = False\n",
    "        \n",
    "        # Simulation options\n",
    "        self.minimize = False\n",
    "        self.bulk_moduli = False\n",
    "        self.thermal_scaling = False\n",
    "        self.npt = False\n",
    "        self.nvt = False\n",
    "        self.cutoff = 12.5\n",
    "        self.replication = None\n",
    "        self.orthogonalize = False\n",
    "        self.random_vel = False\n",
    "        self.dump_dcd = 0\n",
    "        self.dump_xyz = 0\n",
    "        self.dump_lammpstrj = 0\n",
    "        self.restart = False\n",
    "        \n",
    "        # Parameter options\n",
    "        self.tol = 0.4\n",
    "        self.neighbour_size = 5\n",
    "        self.iter_count = 10\n",
    "        self.max_dev = 0.01\n",
    "        self.temp = 298.0\n",
    "        self.pressure = 1.0\n",
    "        self.nprodstp = 200000\n",
    "        self.neqstp = 200000\n",
    "        \n",
    "        # Molecule insertion options\n",
    "        self.insert_molecule = \"\"\n",
    "        self.deposit = 0\n",
    "        \n",
    "    def show(self):\n",
    "        for v in vars(self):\n",
    "            print('%-15s: %s' % (v, getattr(self, v)))"
   ]
  },
  {
   "cell_type": "code",
   "execution_count": null,
   "metadata": {},
   "outputs": [],
   "source": [
    "par = Parameters('../test_struct/IRMOF-1.cif')\n",
    "par.show()"
   ]
  },
  {
   "cell_type": "code",
   "execution_count": null,
   "metadata": {},
   "outputs": [],
   "source": [
    "sim = LammpsSimulation(par)\n",
    "cell, graph = from_CIF(par.cif_file)\n",
    "sim.set_cell(cell)\n",
    "sim.set_graph(graph)\n",
    "sim.split_graph()\n",
    "sim.assign_force_fields()\n",
    "sim.compute_simulation_size()\n",
    "sim.merge_graphs()\n",
    "if par.output_cif:\n",
    "    print(\"CIF file requested. Exiting...\")\n",
    "    write_CIF(graph, cell)\n",
    "    sys.exit()\n",
    "\n",
    "sim.write_lammps_files()"
   ]
  },
  {
   "cell_type": "code",
   "execution_count": null,
   "metadata": {
    "collapsed": true,
    "jupyter": {
     "outputs_hidden": true
    }
   },
   "outputs": [],
   "source": [
    "# # The name of the fragment\n",
    "# # file must be a .xyz file located in ./fragments/\n",
    "# # The atom species that is bonded to the\n",
    "# # :C_aro_R atom on the ring segment of the Fragment\n",
    "# fragment_list = [\n",
    "# #     \"Br\",\n",
    "#     \"C-3CH3\",\n",
    "# #     \"C-C\",\n",
    "#     \"CH2-CH2-CH3\",\n",
    "#     \"CH2-CH3\",\n",
    "#     \"CH2-NH2\",\n",
    "# #     \"CH3\",\n",
    "#     \"CH-CH2\",\n",
    "# #     \"CH-O\",\n",
    "#     \"CH-S\",\n",
    "# #     \"Cl\",\n",
    "# #     \"C-N\",\n",
    "# #     \"F\",\n",
    "#     \"N-2CH3\",\n",
    "# #     \"N-C-O\",\n",
    "# #     \"NH2\",\n",
    "# #     \"N-NH\",\n",
    "#     \"O-CH2-CH2-CH3\",\n",
    "#     \"O-CH2-CH3\",\n",
    "#     \"O-CH3\",\n",
    "# #     \"O-C-N\",\n",
    "# #     \"OH\",\n",
    "# #     \"O-OH\",\n",
    "#     \"P-2CH3\",\n",
    "#     \"PH2\",\n",
    "#     \"S-CH3\",\n",
    "#     \"SH\"\n",
    "# ]\n",
    "\n",
    "\n",
    "# fragments_with_overlap = [\"C-3CH3\", \"CH2-CH2-CH3\", \"CH2-CH3\",\"CH2-NH2\",\n",
    "#                           \"CH-CH2\", \"CH-S\", \"N-2CH3\", \"O-CH2-CH2-CH3\",\n",
    "#                           \"O-CH2-CH3\", \"O-CH3\", \"P-2CH3\", \"PH2\", \n",
    "#                           \"S-CH3\", \"SH\"]\n",
    "\n",
    "# # The type of Arene Substitution (\"ortho\", \"meta\", \"all\") \n",
    "# # TODO: \"all\" not yet implimented\n",
    "# substitution_types = [\"meta\", \"ortho\"]"
   ]
  }
 ],
 "metadata": {
  "kernelspec": {
   "display_name": "Python 3",
   "language": "python",
   "name": "python3"
  },
  "language_info": {
   "codemirror_mode": {
    "name": "ipython",
    "version": 3
   },
   "file_extension": ".py",
   "mimetype": "text/x-python",
   "name": "python",
   "nbconvert_exporter": "python",
   "pygments_lexer": "ipython3",
   "version": "3.6.9"
  }
 },
 "nbformat": 4,
 "nbformat_minor": 4
}
