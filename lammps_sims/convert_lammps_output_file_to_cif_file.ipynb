{
 "cells": [
  {
   "cell_type": "code",
   "execution_count": 1,
   "metadata": {},
   "outputs": [],
   "source": [
    "using PorousMaterials"
   ]
  },
  {
   "cell_type": "code",
   "execution_count": 2,
   "metadata": {},
   "outputs": [],
   "source": [
    "# # location of origional crystal structures used for lammps sims\n",
    "# @eval PorousMaterials PATH_TO_CRYSTALS = joinpath(\"../mof_construction/NiPyC2_relax_sc211/\")"
   ]
  },
  {
   "cell_type": "markdown",
   "metadata": {},
   "source": [
    "**NOTE:** Helpful information about how \"BOX\" parameters are stored in the LAMMPS `*_restart.lammpstr` file can be found [here](https://lammps.sandia.gov/threads/msg10124.html)"
   ]
  },
  {
   "cell_type": "code",
   "execution_count": 3,
   "metadata": {},
   "outputs": [
    {
     "data": {
      "text/plain": [
       "lammps_output_to_crystal (generic function with 1 method)"
      ]
     },
     "execution_count": 3,
     "metadata": {},
     "output_type": "execute_result"
    }
   ],
   "source": [
    "function lammps_output_to_crystal(structurename::String)\n",
    "    filename = structurename * \"_restart.lammpstrj\"\n",
    "\n",
    "    lines = readlines(filename)\n",
    "\n",
    "    ###\n",
    "    #   get the Box\n",
    "    ###\n",
    "    # ITEM: BOX BOUNDS xy xz yz\n",
    "    # xlo_bound xhi_bound xy\n",
    "    # ylo_bound yhi_bound xz\n",
    "    # zlo_bound zhi_bound yz\n",
    "    xlo = parse(Float64, split(lines[6])[1])\n",
    "    xhi = parse(Float64, split(lines[6])[2])\n",
    "    xy = parse(Float64, split(lines[6])[3])\n",
    "\n",
    "    ylo = parse(Float64, split(lines[7])[1])\n",
    "    yhi = parse(Float64, split(lines[7])[2])\n",
    "    xz = parse(Float64, split(lines[7])[3])\n",
    "\n",
    "    zlo = parse(Float64, split(lines[8])[1])\n",
    "    zhi = parse(Float64, split(lines[8])[2])\n",
    "    yz = parse(Float64, split(lines[8])[3])\n",
    "\n",
    "    #>>> a = (xhi-xlo,0,0)\n",
    "    #>>> b = (xy,yhi-ylo,0)\n",
    "    #>>> c = (xz,yz,zhi-zlo)\n",
    "    a = [xhi - xlo, 0, 0]\n",
    "    b = [xy, yhi-ylo, 0]\n",
    "    c = [xz, yz, zhi-zlo]\n",
    "\n",
    "    f_to_c = [a b c]\n",
    "    box = Box(f_to_c)\n",
    "\n",
    "    ###\n",
    "    #  get number of atoms\n",
    "    ###\n",
    "    n_atoms = parse(Int, lines[4])\n",
    "\n",
    "    ###\n",
    "    #  get atom coords from xyz file\n",
    "    #   (not from LAMMPS output file b/c types are opaque)\n",
    "    ###\n",
    "    xyz_filename = structurename * \"_mov.xyz\"\n",
    "    run(pipeline(`tail -$(n_atoms+2) $xyz_filename`, \"temp.xyz\"))\n",
    "    atoms = read_xyz(\"temp.xyz\")\n",
    "    rm(\"temp.xyz\")\n",
    "    # x = zeros(3, n_atoms)\n",
    "    # for i = 1:n_atoms\n",
    "    #     x_i = split.(lines[9+i])[3:end]\n",
    "    #     for k = 1:3\n",
    "    #         x[k, i] = parse(Float64, x_i[k])\n",
    "    #     end\n",
    "    # end\n",
    "\n",
    "    ###\n",
    "    #  construct Crystal\n",
    "    ###\n",
    "    # Crystal(name::String, box::Box, atoms::Atoms{Frac}, charges::Charges{Frac})\n",
    "    return Crystal(structurename * \"_lammps\", box, Frac(atoms, box), Charges{Frac}(0))\n",
    "end\n",
    "\n",
    "# test if function works\n",
    "# structurename = \"NiPyC2_relax_sc211_meta_functionalized_C-3CH3\"\n",
    "\n",
    "# xtal = lammps_output_to_crystal(structurename)\n",
    "\n",
    "# # xtal = replicate(xtal, (2,2,2))\n",
    "# write_cif(xtal, structurename * \"_lammps.cif\")"
   ]
  },
  {
   "cell_type": "code",
   "execution_count": 4,
   "metadata": {},
   "outputs": [
    {
     "data": {
      "text/plain": [
       "2-element Array{String,1}:\n",
       " \"meta\"\n",
       " \"ortho\""
      ]
     },
     "execution_count": 4,
     "metadata": {},
     "output_type": "execute_result"
    }
   ],
   "source": [
    "# # The name of the fragment\n",
    "# # file must be a .xyz file located in ./fragments/\n",
    "# # The atom species that is bonded to the\n",
    "# # :C_aro_R atom on the ring segment of the Fragment\n",
    "fragments_with_overlap = [\"C-3CH3\", \"CH2-CH2-CH3\", \"CH2-CH3\",\"CH2-NH2\",\n",
    "                          \"CH-CH2\", \"CH-S\", \"N-2CH3\", \"O-CH2-CH2-CH3\",\n",
    "                          \"O-CH2-CH3\", \"O-CH3\", \"P-2CH3\", \"PH2\", \n",
    "                          \"S-CH3\", \"SH\"]\n",
    "\n",
    "# # The type of Arene Substitution (\"ortho\", \"meta\", \"all\") \n",
    "# # TODO: \"all\" not yet implimented\n",
    "substitution_types = [\"meta\", \"ortho\"]"
   ]
  },
  {
   "cell_type": "code",
   "execution_count": 6,
   "metadata": {},
   "outputs": [
    {
     "name": "stdout",
     "output_type": "stream",
     "text": [
      "/home/ng/DTRA/lammps_sims/C-3CH3\n",
      "NiPyC2_relax_sc211_meta_functionalized_C-3CH3_lammps\n",
      "NiPyC2_relax_sc211_ortho_functionalized_C-3CH3_lammps\n",
      "/home/ng/DTRA/lammps_sims/CH2-CH2-CH3\n",
      "NiPyC2_relax_sc211_meta_functionalized_CH2-CH2-CH3_lammps\n",
      "NiPyC2_relax_sc211_ortho_functionalized_CH2-CH2-CH3_lammps\n",
      "/home/ng/DTRA/lammps_sims/CH2-CH3\n",
      "NiPyC2_relax_sc211_meta_functionalized_CH2-CH3_lammps\n",
      "NiPyC2_relax_sc211_ortho_functionalized_CH2-CH3_lammps\n",
      "/home/ng/DTRA/lammps_sims/CH2-NH2\n",
      "NiPyC2_relax_sc211_meta_functionalized_CH2-NH2_lammps\n",
      "NiPyC2_relax_sc211_ortho_functionalized_CH2-NH2_lammps\n",
      "/home/ng/DTRA/lammps_sims/CH-CH2\n",
      "NiPyC2_relax_sc211_meta_functionalized_CH-CH2_lammps\n",
      "NiPyC2_relax_sc211_ortho_functionalized_CH-CH2_lammps\n",
      "/home/ng/DTRA/lammps_sims/CH-S\n",
      "NiPyC2_relax_sc211_meta_functionalized_CH-S_lammps\n",
      "NiPyC2_relax_sc211_ortho_functionalized_CH-S_lammps\n",
      "/home/ng/DTRA/lammps_sims/N-2CH3\n",
      "NiPyC2_relax_sc211_meta_functionalized_N-2CH3_lammps\n",
      "NiPyC2_relax_sc211_ortho_functionalized_N-2CH3_lammps\n",
      "/home/ng/DTRA/lammps_sims/O-CH2-CH2-CH3\n",
      "NiPyC2_relax_sc211_meta_functionalized_O-CH2-CH2-CH3_lammps\n",
      "NiPyC2_relax_sc211_ortho_functionalized_O-CH2-CH2-CH3_lammps\n",
      "/home/ng/DTRA/lammps_sims/O-CH2-CH3\n",
      "NiPyC2_relax_sc211_meta_functionalized_O-CH2-CH3_lammps\n",
      "NiPyC2_relax_sc211_ortho_functionalized_O-CH2-CH3_lammps\n",
      "/home/ng/DTRA/lammps_sims/O-CH3\n",
      "NiPyC2_relax_sc211_meta_functionalized_O-CH3_lammps\n",
      "NiPyC2_relax_sc211_ortho_functionalized_O-CH3_lammps\n",
      "/home/ng/DTRA/lammps_sims/P-2CH3\n",
      "NiPyC2_relax_sc211_meta_functionalized_P-2CH3_lammps\n",
      "NiPyC2_relax_sc211_ortho_functionalized_P-2CH3_lammps\n",
      "/home/ng/DTRA/lammps_sims/PH2\n",
      "NiPyC2_relax_sc211_meta_functionalized_PH2_lammps\n",
      "NiPyC2_relax_sc211_ortho_functionalized_PH2_lammps\n",
      "/home/ng/DTRA/lammps_sims/S-CH3\n",
      "NiPyC2_relax_sc211_meta_functionalized_S-CH3_lammps\n",
      "NiPyC2_relax_sc211_ortho_functionalized_S-CH3_lammps\n",
      "/home/ng/DTRA/lammps_sims/SH\n",
      "NiPyC2_relax_sc211_meta_functionalized_SH_lammps\n",
      "NiPyC2_relax_sc211_ortho_functionalized_SH_lammps\n"
     ]
    }
   ],
   "source": [
    "for fragment in fragments_with_overlap\n",
    "    # move into dir containing lammps sims of fragment\n",
    "    cd(fragment)\n",
    "    println(pwd())\n",
    "    for sub_type in substitution_types\n",
    "        structurename = \"NiPyC2_relax_sc211_\" * sub_type * \"_functionalized_\" * fragment\n",
    "        xtal = lammps_output_to_crystal(structurename)\n",
    "        write_cif(xtal, structurename * \"_lammps.cif\")\n",
    "        overlap_flag, overlap_pairs = overlap(xtal)\n",
    "        @assert !overlap_flag\n",
    "        strip_numbers_from_atom_labels!(xtal)\n",
    "        write_xyz(xtal)\n",
    "        println(xtal.name)\n",
    "    end\n",
    "    # move back into parent dir\n",
    "    cd(\"..\")\n",
    "    @assert pwd() == \"/home/ng/DTRA/lammps_sims\"\n",
    "end    "
   ]
  },
  {
   "cell_type": "code",
   "execution_count": 7,
   "metadata": {},
   "outputs": [],
   "source": [
    "# xtal.box\n",
    "# xtal.box.f_to_c"
   ]
  }
 ],
 "metadata": {
  "kernelspec": {
   "display_name": "Julia 1.4.2",
   "language": "julia",
   "name": "julia-1.4"
  },
  "language_info": {
   "file_extension": ".jl",
   "mimetype": "application/julia",
   "name": "julia",
   "version": "1.4.2"
  }
 },
 "nbformat": 4,
 "nbformat_minor": 2
}
