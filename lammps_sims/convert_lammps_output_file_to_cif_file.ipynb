{
 "cells": [
  {
   "cell_type": "code",
   "execution_count": 1,
   "metadata": {},
   "outputs": [],
   "source": [
    "using PorousMaterials\n",
    "using DataFrames\n",
    "using CSV"
   ]
  },
  {
   "cell_type": "code",
   "execution_count": 2,
   "metadata": {},
   "outputs": [],
   "source": [
    "# # location of origional crystal structures used for lammps sims\n",
    "# @eval PorousMaterials PATH_TO_CRYSTALS = joinpath(\"../mof_construction/NiPyC2_relax_sc211/\")\n",
    "# crystal = Crystal(\"NiPyC2_relax_sc211_meta_functionalized_CH2-CH2-CH3.cif\")"
   ]
  },
  {
   "cell_type": "code",
   "execution_count": 3,
   "metadata": {},
   "outputs": [],
   "source": [
    "# @eval PorousMaterials PATH_TO_CRYSTALS=joinpath(pwd(),\"../data/crystals\")\n",
    "# exp_crystal = Crystal(\"NiPyC2_experiment.cif\")"
   ]
  },
  {
   "cell_type": "code",
   "execution_count": 4,
   "metadata": {},
   "outputs": [],
   "source": [
    "# structurename = joinpath(\"CH2-CH3\", \"NiPyC2_relax_sc211_meta_functionalized_CH2-CH3\")\n",
    "# xtal_csv = CSV.read(structurename * \".min.csv\")"
   ]
  },
  {
   "cell_type": "markdown",
   "metadata": {},
   "source": [
    "**NOTE:** Helpful information about how \"BOX\" parameters are stored in the LAMMPS `*_restart.lammpstr` file can be found [here](https://lammps.sandia.gov/threads/msg10124.html)\n",
    "\n",
    "https://lammps.sandia.gov/doc/Howto_triclinic.html \n",
    "\n",
    "https://lammps.sandia.gov/threads/msg10114.html"
   ]
  },
  {
   "cell_type": "code",
   "execution_count": 5,
   "metadata": {},
   "outputs": [
    {
     "data": {
      "text/plain": [
       "lammps_output_to_crystal (generic function with 2 methods)"
      ]
     },
     "execution_count": 5,
     "metadata": {},
     "output_type": "execute_result"
    }
   ],
   "source": [
    "function lammps_output_to_crystal(structurename::String, box::Union{Box, Nothing}=nothing)\n",
    "    filename = structurename * \"_restart.lammpstrj\"\n",
    "\n",
    "    lines = readlines(filename)\n",
    "    \n",
    "    csv_filename = structurename * \".min.csv\"\n",
    "    xtal_csv = CSV.read(csv_filename)\n",
    "\n",
    "    ###\n",
    "    #   get the Box\n",
    "    ###\n",
    "    if isnothing(box)\n",
    "        println(\" Getting xtal box from lammps sim. \")\n",
    "#         # ITEM: BOX BOUNDS xy xz yz\n",
    "#         # xlo_bound xhi_bound xy\n",
    "#         # ylo_bound yhi_bound xz\n",
    "#         # zlo_bound zhi_bound yz\n",
    "#         xlo_bound = parse(Float64, split(lines[6])[1])\n",
    "#         xhi_bound = parse(Float64, split(lines[6])[2])\n",
    "#         xy        = parse(Float64, split(lines[6])[3])\n",
    "\n",
    "#         ylo_bound = parse(Float64, split(lines[7])[1])\n",
    "#         yhi_bound = parse(Float64, split(lines[7])[2])\n",
    "#         xz        = parse(Float64, split(lines[7])[3])\n",
    "\n",
    "#         zlo_bound = parse(Float64, split(lines[8])[1])\n",
    "#         zhi_bound = parse(Float64, split(lines[8])[2])\n",
    "#         yz        = parse(Float64, split(lines[8])[3])\n",
    "        \n",
    "#         # xlo_bound = xlo + MIN(0.0,xy,xz,xy+xz)\n",
    "#         # xhi_bound = xhi + MAX(0.0,xy,xz,xy+xz)\n",
    "#         # ylo_bound = ylo + MIN(0.0,yz)\n",
    "#         # yhi_bound = yhi + MAX(0.0,yz)\n",
    "#         # zlo_bound = zlo\n",
    "#         # zhi_bound = zhi\n",
    "#         xlo = xlo_bound - min(0.0, xy, xz, xy+xz)\n",
    "#         xhi = xhi_bound - max(0.0, xy, xz, xy+xz)\n",
    "#         ylo = ylo_bound - min(0.0, yz)\n",
    "#         yhi = yhi_bound - max(0.0, yz)\n",
    "#         zlo = zlo_bound\n",
    "#         zhi = zhi_bound\n",
    "\n",
    "#         #>>> a = (xhi-xlo, 0, 0)\n",
    "#         #>>> b = (xy, yhi-ylo, 0)\n",
    "#         #>>> c = (xz, yz, zhi-zlo)\n",
    "#         a = [xhi - xlo, 0, 0]\n",
    "#         b = [xy, yhi-ylo, 0]\n",
    "#         c = [xz, yz, zhi-zlo]\n",
    "\n",
    "#         f_to_c = [a b c]\n",
    "#         box = Box(f_to_c)\n",
    "        \n",
    "        # check that box dims are constant at each output\n",
    "        @assert all(xtal_csv[:, :vol] .== xtal_csv[1, :vol])\n",
    "        @assert all(xtal_csv[:, :lx]  .== xtal_csv[1, :lx])\n",
    "        @assert all(xtal_csv[:, :ly]  .== xtal_csv[1, :ly])\n",
    "        @assert all(xtal_csv[:, :lz]  .== xtal_csv[1, :lz])\n",
    "        @assert all(xtal_csv[:, :xy]  .== xtal_csv[1, :xy])\n",
    "        @assert all(xtal_csv[:, :xz]  .== xtal_csv[1, :xz])\n",
    "        @assert all(xtal_csv[:, :yz]  .== xtal_csv[1, :yz])\n",
    "\n",
    "        # assign lammps box variables\n",
    "        lx = xtal_csv[end , :lx]\n",
    "        ly = xtal_csv[end , :ly]\n",
    "        lz = xtal_csv[end , :lz]\n",
    "        xy = xtal_csv[end , :xy]\n",
    "        xz = xtal_csv[end , :xz]\n",
    "        yz = xtal_csv[end , :yz]\n",
    "        \n",
    "        # calculate lattice params\n",
    "        a = lx\n",
    "        b = sqrt(ly^2 + xy^2)\n",
    "        c = sqrt(lz^2 + xz^2 + yz^2) \n",
    "        \n",
    "        α = acos((xy*xz + ly*yz) / (b*c))\n",
    "        β = acos(xz / c)\n",
    "        γ = acos(xy / b)\n",
    "        \n",
    "        # generate box\n",
    "        box = Box(a, b, c, α, β, γ)\n",
    "    end\n",
    "\n",
    "    ###\n",
    "    #  get number of atoms\n",
    "    ###\n",
    "    n_atoms = parse(Int, lines[4])\n",
    "\n",
    "    ###\n",
    "    #  get atom coords from xyz file\n",
    "    #   (not from LAMMPS output file b/c types are opaque)\n",
    "    ###\n",
    "    xyz_filename = structurename * \"_mov.xyz\"\n",
    "    run(pipeline(`tail -$(n_atoms+2) $xyz_filename`, \"temp.xyz\"))\n",
    "    atoms = read_xyz(\"temp.xyz\")\n",
    "    rm(\"temp.xyz\")\n",
    "    # x = zeros(3, n_atoms)\n",
    "    # for i = 1:n_atoms\n",
    "    #     x_i = split.(lines[9+i])[3:end]\n",
    "    #     for k = 1:3\n",
    "    #         x[k, i] = parse(Float64, x_i[k])\n",
    "    #     end\n",
    "    # end\n",
    "\n",
    "    ###\n",
    "    #  construct Crystal\n",
    "    ###\n",
    "    # Crystal(name::String, box::Box, atoms::Atoms{Frac}, charges::Charges{Frac})\n",
    "    return Crystal(structurename * \"_lammps\", box, Frac(atoms, box), Charges{Frac}(0))\n",
    "end"
   ]
  },
  {
   "cell_type": "code",
   "execution_count": 6,
   "metadata": {},
   "outputs": [],
   "source": [
    "# structure = \"NiPyC2_relax_sc211_meta_functionalized_CH2-CH3\"\n",
    "# file = joinpath(\"CH2-CH3\",structure)\n",
    "# xtal = lammps_output_to_crystal(file)\n",
    "# xtal.box"
   ]
  },
  {
   "cell_type": "code",
   "execution_count": 7,
   "metadata": {},
   "outputs": [
    {
     "data": {
      "text/plain": [
       "2-element Array{String,1}:\n",
       " \"meta\"\n",
       " \"ortho\""
      ]
     },
     "execution_count": 7,
     "metadata": {},
     "output_type": "execute_result"
    }
   ],
   "source": [
    "# # The name of the fragment\n",
    "# # file must be a .xyz file located in ./fragments/\n",
    "# # The atom species that is bonded to the\n",
    "# # :C_aro_R atom on the ring segment of the Fragment\n",
    "fragments_with_overlap = [\"C-3CH3\", \"CH2-CH2-CH3\", \"CH2-CH3\",\"CH2-NH2\",\n",
    "                          \"CH-CH2\", \"N-2CH3\", \"O-CH2-CH2-CH3\",\n",
    "                          \"O-CH2-CH3\", \"O-CH3\", \"P-2CH3\", \"PH2\"]\n",
    "\n",
    "# fragments_with_overlap = [\"CH2-NH2\"]\n",
    "\n",
    "# # The type of Arene Substitution (\"ortho\", \"meta\", \"all\") \n",
    "# # TODO: \"all\" not yet implimented\n",
    "substitution_types = [\"meta\", \"ortho\"]"
   ]
  },
  {
   "cell_type": "code",
   "execution_count": 8,
   "metadata": {
    "scrolled": false
   },
   "outputs": [
    {
     "name": "stdout",
     "output_type": "stream",
     "text": [
      "/home/ng/DTRA/lammps_sims/C-3CH3\n",
      " Getting xtal box from lammps sim. \n"
     ]
    },
    {
     "name": "stderr",
     "output_type": "stream",
     "text": [
      "┌ Warning: NiPyC2_relax_sc211_meta_functionalized_C-3CH3 has overlapping atoms before wrapped to unit cell\n",
      "└ @ Main In[8]:11\n",
      "┌ Warning: NiPyC2_relax_sc211_meta_functionalized_C-3CH3 has overlapping atoms when wrapped to unit cell\n",
      "└ @ Main In[8]:18\n"
     ]
    },
    {
     "name": "stdout",
     "output_type": "stream",
     "text": [
      "NiPyC2_relax_sc211_meta_functionalized_C-3CH3_lammps\n",
      " Getting xtal box from lammps sim. \n",
      "NiPyC2_relax_sc211_ortho_functionalized_C-3CH3_lammps\n",
      "/home/ng/DTRA/lammps_sims/CH2-CH2-CH3\n",
      " Getting xtal box from lammps sim. \n",
      "NiPyC2_relax_sc211_meta_functionalized_CH2-CH2-CH3_lammps\n",
      " Getting xtal box from lammps sim. \n",
      "NiPyC2_relax_sc211_ortho_functionalized_CH2-CH2-CH3_lammps\n",
      "/home/ng/DTRA/lammps_sims/CH2-CH3\n",
      " Getting xtal box from lammps sim. \n",
      "NiPyC2_relax_sc211_meta_functionalized_CH2-CH3_lammps\n",
      " Getting xtal box from lammps sim. \n",
      "NiPyC2_relax_sc211_ortho_functionalized_CH2-CH3_lammps\n",
      "/home/ng/DTRA/lammps_sims/CH2-NH2\n",
      " Getting xtal box from lammps sim. \n"
     ]
    },
    {
     "name": "stderr",
     "output_type": "stream",
     "text": [
      "┌ Warning: NiPyC2_relax_sc211_ortho_functionalized_C-3CH3 has overlapping atoms before wrapped to unit cell\n",
      "└ @ Main In[8]:11\n",
      "┌ Warning: NiPyC2_relax_sc211_ortho_functionalized_C-3CH3 has overlapping atoms when wrapped to unit cell\n",
      "└ @ Main In[8]:18\n"
     ]
    },
    {
     "name": "stdout",
     "output_type": "stream",
     "text": [
      "NiPyC2_relax_sc211_meta_functionalized_CH2-NH2_lammps\n",
      " Getting xtal box from lammps sim. \n",
      "NiPyC2_relax_sc211_ortho_functionalized_CH2-NH2_lammps\n",
      "/home/ng/DTRA/lammps_sims/CH-CH2\n",
      " Getting xtal box from lammps sim. \n",
      "NiPyC2_relax_sc211_meta_functionalized_CH-CH2_lammps\n",
      " Getting xtal box from lammps sim. \n",
      "NiPyC2_relax_sc211_ortho_functionalized_CH-CH2_lammps\n",
      "/home/ng/DTRA/lammps_sims/N-2CH3\n",
      " Getting xtal box from lammps sim. \n",
      "NiPyC2_relax_sc211_meta_functionalized_N-2CH3_lammps\n",
      " Getting xtal box from lammps sim. \n",
      "NiPyC2_relax_sc211_ortho_functionalized_N-2CH3_lammps\n",
      "/home/ng/DTRA/lammps_sims/O-CH2-CH2-CH3\n",
      " Getting xtal box from lammps sim. \n",
      "NiPyC2_relax_sc211_meta_functionalized_O-CH2-CH2-CH3_lammps\n",
      " Getting xtal box from lammps sim. \n",
      "NiPyC2_relax_sc211_ortho_functionalized_O-CH2-CH2-CH3_lammps\n",
      "/home/ng/DTRA/lammps_sims/O-CH2-CH3\n",
      " Getting xtal box from lammps sim. \n",
      "NiPyC2_relax_sc211_meta_functionalized_O-CH2-CH3_lammps\n",
      " Getting xtal box from lammps sim. \n",
      "NiPyC2_relax_sc211_ortho_functionalized_O-CH2-CH3_lammps\n",
      "/home/ng/DTRA/lammps_sims/O-CH3\n",
      " Getting xtal box from lammps sim. \n",
      "NiPyC2_relax_sc211_meta_functionalized_O-CH3_lammps\n",
      " Getting xtal box from lammps sim. \n",
      "NiPyC2_relax_sc211_ortho_functionalized_O-CH3_lammps\n",
      "/home/ng/DTRA/lammps_sims/P-2CH3\n",
      " Getting xtal box from lammps sim. \n",
      "NiPyC2_relax_sc211_meta_functionalized_P-2CH3_lammps\n",
      " Getting xtal box from lammps sim. \n",
      "NiPyC2_relax_sc211_ortho_functionalized_P-2CH3_lammps\n",
      "/home/ng/DTRA/lammps_sims/PH2\n",
      " Getting xtal box from lammps sim. \n",
      "NiPyC2_relax_sc211_meta_functionalized_PH2_lammps\n",
      " Getting xtal box from lammps sim. \n",
      "NiPyC2_relax_sc211_ortho_functionalized_PH2_lammps\n"
     ]
    },
    {
     "name": "stderr",
     "output_type": "stream",
     "text": [
      "┌ Warning: NiPyC2_relax_sc211_ortho_functionalized_P-2CH3 has overlapping atoms before wrapped to unit cell\n",
      "└ @ Main In[8]:11\n",
      "┌ Warning: NiPyC2_relax_sc211_ortho_functionalized_P-2CH3 has overlapping atoms when wrapped to unit cell\n",
      "└ @ Main In[8]:18\n"
     ]
    }
   ],
   "source": [
    "for fragment in fragments_with_overlap\n",
    "    # move into dir containing lammps sims of fragment\n",
    "    cd(fragment)\n",
    "    println(pwd())\n",
    "    for sub_type in substitution_types\n",
    "        structurename = \"NiPyC2_relax_sc211_\" * sub_type * \"_functionalized_\" * fragment\n",
    "        xtal = lammps_output_to_crystal(structurename) # exp_crystal.box\n",
    "        # check for overlapping atoms before wrapping to unit cell\n",
    "        overlap_flag, overlap_pairs = overlap(xtal)\n",
    "        if overlap_flag\n",
    "            @warn structurename * \" has overlapping atoms before wrapped to unit cell\"\n",
    "        end\n",
    "        # make sure all of the atoms are inside the box \n",
    "        wrap!(xtal)        \n",
    "        # check for overlapping atoms after wrapping to unit cell\n",
    "        overlap_flag, overlap_pairs = overlap(xtal)\n",
    "        if overlap_flag\n",
    "            @warn structurename * \" has overlapping atoms when wrapped to unit cell\"\n",
    "        end\n",
    "        # write cif and xyz files\n",
    "        write_cif(xtal, structurename * \"_lammps.cif\")\n",
    "        strip_numbers_from_atom_labels!(xtal)\n",
    "        write_xyz(xtal)\n",
    "        println(xtal.name)\n",
    "    end\n",
    "    # move back into parent dir\n",
    "    cd(\"..\")\n",
    "    @assert pwd() == \"/home/ng/DTRA/lammps_sims\"\n",
    "end    "
   ]
  },
  {
   "cell_type": "code",
   "execution_count": 9,
   "metadata": {},
   "outputs": [],
   "source": [
    "# xtal.box .== crystal.box.f_to_c"
   ]
  }
 ],
 "metadata": {
  "kernelspec": {
   "display_name": "Julia 1.4.2",
   "language": "julia",
   "name": "julia-1.4"
  },
  "language_info": {
   "file_extension": ".jl",
   "mimetype": "application/julia",
   "name": "julia",
   "version": "1.4.2"
  }
 },
 "nbformat": 4,
 "nbformat_minor": 2
}
